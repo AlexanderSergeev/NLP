{
 "cells": [
  {
   "cell_type": "code",
   "execution_count": 1,
   "metadata": {
    "slideshow": {
     "slide_type": "slide"
    }
   },
   "outputs": [],
   "source": [
    "import numpy as np\n",
    "def average_precision_at_k(theta, labels, k, dist_fn):\n",
    "    dist = dist_fn(theta)\n",
    "    np.fill_diagonal(dist, np.inf)\n",
    "    idx = np.argpartition(dist, k - 1)[:k, :]\n",
    "    return np.mean(labels[idx] == labels[None, :])"
   ]
  },
  {
   "cell_type": "code",
   "execution_count": 2,
   "metadata": {
    "slideshow": {
     "slide_type": "slide"
    }
   },
   "outputs": [
    {
     "data": {
      "text/plain": [
       "array([0.09, 0.01, 0.15, 0.17, 0.23, 0.43, 0.46, 0.6 , 0.65, 0.81])"
      ]
     },
     "execution_count": 2,
     "metadata": {},
     "output_type": "execute_result"
    }
   ],
   "source": [
    "a = np.random.rand(10)\n",
    "b = a[np.argpartition(a, 3)]\n",
    "np.around(b,2)"
   ]
  },
  {
   "cell_type": "code",
   "execution_count": 3,
   "metadata": {
    "slideshow": {
     "slide_type": "slide"
    }
   },
   "outputs": [],
   "source": [
    "from sklearn.metrics.pairwise import cosine_distances, euclidean_distances\n",
    "\n",
    "def hellinger(theta):\n",
    "    return euclidean_distances(np.sqrt(theta))\n",
    "\n",
    "def dot(theta):\n",
    "    return 1 - np.dot(theta, theta.transpose())"
   ]
  },
  {
   "cell_type": "code",
   "execution_count": 25,
   "metadata": {
    "slideshow": {
     "slide_type": "slide"
    }
   },
   "outputs": [],
   "source": [
    "from numba import jit, prange, autojit"
   ]
  },
  {
   "cell_type": "code",
   "execution_count": 31,
   "metadata": {
    "slideshow": {
     "slide_type": "slide"
    }
   },
   "outputs": [],
   "source": [
    "@jit(nopython = True, parallel = True)\n",
    "def outer(X, fn):\n",
    "    dist = np.empty((X.shape[0], X.shape[0]), dtype = np.float32)\n",
    "    for i in prange(X.shape[0]):\n",
    "        for j in prange(i):\n",
    "            dist[j,i] = dist[i,j] = fn(X[i,:], X[j,:])           \n",
    "    return dist"
   ]
  },
  {
   "cell_type": "code",
   "execution_count": 29,
   "metadata": {
    "slideshow": {
     "slide_type": "slide"
    }
   },
   "outputs": [],
   "source": [
    "a = np.random.rand(1000, 32).astype(np.float32)"
   ]
  },
  {
   "cell_type": "code",
   "execution_count": 7,
   "metadata": {
    "slideshow": {
     "slide_type": "slide"
    }
   },
   "outputs": [
    {
     "name": "stdout",
     "output_type": "stream",
     "text": [
      "494 ms ± 16.5 ms per loop (mean ± std. dev. of 7 runs, 1 loop each)\n"
     ]
    }
   ],
   "source": [
    "%%timeit\n",
    "dist = np.empty((a.shape[0], a.shape[0]), dtype = np.float32)\n",
    "for i in range(a.shape[0]):\n",
    "    for j in range(i):\n",
    "        dist[i,j] = dist[j,i] = np.dot(a[i,:], a[j,:])"
   ]
  },
  {
   "cell_type": "code",
   "execution_count": 8,
   "metadata": {
    "slideshow": {
     "slide_type": "slide"
    }
   },
   "outputs": [],
   "source": [
    "@jit(nopython = True)\n",
    "def _dot(x,y):\n",
    "    return np.dot(x,y)"
   ]
  },
  {
   "cell_type": "code",
   "execution_count": 30,
   "metadata": {
    "slideshow": {
     "slide_type": "slide"
    }
   },
   "outputs": [
    {
     "name": "stdout",
     "output_type": "stream",
     "text": [
      "20.9 ms ± 137 µs per loop (mean ± std. dev. of 7 runs, 10 loops each)\n"
     ]
    }
   ],
   "source": [
    "%%timeit\n",
    "dist = outer(a, _dot)"
   ]
  },
  {
   "cell_type": "code",
   "execution_count": 10,
   "metadata": {
    "slideshow": {
     "slide_type": "slide"
    }
   },
   "outputs": [
    {
     "name": "stdout",
     "output_type": "stream",
     "text": [
      "1.48 ms ± 24.6 µs per loop (mean ± std. dev. of 7 runs, 1000 loops each)\n"
     ]
    }
   ],
   "source": [
    "%%timeit\n",
    "np.dot(a, a.transpose())"
   ]
  },
  {
   "cell_type": "code",
   "execution_count": 11,
   "metadata": {
    "slideshow": {
     "slide_type": "slide"
    }
   },
   "outputs": [],
   "source": [
    "@jit(nopython = True)\n",
    "def kl(p, q):\n",
    "    return np.dot(p, np.log(q / p))"
   ]
  },
  {
   "cell_type": "code",
   "execution_count": 12,
   "metadata": {
    "slideshow": {
     "slide_type": "slide"
    }
   },
   "outputs": [],
   "source": [
    "@jit(nopython = True)\n",
    "def sym_kl(p, q):\n",
    "    return kl(p, q) + kl(q, p)"
   ]
  },
  {
   "cell_type": "code",
   "execution_count": 13,
   "metadata": {
    "slideshow": {
     "slide_type": "slide"
    }
   },
   "outputs": [],
   "source": [
    "@jit(nopython = True)\n",
    "def js(p, q):\n",
    "    m = (p + q) / 2\n",
    "    return kl(p, m) / 2 + kl(q, m) / 2"
   ]
  },
  {
   "cell_type": "code",
   "execution_count": 14,
   "metadata": {
    "slideshow": {
     "slide_type": "slide"
    }
   },
   "outputs": [],
   "source": [
    "@jit(nopython = True)\n",
    "def overlap(p, q):\n",
    "    return 1 - np.sum(np.minimum(p,q))"
   ]
  },
  {
   "cell_type": "code",
   "execution_count": 15,
   "metadata": {
    "slideshow": {
     "slide_type": "slide"
    }
   },
   "outputs": [],
   "source": [
    "@jit(nopython = True)\n",
    "def l1_norm(p, q):\n",
    "    return np.sum(np.abs(p - q))"
   ]
  },
  {
   "cell_type": "code",
   "execution_count": 16,
   "metadata": {
    "slideshow": {
     "slide_type": "slide"
    }
   },
   "outputs": [],
   "source": [
    "@jit(nopython = True)\n",
    "def bc(p, q):\n",
    "    return -np.log(np.sum(np.sqrt(p * q)))"
   ]
  },
  {
   "cell_type": "code",
   "execution_count": 17,
   "metadata": {
    "slideshow": {
     "slide_type": "slide"
    }
   },
   "outputs": [],
   "source": [
    "dist_fns = {'cosine' : cosine_distances,\n",
    "            'eucl' : euclidean_distances,\n",
    "            'hellinger' : hellinger,\n",
    "            'dot' : dot,\n",
    "            'sym_kl' : lambda x: outer(x, sym_kl),\n",
    "            'js' : lambda x: outer(x, js),\n",
    "            'overlap': lambda x: outer(x, overlap),\n",
    "            'l1' : lambda x: outer(x, l1_norm),\n",
    "            'bc' : lambda x: outer(x, bc)}"
   ]
  },
  {
   "cell_type": "code",
   "execution_count": 18,
   "metadata": {
    "slideshow": {
     "slide_type": "slide"
    }
   },
   "outputs": [],
   "source": [
    "def eval_topic_model(model, labels, k = 100, dist_fns = dist_fns):\n",
    "    theta = model.get_theta()\n",
    "    theta = np.asarray(theta, dtype = np.float32)\n",
    "    theta = theta.transpose()\n",
    "    best_score = 0\n",
    "    best_dist = None\n",
    "    for (dist, f) in dist_fns.items():\n",
    "        score = average_precision_at_k(theta, labels, 100, f)\n",
    "        if score > best_score:\n",
    "            best_score, best_dist = score, dist\n",
    "    return best_score, best_dist"
   ]
  },
  {
   "cell_type": "code",
   "execution_count": 19,
   "metadata": {
    "slideshow": {
     "slide_type": "slide"
    }
   },
   "outputs": [],
   "source": [
    "from sklearn.datasets import fetch_20newsgroups\n",
    "cats = ['rec.autos', 'rec.motorcycles',\n",
    "        'sci.crypt', 'sci.electronics', \n",
    "        'sci.med', 'sci.space',\n",
    "        'talk.politics.guns', 'talk.religion.misc',\n",
    "        'rec.sport.baseball', 'rec.sport.hockey']\n",
    "newsgroups = fetch_20newsgroups(subset = 'all', categories=cats)"
   ]
  },
  {
   "cell_type": "code",
   "execution_count": 20,
   "metadata": {
    "slideshow": {
     "slide_type": "slide"
    }
   },
   "outputs": [],
   "source": [
    "import spacy\n",
    "model = spacy.load('en', disable = ['parser','ner'])\n",
    "\n",
    "def tokenize(string):\n",
    "    return [w.lemma_ for w in model(string) if w.pos_ not in {'SPACE','PUNCT'}]"
   ]
  },
  {
   "cell_type": "code",
   "execution_count": 21,
   "metadata": {
    "slideshow": {
     "slide_type": "slide"
    }
   },
   "outputs": [],
   "source": [
    "from sklearn.feature_extraction.text import CountVectorizer\n",
    "vectorizer = CountVectorizer(min_df = 10, max_df = 0.3, tokenizer = tokenize, lowercase = False)\n",
    "tdm = vectorizer.fit_transform(newsgroups['data']).transpose()\n",
    "labels = newsgroups['target']"
   ]
  },
  {
   "cell_type": "code",
   "execution_count": 22,
   "metadata": {
    "slideshow": {
     "slide_type": "slide"
    }
   },
   "outputs": [],
   "source": [
    "import artm\n",
    "bv = artm.BatchVectorizer(data_format = 'bow_n_wd', n_wd = tdm, vocabulary = vectorizer.get_feature_names())"
   ]
  },
  {
   "cell_type": "code",
   "execution_count": 23,
   "metadata": {
    "slideshow": {
     "slide_type": "slide"
    }
   },
   "outputs": [
    {
     "name": "stdout",
     "output_type": "stream",
     "text": [
      " 5 topics AP@100 = 0.491 (js distance)\n",
      "10 topics AP@100 = 0.594 (js distance)\n",
      "15 topics AP@100 = 0.521 (js distance)\n",
      "20 topics AP@100 = 0.471 (sym_kl distance)\n",
      "25 topics AP@100 = 0.539 (js distance)\n",
      "30 topics AP@100 = 0.558 (js distance)\n",
      "35 topics AP@100 = 0.563 (js distance)\n",
      "40 topics AP@100 = 0.617 (js distance)\n",
      "45 topics AP@100 = 0.505 (js distance)\n",
      "50 topics AP@100 = 0.513 (js distance)\n",
      "55 topics AP@100 = 0.475 (js distance)\n",
      "60 topics AP@100 = 0.438 (bc distance)\n"
     ]
    }
   ],
   "source": [
    "seed = 123\n",
    "for num_topics in range(5, 60 + 1,5):\n",
    "    model = artm.ARTM(num_topics = num_topics, dictionary = bv.dictionary, cache_theta = True, seed = seed)\n",
    "    model.fit_offline(bv, num_collection_passes = 100)\n",
    "    score, dist = eval_topic_model(model, labels)\n",
    "    print(\"%2i topics AP@100 = %.3f (%s distance)\" % (num_topics, score, dist))"
   ]
  },
  {
   "cell_type": "code",
   "execution_count": 24,
   "metadata": {
    "slideshow": {
     "slide_type": "slide"
    }
   },
   "outputs": [
    {
     "name": "stdout",
     "output_type": "stream",
     "text": [
      " 5 topics AP@100 = 0.532 (js distance)\n",
      "10 topics AP@100 = 0.592 (js distance)\n",
      "15 topics AP@100 = 0.540 (sym_kl distance)\n",
      "20 topics AP@100 = 0.545 (sym_kl distance)\n",
      "25 topics AP@100 = 0.609 (js distance)\n",
      "30 topics AP@100 = 0.583 (js distance)\n",
      "35 topics AP@100 = 0.507 (js distance)\n",
      "40 topics AP@100 = 0.575 (sym_kl distance)\n",
      "45 topics AP@100 = 0.602 (sym_kl distance)\n",
      "50 topics AP@100 = 0.668 (sym_kl distance)\n",
      "55 topics AP@100 = 0.638 (sym_kl distance)\n",
      "60 topics AP@100 = 0.561 (sym_kl distance)\n"
     ]
    }
   ],
   "source": [
    "for num_topics in range(5, 60 + 1,5):\n",
    "    model = artm.LDA(num_topics = num_topics, dictionary = bv.dictionary, cache_theta = True, seed = seed)\n",
    "    model.fit_offline(bv, num_collection_passes = 100)\n",
    "    score, dist = eval_topic_model(model, labels)\n",
    "    print(\"%2i topics AP@100 = %.3f (%s distance)\" % (num_topics, score, dist))"
   ]
  }
 ],
 "metadata": {
  "celltoolbar": "Slideshow",
  "kernelspec": {
   "display_name": "Python 3",
   "language": "python",
   "name": "python3"
  },
  "language_info": {
   "codemirror_mode": {
    "name": "ipython",
    "version": 3
   },
   "file_extension": ".py",
   "mimetype": "text/x-python",
   "name": "python",
   "nbconvert_exporter": "python",
   "pygments_lexer": "ipython3",
   "version": "3.6.5"
  }
 },
 "nbformat": 4,
 "nbformat_minor": 2
}
