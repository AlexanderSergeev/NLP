{
 "cells": [
  {
   "cell_type": "code",
   "execution_count": 1,
   "metadata": {},
   "outputs": [],
   "source": [
    "#https://www.machinelearningplus.com/nlp/topic-modeling-gensim-python/\n",
    "import re\n",
    "import numpy as np\n",
    "import pandas as pd\n",
    "from pprint import pprint\n",
    "\n",
    "# Gensim\n",
    "import gensim\n",
    "import gensim.corpora as corpora\n",
    "from gensim.utils import simple_preprocess\n",
    "from gensim.models import CoherenceModel\n",
    "\n",
    "# spacy for lemmatization\n",
    "import spacy\n",
    "\n",
    "# Plotting tools\n",
    "import pyLDAvis\n",
    "import pyLDAvis.gensim\n",
    "import matplotlib.pyplot as plt\n",
    "%matplotlib inline"
   ]
  },
  {
   "cell_type": "code",
   "execution_count": 2,
   "metadata": {},
   "outputs": [
    {
     "name": "stdout",
     "output_type": "stream",
     "text": [
      "['alt.atheism',\n",
      " 'comp.graphics',\n",
      " 'comp.os.ms-windows.misc',\n",
      " 'comp.sys.ibm.pc.hardware',\n",
      " 'comp.sys.mac.hardware',\n",
      " 'comp.windows.x',\n",
      " 'misc.forsale',\n",
      " 'rec.autos',\n",
      " 'rec.motorcycles',\n",
      " 'rec.sport.baseball',\n",
      " 'rec.sport.hockey',\n",
      " 'sci.crypt',\n",
      " 'sci.electronics',\n",
      " 'sci.med',\n",
      " 'sci.space',\n",
      " 'soc.religion.christian',\n",
      " 'talk.politics.guns',\n",
      " 'talk.politics.mideast',\n",
      " 'talk.politics.misc',\n",
      " 'talk.religion.misc']\n"
     ]
    }
   ],
   "source": [
    "from sklearn.datasets import fetch_20newsgroups\n",
    "cats = ['rec.autos', 'rec.motorcycles',\n",
    "        'sci.crypt', 'sci.electronics', \n",
    "        'sci.med', 'sci.space',\n",
    "        'talk.politics.guns', 'talk.religion.misc',\n",
    "        'rec.sport.baseball', 'rec.sport.hockey']\n",
    "cats = None\n",
    "df = fetch_20newsgroups(subset = 'all', categories=cats)\n",
    "\n",
    "from pprint import pprint\n",
    "pprint(list(df.target_names))"
   ]
  },
  {
   "cell_type": "code",
   "execution_count": 3,
   "metadata": {},
   "outputs": [
    {
     "data": {
      "text/plain": [
       "(18846,)"
      ]
     },
     "execution_count": 3,
     "metadata": {},
     "output_type": "execute_result"
    }
   ],
   "source": [
    "df.filenames.shape"
   ]
  },
  {
   "cell_type": "code",
   "execution_count": 4,
   "metadata": {},
   "outputs": [
    {
     "data": {
      "text/plain": [
       "(18846,)"
      ]
     },
     "execution_count": 4,
     "metadata": {},
     "output_type": "execute_result"
    }
   ],
   "source": [
    "df.target.shape"
   ]
  },
  {
   "cell_type": "code",
   "execution_count": 5,
   "metadata": {},
   "outputs": [
    {
     "name": "stderr",
     "output_type": "stream",
     "text": [
      "<input>:5: DeprecationWarning: invalid escape sequence \\S\n",
      "<input>:8: DeprecationWarning: invalid escape sequence \\s\n",
      "<input>:5: DeprecationWarning: invalid escape sequence \\S\n",
      "<input>:8: DeprecationWarning: invalid escape sequence \\s\n",
      "<input>:5: DeprecationWarning: invalid escape sequence \\S\n",
      "<input>:8: DeprecationWarning: invalid escape sequence \\s\n",
      "<ipython-input-5-1eed9f39b362>:5: DeprecationWarning: invalid escape sequence \\S\n",
      "  data = [re.sub('\\S*@\\S*\\s?', '', sent) for sent in data]\n",
      "<ipython-input-5-1eed9f39b362>:8: DeprecationWarning: invalid escape sequence \\s\n",
      "  data = [re.sub('\\s+', ' ', sent) for sent in data]\n"
     ]
    },
    {
     "name": "stdout",
     "output_type": "stream",
     "text": [
      "['From: Mamatha Devineni Ratnam Subject: Pens fans reactions Organization: '\n",
      " 'Post Office, Carnegie Mellon, Pittsburgh, PA Lines: 12 NNTP-Posting-Host: '\n",
      " 'po4.andrew.cmu.edu I am sure some bashers of Pens fans are pretty confused '\n",
      " 'about the lack of any kind of posts about the recent Pens massacre of the '\n",
      " 'Devils. Actually, I am bit puzzled too and a bit relieved. However, I am '\n",
      " 'going to put an end to non-PIttsburghers relief with a bit of praise for the '\n",
      " 'Pens. Man, they are killing those Devils worse than I thought. Jagr just '\n",
      " 'showed you why he is much better than his regular season stats. He is also a '\n",
      " 'lot fo fun to watch in the playoffs. Bowman should let JAgr have a lot of '\n",
      " 'fun in the next couple of games since the Pens are going to beat the pulp '\n",
      " 'out of Jersey anyway. I was very disappointed not to see the Islanders lose '\n",
      " 'the final regular season game. PENS RULE!!! ']\n"
     ]
    }
   ],
   "source": [
    "# Convert to list\n",
    "data = df.data\n",
    "\n",
    "# Remove Emails\n",
    "data = [re.sub('\\S*@\\S*\\s?', '', sent) for sent in data]\n",
    "\n",
    "# Remove new line characters\n",
    "data = [re.sub('\\s+', ' ', sent) for sent in data]\n",
    "\n",
    "# Remove distracting single quotes\n",
    "data = [re.sub(\"\\'\", \"\", sent) for sent in data]\n",
    "\n",
    "pprint(data[:1])"
   ]
  },
  {
   "cell_type": "code",
   "execution_count": 6,
   "metadata": {},
   "outputs": [
    {
     "name": "stdout",
     "output_type": "stream",
     "text": [
      "[['from', 'mamatha', 'devineni', 'ratnam', 'subject', 'pens', 'fans', 'reactions', 'organization', 'post', 'office', 'carnegie', 'mellon', 'pittsburgh', 'pa', 'lines', 'nntp', 'posting', 'host', 'po', 'andrew', 'cmu', 'edu', 'am', 'sure', 'some', 'bashers', 'of', 'pens', 'fans', 'are', 'pretty', 'confused', 'about', 'the', 'lack', 'of', 'any', 'kind', 'of', 'posts', 'about', 'the', 'recent', 'pens', 'massacre', 'of', 'the', 'devils', 'actually', 'am', 'bit', 'puzzled', 'too', 'and', 'bit', 'relieved', 'however', 'am', 'going', 'to', 'put', 'an', 'end', 'to', 'non', 'pittsburghers', 'relief', 'with', 'bit', 'of', 'praise', 'for', 'the', 'pens', 'man', 'they', 'are', 'killing', 'those', 'devils', 'worse', 'than', 'thought', 'jagr', 'just', 'showed', 'you', 'why', 'he', 'is', 'much', 'better', 'than', 'his', 'regular', 'season', 'stats', 'he', 'is', 'also', 'lot', 'fo', 'fun', 'to', 'watch', 'in', 'the', 'playoffs', 'bowman', 'should', 'let', 'jagr', 'have', 'lot', 'of', 'fun', 'in', 'the', 'next', 'couple', 'of', 'games', 'since', 'the', 'pens', 'are', 'going', 'to', 'beat', 'the', 'pulp', 'out', 'of', 'jersey', 'anyway', 'was', 'very', 'disappointed', 'not', 'to', 'see', 'the', 'islanders', 'lose', 'the', 'final', 'regular', 'season', 'game', 'pens', 'rule']]\n"
     ]
    }
   ],
   "source": [
    "def sent_to_words(sentences):\n",
    "    for sentence in sentences:\n",
    "        yield(gensim.utils.simple_preprocess(str(sentence), deacc=True))  # deacc=True removes punctuations\n",
    "\n",
    "data_words = list(sent_to_words(data))\n",
    "\n",
    "print(data_words[:1])"
   ]
  },
  {
   "cell_type": "code",
   "execution_count": 7,
   "metadata": {},
   "outputs": [
    {
     "name": "stdout",
     "output_type": "stream",
     "text": [
      "['from', 'mamatha_devineni_ratnam', 'subject', 'pens', 'fans', 'reactions', 'organization', 'post', 'office', 'carnegie_mellon_pittsburgh_pa', 'lines', 'nntp_posting_host', 'po_andrew_cmu_edu', 'am', 'sure', 'some', 'bashers', 'of', 'pens', 'fans', 'are', 'pretty', 'confused', 'about', 'the', 'lack', 'of', 'any', 'kind', 'of', 'posts', 'about', 'the', 'recent', 'pens', 'massacre', 'of', 'the', 'devils', 'actually', 'am', 'bit', 'puzzled', 'too', 'and', 'bit', 'relieved', 'however', 'am', 'going', 'to', 'put', 'an', 'end', 'to', 'non', 'pittsburghers', 'relief', 'with', 'bit', 'of', 'praise', 'for', 'the', 'pens', 'man', 'they', 'are', 'killing', 'those', 'devils', 'worse', 'than', 'thought', 'jagr', 'just', 'showed', 'you', 'why', 'he', 'is', 'much', 'better', 'than', 'his', 'regular_season', 'stats', 'he', 'is', 'also', 'lot', 'fo', 'fun', 'to', 'watch', 'in', 'the', 'playoffs', 'bowman', 'should', 'let', 'jagr', 'have', 'lot', 'of', 'fun', 'in', 'the', 'next', 'couple', 'of', 'games', 'since', 'the', 'pens', 'are', 'going', 'to', 'beat', 'the', 'pulp', 'out', 'of', 'jersey', 'anyway', 'was', 'very', 'disappointed', 'not', 'to', 'see', 'the', 'islanders', 'lose', 'the', 'final_regular_season', 'game', 'pens', 'rule']\n"
     ]
    }
   ],
   "source": [
    "# Build the bigram and trigram models\n",
    "bigram = gensim.models.Phrases(data_words, min_count=5, threshold=100) # higher threshold fewer phrases.\n",
    "trigram = gensim.models.Phrases(bigram[data_words], threshold=100)  \n",
    "\n",
    "# Faster way to get a sentence clubbed as a trigram/bigram\n",
    "bigram_mod = gensim.models.phrases.Phraser(bigram)\n",
    "trigram_mod = gensim.models.phrases.Phraser(trigram)\n",
    "\n",
    "# See trigram example\n",
    "print(trigram_mod[bigram_mod[data_words[0]]])"
   ]
  },
  {
   "cell_type": "code",
   "execution_count": 8,
   "metadata": {},
   "outputs": [
    {
     "name": "stdout",
     "output_type": "stream",
     "text": [
      "[nltk_data] Downloading package stopwords to\n",
      "[nltk_data]     C:\\Users\\aserg\\AppData\\Roaming\\nltk_data...\n",
      "[nltk_data]   Package stopwords is already up-to-date!\n"
     ]
    }
   ],
   "source": [
    "# NLTK Stop words\n",
    "import nltk; nltk.download('stopwords')\n",
    "from nltk.corpus import stopwords\n",
    "stop_words = stopwords.words('english')\n",
    "stop_words.extend(['from', 'subject', 're', 'edu', 'use'])\n",
    "\n",
    "# Define functions for stopwords, bigrams, trigrams and lemmatization\n",
    "def remove_stopwords(texts):\n",
    "    return [[word for word in simple_preprocess(str(doc)) if word not in stop_words] for doc in texts]\n",
    "\n",
    "def make_bigrams(texts):\n",
    "    return [bigram_mod[doc] for doc in texts]\n",
    "\n",
    "def make_trigrams(texts):\n",
    "    return [trigram_mod[bigram_mod[doc]] for doc in texts]\n",
    "\n",
    "def lemmatization(texts, allowed_postags=['NOUN', 'ADJ', 'VERB', 'ADV']):\n",
    "    \"\"\"https://spacy.io/api/annotation\"\"\"\n",
    "    texts_out = []\n",
    "    for sent in texts:\n",
    "        doc = nlp(\" \".join(sent)) \n",
    "        texts_out.append([token.lemma_ for token in doc if token.pos_ in allowed_postags])\n",
    "    return texts_out"
   ]
  },
  {
   "cell_type": "code",
   "execution_count": 9,
   "metadata": {},
   "outputs": [
    {
     "name": "stdout",
     "output_type": "stream",
     "text": [
      "[['mamatha_devineni', 'ratnam', 'pen', 'fan', 'reaction', 'organization', 'post', 'office', 'carnegie_mellon', 'pittsburgh_pa', 'line', 'nntp_post', 'host', 'po_andrew', 'sure', 'basher', 'pen', 'fan', 'pretty', 'confused', 'lack', 'kind', 'post', 'recent', 'pen', 'massacre', 'devil', 'actually', 'bite', 'puzzled', 'bit', 'relieved', 'however', 'go', 'put', 'end', 'non', 'pittsburgher', 'relief', 'bit', 'praise', 'pen', 'man', 'kill', 'devil', 'worse', 'think', 'jagr', 'show', 'much', 'good', 'regular_season', 'stat', 'also', 'lot', 'fun', 'watch', 'playoff', 'bowman', 'let', 'jagr', 'lot', 'fun', 'next', 'couple', 'game', 'pen', 'go', 'beat', 'pulp', 'jersey', 'anyway', 'disappointed', 'see', 'islander', 'lose', 'final', 'regular_season', 'game', 'pen', 'rule']]\n"
     ]
    }
   ],
   "source": [
    "# Remove Stop Words\n",
    "data_words_nostops = remove_stopwords(data_words)\n",
    "\n",
    "# Form Bigrams\n",
    "data_words_bigrams = make_bigrams(data_words_nostops)\n",
    "\n",
    "# Initialize spacy 'en' model, keeping only tagger component (for efficiency)\n",
    "# !python -m spacy download en\n",
    "nlp = spacy.load('en', disable=['parser', 'ner'])\n",
    "\n",
    "# Do lemmatization keeping only noun, adj, vb, adv\n",
    "data_lemmatized = lemmatization(data_words_bigrams, allowed_postags=['NOUN', 'ADJ', 'VERB', 'ADV'])\n",
    "\n",
    "print(data_lemmatized[:1])"
   ]
  },
  {
   "cell_type": "code",
   "execution_count": 10,
   "metadata": {},
   "outputs": [
    {
     "name": "stdout",
     "output_type": "stream",
     "text": [
      "[[(0, 1), (1, 1), (2, 1), (3, 1), (4, 1), (5, 2), (6, 1), (7, 1), (8, 1), (9, 1), (10, 1), (11, 2), (12, 1), (13, 1), (14, 2), (15, 1), (16, 2), (17, 2), (18, 2), (19, 1), (20, 1), (21, 1), (22, 1), (23, 2), (24, 1), (25, 1), (26, 1), (27, 1), (28, 1), (29, 1), (30, 1), (31, 2), (32, 1), (33, 1), (34, 1), (35, 1), (36, 1), (37, 1), (38, 1), (39, 1), (40, 1), (41, 6), (42, 1), (43, 1), (44, 1), (45, 1), (46, 2), (47, 1), (48, 1), (49, 1), (50, 1), (51, 1), (52, 1), (53, 1), (54, 1), (55, 2), (56, 1), (57, 1), (58, 1), (59, 1), (60, 1), (61, 1), (62, 1), (63, 1), (64, 1), (65, 1)]]\n"
     ]
    }
   ],
   "source": [
    "# Create Dictionary\n",
    "id2word = corpora.Dictionary(data_lemmatized)\n",
    "\n",
    "# Create Corpus\n",
    "texts = data_lemmatized\n",
    "\n",
    "# Term Document Frequency\n",
    "corpus = [id2word.doc2bow(text) for text in texts]\n",
    "\n",
    "# View\n",
    "print(corpus[:1])"
   ]
  },
  {
   "cell_type": "code",
   "execution_count": 11,
   "metadata": {},
   "outputs": [
    {
     "data": {
      "text/plain": [
       "[[('actually', 1),\n",
       "  ('also', 1),\n",
       "  ('anyway', 1),\n",
       "  ('basher', 1),\n",
       "  ('beat', 1),\n",
       "  ('bit', 2),\n",
       "  ('bite', 1),\n",
       "  ('bowman', 1),\n",
       "  ('carnegie_mellon', 1),\n",
       "  ('confused', 1),\n",
       "  ('couple', 1),\n",
       "  ('devil', 2),\n",
       "  ('disappointed', 1),\n",
       "  ('end', 1),\n",
       "  ('fan', 2),\n",
       "  ('final', 1),\n",
       "  ('fun', 2),\n",
       "  ('game', 2),\n",
       "  ('go', 2),\n",
       "  ('good', 1),\n",
       "  ('host', 1),\n",
       "  ('however', 1),\n",
       "  ('islander', 1),\n",
       "  ('jagr', 2),\n",
       "  ('jersey', 1),\n",
       "  ('kill', 1),\n",
       "  ('kind', 1),\n",
       "  ('lack', 1),\n",
       "  ('let', 1),\n",
       "  ('line', 1),\n",
       "  ('lose', 1),\n",
       "  ('lot', 2),\n",
       "  ('mamatha_devineni', 1),\n",
       "  ('man', 1),\n",
       "  ('massacre', 1),\n",
       "  ('much', 1),\n",
       "  ('next', 1),\n",
       "  ('nntp_post', 1),\n",
       "  ('non', 1),\n",
       "  ('office', 1),\n",
       "  ('organization', 1),\n",
       "  ('pen', 6),\n",
       "  ('pittsburgh_pa', 1),\n",
       "  ('pittsburgher', 1),\n",
       "  ('playoff', 1),\n",
       "  ('po_andrew', 1),\n",
       "  ('post', 2),\n",
       "  ('praise', 1),\n",
       "  ('pretty', 1),\n",
       "  ('pulp', 1),\n",
       "  ('put', 1),\n",
       "  ('puzzled', 1),\n",
       "  ('ratnam', 1),\n",
       "  ('reaction', 1),\n",
       "  ('recent', 1),\n",
       "  ('regular_season', 2),\n",
       "  ('relief', 1),\n",
       "  ('relieved', 1),\n",
       "  ('rule', 1),\n",
       "  ('see', 1),\n",
       "  ('show', 1),\n",
       "  ('stat', 1),\n",
       "  ('sure', 1),\n",
       "  ('think', 1),\n",
       "  ('watch', 1),\n",
       "  ('worse', 1)]]"
      ]
     },
     "execution_count": 11,
     "metadata": {},
     "output_type": "execute_result"
    }
   ],
   "source": [
    "# Human readable format of corpus (term-frequency)\n",
    "[[(id2word[id], freq) for id, freq in cp] for cp in corpus[:1]]"
   ]
  },
  {
   "cell_type": "code",
   "execution_count": 12,
   "metadata": {},
   "outputs": [],
   "source": [
    "def average_precision_at_k(theta, labels, k, dist_fn):\n",
    "    dist = dist_fn(theta)\n",
    "    np.fill_diagonal(dist, np.inf)\n",
    "    idx = np.argpartition(dist, k-1)[:k,:]\n",
    "    return np.mean(labels[idx] == labels[None,:])"
   ]
  },
  {
   "cell_type": "code",
   "execution_count": 13,
   "metadata": {},
   "outputs": [],
   "source": [
    "from sklearn.metrics.pairwise import cosine_distances, euclidean_distances\n",
    "\n",
    "def hellinger(theta):\n",
    "    return euclidean_distances(np.sqrt(theta))\n",
    "\n",
    "def dot(theta):\n",
    "    return 1 - np.dot(theta, theta.transpose())"
   ]
  },
  {
   "cell_type": "code",
   "execution_count": 14,
   "metadata": {},
   "outputs": [],
   "source": [
    "from numba import jit, prange, autojit"
   ]
  },
  {
   "cell_type": "code",
   "execution_count": 15,
   "metadata": {},
   "outputs": [],
   "source": [
    "@jit(nopython = True, parallel = True)\n",
    "def outer(X, fn):\n",
    "    dist = np.empty((X.shape[0], X.shape[0]), dtype = np.float32)\n",
    "    for i in prange(X.shape[0]):\n",
    "        for j in prange(i):\n",
    "            dist[j,i] = dist[i,j] = fn(X[i,:], X[j,:])           \n",
    "    return dist"
   ]
  },
  {
   "cell_type": "code",
   "execution_count": 16,
   "metadata": {},
   "outputs": [],
   "source": [
    "@jit(nopython = True)\n",
    "def kl(p, q):\n",
    "    return np.dot(p, np.log(q / p))"
   ]
  },
  {
   "cell_type": "code",
   "execution_count": 17,
   "metadata": {},
   "outputs": [],
   "source": [
    "@jit(nopython = True)\n",
    "def sym_kl(p, q):\n",
    "    return kl(p, q) + kl(q, p)"
   ]
  },
  {
   "cell_type": "code",
   "execution_count": 18,
   "metadata": {},
   "outputs": [],
   "source": [
    "@jit(nopython = True)\n",
    "def js(p, q):\n",
    "    m = (p + q) / 2\n",
    "    return kl(p, m) / 2 + kl(q, m) / 2"
   ]
  },
  {
   "cell_type": "code",
   "execution_count": 19,
   "metadata": {},
   "outputs": [],
   "source": [
    "@jit(nopython = True)\n",
    "def bc(p, q):\n",
    "    return -np.log(np.sum(np.sqrt(p * q)))"
   ]
  },
  {
   "cell_type": "code",
   "execution_count": 20,
   "metadata": {},
   "outputs": [],
   "source": [
    "dist_fns = {'cosine' : cosine_distances,\n",
    "            'eucl' : euclidean_distances,\n",
    "            'hellinger' : hellinger,\n",
    "            'dot' : dot,\n",
    "            'sym_kl' : lambda x: outer(x, sym_kl),\n",
    "            'js' : lambda x: outer(x, js),\n",
    "            'bc' : lambda x: outer(x, bc)}"
   ]
  },
  {
   "cell_type": "code",
   "execution_count": 21,
   "metadata": {},
   "outputs": [],
   "source": [
    "from gensim import matutils\n",
    "\n",
    "def eval_topic_model(model, labels, k = 100, dist_fns = dist_fns):\n",
    "    matrix = model.get_document_topics(corpus, minimum_probability=0)\n",
    "    theta = matutils.corpus2dense(matrix, num_docs=len(corpus), num_terms=lda_model.num_topics, dtype = np.float32)\n",
    "    theta = np.asarray(theta, dtype = np.float32)\n",
    "    theta = theta.transpose()\n",
    "    best_score = 0\n",
    "    best_dist = None\n",
    "    for (dist, f) in dist_fns.items():\n",
    "        score = average_precision_at_k(theta, labels, 100, f)\n",
    "        if score > best_score:\n",
    "            best_score, best_dist = score, dist\n",
    "    return best_score, best_dist"
   ]
  },
  {
   "cell_type": "code",
   "execution_count": 26,
   "metadata": {},
   "outputs": [
    {
     "name": "stderr",
     "output_type": "stream",
     "text": [
      "D:\\Anaconda\\lib\\site-packages\\sklearn\\metrics\\pairwise.py:258: RuntimeWarning: invalid value encountered in sqrt\n",
      "  return distances if squared else np.sqrt(distances, out=distances)\n",
      "D:\\Anaconda\\lib\\site-packages\\sklearn\\metrics\\pairwise.py:258: RuntimeWarning: invalid value encountered in sqrt\n",
      "  return distances if squared else np.sqrt(distances, out=distances)\n"
     ]
    },
    {
     "name": "stdout",
     "output_type": "stream",
     "text": [
      " 5 topics AP@100 = 0.454 (bc distance)\n"
     ]
    },
    {
     "name": "stderr",
     "output_type": "stream",
     "text": [
      "D:\\Anaconda\\lib\\site-packages\\sklearn\\metrics\\pairwise.py:258: RuntimeWarning: invalid value encountered in sqrt\n",
      "  return distances if squared else np.sqrt(distances, out=distances)\n",
      "D:\\Anaconda\\lib\\site-packages\\sklearn\\metrics\\pairwise.py:258: RuntimeWarning: invalid value encountered in sqrt\n",
      "  return distances if squared else np.sqrt(distances, out=distances)\n"
     ]
    },
    {
     "name": "stdout",
     "output_type": "stream",
     "text": [
      "10 topics AP@100 = 0.630 (js distance)\n"
     ]
    },
    {
     "name": "stderr",
     "output_type": "stream",
     "text": [
      "D:\\Anaconda\\lib\\site-packages\\sklearn\\metrics\\pairwise.py:258: RuntimeWarning: invalid value encountered in sqrt\n",
      "  return distances if squared else np.sqrt(distances, out=distances)\n",
      "D:\\Anaconda\\lib\\site-packages\\sklearn\\metrics\\pairwise.py:258: RuntimeWarning: invalid value encountered in sqrt\n",
      "  return distances if squared else np.sqrt(distances, out=distances)\n"
     ]
    },
    {
     "name": "stdout",
     "output_type": "stream",
     "text": [
      "15 topics AP@100 = 0.557 (js distance)\n"
     ]
    },
    {
     "name": "stderr",
     "output_type": "stream",
     "text": [
      "D:\\Anaconda\\lib\\site-packages\\sklearn\\metrics\\pairwise.py:258: RuntimeWarning: invalid value encountered in sqrt\n",
      "  return distances if squared else np.sqrt(distances, out=distances)\n",
      "D:\\Anaconda\\lib\\site-packages\\sklearn\\metrics\\pairwise.py:258: RuntimeWarning: invalid value encountered in sqrt\n",
      "  return distances if squared else np.sqrt(distances, out=distances)\n"
     ]
    },
    {
     "name": "stdout",
     "output_type": "stream",
     "text": [
      "20 topics AP@100 = 0.675 (js distance)\n"
     ]
    },
    {
     "name": "stderr",
     "output_type": "stream",
     "text": [
      "D:\\Anaconda\\lib\\site-packages\\sklearn\\metrics\\pairwise.py:258: RuntimeWarning: invalid value encountered in sqrt\n",
      "  return distances if squared else np.sqrt(distances, out=distances)\n",
      "D:\\Anaconda\\lib\\site-packages\\sklearn\\metrics\\pairwise.py:258: RuntimeWarning: invalid value encountered in sqrt\n",
      "  return distances if squared else np.sqrt(distances, out=distances)\n"
     ]
    },
    {
     "name": "stdout",
     "output_type": "stream",
     "text": [
      "25 topics AP@100 = 0.513 (js distance)\n"
     ]
    },
    {
     "name": "stderr",
     "output_type": "stream",
     "text": [
      "D:\\Anaconda\\lib\\site-packages\\sklearn\\metrics\\pairwise.py:258: RuntimeWarning: invalid value encountered in sqrt\n",
      "  return distances if squared else np.sqrt(distances, out=distances)\n",
      "D:\\Anaconda\\lib\\site-packages\\sklearn\\metrics\\pairwise.py:258: RuntimeWarning: invalid value encountered in sqrt\n",
      "  return distances if squared else np.sqrt(distances, out=distances)\n"
     ]
    },
    {
     "name": "stdout",
     "output_type": "stream",
     "text": [
      "30 topics AP@100 = 0.631 (js distance)\n"
     ]
    },
    {
     "name": "stderr",
     "output_type": "stream",
     "text": [
      "D:\\Anaconda\\lib\\site-packages\\sklearn\\metrics\\pairwise.py:258: RuntimeWarning: invalid value encountered in sqrt\n",
      "  return distances if squared else np.sqrt(distances, out=distances)\n",
      "D:\\Anaconda\\lib\\site-packages\\sklearn\\metrics\\pairwise.py:258: RuntimeWarning: invalid value encountered in sqrt\n",
      "  return distances if squared else np.sqrt(distances, out=distances)\n"
     ]
    },
    {
     "name": "stdout",
     "output_type": "stream",
     "text": [
      "35 topics AP@100 = 0.621 (js distance)\n"
     ]
    },
    {
     "name": "stderr",
     "output_type": "stream",
     "text": [
      "D:\\Anaconda\\lib\\site-packages\\sklearn\\metrics\\pairwise.py:258: RuntimeWarning: invalid value encountered in sqrt\n",
      "  return distances if squared else np.sqrt(distances, out=distances)\n",
      "D:\\Anaconda\\lib\\site-packages\\sklearn\\metrics\\pairwise.py:258: RuntimeWarning: invalid value encountered in sqrt\n",
      "  return distances if squared else np.sqrt(distances, out=distances)\n"
     ]
    },
    {
     "name": "stdout",
     "output_type": "stream",
     "text": [
      "40 topics AP@100 = 0.650 (js distance)\n"
     ]
    },
    {
     "name": "stderr",
     "output_type": "stream",
     "text": [
      "D:\\Anaconda\\lib\\site-packages\\sklearn\\metrics\\pairwise.py:258: RuntimeWarning: invalid value encountered in sqrt\n",
      "  return distances if squared else np.sqrt(distances, out=distances)\n",
      "D:\\Anaconda\\lib\\site-packages\\sklearn\\metrics\\pairwise.py:258: RuntimeWarning: invalid value encountered in sqrt\n",
      "  return distances if squared else np.sqrt(distances, out=distances)\n"
     ]
    },
    {
     "name": "stdout",
     "output_type": "stream",
     "text": [
      "45 topics AP@100 = 0.649 (js distance)\n"
     ]
    },
    {
     "name": "stderr",
     "output_type": "stream",
     "text": [
      "D:\\Anaconda\\lib\\site-packages\\sklearn\\metrics\\pairwise.py:258: RuntimeWarning: invalid value encountered in sqrt\n",
      "  return distances if squared else np.sqrt(distances, out=distances)\n",
      "D:\\Anaconda\\lib\\site-packages\\sklearn\\metrics\\pairwise.py:258: RuntimeWarning: invalid value encountered in sqrt\n",
      "  return distances if squared else np.sqrt(distances, out=distances)\n"
     ]
    },
    {
     "name": "stdout",
     "output_type": "stream",
     "text": [
      "50 topics AP@100 = 0.577 (sym_kl distance)\n"
     ]
    },
    {
     "name": "stderr",
     "output_type": "stream",
     "text": [
      "D:\\Anaconda\\lib\\site-packages\\sklearn\\metrics\\pairwise.py:258: RuntimeWarning: invalid value encountered in sqrt\n",
      "  return distances if squared else np.sqrt(distances, out=distances)\n",
      "D:\\Anaconda\\lib\\site-packages\\sklearn\\metrics\\pairwise.py:258: RuntimeWarning: invalid value encountered in sqrt\n",
      "  return distances if squared else np.sqrt(distances, out=distances)\n"
     ]
    },
    {
     "name": "stdout",
     "output_type": "stream",
     "text": [
      "55 topics AP@100 = 0.612 (js distance)\n"
     ]
    },
    {
     "name": "stderr",
     "output_type": "stream",
     "text": [
      "D:\\Anaconda\\lib\\site-packages\\sklearn\\metrics\\pairwise.py:258: RuntimeWarning: invalid value encountered in sqrt\n",
      "  return distances if squared else np.sqrt(distances, out=distances)\n",
      "D:\\Anaconda\\lib\\site-packages\\sklearn\\metrics\\pairwise.py:258: RuntimeWarning: invalid value encountered in sqrt\n",
      "  return distances if squared else np.sqrt(distances, out=distances)\n"
     ]
    },
    {
     "name": "stdout",
     "output_type": "stream",
     "text": [
      "60 topics AP@100 = 0.690 (sym_kl distance)\n"
     ]
    }
   ],
   "source": [
    "for num_topics in range(5, 60 + 1,5):\n",
    "    lda_model = gensim.models.ldamodel.LdaModel(corpus=corpus,\n",
    "                                           id2word=id2word,\n",
    "                                           num_topics=num_topics, \n",
    "                                           random_state=100,\n",
    "                                           update_every=1,\n",
    "                                           chunksize=100,\n",
    "                                           passes=10,\n",
    "                                           alpha='auto',\n",
    "                                           per_word_topics=True)\n",
    "    score, dist = eval_topic_model(lda_model, df.target)\n",
    "    print(\"%2i topics AP@100 = %.3f (%s distance)\" % (num_topics, score, dist))"
   ]
  },
  {
   "cell_type": "code",
   "execution_count": 22,
   "metadata": {},
   "outputs": [],
   "source": [
    "# Build LDA model\n",
    "lda_model = gensim.models.ldamodel.LdaModel(corpus=corpus,\n",
    "                                           id2word=id2word,\n",
    "                                           num_topics=20, \n",
    "                                           random_state=100,\n",
    "                                           update_every=1,\n",
    "                                           chunksize=100,\n",
    "                                           passes=10,\n",
    "                                           alpha='auto',\n",
    "                                           per_word_topics=True)"
   ]
  },
  {
   "cell_type": "code",
   "execution_count": 23,
   "metadata": {
    "scrolled": false
   },
   "outputs": [
    {
     "name": "stdout",
     "output_type": "stream",
     "text": [
      "[(0,\n",
      "  '0.033*\"not\" + 0.025*\"would\" + 0.021*\"do\" + 0.017*\"be\" + 0.015*\"get\" + '\n",
      "  '0.014*\"write\" + 0.012*\"go\" + 0.012*\"good\" + 0.011*\"think\" + 0.011*\"know\"'),\n",
      " (1,\n",
      "  '0.129*\"drive\" + 0.094*\"card\" + 0.072*\"driver\" + 0.036*\"device\" + '\n",
      "  '0.029*\"cpu\" + 0.027*\"scsi\" + 0.027*\"controller\" + 0.026*\"disk\" + '\n",
      "  '0.025*\"board\" + 0.024*\"cable\"'),\n",
      " (2,\n",
      "  '0.079*\"male\" + 0.072*\"mother\" + 0.038*\"matt\" + 0.020*\"honda\" + '\n",
      "  '0.020*\"intelligent\" + 0.011*\"confine\" + 0.009*\"eliot\" + 0.009*\"gene\" + '\n",
      "  '0.006*\"nonetheless\" + 0.006*\"typo\"'),\n",
      " (3,\n",
      "  '0.104*\"server\" + 0.068*\"patient\" + 0.061*\"community\" + 0.046*\"medical\" + '\n",
      "  '0.046*\"doctor\" + 0.039*\"archive\" + 0.027*\"medicine\" + 0.025*\"poster\" + '\n",
      "  '0.024*\"hospital\" + 0.019*\"physician\"'),\n",
      " (4,\n",
      "  '0.059*\"space\" + 0.048*\"research\" + 0.027*\"science\" + 0.025*\"center\" + '\n",
      "  '0.025*\"tool\" + 0.025*\"development\" + 0.023*\"technology\" + 0.021*\"level\" + '\n",
      "  '0.021*\"object\" + 0.019*\"input\"'),\n",
      " (5,\n",
      "  '0.044*\"translation\" + 0.038*\"tor\" + 0.029*\"bos\" + 0.028*\"van\" + 0.026*\"cal\" '\n",
      "  '+ 0.024*\"det\" + 0.023*\"complain\" + 0.022*\"min\" + 0.020*\"wisdom\" + '\n",
      "  '0.019*\"spiritual\"'),\n",
      " (6,\n",
      "  '0.098*\"sale\" + 0.057*\"house\" + 0.038*\"account\" + 0.035*\"pgp\" + '\n",
      "  '0.030*\"secure\" + 0.028*\"pro\" + 0.028*\"illegal\" + 0.027*\"measure\" + '\n",
      "  '0.026*\"effective\" + 0.022*\"alt\"'),\n",
      " (7,\n",
      "  '0.182*\"book\" + 0.031*\"pen\" + 0.029*\"revelation\" + 0.027*\"title\" + '\n",
      "  '0.027*\"publish\" + 0.027*\"aid\" + 0.023*\"page\" + 0.019*\"ed\" + 0.019*\"brother\" '\n",
      "  '+ 0.019*\"reaction\"'),\n",
      " (8,\n",
      "  '0.176*\"key\" + 0.055*\"public\" + 0.052*\"encryption\" + 0.042*\"private\" + '\n",
      "  '0.041*\"government\" + 0.032*\"clipper\" + 0.030*\"medium\" + '\n",
      "  '0.021*\"clipper_chip\" + 0.021*\"secret\" + 0.019*\"announcement\"'),\n",
      " (9,\n",
      "  '0.018*\"say\" + 0.018*\"people\" + 0.015*\"believe\" + 0.011*\"christian\" + '\n",
      "  '0.010*\"may\" + 0.010*\"claim\" + 0.010*\"word\" + 0.009*\"mean\" + 0.008*\"man\" + '\n",
      "  '0.008*\"fact\"'),\n",
      " (10,\n",
      "  '0.110*\"_\" + 0.055*\"bill\" + 0.020*\"oil\" + 0.018*\"william\" + '\n",
      "  '0.018*\"excellent\" + 0.017*\"bat\" + 0.016*\"club\" + 0.016*\"shape\" + '\n",
      "  '0.015*\"late\" + 0.015*\"cambridge\"'),\n",
      " (11,\n",
      "  '0.090*\"motif\" + 0.046*\"judgement\" + 0.029*\"bosnia\" + 0.026*\"catalog\" + '\n",
      "  '0.023*\"struggle\" + 0.020*\"ethic\" + 0.020*\"serb\" + 0.018*\"convenient\" + '\n",
      "  '0.017*\"penn_state\" + 0.013*\"slight\"'),\n",
      " (12,\n",
      "  '0.025*\"government\" + 0.020*\"gun\" + 0.019*\"people\" + 0.018*\"kill\" + '\n",
      "  '0.016*\"child\" + 0.016*\"country\" + 0.015*\"state\" + 0.015*\"american\" + '\n",
      "  '0.015*\"report\" + 0.014*\"fire\"'),\n",
      " (13,\n",
      "  '0.085*\"ax\" + 0.028*\"check\" + 0.022*\"wire\" + 0.022*\"pin\" + 0.019*\"circuit\" + '\n",
      "  '0.016*\"switch\" + 0.016*\"advice\" + 0.015*\"max\" + 0.015*\"basis\" + '\n",
      "  '0.014*\"thoma\"'),\n",
      " (14,\n",
      "  '0.041*\"game\" + 0.034*\"year\" + 0.033*\"team\" + 0.026*\"play\" + 0.017*\"player\" '\n",
      "  '+ 0.017*\"win\" + 0.014*\"fan\" + 0.012*\"first\" + 0.012*\"last\" + '\n",
      "  '0.011*\"season\"'),\n",
      " (15,\n",
      "  '0.055*\"pat\" + 0.040*\"lock\" + 0.033*\"virginia\" + 0.030*\"wheel\" + '\n",
      "  '0.019*\"attend\" + 0.018*\"online_communication\" + 0.017*\"express_access\" + '\n",
      "  '0.013*\"exploration\" + 0.012*\"greenbelt_md\" + 0.011*\"eisa\"'),\n",
      " (16,\n",
      "  '0.082*\"line\" + 0.075*\"organization\" + 0.037*\"university\" + '\n",
      "  '0.032*\"nntp_post\" + 0.029*\"host\" + 0.029*\"write\" + 0.026*\"article\" + '\n",
      "  '0.019*\"reply\" + 0.015*\"anyone\" + 0.015*\"thank\"'),\n",
      " (17,\n",
      "  '0.111*\"chip\" + 0.060*\"apple\" + 0.043*\"unit\" + 0.033*\"psalm\" + '\n",
      "  '0.031*\"battery\" + 0.028*\"signal\" + 0.027*\"ticket\" + 0.027*\"sample\" + '\n",
      "  '0.022*\"channel\" + 0.020*\"scheme\"'),\n",
      " (18,\n",
      "  '0.085*\"access\" + 0.052*\"grant\" + 0.048*\"maintain\" + 0.047*\"motherboard\" + '\n",
      "  '0.032*\"register\" + 0.028*\"familiar\" + 0.023*\"arizona\" + 0.019*\"widely\" + '\n",
      "  '0.019*\"hotel\" + 0.019*\"cs_dept\"'),\n",
      " (19,\n",
      "  '0.030*\"window\" + 0.028*\"system\" + 0.025*\"use\" + 0.023*\"file\" + '\n",
      "  '0.023*\"program\" + 0.019*\"mail\" + 0.018*\"run\" + 0.018*\"image\" + '\n",
      "  '0.017*\"software\" + 0.015*\"include\"')]\n"
     ]
    }
   ],
   "source": [
    "pprint(lda_model.print_topics())"
   ]
  },
  {
   "cell_type": "code",
   "execution_count": 24,
   "metadata": {},
   "outputs": [
    {
     "name": "stderr",
     "output_type": "stream",
     "text": [
      "D:\\Anaconda\\lib\\site-packages\\pyLDAvis\\_prepare.py:257: FutureWarning: Sorting because non-concatenation axis is not aligned. A future version\n",
      "of pandas will change to not sort by default.\n",
      "\n",
      "To accept the future behavior, pass 'sort=True'.\n",
      "\n",
      "To retain the current behavior and silence the warning, pass sort=False\n",
      "\n",
      "  return pd.concat([default_term_info] + list(topic_dfs))\n"
     ]
    },
    {
     "data": {
      "text/html": [
       "\n",
       "<link rel=\"stylesheet\" type=\"text/css\" href=\"https://cdn.rawgit.com/bmabey/pyLDAvis/files/ldavis.v1.0.0.css\">\n",
       "\n",
       "\n",
       "<div id=\"ldavis_el663223290580832486137628578\"></div>\n",
       "<script type=\"text/javascript\">\n",
       "\n",
       "var ldavis_el663223290580832486137628578_data = {\"mdsDat\": {\"x\": [0.3779679441615114, 0.3449531934895653, 0.27840458637514426, 0.2745538899980777, 0.2054683513397675, 0.16442377059097507, -0.03868153887462192, 0.04879222246986031, -0.09187798810784309, -0.052179419473543105, -0.06723250237258313, -0.12087845211005831, -0.11039169407741493, -0.13834173966291707, -0.15757345056318695, -0.1762755933970496, -0.1687895111195859, -0.1913819951834818, -0.18800143657802632, -0.19295863690458814], \"y\": [0.0016623455102896894, 0.09635577639961336, -0.27107844576407836, -0.162221723626226, 0.2210507362188398, 0.22841347456259536, 0.019176372045736002, -0.031528963687605466, 0.0007146062682292695, -0.07882161996292594, -0.027401430147199667, -0.004786370399875586, 0.009224604035181426, -0.002431729244666987, 0.0013551657379827454, 9.055556463830077e-05, -0.0030106098648995877, 0.0009513041297776687, 0.0009096133434533164, 0.0013763388811401636], \"topics\": [1, 2, 3, 4, 5, 6, 7, 8, 9, 10, 11, 12, 13, 14, 15, 16, 17, 18, 19, 20], \"cluster\": [1, 1, 1, 1, 1, 1, 1, 1, 1, 1, 1, 1, 1, 1, 1, 1, 1, 1, 1, 1], \"Freq\": [42.72629165649414, 13.326713562011719, 13.015585899353027, 8.798871040344238, 4.927341461181641, 4.53425407409668, 4.093017578125, 1.841117262840271, 1.4047963619232178, 1.1723963022232056, 0.7349660396575928, 0.6895753741264343, 0.6578508019447327, 0.5726480484008789, 0.42899787425994873, 0.34034401178359985, 0.31522414088249207, 0.1574699878692627, 0.151346355676651, 0.1111886128783226]}, \"tinfo\": {\"Category\": [\"Default\", \"Default\", \"Default\", \"Default\", \"Default\", \"Default\", \"Default\", \"Default\", \"Default\", \"Default\", \"Default\", \"Default\", \"Default\", \"Default\", \"Default\", \"Default\", \"Default\", \"Default\", \"Default\", \"Default\", \"Default\", \"Default\", \"Default\", \"Default\", \"Default\", \"Default\", \"Default\", \"Default\", \"Default\", \"Default\", \"Topic1\", \"Topic1\", \"Topic1\", \"Topic1\", \"Topic1\", \"Topic1\", \"Topic1\", \"Topic1\", \"Topic1\", \"Topic1\", \"Topic1\", \"Topic1\", \"Topic1\", \"Topic1\", \"Topic1\", \"Topic1\", \"Topic1\", \"Topic1\", \"Topic1\", \"Topic1\", \"Topic1\", \"Topic1\", \"Topic1\", \"Topic1\", \"Topic1\", \"Topic1\", \"Topic1\", \"Topic1\", \"Topic1\", \"Topic1\", \"Topic1\", \"Topic1\", \"Topic1\", \"Topic1\", \"Topic1\", \"Topic1\", \"Topic1\", \"Topic1\", \"Topic1\", \"Topic1\", \"Topic1\", \"Topic1\", \"Topic1\", \"Topic1\", \"Topic1\", \"Topic1\", \"Topic1\", \"Topic1\", \"Topic1\", \"Topic1\", \"Topic1\", \"Topic1\", \"Topic1\", \"Topic1\", \"Topic1\", \"Topic1\", \"Topic1\", \"Topic1\", \"Topic2\", \"Topic2\", \"Topic2\", \"Topic2\", \"Topic2\", \"Topic2\", \"Topic2\", \"Topic2\", \"Topic2\", \"Topic2\", \"Topic2\", \"Topic2\", \"Topic2\", \"Topic2\", \"Topic2\", \"Topic2\", \"Topic2\", \"Topic2\", \"Topic2\", \"Topic2\", \"Topic2\", \"Topic2\", \"Topic2\", \"Topic2\", \"Topic2\", \"Topic2\", \"Topic2\", \"Topic2\", \"Topic2\", \"Topic2\", \"Topic2\", \"Topic2\", \"Topic2\", \"Topic2\", \"Topic2\", \"Topic2\", \"Topic2\", \"Topic2\", \"Topic2\", \"Topic2\", \"Topic2\", \"Topic2\", \"Topic2\", \"Topic2\", \"Topic2\", \"Topic2\", \"Topic2\", \"Topic2\", \"Topic2\", \"Topic2\", \"Topic2\", \"Topic2\", \"Topic2\", \"Topic2\", \"Topic2\", \"Topic2\", \"Topic2\", \"Topic3\", \"Topic3\", \"Topic3\", \"Topic3\", \"Topic3\", \"Topic3\", \"Topic3\", \"Topic3\", \"Topic3\", \"Topic3\", \"Topic3\", \"Topic3\", \"Topic3\", \"Topic3\", \"Topic3\", \"Topic3\", \"Topic3\", \"Topic3\", \"Topic3\", \"Topic3\", \"Topic3\", \"Topic3\", \"Topic3\", \"Topic3\", \"Topic3\", \"Topic3\", \"Topic3\", \"Topic3\", \"Topic3\", \"Topic3\", \"Topic3\", \"Topic3\", \"Topic3\", \"Topic3\", \"Topic3\", \"Topic3\", \"Topic3\", \"Topic3\", \"Topic3\", \"Topic3\", \"Topic3\", \"Topic3\", \"Topic3\", \"Topic3\", \"Topic3\", \"Topic3\", \"Topic3\", \"Topic3\", \"Topic3\", \"Topic3\", \"Topic3\", \"Topic3\", \"Topic3\", \"Topic3\", \"Topic3\", \"Topic4\", \"Topic4\", \"Topic4\", \"Topic4\", \"Topic4\", \"Topic4\", \"Topic4\", \"Topic4\", \"Topic4\", \"Topic4\", \"Topic4\", \"Topic4\", \"Topic4\", \"Topic4\", \"Topic4\", \"Topic4\", \"Topic4\", \"Topic4\", \"Topic4\", \"Topic4\", \"Topic4\", \"Topic4\", \"Topic4\", \"Topic4\", \"Topic4\", \"Topic4\", \"Topic4\", \"Topic4\", \"Topic4\", \"Topic4\", \"Topic4\", \"Topic4\", \"Topic4\", \"Topic4\", \"Topic4\", \"Topic4\", \"Topic4\", \"Topic4\", \"Topic4\", \"Topic4\", \"Topic4\", \"Topic4\", \"Topic4\", \"Topic4\", \"Topic4\", \"Topic4\", \"Topic4\", \"Topic4\", \"Topic5\", \"Topic5\", \"Topic5\", \"Topic5\", \"Topic5\", \"Topic5\", \"Topic5\", \"Topic5\", \"Topic5\", \"Topic5\", \"Topic5\", \"Topic5\", \"Topic5\", \"Topic5\", \"Topic5\", \"Topic5\", \"Topic5\", \"Topic5\", \"Topic5\", \"Topic5\", \"Topic5\", \"Topic5\", \"Topic5\", \"Topic5\", \"Topic5\", \"Topic5\", \"Topic5\", \"Topic5\", \"Topic5\", \"Topic5\", \"Topic5\", \"Topic5\", \"Topic5\", \"Topic5\", \"Topic5\", \"Topic5\", \"Topic5\", \"Topic5\", \"Topic5\", \"Topic5\", \"Topic5\", \"Topic5\", \"Topic5\", \"Topic5\", \"Topic5\", \"Topic5\", \"Topic5\", \"Topic5\", \"Topic5\", \"Topic6\", \"Topic6\", \"Topic6\", \"Topic6\", \"Topic6\", \"Topic6\", \"Topic6\", \"Topic6\", \"Topic6\", \"Topic6\", \"Topic6\", \"Topic6\", \"Topic6\", \"Topic6\", \"Topic6\", \"Topic6\", \"Topic6\", \"Topic6\", \"Topic6\", \"Topic6\", \"Topic6\", \"Topic6\", \"Topic6\", \"Topic6\", \"Topic6\", \"Topic6\", \"Topic6\", \"Topic6\", \"Topic6\", \"Topic6\", \"Topic6\", \"Topic6\", \"Topic6\", \"Topic6\", \"Topic6\", \"Topic6\", \"Topic6\", \"Topic6\", \"Topic6\", \"Topic6\", \"Topic6\", \"Topic7\", \"Topic7\", \"Topic7\", \"Topic7\", \"Topic7\", \"Topic7\", \"Topic7\", \"Topic7\", \"Topic7\", \"Topic7\", \"Topic7\", \"Topic7\", \"Topic7\", \"Topic7\", \"Topic7\", \"Topic7\", \"Topic7\", \"Topic7\", \"Topic7\", \"Topic7\", \"Topic7\", \"Topic7\", \"Topic7\", \"Topic7\", \"Topic7\", \"Topic7\", \"Topic7\", \"Topic7\", \"Topic7\", \"Topic7\", \"Topic7\", \"Topic8\", \"Topic8\", \"Topic8\", \"Topic8\", \"Topic8\", \"Topic8\", \"Topic8\", \"Topic8\", \"Topic8\", \"Topic8\", \"Topic8\", \"Topic8\", \"Topic8\", \"Topic8\", \"Topic8\", \"Topic8\", \"Topic8\", \"Topic8\", \"Topic8\", \"Topic8\", \"Topic8\", \"Topic8\", \"Topic8\", \"Topic8\", \"Topic8\", \"Topic8\", \"Topic8\", \"Topic8\", \"Topic8\", \"Topic8\", \"Topic8\", \"Topic8\", \"Topic8\", \"Topic8\", \"Topic8\", \"Topic8\", \"Topic8\", \"Topic8\", \"Topic8\", \"Topic8\", \"Topic8\", \"Topic8\", \"Topic8\", \"Topic8\", \"Topic8\", \"Topic8\", \"Topic8\", \"Topic8\", \"Topic8\", \"Topic9\", \"Topic9\", \"Topic9\", \"Topic9\", \"Topic9\", \"Topic9\", \"Topic9\", \"Topic9\", \"Topic9\", \"Topic9\", \"Topic9\", \"Topic9\", \"Topic9\", \"Topic9\", \"Topic9\", \"Topic9\", \"Topic9\", \"Topic9\", \"Topic9\", \"Topic9\", \"Topic9\", \"Topic9\", \"Topic9\", \"Topic9\", \"Topic9\", \"Topic9\", \"Topic9\", \"Topic9\", \"Topic9\", \"Topic9\", \"Topic9\", \"Topic9\", \"Topic9\", \"Topic9\", \"Topic10\", \"Topic10\", \"Topic10\", \"Topic10\", \"Topic10\", \"Topic10\", \"Topic10\", \"Topic10\", \"Topic10\", \"Topic10\", \"Topic10\", \"Topic10\", \"Topic10\", \"Topic10\", \"Topic10\", \"Topic10\", \"Topic10\", \"Topic10\", \"Topic10\", \"Topic10\", \"Topic10\", \"Topic10\", \"Topic10\", \"Topic10\", \"Topic10\", \"Topic10\", \"Topic10\", \"Topic10\", \"Topic10\", \"Topic10\", \"Topic10\", \"Topic10\", \"Topic10\", \"Topic10\", \"Topic10\", \"Topic10\", \"Topic10\", \"Topic10\", \"Topic10\", \"Topic10\", \"Topic10\", \"Topic10\", \"Topic11\", \"Topic11\", \"Topic11\", \"Topic11\", \"Topic11\", \"Topic11\", \"Topic11\", \"Topic11\", \"Topic11\", \"Topic11\", \"Topic11\", \"Topic11\", \"Topic11\", \"Topic11\", \"Topic11\", \"Topic11\", \"Topic11\", \"Topic11\", \"Topic11\", \"Topic11\", \"Topic11\", \"Topic11\", \"Topic11\", \"Topic11\", \"Topic11\", \"Topic11\", \"Topic11\", \"Topic11\", \"Topic11\", \"Topic11\", \"Topic11\", \"Topic11\", \"Topic11\", \"Topic11\", \"Topic11\", \"Topic11\", \"Topic11\", \"Topic11\", \"Topic11\", \"Topic11\", \"Topic11\", \"Topic11\", \"Topic11\", \"Topic11\", \"Topic11\", \"Topic11\", \"Topic11\", \"Topic11\", \"Topic11\", \"Topic12\", \"Topic12\", \"Topic12\", \"Topic12\", \"Topic12\", \"Topic12\", \"Topic12\", \"Topic12\", \"Topic12\", \"Topic12\", \"Topic12\", \"Topic12\", \"Topic12\", \"Topic12\", \"Topic12\", \"Topic12\", \"Topic12\", \"Topic12\", \"Topic12\", \"Topic12\", \"Topic12\", \"Topic12\", \"Topic12\", \"Topic12\", \"Topic12\", \"Topic12\", \"Topic12\", \"Topic12\", \"Topic12\", \"Topic12\", \"Topic12\", \"Topic13\", \"Topic13\", \"Topic13\", \"Topic13\", \"Topic13\", \"Topic13\", \"Topic13\", \"Topic13\", \"Topic13\", \"Topic13\", \"Topic13\", \"Topic13\", \"Topic13\", \"Topic13\", \"Topic13\", \"Topic13\", \"Topic13\", \"Topic13\", \"Topic13\", \"Topic13\", \"Topic13\", \"Topic13\", \"Topic13\", \"Topic13\", \"Topic13\", \"Topic13\", \"Topic13\", \"Topic13\", \"Topic13\", \"Topic13\", \"Topic13\", \"Topic13\", \"Topic13\", \"Topic13\", \"Topic13\", \"Topic13\", \"Topic13\", \"Topic13\", \"Topic13\", \"Topic13\", \"Topic14\", \"Topic14\", \"Topic14\", \"Topic14\", \"Topic14\", \"Topic14\", \"Topic14\", \"Topic14\", \"Topic14\", \"Topic14\", \"Topic14\", \"Topic14\", \"Topic14\", \"Topic14\", \"Topic14\", \"Topic14\", \"Topic14\", \"Topic14\", \"Topic14\", \"Topic14\", \"Topic14\", \"Topic14\", \"Topic14\", \"Topic14\", \"Topic14\", \"Topic14\", \"Topic14\", \"Topic14\", \"Topic14\", \"Topic14\", \"Topic15\", \"Topic15\", \"Topic15\", \"Topic15\", \"Topic15\", \"Topic15\", \"Topic15\", \"Topic15\", \"Topic15\", \"Topic15\", \"Topic15\", \"Topic15\", \"Topic15\", \"Topic15\", \"Topic15\", \"Topic15\", \"Topic15\", \"Topic15\", \"Topic15\", \"Topic15\", \"Topic15\", \"Topic15\", \"Topic15\", \"Topic15\", \"Topic15\", \"Topic15\", \"Topic15\", \"Topic15\", \"Topic15\", \"Topic15\", \"Topic15\", \"Topic15\", \"Topic15\", \"Topic15\", \"Topic16\", \"Topic16\", \"Topic16\", \"Topic16\", \"Topic16\", \"Topic16\", \"Topic16\", \"Topic16\", \"Topic16\", \"Topic16\", \"Topic16\", \"Topic16\", \"Topic16\", \"Topic16\", \"Topic16\", \"Topic16\", \"Topic16\", \"Topic16\", \"Topic16\", \"Topic16\", \"Topic16\", \"Topic16\", \"Topic16\", \"Topic16\", \"Topic16\", \"Topic16\", \"Topic16\", \"Topic16\", \"Topic16\", \"Topic16\", \"Topic16\", \"Topic17\", \"Topic17\", \"Topic17\", \"Topic17\", \"Topic17\", \"Topic17\", \"Topic17\", \"Topic17\", \"Topic17\", \"Topic17\", \"Topic17\", \"Topic17\", \"Topic17\", \"Topic17\", \"Topic17\", \"Topic17\", \"Topic17\", \"Topic17\", \"Topic17\", \"Topic17\", \"Topic17\", \"Topic17\", \"Topic17\", \"Topic17\", \"Topic17\", \"Topic17\", \"Topic17\", \"Topic17\", \"Topic17\", \"Topic17\", \"Topic17\", \"Topic17\", \"Topic17\", \"Topic18\", \"Topic18\", \"Topic18\", \"Topic18\", \"Topic18\", \"Topic18\", \"Topic18\", \"Topic18\", \"Topic18\", \"Topic18\", \"Topic18\", \"Topic18\", \"Topic18\", \"Topic18\", \"Topic18\", \"Topic18\", \"Topic18\", \"Topic18\", \"Topic18\", \"Topic18\", \"Topic18\", \"Topic18\", \"Topic18\", \"Topic18\", \"Topic18\", \"Topic18\", \"Topic18\", \"Topic18\", \"Topic18\", \"Topic18\", \"Topic18\", \"Topic18\", \"Topic18\", \"Topic18\", \"Topic18\", \"Topic19\", \"Topic19\", \"Topic19\", \"Topic19\", \"Topic19\", \"Topic19\", \"Topic19\", \"Topic19\", \"Topic19\", \"Topic19\", \"Topic19\", \"Topic19\", \"Topic19\", \"Topic19\", \"Topic19\", \"Topic19\", \"Topic19\", \"Topic19\", \"Topic19\", \"Topic19\", \"Topic19\", \"Topic19\", \"Topic19\", \"Topic19\", \"Topic19\", \"Topic19\", \"Topic19\", \"Topic19\", \"Topic19\", \"Topic19\", \"Topic19\", \"Topic19\", \"Topic19\", \"Topic19\", \"Topic20\", \"Topic20\", \"Topic20\", \"Topic20\", \"Topic20\", \"Topic20\", \"Topic20\", \"Topic20\", \"Topic20\", \"Topic20\", \"Topic20\", \"Topic20\", \"Topic20\", \"Topic20\", \"Topic20\", \"Topic20\", \"Topic20\", \"Topic20\", \"Topic20\", \"Topic20\", \"Topic20\", \"Topic20\", \"Topic20\", \"Topic20\", \"Topic20\", \"Topic20\", \"Topic20\", \"Topic20\", \"Topic20\", \"Topic20\", \"Topic20\", \"Topic20\", \"Topic20\", \"Topic20\", \"Topic20\", \"Topic20\", \"Topic20\"], \"Freq\": [31720.0, 28320.0, 37172.0, 9010.0, 12496.0, 25630.0, 10975.0, 18718.0, 9888.0, 14229.0, 8210.0, 27727.0, 9070.0, 3942.0, 4000.0, 3362.0, 6765.0, 19304.0, 11696.0, 3105.0, 23798.0, 4883.0, 15810.0, 4023.0, 5637.0, 2877.0, 6596.0, 5217.0, 4161.0, 3846.0, 19303.541015625, 13697.7216796875, 8736.1875, 7879.64453125, 7801.69580078125, 6653.24755859375, 5440.05224609375, 4965.10693359375, 4458.17041015625, 4345.34521484375, 4296.85986328125, 4199.6083984375, 4015.093505859375, 3897.322509765625, 3573.078857421875, 3427.8837890625, 3325.7373046875, 3219.077392578125, 3173.37451171875, 2939.126953125, 2935.416259765625, 2379.694580078125, 2327.14599609375, 2313.231201171875, 2265.046630859375, 2245.1328125, 2150.497314453125, 2147.284423828125, 2111.40576171875, 2109.19775390625, 37109.48046875, 27266.955078125, 11202.771484375, 23016.623046875, 12821.005859375, 6702.638671875, 17125.986328125, 12570.337890625, 10049.4072265625, 8000.04345703125, 5291.6123046875, 11678.99609375, 5444.9697265625, 5243.79150390625, 12500.4072265625, 7375.7041015625, 6893.5458984375, 6867.0908203125, 6305.7822265625, 15155.3125, 6171.62744140625, 9136.8310546875, 9994.6171875, 7441.74365234375, 6390.27099609375, 5851.4833984375, 5623.38623046875, 5702.73583984375, 3842.5576171875, 2790.5517578125, 2427.57373046875, 2216.43701171875, 2149.1904296875, 1922.4176025390625, 1716.5611572265625, 1712.144775390625, 1629.1856689453125, 1621.3028564453125, 1547.7550048828125, 1529.1717529296875, 1518.333740234375, 1497.7921142578125, 1489.525390625, 1378.199462890625, 1293.19384765625, 1246.634765625, 1106.7880859375, 1001.2152099609375, 997.3797607421875, 975.7549438476562, 938.1631469726562, 914.5242919921875, 902.2169799804688, 863.650146484375, 843.4927978515625, 824.9415893554688, 808.2576904296875, 774.80615234375, 3381.85400390625, 3380.189453125, 1670.424560546875, 1217.524169921875, 5044.76025390625, 2346.846923828125, 2464.956787109375, 1929.5977783203125, 2791.41455078125, 2936.064697265625, 2939.525146484375, 2085.88037109375, 6295.908203125, 2111.21240234375, 6320.7529296875, 3119.9306640625, 2744.78662109375, 2026.3829345703125, 1874.1734619140625, 2310.85693359375, 2925.266357421875, 3476.799072265625, 2614.7314453125, 2212.671875, 1882.0255126953125, 1809.586181640625, 1915.3798828125, 10974.3291015625, 9887.2392578125, 5124.7001953125, 4315.02978515625, 3109.85595703125, 2832.859130859375, 12490.8525390625, 2627.50146484375, 2536.49462890625, 1992.27783203125, 1983.1929931640625, 1935.2003173828125, 1851.573486328125, 1757.3665771484375, 1676.99267578125, 1439.6802978515625, 1317.0870361328125, 1236.9114990234375, 1236.7874755859375, 1215.229248046875, 1113.22216796875, 1077.328369140625, 1058.804931640625, 1046.9119873046875, 920.828125, 891.3916625976562, 884.706787109375, 871.168701171875, 870.33447265625, 865.14892578125, 6511.9013671875, 1940.85693359375, 1723.448974609375, 25249.521484375, 27704.4765625, 2443.70458984375, 2790.1533203125, 2150.398681640625, 2167.94677734375, 5158.443359375, 2465.559326171875, 4866.24951171875, 4021.2119140625, 8722.8486328125, 9841.576171875, 2162.427001953125, 2360.3623046875, 2686.0107421875, 3090.353515625, 2768.80078125, 2150.934326171875, 2309.08251953125, 2145.46826171875, 2302.4306640625, 2341.95947265625, 6764.26220703125, 5215.98486328125, 4116.64892578125, 3774.289306640625, 2817.359130859375, 2411.4345703125, 2386.9677734375, 2366.864990234375, 2110.574462890625, 1597.6402587890625, 1583.87109375, 1508.22314453125, 1438.564208984375, 1424.5517578125, 1410.9085693359375, 1375.78125, 1355.478759765625, 1282.56884765625, 1173.9378662109375, 1166.85302734375, 1011.72705078125, 994.0337524414062, 987.6373901367188, 979.7657470703125, 961.1400146484375, 960.1674194335938, 871.2732543945312, 837.7510375976562, 777.0928955078125, 769.884521484375, 1789.816162109375, 2099.8681640625, 3315.208740234375, 5157.68994140625, 1257.373779296875, 4347.25146484375, 1898.7183837890625, 6306.93603515625, 3201.427001953125, 1379.1624755859375, 4153.7060546875, 3014.51953125, 3463.850341796875, 5644.14013671875, 2612.9375, 2313.19580078125, 2333.17041015625, 1437.6361083984375, 2617.685302734375, 1685.025390625, 1639.708740234375, 1415.330078125, 1382.75634765625, 1130.616943359375, 1109.501953125, 1012.846923828125, 974.8549194335938, 970.5626220703125, 954.3338623046875, 931.487060546875, 857.8684692382812, 802.6074829101562, 781.07177734375, 776.0613403320312, 736.5714721679688, 695.2352905273438, 686.0000610351562, 682.1936645507812, 618.4591064453125, 607.5928344726562, 594.7185668945312, 585.55078125, 584.6527099609375, 560.5062866210938, 560.2728271484375, 538.611328125, 526.6939086914062, 498.89422607421875, 2024.3018798828125, 3230.921142578125, 1583.8642578125, 2326.943603515625, 1197.0277099609375, 1753.2718505859375, 1946.21435546875, 882.1710815429688, 1229.0352783203125, 2083.258544921875, 1930.229736328125, 1965.6549072265625, 2439.543701171875, 938.2273559570312, 949.8374633789062, 951.4847412109375, 992.023193359375, 963.7221069335938, 962.016845703125, 4882.48876953125, 3845.71044921875, 3043.084228515625, 2030.14013671875, 1628.8623046875, 1327.5706787109375, 1224.9339599609375, 1150.9212646484375, 1128.800048828125, 1042.501708984375, 987.5328369140625, 980.258544921875, 951.8934936523438, 875.7862548828125, 858.6422729492188, 812.244873046875, 785.6278686523438, 743.0252075195312, 724.01123046875, 718.3965454101562, 702.36083984375, 653.076904296875, 644.2756958007812, 628.8111572265625, 628.1281127929688, 617.2303466796875, 595.4468383789062, 538.5932006835938, 538.3820190429688, 526.5858764648438, 1047.1097412109375, 1990.7926025390625, 716.8809814453125, 1154.5733642578125, 4046.469482421875, 894.2966918945312, 1369.3519287109375, 1403.8486328125, 713.0806884765625, 866.3578491210938, 721.8639526367188, 9009.55859375, 2369.517333984375, 2362.3671875, 1992.10693359375, 1713.8731689453125, 1697.679931640625, 1620.964111328125, 1550.43212890625, 1532.918701171875, 1499.7469482421875, 1380.5589599609375, 1353.5972900390625, 1337.8829345703125, 1310.2896728515625, 1305.8258056640625, 1280.150634765625, 1271.8951416015625, 1228.9794921875, 1186.9285888671875, 1151.014404296875, 1070.059326171875, 1069.9908447265625, 1046.597900390625, 1032.5091552734375, 1006.212646484375, 999.5966796875, 970.0236206054688, 957.8986206054688, 932.0557861328125, 905.9474487304688, 2944.23974609375, 2843.34130859375, 2313.511474609375, 1178.354248046875, 1177.0509033203125, 916.1160888671875, 775.0104370117188, 726.6010131835938, 562.5704956054688, 488.2320861816406, 481.2572326660156, 433.2438659667969, 432.3106384277344, 383.1046142578125, 371.9271545410156, 345.9474792480469, 304.22418212890625, 295.3799133300781, 286.8505554199219, 283.8443908691406, 259.0652160644531, 256.5863037109375, 242.86444091796875, 218.1553192138672, 215.96945190429688, 212.1466064453125, 206.53909301757812, 201.11032104492188, 186.10931396484375, 163.15240478515625, 129.52304077148438, 477.2126770019531, 987.15966796875, 1297.7943115234375, 903.6725463867188, 658.8399658203125, 609.365234375, 997.7388305664062, 680.7633056640625, 1192.7451171875, 1116.99169921875, 823.6599731445312, 609.107177734375, 481.20550537109375, 392.6050109863281, 551.8154296875, 571.1967163085938, 479.0404357910156, 414.1015930175781, 413.948974609375, 3998.905029296875, 2002.1002197265625, 714.1967163085938, 674.0369873046875, 664.87255859375, 606.778076171875, 595.9569702148438, 572.092529296875, 553.5814819335938, 552.0450439453125, 490.6136169433594, 481.2497863769531, 459.8385925292969, 447.6878356933594, 386.4521484375, 381.3760681152344, 380.09063720703125, 367.8399963378906, 347.9517822265625, 316.64788818359375, 308.07025146484375, 280.112060546875, 258.121337890625, 257.09857177734375, 250.86631774902344, 241.79202270507812, 235.17945861816406, 218.35276794433594, 214.2881317138672, 203.09217834472656, 546.94775390625, 559.3150634765625, 420.3152160644531, 334.1569519042969, 3941.23095703125, 2876.473876953125, 2194.4169921875, 891.4796142578125, 831.7057495117188, 830.0970458984375, 723.1005859375, 720.3517456054688, 672.8199462890625, 543.7205810546875, 529.9256591796875, 517.9212646484375, 250.71078491210938, 242.3675537109375, 241.35826110839844, 214.55677795410156, 168.6079864501953, 141.4318084716797, 135.83377075195312, 131.62255859375, 130.7288360595703, 114.22712707519531, 111.76713562011719, 94.61884307861328, 78.35906219482422, 77.57667541503906, 64.59690856933594, 64.24251556396484, 60.00558090209961, 53.55624008178711, 1106.841064453125, 782.9525146484375, 772.9008178710938, 639.6983032226562, 340.7388916015625, 575.0233154296875, 426.69647216796875, 352.6723937988281, 246.47210693359375, 301.9279479980469, 173.1575164794922, 167.916259765625, 3361.083740234375, 1001.4889526367188, 807.14306640625, 607.522705078125, 405.75067138671875, 354.5287780761719, 237.474853515625, 219.334716796875, 112.19586181640625, 110.0250244140625, 85.22550964355469, 83.2030029296875, 80.34786224365234, 75.52613067626953, 71.17961883544922, 70.92015838623047, 65.56720733642578, 58.84267044067383, 50.302852630615234, 33.108306884765625, 31.037933349609375, 24.461009979248047, 22.096778869628906, 21.593494415283203, 15.477633476257324, 11.509603500366211, 11.509212493896484, 11.509167671203613, 11.509167671203613, 11.508013725280762, 402.0633544921875, 579.00048828125, 183.39173889160156, 1057.667236328125, 47.91251754760742, 253.32305908203125, 791.3554077148438, 298.55108642578125, 121.96989440917969, 134.43150329589844, 220.96514892578125, 321.5528259277344, 242.07012939453125, 151.7122344970703, 202.6441192626953, 118.78727722167969, 123.855224609375, 98.59325408935547, 92.32158660888672, 1751.5162353515625, 1016.4009399414062, 681.2200927734375, 619.8936157226562, 537.3081665039062, 507.3265380859375, 499.7716369628906, 476.6487121582031, 464.53253173828125, 401.40020751953125, 388.7491149902344, 374.8363342285156, 373.4704284667969, 343.2586975097656, 320.6394958496094, 294.1083679199219, 291.835205078125, 271.78143310546875, 271.3068542480469, 260.3852844238281, 251.58602905273438, 229.74771118164062, 194.42637634277344, 163.05067443847656, 140.38975524902344, 128.4798583984375, 110.71932220458984, 101.68730163574219, 95.58091735839844, 88.70489501953125, 103.41534423828125, 3103.79345703125, 530.883544921875, 489.3056945800781, 461.5987548828125, 320.2348327636719, 319.16290283203125, 317.98968505859375, 316.1396789550781, 283.2585144042969, 282.0688781738281, 242.84860229492188, 229.80650329589844, 190.9307861328125, 178.1798858642578, 175.56369018554688, 151.96470642089844, 147.02685546875, 146.26559448242188, 117.54303741455078, 107.71263122558594, 103.7391586303711, 86.09585571289062, 80.00785827636719, 76.85194396972656, 75.92922973632812, 44.977264404296875, 41.61272430419922, 37.86281967163086, 35.179100036621094, 32.118839263916016, 257.499755859375, 151.03564453125, 453.3756103515625, 456.97955322265625, 216.79486083984375, 391.7370910644531, 143.73614501953125, 268.93682861328125, 128.1226806640625, 113.84516143798828, 1652.38330078125, 894.6564331054688, 646.8499755859375, 496.8022155761719, 455.1073913574219, 414.9788513183594, 405.2113037109375, 397.63970947265625, 327.3643493652344, 297.7141418457031, 296.8512878417969, 295.6761169433594, 279.846923828125, 233.1981201171875, 203.37112426757812, 164.49684143066406, 158.07742309570312, 150.46142578125, 148.79574584960938, 142.98892211914062, 138.4949951171875, 118.68338775634766, 118.56355285644531, 104.97360229492188, 104.00016784667969, 96.43429565429688, 94.40959167480469, 77.69105529785156, 74.99005889892578, 59.096431732177734, 1154.086669921875, 757.487548828125, 516.0535278320312, 515.6668701171875, 435.5111999511719, 306.2239990234375, 281.7978210449219, 269.1379699707031, 216.66250610351562, 168.60919189453125, 162.5979461669922, 136.27902221679688, 131.35714721679688, 87.32549285888672, 73.81375885009766, 63.869781494140625, 61.31869888305664, 41.097984313964844, 37.86421585083008, 10.257979393005371, 680.4525756835938, 5.73946475982666, 4.478211879730225, 45.21733474731445, 0.05174878612160683, 0.05174761265516281, 0.051745302975177765, 0.0517449826002121, 0.05174577236175537, 0.05174649879336357, 64.26393127441406, 1.7218414545059204, 0.05174587666988373, 0.05174602195620537, 385.37359619140625, 334.596923828125, 252.26632690429688, 251.1724090576172, 233.29188537597656, 215.05264282226562, 206.0795135498047, 192.26243591308594, 176.74557495117188, 167.78892517089844, 161.74864196777344, 157.43096923828125, 113.58697509765625, 94.21940612792969, 77.96695709228516, 73.75792694091797, 71.97351837158203, 68.4667739868164, 68.30159759521484, 67.02580261230469, 61.225032806396484, 60.13835525512695, 53.943138122558594, 53.8658332824707, 45.783748626708984, 44.097232818603516, 35.145999908447266, 32.40133285522461, 23.755699157714844, 21.962007522583008, 122.43475341796875, 428.2809143066406, 389.494873046875, 381.9300537109375, 266.048828125, 226.1094970703125, 190.73548889160156, 159.25497436523438, 155.7007598876953, 151.81813049316406, 141.87620544433594, 117.69593811035156, 106.8889389038086, 102.29239654541016, 99.13524627685547, 79.25845336914062, 71.92145538330078, 57.150634765625, 56.155609130859375, 50.0599365234375, 45.90655517578125, 34.12413024902344, 33.17607116699219, 23.82636833190918, 17.85808563232422, 12.587011337280273, 11.434370040893555, 695.2504272460938, 14.590840339660645, 0.0428202785551548, 0.04281868413090706, 0.042822711169719696, 0.042820706963539124, 0.042821697890758514, 223.2926788330078, 164.52389526367188, 120.77730560302734, 77.8421401977539, 75.50032043457031, 71.26848602294922, 54.3016471862793, 47.828250885009766, 46.33423614501953, 38.52880859375, 33.431846618652344, 24.272966384887695, 18.086572647094727, 15.492486000061035, 13.180390357971191, 12.07856273651123, 10.616019248962402, 7.612398147583008, 135.61331176757812, 1.8013157844543457, 6.255101203918457, 0.030402323231101036, 0.030400516465306282, 0.03040163218975067, 0.030399838462471962, 0.030399683862924576, 0.030399097129702568, 0.030399076640605927, 0.030399076640605927, 0.030399076640605927, 2.852407217025757, 0.030399085953831673, 0.030399655923247337, 0.030399519950151443, 0.030399195849895477, 354.8112487792969, 181.5060577392578, 112.62379455566406, 100.58663177490234, 89.4090347290039, 79.2154312133789, 77.48139953613281, 71.79667663574219, 68.4518051147461, 50.23207473754883, 48.882232666015625, 33.60395050048828, 24.519649505615234, 19.29747772216797, 9.47132396697998, 0.027460012584924698, 0.027459707111120224, 0.027459008619189262, 0.02745901234447956, 0.02746010385453701, 0.02745909057557583, 0.027458423748612404, 0.02745831571519375, 0.027458351105451584, 0.027458224445581436, 0.02746785804629326, 0.027458051219582558, 0.02745800092816353, 0.027457991614937782, 0.027457991614937782, 0.027459053322672844, 0.02745920605957508, 0.027458431199193, 0.027458198368549347, 229.3352813720703, 207.74205017089844, 110.45074462890625, 57.320533752441406, 56.47453689575195, 30.62457275390625, 26.246728897094727, 18.736316680908203, 17.774084091186523, 5.2316975593566895, 5.088010311126709, 24.715242385864258, 0.022082537412643433, 0.02208087593317032, 0.022080954164266586, 0.022080423310399055, 0.022079987451434135, 0.0220814011991024, 0.02208031341433525, 0.022079790011048317, 0.022080013528466225, 0.022079192101955414, 0.02207973599433899, 0.02207905240356922, 0.0220788661390543, 0.02207893691956997, 0.022078746929764748, 0.022078746929764748, 0.022078828886151314, 0.022078683599829674, 0.022079236805438995, 0.022084573283791542, 0.022079994902014732, 0.022079553455114365, 0.02207932062447071, 0.022079141810536385, 0.022079041227698326], \"Term\": [\"line\", \"organization\", \"not\", \"ax\", \"university\", \"write\", \"nntp_post\", \"article\", \"host\", \"people\", \"year\", \"would\", \"system\", \"drive\", \"_\", \"key\", \"window\", \"be\", \"use\", \"book\", \"do\", \"game\", \"say\", \"government\", \"program\", \"card\", \"reply\", \"file\", \"man\", \"team\", \"be\", \"go\", \"could\", \"s\", \"have\", \"much\", \"really\", \"still\", \"sure\", \"car\", \"hear\", \"back\", \"lot\", \"put\", \"will\", \"long\", \"little\", \"probably\", \"bad\", \"opinion\", \"enough\", \"maybe\", \"turn\", \"that\", \"money\", \"earth\", \"ill\", \"else\", \"next\", \"remember\", \"not\", \"would\", \"time\", \"do\", \"good\", \"well\", \"get\", \"think\", \"see\", \"take\", \"something\", \"make\", \"tell\", \"day\", \"know\", \"want\", \"thing\", \"come\", \"try\", \"write\", \"way\", \"say\", \"article\", \"may\", \"work\", \"give\", \"even\", \"also\", \"christian\", \"evidence\", \"church\", \"religion\", \"argument\", \"bible\", \"human\", \"sin\", \"act\", \"accept\", \"action\", \"statement\", \"jew\", \"faith\", \"shall\", \"christ\", \"religious\", \"truth\", \"jewish\", \"existence\", \"greek\", \"judge\", \"therefore\", \"nature\", \"scientific\", \"knowledge\", \"atheism\", \"universe\", \"nation\", \"modem\", \"claim\", \"word\", \"study\", \"prove\", \"believe\", \"exist\", \"person\", \"view\", \"law\", \"fact\", \"man\", \"life\", \"people\", \"issue\", \"say\", \"mean\", \"reason\", \"true\", \"example\", \"must\", \"many\", \"may\", \"question\", \"make\", \"part\", \"follow\", \"also\", \"nntp_post\", \"host\", \"thank\", \"computer\", \"com\", \"user\", \"university\", \"inc\", \"price\", \"keyword\", \"network\", \"phone\", \"fax\", \"graphic\", \"lose\", \"advance\", \"ms\", \"institute\", \"computer_science\", \"newsgroup\", \"dept\", \"printer\", \"moon\", \"engineering\", \"share\", \"connect\", \"apr\", \"originator\", \"currently\", \"connection\", \"reply\", \"ca\", \"interested\", \"organization\", \"line\", \"usa\", \"sell\", \"company\", \"distribution_world\", \"anyone\", \"email\", \"new\", \"post\", \"article\", \"write\", \"news\", \"datum\", \"help\", \"need\", \"state\", \"message\", \"information\", \"send\", \"look\", \"know\", \"window\", \"file\", \"image\", \"software\", \"version\", \"color\", \"machine\", \"application\", \"display\", \"faq\", \"library\", \"video\", \"package\", \"screen\", \"hardware\", \"mode\", \"unix\", \"feature\", \"ibm\", \"ftp\", \"microsoft\", \"mouse\", \"character\", \"instal\", \"port\", \"previous\", \"mhz\", \"upgrade\", \"replace\", \"mit\", \"copy\", \"code\", \"available\", \"program\", \"memory\", \"mail\", \"mac\", \"system\", \"bit\", \"section\", \"run\", \"support\", \"include\", \"use\", \"problem\", \"work\", \"also\", \"pc\", \"gun\", \"war\", \"armenian\", \"fbi\", \"president\", \"police\", \"citizen\", \"policy\", \"tax\", \"weapon\", \"firearm\", \"congress\", \"military\", \"commit\", \"united_state\", \"political\", \"federal\", \"koresh\", \"victim\", \"waco\", \"batf\", \"holocaust\", \"escape\", \"turk\", \"village\", \"massacre\", \"soldier\", \"merely\", \"turkish\", \"constitution\", \"country\", \"government\", \"drug\", \"kill\", \"land\", \"fire\", \"american\", \"clearly\", \"attack\", \"child\", \"report\", \"state\", \"people\", \"press\", \"today\", \"national\", \"happen\", \"law\", \"right\", \"game\", \"team\", \"play\", \"player\", \"fan\", \"season\", \"business\", \"series\", \"trade\", \"goal\", \"score\", \"owner\", \"boston\", \"star\", \"period\", \"baseball\", \"nhl\", \"happy\", \"stat\", \"ball\", \"european\", \"league\", \"clean\", \"blue\", \"chicago\", \"straight\", \"pitcher\", \"pitch\", \"chris\", \"frank\", \"king\", \"win\", \"lack\", \"division\", \"year\", \"new_york\", \"last\", \"first\", \"april\", \"run\", \"lead\", \"ax\", \"wire\", \"pin\", \"circuit\", \"switch\", \"advice\", \"max\", \"basis\", \"thoma\", \"style\", \"debate\", \"btw\", \"past\", \"multi\", \"temperature\", \"summer\", \"irq\", \"bank\", \"tube\", \"metal\", \"somehow\", \"gain\", \"tie\", \"success\", \"cite\", \"pad\", \"string\", \"origin\", \"curious\", \"serial\", \"check\", \"space\", \"research\", \"tool\", \"development\", \"input\", \"laboratory\", \"nasa\", \"documentation\", \"component\", \"sci\", \"flight\", \"facility\", \"plane\", \"specify\", \"ford\", \"journal\", \"detector\", \"henry\", \"compuserve\", \"radar_detector\", \"carnegie_mellon\", \"interactive\", \"galaxy\", \"integrate\", \"daniel\", \"pittsburgh_pa\", \"netherland\", \"dec\", \"johns_hopkin\", \"callback\", \"management\", \"object\", \"science\", \"develop\", \"conference\", \"determine\", \"level\", \"material\", \"center\", \"technology\", \"national\", \"design\", \"field\", \"international\", \"provide\", \"information\", \"program\", \"service\", \"set\", \"_\", \"bill\", \"oil\", \"william\", \"excellent\", \"bat\", \"club\", \"shape\", \"cambridge\", \"excuse\", \"paragraph\", \"brave\", \"trick\", \"law_enforcement\", \"staff\", \"seal\", \"director\", \"david_sternlight\", \"bond\", \"wolf\", \"warm\", \"catcher\", \"tuesday\", \"initiative\", \"rick\", \"barry\", \"batter\", \"escrow\", \"convex\", \"steer\", \"cold\", \"late\", \"air\", \"mr\", \"drive\", \"card\", \"driver\", \"cpu\", \"scsi\", \"controller\", \"cable\", \"tape\", \"data\", \"transfer\", \"bus\", \"interface\", \"ide\", \"interrupt\", \"hook\", \"adapter\", \"buffer\", \"vesa\", \"generic\", \"chastity\", \"density\", \"cultural\", \"marshall\", \"prompt\", \"dma\", \"speedstar\", \"isa_bus\", \"technological\", \"ibm_austin\", \"transition\", \"device\", \"disk\", \"board\", \"speed\", \"access\", \"datum\", \"hard\", \"pc\", \"fast\", \"set\", \"single\", \"mac\", \"key\", \"encryption\", \"private\", \"clipper\", \"clipper_chip\", \"announcement\", \"amendment\", \"selection\", \"blessing\", \"mandatory\", \"ruler\", \"examination\", \"priest\", \"private_sector\", \"tue_apr\", \"unlock\", \"saw\", \"united_kingdom\", \"overlap\", \"await\", \"intercept\", \"nick_pettefar\", \"health_insurance\", \"tin_version\", \"fabrication\", \"uk_newsreader\", \"host_bmdhh\", \"biker_dod\", \"ltd_maidenhead\", \"concise_oxford\", \"secret\", \"medium\", \"proposal\", \"public\", \"successfully\", \"trust\", \"government\", \"attack\", \"exchange\", \"fund\", \"device\", \"message\", \"datum\", \"protect\", \"system\", \"provide\", \"information\", \"standard\", \"approach\", \"sale\", \"house\", \"account\", \"pgp\", \"secure\", \"pro\", \"illegal\", \"measure\", \"effective\", \"alt\", \"equipment\", \"yesterday\", \"agent\", \"nsa\", \"iran\", \"conduct\", \"army\", \"cds\", \"cryptography\", \"ignorant\", \"heavy\", \"govt\", \"mathew\", \"tour\", \"tempest\", \"nose\", \"shield\", \"hero\", \"holland\", \"con\", \"community\", \"book\", \"pen\", \"revelation\", \"title\", \"ed\", \"brother\", \"reaction\", \"spirit\", \"publication\", \"sexual\", \"matthew\", \"introduction\", \"revise\", \"perspective\", \"bowman\", \"jagr\", \"arise\", \"translate\", \"bless\", \"charter\", \"journalist\", \"honestly\", \"ritual\", \"initiate\", \"bread\", \"resign\", \"correspondent\", \"appoint\", \"supreme\", \"rite\", \"accuse\", \"publisher\", \"aid\", \"publish\", \"examine\", \"page\", \"witness\", \"man\", \"story\", \"reference\", \"chip\", \"apple\", \"unit\", \"psalm\", \"battery\", \"signal\", \"ticket\", \"sample\", \"channel\", \"scheme\", \"terminal\", \"band\", \"hang\", \"stereo\", \"rating\", \"vary\", \"animation\", \"buyer\", \"variable\", \"radar\", \"empty\", \"accurately\", \"smooth\", \"safely\", \"glove\", \"occasionally\", \"regular_season\", \"pentium\", \"cheat\", \"emerge\", \"server\", \"patient\", \"medical\", \"doctor\", \"archive\", \"medicine\", \"poster\", \"hospital\", \"physician\", \"movie\", \"archive_name\", \"migraine\", \"monthly\", \"gate\", \"biochemistry\", \"rotation\", \"italy\", \"injection\", \"presently\", \"cheek\", \"community\", \"descend\", \"rec_autos\", \"treat\", \"dn\", \"disease\", \"headache\", \"eeg\", \"scan\", \"treatment\", \"study\", \"practice\", \"client\", \"god\", \"translation\", \"tor\", \"bos\", \"van\", \"cal\", \"det\", \"complain\", \"min\", \"wisdom\", \"spiritual\", \"nyi\", \"chi\", \"pit\", \"song\", \"quinn\", \"chuck\", \"buf\", \"ott\", \"stl\", \"murray\", \"kelly\", \"mtl\", \"yzerman\", \"nyr\", \"breathe\", \"instruct\", \"edm\", \"brent\", \"ide_controll\", \"oto\", \"la\", \"grant\", \"maintain\", \"motherboard\", \"register\", \"familiar\", \"arizona\", \"widely\", \"hotel\", \"cs_dept\", \"ascii\", \"column\", \"domain\", \"teacher\", \"comm\", \"wilson\", \"global\", \"gibson\", \"specifie\", \"whatsoever\", \"redraw\", \"inevitably\", \"inter\", \"mild\", \"weitek\", \"est\", \"tucson\", \"access\", \"permit\", \"nok\", \"syst\", \"ripem\", \"kinsey\", \"god\", \"pat\", \"lock\", \"wheel\", \"attend\", \"online_communication\", \"express_access\", \"exploration\", \"greenbelt_md\", \"eisa\", \"chris_behanna\", \"oxygen\", \"jeep\", \"aviation\", \"blazer\", \"cant_afford\", \"engineering_carnegie\", \"mellon_pittsburgh\", \"isa_eisa\", \"virginia\", \"bbs_winnipeg\", \"po_andrew\", \"orbit\", \"hst\", \"mission\", \"bird\", \"bronco\", \"flake\", \"expecting\", \"muc\", \"hicksville\", \"weigh\", \"redundancy\", \"mar\", \"spacecraft\", \"shuttle\", \"motif\", \"judgement\", \"bosnia\", \"catalog\", \"struggle\", \"ethic\", \"serb\", \"convenient\", \"penn_state\", \"slight\", \"frank_odwyer\", \"christian_morality\", \"motive\", \"neal\", \"sore\", \"moslem\", \"divide\", \"serbia\", \"bsd\", \"commercial\", \"linux\", \"hugh\", \"yugoslavia\", \"somalia\", \"widget_set\", \"god\", \"croatia\", \"hercegovina\", \"senad\", \"mechanical_engineer\", \"prayer\", \"sex\", \"widget\", \"australia\", \"male\", \"mother\", \"matt\", \"honda\", \"intelligent\", \"confine\", \"eliot\", \"nonetheless\", \"typo\", \"karl\", \"skull\", \"gene\", \"kinsey\", \"boswell\", \"homosexuality\", \"wright\", \"arsenokoitai\", \"sex\", \"homosexual\", \"maria\", \"father\", \"scrogg\", \"reisman\", \"nasb\", \"leviticus\", \"cor\", \"torque_sens\", \"differential\", \"marriage\", \"trunk\", \"gay\", \"god\", \"release\", \"pm\", \"prayer\", \"gonorrhea\", \"safety_belt\"], \"Total\": [31720.0, 28320.0, 37172.0, 9010.0, 12496.0, 25630.0, 10975.0, 18718.0, 9888.0, 14229.0, 8210.0, 27727.0, 9070.0, 3942.0, 4000.0, 3362.0, 6765.0, 19304.0, 11696.0, 3105.0, 23798.0, 4883.0, 15810.0, 4023.0, 5637.0, 2877.0, 6596.0, 5217.0, 4161.0, 3846.0, 19304.763671875, 13698.9462890625, 8737.412109375, 7880.8662109375, 7802.91748046875, 6654.46923828125, 5441.27392578125, 4966.32861328125, 4459.39208984375, 4346.56689453125, 4298.08154296875, 4200.830078125, 4016.31591796875, 3898.544921875, 3574.30126953125, 3429.106201171875, 3326.959716796875, 3220.2998046875, 3174.596923828125, 2940.349365234375, 2936.638671875, 2380.9169921875, 2328.368408203125, 2314.45361328125, 2266.26904296875, 2246.355224609375, 2151.7197265625, 2148.5068359375, 2112.628173828125, 2110.420166015625, 37172.72265625, 27727.13671875, 11412.1708984375, 23798.8671875, 13275.333984375, 7012.50244140625, 19027.845703125, 14012.8759765625, 11110.1494140625, 8831.6279296875, 5639.2734375, 13892.8232421875, 5906.564453125, 5671.41650390625, 15935.6552734375, 8679.9462890625, 8016.6328125, 8037.5517578125, 7281.41650390625, 25630.830078125, 7862.3037109375, 15810.3125, 18718.615234375, 12169.47265625, 9313.4248046875, 7480.90673828125, 7214.4677734375, 10897.90625, 3843.787109375, 2791.78125, 2428.80322265625, 2217.66650390625, 2150.419921875, 1923.64697265625, 1717.79052734375, 1713.3741455078125, 1630.4150390625, 1622.5322265625, 1548.984375, 1530.401123046875, 1519.5631103515625, 1499.021484375, 1490.7547607421875, 1379.4288330078125, 1294.4232177734375, 1247.8641357421875, 1108.0174560546875, 1002.444580078125, 998.609130859375, 976.9843139648438, 939.3925170898438, 915.753662109375, 903.4463500976562, 864.8795166015625, 844.72216796875, 826.1709594726562, 809.487060546875, 776.0355224609375, 3570.178466796875, 3621.990234375, 1735.8660888671875, 1247.136474609375, 5737.51513671875, 2545.5576171875, 3039.227783203125, 2277.7431640625, 3756.287841796875, 4046.06103515625, 4161.43115234375, 2763.986328125, 14229.673828125, 2836.10009765625, 15810.3125, 5518.2021484375, 4444.8466796875, 2892.95166015625, 2486.767578125, 4169.5595703125, 7610.52685546875, 12169.47265625, 6020.5888671875, 13892.8232421875, 4760.24072265625, 3602.79150390625, 10897.90625, 10975.5556640625, 9888.4658203125, 5125.923828125, 4316.25341796875, 3111.08056640625, 2834.083740234375, 12496.6484375, 2628.72607421875, 2537.71923828125, 1993.50244140625, 1984.4176025390625, 1936.4249267578125, 1852.798095703125, 1758.5911865234375, 1678.21728515625, 1440.9049072265625, 1318.3116455078125, 1238.1361083984375, 1238.0120849609375, 1216.453857421875, 1114.44677734375, 1078.552978515625, 1060.029541015625, 1048.1365966796875, 922.052734375, 892.6162719726562, 885.931396484375, 872.393310546875, 871.55908203125, 866.37353515625, 6596.30712890625, 1958.7674560546875, 1754.2490234375, 28320.345703125, 31720.361328125, 2557.704345703125, 2941.678955078125, 2326.9169921875, 2352.186279296875, 6315.25244140625, 2784.0244140625, 7139.8876953125, 5900.78759765625, 18718.615234375, 25630.830078125, 2690.577392578125, 3178.56494140625, 5046.31494140625, 8246.9990234375, 5977.5078125, 3218.64453125, 4767.16650390625, 3748.7080078125, 7625.13525390625, 15935.6552734375, 6765.47998046875, 5217.20263671875, 4117.86669921875, 3775.508056640625, 2818.577880859375, 2412.6533203125, 2388.1865234375, 2368.083740234375, 2111.793212890625, 1598.8587646484375, 1585.089599609375, 1509.441650390625, 1439.78271484375, 1425.770263671875, 1412.1270751953125, 1376.999755859375, 1356.697265625, 1283.787353515625, 1175.1563720703125, 1168.071533203125, 1012.9457397460938, 995.25244140625, 988.8560791015625, 980.9844360351562, 962.3587036132812, 961.3861083984375, 872.491943359375, 838.9697265625, 778.3115844726562, 771.1032104492188, 1806.80859375, 2145.280029296875, 3534.946044921875, 5637.88037109375, 1291.74169921875, 5209.6474609375, 2067.791015625, 9070.458984375, 4038.30078125, 1478.410888671875, 6507.0576171875, 4285.08642578125, 5573.81982421875, 11696.673828125, 7048.357421875, 9313.4248046875, 10897.90625, 1791.4649658203125, 2618.905517578125, 1686.24560546875, 1640.928955078125, 1416.55029296875, 1383.9765625, 1131.837158203125, 1110.72216796875, 1014.0671997070312, 976.0751953125, 971.7828979492188, 955.5541381835938, 932.7073364257812, 859.0887451171875, 803.8277587890625, 782.2920532226562, 777.2816162109375, 737.791748046875, 696.45556640625, 687.2203369140625, 683.4139404296875, 619.6793823242188, 608.8131103515625, 595.9388427734375, 586.7710571289062, 585.8729858398438, 561.7265625, 561.4931030273438, 539.8316040039062, 527.9141845703125, 500.1144714355469, 2097.892333984375, 4023.443359375, 1823.9228515625, 2916.677490234375, 1349.607421875, 2120.510498046875, 2492.444091796875, 977.3548583984375, 1582.92138671875, 3439.2939453125, 3184.587158203125, 5977.5078125, 14229.673828125, 1614.24267578125, 1965.5604248046875, 2086.222412109375, 3092.84033203125, 3756.287841796875, 7080.94384765625, 4883.712890625, 3846.935302734375, 3044.30908203125, 2031.364990234375, 1630.087158203125, 1328.7955322265625, 1226.1588134765625, 1152.1461181640625, 1130.02490234375, 1043.7265625, 988.7576904296875, 981.4833984375, 953.1183471679688, 877.0111083984375, 859.8671264648438, 813.4697265625, 786.8527221679688, 744.2500610351562, 725.236083984375, 719.6213989257812, 703.585693359375, 654.3017578125, 645.5005493164062, 630.0360107421875, 629.3529663085938, 618.4552001953125, 596.6716918945312, 539.8180541992188, 539.6068725585938, 527.8107299804688, 1055.130859375, 2410.275634765625, 762.9111328125, 1403.731689453125, 8210.455078125, 1269.0738525390625, 3630.222900390625, 7027.30615234375, 1248.9381103515625, 6507.0576171875, 1985.2474365234375, 9010.6845703125, 2370.641357421875, 2363.4912109375, 1993.2310791015625, 1714.997314453125, 1698.8040771484375, 1622.0882568359375, 1551.5562744140625, 1534.0428466796875, 1500.87109375, 1381.68310546875, 1354.721435546875, 1339.007080078125, 1311.413818359375, 1306.949951171875, 1281.2747802734375, 1273.019287109375, 1230.1036376953125, 1188.052734375, 1152.1385498046875, 1071.1834716796875, 1071.114990234375, 1047.7220458984375, 1033.63330078125, 1007.3367919921875, 1000.7208251953125, 971.1477661132812, 959.0227661132812, 933.179931640625, 907.0715942382812, 3657.279541015625, 2844.57177734375, 2314.741943359375, 1179.584716796875, 1178.2813720703125, 917.3465576171875, 776.2409057617188, 727.8314819335938, 563.8009643554688, 489.4626159667969, 482.4877624511719, 434.4743957519531, 433.5411682128906, 384.33514404296875, 373.1576843261719, 347.1780090332031, 305.4547119140625, 296.6104431152344, 288.0810852050781, 285.0749206542969, 260.2957458496094, 257.81683349609375, 244.0949249267578, 219.38580322265625, 217.19993591308594, 213.37709045410156, 207.7695770263672, 202.34080505371094, 187.3397979736328, 164.3828887939453, 130.75352478027344, 509.1837463378906, 1217.2166748046875, 1663.0341796875, 1217.53759765625, 842.0204467773438, 801.9918823242188, 1525.7762451171875, 935.88916015625, 2428.0068359375, 2788.70751953125, 2086.222412109375, 2055.26318359375, 1126.7540283203125, 713.78173828125, 3061.1298828125, 4767.16650390625, 5637.88037109375, 2184.5224609375, 3694.243896484375, 4000.108154296875, 2003.303466796875, 715.3999633789062, 675.240234375, 666.0758056640625, 607.9813232421875, 597.1602172851562, 573.2957763671875, 554.7847290039062, 553.248291015625, 491.8168640136719, 482.4530334472656, 461.0418395996094, 448.8910827636719, 387.6553955078125, 382.5793151855469, 381.29388427734375, 369.0432434082031, 349.155029296875, 317.85113525390625, 309.27349853515625, 281.3153076171875, 259.3245849609375, 258.30181884765625, 252.06954956054688, 242.99525451660156, 236.3826904296875, 219.55599975585938, 215.49136352539062, 204.29541015625, 604.8370971679688, 1413.530517578125, 945.4867553710938, 867.2139282226562, 3942.467529296875, 2877.71044921875, 2195.653564453125, 892.7765502929688, 832.9422607421875, 831.3335571289062, 724.3370971679688, 721.5882568359375, 674.0564575195312, 544.9570922851562, 531.1621704101562, 519.1577758789062, 251.9473114013672, 243.6040802001953, 242.59478759765625, 215.79330444335938, 169.84451293945312, 142.6683349609375, 137.07029724121094, 132.8590850830078, 131.96536254882812, 115.46365356445312, 113.003662109375, 95.8553695678711, 79.59558868408203, 78.81320190429688, 65.83343505859375, 65.47904205322266, 61.24211883544922, 54.79277801513672, 1328.9892578125, 1511.6005859375, 1536.290283203125, 1880.593994140625, 1037.18310546875, 3178.56494140625, 2608.808837890625, 1791.4649658203125, 1456.0927734375, 3694.243896484375, 1374.2744140625, 2067.791015625, 3362.328857421875, 1002.7340087890625, 808.3881225585938, 608.7677612304688, 406.9957275390625, 355.7738342285156, 238.71990966796875, 220.57977294921875, 113.44093322753906, 111.27009582519531, 86.4705810546875, 84.44807434082031, 81.59293365478516, 76.77120208740234, 72.42469024658203, 72.16522979736328, 66.8122787475586, 60.087745666503906, 51.54792785644531, 34.3533821105957, 32.28300476074219, 25.706077575683594, 23.341846466064453, 22.83856201171875, 16.722702026367188, 12.754670143127441, 12.754279136657715, 12.754234313964844, 12.754234313964844, 12.753080368041992, 454.6519470214844, 774.5695190429688, 287.881591796875, 2424.841064453125, 71.27371978759766, 716.5773315429688, 4023.443359375, 1582.92138671875, 381.74951171875, 509.65924072265625, 1328.9892578125, 3218.64453125, 3178.56494140625, 1178.7864990234375, 9070.458984375, 3061.1298828125, 4767.16650390625, 2352.00537109375, 1058.2030029296875, 1752.7584228515625, 1017.6431274414062, 682.4622802734375, 621.1358032226562, 538.5503540039062, 508.5687255859375, 501.0138244628906, 477.8908996582031, 465.77471923828125, 402.64239501953125, 389.9913024902344, 376.0785217285156, 374.7126159667969, 344.5008850097656, 321.8816833496094, 295.3505554199219, 293.077392578125, 273.02362060546875, 272.5490417480469, 261.6274719238281, 252.82823181152344, 230.9899139404297, 195.6685791015625, 164.29287719726562, 141.6319580078125, 129.72206115722656, 111.96153259277344, 102.92951202392578, 96.82312774658203, 89.94710540771484, 785.058349609375, 3105.03564453125, 532.1258544921875, 490.5480041503906, 462.841064453125, 321.4771423339844, 320.40521240234375, 319.23199462890625, 317.3819885253906, 284.5008239746094, 283.3111877441406, 244.09092712402344, 231.048828125, 192.17311096191406, 179.42221069335938, 176.80601501464844, 153.20703125, 148.26918029785156, 147.50791931152344, 118.78536224365234, 108.9549560546875, 104.98148345947266, 87.33818054199219, 81.25018310546875, 78.09426879882812, 77.17155456542969, 46.2195930480957, 42.85505294799805, 39.10514831542969, 36.42142868041992, 33.361167907714844, 272.9031982421875, 172.57107543945312, 742.2384643554688, 826.8110961914062, 359.45574951171875, 976.7075805664062, 385.55584716796875, 4161.43115234375, 1429.1173095703125, 1454.269775390625, 1653.6258544921875, 895.89892578125, 648.0924682617188, 498.044677734375, 456.349853515625, 416.2213134765625, 406.4537658691406, 398.8821716308594, 328.6068115234375, 298.95660400390625, 298.09375, 296.9185791015625, 281.0893859863281, 234.44061279296875, 204.61361694335938, 165.7393341064453, 159.31991577148438, 151.70391845703125, 150.03823852539062, 144.23141479492188, 139.73748779296875, 119.92587280273438, 119.80603790283203, 106.2160873413086, 105.2426528930664, 97.6767807006836, 95.6520767211914, 78.93354034423828, 76.2325439453125, 60.338924407958984, 1155.33349609375, 758.7343139648438, 517.30029296875, 516.9136352539062, 436.75799560546875, 307.4707946777344, 283.04461669921875, 270.384765625, 217.90928649902344, 169.85597229003906, 163.8447265625, 137.5258026123047, 132.6039276123047, 88.5722885131836, 75.06055450439453, 65.1165771484375, 62.56549835205078, 42.344783782958984, 39.11101531982422, 11.504770278930664, 785.058349609375, 6.986257076263428, 5.72500467300415, 574.0942993164062, 1.298564076423645, 1.2986046075820923, 1.2985483407974243, 1.298545002937317, 1.2985658645629883, 1.2985912561416626, 1735.8660888671875, 1005.1957397460938, 1.2986010313034058, 1.2989935874938965, 386.6208190917969, 335.8441467285156, 253.5135498046875, 252.4196319580078, 234.5391082763672, 216.29986572265625, 207.3267364501953, 193.50965881347656, 177.9927978515625, 169.03614807128906, 162.99586486816406, 158.67819213867188, 114.8342056274414, 95.46663665771484, 79.21418762207031, 75.00515747070312, 73.22074890136719, 69.71400451660156, 69.548828125, 68.27303314208984, 62.472267150878906, 61.385589599609375, 55.190372467041016, 55.113067626953125, 47.030982971191406, 45.34446716308594, 36.39323425292969, 33.64856719970703, 25.0029296875, 23.209238052368164, 159.13818359375, 429.53662109375, 390.7505798339844, 383.1857604980469, 267.3045349121094, 227.36520385742188, 191.99119567871094, 160.51068115234375, 156.9564666748047, 153.07383728027344, 143.1319122314453, 118.95165252685547, 108.1446533203125, 103.54811096191406, 100.39096069335938, 80.51416778564453, 73.17716979980469, 58.40635299682617, 57.41132736206055, 51.31565475463867, 47.16227340698242, 35.37984848022461, 34.43178939819336, 25.082080841064453, 19.113798141479492, 13.842723846435547, 12.690082550048828, 1037.18310546875, 391.30474853515625, 1.2985682487487793, 1.298537015914917, 1.2987267971038818, 1.298639178276062, 1.2989935874938965, 224.56080627441406, 165.79202270507812, 122.04544067382812, 79.11027526855469, 76.7684555053711, 72.53662109375, 55.56978225708008, 49.09638595581055, 47.60237121582031, 39.79694366455078, 34.699981689453125, 25.54109764099121, 19.354703903198242, 16.760616302490234, 14.44852066040039, 13.34669303894043, 11.884149551391602, 8.880529403686523, 186.07391357421875, 3.0694470405578613, 110.1808090209961, 1.2986105680465698, 1.2985522747039795, 1.2986103296279907, 1.2985409498214722, 1.2985426187515259, 1.2985315322875977, 1.298531174659729, 1.298531174659729, 1.298531174659729, 128.1754608154297, 1.2985318899154663, 1.2985799312591553, 1.2985812425613403, 1.2985601425170898, 356.0823059082031, 182.77713012695312, 113.89486694335938, 101.85770416259766, 90.68010711669922, 80.48650360107422, 78.75247192382812, 73.0677490234375, 69.7228775024414, 51.503150939941406, 50.15330505371094, 34.875022888183594, 25.790721893310547, 20.56855010986328, 10.742396354675293, 1.298550009727478, 1.298548936843872, 1.298537254333496, 1.2985457181930542, 1.2986009120941162, 1.298561930656433, 1.298535943031311, 1.2985352277755737, 1.2985368967056274, 1.2985337972640991, 1.2989935874938965, 1.298532485961914, 1.2985321283340454, 1.2985321283340454, 1.2985358238220215, 1.298599123954773, 1.2986334562301636, 1.2985767126083374, 1.2985669374465942, 230.61172485351562, 209.01849365234375, 111.7271957397461, 58.59698486328125, 57.7509880065918, 31.901023864746094, 27.52318000793457, 20.012767791748047, 19.050535202026367, 6.508148670196533, 6.364461421966553, 95.05640411376953, 1.298639178276062, 1.2985516786575317, 1.2985769510269165, 1.2985543012619019, 1.2985453605651855, 1.2986334562301636, 1.2985873222351074, 1.2985576391220093, 1.2985857725143433, 1.2985390424728394, 1.2985742092132568, 1.298537254333496, 1.2985371351242065, 1.2985420227050781, 1.298532485961914, 1.2985405921936035, 1.2985481023788452, 1.2985402345657349, 1.2985807657241821, 1.2989935874938965, 1.2986441850662231, 1.2986119985580444, 1.298599123954773, 1.2985866069793701, 1.2985821962356567], \"loglift\": [30.0, 29.0, 28.0, 27.0, 26.0, 25.0, 24.0, 23.0, 22.0, 21.0, 20.0, 19.0, 18.0, 17.0, 16.0, 15.0, 14.0, 13.0, 12.0, 11.0, 10.0, 9.0, 8.0, 7.0, 6.0, 5.0, 4.0, 3.0, 2.0, 1.0, 0.8503000140190125, 0.8503000140190125, 0.8501999974250793, 0.8501999974250793, 0.8501999974250793, 0.8501999974250793, 0.8500999808311462, 0.8500999808311462, 0.8500999808311462, 0.8500999808311462, 0.8500999808311462, 0.8500999808311462, 0.8500999808311462, 0.8500000238418579, 0.8500000238418579, 0.8500000238418579, 0.8500000238418579, 0.8500000238418579, 0.8500000238418579, 0.8499000072479248, 0.8499000072479248, 0.8497999906539917, 0.8497999906539917, 0.8497999906539917, 0.8497999906539917, 0.8497999906539917, 0.8497999906539917, 0.8497999906539917, 0.8497999906539917, 0.8497999906539917, 0.8486999869346619, 0.8335999846458435, 0.8317999839782715, 0.8169000148773193, 0.815500020980835, 0.8051999807357788, 0.7450000047683716, 0.7416999936103821, 0.75, 0.7515000104904175, 0.7867000102996826, 0.676800012588501, 0.7689999938011169, 0.7720000147819519, 0.6075999736785889, 0.6875, 0.699400007724762, 0.6930000185966492, 0.7064999938011169, 0.3249000012874603, 0.6082000136375427, 0.3019999861717224, 0.22290000319480896, 0.35850000381469727, 0.47369998693466187, 0.6047000288963318, 0.6011999845504761, 0.20270000398159027, 2.0151000022888184, 2.015000104904175, 2.014899969100952, 2.0148000717163086, 2.0148000717163086, 2.0148000717163086, 2.014699935913086, 2.014699935913086, 2.0146000385284424, 2.0146000385284424, 2.0146000385284424, 2.0146000385284424, 2.0146000385284424, 2.0146000385284424, 2.0146000385284424, 2.0144999027252197, 2.014400005340576, 2.014400005340576, 2.0143001079559326, 2.01419997215271, 2.01419997215271, 2.0141000747680664, 2.0141000747680664, 2.0141000747680664, 2.0139999389648438, 2.0139999389648438, 2.0139000415802, 2.0139000415802, 2.0139000415802, 2.0137999057769775, 1.9611999988555908, 1.9463000297546387, 1.9769999980926514, 1.9914000034332275, 1.8867000341415405, 1.9341000318527222, 1.805999994277954, 1.8494999408721924, 1.718500018119812, 1.694700002670288, 1.667799949645996, 1.7338999509811401, 1.2000000476837158, 1.7201999425888062, 1.0986000299453735, 1.445199966430664, 1.533400058746338, 1.6593999862670898, 1.7325999736785889, 1.4251999855041504, 1.0592999458312988, 0.7626000046730042, 1.181399941444397, 0.17820000648498535, 1.087399959564209, 1.326799988746643, 0.2766999900341034, 2.0388998985290527, 2.0388998985290527, 2.038800001144409, 2.0387001037597656, 2.038599967956543, 2.038599967956543, 2.038599967956543, 2.038599967956543, 2.0385000705718994, 2.0383999347686768, 2.0383999347686768, 2.0383999347686768, 2.0383999347686768, 2.038300037384033, 2.038300037384033, 2.0381999015808105, 2.038100004196167, 2.0380001068115234, 2.0380001068115234, 2.0380001068115234, 2.037899971008301, 2.037899971008301, 2.037899971008301, 2.037899971008301, 2.0376999378204346, 2.037600040435791, 2.037600040435791, 2.037600040435791, 2.037600040435791, 2.037600040435791, 2.026099920272827, 2.0297999382019043, 2.0213000774383545, 1.9242000579833984, 1.9036999940872192, 1.993399977684021, 1.9860999584197998, 1.9601000547409058, 1.9574999809265137, 1.8366999626159668, 1.9175000190734863, 1.6555999517440796, 1.655500054359436, 1.2754000425338745, 1.0817999839782715, 1.8205000162124634, 1.7414000034332275, 1.408400058746338, 1.0575000047683716, 1.2694000005722046, 1.6360000371932983, 1.3141000270843506, 1.4809999465942383, 0.8414999842643738, 0.12150000035762787, 2.4303998947143555, 2.430299997329712, 2.430299997329712, 2.4302000999450684, 2.4300999641418457, 2.430000066757202, 2.430000066757202, 2.430000066757202, 2.430000066757202, 2.429800033569336, 2.429800033569336, 2.4296998977661133, 2.4296998977661133, 2.4296998977661133, 2.4296998977661133, 2.4296998977661133, 2.4296000003814697, 2.4296000003814697, 2.429500102996826, 2.429500102996826, 2.42930006980896, 2.42930006980896, 2.42930006980896, 2.42930006980896, 2.42930006980896, 2.42930006980896, 2.4291000366210938, 2.4291000366210938, 2.428999900817871, 2.428999900817871, 2.421099901199341, 2.4091999530792236, 2.3664000034332275, 2.3415000438690186, 2.403599977493286, 2.2495999336242676, 2.3452000617980957, 2.067199945449829, 2.1982998847961426, 2.3610999584198, 1.9816999435424805, 2.0787999629974365, 1.954800009727478, 1.7019000053405762, 1.4381999969482422, 1.0377000570297241, 0.88919997215271, 2.2105000019073486, 3.0099000930786133, 3.0095999240875244, 3.0095999240875244, 3.009500026702881, 3.009500026702881, 3.0092999935150146, 3.0092999935150146, 3.009200096130371, 3.0090999603271484, 3.0090999603271484, 3.0090999603271484, 3.0090999603271484, 3.0088999271392822, 3.0088999271392822, 3.0088000297546387, 3.0088000297546387, 3.008699893951416, 3.0085999965667725, 3.0085999965667725, 3.0085999965667725, 3.0083999633789062, 3.0083999633789062, 3.0083000659942627, 3.0083000659942627, 3.0083000659942627, 3.00819993019104, 3.00819993019104, 3.0081000328063965, 3.0081000328063965, 3.0078999996185303, 2.9746999740600586, 2.7909998893737793, 2.8691999912261963, 2.7844998836517334, 2.890399932861328, 2.820199966430664, 2.763000011444092, 2.907900094985962, 2.7572999000549316, 2.509000062942505, 2.509700059890747, 1.8982000350952148, 1.246899962425232, 2.4677000045776367, 2.283099889755249, 2.2253000736236572, 1.8732999563217163, 1.649999976158142, 1.01419997215271, 3.0933001041412354, 3.0931999683380127, 3.093100070953369, 3.092900037765503, 3.0927999019622803, 3.092600107192993, 3.0924999713897705, 3.092400074005127, 3.092400074005127, 3.0922999382019043, 3.0922999382019043, 3.0922999382019043, 3.0922000408172607, 3.092099905014038, 3.092099905014038, 3.0920000076293945, 3.0920000076293945, 3.091900110244751, 3.0917999744415283, 3.0917999744415283, 3.0917999744415283, 3.091599941253662, 3.091599941253662, 3.091599941253662, 3.091599941253662, 3.0915000438690186, 3.0915000438690186, 3.091200113296509, 3.091200113296509, 3.091200113296509, 3.085900068283081, 2.9022998809814453, 3.0313000679016113, 2.898099899291992, 2.3859000205993652, 2.743499994277954, 2.1185998916625977, 1.4829000234603882, 2.533099889755249, 1.0772000551223755, 2.0817999839782715, 3.1958000659942627, 3.1953999996185303, 3.1953999996185303, 3.1953001022338867, 3.195199966430664, 3.195199966430664, 3.195199966430664, 3.195199966430664, 3.195199966430664, 3.1951000690460205, 3.1951000690460205, 3.1951000690460205, 3.194999933242798, 3.194999933242798, 3.194999933242798, 3.194999933242798, 3.194999933242798, 3.194999933242798, 3.1949000358581543, 3.1949000358581543, 3.1947999000549316, 3.1947999000549316, 3.1947999000549316, 3.1947999000549316, 3.1947999000549316, 3.1947999000549316, 3.194700002670288, 3.194700002670288, 3.194700002670288, 3.1946001052856445, 2.9790000915527344, 3.9944000244140625, 3.99429988861084, 3.993799924850464, 3.993799924850464, 3.993499994277954, 3.9932000637054443, 3.9930999279022217, 3.9925999641418457, 3.992300033569336, 3.9921998977661133, 3.992000102996826, 3.992000102996826, 3.9916000366210938, 3.991499900817871, 3.9911999702453613, 3.990799903869629, 3.990600109100342, 3.990499973297119, 3.990499973297119, 3.9900999069213867, 3.990000009536743, 3.9897000789642334, 3.9892001152038574, 3.9890999794006348, 3.989000082015991, 3.9888999462127686, 3.9886999130249023, 3.9881999492645264, 3.987299919128418, 3.985300064086914, 3.930000066757202, 3.7853000164031982, 3.746799945831299, 3.696700096130371, 3.749500036239624, 3.720099925994873, 3.569999933242798, 3.676500082015991, 3.2839999198913574, 3.079900026321411, 3.0653998851776123, 2.778599977493286, 3.1440000534057617, 3.3970000743865967, 2.2815001010894775, 1.8730000257492065, 1.5292999744415283, 2.3317999839782715, 1.805999994277954, 4.264999866485596, 4.264699935913086, 4.263599872589111, 4.263500213623047, 4.263500213623047, 4.263299942016602, 4.263299942016602, 4.263199806213379, 4.2631001472473145, 4.2631001472473145, 4.262800216674805, 4.262800216674805, 4.262700080871582, 4.262599945068359, 4.262199878692627, 4.2621002197265625, 4.2621002197265625, 4.26200008392334, 4.2617998123168945, 4.261499881744385, 4.26140022277832, 4.261000156402588, 4.2606000900268555, 4.2606000900268555, 4.260499954223633, 4.260300159454346, 4.260200023651123, 4.259799957275391, 4.259699821472168, 4.259399890899658, 4.164700031280518, 3.338099956512451, 3.4546000957489014, 3.3115999698638916, 4.445799827575684, 4.445700168609619, 4.4456000328063965, 4.444699764251709, 4.4446001052856445, 4.4446001052856445, 4.444399833679199, 4.444399833679199, 4.444300174713135, 4.44379997253418, 4.44379997253418, 4.443699836730957, 4.441199779510498, 4.440999984741211, 4.440999984741211, 4.440400123596191, 4.438799858093262, 4.437399864196777, 4.437099933624268, 4.436800003051758, 4.436699867248535, 4.435400009155273, 4.435100078582764, 4.43310022354126, 4.430500030517578, 4.430300235748291, 4.427199840545654, 4.42710018157959, 4.4257001876831055, 4.423299789428711, 4.263199806213379, 3.788300037384033, 3.7590999603271484, 3.367799997329712, 3.3329999446868896, 2.736299991607666, 2.635499954223633, 2.8208999633789062, 2.6698999404907227, 1.9417999982833862, 2.3745999336242676, 1.9352999925613403, 4.912700176239014, 4.911900043487549, 4.911600112915039, 4.911099910736084, 4.909999847412109, 4.909599781036377, 4.907899856567383, 4.907400131225586, 4.902100086212158, 4.901800155639648, 4.898600101470947, 4.898200035095215, 4.89769983291626, 4.8968000411987305, 4.8958001136779785, 4.895699977874756, 4.8942999839782715, 4.892199993133545, 4.888700008392334, 4.876200199127197, 4.873799800872803, 4.863500118255615, 4.85830020904541, 4.85699987411499, 4.835700035095215, 4.810400009155273, 4.810400009155273, 4.810400009155273, 4.810400009155273, 4.810400009155273, 4.790200233459473, 4.622099876403809, 4.462200164794922, 4.083399772644043, 4.515999794006348, 3.873300075531006, 3.2869999408721924, 3.244999885559082, 3.7720999717712402, 3.580399990081787, 3.1189000606536865, 2.609499931335449, 2.338099956512451, 2.862799882888794, 1.111799955368042, 1.6639000177383423, 1.2626999616622925, 1.7410999536514282, 2.474100112915039, 4.976099967956543, 4.975599765777588, 4.974999904632568, 4.974800109863281, 4.9745001792907715, 4.974400043487549, 4.974400043487549, 4.9741997718811035, 4.9741997718811035, 4.973800182342529, 4.973700046539307, 4.973499774932861, 4.973499774932861, 4.973199844360352, 4.9730000495910645, 4.972599983215332, 4.972599983215332, 4.972300052642822, 4.972300052642822, 4.972099781036377, 4.97189998626709, 4.971499919891357, 4.9704999923706055, 4.969299793243408, 4.9679999351501465, 4.967199802398682, 4.965700149536133, 4.964700222015381, 4.963900089263916, 4.962900161743164, 2.9498000144958496, 5.023499965667725, 5.021599769592285, 5.021399974822998, 5.021299839019775, 5.020100116729736, 5.020100116729736, 5.019999980926514, 5.019999980926514, 5.019599914550781, 5.019599914550781, 5.018799781799316, 5.018599987030029, 5.017499923706055, 5.017000198364258, 5.016900062561035, 5.0157999992370605, 5.015500068664551, 5.015500068664551, 5.013400077819824, 5.012499809265137, 5.01200008392334, 5.0096001625061035, 5.008500099182129, 5.007900238037109, 5.007699966430664, 4.996699810028076, 4.994500160217285, 4.991700172424316, 4.989200115203857, 4.986000061035156, 4.965799808502197, 4.890699863433838, 4.531000137329102, 4.431000232696533, 4.5183000564575195, 4.110400199890137, 4.037199974060059, 2.2848000526428223, 2.6120998859405518, 2.4765000343322754, 5.161900043487549, 5.161300182342529, 5.160699844360352, 5.160200119018555, 5.159900188446045, 5.1596999168396, 5.159599781036377, 5.1595001220703125, 5.158899784088135, 5.1585001945495605, 5.1585001945495605, 5.1585001945495605, 5.158199787139893, 5.157299995422363, 5.156599998474121, 5.155099868774414, 5.154799938201904, 5.154399871826172, 5.154300212860107, 5.1539998054504395, 5.15369987487793, 5.152200222015381, 5.152200222015381, 5.150899887084961, 5.1508002281188965, 5.149899959564209, 5.149600028991699, 5.1468000411987305, 5.146200180053711, 5.1417999267578125, 5.450399875640869, 5.44980001449585, 5.449100017547607, 5.449100017547607, 5.448599815368652, 5.447400093078613, 5.4471001625061035, 5.446899890899658, 5.445700168609619, 5.4440999031066895, 5.44379997253418, 5.442399978637695, 5.441999912261963, 5.437300205230713, 5.434700012207031, 5.43209981918335, 5.431300163269043, 5.421599864959717, 5.419099807739258, 5.3368000984191895, 5.308499813079834, 5.254899978637695, 5.205900192260742, 2.9102001190185547, 2.2288999557495117, 2.228800058364868, 2.228800058364868, 2.228800058364868, 2.228800058364868, 2.228800058364868, 2.1552000045776367, -0.9180999994277954, 2.228800058364868, 2.2284998893737793, 5.679699897766113, 5.679200172424316, 5.677999973297119, 5.677999973297119, 5.677599906921387, 5.677199840545654, 5.6768999099731445, 5.676499843597412, 5.675899982452393, 5.675600051879883, 5.675300121307373, 5.675099849700928, 5.671999931335449, 5.6697998046875, 5.667099952697754, 5.666200160980225, 5.665800094604492, 5.664899826049805, 5.664899826049805, 5.6645002365112305, 5.662799835205078, 5.662399768829346, 5.660099983215332, 5.660099983215332, 5.656099796295166, 5.655099868774414, 5.648099899291992, 5.645199775695801, 5.631800174713135, 5.627699851989746, 5.42080020904541, 5.756700038909912, 5.756400108337402, 5.756400108337402, 5.754899978637695, 5.7540998458862305, 5.7530999183654785, 5.751800060272217, 5.7515997886657715, 5.751399993896484, 5.750800132751465, 5.749000072479248, 5.748000144958496, 5.747399806976318, 5.747099876403809, 5.743899822235107, 5.742300033569336, 5.7378997802734375, 5.737500190734863, 5.734899997711182, 5.732699871063232, 5.723499774932861, 5.722499847412109, 5.7083001136779785, 5.691699981689453, 5.6645002365112305, 5.655399799346924, 5.359600067138672, 2.4704999923706055, 2.347599983215332, 2.347599983215332, 2.347599983215332, 2.347599983215332, 2.3473000526428223, 6.447999954223633, 6.446000099182129, 6.44320011138916, 6.4375, 6.436999797821045, 6.436100006103516, 6.430600166320801, 6.427499771118164, 6.426700115203857, 6.421299934387207, 6.416500091552734, 6.4028000831604, 6.385900020599365, 6.375, 6.361800193786621, 6.353899955749512, 6.340799808502197, 6.299600124359131, 6.137400150299072, 5.9207000732421875, 3.5850000381469727, 2.699199914932251, 2.6991000175476074, 2.6991000175476074, 2.6991000175476074, 2.6991000175476074, 2.6991000175476074, 2.6991000175476074, 2.6991000175476074, 2.6991000175476074, 2.6484999656677246, 2.6991000175476074, 2.6991000175476074, 2.6991000175476074, 2.6991000175476074, 6.489799976348877, 6.486400127410889, 6.482100009918213, 6.480800151824951, 6.4791998863220215, 6.477399826049805, 6.477099895477295, 6.475800037384033, 6.474999904632568, 6.468400001525879, 6.467700004577637, 6.456200122833252, 6.442800045013428, 6.429599761962891, 6.367400169372559, 2.6370999813079834, 2.6370999813079834, 2.6370999813079834, 2.63700008392334, 2.63700008392334, 2.63700008392334, 2.63700008392334, 2.63700008392334, 2.63700008392334, 2.63700008392334, 2.63700008392334, 2.63700008392334, 2.63700008392334, 2.63700008392334, 2.63700008392334, 2.63700008392334, 2.63700008392334, 2.63700008392334, 2.63700008392334, 6.79610013961792, 6.795599937438965, 6.790200233459473, 6.779699802398682, 6.779300212860107, 6.760900020599365, 6.754199981689453, 6.735799789428711, 6.7322998046875, 6.583399772644043, 6.577899932861328, 5.454599857330322, 2.727400064468384, 2.727400064468384, 2.727400064468384, 2.727400064468384, 2.727400064468384, 2.727400064468384, 2.727400064468384, 2.727400064468384, 2.727299928665161, 2.727299928665161, 2.727299928665161, 2.727299928665161, 2.727299928665161, 2.727299928665161, 2.727299928665161, 2.727299928665161, 2.727299928665161, 2.727299928665161, 2.727299928665161, 2.7272000312805176, 2.727299928665161, 2.727299928665161, 2.727299928665161, 2.727299928665161, 2.727299928665161], \"logprob\": [30.0, 29.0, 28.0, 27.0, 26.0, 25.0, 24.0, 23.0, 22.0, 21.0, 20.0, 19.0, 18.0, 17.0, 16.0, 15.0, 14.0, 13.0, 12.0, 11.0, 10.0, 9.0, 8.0, 7.0, 6.0, 5.0, 4.0, 3.0, 2.0, 1.0, -4.052199840545654, -4.395199775695801, -4.84499979019165, -4.948200225830078, -4.958099842071533, -5.117400169372559, -5.318699836730957, -5.409999847412109, -5.5177001953125, -5.543399810791016, -5.554599761962891, -5.577499866485596, -5.622399806976318, -5.652200222015381, -5.738999843597412, -5.7804999351501465, -5.810800075531006, -5.843400001525879, -5.857699871063232, -5.9344000816345215, -5.9355998039245605, -6.145500183105469, -6.167799949645996, -6.173799991607666, -6.194900035858154, -6.203700065612793, -6.246799945831299, -6.248300075531006, -6.265100002288818, -6.266200065612793, -3.3986001014709473, -3.7067999839782715, -4.59630012512207, -3.876199960708618, -4.461400032043457, -5.110000133514404, -4.171899795532227, -4.481100082397461, -4.704899787902832, -4.933000087738037, -5.34630012512207, -4.554699897766113, -5.317800045013428, -5.355400085449219, -4.486700057983398, -5.0142998695373535, -5.081900119781494, -5.085700035095215, -5.171000003814697, -4.294099807739258, -5.192500114440918, -4.800099849700928, -4.710400104522705, -5.00540018081665, -5.157700061798096, -5.245800018310547, -5.2855000495910645, -5.271500110626221, -4.501299858093262, -4.821199893951416, -4.9604997634887695, -5.051499843597412, -5.082300186157227, -5.19379997253418, -5.30709981918335, -5.309700012207031, -5.359300136566162, -5.364200115203857, -5.410600185394287, -5.422699928283691, -5.429800033569336, -5.443399906158447, -5.448999881744385, -5.526599884033203, -5.5903000831604, -5.626999855041504, -5.745999813079834, -5.846199989318848, -5.849999904632568, -5.872000217437744, -5.911200046539307, -5.936800003051758, -5.950300216674805, -5.99399995803833, -6.017600059509277, -6.039899826049805, -6.060299873352051, -6.10260009765625, -4.629000186920166, -4.629499912261963, -5.3343000411987305, -5.650599956512451, -4.229100227355957, -4.99429988861084, -4.945199966430664, -5.190100193023682, -4.820899963378906, -4.770299911499023, -4.769199848175049, -5.112199783325195, -4.007500171661377, -5.100200176239014, -4.003600120544434, -4.70959997177124, -4.837699890136719, -5.141200065612793, -5.219299793243408, -5.009799957275391, -4.77400016784668, -4.60129976272583, -4.886300086975098, -5.053199768066406, -5.215099811553955, -5.254300117492676, -5.197500228881836, -3.4282000064849854, -3.532599925994873, -4.189700126647949, -4.361700057983398, -4.689199924468994, -4.78249979019165, -3.298799991607666, -4.857800006866455, -4.89300012588501, -5.134500026702881, -5.139100074768066, -5.163599967956543, -5.207799911499023, -5.260000228881836, -5.30679988861084, -5.459400177001953, -5.548399925231934, -5.611199855804443, -5.611299991607666, -5.628900051116943, -5.7164998054504395, -5.749300003051758, -5.76669979095459, -5.7779998779296875, -5.906300067901611, -5.938799858093262, -5.946300029754639, -5.961699962615967, -5.962699890136719, -5.968599796295166, -3.950200080871582, -5.160699844360352, -5.2795000076293945, -2.5950000286102295, -2.50219988822937, -4.930300235748291, -4.797699928283691, -5.05810022354126, -5.050000190734863, -4.183199882507324, -4.92140007019043, -4.241499900817871, -4.432199954986572, -3.6577999591827393, -3.5371999740600586, -5.052599906921387, -4.965000152587891, -4.835700035095215, -4.695499897003174, -4.8053998947143555, -5.0578999519348145, -4.9868998527526855, -5.060400009155273, -4.989799976348877, -4.972799777984619, -3.5206000804901123, -3.7804999351501465, -4.017199993133545, -4.104100227355957, -4.396500110626221, -4.552000045776367, -4.56220006942749, -4.570700168609619, -4.685299873352051, -4.963699817657471, -4.972400188446045, -5.021299839019775, -5.068600177764893, -5.078400135040283, -5.0879998207092285, -5.11329984664917, -5.1280999183654785, -5.1834001541137695, -5.271900177001953, -5.2779998779296875, -5.420599937438965, -5.438300132751465, -5.444699764251709, -5.452700138092041, -5.47189998626709, -5.472899913787842, -5.570099830627441, -5.609300136566162, -5.684500217437744, -5.69379997253418, -4.850200176239014, -4.690400123596191, -4.233799934387207, -3.791800022125244, -5.203199863433838, -3.9626998901367188, -4.791100025177002, -3.59060001373291, -4.268700122833252, -5.110799789428711, -4.008299827575684, -4.328800201416016, -4.189899921417236, -3.70169997215271, -4.471799850463867, -4.593599796295166, -4.585000038146973, -5.069300174713135, -3.890199899673462, -4.330699920654297, -4.357900142669678, -4.505099773406982, -4.52839994430542, -4.729700088500977, -4.748499870300293, -4.839700222015381, -4.877900123596191, -4.882299900054932, -4.899199962615967, -4.923399925231934, -5.005799770355225, -5.072299957275391, -5.0995001792907715, -5.105999946594238, -5.158199787139893, -5.216000080108643, -5.229300022125244, -5.234899997711182, -5.333000183105469, -5.3506999015808105, -5.372099876403809, -5.387700080871582, -5.389200210571289, -5.431399822235107, -5.43179988861084, -5.471199989318848, -5.493599891662598, -5.547800064086914, -4.147200107574463, -3.6796998977661133, -4.392600059509277, -4.007900238037109, -4.672599792480469, -4.290999889373779, -4.186600208282471, -4.977799892425537, -4.646200180053711, -4.118500232696533, -4.194799900054932, -4.176599979400635, -3.960599899291992, -4.916200160980225, -4.903900146484375, -4.902200222015381, -4.860499858856201, -4.889400005340576, -4.891200065612793, -3.1837000846862793, -3.4223999977111816, -3.656399965286255, -4.061200141906738, -4.281400203704834, -4.486000061035156, -4.566400051116943, -4.628699779510498, -4.648200035095215, -4.727700233459473, -4.781899929046631, -4.7891998291015625, -4.818600177764893, -4.901899814605713, -4.9217000007629395, -4.97730016708374, -5.0106000900268555, -5.066299915313721, -5.092299938201904, -5.099999904632568, -5.122600078582764, -5.195400238037109, -5.208899974822998, -5.2332000732421875, -5.234300136566162, -5.251800060272217, -5.287799835205078, -5.3881001472473145, -5.388500213623047, -5.410600185394287, -4.723299980163574, -4.0808000564575195, -5.102200031280518, -4.6255998611450195, -3.371500015258789, -4.88100004196167, -4.454999923706055, -4.430099964141846, -5.107500076293945, -4.912799835205078, -5.095200061798096, -2.468600034713745, -3.8041999340057373, -3.807300090789795, -3.9776999950408936, -4.128200054168701, -4.137700080871582, -4.183899879455566, -4.228400230407715, -4.239799976348877, -4.261600017547607, -4.344399929046631, -4.364200115203857, -4.375800132751465, -4.396699905395508, -4.400100231170654, -4.420000076293945, -4.426400184631348, -4.460700035095215, -4.49560022354126, -4.526299953460693, -4.5991997718811035, -4.599299907684326, -4.621399879455566, -4.634900093078613, -4.660699844360352, -4.667300224304199, -4.697400093078613, -4.70989990234375, -4.737299919128418, -4.765699863433838, -3.587100028991699, -2.822999954223633, -3.0292999744415283, -3.703900098800659, -3.7049999237060547, -3.9556000232696533, -4.122900009155273, -4.187399864196777, -4.443299770355225, -4.585000038146973, -4.599400043487549, -4.704500198364258, -4.706600189208984, -4.827499866485596, -4.857100009918213, -4.929500102996826, -5.058000087738037, -5.087500095367432, -5.116799831390381, -5.127399921417236, -5.218699932098389, -5.228300094604492, -5.283299922943115, -5.390600204467773, -5.400599956512451, -5.418499946594238, -5.445300102233887, -5.47189998626709, -5.5493998527526855, -5.681099891662598, -5.911900043487549, -4.607800006866455, -3.8808999061584473, -3.6073999404907227, -3.9693000316619873, -4.285299777984619, -4.363399982452393, -3.870300054550171, -4.252600193023682, -3.691800117492676, -3.7574000358581543, -4.061999797821045, -4.363800048828125, -4.5995001792907715, -4.802999973297119, -4.462600231170654, -4.427999973297119, -4.604000091552734, -4.74970006942749, -4.75, -2.2114999294281006, -2.9033000469207764, -3.9340999126434326, -3.992000102996826, -4.00570011138916, -4.097099781036377, -4.115099906921387, -4.156000137329102, -4.188899993896484, -4.191699981689453, -4.309599876403809, -4.32889986038208, -4.3744001388549805, -4.401199817657471, -4.548299789428711, -4.561500072479248, -4.564899921417236, -4.597599983215332, -4.653200149536133, -4.747499942779541, -4.775000095367432, -4.870100021362305, -4.951900005340576, -4.9558000564575195, -4.980400085449219, -5.017199993133545, -5.044899940490723, -5.119200229644775, -5.138000011444092, -5.1915998458862305, -4.200900077819824, -4.178599834442139, -4.464300155639648, -4.693699836730957, -2.0452001094818115, -2.360100030899048, -2.6308000087738037, -3.531599998474121, -3.6010000705718994, -3.6029000282287598, -3.7409000396728516, -3.7446999549865723, -3.812999963760376, -4.026000022888184, -4.051700115203857, -4.0746002197265625, -4.80019998550415, -4.834000110626221, -4.838200092315674, -4.955900192260742, -5.196899890899658, -5.372600078582764, -5.413000106811523, -5.444499969482422, -5.451300144195557, -5.586299896240234, -5.607999801635742, -5.774600028991699, -5.963200092315674, -5.973199844360352, -6.156300067901611, -6.161799907684326, -6.230000019073486, -6.343699932098389, -3.315200090408325, -3.661400079727173, -3.674299955368042, -3.8635001182556152, -4.493299961090088, -3.9700000286102295, -4.268400192260742, -4.458899974822998, -4.817200183868408, -4.614299774169922, -5.170300006866455, -5.201000213623047, -1.7374999523162842, -2.948199987411499, -3.1640000343322754, -3.4481000900268555, -3.8517000675201416, -3.9867000579833984, -4.387400150299072, -4.466899871826172, -5.137199878692627, -5.156799793243408, -5.412199974060059, -5.436200141906738, -5.471099853515625, -5.5329999923706055, -5.592299938201904, -5.595900058746338, -5.6743998527526855, -5.782599925994873, -5.9394001960754395, -6.357699871063232, -6.422299861907959, -6.660399913787842, -6.76200008392334, -6.785099983215332, -7.118100166320801, -7.414299964904785, -7.414299964904785, -7.414299964904785, -7.414299964904785, -7.414400100708008, -3.8608999252319336, -3.4962000846862793, -4.6458001136779785, -2.893699884414673, -5.988100051879883, -4.322800159454346, -3.1837000846862793, -4.1585001945495605, -5.053699970245361, -4.956399917602539, -4.459499835968018, -4.0843000411987305, -4.368199825286865, -4.8354997634887695, -4.546000003814697, -5.080100059509277, -5.038400173187256, -5.266499996185303, -5.332200050354004, -2.325500011444092, -2.8696999549865723, -3.2697999477386475, -3.3642001152038574, -3.507200002670288, -3.5645999908447266, -3.5796000957489014, -3.6268999576568604, -3.6526999473571777, -3.798799991607666, -3.8308000564575195, -3.8671998977661133, -3.8708999156951904, -3.955199956893921, -4.023399829864502, -4.109799861907959, -4.117499828338623, -4.188700199127197, -4.190499782562256, -4.231599807739258, -4.265900135040283, -4.3566999435424805, -4.52370023727417, -4.699699878692627, -4.849299907684326, -4.938000202178955, -5.086699962615967, -5.171800136566162, -5.233799934387207, -5.3084001541137695, -5.15500020980835, -1.7062000036239624, -3.472100019454956, -3.5536000728607178, -3.6119000911712646, -3.97760009765625, -3.9809000492095947, -3.984600067138672, -3.9904000759124756, -4.100299835205078, -4.104499816894531, -4.254199981689453, -4.3094000816345215, -4.494699954986572, -4.563799858093262, -4.57859992980957, -4.7230000495910645, -4.75600004196167, -4.761199951171875, -4.979800224304199, -5.067200183868408, -5.104700088500977, -5.291200160980225, -5.364500045776367, -5.404699802398682, -5.416800022125244, -5.940499782562256, -6.018199920654297, -6.11269998550415, -6.186200141906738, -6.277200222015381, -4.1956000328063965, -4.729100227355957, -3.6298999786376953, -3.621999979019165, -4.367700099945068, -3.7760000228881836, -4.778600215911865, -4.152200222015381, -4.893599987030029, -5.0117998123168945, -2.1979000568389893, -2.811500072479248, -3.1357998847961426, -3.3996999263763428, -3.4874000549316406, -3.579699993133545, -3.6034998893737793, -3.6224000453948975, -3.816800117492676, -3.911799907684326, -3.9147000312805176, -3.9186999797821045, -3.9737000465393066, -4.156000137329102, -4.292900085449219, -4.505000114440918, -4.5447998046875, -4.594200134277344, -4.605299949645996, -4.645199775695801, -4.67710018157959, -4.831500053405762, -4.832499980926514, -4.95419979095459, -4.963500022888184, -5.039100170135498, -5.060299873352051, -5.255199909210205, -5.290599822998047, -5.52869987487793, -2.2679998874664307, -2.6891000270843506, -3.0729000568389893, -3.0736000537872314, -3.2425999641418457, -3.5947999954223633, -3.6779000759124756, -3.723900079727173, -3.9407999515533447, -4.191500186920166, -4.227799892425537, -4.404399871826172, -4.441199779510498, -4.8495001792907715, -5.017600059509277, -5.162300109863281, -5.203000068664551, -5.603099822998047, -5.685100078582764, -6.991000175476074, -2.796299934387207, -7.571700096130371, -7.819900035858154, -5.507599830627441, -12.280500411987305, -12.280500411987305, -12.280500411987305, -12.280500411987305, -12.280500411987305, -12.280500411987305, -5.156099796295166, -8.775699615478516, -12.280500411987305, -12.280500411987305, -3.1333999633789062, -3.2746999263763428, -3.5571000576019287, -3.561500072479248, -3.6352999210357666, -3.7167000770568848, -3.7592999935150146, -3.828700065612793, -3.912899971008301, -3.964900016784668, -4.0015997886657715, -4.028600215911865, -4.355000019073486, -4.541999816894531, -4.731299877166748, -4.786799907684326, -4.811299800872803, -4.861299991607666, -4.863699913024902, -4.882500171661377, -4.9730000495910645, -4.991000175476074, -5.099699974060059, -5.101099967956543, -5.263700008392334, -5.301199913024902, -5.52810001373291, -5.609399795532227, -5.9197998046875, -5.998300075531006, -4.28000020980835, -2.951200008392334, -3.046099901199341, -3.065700054168701, -3.427299976348877, -3.589900016784668, -3.759999990463257, -3.9403998851776123, -3.9630000591278076, -3.9881999492645264, -4.056000232696533, -4.242800235748291, -4.339099884033203, -4.3831000328063965, -4.414400100708008, -4.638199806213379, -4.735400199890137, -4.965199947357178, -4.982800006866455, -5.097700119018555, -5.184299945831299, -5.480899810791016, -5.509099960327148, -5.840099811553955, -6.128499984741211, -6.478300094604492, -6.5742998123168945, -2.4667000770568848, -6.33050012588501, -12.161700248718262, -12.161700248718262, -12.161600112915039, -12.161700248718262, -12.161600112915039, -2.908400058746338, -3.2137999534606934, -3.522900104522705, -3.9621999263763428, -3.9927000999450684, -4.0503997802734375, -4.322299957275391, -4.4492998123168945, -4.480999946594238, -4.665500164031982, -4.807400226593018, -5.127500057220459, -5.4217000007629395, -5.576499938964844, -5.7382001876831055, -5.825500011444092, -5.954500198364258, -6.287099838256836, -3.407099962234497, -7.728400230407715, -6.483500003814697, -11.810099601745605, -11.810199737548828, -11.810099601745605, -11.810199737548828, -11.810199737548828, -11.810199737548828, -11.810199737548828, -11.810199737548828, -11.810199737548828, -7.268700122833252, -11.810199737548828, -11.810199737548828, -11.810199737548828, -11.810199737548828, -2.405600070953369, -3.075900077819824, -3.5532000064849854, -3.6661999225616455, -3.7839999198913574, -3.9049999713897705, -3.9272000789642334, -4.003399848937988, -4.05109977722168, -4.360599994659424, -4.387800216674805, -4.762599945068359, -5.077700138092041, -5.317200183868408, -6.0289998054504395, -11.872200012207031, -11.872300148010254, -11.872300148010254, -11.872300148010254, -11.872200012207031, -11.872300148010254, -11.872300148010254, -11.872300148010254, -11.872300148010254, -11.872300148010254, -11.871999740600586, -11.872300148010254, -11.872300148010254, -11.872300148010254, -11.872300148010254, -11.872300148010254, -11.872300148010254, -11.872300148010254, -11.872300148010254, -2.5336999893188477, -2.6326000690460205, -3.2643001079559326, -3.9202001094818115, -3.9351000785827637, -4.547100067138672, -4.701300144195557, -5.038400173187256, -5.091100215911865, -6.3140997886657715, -6.3420000076293945, -4.761499881744385, -11.781800270080566, -11.781900405883789, -11.781900405883789, -11.781900405883789, -11.781999588012695, -11.781900405883789, -11.781900405883789, -11.781999588012695, -11.781999588012695, -11.781999588012695, -11.781999588012695, -11.781999588012695, -11.781999588012695, -11.781999588012695, -11.781999588012695, -11.781999588012695, -11.781999588012695, -11.781999588012695, -11.781999588012695, -11.781800270080566, -11.781999588012695, -11.781999588012695, -11.781999588012695, -11.781999588012695, -11.781999588012695]}, \"token.table\": {\"Topic\": [9, 2, 10, 17, 12, 14, 6, 13, 2, 2, 10, 3, 7, 12, 5, 13, 1, 9, 1, 2, 3, 4, 8, 12, 11, 5, 6, 14, 11, 1, 3, 14, 4, 13, 1, 11, 3, 4, 5, 6, 15, 15, 2, 13, 17, 5, 12, 1, 3, 17, 2, 1, 5, 11, 18, 4, 8, 18, 11, 7, 1, 1, 6, 14, 7, 9, 6, 7, 9, 5, 9, 14, 18, 1, 1, 2, 2, 11, 9, 15, 1, 4, 18, 13, 11, 6, 3, 10, 9, 13, 16, 19, 6, 13, 9, 13, 16, 16, 13, 7, 16, 10, 10, 6, 14, 3, 9, 10, 16, 8, 9, 18, 1, 10, 8, 19, 9, 12, 1, 5, 6, 8, 14, 4, 13, 10, 14, 5, 7, 15, 16, 6, 2, 5, 14, 6, 18, 2, 2, 19, 16, 2, 7, 7, 5, 2, 5, 6, 5, 9, 11, 11, 9, 4, 11, 5, 9, 4, 17, 3, 1, 2, 17, 5, 12, 15, 1, 3, 16, 8, 8, 3, 3, 12, 11, 12, 5, 6, 8, 20, 5, 3, 3, 5, 10, 19, 9, 4, 13, 13, 1, 2, 5, 10, 12, 17, 10, 7, 3, 8, 10, 3, 10, 11, 9, 1, 2, 7, 8, 10, 3, 15, 1, 3, 4, 8, 16, 8, 5, 8, 1, 8, 8, 10, 11, 9, 4, 10, 4, 3, 5, 3, 6, 10, 1, 4, 15, 8, 17, 10, 10, 1, 5, 1, 13, 16, 12, 18, 20, 1, 3, 4, 14, 14, 11, 3, 18, 1, 12, 5, 9, 17, 19, 6, 1, 2, 2, 11, 5, 13, 1, 2, 4, 9, 1, 5, 11, 9, 2, 4, 2, 18, 18, 11, 8, 1, 2, 5, 2, 17, 6, 4, 1, 4, 10, 3, 5, 4, 5, 1, 8, 4, 1, 5, 5, 1, 2, 4, 5, 6, 8, 2, 3, 4, 5, 6, 8, 6, 19, 4, 1, 11, 7, 8, 6, 15, 2, 20, 10, 1, 3, 4, 17, 1, 2, 17, 14, 1, 6, 1, 6, 5, 11, 12, 17, 3, 2, 18, 5, 14, 2, 4, 5, 6, 6, 1, 10, 4, 1, 11, 1, 12, 1, 3, 4, 8, 12, 12, 5, 20, 13, 10, 15, 3, 11, 17, 12, 2, 4, 10, 10, 16, 12, 1, 12, 4, 3, 2, 3, 4, 5, 6, 8, 17, 2, 3, 4, 5, 8, 11, 13, 9, 15, 8, 4, 3, 16, 8, 20, 17, 8, 11, 2, 3, 10, 5, 8, 10, 13, 12, 7, 10, 18, 2, 3, 4, 5, 15, 13, 18, 2, 2, 8, 8, 13, 2, 19, 20, 16, 11, 3, 1, 2, 5, 6, 13, 1, 2, 3, 2, 5, 9, 16, 8, 4, 6, 1, 2, 5, 1, 5, 6, 4, 9, 2, 5, 9, 1, 2, 6, 6, 2, 8, 4, 1, 2, 1, 3, 1, 18, 1, 1, 3, 4, 3, 1, 11, 4, 10, 4, 1, 4, 17, 1, 2, 20, 1, 2, 5, 13, 6, 8, 11, 1, 2, 4, 5, 10, 5, 1, 8, 12, 20, 13, 7, 1, 2, 4, 6, 8, 1, 1, 2, 12, 15, 15, 4, 11, 18, 4, 10, 5, 2, 3, 4, 11, 7, 4, 4, 15, 17, 5, 16, 4, 4, 2, 1, 15, 3, 20, 17, 19, 19, 4, 15, 1, 5, 7, 9, 3, 16, 1, 7, 16, 1, 2, 4, 8, 2, 5, 6, 8, 2, 19, 1, 3, 4, 8, 3, 1, 2, 3, 5, 5, 6, 1, 3, 5, 3, 1, 6, 11, 3, 20, 12, 1, 2, 12, 16, 16, 2, 8, 14, 9, 18, 1, 1, 3, 7, 3, 16, 16, 11, 6, 18, 4, 7, 4, 13, 9, 1, 2, 3, 4, 7, 9, 7, 18, 15, 4, 10, 13, 19, 14, 1, 2, 5, 6, 5, 17, 1, 2, 13, 12, 3, 15, 7, 16, 6, 6, 8, 8, 6, 6, 8, 18, 5, 5, 5, 4, 1, 2, 3, 15, 1, 2, 15, 15, 5, 1, 4, 5, 4, 3, 11, 3, 11, 11, 12, 1, 1, 4, 4, 8, 10, 5, 11, 1, 5, 11, 2, 6, 1, 2, 4, 5, 8, 11, 14, 2, 5, 8, 11, 13, 5, 8, 13, 8, 13, 1, 1, 2, 3, 4, 16, 14, 8, 14, 13, 1, 1, 2, 15, 17, 2, 3, 4, 8, 13, 17, 14, 2, 2, 1, 4, 3, 5, 1, 3, 4, 5, 6, 8, 13, 13, 13, 9, 1, 2, 5, 13, 13, 15, 11, 1, 4, 6, 1, 14, 12, 14, 11, 1, 2, 5, 14, 8, 2, 8, 2, 6, 4, 10, 9, 6, 5, 11, 2, 4, 12, 1, 2, 11, 1, 3, 1, 3, 4, 5, 19, 7, 6, 15, 1, 3, 8, 1, 8, 10, 13, 2, 9, 3, 12, 14, 2, 1, 10, 20, 19, 14, 4, 5, 7, 1, 2, 16, 19, 8, 17, 8, 1, 4, 10, 10, 13, 16, 9, 1, 3, 4, 10, 11, 6, 6, 1, 2, 3, 5, 2, 9, 14, 1, 16, 1, 2, 5, 13, 6, 7, 19, 2, 15, 7, 7, 10, 11, 7, 1, 2, 3, 4, 5, 13, 1, 7, 1, 3, 4, 8, 11, 1, 2, 5, 10, 5, 17, 6, 10, 1, 4, 8, 1, 2, 7, 12, 14, 3, 1, 2, 1, 2, 1, 2, 7, 14, 7, 1, 2, 4, 11, 13, 1, 2, 5, 8, 16, 12, 6, 10, 10, 13, 16, 1, 2, 15, 9, 1, 2, 4, 1, 2, 11, 2, 1, 2, 4, 7, 17, 11, 9, 5, 5, 1, 20, 11, 14, 11, 5, 2, 3, 6, 4, 11, 4, 3, 5, 6, 1, 2, 3, 4, 11, 3, 16, 14, 14, 4, 10, 5, 4, 2, 4, 5, 8, 18, 5, 1, 3, 5, 9, 1, 2, 5, 5, 2, 18, 17, 1, 2, 5, 17, 18, 17, 1, 9, 17, 4, 6, 4, 7, 16, 1, 5, 13, 9, 2, 4, 1, 3, 4, 5, 1, 2, 3, 7, 1, 2, 3, 1, 5, 6, 12, 16], \"Freq\": [0.999722957611084, 0.9990556836128235, 0.3287751078605652, 0.6700841784477234, 0.9978573322296143, 0.9922796487808228, 0.05130024254322052, 0.9417258501052856, 0.9991320967674255, 0.9993644952774048, 0.9963237643241882, 0.9993720054626465, 0.9995266795158386, 0.995429515838623, 0.3880154490470886, 0.6103159785270691, 0.5542119145393372, 0.4442156255245209, 0.5233115553855896, 0.17572182416915894, 0.0864386186003685, 0.21407781541347504, 0.00036704298690892756, 0.9959209561347961, 0.9927952885627747, 0.7807597517967224, 0.2186608761548996, 0.9917153120040894, 0.9978249073028564, 0.18304890394210815, 0.8167527914047241, 0.9989966154098511, 0.9995423555374146, 0.9717390537261963, 0.911923348903656, 0.08693984150886536, 0.9989486932754517, 0.047240130603313446, 0.38112378120422363, 0.5708850026130676, 0.998264491558075, 0.9948443174362183, 0.9993396997451782, 0.9914399981498718, 0.9948372840881348, 0.9994338750839233, 0.9963238835334778, 0.5339604616165161, 0.46600669622421265, 0.9920918345451355, 0.9979612827301025, 0.034114137291908264, 0.7764125466346741, 0.1888912469148636, 0.9859654903411865, 0.9377795457839966, 0.061952855437994, 0.9300065040588379, 0.9606041312217712, 0.9999240040779114, 0.9998024106025696, 0.9994969964027405, 0.9977468848228455, 0.9969062805175781, 0.9991028308868408, 0.9959042072296143, 0.9981932640075684, 0.9989969730377197, 0.9983859062194824, 0.9972898960113525, 0.9941506385803223, 0.9970420598983765, 0.6515831351280212, 0.9999604225158691, 0.12060970067977905, 0.8793005347251892, 0.9991438388824463, 0.9408640265464783, 0.9993493556976318, 0.9858706593513489, 0.20701776444911957, 0.792660117149353, 0.8949551582336426, 0.9933884143829346, 0.9872979521751404, 0.9983556270599365, 0.4960000216960907, 0.5031601190567017, 0.9966919422149658, 0.9996664524078369, 0.994029700756073, 0.9921430349349976, 0.9988266229629517, 0.9954412579536438, 0.9969882369041443, 0.9848188161849976, 0.9780786633491516, 0.951006293296814, 0.9956142902374268, 0.9994674921035767, 0.9833278059959412, 0.9950277209281921, 0.997812032699585, 0.9990549087524414, 0.9887681603431702, 0.9909292459487915, 0.008678927086293697, 0.9981540441513062, 0.9934377074241638, 0.9942370653152466, 0.9985855221748352, 0.8997461199760437, 0.9996395111083984, 0.9994056224822998, 0.9968317151069641, 0.9915794134140015, 0.995324432849884, 0.9962508082389832, 0.2911853492259979, 0.14909347891807556, 0.06795697659254074, 0.4913495182991028, 0.9951102137565613, 0.9991343021392822, 0.9912353157997131, 0.9935338497161865, 0.9838317632675171, 0.19468022882938385, 0.8049699068069458, 0.8692046403884888, 0.989423930644989, 0.997850239276886, 0.39397621154785156, 0.6056475639343262, 0.9990168213844299, 0.9970221519470215, 0.9799747467041016, 0.9989641904830933, 0.9997951984405518, 0.974909782409668, 0.9865988492965698, 0.9996693134307861, 0.9993823766708374, 0.9986729621887207, 0.99934983253479, 0.9472915530204773, 0.0523783341050148, 0.997675359249115, 0.9024357795715332, 0.09617796540260315, 0.9987388253211975, 0.9975534677505493, 0.9980571269989014, 0.9788931608200073, 0.020510142669081688, 0.09424024820327759, 0.9043757319450378, 0.9993147253990173, 0.9919996857643127, 0.9996526837348938, 0.8543646335601807, 0.14544229209423065, 0.9861445426940918, 0.9989702105522156, 0.13120043277740479, 0.8661776781082153, 0.07520680874586105, 0.9239693880081177, 0.9936007261276245, 0.9970117807388306, 0.996229350566864, 0.9997096061706543, 0.9991824626922607, 0.9894704222679138, 0.9409491419792175, 0.9954272508621216, 0.0819457545876503, 0.13538864254951477, 0.7826413512229919, 0.9717556238174438, 0.998169481754303, 0.9981892704963684, 0.9984146356582642, 0.9977715611457825, 0.9983958601951599, 0.985386848449707, 0.9930792450904846, 0.9906970858573914, 0.008855393156409264, 0.9800477623939514, 0.9998384118080139, 0.0343201607465744, 0.9647778272628784, 0.9980100989341736, 0.9943164587020874, 0.9929848313331604, 0.9873237013816833, 0.9987356066703796, 0.998211145401001, 0.993546187877655, 0.9984326958656311, 0.7424734234809875, 0.1808992475271225, 0.07613498717546463, 0.9971731305122375, 0.924636721611023, 0.07511351257562637, 0.9995055794715881, 0.99284827709198, 0.9926847219467163, 0.998701810836792, 0.8588289618492126, 0.43984633684158325, 0.06860435009002686, 0.19462227821350098, 0.2963124215602875, 0.993990421295166, 0.9945704936981201, 0.2381570190191269, 0.7593593001365662, 0.2570762634277344, 0.7424821853637695, 0.998912513256073, 0.8329638242721558, 0.16629178822040558, 0.9966065883636475, 0.4809471666812897, 0.5179939866065979, 0.9996243715286255, 0.9216957092285156, 0.0777999609708786, 0.17667193710803986, 0.8228068351745605, 0.9799538254737854, 0.9671468734741211, 0.03281668946146965, 0.9982325434684753, 0.9985793232917786, 0.9894155263900757, 0.9996277689933777, 0.9992468953132629, 0.13103623688220978, 0.8684577941894531, 0.9993966817855835, 0.9954051375389099, 0.9617171883583069, 0.9983367323875427, 0.9663383960723877, 0.9446582794189453, 0.999298632144928, 0.8857681155204773, 0.11386394500732422, 0.9778099656105042, 0.9875660538673401, 0.9982706904411316, 0.9989156126976013, 0.8990991115570068, 0.9994419813156128, 0.9974581599235535, 0.9984245896339417, 0.9929129481315613, 0.9391215443611145, 0.981531023979187, 0.9977462887763977, 0.7794060707092285, 0.22039048373699188, 0.9997201561927795, 0.9828524589538574, 0.3922596871852875, 0.6036904454231262, 0.07037247717380524, 0.7535887360572815, 0.17532800137996674, 0.9983848333358765, 0.6182064414024353, 0.060248930007219315, 0.3195813000202179, 0.9977437257766724, 0.9219983816146851, 0.07778256386518478, 0.9985589385032654, 0.9717511534690857, 0.9788159132003784, 0.8969842195510864, 0.9964451789855957, 0.2212027907371521, 0.7256439924240112, 0.052890945225954056, 0.999318540096283, 0.9939955472946167, 0.9993330836296082, 0.999462902545929, 0.4457133710384369, 0.3839040994644165, 0.1689452826976776, 0.9995692372322083, 0.998905599117279, 0.9993866682052612, 0.9989268779754639, 0.5715532898902893, 0.42688998579978943, 0.9997695088386536, 0.1725999414920807, 0.826687753200531, 0.9983735680580139, 0.6423513889312744, 0.07826612144708633, 0.029456522315740585, 0.05009031668305397, 0.1997920572757721, 0.9966064691543579, 0.5023882389068604, 0.15182670950889587, 0.2836689352989197, 0.026923567056655884, 0.03525044396519661, 0.9966068863868713, 0.9984639883041382, 0.9770044088363647, 0.999082624912262, 0.7338236570358276, 0.2629207670688629, 0.9989590644836426, 0.9936832785606384, 0.9996492862701416, 0.9822485446929932, 0.7258847951889038, 0.2630017399787903, 0.9921916127204895, 0.9000493288040161, 0.06642895936965942, 0.03347725421190262, 0.9759212136268616, 0.7821244597434998, 0.21762068569660187, 0.9839134216308594, 0.9881924986839294, 0.9999309182167053, 0.9993038773536682, 0.9657760858535767, 0.034123435616493225, 0.8030434846878052, 0.19659776985645294, 0.9957144856452942, 0.9964225888252258, 0.9990952014923096, 0.9983886480331421, 0.9776687026023865, 0.999654233455658, 0.9961243867874146, 0.44037190079689026, 0.08729839324951172, 0.3207407593727112, 0.15131722390651703, 0.9983204007148743, 0.8360137343406677, 0.16367623209953308, 0.9992018342018127, 0.9998824000358582, 0.9425132870674133, 0.9997483491897583, 0.9967241287231445, 0.31686487793922424, 0.5322695970535278, 0.1508031189441681, 0.9962472915649414, 0.9909694194793701, 0.9914986491203308, 0.9986644387245178, 0.9727463126182556, 0.9846781492233276, 0.9934261441230774, 0.9948785305023193, 0.9998517632484436, 0.9408606886863708, 0.9939061403274536, 0.9983853697776794, 0.9995397925376892, 0.9990159869194031, 0.9797179102897644, 0.9962400197982788, 0.9598875045776367, 0.9937794208526611, 0.9992007613182068, 0.9979764819145203, 0.9997895359992981, 0.9997237920761108, 0.14603988826274872, 0.07014937698841095, 0.6214768290519714, 0.0572318471968174, 0.03372911363840103, 0.07140524685382843, 0.9609990119934082, 0.052861589938402176, 0.48435479402542114, 0.29430481791496277, 0.022445198148489, 0.11977764964103699, 0.026011258363723755, 0.9859878420829773, 0.9949600696563721, 0.9682420492172241, 0.9985321164131165, 0.9989964962005615, 0.9990823864936829, 0.970349907875061, 0.9944754242897034, 0.9696803689002991, 0.9584166407585144, 0.9955143332481384, 0.9602575898170471, 0.017101334407925606, 0.9821866750717163, 0.9977698922157288, 0.4483163058757782, 0.5505884885787964, 0.9934152364730835, 0.995460569858551, 0.9972608685493469, 0.9991993308067322, 0.9873402714729309, 0.9008471965789795, 0.744331955909729, 0.031028524041175842, 0.054652512073516846, 0.16959908604621887, 0.9749782681465149, 0.9921215772628784, 0.9396620392799377, 0.9989713430404663, 0.9990817308425903, 0.9915874004364014, 0.9952375292778015, 0.9906508922576904, 0.9989925026893616, 0.9957482218742371, 0.7682676315307617, 0.976433277130127, 0.9996047616004944, 0.99924635887146, 0.1498280167579651, 0.05177123472094536, 0.7978256344795227, 0.9922939538955688, 0.006634248420596123, 0.7844045162200928, 0.06852557510137558, 0.14696602523326874, 0.9989830851554871, 0.9979100227355957, 0.22621849179267883, 0.7666293382644653, 0.998401403427124, 0.05898458883166313, 0.9398211240768433, 0.025192510336637497, 0.08743283152580261, 0.8869245648384094, 0.5812315344810486, 0.04131977632641792, 0.3771118223667145, 0.603453516960144, 0.3954637050628662, 0.74302077293396, 0.2566363513469696, 0.9980149269104004, 0.28963643312454224, 0.34655630588531494, 0.3636826276779175, 0.9980104565620422, 0.34539794921875, 0.6540932655334473, 0.9993125796318054, 0.24493609368801117, 0.7547070384025574, 0.12657484412193298, 0.8733822107315063, 0.9997115135192871, 0.995222806930542, 0.9996774196624756, 0.6569063663482666, 0.30189627408981323, 0.04091730713844299, 0.9992746710777283, 0.9996723532676697, 0.9408640265464783, 0.918371319770813, 0.08124612271785736, 0.9995031952857971, 0.16527029871940613, 0.834413468837738, 0.9955199360847473, 0.8406498432159424, 0.1592908799648285, 0.9930111169815063, 0.18022646009922028, 0.7064877152442932, 0.04854099452495575, 0.06464122235774994, 0.060881756246089935, 0.9367934465408325, 0.9885854721069336, 0.5462170839309692, 0.38433608412742615, 0.06280773878097534, 0.006438450422137976, 0.991118311882019, 0.998706579208374, 0.2713996469974518, 0.7276502847671509, 0.9914724230766296, 0.9845409393310547, 0.9955306649208069, 0.9993290901184082, 0.6115301847457886, 0.28571492433547974, 0.09581352025270462, 0.00665599899366498, 0.0002465184952598065, 0.9996148347854614, 0.4343806207180023, 0.565401554107666, 0.9981357455253601, 0.997486412525177, 0.9952164888381958, 0.2504616975784302, 0.7475119829177856, 0.9256026148796082, 0.9731047749519348, 0.025546902790665627, 0.99845951795578, 0.050642434507608414, 0.6682937145233154, 0.1808214634656906, 0.10004211217164993, 0.9990118145942688, 0.9982900023460388, 0.9990663528442383, 0.9889053106307983, 0.9568583965301514, 0.9987326860427856, 0.9921985268592834, 0.9985693097114563, 0.999273955821991, 0.9986656308174133, 0.9994400143623352, 0.9879043698310852, 0.999028742313385, 0.995127260684967, 0.996905505657196, 0.9969605207443237, 0.9693408608436584, 0.9987415671348572, 0.994960606098175, 0.46355342864990234, 0.09916815161705017, 0.05073719099164009, 0.38514140248298645, 0.9990050792694092, 0.9774280786514282, 0.999779224395752, 0.9989219307899475, 0.9813538193702698, 0.31370219588279724, 0.5542551875114441, 0.13190841674804688, 0.9988576173782349, 0.9981629848480225, 0.4558478593826294, 0.148593932390213, 0.3949722647666931, 0.9991769790649414, 0.9237403869628906, 0.477143257856369, 0.3746817409992218, 0.14793260395526886, 0.9933735132217407, 0.9992856383323669, 0.28515854477882385, 0.028291761875152588, 0.681523323059082, 0.004902037791907787, 0.29470309615135193, 0.7044507265090942, 0.0709884837269783, 0.8035449981689453, 0.12488026171922684, 0.9988048672676086, 0.9992293119430542, 0.9989162683486938, 0.9336313605308533, 0.9998582601547241, 0.9493939280509949, 0.9867249727249146, 0.9982857704162598, 0.0016678896499797702, 0.9956433176994324, 0.9938902258872986, 0.9798039197921753, 0.18813413381576538, 0.8108662962913513, 0.9828333854675293, 0.9980431199073792, 0.9899899363517761, 0.9995411038398743, 0.10840263217687607, 0.8915851712226868, 0.9989335536956787, 0.9984028935432434, 0.9478983879089355, 0.9754137992858887, 0.9699711203575134, 0.9984886050224304, 0.9510091543197632, 0.9994563460350037, 0.9992796778678894, 0.5979271531105042, 0.40134838223457336, 0.9983391165733337, 0.4392634928226471, 0.395358145236969, 0.03277145326137543, 0.12478360533714294, 0.005041761789470911, 0.0025208808947354555, 0.9992479085922241, 0.9930495023727417, 0.9977142214775085, 0.8026950359344482, 0.1970454454421997, 0.997884213924408, 0.9752896428108215, 0.9881730675697327, 0.3860242962837219, 0.4424556791782379, 0.17147265374660492, 0.9989915490150452, 0.9608879089355469, 0.03833329305052757, 0.18853473663330078, 0.8110612630844116, 0.9920733571052551, 0.9981713891029358, 0.999264121055603, 0.9958271980285645, 0.9993690848350525, 0.9927355647087097, 0.9984845519065857, 0.9971982836723328, 0.9962959885597229, 0.9965261220932007, 0.9995700120925903, 0.9993280172348022, 0.9348270297050476, 0.054455943405628204, 0.9992603659629822, 0.9989476203918457, 0.9983511567115784, 0.9985881447792053, 0.08778489381074905, 0.2304777055978775, 0.6814344525337219, 0.9963093400001526, 0.1233590617775917, 0.874456524848938, 0.001989662181586027, 0.9715932607650757, 0.9992944002151489, 0.11584379523992538, 0.30230894684791565, 0.5810774564743042, 0.9985582232475281, 0.9993225336074829, 0.9804770350456238, 0.9985601305961609, 0.9982828497886658, 0.9899545311927795, 0.9969154000282288, 0.999596357345581, 0.6290827393531799, 0.3707246780395508, 0.9148828387260437, 0.08496100455522537, 0.9910764694213867, 0.35778599977493286, 0.6356779932975769, 0.4877897799015045, 0.38259685039520264, 0.12894617021083832, 0.9766373038291931, 0.022451432421803474, 0.060108523815870285, 0.2744084894657135, 0.3864586055278778, 0.05945517122745514, 0.18032556772232056, 0.03887453302741051, 0.9979024529457092, 0.11877067387104034, 0.36620956659317017, 0.0787680521607399, 0.4363172650337219, 0.994724690914154, 0.18746724724769592, 0.25882574915885925, 0.5527260303497314, 0.11589428037405014, 0.8750017881393433, 0.9996036887168884, 0.26724961400032043, 0.4343428909778595, 0.29615044593811035, 0.0019931604620069265, 0.9846720695495605, 0.991462230682373, 0.9950219988822937, 0.9921138286590576, 0.9961407780647278, 0.9997658729553223, 0.3822404146194458, 0.617569088935852, 0.6986894011497498, 0.975355863571167, 0.34862858057022095, 0.3328130841255188, 0.16090549528598785, 0.07770222425460815, 0.07838986068964005, 0.9951196908950806, 0.9827282428741455, 0.9992485046386719, 0.9989004731178284, 0.9993270635604858, 0.9983148574829102, 0.9872190356254578, 0.012582797557115555, 0.055580202490091324, 0.15386609733104706, 0.10645022243261337, 0.6060439944267273, 0.07756107300519943, 0.999679446220398, 0.9736130833625793, 0.9968443512916565, 0.9938955307006836, 0.9957569241523743, 0.6384742259979248, 0.22553490102291107, 0.13585759699344635, 0.9591990113258362, 0.9846131801605225, 0.9828526377677917, 0.9829933047294617, 0.22836743295192719, 0.6383837461471558, 0.13308626413345337, 0.9998900890350342, 0.9885508418083191, 0.9995672702789307, 0.9977883696556091, 0.9878423810005188, 0.5779139399528503, 0.3998023569583893, 0.02226394973695278, 0.9968001842498779, 0.9969164729118347, 0.21887704730033875, 0.7805010676383972, 0.9983990788459778, 0.9992337226867676, 0.9994597434997559, 0.9988687634468079, 0.995871901512146, 0.999401330947876, 0.11217372119426727, 0.8841928243637085, 0.06628739088773727, 0.9327582716941833, 0.997121274471283, 0.9044882655143738, 0.09540826082229614, 0.9928380846977234, 0.05099128931760788, 0.9484379887580872, 0.02374151349067688, 0.5721971392631531, 0.32091057300567627, 0.08269515633583069, 0.9777470827102661, 0.9988186359405518, 0.9990052580833435, 0.9988458156585693, 0.10757499933242798, 0.7022129893302917, 0.1895150989294052, 0.805848240852356, 0.11206623166799545, 0.08174879848957062, 0.99537193775177, 0.9994937181472778, 0.9977397918701172, 0.9988582730293274, 0.9914119243621826, 0.9970657229423523, 0.9991979598999023, 0.8731880784034729, 0.12588460743427277, 0.7856124043464661, 0.9708144068717957, 0.9932721257209778, 0.9996005892753601, 0.9973408579826355, 0.9988951683044434, 0.9384187459945679, 0.061532750725746155, 0.9846372008323669, 0.8378018736839294, 0.9994474649429321, 0.9754172563552856, 0.9968975782394409, 0.5604612231254578, 0.09890492260456085, 0.3403179943561554, 0.9896818995475769, 0.9956456422805786, 0.9938702583312988, 0.9957297444343567, 0.28401294350624084, 0.09991473704576492, 0.5663252472877502, 0.007653043605387211, 0.042091742157936096, 0.9988471269607544, 0.9982956051826477, 0.008531983941793442, 0.19924691319465637, 0.463236540555954, 0.328899621963501, 0.99908447265625, 0.9936591386795044, 0.9938551187515259, 0.999732494354248, 0.9777303338050842, 0.6192633509635925, 0.17143449187278748, 0.11895454674959183, 0.08956577628850937, 0.9976470470428467, 0.9988181591033936, 0.9814721345901489, 0.9620558023452759, 0.03686920180916786, 0.999419629573822, 0.9993873238563538, 0.30866917967796326, 0.6734600067138672, 0.9990050792694092, 0.008867966011166573, 0.21049749851226807, 0.0030337776988744736, 0.7036030888557434, 0.0739775076508522, 0.9609727263450623, 0.9996878504753113, 0.9994184970855713, 0.07188169658184052, 0.2094712108373642, 0.6953341364860535, 0.0008819840149953961, 0.022380344569683075, 0.9058352708816528, 0.06997577100992203, 0.024117864668369293, 0.9977989196777344, 0.998898446559906, 0.9850493669509888, 0.9997568726539612, 0.9774119853973389, 0.2929672598838806, 0.30623504519462585, 0.4005439877510071, 0.9218556880950928, 0.07787945121526718, 0.9992731809616089, 0.9884774684906006, 0.9963308572769165, 0.9998197555541992, 0.9993719458580017, 0.998517632484436, 0.8599620461463928, 0.13995900750160217, 0.8970321416854858, 0.10283399373292923, 0.9993202090263367, 0.9964233040809631, 0.9993108510971069, 0.9816712141036987, 0.012793359346687794, 0.005432796198874712, 0.9632830619812012, 0.9981828331947327, 0.38920196890830994, 0.12719018757343292, 0.48332270979881287, 0.9986565709114075, 0.9974864721298218, 0.9921306371688843, 0.9990930557250977, 0.9982437491416931, 0.9855313301086426, 0.9897773861885071, 0.9958077073097229, 0.372761070728302, 0.5469484925270081, 0.07838433235883713, 0.9977402687072754, 0.27307748794555664, 0.7003228068351746, 0.025925079360604286, 0.26235827803611755, 0.38237324357032776, 0.3530672788619995, 0.9993075132369995, 0.8660402894020081, 0.03282328322529793, 0.10094189643859863, 0.999113917350769, 0.8668186068534851, 0.9803286790847778, 0.9948921799659729, 0.9986859560012817, 0.9982683062553406, 0.9994122982025146, 0.9448553323745728, 0.9408318400382996, 0.9983143210411072, 0.9818973541259766, 0.9983483552932739, 0.998582661151886, 0.9995480179786682, 0.0004001072666142136, 0.9987489581108093, 0.983853280544281, 0.9988441467285156, 0.9555443525314331, 0.01563902385532856, 0.028541218489408493, 0.3623252213001251, 0.03471072390675545, 0.11464797705411911, 0.4825303256511688, 0.005642629694193602, 0.9996175765991211, 0.9943758845329285, 0.993080198764801, 0.9895055890083313, 0.9994401931762695, 0.9883062243461609, 0.9982242584228516, 0.9990448951721191, 0.8473299741744995, 0.1523437798023224, 0.99850994348526, 0.2633362114429474, 0.7308923602104187, 0.9979310631752014, 0.8497748374938965, 0.15011613070964813, 0.9992613196372986, 0.9958822727203369, 0.7850116491317749, 0.19510820508003235, 0.019714323803782463, 0.9991943836212158, 0.9674238562583923, 0.023405415937304497, 0.9417280554771423, 0.9558641910552979, 0.04121210798621178, 0.0027094464749097824, 0.9743615388870239, 0.9914339780807495, 0.9905883073806763, 0.9996359348297119, 0.9981632828712463, 0.9811937808990479, 0.1734241545200348, 0.8260465860366821, 0.9997812509536743, 0.9997294545173645, 0.9944222569465637, 0.3423628509044647, 0.2827087342739105, 0.3734867572784424, 0.9973222017288208, 0.9331886172294617, 0.066538006067276, 0.6861063838005066, 0.05186062306165695, 0.24835117161273956, 0.013528857380151749, 0.983404815196991, 0.015039417892694473, 0.0012623012298718095, 0.0002524602459743619, 0.5912801027297974, 0.024696819484233856, 0.38399067521095276, 0.4527154564857483, 0.054320983588695526, 0.49278631806373596, 0.9971321821212769, 0.9784315228462219], \"Term\": [\"_\", \"accept\", \"access\", \"access\", \"account\", \"accurately\", \"accuse\", \"accuse\", \"act\", \"action\", \"adapter\", \"advance\", \"advice\", \"agent\", \"aid\", \"aid\", \"air\", \"air\", \"also\", \"also\", \"also\", \"also\", \"also\", \"alt\", \"amendment\", \"american\", \"american\", \"animation\", \"announcement\", \"anyone\", \"anyone\", \"apple\", \"application\", \"appoint\", \"approach\", \"approach\", \"apr\", \"april\", \"april\", \"april\", \"archive\", \"archive_name\", \"argument\", \"arise\", \"arizona\", \"armenian\", \"army\", \"article\", \"article\", \"ascii\", \"atheism\", \"attack\", \"attack\", \"attack\", \"attend\", \"available\", \"available\", \"aviation\", \"await\", \"ax\", \"back\", \"bad\", \"ball\", \"band\", \"bank\", \"barry\", \"baseball\", \"basis\", \"bat\", \"batf\", \"batter\", \"battery\", \"bbs_winnipeg\", \"be\", \"believe\", \"believe\", \"bible\", \"biker_dod\", \"bill\", \"biochemistry\", \"bit\", \"bit\", \"blazer\", \"bless\", \"blessing\", \"blue\", \"board\", \"board\", \"bond\", \"book\", \"bos\", \"bosnia\", \"boston\", \"bowman\", \"brave\", \"bread\", \"breathe\", \"brent\", \"brother\", \"btw\", \"buf\", \"buffer\", \"bus\", \"business\", \"buyer\", \"ca\", \"ca\", \"cable\", \"cal\", \"callback\", \"cambridge\", \"cant_afford\", \"car\", \"card\", \"carnegie_mellon\", \"catalog\", \"catcher\", \"cds\", \"center\", \"center\", \"center\", \"center\", \"channel\", \"character\", \"charter\", \"chastity\", \"cheat\", \"check\", \"check\", \"cheek\", \"chi\", \"chicago\", \"child\", \"child\", \"chip\", \"chris\", \"chris_behanna\", \"christ\", \"christian\", \"christian_morality\", \"chuck\", \"church\", \"circuit\", \"cite\", \"citizen\", \"claim\", \"claim\", \"clean\", \"clearly\", \"clearly\", \"clipper\", \"clipper_chip\", \"club\", \"code\", \"code\", \"cold\", \"cold\", \"color\", \"column\", \"com\", \"come\", \"come\", \"comm\", \"commit\", \"community\", \"community\", \"company\", \"company\", \"complain\", \"component\", \"compuserve\", \"computer\", \"computer_science\", \"con\", \"concise_oxford\", \"conduct\", \"conference\", \"conference\", \"conference\", \"confine\", \"congress\", \"connect\", \"connection\", \"constitution\", \"controller\", \"convenient\", \"convex\", \"copy\", \"copy\", \"correspondent\", \"could\", \"country\", \"country\", \"cpu\", \"cryptography\", \"cs_dept\", \"cultural\", \"curious\", \"currently\", \"daniel\", \"data\", \"datum\", \"datum\", \"datum\", \"david_sternlight\", \"day\", \"day\", \"debate\", \"dec\", \"density\", \"dept\", \"descend\", \"design\", \"design\", \"design\", \"design\", \"det\", \"detector\", \"determine\", \"determine\", \"develop\", \"develop\", \"development\", \"device\", \"device\", \"director\", \"disk\", \"disk\", \"display\", \"distribution_world\", \"distribution_world\", \"division\", \"division\", \"dma\", \"do\", \"do\", \"doctor\", \"documentation\", \"domain\", \"drive\", \"driver\", \"drug\", \"drug\", \"earth\", \"ed\", \"edm\", \"effective\", \"eisa\", \"eliot\", \"else\", \"email\", \"email\", \"emerge\", \"empty\", \"encryption\", \"engineering\", \"engineering_carnegie\", \"enough\", \"equipment\", \"escape\", \"escrow\", \"est\", \"ethic\", \"european\", \"even\", \"even\", \"evidence\", \"examination\", \"examine\", \"examine\", \"example\", \"example\", \"example\", \"excellent\", \"exchange\", \"exchange\", \"exchange\", \"excuse\", \"exist\", \"exist\", \"existence\", \"exploration\", \"express_access\", \"fabrication\", \"facility\", \"fact\", \"fact\", \"fact\", \"faith\", \"familiar\", \"fan\", \"faq\", \"fast\", \"fast\", \"fast\", \"fax\", \"fbi\", \"feature\", \"federal\", \"field\", \"field\", \"file\", \"fire\", \"fire\", \"firearm\", \"first\", \"first\", \"first\", \"first\", \"first\", \"flight\", \"follow\", \"follow\", \"follow\", \"follow\", \"follow\", \"ford\", \"frank\", \"frank_odwyer\", \"ftp\", \"fund\", \"fund\", \"gain\", \"galaxy\", \"game\", \"gate\", \"gene\", \"gene\", \"generic\", \"get\", \"get\", \"get\", \"gibson\", \"give\", \"give\", \"global\", \"glove\", \"go\", \"goal\", \"good\", \"good\", \"government\", \"government\", \"govt\", \"grant\", \"graphic\", \"greek\", \"greenbelt_md\", \"gun\", \"hang\", \"happen\", \"happen\", \"happen\", \"happen\", \"happy\", \"hard\", \"hard\", \"hardware\", \"have\", \"health_insurance\", \"hear\", \"heavy\", \"help\", \"help\", \"help\", \"henry\", \"hero\", \"holland\", \"holocaust\", \"honda\", \"honestly\", \"hook\", \"hospital\", \"host\", \"host_bmdhh\", \"hotel\", \"house\", \"human\", \"ibm\", \"ibm_austin\", \"ide\", \"ide_controll\", \"ignorant\", \"ill\", \"illegal\", \"image\", \"inc\", \"include\", \"include\", \"include\", \"include\", \"include\", \"include\", \"inevitably\", \"information\", \"information\", \"information\", \"information\", \"information\", \"information\", \"initiate\", \"initiative\", \"injection\", \"input\", \"instal\", \"institute\", \"instruct\", \"integrate\", \"intelligent\", \"inter\", \"interactive\", \"intercept\", \"interested\", \"interested\", \"interface\", \"international\", \"international\", \"interrupt\", \"introduction\", \"iran\", \"irq\", \"isa_bus\", \"isa_eisa\", \"issue\", \"issue\", \"issue\", \"issue\", \"italy\", \"jagr\", \"jeep\", \"jew\", \"jewish\", \"johns_hopkin\", \"journal\", \"journalist\", \"judge\", \"judgement\", \"karl\", \"kelly\", \"key\", \"keyword\", \"kill\", \"kill\", \"kill\", \"king\", \"king\", \"know\", \"know\", \"know\", \"knowledge\", \"koresh\", \"la\", \"la\", \"laboratory\", \"lack\", \"lack\", \"land\", \"land\", \"land\", \"last\", \"last\", \"last\", \"late\", \"late\", \"law\", \"law\", \"law_enforcement\", \"lead\", \"lead\", \"lead\", \"league\", \"level\", \"level\", \"library\", \"life\", \"life\", \"line\", \"line\", \"little\", \"lock\", \"long\", \"look\", \"look\", \"look\", \"lose\", \"lot\", \"ltd_maidenhead\", \"mac\", \"mac\", \"machine\", \"mail\", \"mail\", \"maintain\", \"make\", \"make\", \"male\", \"man\", \"man\", \"man\", \"man\", \"management\", \"management\", \"mandatory\", \"many\", \"many\", \"many\", \"many\", \"marshall\", \"massacre\", \"material\", \"material\", \"mathew\", \"matt\", \"matthew\", \"max\", \"may\", \"may\", \"may\", \"may\", \"may\", \"maybe\", \"mean\", \"mean\", \"measure\", \"medical\", \"medicine\", \"medium\", \"medium\", \"mellon_pittsburgh\", \"memory\", \"memory\", \"merely\", \"message\", \"message\", \"message\", \"message\", \"metal\", \"mhz\", \"microsoft\", \"migraine\", \"mild\", \"military\", \"min\", \"mit\", \"mode\", \"modem\", \"money\", \"monthly\", \"moon\", \"mother\", \"motherboard\", \"motif\", \"motive\", \"mouse\", \"movie\", \"mr\", \"mr\", \"mr\", \"mr\", \"ms\", \"mtl\", \"much\", \"multi\", \"murray\", \"must\", \"must\", \"must\", \"nasa\", \"nation\", \"national\", \"national\", \"national\", \"nature\", \"neal\", \"need\", \"need\", \"need\", \"netherland\", \"network\", \"new\", \"new\", \"new\", \"new\", \"new_york\", \"new_york\", \"news\", \"news\", \"news\", \"newsgroup\", \"next\", \"nhl\", \"nick_pettefar\", \"nntp_post\", \"nonetheless\", \"nose\", \"not\", \"not\", \"nsa\", \"nyi\", \"nyr\", \"object\", \"object\", \"occasionally\", \"oil\", \"online_communication\", \"opinion\", \"organization\", \"organization\", \"origin\", \"originator\", \"oto\", \"ott\", \"overlap\", \"owner\", \"oxygen\", \"package\", \"pad\", \"page\", \"page\", \"paragraph\", \"part\", \"part\", \"part\", \"part\", \"part\", \"part\", \"past\", \"pat\", \"patient\", \"pc\", \"pc\", \"pen\", \"penn_state\", \"pentium\", \"people\", \"people\", \"people\", \"period\", \"permit\", \"permit\", \"person\", \"person\", \"perspective\", \"pgp\", \"phone\", \"physician\", \"pin\", \"pit\", \"pitch\", \"pitcher\", \"pittsburgh_pa\", \"plane\", \"play\", \"player\", \"po_andrew\", \"po_andrew\", \"police\", \"policy\", \"political\", \"port\", \"post\", \"post\", \"post\", \"poster\", \"practice\", \"practice\", \"practice\", \"presently\", \"president\", \"press\", \"press\", \"press\", \"previous\", \"price\", \"priest\", \"printer\", \"private\", \"private_sector\", \"pro\", \"probably\", \"problem\", \"problem\", \"program\", \"program\", \"prompt\", \"proposal\", \"proposal\", \"protect\", \"protect\", \"protect\", \"prove\", \"prove\", \"provide\", \"provide\", \"provide\", \"provide\", \"provide\", \"provide\", \"psalm\", \"public\", \"public\", \"public\", \"public\", \"publication\", \"publish\", \"publish\", \"publish\", \"publisher\", \"publisher\", \"put\", \"question\", \"question\", \"question\", \"question\", \"quinn\", \"radar\", \"radar_detector\", \"rating\", \"reaction\", \"really\", \"reason\", \"reason\", \"rec_autos\", \"redraw\", \"reference\", \"reference\", \"reference\", \"reference\", \"reference\", \"register\", \"regular_season\", \"religion\", \"religious\", \"remember\", \"replace\", \"reply\", \"reply\", \"report\", \"report\", \"report\", \"report\", \"report\", \"research\", \"resign\", \"revelation\", \"revise\", \"rick\", \"right\", \"right\", \"right\", \"rite\", \"ritual\", \"rotation\", \"ruler\", \"run\", \"run\", \"run\", \"s\", \"safely\", \"sale\", \"sample\", \"saw\", \"say\", \"say\", \"say\", \"scheme\", \"sci\", \"science\", \"science\", \"scientific\", \"score\", \"screen\", \"scsi\", \"seal\", \"season\", \"secret\", \"secret\", \"section\", \"section\", \"secure\", \"see\", \"see\", \"selection\", \"sell\", \"sell\", \"send\", \"send\", \"send\", \"send\", \"serb\", \"serial\", \"series\", \"server\", \"service\", \"service\", \"service\", \"set\", \"set\", \"set\", \"sexual\", \"shall\", \"shape\", \"share\", \"shield\", \"signal\", \"sin\", \"single\", \"single\", \"skull\", \"slight\", \"smooth\", \"software\", \"soldier\", \"somehow\", \"something\", \"something\", \"song\", \"sore\", \"space\", \"specifie\", \"specify\", \"speed\", \"speed\", \"speed\", \"speedstar\", \"spirit\", \"spiritual\", \"staff\", \"standard\", \"standard\", \"standard\", \"standard\", \"standard\", \"star\", \"stat\", \"state\", \"state\", \"state\", \"state\", \"statement\", \"steer\", \"stereo\", \"still\", \"stl\", \"story\", \"story\", \"story\", \"story\", \"straight\", \"string\", \"struggle\", \"study\", \"study\", \"style\", \"success\", \"successfully\", \"successfully\", \"summer\", \"support\", \"support\", \"support\", \"support\", \"support\", \"supreme\", \"sure\", \"switch\", \"system\", \"system\", \"system\", \"system\", \"system\", \"take\", \"take\", \"take\", \"tape\", \"tax\", \"teacher\", \"team\", \"technological\", \"technology\", \"technology\", \"technology\", \"tell\", \"tell\", \"temperature\", \"tempest\", \"terminal\", \"thank\", \"that\", \"therefore\", \"thing\", \"thing\", \"think\", \"think\", \"thoma\", \"ticket\", \"tie\", \"time\", \"time\", \"time\", \"tin_version\", \"title\", \"today\", \"today\", \"today\", \"tool\", \"tor\", \"tour\", \"trade\", \"transfer\", \"transition\", \"translate\", \"translation\", \"treat\", \"treat\", \"treat\", \"trick\", \"true\", \"true\", \"true\", \"trust\", \"trust\", \"trust\", \"truth\", \"try\", \"try\", \"try\", \"tube\", \"tucson\", \"tue_apr\", \"tuesday\", \"turk\", \"turkish\", \"turn\", \"typo\", \"uk_newsreader\", \"unit\", \"united_kingdom\", \"united_state\", \"universe\", \"university\", \"university\", \"unix\", \"unlock\", \"upgrade\", \"usa\", \"usa\", \"usa\", \"use\", \"use\", \"use\", \"use\", \"use\", \"user\", \"van\", \"variable\", \"vary\", \"version\", \"vesa\", \"victim\", \"video\", \"view\", \"view\", \"village\", \"virginia\", \"virginia\", \"waco\", \"want\", \"want\", \"war\", \"warm\", \"way\", \"way\", \"way\", \"weapon\", \"weigh\", \"weigh\", \"weitek\", \"well\", \"well\", \"well\", \"whatsoever\", \"wheel\", \"widely\", \"will\", \"william\", \"wilson\", \"win\", \"win\", \"window\", \"wire\", \"wisdom\", \"witness\", \"witness\", \"witness\", \"wolf\", \"word\", \"word\", \"work\", \"work\", \"work\", \"work\", \"would\", \"would\", \"would\", \"would\", \"write\", \"write\", \"write\", \"year\", \"year\", \"year\", \"yesterday\", \"yzerman\"]}, \"R\": 30, \"lambda.step\": 0.01, \"plot.opts\": {\"xlab\": \"PC1\", \"ylab\": \"PC2\"}, \"topic.order\": [1, 10, 17, 20, 13, 15, 14, 5, 11, 2, 9, 7, 8, 18, 4, 6, 19, 16, 12, 3]};\n",
       "\n",
       "function LDAvis_load_lib(url, callback){\n",
       "  var s = document.createElement('script');\n",
       "  s.src = url;\n",
       "  s.async = true;\n",
       "  s.onreadystatechange = s.onload = callback;\n",
       "  s.onerror = function(){console.warn(\"failed to load library \" + url);};\n",
       "  document.getElementsByTagName(\"head\")[0].appendChild(s);\n",
       "}\n",
       "\n",
       "if(typeof(LDAvis) !== \"undefined\"){\n",
       "   // already loaded: just create the visualization\n",
       "   !function(LDAvis){\n",
       "       new LDAvis(\"#\" + \"ldavis_el663223290580832486137628578\", ldavis_el663223290580832486137628578_data);\n",
       "   }(LDAvis);\n",
       "}else if(typeof define === \"function\" && define.amd){\n",
       "   // require.js is available: use it to load d3/LDAvis\n",
       "   require.config({paths: {d3: \"https://cdnjs.cloudflare.com/ajax/libs/d3/3.5.5/d3.min\"}});\n",
       "   require([\"d3\"], function(d3){\n",
       "      window.d3 = d3;\n",
       "      LDAvis_load_lib(\"https://cdn.rawgit.com/bmabey/pyLDAvis/files/ldavis.v1.0.0.js\", function(){\n",
       "        new LDAvis(\"#\" + \"ldavis_el663223290580832486137628578\", ldavis_el663223290580832486137628578_data);\n",
       "      });\n",
       "    });\n",
       "}else{\n",
       "    // require.js not available: dynamically load d3 & LDAvis\n",
       "    LDAvis_load_lib(\"https://cdnjs.cloudflare.com/ajax/libs/d3/3.5.5/d3.min.js\", function(){\n",
       "         LDAvis_load_lib(\"https://cdn.rawgit.com/bmabey/pyLDAvis/files/ldavis.v1.0.0.js\", function(){\n",
       "                 new LDAvis(\"#\" + \"ldavis_el663223290580832486137628578\", ldavis_el663223290580832486137628578_data);\n",
       "            })\n",
       "         });\n",
       "}\n",
       "</script>"
      ],
      "text/plain": [
       "PreparedData(topic_coordinates=              x         y  topics  cluster       Freq\n",
       "topic                                                \n",
       "0      0.377968  0.001662       1        1  42.726292\n",
       "9      0.344953  0.096356       2        1  13.326714\n",
       "16     0.278405 -0.271078       3        1  13.015586\n",
       "19     0.274554 -0.162222       4        1   8.798871\n",
       "12     0.205468  0.221051       5        1   4.927341\n",
       "14     0.164424  0.228413       6        1   4.534254\n",
       "13    -0.038682  0.019176       7        1   4.093018\n",
       "4      0.048792 -0.031529       8        1   1.841117\n",
       "10    -0.091878  0.000715       9        1   1.404796\n",
       "1     -0.052179 -0.078822      10        1   1.172396\n",
       "8     -0.067233 -0.027401      11        1   0.734966\n",
       "6     -0.120878 -0.004786      12        1   0.689575\n",
       "7     -0.110392  0.009225      13        1   0.657851\n",
       "17    -0.138342 -0.002432      14        1   0.572648\n",
       "3     -0.157573  0.001355      15        1   0.428998\n",
       "5     -0.176276  0.000091      16        1   0.340344\n",
       "18    -0.168790 -0.003011      17        1   0.315224\n",
       "15    -0.191382  0.000951      18        1   0.157470\n",
       "11    -0.188001  0.000910      19        1   0.151346\n",
       "2     -0.192959  0.001376      20        1   0.111189, topic_info=      Category          Freq           Term         Total  loglift  logprob\n",
       "term                                                                       \n",
       "29     Default  31720.000000           line  31720.000000  30.0000  30.0000\n",
       "40     Default  28320.000000   organization  28320.000000  29.0000  29.0000\n",
       "201    Default  37172.000000            not  37172.000000  28.0000  28.0000\n",
       "4612   Default   9010.000000             ax   9010.000000  27.0000  27.0000\n",
       "105    Default  12496.000000     university  12496.000000  26.0000  26.0000\n",
       "283    Default  25630.000000          write  25630.000000  25.0000  25.0000\n",
       "37     Default  10975.000000      nntp_post  10975.000000  24.0000  24.0000\n",
       "296    Default  18718.000000        article  18718.000000  23.0000  23.0000\n",
       "20     Default   9888.000000           host   9888.000000  22.0000  22.0000\n",
       "209    Default  14229.000000         people  14229.000000  21.0000  21.0000\n",
       "285    Default   8210.000000           year   8210.000000  20.0000  20.0000\n",
       "282    Default  27727.000000          would  27727.000000  19.0000  19.0000\n",
       "259    Default   9070.000000         system   9070.000000  18.0000  18.0000\n",
       "322    Default   3942.000000          drive   3942.000000  17.0000  17.0000\n",
       "658    Default   4000.000000              _   4000.000000  16.0000  16.0000\n",
       "2138   Default   3362.000000            key   3362.000000  15.0000  15.0000\n",
       "1534   Default   6765.000000         window   6765.000000  14.0000  14.0000\n",
       "298    Default  19304.000000             be  19304.000000  13.0000  13.0000\n",
       "385    Default  11696.000000            use  11696.000000  12.0000  12.0000\n",
       "300    Default   3105.000000           book   3105.000000  11.0000  11.0000\n",
       "156    Default  23798.000000             do  23798.000000  10.0000  10.0000\n",
       "17     Default   4883.000000           game   4883.000000   9.0000   9.0000\n",
       "231    Default  15810.000000            say  15810.000000   8.0000   8.0000\n",
       "170    Default   4023.000000     government   4023.000000   7.0000   7.0000\n",
       "412    Default   5637.000000        program   5637.000000   6.0000   6.0000\n",
       "71     Default   2877.000000           card   2877.000000   5.0000   5.0000\n",
       "227    Default   6596.000000          reply   6596.000000   4.0000   4.0000\n",
       "1964   Default   5217.000000           file   5217.000000   3.0000   3.0000\n",
       "33     Default   4161.000000            man   4161.000000   2.0000   2.0000\n",
       "1667   Default   3846.000000           team   3846.000000   1.0000   1.0000\n",
       "...        ...           ...            ...           ...      ...      ...\n",
       "4199   Topic20     18.736317    nonetheless     20.012768   6.7358  -5.0384\n",
       "3671   Topic20     17.774084           typo     19.050535   6.7323  -5.0911\n",
       "811    Topic20      5.231698           karl      6.508149   6.5834  -6.3141\n",
       "3668   Topic20      5.088010          skull      6.364461   6.5779  -6.3420\n",
       "4010   Topic20     24.715242           gene     95.056404   5.4546  -4.7615\n",
       "19746  Topic20      0.022083         kinsey      1.298639   2.7274 -11.7818\n",
       "25473  Topic20      0.022081        boswell      1.298552   2.7274 -11.7819\n",
       "5573   Topic20      0.022081  homosexuality      1.298577   2.7274 -11.7819\n",
       "13894  Topic20      0.022080         wright      1.298554   2.7274 -11.7819\n",
       "45065  Topic20      0.022080   arsenokoitai      1.298545   2.7274 -11.7820\n",
       "4384   Topic20      0.022081            sex      1.298633   2.7274 -11.7819\n",
       "5572   Topic20      0.022080     homosexual      1.298587   2.7274 -11.7819\n",
       "45594  Topic20      0.022080          maria      1.298558   2.7274 -11.7820\n",
       "5090   Topic20      0.022080         father      1.298586   2.7273 -11.7820\n",
       "45150  Topic20      0.022079         scrogg      1.298539   2.7273 -11.7820\n",
       "94319  Topic20      0.022080        reisman      1.298574   2.7273 -11.7820\n",
       "18888  Topic20      0.022079           nasb      1.298537   2.7273 -11.7820\n",
       "10744  Topic20      0.022079      leviticus      1.298537   2.7273 -11.7820\n",
       "7287   Topic20      0.022079            cor      1.298542   2.7273 -11.7820\n",
       "92617  Topic20      0.022079    torque_sens      1.298532   2.7273 -11.7820\n",
       "6799   Topic20      0.022079   differential      1.298541   2.7273 -11.7820\n",
       "5574   Topic20      0.022079       marriage      1.298548   2.7273 -11.7820\n",
       "17150  Topic20      0.022079          trunk      1.298540   2.7273 -11.7820\n",
       "5569   Topic20      0.022079            gay      1.298581   2.7273 -11.7820\n",
       "4475   Topic20      0.022085            god      1.298994   2.7272 -11.7818\n",
       "4790   Topic20      0.022080        release      1.298644   2.7273 -11.7820\n",
       "17758  Topic20      0.022080             pm      1.298612   2.7273 -11.7820\n",
       "4719   Topic20      0.022079         prayer      1.298599   2.7273 -11.7820\n",
       "56878  Topic20      0.022079      gonorrhea      1.298587   2.7273 -11.7820\n",
       "56924  Topic20      0.022079    safety_belt      1.298582   2.7273 -11.7820\n",
       "\n",
       "[848 rows x 6 columns], token_table=      Topic      Freq          Term\n",
       "term                               \n",
       "658       9  0.999723             _\n",
       "1021      2  0.999056        accept\n",
       "288      10  0.328775        access\n",
       "288      17  0.670084        access\n",
       "3445     12  0.997857       account\n",
       "3685     14  0.992280    accurately\n",
       "660       6  0.051300        accuse\n",
       "660      13  0.941726        accuse\n",
       "2867      2  0.999132           act\n",
       "1536      2  0.999364        action\n",
       "290      10  0.996324       adapter\n",
       "2595      3  0.999372       advance\n",
       "389       7  0.999527        advice\n",
       "2690     12  0.995430         agent\n",
       "666       5  0.388015           aid\n",
       "666      13  0.610316           aid\n",
       "114       1  0.554212           air\n",
       "114       9  0.444216           air\n",
       "1         1  0.523312          also\n",
       "1         2  0.175722          also\n",
       "1         3  0.086439          also\n",
       "1         4  0.214078          also\n",
       "1         8  0.000367          also\n",
       "3264     12  0.995921           alt\n",
       "1198     11  0.992795     amendment\n",
       "1199      5  0.780760      american\n",
       "1199      6  0.218661      american\n",
       "3041     14  0.991715     animation\n",
       "1200     11  0.997825  announcement\n",
       "66        1  0.183049        anyone\n",
       "...     ...       ...           ...\n",
       "1671      1  0.999636          will\n",
       "984       9  0.998163       william\n",
       "2481     17  0.981194        wilson\n",
       "278       4  0.173424           win\n",
       "278       6  0.826047           win\n",
       "1534      4  0.999781        window\n",
       "1195      7  0.999729          wire\n",
       "2825     16  0.994422        wisdom\n",
       "3621      1  0.342363       witness\n",
       "3621      5  0.282709       witness\n",
       "3621     13  0.373487       witness\n",
       "1088      9  0.997322          wolf\n",
       "986       2  0.933189          word\n",
       "986       4  0.066538          word\n",
       "419       1  0.686106          work\n",
       "419       3  0.051861          work\n",
       "419       4  0.248351          work\n",
       "419       5  0.013529          work\n",
       "282       1  0.983405         would\n",
       "282       2  0.015039         would\n",
       "282       3  0.001262         would\n",
       "282       7  0.000252         would\n",
       "283       1  0.591280         write\n",
       "283       2  0.024697         write\n",
       "283       3  0.383991         write\n",
       "285       1  0.452715          year\n",
       "285       5  0.054321          year\n",
       "285       6  0.492786          year\n",
       "556      12  0.997132     yesterday\n",
       "2485     16  0.978432       yzerman\n",
       "\n",
       "[1014 rows x 3 columns], R=30, lambda_step=0.01, plot_opts={'xlab': 'PC1', 'ylab': 'PC2'}, topic_order=[1, 10, 17, 20, 13, 15, 14, 5, 11, 2, 9, 7, 8, 18, 4, 6, 19, 16, 12, 3])"
      ]
     },
     "execution_count": 24,
     "metadata": {},
     "output_type": "execute_result"
    }
   ],
   "source": [
    "# Visualize the topics\n",
    "pyLDAvis.enable_notebook()\n",
    "vis = pyLDAvis.gensim.prepare(lda_model, corpus, id2word)\n",
    "vis"
   ]
  },
  {
   "cell_type": "code",
   "execution_count": 25,
   "metadata": {},
   "outputs": [
    {
     "name": "stdout",
     "output_type": "stream",
     "text": [
      "\n",
      "Perplexity:  -15.085717219922694\n",
      "\n",
      "Coherence Score:  0.4783302228453776\n"
     ]
    }
   ],
   "source": [
    "# Compute Perplexity\n",
    "print('\\nPerplexity: ', lda_model.log_perplexity(corpus))  # a measure of how good the model is. lower the better.\n",
    "\n",
    "# Compute Coherence Score\n",
    "coherence_model_lda = CoherenceModel(model=lda_model, texts=data_lemmatized, dictionary=id2word, coherence='c_v')\n",
    "coherence_lda = coherence_model_lda.get_coherence()\n",
    "print('\\nCoherence Score: ', coherence_lda)"
   ]
  }
 ],
 "metadata": {
  "kernelspec": {
   "display_name": "Python 3",
   "language": "python",
   "name": "python3"
  },
  "language_info": {
   "codemirror_mode": {
    "name": "ipython",
    "version": 3
   },
   "file_extension": ".py",
   "mimetype": "text/x-python",
   "name": "python",
   "nbconvert_exporter": "python",
   "pygments_lexer": "ipython3",
   "version": "3.6.5"
  }
 },
 "nbformat": 4,
 "nbformat_minor": 1
}
