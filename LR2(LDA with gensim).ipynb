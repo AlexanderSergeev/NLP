{
 "cells": [
  {
   "cell_type": "code",
   "execution_count": 1,
   "metadata": {},
   "outputs": [],
   "source": [
    "#https://www.machinelearningplus.com/nlp/topic-modeling-gensim-python/\n",
    "import re\n",
    "import numpy as np\n",
    "import pandas as pd\n",
    "from pprint import pprint\n",
    "\n",
    "# Gensim\n",
    "import gensim\n",
    "import gensim.corpora as corpora\n",
    "from gensim.utils import simple_preprocess\n",
    "from gensim.models import CoherenceModel\n",
    "\n",
    "# spacy for lemmatization\n",
    "import spacy\n",
    "\n",
    "# Plotting tools\n",
    "import pyLDAvis\n",
    "import pyLDAvis.gensim\n",
    "import matplotlib.pyplot as plt\n",
    "%matplotlib inline"
   ]
  },
  {
   "cell_type": "code",
   "execution_count": 2,
   "metadata": {},
   "outputs": [
    {
     "name": "stdout",
     "output_type": "stream",
     "text": [
      "['rec.autos',\n",
      " 'rec.motorcycles',\n",
      " 'rec.sport.baseball',\n",
      " 'rec.sport.hockey',\n",
      " 'sci.crypt',\n",
      " 'sci.electronics',\n",
      " 'sci.med',\n",
      " 'sci.space',\n",
      " 'talk.politics.guns',\n",
      " 'talk.religion.misc']\n"
     ]
    }
   ],
   "source": [
    "from sklearn.datasets import fetch_20newsgroups\n",
    "cats = ['rec.autos', 'rec.motorcycles',\n",
    "        'sci.crypt', 'sci.electronics', \n",
    "        'sci.med', 'sci.space',\n",
    "        'talk.politics.guns', 'talk.religion.misc',\n",
    "        'rec.sport.baseball', 'rec.sport.hockey']\n",
    "#cats = None\n",
    "df = fetch_20newsgroups(subset = 'all', categories=cats)\n",
    "\n",
    "from pprint import pprint\n",
    "pprint(list(df.target_names))"
   ]
  },
  {
   "cell_type": "code",
   "execution_count": 3,
   "metadata": {},
   "outputs": [
    {
     "data": {
      "text/plain": [
       "(9469,)"
      ]
     },
     "execution_count": 3,
     "metadata": {},
     "output_type": "execute_result"
    }
   ],
   "source": [
    "df.filenames.shape"
   ]
  },
  {
   "cell_type": "code",
   "execution_count": 4,
   "metadata": {},
   "outputs": [
    {
     "data": {
      "text/plain": [
       "(9469,)"
      ]
     },
     "execution_count": 4,
     "metadata": {},
     "output_type": "execute_result"
    }
   ],
   "source": [
    "df.target.shape"
   ]
  },
  {
   "cell_type": "code",
   "execution_count": 5,
   "metadata": {},
   "outputs": [
    {
     "name": "stderr",
     "output_type": "stream",
     "text": [
      "<input>:5: DeprecationWarning: invalid escape sequence \\S\n",
      "<input>:8: DeprecationWarning: invalid escape sequence \\s\n",
      "<input>:5: DeprecationWarning: invalid escape sequence \\S\n",
      "<input>:8: DeprecationWarning: invalid escape sequence \\s\n",
      "<input>:5: DeprecationWarning: invalid escape sequence \\S\n",
      "<input>:8: DeprecationWarning: invalid escape sequence \\s\n",
      "<ipython-input-5-1eed9f39b362>:5: DeprecationWarning: invalid escape sequence \\S\n",
      "  data = [re.sub('\\S*@\\S*\\s?', '', sent) for sent in data]\n",
      "<ipython-input-5-1eed9f39b362>:8: DeprecationWarning: invalid escape sequence \\s\n",
      "  data = [re.sub('\\s+', ' ', sent) for sent in data]\n"
     ]
    },
    {
     "name": "stdout",
     "output_type": "stream",
     "text": [
      "['From: (Brian C. Kensing) Subject: Re: Manual Shift Bigots Nntp-Posting-Host: '\n",
      " 'cary112.its.rpi.edu Reply-To: Organization: Rensselaer Polytechnic '\n",
      " 'Institute, Troy, NY. Lines: 10 I prefer a manual to an automatic as it '\n",
      " 'should be. I believe that automatics should only be manufactured for people '\n",
      " 'with physical disabilities who otherwise would not be able to drive. '\n",
      " 'Automatic transmissions allow drivers to be lazy. More time is available to '\n",
      " 'fiddle with the radio or to look at the scenery instead of concentrating on '\n",
      " 'the road. The manual transmission keeps the drive always doing something, '\n",
      " 'granted it isnt a large movement. Plus, driving should be FUN! Driving a '\n",
      " 'manual is fun, driving an automatic is a chore. In the case of shift speed, '\n",
      " 'automatics can be made to shift far faster that any human could move a '\n",
      " 'stick. If I was racing, Id want and automatic. For normal driving go with '\n",
      " 'the manual. ']\n"
     ]
    }
   ],
   "source": [
    "# Convert to list\n",
    "data = df.data\n",
    "\n",
    "# Remove Emails\n",
    "data = [re.sub('\\S*@\\S*\\s?', '', sent) for sent in data]\n",
    "\n",
    "# Remove new line characters\n",
    "data = [re.sub('\\s+', ' ', sent) for sent in data]\n",
    "\n",
    "# Remove distracting single quotes\n",
    "data = [re.sub(\"\\'\", \"\", sent) for sent in data]\n",
    "\n",
    "pprint(data[:1])"
   ]
  },
  {
   "cell_type": "code",
   "execution_count": 6,
   "metadata": {},
   "outputs": [
    {
     "name": "stdout",
     "output_type": "stream",
     "text": [
      "[['from', 'brian', 'kensing', 'subject', 're', 'manual', 'shift', 'bigots', 'nntp', 'posting', 'host', 'cary', 'its', 'rpi', 'edu', 'reply', 'to', 'organization', 'rensselaer', 'polytechnic', 'institute', 'troy', 'ny', 'lines', 'prefer', 'manual', 'to', 'an', 'automatic', 'as', 'it', 'should', 'be', 'believe', 'that', 'automatics', 'should', 'only', 'be', 'manufactured', 'for', 'people', 'with', 'physical', 'disabilities', 'who', 'otherwise', 'would', 'not', 'be', 'able', 'to', 'drive', 'automatic', 'transmissions', 'allow', 'drivers', 'to', 'be', 'lazy', 'more', 'time', 'is', 'available', 'to', 'fiddle', 'with', 'the', 'radio', 'or', 'to', 'look', 'at', 'the', 'scenery', 'instead', 'of', 'concentrating', 'on', 'the', 'road', 'the', 'manual', 'transmission', 'keeps', 'the', 'drive', 'always', 'doing', 'something', 'granted', 'it', 'isnt', 'large', 'movement', 'plus', 'driving', 'should', 'be', 'fun', 'driving', 'manual', 'is', 'fun', 'driving', 'an', 'automatic', 'is', 'chore', 'in', 'the', 'case', 'of', 'shift', 'speed', 'automatics', 'can', 'be', 'made', 'to', 'shift', 'far', 'faster', 'that', 'any', 'human', 'could', 'move', 'stick', 'if', 'was', 'racing', 'id', 'want', 'and', 'automatic', 'for', 'normal', 'driving', 'go', 'with', 'the', 'manual']]\n"
     ]
    }
   ],
   "source": [
    "def sent_to_words(sentences):\n",
    "    for sentence in sentences:\n",
    "        yield(gensim.utils.simple_preprocess(str(sentence), deacc=True))  # deacc=True removes punctuations\n",
    "\n",
    "data_words = list(sent_to_words(data))\n",
    "\n",
    "print(data_words[:1])"
   ]
  },
  {
   "cell_type": "code",
   "execution_count": 7,
   "metadata": {},
   "outputs": [
    {
     "name": "stdout",
     "output_type": "stream",
     "text": [
      "['from', 'brian', 'kensing', 'subject', 're', 'manual_shift_bigots', 'nntp_posting_host', 'cary', 'its', 'rpi_edu', 'reply', 'to', 'organization', 'rensselaer_polytechnic_institute_troy', 'ny', 'lines', 'prefer', 'manual', 'to', 'an', 'automatic', 'as', 'it', 'should', 'be', 'believe', 'that', 'automatics', 'should', 'only', 'be', 'manufactured', 'for', 'people', 'with', 'physical', 'disabilities', 'who', 'otherwise', 'would', 'not', 'be', 'able', 'to', 'drive', 'automatic_transmissions', 'allow', 'drivers', 'to', 'be', 'lazy', 'more', 'time', 'is', 'available', 'to', 'fiddle', 'with', 'the', 'radio', 'or', 'to', 'look', 'at', 'the', 'scenery', 'instead', 'of', 'concentrating', 'on', 'the', 'road', 'the', 'manual_transmission', 'keeps', 'the', 'drive', 'always', 'doing', 'something', 'granted', 'it', 'isnt', 'large', 'movement', 'plus', 'driving', 'should', 'be', 'fun', 'driving', 'manual', 'is', 'fun', 'driving', 'an', 'automatic', 'is', 'chore', 'in', 'the', 'case', 'of', 'shift', 'speed', 'automatics', 'can', 'be', 'made', 'to', 'shift', 'far', 'faster', 'that', 'any', 'human', 'could', 'move', 'stick', 'if', 'was', 'racing', 'id', 'want', 'and', 'automatic', 'for', 'normal', 'driving', 'go', 'with', 'the', 'manual']\n"
     ]
    }
   ],
   "source": [
    "# Build the bigram and trigram models\n",
    "bigram = gensim.models.Phrases(data_words, min_count=5, threshold=100) # higher threshold fewer phrases.\n",
    "trigram = gensim.models.Phrases(bigram[data_words], threshold=100)  \n",
    "\n",
    "# Faster way to get a sentence clubbed as a trigram/bigram\n",
    "bigram_mod = gensim.models.phrases.Phraser(bigram)\n",
    "trigram_mod = gensim.models.phrases.Phraser(trigram)\n",
    "\n",
    "# See trigram example\n",
    "print(trigram_mod[bigram_mod[data_words[0]]])"
   ]
  },
  {
   "cell_type": "code",
   "execution_count": 8,
   "metadata": {},
   "outputs": [
    {
     "name": "stdout",
     "output_type": "stream",
     "text": [
      "[nltk_data] Downloading package stopwords to\n",
      "[nltk_data]     C:\\Users\\asergeev\\AppData\\Roaming\\nltk_data...\n",
      "[nltk_data]   Package stopwords is already up-to-date!\n"
     ]
    }
   ],
   "source": [
    "# NLTK Stop words\n",
    "import nltk; nltk.download('stopwords')\n",
    "from nltk.corpus import stopwords\n",
    "stop_words = stopwords.words('english')\n",
    "stop_words.extend(['from', 'subject', 're', 'edu', 'use'])\n",
    "\n",
    "# Define functions for stopwords, bigrams, trigrams and lemmatization\n",
    "def remove_stopwords(texts):\n",
    "    return [[word for word in simple_preprocess(str(doc)) if word not in stop_words] for doc in texts]\n",
    "\n",
    "def make_bigrams(texts):\n",
    "    return [bigram_mod[doc] for doc in texts]\n",
    "\n",
    "def make_trigrams(texts):\n",
    "    return [trigram_mod[bigram_mod[doc]] for doc in texts]\n",
    "\n",
    "def lemmatization(texts, allowed_postags=['NOUN', 'ADJ', 'VERB', 'ADV']):\n",
    "    \"\"\"https://spacy.io/api/annotation\"\"\"\n",
    "    texts_out = []\n",
    "    for sent in texts:\n",
    "        doc = nlp(\" \".join(sent)) \n",
    "        texts_out.append([token.lemma_ for token in doc if token.pos_ in allowed_postags])\n",
    "    return texts_out"
   ]
  },
  {
   "cell_type": "code",
   "execution_count": 9,
   "metadata": {},
   "outputs": [
    {
     "name": "stdout",
     "output_type": "stream",
     "text": [
      "[['brian', 'kens', 'manual_shift', 'bigot', 'nntp_post', 'host', 'cary', 'rpi', 'reply', 'organization', 'rensselaer_polytechnic', 'institute_troy', 'line', 'prefer', 'manual', 'automatic', 'believe', 'automatic', 'manufacture', 'people', 'physical', 'disability', 'otherwise', 'would', 'able', 'drive', 'automatic_transmission', 'allow', 'driver', 'lazy', 'time', 'available', 'fiddle', 'radio', 'look', 'scenery', 'instead', 'concentrate', 'road', 'manual_transmission', 'keep', 'drive', 'always', 'something', 'grant', 'be', 'not', 'large', 'movement', 'drive', 'fun', 'drive', 'manual', 'fun', 'drive', 'automatic', 'chore', 'case', 'shift', 'speed', 'automatic', 'make', 'shift', 'far', 'faster', 'human', 'could', 'move', 'stick', 'race', 'would', 'want', 'automatic', 'normal', 'driving', 'go', 'manual']]\n"
     ]
    }
   ],
   "source": [
    "# Remove Stop Words\n",
    "data_words_nostops = remove_stopwords(data_words)\n",
    "\n",
    "# Form Bigrams\n",
    "data_words_bigrams = make_bigrams(data_words_nostops)\n",
    "\n",
    "# Initialize spacy 'en' model, keeping only tagger component (for efficiency)\n",
    "# !python -m spacy download en\n",
    "nlp = spacy.load('en', disable=['parser', 'ner'])\n",
    "\n",
    "# Do lemmatization keeping only noun, adj, vb, adv\n",
    "data_lemmatized = lemmatization(data_words_bigrams, allowed_postags=['NOUN', 'ADJ', 'VERB', 'ADV'])\n",
    "\n",
    "print(data_lemmatized[:1])"
   ]
  },
  {
   "cell_type": "code",
   "execution_count": 10,
   "metadata": {},
   "outputs": [
    {
     "name": "stdout",
     "output_type": "stream",
     "text": [
      "[[(0, 1), (1, 1), (2, 1), (3, 5), (4, 1), (5, 1), (6, 1), (7, 1), (8, 1), (9, 1), (10, 1), (11, 1), (12, 1), (13, 1), (14, 1), (15, 1), (16, 5), (17, 1), (18, 1), (19, 1), (20, 1), (21, 1), (22, 2), (23, 1), (24, 1), (25, 1), (26, 1), (27, 1), (28, 1), (29, 1), (30, 1), (31, 1), (32, 1), (33, 1), (34, 1), (35, 1), (36, 3), (37, 1), (38, 1), (39, 1), (40, 1), (41, 1), (42, 1), (43, 1), (44, 1), (45, 1), (46, 1), (47, 1), (48, 1), (49, 1), (50, 1), (51, 1), (52, 1), (53, 1), (54, 1), (55, 1), (56, 1), (57, 2), (58, 1), (59, 1), (60, 1), (61, 1), (62, 1), (63, 2)]]\n"
     ]
    }
   ],
   "source": [
    "# Create Dictionary\n",
    "id2word = corpora.Dictionary(data_lemmatized)\n",
    "\n",
    "# Create Corpus\n",
    "texts = data_lemmatized\n",
    "\n",
    "# Term Document Frequency\n",
    "corpus = [id2word.doc2bow(text) for text in texts]\n",
    "\n",
    "# View\n",
    "print(corpus[:1])"
   ]
  },
  {
   "cell_type": "code",
   "execution_count": 11,
   "metadata": {},
   "outputs": [
    {
     "data": {
      "text/plain": [
       "[[('able', 1),\n",
       "  ('allow', 1),\n",
       "  ('always', 1),\n",
       "  ('automatic', 5),\n",
       "  ('automatic_transmission', 1),\n",
       "  ('available', 1),\n",
       "  ('be', 1),\n",
       "  ('believe', 1),\n",
       "  ('bigot', 1),\n",
       "  ('brian', 1),\n",
       "  ('cary', 1),\n",
       "  ('case', 1),\n",
       "  ('chore', 1),\n",
       "  ('concentrate', 1),\n",
       "  ('could', 1),\n",
       "  ('disability', 1),\n",
       "  ('drive', 5),\n",
       "  ('driver', 1),\n",
       "  ('driving', 1),\n",
       "  ('far', 1),\n",
       "  ('faster', 1),\n",
       "  ('fiddle', 1),\n",
       "  ('fun', 2),\n",
       "  ('go', 1),\n",
       "  ('grant', 1),\n",
       "  ('host', 1),\n",
       "  ('human', 1),\n",
       "  ('instead', 1),\n",
       "  ('institute_troy', 1),\n",
       "  ('keep', 1),\n",
       "  ('kens', 1),\n",
       "  ('large', 1),\n",
       "  ('lazy', 1),\n",
       "  ('line', 1),\n",
       "  ('look', 1),\n",
       "  ('make', 1),\n",
       "  ('manual', 3),\n",
       "  ('manual_shift', 1),\n",
       "  ('manual_transmission', 1),\n",
       "  ('manufacture', 1),\n",
       "  ('move', 1),\n",
       "  ('movement', 1),\n",
       "  ('nntp_post', 1),\n",
       "  ('normal', 1),\n",
       "  ('not', 1),\n",
       "  ('organization', 1),\n",
       "  ('otherwise', 1),\n",
       "  ('people', 1),\n",
       "  ('physical', 1),\n",
       "  ('prefer', 1),\n",
       "  ('race', 1),\n",
       "  ('radio', 1),\n",
       "  ('rensselaer_polytechnic', 1),\n",
       "  ('reply', 1),\n",
       "  ('road', 1),\n",
       "  ('rpi', 1),\n",
       "  ('scenery', 1),\n",
       "  ('shift', 2),\n",
       "  ('something', 1),\n",
       "  ('speed', 1),\n",
       "  ('stick', 1),\n",
       "  ('time', 1),\n",
       "  ('want', 1),\n",
       "  ('would', 2)]]"
      ]
     },
     "execution_count": 11,
     "metadata": {},
     "output_type": "execute_result"
    }
   ],
   "source": [
    "# Human readable format of corpus (term-frequency)\n",
    "[[(id2word[id], freq) for id, freq in cp] for cp in corpus[:1]]"
   ]
  },
  {
   "cell_type": "code",
   "execution_count": 12,
   "metadata": {},
   "outputs": [],
   "source": [
    "def average_precision_at_k(theta, labels, k, dist_fn):\n",
    "    dist = dist_fn(theta)\n",
    "    np.fill_diagonal(dist, np.inf)\n",
    "    idx = np.argpartition(dist, k-1)[:k,:]\n",
    "    return np.mean(labels[idx] == labels[None,:])"
   ]
  },
  {
   "cell_type": "code",
   "execution_count": 13,
   "metadata": {},
   "outputs": [],
   "source": [
    "from sklearn.metrics.pairwise import cosine_distances, euclidean_distances\n",
    "\n",
    "def hellinger(theta):\n",
    "    return euclidean_distances(np.sqrt(theta))\n",
    "\n",
    "def dot(theta):\n",
    "    return 1 - np.dot(theta, theta.transpose())"
   ]
  },
  {
   "cell_type": "code",
   "execution_count": 14,
   "metadata": {},
   "outputs": [],
   "source": [
    "from numba import jit, prange, autojit"
   ]
  },
  {
   "cell_type": "code",
   "execution_count": 15,
   "metadata": {},
   "outputs": [],
   "source": [
    "@jit(nopython = True, parallel = True)\n",
    "def outer(X, fn):\n",
    "    dist = np.empty((X.shape[0], X.shape[0]), dtype = np.float32)\n",
    "    for i in prange(X.shape[0]):\n",
    "        for j in prange(i):\n",
    "            dist[j,i] = dist[i,j] = fn(X[i,:], X[j,:])           \n",
    "    return dist"
   ]
  },
  {
   "cell_type": "code",
   "execution_count": 16,
   "metadata": {},
   "outputs": [],
   "source": [
    "@jit(nopython = True)\n",
    "def kl(p, q):\n",
    "    return np.dot(p, np.log(q / p))"
   ]
  },
  {
   "cell_type": "code",
   "execution_count": 17,
   "metadata": {},
   "outputs": [],
   "source": [
    "@jit(nopython = True)\n",
    "def sym_kl(p, q):\n",
    "    return kl(p, q) + kl(q, p)"
   ]
  },
  {
   "cell_type": "code",
   "execution_count": 18,
   "metadata": {},
   "outputs": [],
   "source": [
    "@jit(nopython = True)\n",
    "def js(p, q):\n",
    "    m = (p + q) / 2\n",
    "    return kl(p, m) / 2 + kl(q, m) / 2"
   ]
  },
  {
   "cell_type": "code",
   "execution_count": 19,
   "metadata": {},
   "outputs": [],
   "source": [
    "@jit(nopython = True)\n",
    "def bc(p, q):\n",
    "    return -np.log(np.sum(np.sqrt(p * q)))"
   ]
  },
  {
   "cell_type": "code",
   "execution_count": 20,
   "metadata": {},
   "outputs": [],
   "source": [
    "dist_fns = {'cosine' : cosine_distances,\n",
    "            'eucl' : euclidean_distances,\n",
    "            'hellinger' : hellinger,\n",
    "            'dot' : dot,\n",
    "            'sym_kl' : lambda x: outer(x, sym_kl),\n",
    "            'js' : lambda x: outer(x, js),\n",
    "            'bc' : lambda x: outer(x, bc)}"
   ]
  },
  {
   "cell_type": "code",
   "execution_count": 21,
   "metadata": {},
   "outputs": [],
   "source": [
    "from gensim import matutils\n",
    "\n",
    "def eval_topic_model(model, labels, k = 100, dist_fns = dist_fns):\n",
    "    matrix = model.get_document_topics(corpus, minimum_probability=0)\n",
    "    theta = matutils.corpus2dense(matrix, num_docs=len(corpus), num_terms=lda_model.num_topics, dtype = np.float32)\n",
    "    theta = np.asarray(theta, dtype = np.float32)\n",
    "    theta = theta.transpose()\n",
    "    best_score = 0\n",
    "    best_dist = None\n",
    "    for (dist, f) in dist_fns.items():\n",
    "        score = average_precision_at_k(theta, labels, 100, f)\n",
    "        if score > best_score:\n",
    "            best_score, best_dist = score, dist\n",
    "    return best_score, best_dist"
   ]
  },
  {
   "cell_type": "code",
   "execution_count": 26,
   "metadata": {},
   "outputs": [
    {
     "name": "stderr",
     "output_type": "stream",
     "text": [
      "D:\\Anaconda\\lib\\site-packages\\sklearn\\metrics\\pairwise.py:258: RuntimeWarning: invalid value encountered in sqrt\n",
      "  return distances if squared else np.sqrt(distances, out=distances)\n",
      "D:\\Anaconda\\lib\\site-packages\\sklearn\\metrics\\pairwise.py:258: RuntimeWarning: invalid value encountered in sqrt\n",
      "  return distances if squared else np.sqrt(distances, out=distances)\n"
     ]
    },
    {
     "name": "stdout",
     "output_type": "stream",
     "text": [
      " 5 topics AP@100 = 0.454 (bc distance)\n"
     ]
    },
    {
     "name": "stderr",
     "output_type": "stream",
     "text": [
      "D:\\Anaconda\\lib\\site-packages\\sklearn\\metrics\\pairwise.py:258: RuntimeWarning: invalid value encountered in sqrt\n",
      "  return distances if squared else np.sqrt(distances, out=distances)\n",
      "D:\\Anaconda\\lib\\site-packages\\sklearn\\metrics\\pairwise.py:258: RuntimeWarning: invalid value encountered in sqrt\n",
      "  return distances if squared else np.sqrt(distances, out=distances)\n"
     ]
    },
    {
     "name": "stdout",
     "output_type": "stream",
     "text": [
      "10 topics AP@100 = 0.630 (js distance)\n"
     ]
    },
    {
     "name": "stderr",
     "output_type": "stream",
     "text": [
      "D:\\Anaconda\\lib\\site-packages\\sklearn\\metrics\\pairwise.py:258: RuntimeWarning: invalid value encountered in sqrt\n",
      "  return distances if squared else np.sqrt(distances, out=distances)\n",
      "D:\\Anaconda\\lib\\site-packages\\sklearn\\metrics\\pairwise.py:258: RuntimeWarning: invalid value encountered in sqrt\n",
      "  return distances if squared else np.sqrt(distances, out=distances)\n"
     ]
    },
    {
     "name": "stdout",
     "output_type": "stream",
     "text": [
      "15 topics AP@100 = 0.557 (js distance)\n"
     ]
    },
    {
     "name": "stderr",
     "output_type": "stream",
     "text": [
      "D:\\Anaconda\\lib\\site-packages\\sklearn\\metrics\\pairwise.py:258: RuntimeWarning: invalid value encountered in sqrt\n",
      "  return distances if squared else np.sqrt(distances, out=distances)\n",
      "D:\\Anaconda\\lib\\site-packages\\sklearn\\metrics\\pairwise.py:258: RuntimeWarning: invalid value encountered in sqrt\n",
      "  return distances if squared else np.sqrt(distances, out=distances)\n"
     ]
    },
    {
     "name": "stdout",
     "output_type": "stream",
     "text": [
      "20 topics AP@100 = 0.675 (js distance)\n"
     ]
    },
    {
     "name": "stderr",
     "output_type": "stream",
     "text": [
      "D:\\Anaconda\\lib\\site-packages\\sklearn\\metrics\\pairwise.py:258: RuntimeWarning: invalid value encountered in sqrt\n",
      "  return distances if squared else np.sqrt(distances, out=distances)\n",
      "D:\\Anaconda\\lib\\site-packages\\sklearn\\metrics\\pairwise.py:258: RuntimeWarning: invalid value encountered in sqrt\n",
      "  return distances if squared else np.sqrt(distances, out=distances)\n"
     ]
    },
    {
     "name": "stdout",
     "output_type": "stream",
     "text": [
      "25 topics AP@100 = 0.513 (js distance)\n"
     ]
    },
    {
     "name": "stderr",
     "output_type": "stream",
     "text": [
      "D:\\Anaconda\\lib\\site-packages\\sklearn\\metrics\\pairwise.py:258: RuntimeWarning: invalid value encountered in sqrt\n",
      "  return distances if squared else np.sqrt(distances, out=distances)\n",
      "D:\\Anaconda\\lib\\site-packages\\sklearn\\metrics\\pairwise.py:258: RuntimeWarning: invalid value encountered in sqrt\n",
      "  return distances if squared else np.sqrt(distances, out=distances)\n"
     ]
    },
    {
     "name": "stdout",
     "output_type": "stream",
     "text": [
      "30 topics AP@100 = 0.631 (js distance)\n"
     ]
    },
    {
     "name": "stderr",
     "output_type": "stream",
     "text": [
      "D:\\Anaconda\\lib\\site-packages\\sklearn\\metrics\\pairwise.py:258: RuntimeWarning: invalid value encountered in sqrt\n",
      "  return distances if squared else np.sqrt(distances, out=distances)\n",
      "D:\\Anaconda\\lib\\site-packages\\sklearn\\metrics\\pairwise.py:258: RuntimeWarning: invalid value encountered in sqrt\n",
      "  return distances if squared else np.sqrt(distances, out=distances)\n"
     ]
    },
    {
     "name": "stdout",
     "output_type": "stream",
     "text": [
      "35 topics AP@100 = 0.621 (js distance)\n"
     ]
    },
    {
     "name": "stderr",
     "output_type": "stream",
     "text": [
      "D:\\Anaconda\\lib\\site-packages\\sklearn\\metrics\\pairwise.py:258: RuntimeWarning: invalid value encountered in sqrt\n",
      "  return distances if squared else np.sqrt(distances, out=distances)\n",
      "D:\\Anaconda\\lib\\site-packages\\sklearn\\metrics\\pairwise.py:258: RuntimeWarning: invalid value encountered in sqrt\n",
      "  return distances if squared else np.sqrt(distances, out=distances)\n"
     ]
    },
    {
     "name": "stdout",
     "output_type": "stream",
     "text": [
      "40 topics AP@100 = 0.650 (js distance)\n"
     ]
    },
    {
     "name": "stderr",
     "output_type": "stream",
     "text": [
      "D:\\Anaconda\\lib\\site-packages\\sklearn\\metrics\\pairwise.py:258: RuntimeWarning: invalid value encountered in sqrt\n",
      "  return distances if squared else np.sqrt(distances, out=distances)\n",
      "D:\\Anaconda\\lib\\site-packages\\sklearn\\metrics\\pairwise.py:258: RuntimeWarning: invalid value encountered in sqrt\n",
      "  return distances if squared else np.sqrt(distances, out=distances)\n"
     ]
    },
    {
     "name": "stdout",
     "output_type": "stream",
     "text": [
      "45 topics AP@100 = 0.649 (js distance)\n"
     ]
    },
    {
     "name": "stderr",
     "output_type": "stream",
     "text": [
      "D:\\Anaconda\\lib\\site-packages\\sklearn\\metrics\\pairwise.py:258: RuntimeWarning: invalid value encountered in sqrt\n",
      "  return distances if squared else np.sqrt(distances, out=distances)\n",
      "D:\\Anaconda\\lib\\site-packages\\sklearn\\metrics\\pairwise.py:258: RuntimeWarning: invalid value encountered in sqrt\n",
      "  return distances if squared else np.sqrt(distances, out=distances)\n"
     ]
    },
    {
     "name": "stdout",
     "output_type": "stream",
     "text": [
      "50 topics AP@100 = 0.577 (sym_kl distance)\n"
     ]
    },
    {
     "name": "stderr",
     "output_type": "stream",
     "text": [
      "D:\\Anaconda\\lib\\site-packages\\sklearn\\metrics\\pairwise.py:258: RuntimeWarning: invalid value encountered in sqrt\n",
      "  return distances if squared else np.sqrt(distances, out=distances)\n",
      "D:\\Anaconda\\lib\\site-packages\\sklearn\\metrics\\pairwise.py:258: RuntimeWarning: invalid value encountered in sqrt\n",
      "  return distances if squared else np.sqrt(distances, out=distances)\n"
     ]
    },
    {
     "name": "stdout",
     "output_type": "stream",
     "text": [
      "55 topics AP@100 = 0.612 (js distance)\n"
     ]
    },
    {
     "name": "stderr",
     "output_type": "stream",
     "text": [
      "D:\\Anaconda\\lib\\site-packages\\sklearn\\metrics\\pairwise.py:258: RuntimeWarning: invalid value encountered in sqrt\n",
      "  return distances if squared else np.sqrt(distances, out=distances)\n",
      "D:\\Anaconda\\lib\\site-packages\\sklearn\\metrics\\pairwise.py:258: RuntimeWarning: invalid value encountered in sqrt\n",
      "  return distances if squared else np.sqrt(distances, out=distances)\n"
     ]
    },
    {
     "name": "stdout",
     "output_type": "stream",
     "text": [
      "60 topics AP@100 = 0.690 (sym_kl distance)\n"
     ]
    }
   ],
   "source": [
    "for num_topics in range(5, 60 + 1,5):\n",
    "    lda_model = gensim.models.ldamodel.LdaModel(corpus=corpus,\n",
    "                                           id2word=id2word,\n",
    "                                           num_topics=num_topics, \n",
    "                                           random_state=100,\n",
    "                                           update_every=1,\n",
    "                                           chunksize=100,\n",
    "                                           passes=10,\n",
    "                                           alpha='auto',\n",
    "                                           per_word_topics=True)\n",
    "    score, dist = eval_topic_model(lda_model, df.target)\n",
    "    print(\"%2i topics AP@100 = %.3f (%s distance)\" % (num_topics, score, dist))"
   ]
  },
  {
   "cell_type": "code",
   "execution_count": 27,
   "metadata": {},
   "outputs": [],
   "source": [
    "# Build LDA model\n",
    "lda_model = gensim.models.ldamodel.LdaModel(corpus=corpus,\n",
    "                                           id2word=id2word,\n",
    "                                           num_topics=20, \n",
    "                                           random_state=100,\n",
    "                                           update_every=1,\n",
    "                                           chunksize=100,\n",
    "                                           passes=10,\n",
    "                                           alpha='auto',\n",
    "                                           per_word_topics=True)"
   ]
  },
  {
   "cell_type": "code",
   "execution_count": 28,
   "metadata": {
    "scrolled": false
   },
   "outputs": [
    {
     "name": "stdout",
     "output_type": "stream",
     "text": [
      "[(0,\n",
      "  '0.015*\"perry_metzger\" + 0.008*\"clarification\" + 0.006*\"lui_meme\" + '\n",
      "  '0.006*\"laissez_faire\" + 0.006*\"laissez_passer\" + 0.004*\"partnership\" + '\n",
      "  '0.000*\"bbs\" + 0.000*\"police\" + 0.000*\"bis_modem\" + 0.000*\"intelligble\"'),\n",
      " (1,\n",
      "  '0.033*\"not\" + 0.027*\"line\" + 0.024*\"organization\" + 0.023*\"would\" + '\n",
      "  '0.022*\"write\" + 0.019*\"do\" + 0.017*\"article\" + 0.017*\"get\" + 0.016*\"be\" + '\n",
      "  '0.013*\"know\"'),\n",
      " (2,\n",
      "  '0.076*\"battery\" + 0.051*\"temperature\" + 0.031*\"reaction\" + 0.030*\"cold\" + '\n",
      "  '0.028*\"picture\" + 0.025*\"cool\" + 0.019*\"dirt\" + 0.017*\"warm\" + 0.017*\"dod\" '\n",
      "  '+ 0.017*\"promote\"'),\n",
      " (3,\n",
      "  '0.042*\"increase\" + 0.033*\"effect\" + 0.033*\"patient\" + 0.031*\"risk\" + '\n",
      "  '0.028*\"disease\" + 0.027*\"food\" + 0.026*\"medical\" + 0.026*\"doctor\" + '\n",
      "  '0.023*\"cause\" + 0.021*\"certain\"'),\n",
      " (4,\n",
      "  '0.038*\"account\" + 0.035*\"return\" + 0.031*\"michael\" + 0.029*\"random\" + '\n",
      "  '0.028*\"date\" + 0.025*\"frank\" + 0.024*\"pub\" + 0.022*\"thought\" + '\n",
      "  '0.022*\"legislation\" + 0.022*\"ranger\"'),\n",
      " (5,\n",
      "  '0.168*\"gun\" + 0.042*\"christian\" + 0.041*\"death\" + 0.039*\"law\" + '\n",
      "  '0.037*\"kill\" + 0.021*\"land\" + 0.020*\"morris\" + 0.018*\"cat\" + 0.018*\"parent\" '\n",
      "  '+ 0.015*\"man\"'),\n",
      " (6,\n",
      "  '0.110*\"game\" + 0.065*\"team\" + 0.054*\"play\" + 0.047*\"player\" + 0.040*\"win\" + '\n",
      "  '0.035*\"year\" + 0.031*\"fan\" + 0.024*\"baseball\" + 0.023*\"goal\" + '\n",
      "  '0.021*\"hockey\"'),\n",
      " (7,\n",
      "  '0.045*\"beat\" + 0.037*\"van\" + 0.036*\"probe\" + 0.034*\"smoke\" + 0.033*\"truck\" '\n",
      "  '+ 0.026*\"ford\" + 0.022*\"pen\" + 0.020*\"bos\" + 0.020*\"tube\" + 0.019*\"nyi\"'),\n",
      " (8,\n",
      "  '0.040*\"channel\" + 0.039*\"bureau\" + 0.032*\"kent_sandvik\" + '\n",
      "  '0.023*\"greatly_appreciat\" + 0.019*\"cookamunga_tourist\" + 0.017*\"largely\" + '\n",
      "  '0.016*\"spelling\" + 0.012*\"serial\" + 0.011*\"private_activitie\" + '\n",
      "  '0.011*\"alink_ksand\"'),\n",
      " (9,\n",
      "  '0.017*\"use\" + 0.017*\"may\" + 0.014*\"also\" + 0.012*\"people\" + 0.010*\"state\" + '\n",
      "  '0.010*\"part\" + 0.010*\"case\" + 0.008*\"many\" + 0.007*\"find\" + 0.007*\"child\"'),\n",
      " (10,\n",
      "  '0.133*\"key\" + 0.044*\"chip\" + 0.042*\"launch\" + 0.030*\"bit\" + 0.027*\"rsa\" + '\n",
      "  '0.023*\"commercial\" + 0.023*\"clipper\" + 0.023*\"algorithm\" + 0.022*\"secret\" + '\n",
      "  '0.019*\"patent\"'),\n",
      " (11,\n",
      "  '0.060*\"dog\" + 0.048*\"frequency\" + 0.046*\"concept\" + 0.042*\"option\" + '\n",
      "  '0.040*\"somewhere\" + 0.036*\"physics\" + 0.020*\"wayne\" + 0.017*\"stl\" + '\n",
      "  '0.015*\"extent\" + 0.015*\"theoretical\"'),\n",
      " (12,\n",
      "  '0.033*\"star\" + 0.026*\"coach\" + 0.026*\"detroit\" + 0.025*\"king\" + '\n",
      "  '0.023*\"shark\" + 0.023*\"minnesota\" + 0.023*\"roger\" + 0.022*\"period\" + '\n",
      "  '0.021*\"career\" + 0.020*\"objective\"'),\n",
      " (13,\n",
      "  '0.070*\"car\" + 0.034*\"buy\" + 0.030*\"drive\" + 0.026*\"light\" + 0.025*\"price\" + '\n",
      "  '0.022*\"speed\" + 0.021*\"low\" + 0.021*\"engine\" + 0.020*\"cost\" + 0.018*\"sell\"'),\n",
      " (14,\n",
      "  '0.057*\"fbi\" + 0.057*\"fire\" + 0.032*\"weapon\" + 0.032*\"agent\" + '\n",
      "  '0.031*\"government\" + 0.029*\"term\" + 0.029*\"firearm\" + 0.025*\"united_state\" '\n",
      "  '+ 0.023*\"compound\" + 0.022*\"illegal\"'),\n",
      " (15,\n",
      "  '0.108*\"season\" + 0.081*\"pitch\" + 0.049*\"chicago\" + 0.041*\"sunday\" + '\n",
      "  '0.029*\"power_play\" + 0.025*\"brown\" + 0.019*\"clemen\" + 0.019*\"gift\" + '\n",
      "  '0.016*\"central\" + 0.016*\"catcher\"'),\n",
      " (16,\n",
      "  '0.103*\"space\" + 0.036*\"satellite\" + 0.036*\"science\" + 0.033*\"earth\" + '\n",
      "  '0.030*\"mission\" + 0.024*\"orbit\" + 0.024*\"motorcycle\" + 0.023*\"shuttle\" + '\n",
      "  '0.020*\"project\" + 0.020*\"insurance\"'),\n",
      " (17,\n",
      "  '0.030*\"system\" + 0.028*\"information\" + 0.023*\"mail\" + 0.020*\"computer\" + '\n",
      "  '0.020*\"message\" + 0.020*\"privacy\" + 0.017*\"technology\" + 0.017*\"list\" + '\n",
      "  '0.016*\"service\" + 0.016*\"user\"'),\n",
      " (18,\n",
      "  '0.036*\"bring\" + 0.030*\"canada\" + 0.029*\"april\" + 0.026*\"stand\" + '\n",
      "  '0.025*\"new_york\" + 0.022*\"catch\" + 0.022*\"planet\" + 0.019*\"sport\" + '\n",
      "  '0.019*\"trade\" + 0.019*\"degree\"'),\n",
      " (19,\n",
      "  '0.166*\"bike\" + 0.046*\"circuit\" + 0.037*\"output\" + 0.037*\"switch\" + '\n",
      "  '0.032*\"tax\" + 0.028*\"arizona\" + 0.027*\"repair\" + 0.023*\"cycle\" + '\n",
      "  '0.022*\"port\" + 0.020*\"wire\"')]\n"
     ]
    }
   ],
   "source": [
    "pprint(lda_model.print_topics())"
   ]
  },
  {
   "cell_type": "code",
   "execution_count": 29,
   "metadata": {},
   "outputs": [
    {
     "name": "stderr",
     "output_type": "stream",
     "text": [
      "D:\\Anaconda\\lib\\site-packages\\pyLDAvis\\_prepare.py:257: FutureWarning: Sorting because non-concatenation axis is not aligned. A future version\n",
      "of pandas will change to not sort by default.\n",
      "\n",
      "To accept the future behavior, pass 'sort=True'.\n",
      "\n",
      "To retain the current behavior and silence the warning, pass sort=False\n",
      "\n",
      "  return pd.concat([default_term_info] + list(topic_dfs))\n"
     ]
    },
    {
     "data": {
      "text/html": [
       "\n",
       "<link rel=\"stylesheet\" type=\"text/css\" href=\"https://cdn.rawgit.com/bmabey/pyLDAvis/files/ldavis.v1.0.0.css\">\n",
       "\n",
       "\n",
       "<div id=\"ldavis_el734016302482803762071540770\"></div>\n",
       "<script type=\"text/javascript\">\n",
       "\n",
       "var ldavis_el734016302482803762071540770_data = {\"mdsDat\": {\"x\": [-0.3707803784370898, -0.3603970253426243, -0.25766530653475783, -0.12805040991223393, -0.09918956034170755, -0.03355104722467122, -0.024634642930274512, 0.008488386322553464, -0.06421170297777076, 0.01882745640114808, 0.0685251002304932, 0.057616006786346714, 0.09716724060654809, 0.1327052334919687, 0.13727208754865833, 0.13010910364219333, 0.1543892117605846, 0.16385895037293638, 0.18008820317190632, 0.18943309336579256], \"y\": [0.22575267330771823, 0.11662266483430805, -0.18102324055978025, -0.20430084515802976, 0.11336635514556644, -0.14752914118975452, -0.1194189646436148, -0.01952411444680385, -0.14837002241572983, 0.008607935242834323, 0.05351931626934514, 0.03680556733124273, 0.009635778110682376, 0.03296480242493963, 0.029568763086964333, 0.040403861892321, 0.037120813519833006, 0.037469981817409674, 0.03882925424874989, 0.0394985611817975], \"topics\": [1, 2, 3, 4, 5, 6, 7, 8, 9, 10, 11, 12, 13, 14, 15, 16, 17, 18, 19, 20], \"cluster\": [1, 1, 1, 1, 1, 1, 1, 1, 1, 1, 1, 1, 1, 1, 1, 1, 1, 1, 1, 1], \"Freq\": [49.24695587158203, 20.200420379638672, 7.536002159118652, 3.6546218395233154, 3.1107897758483887, 2.2089457511901855, 2.156935930252075, 2.0749053955078125, 1.91542649269104, 1.473235011100769, 1.2829569578170776, 1.187145709991455, 0.9959874749183655, 0.8669340014457703, 0.5671789050102234, 0.5540384650230408, 0.44999727606773376, 0.381271630525589, 0.1107684001326561, 0.025492429733276367]}, \"tinfo\": {\"Category\": [\"Default\", \"Default\", \"Default\", \"Default\", \"Default\", \"Default\", \"Default\", \"Default\", \"Default\", \"Default\", \"Default\", \"Default\", \"Default\", \"Default\", \"Default\", \"Default\", \"Default\", \"Default\", \"Default\", \"Default\", \"Default\", \"Default\", \"Default\", \"Default\", \"Default\", \"Default\", \"Default\", \"Default\", \"Default\", \"Default\", \"Topic1\", \"Topic1\", \"Topic1\", \"Topic1\", \"Topic1\", \"Topic1\", \"Topic1\", \"Topic1\", \"Topic1\", \"Topic1\", \"Topic1\", \"Topic1\", \"Topic1\", \"Topic1\", \"Topic1\", \"Topic1\", \"Topic1\", \"Topic1\", \"Topic1\", \"Topic1\", \"Topic1\", \"Topic1\", \"Topic1\", \"Topic1\", \"Topic1\", \"Topic1\", \"Topic1\", \"Topic1\", \"Topic1\", \"Topic1\", \"Topic1\", \"Topic1\", \"Topic1\", \"Topic1\", \"Topic1\", \"Topic1\", \"Topic1\", \"Topic1\", \"Topic1\", \"Topic1\", \"Topic1\", \"Topic1\", \"Topic1\", \"Topic1\", \"Topic1\", \"Topic2\", \"Topic2\", \"Topic2\", \"Topic2\", \"Topic2\", \"Topic2\", \"Topic2\", \"Topic2\", \"Topic2\", \"Topic2\", \"Topic2\", \"Topic2\", \"Topic2\", \"Topic2\", \"Topic2\", \"Topic2\", \"Topic2\", \"Topic2\", \"Topic2\", \"Topic2\", \"Topic2\", \"Topic2\", \"Topic2\", \"Topic2\", \"Topic2\", \"Topic2\", \"Topic2\", \"Topic2\", \"Topic2\", \"Topic2\", \"Topic2\", \"Topic2\", \"Topic2\", \"Topic2\", \"Topic2\", \"Topic2\", \"Topic2\", \"Topic2\", \"Topic2\", \"Topic2\", \"Topic2\", \"Topic2\", \"Topic2\", \"Topic2\", \"Topic2\", \"Topic2\", \"Topic2\", \"Topic2\", \"Topic2\", \"Topic2\", \"Topic2\", \"Topic2\", \"Topic2\", \"Topic2\", \"Topic2\", \"Topic2\", \"Topic3\", \"Topic3\", \"Topic3\", \"Topic3\", \"Topic3\", \"Topic3\", \"Topic3\", \"Topic3\", \"Topic3\", \"Topic3\", \"Topic3\", \"Topic3\", \"Topic3\", \"Topic3\", \"Topic3\", \"Topic3\", \"Topic3\", \"Topic3\", \"Topic3\", \"Topic3\", \"Topic3\", \"Topic3\", \"Topic3\", \"Topic3\", \"Topic3\", \"Topic3\", \"Topic3\", \"Topic3\", \"Topic3\", \"Topic3\", \"Topic3\", \"Topic3\", \"Topic3\", \"Topic3\", \"Topic3\", \"Topic3\", \"Topic3\", \"Topic3\", \"Topic3\", \"Topic3\", \"Topic3\", \"Topic3\", \"Topic3\", \"Topic3\", \"Topic3\", \"Topic3\", \"Topic3\", \"Topic3\", \"Topic4\", \"Topic4\", \"Topic4\", \"Topic4\", \"Topic4\", \"Topic4\", \"Topic4\", \"Topic4\", \"Topic4\", \"Topic4\", \"Topic4\", \"Topic4\", \"Topic4\", \"Topic4\", \"Topic4\", \"Topic4\", \"Topic4\", \"Topic4\", \"Topic4\", \"Topic4\", \"Topic4\", \"Topic4\", \"Topic4\", \"Topic4\", \"Topic4\", \"Topic4\", \"Topic4\", \"Topic4\", \"Topic4\", \"Topic4\", \"Topic4\", \"Topic4\", \"Topic4\", \"Topic4\", \"Topic4\", \"Topic4\", \"Topic4\", \"Topic4\", \"Topic4\", \"Topic4\", \"Topic4\", \"Topic4\", \"Topic4\", \"Topic4\", \"Topic4\", \"Topic5\", \"Topic5\", \"Topic5\", \"Topic5\", \"Topic5\", \"Topic5\", \"Topic5\", \"Topic5\", \"Topic5\", \"Topic5\", \"Topic5\", \"Topic5\", \"Topic5\", \"Topic5\", \"Topic5\", \"Topic5\", \"Topic5\", \"Topic5\", \"Topic5\", \"Topic5\", \"Topic5\", \"Topic5\", \"Topic5\", \"Topic5\", \"Topic5\", \"Topic5\", \"Topic5\", \"Topic5\", \"Topic5\", \"Topic5\", \"Topic5\", \"Topic5\", \"Topic5\", \"Topic5\", \"Topic5\", \"Topic5\", \"Topic5\", \"Topic5\", \"Topic5\", \"Topic5\", \"Topic5\", \"Topic5\", \"Topic6\", \"Topic6\", \"Topic6\", \"Topic6\", \"Topic6\", \"Topic6\", \"Topic6\", \"Topic6\", \"Topic6\", \"Topic6\", \"Topic6\", \"Topic6\", \"Topic6\", \"Topic6\", \"Topic6\", \"Topic6\", \"Topic6\", \"Topic6\", \"Topic6\", \"Topic6\", \"Topic6\", \"Topic6\", \"Topic6\", \"Topic6\", \"Topic6\", \"Topic6\", \"Topic6\", \"Topic6\", \"Topic6\", \"Topic6\", \"Topic6\", \"Topic6\", \"Topic6\", \"Topic6\", \"Topic6\", \"Topic6\", \"Topic6\", \"Topic7\", \"Topic7\", \"Topic7\", \"Topic7\", \"Topic7\", \"Topic7\", \"Topic7\", \"Topic7\", \"Topic7\", \"Topic7\", \"Topic7\", \"Topic7\", \"Topic7\", \"Topic7\", \"Topic7\", \"Topic7\", \"Topic7\", \"Topic7\", \"Topic7\", \"Topic7\", \"Topic7\", \"Topic7\", \"Topic7\", \"Topic7\", \"Topic7\", \"Topic7\", \"Topic7\", \"Topic7\", \"Topic7\", \"Topic7\", \"Topic7\", \"Topic7\", \"Topic7\", \"Topic7\", \"Topic8\", \"Topic8\", \"Topic8\", \"Topic8\", \"Topic8\", \"Topic8\", \"Topic8\", \"Topic8\", \"Topic8\", \"Topic8\", \"Topic8\", \"Topic8\", \"Topic8\", \"Topic8\", \"Topic8\", \"Topic8\", \"Topic8\", \"Topic8\", \"Topic8\", \"Topic8\", \"Topic8\", \"Topic8\", \"Topic8\", \"Topic8\", \"Topic8\", \"Topic8\", \"Topic8\", \"Topic8\", \"Topic8\", \"Topic8\", \"Topic8\", \"Topic8\", \"Topic8\", \"Topic8\", \"Topic8\", \"Topic8\", \"Topic8\", \"Topic8\", \"Topic9\", \"Topic9\", \"Topic9\", \"Topic9\", \"Topic9\", \"Topic9\", \"Topic9\", \"Topic9\", \"Topic9\", \"Topic9\", \"Topic9\", \"Topic9\", \"Topic9\", \"Topic9\", \"Topic9\", \"Topic9\", \"Topic9\", \"Topic9\", \"Topic9\", \"Topic9\", \"Topic9\", \"Topic9\", \"Topic9\", \"Topic9\", \"Topic9\", \"Topic9\", \"Topic9\", \"Topic9\", \"Topic9\", \"Topic9\", \"Topic9\", \"Topic9\", \"Topic9\", \"Topic9\", \"Topic9\", \"Topic9\", \"Topic9\", \"Topic9\", \"Topic9\", \"Topic9\", \"Topic9\", \"Topic9\", \"Topic10\", \"Topic10\", \"Topic10\", \"Topic10\", \"Topic10\", \"Topic10\", \"Topic10\", \"Topic10\", \"Topic10\", \"Topic10\", \"Topic10\", \"Topic10\", \"Topic10\", \"Topic10\", \"Topic10\", \"Topic10\", \"Topic10\", \"Topic10\", \"Topic10\", \"Topic10\", \"Topic10\", \"Topic10\", \"Topic10\", \"Topic10\", \"Topic10\", \"Topic10\", \"Topic10\", \"Topic10\", \"Topic10\", \"Topic10\", \"Topic10\", \"Topic10\", \"Topic10\", \"Topic10\", \"Topic10\", \"Topic10\", \"Topic10\", \"Topic10\", \"Topic10\", \"Topic10\", \"Topic10\", \"Topic11\", \"Topic11\", \"Topic11\", \"Topic11\", \"Topic11\", \"Topic11\", \"Topic11\", \"Topic11\", \"Topic11\", \"Topic11\", \"Topic11\", \"Topic11\", \"Topic11\", \"Topic11\", \"Topic11\", \"Topic11\", \"Topic11\", \"Topic11\", \"Topic11\", \"Topic11\", \"Topic11\", \"Topic11\", \"Topic11\", \"Topic11\", \"Topic11\", \"Topic11\", \"Topic11\", \"Topic11\", \"Topic11\", \"Topic11\", \"Topic11\", \"Topic11\", \"Topic11\", \"Topic11\", \"Topic11\", \"Topic11\", \"Topic11\", \"Topic12\", \"Topic12\", \"Topic12\", \"Topic12\", \"Topic12\", \"Topic12\", \"Topic12\", \"Topic12\", \"Topic12\", \"Topic12\", \"Topic12\", \"Topic12\", \"Topic12\", \"Topic12\", \"Topic12\", \"Topic12\", \"Topic12\", \"Topic12\", \"Topic12\", \"Topic12\", \"Topic12\", \"Topic12\", \"Topic12\", \"Topic12\", \"Topic12\", \"Topic12\", \"Topic12\", \"Topic12\", \"Topic12\", \"Topic12\", \"Topic12\", \"Topic12\", \"Topic12\", \"Topic12\", \"Topic12\", \"Topic12\", \"Topic12\", \"Topic12\", \"Topic12\", \"Topic12\", \"Topic12\", \"Topic12\", \"Topic13\", \"Topic13\", \"Topic13\", \"Topic13\", \"Topic13\", \"Topic13\", \"Topic13\", \"Topic13\", \"Topic13\", \"Topic13\", \"Topic13\", \"Topic13\", \"Topic13\", \"Topic13\", \"Topic13\", \"Topic13\", \"Topic13\", \"Topic13\", \"Topic13\", \"Topic13\", \"Topic13\", \"Topic13\", \"Topic13\", \"Topic13\", \"Topic13\", \"Topic13\", \"Topic13\", \"Topic13\", \"Topic13\", \"Topic13\", \"Topic13\", \"Topic13\", \"Topic13\", \"Topic14\", \"Topic14\", \"Topic14\", \"Topic14\", \"Topic14\", \"Topic14\", \"Topic14\", \"Topic14\", \"Topic14\", \"Topic14\", \"Topic14\", \"Topic14\", \"Topic14\", \"Topic14\", \"Topic14\", \"Topic14\", \"Topic14\", \"Topic14\", \"Topic14\", \"Topic14\", \"Topic14\", \"Topic14\", \"Topic14\", \"Topic14\", \"Topic14\", \"Topic14\", \"Topic14\", \"Topic14\", \"Topic14\", \"Topic14\", \"Topic15\", \"Topic15\", \"Topic15\", \"Topic15\", \"Topic15\", \"Topic15\", \"Topic15\", \"Topic15\", \"Topic15\", \"Topic15\", \"Topic15\", \"Topic15\", \"Topic15\", \"Topic15\", \"Topic15\", \"Topic15\", \"Topic15\", \"Topic15\", \"Topic15\", \"Topic15\", \"Topic15\", \"Topic15\", \"Topic15\", \"Topic15\", \"Topic15\", \"Topic15\", \"Topic15\", \"Topic15\", \"Topic15\", \"Topic15\", \"Topic15\", \"Topic15\", \"Topic16\", \"Topic16\", \"Topic16\", \"Topic16\", \"Topic16\", \"Topic16\", \"Topic16\", \"Topic16\", \"Topic16\", \"Topic16\", \"Topic16\", \"Topic16\", \"Topic16\", \"Topic16\", \"Topic16\", \"Topic16\", \"Topic16\", \"Topic16\", \"Topic16\", \"Topic16\", \"Topic16\", \"Topic16\", \"Topic16\", \"Topic16\", \"Topic16\", \"Topic16\", \"Topic16\", \"Topic16\", \"Topic16\", \"Topic16\", \"Topic16\", \"Topic17\", \"Topic17\", \"Topic17\", \"Topic17\", \"Topic17\", \"Topic17\", \"Topic17\", \"Topic17\", \"Topic17\", \"Topic17\", \"Topic17\", \"Topic17\", \"Topic17\", \"Topic17\", \"Topic17\", \"Topic17\", \"Topic17\", \"Topic17\", \"Topic17\", \"Topic17\", \"Topic17\", \"Topic17\", \"Topic17\", \"Topic17\", \"Topic17\", \"Topic17\", \"Topic17\", \"Topic17\", \"Topic17\", \"Topic17\", \"Topic17\", \"Topic17\", \"Topic17\", \"Topic18\", \"Topic18\", \"Topic18\", \"Topic18\", \"Topic18\", \"Topic18\", \"Topic18\", \"Topic18\", \"Topic18\", \"Topic18\", \"Topic18\", \"Topic18\", \"Topic18\", \"Topic18\", \"Topic18\", \"Topic18\", \"Topic18\", \"Topic18\", \"Topic18\", \"Topic18\", \"Topic18\", \"Topic18\", \"Topic18\", \"Topic18\", \"Topic18\", \"Topic18\", \"Topic18\", \"Topic18\", \"Topic18\", \"Topic18\", \"Topic19\", \"Topic19\", \"Topic19\", \"Topic19\", \"Topic19\", \"Topic19\", \"Topic19\", \"Topic19\", \"Topic19\", \"Topic19\", \"Topic19\", \"Topic19\", \"Topic19\", \"Topic19\", \"Topic19\", \"Topic19\", \"Topic19\", \"Topic19\", \"Topic19\", \"Topic19\", \"Topic19\", \"Topic19\", \"Topic19\", \"Topic19\", \"Topic19\", \"Topic19\", \"Topic19\", \"Topic19\", \"Topic19\", \"Topic19\", \"Topic19\", \"Topic19\", \"Topic19\", \"Topic19\", \"Topic19\", \"Topic20\", \"Topic20\", \"Topic20\", \"Topic20\", \"Topic20\", \"Topic20\", \"Topic20\", \"Topic20\", \"Topic20\", \"Topic20\", \"Topic20\", \"Topic20\", \"Topic20\", \"Topic20\", \"Topic20\", \"Topic20\", \"Topic20\", \"Topic20\", \"Topic20\", \"Topic20\", \"Topic20\", \"Topic20\", \"Topic20\", \"Topic20\", \"Topic20\", \"Topic20\", \"Topic20\", \"Topic20\", \"Topic20\", \"Topic20\", \"Topic20\", \"Topic20\", \"Topic20\", \"Topic20\", \"Topic20\", \"Topic20\", \"Topic20\", \"Topic20\", \"Topic20\"], \"Freq\": [4175.0, 19598.0, 5987.0, 3107.0, 16164.0, 2442.0, 2774.0, 3108.0, 14531.0, 13183.0, 2465.0, 11699.0, 2748.0, 8023.0, 2061.0, 10489.0, 3366.0, 2040.0, 14116.0, 10125.0, 6097.0, 9793.0, 2614.0, 5024.0, 3625.0, 1775.0, 1993.0, 1150.0, 6247.0, 7564.0, 19597.06640625, 16163.6318359375, 14530.404296875, 13182.7060546875, 11698.1875, 10488.8818359375, 10124.76171875, 9792.017578125, 7964.0595703125, 6548.41943359375, 6346.2685546875, 5790.49853515625, 5757.52099609375, 4488.6357421875, 4243.419921875, 3665.468505859375, 2976.527587890625, 2961.185791015625, 2907.491943359375, 2873.916259765625, 2636.29150390625, 2600.400390625, 2525.469970703125, 2482.843994140625, 2407.587890625, 2186.06982421875, 2105.332763671875, 2092.83251953125, 2056.515869140625, 2053.01513671875, 4003.111572265625, 3537.127685546875, 2571.098388671875, 7435.31640625, 13682.525390625, 6342.48583984375, 3650.08251953125, 7779.52783203125, 4802.845703125, 6082.12646484375, 3822.31201171875, 4371.51953125, 5003.25390625, 5363.7021484375, 3585.2841796875, 2355.512939453125, 1689.3612060546875, 1527.5767822265625, 1321.7545166015625, 1308.8427734375, 1265.108642578125, 1209.7763671875, 1521.4742431640625, 1117.071044921875, 1065.8338623046875, 1052.0218505859375, 1027.4400634765625, 989.5233154296875, 943.4927978515625, 933.9617919921875, 931.4412841796875, 868.19775390625, 866.0986938476562, 855.5698852539062, 833.1299438476562, 808.9486083984375, 775.9536743164062, 765.3135986328125, 760.6182861328125, 730.5179443359375, 715.5782470703125, 711.2775268554688, 701.8826904296875, 699.541259765625, 695.7294921875, 2417.486572265625, 1515.1561279296875, 1210.5445556640625, 1121.10546875, 1278.24658203125, 812.5545654296875, 4293.2431640625, 2458.826904296875, 1330.4683837890625, 4111.53857421875, 1434.4207763671875, 3394.91455078125, 1332.1798095703125, 1330.6666259765625, 3041.0537109375, 1490.4078369140625, 1644.5899658203125, 1857.6025390625, 1753.6805419921875, 1240.8118896484375, 1486.3568115234375, 1233.1939697265625, 1516.2760009765625, 1534.810791015625, 1300.92333984375, 1212.4718017578125, 2613.072509765625, 1864.8114013671875, 1811.3321533203125, 1554.766845703125, 1507.8409423828125, 1496.89404296875, 1468.154541015625, 1296.7359619140625, 1291.42333984375, 1278.585205078125, 982.7791748046875, 943.7628173828125, 904.2709350585938, 828.4811401367188, 716.6769409179688, 708.4441528320312, 684.6767578125, 617.2620239257812, 586.4345092773438, 531.850341796875, 530.3109130859375, 523.6434936523438, 511.18658447265625, 471.9598083496094, 463.5731506347656, 455.3503723144531, 448.5885925292969, 2101.800048828125, 428.33148193359375, 418.5223693847656, 556.8867797851562, 1518.80078125, 630.8152465820312, 1844.9761962890625, 582.0712280273438, 2784.40771484375, 1271.227294921875, 1078.1611328125, 1362.074462890625, 1074.79150390625, 1357.107177734375, 892.0305786132812, 867.3602905273438, 1192.14453125, 1452.6162109375, 894.9808959960938, 763.4827270507812, 749.0739135742188, 3107.6513671875, 1523.3846435546875, 1335.21044921875, 1097.33251953125, 1001.6761474609375, 944.9410400390625, 700.3358154296875, 688.0986938476562, 597.7521362304688, 471.7403869628906, 471.31915283203125, 445.3085632324219, 424.4575500488281, 392.32476806640625, 383.4444885253906, 362.3719787597656, 346.1117858886719, 333.414794921875, 331.48370361328125, 304.91827392578125, 304.08062744140625, 291.7438659667969, 278.38525390625, 274.8124694824219, 271.2190246582031, 267.77203369140625, 262.4708557128906, 261.4095458984375, 251.37896728515625, 244.6772918701172, 1163.5074462890625, 736.134033203125, 478.4036560058594, 800.2828979492188, 357.15997314453125, 407.8415832519531, 955.0902709960938, 882.4793090820312, 312.0496520996094, 574.1787719726562, 425.2821350097656, 485.56524658203125, 687.784912109375, 598.038818359375, 379.33978271484375, 4174.76806640625, 2464.697509765625, 2039.2872314453125, 1774.6943359375, 1535.215576171875, 1185.2921142578125, 896.0742797851562, 864.2930297851562, 781.4271850585938, 775.2760620117188, 749.09716796875, 705.52001953125, 599.896728515625, 575.3964233398438, 392.2202453613281, 378.9555969238281, 323.2257995605469, 296.9053039550781, 286.8200988769531, 257.9847717285156, 257.49151611328125, 236.46861267089844, 185.90931701660156, 171.75157165527344, 166.9064483642578, 164.05181884765625, 160.97567749023438, 158.76780700683594, 155.9773406982422, 155.2736053466797, 482.93798828125, 1335.58447265625, 543.0592041015625, 390.83135986328125, 308.1916809082031, 312.9581298828125, 352.7063903808594, 480.4850769042969, 449.854736328125, 446.6036682128906, 325.099609375, 289.25335693359375, 2773.380126953125, 972.9317626953125, 969.484130859375, 896.8523559570312, 799.803955078125, 660.2743530273438, 636.20751953125, 625.752685546875, 526.740966796875, 514.2748413085938, 506.2022705078125, 491.19720458984375, 490.96063232421875, 392.682861328125, 359.1358947753906, 353.07000732421875, 309.9842834472656, 284.87408447265625, 238.10557556152344, 232.37423706054688, 231.3056182861328, 227.62937927246094, 188.22531127929688, 181.74642944335938, 177.55311584472656, 163.84068298339844, 161.5780487060547, 158.90618896484375, 157.46385192871094, 157.4253387451172, 530.6319580078125, 404.89605712890625, 408.878662109375, 275.5132751464844, 213.74868774414062, 235.84152221679688, 184.80279541015625, 1114.6400146484375, 871.7767944335938, 870.2295532226562, 822.059326171875, 728.6685180664062, 723.2914428710938, 688.8161010742188, 676.4749755859375, 536.759521484375, 524.3883666992188, 513.3472290039062, 433.87091064453125, 417.3933410644531, 397.1217041015625, 384.23077392578125, 371.1993103027344, 365.8883361816406, 344.3947448730469, 338.5291442871094, 337.4404296875, 332.3526611328125, 320.7983093261719, 314.739990234375, 289.9331359863281, 265.8125915527344, 263.0946960449219, 609.883544921875, 220.5780487060547, 210.90020751953125, 209.54177856445312, 553.53271484375, 287.83734130859375, 364.45245361328125, 279.2751159667969, 913.6287841796875, 771.9031982421875, 637.7838134765625, 553.976806640625, 547.009033203125, 477.2140808105469, 471.21612548828125, 458.0506286621094, 452.4067077636719, 449.0559997558594, 378.2695007324219, 365.5606384277344, 356.6265563964844, 347.37725830078125, 341.86749267578125, 314.3865051269531, 291.37921142578125, 286.80401611328125, 261.0916442871094, 225.8345489501953, 225.0342254638672, 216.10696411132812, 209.65565490722656, 206.554443359375, 200.54005432128906, 198.20956420898438, 191.35121154785156, 186.7924346923828, 184.03021240234375, 183.24932861328125, 472.6292419433594, 653.6533203125, 420.3071594238281, 385.8360290527344, 722.350341796875, 344.27288818359375, 385.7943420410156, 323.0853271484375, 3106.66943359375, 1022.2022705078125, 974.9244995117188, 638.0692749023438, 548.1033325195312, 543.9364013671875, 537.2640991210938, 505.3600158691406, 447.78485107421875, 297.8196716308594, 272.88671875, 270.5807189941406, 258.3160400390625, 237.1953582763672, 220.33189392089844, 212.7023162841797, 200.00526428222656, 187.1178436279297, 183.28634643554688, 178.35244750976562, 157.1109161376953, 151.942626953125, 144.1710205078125, 141.19981384277344, 137.92343139648438, 130.79417419433594, 124.83502960205078, 110.24850463867188, 107.50494384765625, 104.42117309570312, 321.5314636230469, 205.96511840820312, 276.2324523925781, 709.4990234375, 354.0977478027344, 210.47474670410156, 436.667236328125, 237.6495361328125, 398.2419738769531, 254.44281005859375, 196.7813720703125, 196.16844177246094, 1029.94970703125, 1024.369140625, 580.5545654296875, 573.4164428710938, 522.8564453125, 517.6702880859375, 453.0015563964844, 409.92205810546875, 388.4804382324219, 375.66119384765625, 346.51873779296875, 331.8587646484375, 270.36846923828125, 253.26927185058594, 202.75743103027344, 201.23361206054688, 185.37831115722656, 180.0955047607422, 177.1665802001953, 169.71316528320312, 150.93206787109375, 141.9828338623047, 140.90582275390625, 140.4893341064453, 139.2430877685547, 128.55210876464844, 127.87017059326172, 103.49143981933594, 92.79547119140625, 90.95841217041016, 241.47119140625, 563.7479858398438, 195.79762268066406, 227.3015899658203, 251.1488494873047, 217.09681701660156, 219.8155975341797, 168.55007934570312, 152.24899291992188, 161.41651916503906, 156.7359619140625, 514.7557373046875, 414.3057556152344, 409.7215576171875, 360.83599853515625, 352.5296630859375, 352.4774475097656, 322.3307189941406, 308.61370849609375, 286.71282958984375, 251.78558349609375, 240.4327850341797, 236.65672302246094, 235.30960083007812, 215.4740447998047, 200.05526733398438, 165.33029174804688, 158.85983276367188, 150.6936798095703, 146.65614318847656, 146.03187561035156, 144.4179229736328, 142.3500518798828, 140.95883178710938, 135.50762939453125, 124.89957427978516, 119.03958892822266, 110.35115814208984, 108.19243621826172, 104.51519775390625, 95.2580795288086, 393.7803955078125, 336.89361572265625, 296.2018737792969, 211.460693359375, 211.07708740234375, 277.3557434082031, 225.41067504882812, 2441.12060546875, 613.6764526367188, 288.8200988769531, 258.3000183105469, 254.60304260253906, 188.70794677734375, 187.73919677734375, 179.5911407470703, 175.12789916992188, 166.93800354003906, 161.7006072998047, 155.4246063232422, 145.29287719726562, 135.91741943359375, 133.32986450195312, 121.2221450805664, 116.01416778564453, 109.28669738769531, 106.61235809326172, 89.28681182861328, 76.2586669921875, 72.61392974853516, 60.51134490966797, 60.02021408081055, 53.2952995300293, 53.247474670410156, 51.18708419799805, 46.8626594543457, 46.59126663208008, 46.54154586791992, 305.0922546386719, 153.66714477539062, 590.7260131835938, 82.86690521240234, 532.64453125, 179.8626251220703, 569.7300415039062, 115.65771484375, 223.6541748046875, 157.8799591064453, 143.09188842773438, 151.6813507080078, 456.8118591308594, 424.7394714355469, 380.8011779785156, 354.6020812988281, 303.22711181640625, 291.9290466308594, 270.952392578125, 263.4406433105469, 261.8251953125, 260.504638671875, 254.29917907714844, 219.3364715576172, 216.3549041748047, 215.0730743408203, 204.39273071289062, 196.72598266601562, 183.2191925048828, 175.29232788085938, 162.38113403320312, 147.34979248046875, 144.3197021484375, 139.84742736816406, 139.60629272460938, 133.2352294921875, 123.60785675048828, 122.6654052734375, 115.3908920288086, 103.53005981445312, 100.53644561767578, 100.24613952636719, 341.10040283203125, 127.01837158203125, 110.34793090820312, 473.1282958984375, 386.22296142578125, 378.0653381347656, 358.1229248046875, 351.360107421875, 278.1536560058594, 237.40390014648438, 216.28964233398438, 212.0557861328125, 204.08299255371094, 203.08241271972656, 201.6837615966797, 198.23252868652344, 194.36508178710938, 177.9779052734375, 175.63478088378906, 171.65945434570312, 166.060302734375, 130.04432678222656, 122.46709442138672, 111.53900909423828, 109.44416046142578, 90.02256774902344, 85.35774230957031, 83.88859558105469, 82.1405258178711, 81.49952697753906, 80.60579681396484, 78.56993865966797, 74.881103515625, 1149.2728271484375, 320.8864440917969, 256.2106018066406, 255.13438415527344, 224.248291015625, 194.6405487060547, 184.092041015625, 162.07058715820312, 153.32139587402344, 132.17042541503906, 123.6698226928711, 102.72862243652344, 102.1418685913086, 100.29264831542969, 88.88706970214844, 77.2891845703125, 59.74604415893555, 57.999759674072266, 56.26356506347656, 54.56119918823242, 53.329078674316406, 52.375579833984375, 40.20093536376953, 29.265914916992188, 23.034086227416992, 21.96718978881836, 20.86496353149414, 17.477731704711914, 7.8124494552612305, 6.55520486831665, 136.58546447753906, 11.351179122924805, 514.4547729492188, 342.25994873046875, 212.17901611328125, 200.8452606201172, 188.23509216308594, 171.1588134765625, 130.91490173339844, 117.8311538696289, 114.0958023071289, 113.14090728759766, 112.41058349609375, 112.0367202758789, 110.11991119384766, 109.39879608154297, 108.80440521240234, 101.49053955078125, 98.27784729003906, 85.22198486328125, 78.53593444824219, 77.35984802246094, 76.6037368774414, 69.79817962646484, 64.76346588134766, 64.21560668945312, 61.99079132080078, 59.58312225341797, 59.58312225341797, 54.994815826416016, 52.3585205078125, 48.98595428466797, 115.80098724365234, 593.2703247070312, 444.7135009765625, 269.5600280761719, 222.7295379638672, 157.99169921875, 106.7697525024414, 106.31990814208984, 87.28853607177734, 85.5401382446289, 58.194053649902344, 54.829620361328125, 52.298702239990234, 50.963722229003906, 49.4929313659668, 46.57509231567383, 42.79123306274414, 39.56309127807617, 34.868961334228516, 30.338747024536133, 28.630998611450195, 27.043115615844727, 43.460418701171875, 17.354511260986328, 15.93090534210205, 14.323433876037598, 5.034559726715088, 3.6388309001922607, 2.1736724376678467, 1.8257958889007568, 139.5841522216797, 61.7823600769043, 6.372440814971924, 13.14055347442627, 281.1358642578125, 221.9842071533203, 216.18505859375, 194.49746704101562, 184.340576171875, 165.7029571533203, 94.1313705444336, 78.8170166015625, 70.07011413574219, 67.88136291503906, 65.92037963867188, 49.379032135009766, 48.589786529541016, 47.1566047668457, 42.39482498168945, 39.509605407714844, 30.75090217590332, 28.834829330444336, 28.018354415893555, 27.390230178833008, 27.277324676513672, 23.186002731323242, 23.186002731323242, 22.312602996826172, 22.073793411254883, 21.245094299316406, 19.812000274658203, 19.380996704101562, 14.957752227783203, 9.354219436645508, 54.685874938964844, 52.1061897277832, 43.73027801513672, 31.270307540893555, 25.267528533935547, 23.622987747192383, 21.987550735473633, 16.7567081451416, 15.08466625213623, 15.08466625213623, 15.082417488098145, 14.955377578735352, 10.46692180633545, 9.637575149536133, 7.528300762176514, 0.01869678683578968, 0.01869482360780239, 0.018694361671805382, 0.018694361671805382, 0.01869436725974083, 0.018694425001740456, 0.018694214522838593, 0.01869431510567665, 0.018694281578063965, 0.01869393140077591, 0.018693886697292328, 0.018693914636969566, 0.018694115802645683, 0.01869378052651882, 0.01869378052651882, 0.01869378052651882, 0.01869410276412964, 0.018694499507546425, 0.018693959340453148, 0.01869392767548561, 4.701974391937256, 2.539612054824829, 1.8176406621932983, 1.8176406621932983, 1.8176406621932983, 1.1148871183395386, 0.005587329622358084, 0.005587190855294466, 0.005587083753198385, 0.005587060935795307, 0.005587031599134207, 0.005586966872215271, 0.005586960818618536, 0.005586960818618536, 0.005586966872215271, 0.005586960818618536, 0.005586960818618536, 0.005586985498666763, 0.005586960818618536, 0.005587295163422823, 0.005586960818618536, 0.005586966872215271, 0.0055870115756988525, 0.005586961284279823, 0.005586960352957249, 0.005586966872215271, 0.005586901213973761, 0.005586901213973761, 0.005586901213973761, 0.005586901213973761, 0.005586961284279823, 0.005586960818618536, 0.005586966872215271, 0.0055869994685053825, 0.005586972460150719, 0.005586971063166857, 0.005586960818618536, 0.005586964078247547, 0.005586966872215271], \"Term\": [\"game\", \"not\", \"year\", \"key\", \"line\", \"gun\", \"space\", \"car\", \"organization\", \"write\", \"team\", \"do\", \"internet\", \"good\", \"law\", \"article\", \"system\", \"play\", \"would\", \"get\", \"people\", \"be\", \"information\", \"use\", \"new\", \"player\", \"government\", \"bike\", \"may\", \"go\", \"not\", \"line\", \"organization\", \"write\", \"do\", \"article\", \"get\", \"be\", \"know\", \"think\", \"nntp_post\", \"host\", \"see\", \"s\", \"want\", \"have\", \"anyone\", \"reply\", \"can\", \"really\", \"something\", \"still\", \"back\", \"tell\", \"never\", \"let\", \"put\", \"little\", \"lot\", \"thank\", \"thing\", \"look\", \"try\", \"go\", \"would\", \"university\", \"come\", \"good\", \"could\", \"say\", \"much\", \"take\", \"time\", \"make\", \"way\", \"case\", \"child\", \"example\", \"address\", \"software\", \"control\", \"allow\", \"follow\", \"rate\", \"require\", \"become\", \"support\", \"form\", \"body\", \"exist\", \"stop\", \"non\", \"model\", \"involve\", \"produce\", \"important\", \"steve\", \"sort\", \"human\", \"eff\", \"dealer\", \"apply\", \"create\", \"history\", \"force\", \"part\", \"person\", \"book\", \"word\", \"large\", \"act\", \"use\", \"state\", \"issue\", \"may\", \"base\", \"also\", \"report\", \"must\", \"people\", \"law\", \"high\", \"many\", \"find\", \"group\", \"right\", \"include\", \"year\", \"make\", \"first\", \"time\", \"information\", \"computer\", \"privacy\", \"technology\", \"service\", \"user\", \"email\", \"file\", \"network\", \"security\", \"phone\", \"health\", \"communication\", \"faq\", \"_\", \"access\", \"woman\", \"secure\", \"device\", \"request\", \"copy\", \"release\", \"original\", \"private\", \"voice\", \"encrypt\", \"fax\", \"mail\", \"sale\", \"telephone\", \"distribution\", \"list\", \"code\", \"message\", \"contact\", \"system\", \"datum\", \"available\", \"send\", \"company\", \"government\", \"standard\", \"national\", \"public\", \"new\", \"provide\", \"post\", \"need\", \"car\", \"buy\", \"drive\", \"price\", \"speed\", \"engine\", \"road\", \"front\", \"ride\", \"normal\", \"rid\", \"radio\", \"otherwise\", \"wear\", \"driver\", \"signal\", \"store\", \"univ\", \"extra\", \"mph\", \"gordon_bank\", \"shift\", \"rear\", \"attitude\", \"production\", \"identity\", \"manual\", \"quickly\", \"mustang\", \"band\", \"light\", \"fast\", \"gas\", \"sell\", \"expensive\", \"owner\", \"low\", \"cost\", \"fun\", \"power\", \"safety\", \"design\", \"new\", \"high\", \"vehicle\", \"game\", \"team\", \"play\", \"player\", \"win\", \"fan\", \"baseball\", \"goal\", \"hockey\", \"score\", \"boston\", \"stat\", \"playoff\", \"clipper_chip\", \"league\", \"nhl\", \"espn\", \"brave\", \"johnson\", \"puck\", \"leafs\", \"scoring\", \"yankee\", \"express_access\", \"online_communication\", \"penalty\", \"stanley_cup\", \"draft\", \"talent\", \"greg\", \"blue\", \"year\", \"hit\", \"record\", \"defense\", \"average\", \"lose\", \"last\", \"run\", \"first\", \"watch\", \"total\", \"space\", \"satellite\", \"science\", \"earth\", \"mission\", \"orbit\", \"motorcycle\", \"shuttle\", \"insurance\", \"image\", \"moon\", \"nasa\", \"pat\", \"laboratory\", \"spacecraft\", \"flight\", \"brake\", \"nature\", \"mit\", \"topic\", \"eventually\", \"fuel\", \"mouse\", \"suit\", \"ready\", \"dozen\", \"pump\", \"table\", \"craft\", \"poster\", \"project\", \"dept\", \"program\", \"cost\", \"vehicle\", \"center\", \"instrument\", \"increase\", \"effect\", \"patient\", \"risk\", \"disease\", \"food\", \"medical\", \"doctor\", \"fall\", \"occur\", \"theory\", \"infection\", \"tend\", \"accident\", \"surface\", \"reduce\", \"culture\", \"medicine\", \"mass\", \"intend\", \"heat\", \"define\", \"argue\", \"pain\", \"rock\", \"chemical\", \"cause\", \"outside\", \"primarily\", \"physical\", \"certain\", \"condition\", \"evidence\", \"test\", \"bring\", \"canada\", \"new_york\", \"catch\", \"planet\", \"sport\", \"degree\", \"treatment\", \"size\", \"auto\", \"injury\", \"south\", \"should\", \"bob\", \"recall\", \"rd\", \"montreal\", \"wood\", \"aware\", \"tie\", \"print\", \"welcome\", \"cap\", \"cup\", \"ive_seen\", \"spot\", \"coverage\", \"bench\", \"pool\", \"met\", \"trade\", \"stand\", \"round\", \"pittsburgh\", \"april\", \"park\", \"week\", \"pick\", \"key\", \"chip\", \"launch\", \"rsa\", \"commercial\", \"clipper\", \"algorithm\", \"secret\", \"patent\", \"henry_spencer\", \"disk\", \"nsa\", \"pad\", \"toronto_zoology\", \"cryptographic\", \"protocol\", \"sky\", \"classify\", \"register\", \"implementation\", \"sample\", \"henry\", \"german\", \"de\", \"lunar\", \"utility\", \"visible\", \"brand\", \"substance\", \"crack\", \"hardware\", \"proposal\", \"block\", \"bit\", \"site\", \"select\", \"program\", \"market\", \"internet\", \"design\", \"technical\", \"generate\", \"fbi\", \"fire\", \"weapon\", \"agent\", \"term\", \"firearm\", \"united_state\", \"compound\", \"illegal\", \"tank\", \"koresh\", \"waco\", \"batf\", \"actual\", \"ear\", \"violation\", \"assault\", \"survivor\", \"atf\", \"offense\", \"atf_burn\", \"dividian_ranch\", \"bandwidth\", \"rifle\", \"consult\", \"utilize\", \"statistical\", \"feel_free\", \"proceeding\", \"pioneer\", \"license\", \"government\", \"burn\", \"death\", \"kill\", \"evidence\", \"claim\", \"house\", \"arm\", \"believe\", \"start\", \"star\", \"coach\", \"detroit\", \"shark\", \"minnesota\", \"roger\", \"career\", \"objective\", \"wing\", \"vancouver\", \"san_jose\", \"former\", \"eric\", \"murray\", \"staff\", \"germany\", \"educational\", \"express\", \"calgary\", \"prediction\", \"jay\", \"moral\", \"language\", \"funding\", \"starter\", \"finland\", \"victory\", \"switzerland\", \"sweden\", \"valentine\", \"king\", \"period\", \"series\", \"final\", \"division\", \"second\", \"lead\", \"gun\", \"christian\", \"morris\", \"cat\", \"parent\", \"faith\", \"heart\", \"perfect\", \"religious\", \"church\", \"miller\", \"andy\", \"matthew\", \"christianity\", \"guest\", \"convex_computer\", \"justice\", \"brian_ceccarelli\", \"youve_got\", \"jesus_christ\", \"consume\", \"reject\", \"kennedy\", \"koreshs\", \"revenge\", \"secretary\", \"colorado_spring\", \"paul_harvey\", \"cease\", \"soul\", \"land\", \"witness\", \"death\", \"habit\", \"kill\", \"somebody\", \"law\", \"suicide\", \"man\", \"love\", \"stand\", \"live\", \"account\", \"return\", \"michael\", \"random\", \"frank\", \"pub\", \"thought\", \"legislation\", \"ranger\", \"length\", \"scott\", \"twin\", \"jeff\", \"mid\", \"chain\", \"town\", \"nra\", \"mount\", \"index\", \"anderson\", \"opinions_express\", \"crap\", \"hewlett_packard\", \"growth\", \"mod\", \"valuable\", \"bug\", \"sp\", \"champion\", \"surprised\", \"date\", \"contribute\", \"establish\", \"beat\", \"van\", \"probe\", \"smoke\", \"truck\", \"ford\", \"pen\", \"bos\", \"tube\", \"nyi\", \"cal\", \"pit\", \"chi\", \"tor\", \"det\", \"jupiter\", \"thousand\", \"edward\", \"particle\", \"fool\", \"camaro\", \"nut\", \"buf\", \"velocity\", \"mon\", \"explode\", \"smoker\", \"row\", \"walter\", \"mazda\", \"bike\", \"circuit\", \"output\", \"switch\", \"tax\", \"arizona\", \"repair\", \"cycle\", \"port\", \"meter\", \"replacement\", \"plant\", \"spec\", \"patch\", \"motorola\", \"dial\", \"schematic\", \"fi\", \"get_rid\", \"handy\", \"wax\", \"korea\", \"discount\", \"richardson_tx\", \"scott_roby\", \"bbs_winnipeg\", \"manitoba_canada\", \"maxima_chain\", \"neal_howard\", \"ham\", \"wire\", \"habit\", \"battery\", \"temperature\", \"reaction\", \"cold\", \"picture\", \"cool\", \"dirt\", \"warm\", \"promote\", \"packet\", \"berkeley\", \"mormon\", \"plate\", \"biker\", \"lead_acid\", \"photo\", \"sun_microsystem\", \"floor\", \"stratus_computer\", \"film\", \"tavare\", \"keeper\", \"ruin\", \"ltd\", \"motorcyclist\", \"write_today\", \"special_investor\", \"secondary\", \"jeffrey\", \"ed_green\", \"dod\", \"season\", \"pitch\", \"chicago\", \"sunday\", \"power_play\", \"clemen\", \"gift\", \"central\", \"catcher\", \"rotation\", \"playing\", \"sox\", \"dare\", \"nail\", \"defenseman\", \"keith\", \"taurus\", \"otto\", \"mario_lemieux\", \"viola\", \"white_sox\", \"rookie\", \"teemu_selanne\", \"fin\", \"shawn\", \"melbourne_australia\", \"gregory_bond\", \"burdett_buckeridge\", \"ltd_melbourne\", \"brown\", \"young\", \"fischer\", \"contact\", \"dog\", \"frequency\", \"concept\", \"option\", \"somewhere\", \"physics\", \"wayne\", \"stl\", \"extent\", \"theoretical\", \"used\", \"dumbest_automotive\", \"probability\", \"que\", \"nonsense\", \"trivial\", \"shazad_barla\", \"kit\", \"westminster\", \"achkar\", \"huh\", \"blues_saint\", \"louis_blue\", \"framework\", \"joseph_charle\", \"objective_morality\", \"joe_ashkar\", \"miata\", \"bo\", \"lens\", \"channel\", \"bureau\", \"kent_sandvik\", \"greatly_appreciat\", \"cookamunga_tourist\", \"largely\", \"spelling\", \"serial\", \"alink_ksand\", \"private_activitie\", \"cheers_kent\", \"coast\", \"albuquerque\", \"spencer\", \"incidence\", \"bible\", \"guilt\", \"ksand_private\", \"kent_alink\", \"entropy\", \"brian_kendig\", \"whos_next\", \"feeling\", \"jump\", \"malcolm\", \"vantage_point\", \"compassion\", \"kent\", \"humanist\", \"john_redelfs\", \"secular\", \"guilty\", \"activity\", \"frame\", \"wall\", \"perry_metzger\", \"clarification\", \"laissez_passer\", \"lui_meme\", \"laissez_faire\", \"partnership\", \"bbs\", \"bis_modem\", \"intelligble\", \"perry_metzg\", \"lehman_brother\", \"vocoded\", \"authorisation\", \"sufficent\", \"bt\", \"gurantee\", \"germano_caronni\", \"graham_toal\", \"obligation\", \"police\", \"fifth_amendment\", \"scramble\", \"modem\", \"paul_crowley\", \"oblige\", \"attach\", \"admissible\", \"inadmissible\", \"fishing_expedition\", \"wh_proposal\", \"bind\", \"domestic\", \"plug\", \"restriction\", \"silly\", \"serial_number\", \"provider\", \"cryptography\", \"transmission\"], \"Total\": [4175.0, 19598.0, 5987.0, 3107.0, 16164.0, 2442.0, 2774.0, 3108.0, 14531.0, 13183.0, 2465.0, 11699.0, 2748.0, 8023.0, 2061.0, 10489.0, 3366.0, 2040.0, 14116.0, 10125.0, 6097.0, 9793.0, 2614.0, 5024.0, 3625.0, 1775.0, 1993.0, 1150.0, 6247.0, 7564.0, 19598.12109375, 16164.68359375, 14531.4560546875, 13183.7578125, 11699.2392578125, 10489.93359375, 10125.8134765625, 9793.0693359375, 7965.11279296875, 6549.47265625, 6347.32177734375, 5791.5517578125, 5758.6689453125, 4489.68896484375, 4244.47314453125, 3666.5224609375, 2977.58154296875, 2962.23974609375, 2908.5458984375, 2874.97021484375, 2637.345458984375, 2601.454345703125, 2526.52392578125, 2483.89794921875, 2408.641845703125, 2187.123779296875, 2106.38671875, 2093.886474609375, 2057.56982421875, 2054.069091796875, 4014.8642578125, 3546.634033203125, 2572.701416015625, 7564.09228515625, 14116.2861328125, 6443.15771484375, 3675.81591796875, 8023.26953125, 5090.81884765625, 6891.8876953125, 4075.43798828125, 4826.69287109375, 6216.7099609375, 6899.4970703125, 3995.500732421875, 2356.572998046875, 1690.4210205078125, 1528.6365966796875, 1322.8143310546875, 1309.902587890625, 1266.16845703125, 1210.836181640625, 1522.85302734375, 1118.130859375, 1066.8936767578125, 1053.087646484375, 1028.4998779296875, 990.5833129882812, 944.5527954101562, 935.0217895507812, 932.5012817382812, 869.2577514648438, 867.15869140625, 856.6298828125, 834.18994140625, 810.0097045898438, 777.013671875, 766.3735961914062, 761.6782836914062, 731.5779418945312, 716.6382446289062, 712.3375244140625, 702.9426879882812, 700.6012573242188, 696.7894897460938, 2439.697265625, 1523.9105224609375, 1229.8187255859375, 1139.7574462890625, 1316.9967041015625, 820.3820190429688, 5024.48876953125, 2735.1533203125, 1478.1380615234375, 6247.7294921875, 1697.419677734375, 5488.2900390625, 1561.147705078125, 1656.515625, 6097.59375, 2061.134765625, 2598.653076171875, 3278.516357421875, 3516.819580078125, 1857.0789794921875, 3598.944580078125, 1875.7950439453125, 5987.35595703125, 6899.4970703125, 4084.58203125, 6216.7099609375, 2614.14453125, 1865.8829345703125, 1812.4036865234375, 1555.83837890625, 1508.9124755859375, 1497.965576171875, 1469.22607421875, 1297.8074951171875, 1292.494873046875, 1279.65673828125, 983.8508911132812, 944.8345336914062, 905.3426513671875, 829.5528564453125, 717.7486572265625, 709.515869140625, 685.7484741210938, 618.333740234375, 587.5062255859375, 532.9220581054688, 531.3826293945312, 524.7152099609375, 512.2581787109375, 473.03216552734375, 464.64471435546875, 456.42193603515625, 449.66015625, 2106.915283203125, 429.4030456542969, 419.59393310546875, 561.05810546875, 1579.580810546875, 647.2601318359375, 2084.394287109375, 596.2350463867188, 3366.615966796875, 1480.8741455078125, 1224.40185546875, 1622.678466796875, 1269.374755859375, 1993.1158447265625, 1189.4202880859375, 1153.9342041015625, 2264.8388671875, 3625.083740234375, 1433.479736328125, 2928.403564453125, 3660.993896484375, 3108.71435546875, 1524.4473876953125, 1336.273193359375, 1098.395263671875, 1002.739013671875, 946.00390625, 701.398681640625, 689.1615600585938, 598.8150024414062, 472.8030700683594, 472.3818359375, 446.3712463378906, 425.5202331542969, 393.387451171875, 384.5071716308594, 363.4346618652344, 347.1744689941406, 334.47747802734375, 332.54638671875, 305.98095703125, 305.143310546875, 292.8065490722656, 279.44793701171875, 275.8751525878906, 272.2817077636719, 268.834716796875, 263.5335388183594, 262.47222900390625, 252.44166564941406, 245.739990234375, 1169.3453369140625, 797.4330444335938, 507.70416259765625, 912.4827270507812, 375.3662414550781, 449.984130859375, 1364.9580078125, 1278.080322265625, 336.6811218261719, 1676.2869873046875, 776.1153564453125, 1159.6893310546875, 3625.083740234375, 2598.653076171875, 594.085693359375, 4175.82421875, 2465.7548828125, 2040.34423828125, 1775.7513427734375, 1536.2725830078125, 1186.34912109375, 897.13134765625, 865.35009765625, 782.4842529296875, 776.3331298828125, 750.1542358398438, 706.5770874023438, 600.9537963867188, 576.4534912109375, 393.27716064453125, 380.01251220703125, 324.28271484375, 297.96221923828125, 287.87701416015625, 259.04168701171875, 258.5484313964844, 237.52552795410156, 186.9662322998047, 172.80848693847656, 167.96336364746094, 165.10873413085938, 162.0325927734375, 159.82472229003906, 157.0342559814453, 156.3305206298828, 692.49365234375, 5987.35595703125, 1363.6873779296875, 877.8021240234375, 590.7523193359375, 625.1502685546875, 996.599365234375, 2376.822998046875, 2560.238037109375, 4084.58203125, 931.80908203125, 645.6444091796875, 2774.443359375, 973.994873046875, 970.5472412109375, 897.9154663085938, 800.8670654296875, 661.3374633789062, 637.2706298828125, 626.8157958984375, 527.8040771484375, 515.3379516601562, 507.26519775390625, 492.2601318359375, 492.0235595703125, 393.74578857421875, 360.1988220214844, 354.1329345703125, 311.0472106933594, 285.93701171875, 239.1685028076172, 233.43716430664062, 232.36854553222656, 228.6923065185547, 189.28823852539062, 182.80935668945312, 178.6160430908203, 164.9036102294922, 162.64097595214844, 159.9691162109375, 158.5267791748047, 158.48826599121094, 786.9345092773438, 561.8927612304688, 1688.119873046875, 1278.080322265625, 594.085693359375, 1447.2930908203125, 351.5246887207031, 1115.704833984375, 872.8416748046875, 871.2943725585938, 823.1241455078125, 729.7333374023438, 724.3562622070312, 689.8809204101562, 677.539794921875, 537.8243408203125, 525.4531860351562, 514.4120483398438, 434.935546875, 418.4579772949219, 398.18634033203125, 385.29541015625, 372.2639465332031, 366.9529724121094, 345.4593811035156, 339.5937805175781, 338.50506591796875, 333.41729736328125, 321.8629455566406, 315.80462646484375, 290.9977722167969, 266.8772277832031, 264.1593322753906, 612.7543334960938, 221.6427001953125, 211.96485900878906, 210.60643005371094, 599.9970092773438, 411.8647766113281, 803.9329833984375, 943.917236328125, 914.6844482421875, 772.9588623046875, 638.8394775390625, 555.032470703125, 548.064697265625, 478.2696533203125, 472.2716979980469, 459.106201171875, 453.4622802734375, 450.111572265625, 379.3250732421875, 366.6162109375, 357.68212890625, 348.4328308105469, 342.9230651855469, 315.44207763671875, 292.4347839355469, 287.8595886230469, 262.147216796875, 226.89013671875, 226.08981323242188, 217.1625518798828, 210.71124267578125, 207.6100311279297, 201.59564208984375, 199.26515197753906, 192.40679931640625, 187.8480224609375, 185.08580017089844, 184.30491638183594, 506.8913879394531, 797.7377319335938, 482.68939208984375, 476.19000244140625, 1096.917236328125, 556.9089965820312, 1096.08154296875, 868.3137817382812, 3107.74755859375, 1023.2801513671875, 976.0023803710938, 639.1471557617188, 549.1812133789062, 545.0142822265625, 538.3419799804688, 506.43780517578125, 448.8626403808594, 298.8974609375, 273.9645080566406, 271.65850830078125, 259.3938293457031, 238.27316284179688, 221.40969848632812, 213.78012084960938, 201.08306884765625, 188.19564819335938, 184.36415100097656, 179.4302520751953, 158.188720703125, 153.0204315185547, 145.2488250732422, 142.27761840820312, 139.00123596191406, 131.87197875976562, 125.91283416748047, 111.32630920410156, 108.58274841308594, 105.49897766113281, 361.5923767089844, 242.01678466796875, 354.9029541015625, 1450.1492919921875, 715.4737548828125, 296.2607727050781, 1688.119873046875, 579.6285400390625, 2748.615234375, 1159.6893310546875, 419.9833984375, 446.361328125, 1031.01611328125, 1025.435546875, 581.6210327148438, 574.48291015625, 523.9229125976562, 518.7367553710938, 454.0679016113281, 410.9884033203125, 389.5467834472656, 376.7275390625, 347.5850830078125, 332.92510986328125, 271.434814453125, 254.33563232421875, 203.82379150390625, 202.2999725341797, 186.44467163085938, 181.161865234375, 178.23294067382812, 170.77952575683594, 151.99842834472656, 143.0491943359375, 141.97218322753906, 141.55569458007812, 140.3094482421875, 129.61846923828125, 128.9365234375, 104.55780029296875, 93.86183166503906, 92.02477264404297, 360.73663330078125, 1993.1158447265625, 459.0328674316406, 819.0309448242188, 1212.1234130859375, 803.9329833984375, 1148.9215087890625, 486.8651428222656, 500.14654541015625, 2283.11572265625, 2394.8994140625, 515.815673828125, 415.3656311035156, 410.78143310546875, 361.8958740234375, 353.58953857421875, 353.5373229980469, 323.3905944824219, 309.673583984375, 287.772705078125, 252.84542846679688, 241.4926300048828, 237.71656799316406, 236.36944580078125, 216.5338897705078, 201.1151123046875, 166.39013671875, 159.919677734375, 151.75352478027344, 147.7159881591797, 147.0917205810547, 145.47776794433594, 143.40989685058594, 142.0186767578125, 136.56747436523438, 125.95944213867188, 120.09945678710938, 111.41102600097656, 109.25230407714844, 105.57506561279297, 96.31794738769531, 467.01336669921875, 557.022705078125, 682.5618896484375, 589.5036010742188, 613.1525268554688, 1599.3646240234375, 1292.9493408203125, 2442.186279296875, 614.741943359375, 289.88555908203125, 259.365478515625, 255.66848754882812, 189.7733917236328, 188.8046417236328, 180.65658569335938, 176.19334411621094, 168.00344848632812, 162.76605224609375, 156.49005126953125, 146.3583221435547, 136.9828643798828, 134.3953094482422, 122.28759765625, 117.07962036132812, 110.3521499633789, 107.67781066894531, 90.35226440429688, 77.3241195678711, 73.67938232421875, 61.57680130004883, 61.08566665649414, 54.360755920410156, 54.312931060791016, 52.25253677368164, 47.9281120300293, 47.65672302246094, 47.606998443603516, 347.5551452636719, 176.09800720214844, 819.0309448242188, 95.23431396484375, 1212.1234130859375, 325.591064453125, 2061.134765625, 196.3155975341797, 1467.330078125, 679.986572265625, 797.7377319335938, 1537.26318359375, 457.88134765625, 425.8089599609375, 381.87066650390625, 355.67156982421875, 304.2966003417969, 292.99853515625, 272.0218811035156, 264.5101318359375, 262.8946838378906, 261.5741271972656, 255.36866760253906, 220.4059600830078, 217.4243927001953, 216.14256286621094, 205.46221923828125, 197.79547119140625, 184.28868103027344, 176.36181640625, 163.45062255859375, 148.41928100585938, 145.38919067382812, 140.9169158935547, 140.67578125, 134.30471801757812, 124.67735290527344, 123.73490142822266, 116.46038818359375, 104.59955596923828, 101.60594177246094, 101.31563568115234, 414.58154296875, 160.74990844726562, 287.54150390625, 474.1864929199219, 387.2811584472656, 379.12353515625, 359.1811218261719, 352.4183044433594, 279.21185302734375, 238.46209716796875, 217.34783935546875, 213.11398315429688, 205.1411895751953, 204.14060974121094, 202.74195861816406, 199.2907257080078, 195.42327880859375, 179.03610229492188, 176.69297790527344, 172.7176513671875, 167.11849975585938, 131.10252380371094, 123.52529907226562, 112.59721374511719, 110.50236511230469, 91.08077239990234, 86.41594696044922, 84.9468002319336, 83.19873046875, 82.55773162841797, 81.66400146484375, 79.62814331054688, 75.9393081665039, 1150.352294921875, 321.96575927734375, 257.2899169921875, 256.2137145996094, 225.32763671875, 195.7198944091797, 185.17138671875, 163.14993286132812, 154.40074157714844, 133.24977111816406, 124.74916076660156, 103.8079605102539, 103.22120666503906, 101.37198638916016, 89.9664077758789, 78.36852264404297, 60.82538604736328, 59.0791015625, 57.3429069519043, 55.640541076660156, 54.40842056274414, 53.45492172241211, 41.280277252197266, 30.34525489807129, 24.113426208496094, 23.04652976989746, 21.944303512573242, 18.557071685791016, 8.891791343688965, 7.634546756744385, 359.1498718261719, 95.23431396484375, 515.5377807617188, 343.3428955078125, 213.26197814941406, 201.92822265625, 189.31805419921875, 172.2417755126953, 131.99786376953125, 118.91411590576172, 115.17876434326172, 114.22386932373047, 113.49354553222656, 113.11968231201172, 111.20287322998047, 110.48175811767578, 109.88736724853516, 102.57350158691406, 99.36080932617188, 86.30494689941406, 79.618896484375, 78.44281005859375, 77.68669891357422, 70.88114166259766, 65.84642791748047, 65.29856872558594, 63.07374954223633, 60.666080474853516, 60.666080474853516, 56.07777404785156, 53.44147872924805, 50.068912506103516, 1048.1927490234375, 594.3504638671875, 445.79364013671875, 270.6401672363281, 223.80967712402344, 159.07183837890625, 107.84988403320312, 107.40003967285156, 88.36866760253906, 86.62026977539062, 59.27418518066406, 55.909751892089844, 53.37883377075195, 52.043853759765625, 50.573062896728516, 47.65522384643555, 43.87136459350586, 40.64322280883789, 35.949092864990234, 31.41887664794922, 29.71112823486328, 28.123245239257812, 45.75284194946289, 18.434640884399414, 17.011035919189453, 15.403565406799316, 6.114690780639648, 4.7189621925354, 3.2538037300109863, 2.9059271812438965, 277.17193603515625, 588.9732055664062, 62.71719741821289, 596.2350463867188, 282.2182922363281, 223.06661987304688, 217.26747131347656, 195.5798797607422, 185.42298889160156, 166.78536987304688, 95.21378326416016, 79.89942932128906, 71.15252685546875, 68.96377563476562, 67.00279235839844, 50.46145248413086, 49.67220687866211, 48.2390251159668, 43.47724533081055, 40.59202575683594, 31.83331871032715, 29.917245864868164, 29.100770950317383, 28.472646713256836, 28.3597412109375, 24.26841926574707, 24.26841926574707, 23.39501953125, 23.15620994567871, 22.327510833740234, 20.89441680908203, 20.46341323852539, 16.04016876220703, 10.436637878417969, 55.795753479003906, 53.216068267822266, 44.84015655517578, 32.380184173583984, 26.377403259277344, 24.73286247253418, 23.09742546081543, 17.8665828704834, 16.194541931152344, 16.194541931152344, 16.192293167114258, 16.06525230407715, 11.576797485351562, 10.747450828552246, 8.638175964355469, 1.1286195516586304, 1.1285817623138428, 1.1285752058029175, 1.1285752058029175, 1.128576397895813, 1.1285821199417114, 1.1285769939422607, 1.1285902261734009, 1.1285923719406128, 1.128575086593628, 1.1285732984542847, 1.1285758018493652, 1.128589153289795, 1.1285704374313354, 1.1285715103149414, 1.128571629524231, 1.1285936832427979, 1.1286495923995972, 1.1286015510559082, 1.128604531288147, 5.824955940246582, 3.6625936031341553, 2.940622329711914, 2.940622329711914, 2.940622329711914, 2.2378687858581543, 1.1285886764526367, 1.1285737752914429, 1.1285698413848877, 1.1285696029663086, 1.1285697221755981, 1.1285693645477295, 1.12856924533844, 1.12856924533844, 1.128570556640625, 1.1285696029663086, 1.128570556640625, 1.1285758018493652, 1.1285706758499146, 1.128638505935669, 1.128570795059204, 1.1285734176635742, 1.1285837888717651, 1.1285738945007324, 1.1285741329193115, 1.1285797357559204, 1.1285690069198608, 1.1285688877105713, 1.1285691261291504, 1.1285693645477295, 1.1285841464996338, 1.1285858154296875, 1.1285912990570068, 1.1286033391952515, 1.128596305847168, 1.128598928451538, 1.1286009550094604, 1.1286524534225464, 1.1286226511001587], \"loglift\": [30.0, 29.0, 28.0, 27.0, 26.0, 25.0, 24.0, 23.0, 22.0, 21.0, 20.0, 19.0, 18.0, 17.0, 16.0, 15.0, 14.0, 13.0, 12.0, 11.0, 10.0, 9.0, 8.0, 7.0, 6.0, 5.0, 4.0, 3.0, 2.0, 1.0, 0.708299994468689, 0.708299994468689, 0.708299994468689, 0.7081999778747559, 0.7081999778747559, 0.7081999778747559, 0.7081999778747559, 0.7081999778747559, 0.7081999778747559, 0.7081999778747559, 0.7081999778747559, 0.7081000208854675, 0.7081000208854675, 0.7081000208854675, 0.7081000208854675, 0.7080000042915344, 0.7080000042915344, 0.7080000042915344, 0.7080000042915344, 0.7080000042915344, 0.7078999876976013, 0.7078999876976013, 0.7078999876976013, 0.7078999876976013, 0.7078999876976013, 0.7077999711036682, 0.7077999711036682, 0.7077999711036682, 0.7077999711036682, 0.7077999711036682, 0.7053999900817871, 0.7056000232696533, 0.7077000141143799, 0.6912000179290771, 0.6771000027656555, 0.6926000118255615, 0.7013000249862671, 0.6775000095367432, 0.6500999927520752, 0.583299994468689, 0.6442000269889832, 0.6093000173568726, 0.4912000000476837, 0.45649999380111694, 0.6000000238418579, 1.5989999771118164, 1.5987999439239502, 1.5987999439239502, 1.5987000465393066, 1.5987000465393066, 1.5986000299453735, 1.5986000299453735, 1.5986000299453735, 1.5985000133514404, 1.5985000133514404, 1.5985000133514404, 1.5983999967575073, 1.5983999967575073, 1.5982999801635742, 1.5982999801635742, 1.5982999801635742, 1.5981999635696411, 1.5981999635696411, 1.5981999635696411, 1.5981999635696411, 1.5981999635696411, 1.598099946975708, 1.598099946975708, 1.598099946975708, 1.5980000495910645, 1.5980000495910645, 1.5980000495910645, 1.5980000495910645, 1.5980000495910645, 1.5979000329971313, 1.5902999639511108, 1.5937000513076782, 1.5836999416351318, 1.5829999446868896, 1.569599986076355, 1.589900016784668, 1.442199945449829, 1.4930000305175781, 1.4941999912261963, 1.180999994277954, 1.4311000108718872, 1.1190999746322632, 1.4408999681472778, 1.3803999423980713, 0.9038000106811523, 1.2753000259399414, 1.1419999599456787, 1.0313999652862549, 0.9035999774932861, 1.1962000131607056, 0.7152000069618225, 1.1799999475479126, 0.22609999775886536, 0.09640000015497208, 0.4553000032901764, -0.035100001841783524, 2.585099935531616, 2.58489990234375, 2.58489990234375, 2.5848000049591064, 2.5848000049591064, 2.5848000049591064, 2.584700107574463, 2.584700107574463, 2.5845999717712402, 2.5845999717712402, 2.584399938583374, 2.5843000411987305, 2.5843000411987305, 2.584199905395508, 2.5840001106262207, 2.5840001106262207, 2.583899974822998, 2.583699941635132, 2.583699941635132, 2.5834999084472656, 2.5834999084472656, 2.583400011062622, 2.583400011062622, 2.583199977874756, 2.583199977874756, 2.5831000804901123, 2.5831000804901123, 2.5829999446868896, 2.5829999446868896, 2.582900047302246, 2.578000068664551, 2.5462000370025635, 2.5597000122070312, 2.4635000228881836, 2.5613999366760254, 2.3956000804901123, 2.432800054550171, 2.4583001136779785, 2.410399913787842, 2.419100046157837, 2.2011001110076904, 2.297800064086914, 2.299999952316284, 1.9436999559402466, 1.6710000038146973, 2.1143999099731445, 1.2411999702453613, 0.9987999796867371, 3.308799982070923, 3.308500051498413, 3.3083999156951904, 3.308199882507324, 3.3080999851226807, 3.3080999851226807, 3.3076999187469482, 3.3076000213623047, 3.3073999881744385, 3.3069000244140625, 3.3069000244140625, 3.30679988861084, 3.3066999912261963, 3.30649995803833, 3.3064000606536865, 3.3062000274658203, 3.3060998916625977, 3.305999994277954, 3.305999994277954, 3.3057000637054443, 3.3057000637054443, 3.305500030517578, 3.3053998947143555, 3.305299997329712, 3.305299997329712, 3.3052000999450684, 3.3050999641418457, 3.3050999641418457, 3.305000066757202, 3.304800033569336, 3.3041999340057373, 3.2291998863220215, 3.2497000694274902, 3.177999973297119, 3.259500026702881, 3.2107999324798584, 2.9521000385284424, 2.938800096511841, 3.2332000732421875, 2.237799882888794, 2.7076001167297363, 2.4386000633239746, 1.6469999551773071, 1.8401000499725342, 2.860599994659424, 3.4700000286102295, 3.469899892807007, 3.4697999954223633, 3.4697000980377197, 3.469599962234497, 3.469399929046631, 3.469099998474121, 3.469099998474121, 3.468899965286255, 3.468899965286255, 3.468899965286255, 3.4688000679016113, 3.4684998989105225, 3.4684998989105225, 3.467600107192993, 3.4674999713897705, 3.4670000076293945, 3.4667000770568848, 3.466599941253662, 3.466200113296509, 3.466200113296509, 3.4658000469207764, 3.464600086212158, 3.464200019836426, 3.4639999866485596, 3.463900089263916, 3.46370005607605, 3.46370005607605, 3.4635000228881836, 3.4635000228881836, 3.1098999977111816, 1.9700000286102295, 2.5495998859405518, 2.661099910736084, 2.8196001052856445, 2.77839994430542, 2.4316000938415527, 1.8716000318527222, 1.7314000129699707, 1.2569999694824219, 2.41729998588562, 2.66729998588562, 3.812299966812134, 3.8115999698638916, 3.8115999698638916, 3.811500072479248, 3.811300039291382, 3.811000108718872, 3.811000108718872, 3.811000108718872, 3.8106000423431396, 3.8106000423431396, 3.8106000423431396, 3.810499906539917, 3.810499906539917, 3.809999942779541, 3.8097000122070312, 3.8096001148223877, 3.8092000484466553, 3.8089001178741455, 3.808199882507324, 3.8080999851226807, 3.8080999851226807, 3.808000087738037, 3.806999921798706, 3.80679988861084, 3.8066999912261963, 3.8062000274658203, 3.8060998916625977, 3.805999994277954, 3.8059000968933105, 3.8059000968933105, 3.418600082397461, 3.484999895095825, 2.394700050354004, 2.2781999111175537, 2.7904000282287598, 1.9983999729156494, 3.1696999073028564, 3.8355000019073486, 3.8352999687194824, 3.8352999687194824, 3.835200071334839, 3.8350000381469727, 3.8350000381469727, 3.83489990234375, 3.83489990234375, 3.8345000743865967, 3.8345000743865967, 3.834399938583374, 3.8340001106262207, 3.833899974822998, 3.8338000774383545, 3.833699941635132, 3.8336000442504883, 3.8336000442504883, 3.833400011062622, 3.8333001136779785, 3.8333001136779785, 3.8333001136779785, 3.833199977874756, 3.8331000804901123, 3.8327999114990234, 3.8324999809265137, 3.83240008354187, 3.8317999839782715, 3.831700086593628, 3.831399917602539, 3.831399917602539, 3.7558999061584473, 3.4781999588012695, 3.0453999042510986, 2.6185998916625977, 3.8740999698638916, 3.8738999366760254, 3.8736000061035156, 3.8733999729156494, 3.873300075531006, 3.872999906539917, 3.872999906539917, 3.872999906539917, 3.8729000091552734, 3.8729000091552734, 3.872499942779541, 3.8724000453948975, 3.872299909591675, 3.8722000122070312, 3.8722000122070312, 3.8719000816345215, 3.8715999126434326, 3.8715999126434326, 3.8712000846862793, 3.8705999851226807, 3.8705999851226807, 3.8703999519348145, 3.8701999187469482, 3.8701999187469482, 3.869999885559082, 3.8698999881744385, 3.869800090789795, 3.8696000576019287, 3.869499921798706, 3.869499921798706, 3.805299997329712, 3.676100015640259, 3.7369000911712646, 3.664900064468384, 3.4574999809265137, 3.3942999839782715, 2.8310999870300293, 2.8866000175476074, 3.954900026321411, 3.954200029373169, 3.9540998935699463, 3.9535000324249268, 3.9532999992370605, 3.9532999992370605, 3.953200101852417, 3.9530999660491943, 3.9528000354766846, 3.9516000747680664, 3.9512999057769775, 3.9512999057769775, 3.9511001110076904, 3.950700044631958, 3.9504001140594482, 3.950200080871582, 3.949899911880493, 3.94950008392334, 3.949399948120117, 3.949199914932251, 3.9484000205993652, 3.948199987411499, 3.9477999210357666, 3.9475998878479004, 3.9474000930786133, 3.947000026702881, 3.9465999603271484, 3.945499897003174, 3.9453001022338867, 3.944999933242798, 3.8378000259399414, 3.7939000129699707, 3.7046000957489014, 3.2404000759124756, 3.2518999576568604, 3.6133999824523926, 2.6029999256134033, 3.0636000633239746, 2.023400068283081, 2.4384000301361084, 3.1970999240875244, 3.1331000328063965, 4.216700077056885, 4.216700077056885, 4.21589994430542, 4.21589994430542, 4.215700149536133, 4.215700149536133, 4.215400218963623, 4.215099811553955, 4.215000152587891, 4.214900016784668, 4.214600086212158, 4.2144999504089355, 4.213799953460693, 4.213500022888184, 4.212500095367432, 4.212399959564209, 4.211999893188477, 4.2118000984191895, 4.211699962615967, 4.211400032043457, 4.210700035095215, 4.21019983291626, 4.21019983291626, 4.210100173950195, 4.210100173950195, 4.209400177001953, 4.209400177001953, 4.207499980926514, 4.206299781799316, 4.206099987030029, 3.8162999153137207, 2.954900026321411, 3.3657000064849854, 2.9358999729156494, 2.6435999870300293, 2.9084999561309814, 2.5638999938964844, 3.1570000648498535, 3.0283000469207764, 1.5684000253677368, 1.4911999702453613, 4.353899955749512, 4.353400230407715, 4.353400230407715, 4.353099822998047, 4.353000164031982, 4.353000164031982, 4.352700233459473, 4.35260009765625, 4.35230016708374, 4.351799964904785, 4.351600170135498, 4.351500034332275, 4.351500034332275, 4.351099967956543, 4.3506999015808105, 4.349599838256836, 4.349400043487549, 4.348999977111816, 4.348800182342529, 4.348800182342529, 4.348700046539307, 4.348599910736084, 4.348499774932861, 4.348199844360352, 4.347599983215332, 4.347099781036377, 4.346399784088135, 4.34630012512207, 4.345900058746338, 4.344900131225586, 4.185400009155273, 3.8531999588012695, 3.521199941635132, 3.3308000564575195, 3.289599895477295, 2.6038999557495117, 2.6092000007629395, 4.433199882507324, 4.4319000244140625, 4.429900169372559, 4.429500102996826, 4.4293999671936035, 4.427999973297119, 4.427999973297119, 4.427700042724609, 4.427599906921387, 4.427299976348877, 4.42710018157959, 4.426799774169922, 4.426300048828125, 4.42579984664917, 4.4257001876831055, 4.424900054931641, 4.424499988555908, 4.423900127410889, 4.423699855804443, 4.421800136566162, 4.4197001457214355, 4.419099807739258, 4.416200160980225, 4.415999889373779, 4.41379976272583, 4.41379976272583, 4.413000106811523, 4.411099910736084, 4.410999774932861, 4.410999774932861, 4.303299903869629, 4.297399997711182, 4.106800079345703, 4.29449987411499, 3.611299991607666, 3.8401999473571777, 3.1477999687194824, 3.9045000076293945, 2.552500009536743, 2.973400115966797, 2.7153000831604004, 2.1175999641418457, 4.606900215148926, 4.6066999435424805, 4.606400012969971, 4.606200218200684, 4.6057000160217285, 4.605500221252441, 4.605299949645996, 4.605100154876709, 4.605100154876709, 4.605100154876709, 4.605000019073486, 4.604300022125244, 4.604300022125244, 4.6041998863220215, 4.604000091552734, 4.603799819946289, 4.603400230407715, 4.603099822998047, 4.60260009765625, 4.6020002365112305, 4.601799964904785, 4.601600170135498, 4.601600170135498, 4.601200103759766, 4.600599765777588, 4.600500106811523, 4.599999904632568, 4.598899841308594, 4.598599910736084, 4.598599910736084, 4.414100170135498, 4.373700141906738, 3.6514999866485596, 4.745699882507324, 4.745200157165527, 4.745200157165527, 4.744999885559082, 4.744999885559082, 4.744200229644775, 4.743500232696533, 4.743100166320801, 4.743000030517578, 4.742800235748291, 4.742800235748291, 4.742700099945068, 4.742599964141846, 4.742499828338623, 4.742000102996826, 4.742000102996826, 4.741799831390381, 4.741600036621094, 4.7399001121521, 4.7393999099731445, 4.738500118255615, 4.73829984664917, 4.736299991607666, 4.735599994659424, 4.735400199890137, 4.735199928283691, 4.735099792480469, 4.734899997711182, 4.734600067138672, 4.73390007019043, 5.171299934387207, 5.168900012969971, 5.168000221252441, 5.168000221252441, 5.167399883270264, 5.1666998863220215, 5.166399955749512, 5.165599822998047, 5.165200233459473, 5.164100170135498, 5.163599967956543, 5.161799907684326, 5.1616997718811035, 5.161499977111816, 5.160200119018555, 5.158400058746338, 5.154300212860107, 5.153800010681152, 5.153200149536133, 5.152699947357178, 5.152200222015381, 5.151899814605713, 5.1458001136779785, 5.136000156402588, 5.126500129699707, 5.124300003051758, 5.121799945831299, 5.112299919128418, 5.042799949645996, 5.019800186157227, 4.20550012588501, 3.0452001094818115, 5.193600177764893, 5.192500114440918, 5.1905999183654785, 5.190299987792969, 5.190000057220459, 5.1894001960754395, 5.1875, 5.186500072479248, 5.186200141906738, 5.186200141906738, 5.186100006103516, 5.186100006103516, 5.1859002113342285, 5.185800075531006, 5.185800075531006, 5.185100078582764, 5.184700012207031, 5.18310022354126, 5.182000160217285, 5.18179988861084, 5.181700229644775, 5.180300235748291, 5.179100036621094, 5.178999900817871, 5.178400039672852, 5.177700042724609, 5.177700042724609, 5.176199913024902, 5.17519998550415, 5.173799991607666, 2.9927000999450684, 5.401899814605713, 5.401299953460693, 5.399700164794922, 5.398799896240234, 5.396900177001953, 5.393599987030029, 5.393599987030029, 5.39139986038208, 5.39109992980957, 5.385300159454346, 5.384200096130371, 5.383200168609619, 5.382699966430664, 5.3821001052856445, 5.380799770355225, 5.378799915313721, 5.376699924468994, 5.373199939727783, 5.36870002746582, 5.366700172424316, 5.364500045776367, 5.35230016708374, 5.343299865722656, 5.338099956512451, 5.330999851226807, 5.2093000411987305, 5.143799781799316, 5.00029993057251, 4.938899993896484, 4.717700004577637, 3.148900032043457, 3.117000102996826, 1.5887999534606934, 5.5655999183654785, 5.564499855041504, 5.5644001960754395, 5.563899993896484, 5.563600063323975, 5.562900066375732, 5.558000087738037, 5.555799961090088, 5.554100036621094, 5.553599834442139, 5.553100109100342, 5.547699928283691, 5.547399997711182, 5.5467000007629395, 5.5441999435424805, 5.542399883270264, 5.534800052642822, 5.532599925994873, 5.531499862670898, 5.530700206756592, 5.5304999351501465, 5.523799896240234, 5.523799896240234, 5.521999835968018, 5.521500110626221, 5.519700050354004, 5.516200065612793, 5.515100002288818, 5.499499797821045, 5.45989990234375, 6.785399913787842, 6.78439998626709, 6.780399799346924, 6.770599842071533, 6.762499809265137, 6.7596001625061035, 6.756199836730957, 6.741399765014648, 6.734499931335449, 6.734499931335449, 6.734499931335449, 6.73390007019043, 6.704699993133545, 6.696499824523926, 6.668000221252441, 2.7051000595092773, 2.7049999237060547, 2.7049999237060547, 2.7049999237060547, 2.7049999237060547, 2.7049999237060547, 2.7049999237060547, 2.7049999237060547, 2.7049999237060547, 2.7049999237060547, 2.7049999237060547, 2.7049999237060547, 2.7049999237060547, 2.7049999237060547, 2.7049999237060547, 2.7049999237060547, 2.7049999237060547, 2.704900026321411, 2.7049999237060547, 2.704900026321411, 8.060400009155273, 7.908400058746338, 7.793499946594238, 7.793499946594238, 7.793499946594238, 7.5777997970581055, 2.9663000106811523, 2.9663000106811523, 2.9663000106811523, 2.9663000106811523, 2.9663000106811523, 2.9663000106811523, 2.9663000106811523, 2.9663000106811523, 2.9663000106811523, 2.9663000106811523, 2.9663000106811523, 2.9663000106811523, 2.9663000106811523, 2.9663000106811523, 2.9663000106811523, 2.9663000106811523, 2.9663000106811523, 2.9663000106811523, 2.9663000106811523, 2.9663000106811523, 2.9663000106811523, 2.9663000106811523, 2.9663000106811523, 2.9663000106811523, 2.9663000106811523, 2.9663000106811523, 2.9663000106811523, 2.9663000106811523, 2.9663000106811523, 2.966200113296509, 2.966200113296509, 2.966200113296509, 2.966200113296509], \"logprob\": [30.0, 29.0, 28.0, 27.0, 26.0, 25.0, 24.0, 23.0, 22.0, 21.0, 20.0, 19.0, 18.0, 17.0, 16.0, 15.0, 14.0, 13.0, 12.0, 11.0, 10.0, 9.0, 8.0, 7.0, 6.0, 5.0, 4.0, 3.0, 2.0, 1.0, -3.42330002784729, -3.6159000396728516, -3.722399950027466, -3.819700002670288, -3.939199924468994, -4.048299789428711, -4.083700180053711, -4.117099761962891, -4.323699951171875, -4.519400119781494, -4.55079984664917, -4.642399787902832, -4.648099899291992, -4.89709997177124, -4.9532999992370605, -5.099699974060059, -5.3078999519348145, -5.3130998611450195, -5.331299781799316, -5.3429999351501465, -5.429299831390381, -5.442999839782715, -5.4721999168396, -5.489200115203857, -5.519999980926514, -5.616499900817871, -5.654200077056885, -5.660099983215332, -5.677599906921387, -5.679299831390381, -5.011600017547607, -5.135300159454346, -5.4542999267578125, -4.392399787902832, -3.7825000286102295, -4.551400184631348, -5.103899955749512, -4.347099781036377, -4.829400062561035, -4.593299865722656, -5.057799816131592, -4.923500061035156, -4.788599967956543, -4.718999862670898, -5.121799945831299, -4.650700092315674, -4.983099937438965, -5.083799839019775, -5.228499889373779, -5.238399982452393, -5.272299766540527, -5.3171000480651855, -5.087800025939941, -5.3968000411987305, -5.443699836730957, -5.4567999839782715, -5.480400085449219, -5.51800012588501, -5.565700054168701, -5.575799942016602, -5.578499794006348, -5.648799896240234, -5.651299953460693, -5.66349983215332, -5.690100193023682, -5.7195000648498535, -5.761199951171875, -5.775000095367432, -5.781099796295166, -5.821499824523926, -5.842199802398682, -5.848199844360352, -5.861499786376953, -5.864799976348877, -5.870299816131592, -4.624800205230713, -5.0920000076293945, -5.316400051116943, -5.393199920654297, -5.26200008392334, -5.715099811553955, -4.05049991607666, -4.607800006866455, -5.2220001220703125, -4.093699932098389, -5.146699905395508, -4.285200119018555, -5.220699787139893, -5.221799850463867, -4.395299911499023, -5.108399868011475, -5.010000228881836, -4.888199806213379, -4.945799827575684, -5.2916998863220215, -5.111199855804443, -5.297900199890137, -5.09119987487793, -5.079100131988525, -5.2444000244140625, -5.314799785614014, -3.561000108718872, -3.8982999324798584, -3.9274001121520996, -4.0802001953125, -4.110799789428711, -4.118100166320801, -4.137499809265137, -4.261600017547607, -4.265699863433838, -4.275700092315674, -4.538899898529053, -4.579400062561035, -4.622099876403809, -4.70959997177124, -4.854599952697754, -4.866199970245361, -4.900300025939941, -5.003900051116943, -5.055200099945068, -5.152900218963623, -5.155799865722656, -5.168399810791016, -5.192500114440918, -5.272299766540527, -5.290299892425537, -5.308199882507324, -5.3231000900268555, -3.778700113296509, -5.36929988861084, -5.392499923706055, -5.106900215148926, -4.103600025177002, -4.9822001457214355, -3.9089999198913574, -5.062600135803223, -3.4974000453948975, -4.281499862670898, -4.446199893951416, -4.212500095367432, -4.449399948120117, -4.216100215911865, -4.635700225830078, -4.66379976272583, -4.345699787139893, -4.148099899291992, -4.632400035858154, -4.791299819946289, -4.810400009155273, -2.6638998985290527, -3.3768999576568604, -3.508699893951416, -3.704900026321411, -3.796099901199341, -3.8543999195098877, -4.1539998054504395, -4.171599864959717, -4.312399864196777, -4.549099922180176, -4.550000190734863, -4.606800079345703, -4.654699802398682, -4.733500003814697, -4.75629997253418, -4.812900066375732, -4.858799934387207, -4.896200180053711, -4.9019999504089355, -4.985499858856201, -4.9882001876831055, -5.029699802398682, -5.076499938964844, -5.0894999504089355, -5.10260009765625, -5.1153998374938965, -5.13539981842041, -5.139500141143799, -5.178599834442139, -5.205599784851074, -3.6463000774383545, -4.104100227355957, -4.535099983215332, -4.020599842071533, -4.827400207519531, -4.694699764251709, -3.8436999320983887, -3.922800064086914, -4.962399959564209, -4.35260009765625, -4.6528000831604, -4.520199775695801, -4.172100067138672, -4.3119001388549805, -4.767099857330322, -2.2076001167297363, -2.734600067138672, -2.924099922180176, -3.062999963760376, -3.2079999446868896, -3.4667000770568848, -3.7464001178741455, -3.7825000286102295, -3.8833000659942627, -3.891200065612793, -3.925600051879883, -3.9855000972747803, -4.14769983291626, -4.1894001960754395, -4.5725998878479, -4.60699987411499, -4.76609992980957, -4.85099983215332, -4.8856000900268555, -4.991499900817871, -4.9934000968933105, -5.07859992980957, -5.319200038909912, -5.398399829864502, -5.427000045776367, -5.444200038909912, -5.463200092315674, -5.4770002365112305, -5.494699954986572, -5.499199867248535, -4.364500045776367, -3.3473000526428223, -4.247200012207031, -4.576099872589111, -4.813700199127197, -4.798399925231934, -4.678800106048584, -4.36959981918335, -4.435500144958496, -4.442800045013428, -4.760300159454346, -4.877099990844727, -2.274199962615967, -3.321700096130371, -3.3252999782562256, -3.4031999111175537, -3.517699956893921, -3.709399938583374, -3.746500015258789, -3.7630999088287354, -3.9354000091552734, -3.9593000411987305, -3.975100040435791, -4.005199909210205, -4.00570011138916, -4.229100227355957, -4.318399906158447, -4.335400104522705, -4.4654998779296875, -4.550000190734863, -4.729300022125244, -4.753699779510498, -4.758299827575684, -4.7743000984191895, -4.964399814605713, -4.999499797821045, -5.022799968719482, -5.1031999588012695, -5.117099761962891, -5.133699893951416, -5.142899990081787, -5.143099784851074, -3.927999973297119, -4.198400020599365, -4.188600063323975, -4.583399772644043, -4.837299823760986, -4.738900184631348, -4.982800006866455, -3.161900043487549, -3.4077000617980957, -3.4094998836517334, -3.466399908065796, -3.5869998931884766, -3.594399929046631, -3.6433000564575195, -3.66129994392395, -3.892699956893921, -3.9159998893737793, -3.937299966812134, -4.105500221252441, -4.144199848175049, -4.193999767303467, -4.2270002365112305, -4.261499881744385, -4.275899887084961, -4.336400032043457, -4.353600025177002, -4.356800079345703, -4.372000217437744, -4.407400131225586, -4.426499843597412, -4.508600234985352, -4.595399856567383, -4.6057000160217285, -3.765000104904175, -4.7820000648498535, -4.826900005340576, -4.8333001136779785, -3.8619000911712646, -4.5157999992370605, -4.279799938201904, -4.546000003814697, -3.322000026702881, -3.490600109100342, -3.68149995803833, -3.8222999572753906, -3.8350000381469727, -3.9714999198913574, -3.984100103378296, -4.012499809265137, -4.024899959564209, -4.032299995422363, -4.20389986038208, -4.23799991607666, -4.262800216674805, -4.289100170135498, -4.304999828338623, -4.388800144195557, -4.464799880981445, -4.4807000160217285, -4.5746002197265625, -4.719699859619141, -4.723199844360352, -4.763700008392334, -4.794000148773193, -4.808899879455566, -4.838399887084961, -4.850100040435791, -4.88539981842041, -4.9095001220703125, -4.9243998527526855, -4.928599834442139, -3.9811999797821045, -3.656899929046631, -4.098499774932861, -4.184100151062012, -3.556999921798706, -4.297999858856201, -4.184199810028076, -4.361499786376953, -2.018199920654297, -3.1298000812530518, -3.1770999431610107, -3.6010000705718994, -3.753000020980835, -3.760699987411499, -3.7730000019073486, -3.834199905395508, -3.955199956893921, -4.36299991607666, -4.450399875640869, -4.458899974822998, -4.505300045013428, -4.59060001373291, -4.664400100708008, -4.6996002197265625, -4.761099815368652, -4.827700138092041, -4.848400115966797, -4.875699996948242, -5.002500057220459, -5.035999774932861, -5.088500022888184, -5.109300136566162, -5.132800102233887, -5.1859002113342285, -5.232500076293945, -5.356800079345703, -5.381999969482422, -5.411099910736084, -4.286399841308594, -4.731800079345703, -4.438199996948242, -3.4948999881744385, -4.189899921417236, -4.710100173950195, -3.980299949645996, -4.588699817657471, -4.072400093078613, -4.520400047302246, -4.777400016784668, -4.7804999351501465, -2.8596999645233154, -2.8652000427246094, -3.433000087738037, -3.4453999996185303, -3.5376999378204346, -3.5476999282836914, -3.6810998916625977, -3.7809998989105225, -3.8348000049591064, -3.868299961090088, -3.9491000175476074, -3.992300033569336, -4.197199821472168, -4.262599945068359, -4.485000133514404, -4.492499828338623, -4.5746002197265625, -4.603499889373779, -4.619900226593018, -4.662899971008301, -4.780200004577637, -4.841300010681152, -4.848899841308594, -4.851900100708008, -4.860799789428711, -4.940700054168701, -4.946000099182129, -5.15749979019165, -5.266600131988525, -5.286600112915039, -4.310299873352051, -3.462399959564209, -4.519899845123291, -4.370699882507324, -4.270999908447266, -4.4166998863220215, -4.404200077056885, -4.6697998046875, -4.771500110626221, -4.7129998207092285, -4.742400169372559, -3.4149999618530273, -3.6321001052856445, -3.643199920654297, -3.7702999114990234, -3.793600082397461, -3.7936999797821045, -3.8831000328063965, -3.9265999794006348, -4.000199794769287, -4.130099773406982, -4.176300048828125, -4.1921000480651855, -4.197800159454346, -4.285900115966797, -4.360099792480469, -4.55079984664917, -4.590700149536133, -4.643499851226807, -4.670599937438965, -4.674900054931641, -4.685999870300293, -4.700399875640869, -4.71019983291626, -4.74970006942749, -4.831200122833252, -4.879300117492676, -4.954999923706055, -4.974800109863281, -5.009399890899658, -5.102099895477295, -3.6828999519348145, -3.838900089263916, -3.9677000045776367, -4.304699897766113, -4.30649995803833, -4.033400058746338, -4.240799903869629, -1.780900001525879, -3.161600112915039, -3.915299892425537, -4.0269999504089355, -4.041399955749512, -4.34089994430542, -4.3460001945495605, -4.390399932861328, -4.415599822998047, -4.463500022888184, -4.4953999519348145, -4.534900188446045, -4.60230016708374, -4.669099807739258, -4.688300132751465, -4.7835001945495605, -4.827400207519531, -4.8871002197265625, -4.911900043487549, -5.089200019836426, -5.247000217437744, -5.295899868011475, -5.478300094604492, -5.486400127410889, -5.605299949645996, -5.606100082397461, -5.645599842071533, -5.73390007019043, -5.739699840545654, -5.740799903869629, -3.8605000972747803, -4.546299934387207, -3.199700117111206, -5.163899898529053, -3.3032000064849854, -4.388899803161621, -3.2358999252319336, -4.83050012588501, -4.171000003814697, -4.5192999839782715, -4.617599964141846, -4.559299945831299, -3.2813000679016113, -3.354099988937378, -3.463200092315674, -3.5344998836517334, -3.690999984741211, -3.7290000915527344, -3.8036000728607178, -3.831700086593628, -3.837899923324585, -3.842900037765503, -3.867000102996826, -4.014900207519531, -4.028600215911865, -4.0345001220703125, -4.0854997634887695, -4.123700141906738, -4.194799900054932, -4.239099979400635, -4.3155999183654785, -4.412700176239014, -4.433499813079834, -4.465000152587891, -4.466700077056885, -4.513400077819824, -4.588399887084961, -4.596099853515625, -4.657199859619141, -4.765699863433838, -4.795000076293945, -4.797900199890137, -3.5734000205993652, -4.561200141906738, -4.701900005340576, -3.1073999404907227, -3.31030011177063, -3.331700086593628, -3.3859000205993652, -3.404900074005127, -3.6386001110076904, -3.796999931335449, -3.8901000022888184, -3.909899950027466, -3.948199987411499, -3.9530999660491943, -3.960099935531616, -3.977299928665161, -3.996999979019165, -4.085100173950195, -4.098299980163574, -4.121200084686279, -4.154399871826172, -4.398900032043457, -4.458899974822998, -4.5524001121521, -4.571300029754639, -4.76669979095459, -4.819900035858154, -4.837299823760986, -4.85830020904541, -4.866199970245361, -4.877200126647949, -4.9028000831604, -4.950900077819824, -1.7956000566482544, -3.0713999271392822, -3.2964999675750732, -3.3006999492645264, -3.4296998977661133, -3.5713000297546387, -3.627000093460083, -3.7544000148773193, -3.8099000453948975, -3.958400011062622, -4.024899959564209, -4.210400104522705, -4.216100215911865, -4.234399795532227, -4.355100154876709, -4.494900226593018, -4.752399921417236, -4.7820000648498535, -4.812399864196777, -4.843100070953369, -4.866000175476074, -4.883999824523926, -5.148600101470947, -5.466000080108643, -5.70550012588501, -5.752900123596191, -5.8043999671936035, -5.981500148773193, -6.7866997718811035, -6.962200164794922, -3.92549991607666, -6.413099765777588, -2.575900077819824, -2.9835000038146973, -3.4616000652313232, -3.5164999961853027, -3.5813000202178955, -3.6763999462127686, -3.944499969482422, -4.049799919128418, -4.081999778747559, -4.090400218963623, -4.09689998626709, -4.100200176239014, -4.117499828338623, -4.124000072479248, -4.129499912261963, -4.199100017547607, -4.231200218200684, -4.373799800872803, -4.45550012588501, -4.470600128173828, -4.480400085449219, -4.573400020599365, -4.6483001708984375, -4.656799793243408, -4.691999912261963, -4.7316999435424805, -4.7316999435424805, -4.811800003051758, -4.860899925231934, -4.927499771118164, -4.067200183868408, -2.225399971008301, -2.5136001110076904, -3.01419997215271, -3.2051000595092773, -3.5485000610351562, -3.9403998851776123, -3.9446001052856445, -4.1417999267578125, -4.1620001792907715, -4.547299861907959, -4.606800079345703, -4.654099941253662, -4.679900169372559, -4.709199905395508, -4.769999980926514, -4.854700088500977, -4.93310022354126, -5.0594000816345215, -5.198599815368652, -5.256499767303467, -5.313600063323975, -4.839200019836426, -5.757199764251709, -5.842800140380859, -5.949100017547607, -6.994699954986572, -7.319399833679199, -7.83459997177124, -8.008999824523926, -3.6723999977111816, -4.487400054931641, -6.759099960327148, -6.035299777984619, -2.80649995803833, -3.0427000522613525, -3.069200038909912, -3.1749000549316406, -3.2284998893737793, -3.335099935531616, -3.900599956512451, -4.078199863433838, -4.195799827575684, -4.227499961853027, -4.256899833679199, -4.54580020904541, -4.5619001388549805, -4.591800212860107, -4.698299884796143, -4.768799781799316, -5.019400119781494, -5.083700180053711, -5.112400054931641, -5.1350998878479, -5.139200210571289, -5.301799774169922, -5.301799774169922, -5.340199947357178, -5.350900173187256, -5.389200210571289, -5.459000110626221, -5.480999946594238, -5.740099906921387, -6.209499835968018, -3.2076001167297363, -3.25600004196167, -3.4312000274658203, -3.7665998935699463, -3.9797000885009766, -4.046999931335449, -4.118800163269043, -4.390399932861328, -4.49560022354126, -4.49560022354126, -4.495699882507324, -4.504199981689453, -4.861000061035156, -4.943600177764893, -5.1905999183654785, -11.188599586486816, -11.188699722290039, -11.188799858093262, -11.188799858093262, -11.188799858093262, -11.188799858093262, -11.188799858093262, -11.188799858093262, -11.188799858093262, -11.188799858093262, -11.188799858093262, -11.188799858093262, -11.188799858093262, -11.188799858093262, -11.188799858093262, -11.188799858093262, -11.188799858093262, -11.188799858093262, -11.188799858093262, -11.188799858093262, -4.192200183868408, -4.808199882507324, -5.142600059509277, -5.142600059509277, -5.142600059509277, -5.631400108337402, -10.927399635314941, -10.927499771118164, -10.927499771118164, -10.927499771118164, -10.927499771118164, -10.927499771118164, -10.927499771118164, -10.927499771118164, -10.927499771118164, -10.927499771118164, -10.927499771118164, -10.927499771118164, -10.927499771118164, -10.927399635314941, -10.927499771118164, -10.927499771118164, -10.927499771118164, -10.927499771118164, -10.927499771118164, -10.927499771118164, -10.927499771118164, -10.927499771118164, -10.927499771118164, -10.927499771118164, -10.927499771118164, -10.927499771118164, -10.927499771118164, -10.927499771118164, -10.927499771118164, -10.927499771118164, -10.927499771118164, -10.927499771118164, -10.927499771118164]}, \"token.table\": {\"Topic\": [3, 3, 7, 13, 18, 2, 12, 10, 2, 10, 19, 9, 19, 2, 1, 2, 3, 13, 12, 1, 2, 3, 8, 7, 15, 1, 10, 1, 10, 10, 10, 4, 8, 2, 3, 3, 4, 5, 8, 1, 4, 10, 1, 2, 5, 10, 16, 15, 1, 14, 2, 1, 2, 10, 12, 8, 16, 15, 16, 1, 9, 1, 4, 9, 1, 5, 18, 18, 8, 2, 1, 2, 3, 14, 5, 6, 9, 5, 12, 8, 1, 17, 14, 13, 17, 19, 2, 10, 4, 14, 11, 14, 1, 8, 8, 4, 11, 2, 12, 8, 17, 2, 7, 12, 1, 2, 3, 6, 11, 17, 7, 9, 13, 13, 19, 19, 7, 14, 17, 2, 9, 12, 12, 12, 15, 1, 2, 10, 20, 9, 17, 9, 5, 11, 19, 3, 9, 16, 12, 1, 2, 9, 3, 1, 3, 10, 3, 18, 3, 7, 10, 12, 3, 17, 7, 13, 2, 12, 19, 16, 3, 2, 4, 6, 1, 2, 8, 9, 6, 13, 2, 9, 7, 8, 15, 17, 4, 9, 13, 3, 6, 9, 9, 2, 10, 12, 1, 5, 17, 7, 8, 5, 6, 2, 4, 9, 14, 11, 3, 15, 16, 15, 7, 9, 3, 6, 10, 1, 3, 11, 1, 7, 1, 16, 18, 6, 5, 4, 4, 18, 10, 6, 16, 11, 14, 2, 7, 3, 3, 4, 11, 5, 9, 13, 6, 2, 7, 10, 2, 2, 2, 4, 14, 11, 5, 18, 4, 12, 7, 5, 3, 4, 9, 3, 10, 10, 15, 3, 16, 17, 1, 8, 11, 14, 1, 2, 11, 10, 10, 1, 2, 5, 8, 11, 11, 17, 6, 16, 2, 7, 14, 2, 14, 2, 11, 18, 13, 18, 4, 6, 2, 4, 11, 5, 2, 4, 1, 9, 9, 11, 1, 15, 17, 1, 5, 5, 1, 5, 4, 2, 3, 10, 19, 5, 17, 1, 2, 3, 13, 12, 12, 12, 15, 15, 15, 6, 9, 1, 3, 12, 7, 9, 9, 13, 1, 2, 4, 6, 2, 1, 5, 5, 1, 1, 3, 10, 18, 2, 4, 10, 6, 9, 2, 19, 2, 3, 7, 13, 7, 3, 8, 2, 6, 6, 7, 1, 9, 2, 2, 3, 8, 11, 13, 16, 12, 18, 5, 18, 14, 12, 16, 17, 12, 19, 9, 2, 10, 12, 5, 11, 12, 18, 1, 15, 10, 12, 6, 20, 20, 9, 12, 11, 1, 2, 19, 1, 2, 5, 9, 2, 12, 1, 2, 11, 16, 5, 5, 13, 13, 18, 1, 4, 10, 1, 4, 1, 1, 3, 1, 1, 2, 12, 1, 4, 1, 5, 1, 18, 1, 12, 1, 2, 4, 6, 7, 16, 17, 20, 9, 1, 3, 1, 2, 1, 12, 15, 4, 1, 2, 17, 4, 9, 7, 12, 15, 1, 2, 3, 14, 7, 7, 17, 1, 3, 9, 8, 15, 18, 13, 13, 12, 11, 6, 6, 13, 2, 14, 8, 6, 11, 16, 12, 6, 16, 15, 13, 6, 4, 1, 2, 4, 11, 1, 2, 4, 17, 6, 2, 3, 6, 15, 1, 2, 3, 3, 1, 1, 2, 3, 4, 8, 5, 1, 2, 18, 4, 1, 13, 9, 14, 14, 11, 18, 7, 10, 5, 13, 18, 6, 1, 3, 4, 17, 15, 7, 4, 12, 16, 9, 7, 12, 4, 8, 1, 2, 14, 20, 6, 15, 9, 7, 12, 14, 5, 1, 2, 12, 12, 2, 11, 20, 1, 2, 3, 16, 7, 18, 1, 8, 16, 10, 14, 17, 4, 8, 8, 15, 16, 5, 5, 17, 5, 8, 15, 1, 3, 6, 1, 2, 4, 6, 17, 11, 4, 7, 8, 3, 3, 19, 18, 14, 10, 2, 4, 2, 6, 9, 2, 6, 16, 2, 9, 9, 2, 3, 13, 2, 3, 9, 5, 6, 1, 18, 4, 4, 13, 13, 2, 8, 16, 6, 1, 4, 8, 2, 5, 7, 9, 12, 3, 12, 15, 15, 1, 2, 3, 10, 3, 2, 13, 12, 15, 4, 4, 10, 1, 2, 7, 4, 7, 11, 11, 17, 17, 8, 11, 14, 9, 16, 1, 3, 5, 1, 2, 4, 3, 9, 11, 6, 1, 2, 15, 6, 5, 5, 13, 15, 17, 1, 2, 8, 11, 16, 9, 12, 3, 3, 1, 4, 9, 3, 4, 1, 3, 8, 19, 1, 11, 3, 11, 17, 18, 4, 8, 6, 4, 1, 9, 8, 9, 14, 14, 2, 5, 6, 12, 1, 18, 2, 12, 8, 17, 13, 6, 6, 15, 16, 4, 19, 19, 8, 8, 11, 8, 12, 2, 3, 5, 11, 1, 5, 10, 11, 5, 1, 2, 10, 2, 1, 18, 2, 4, 16, 9, 10, 12, 6, 16, 17, 2, 7, 13, 10, 11, 15, 11, 2, 3, 9, 6, 1, 2, 5, 10, 17, 16, 15, 5, 1, 9, 3, 17, 3, 1, 16, 7, 10, 2, 4, 7, 1, 18, 7, 1, 2, 1, 13, 14, 8, 1, 2, 6, 14, 9, 4, 5, 13, 1, 8, 11, 8, 18, 14, 1, 2, 14, 13, 10, 4, 1, 3, 1, 2, 3, 9, 18, 3, 9, 10, 11, 13, 14, 11, 4, 6, 14, 11, 17, 10, 9, 3, 10, 14, 1, 16, 1, 5, 15, 1, 2, 18, 10, 4, 2, 5, 8, 8, 18, 17, 5, 11, 3, 15, 10, 12, 3, 8, 1, 2, 1, 2, 1, 16, 5, 1, 2, 5, 11, 1, 11, 17, 12], \"Freq\": [0.9989569187164307, 0.9978635311126709, 0.9970206618309021, 0.9980751872062683, 0.948278546333313, 0.9910017251968384, 0.008532609790563583, 0.9947485327720642, 0.9993844032287598, 0.9974187016487122, 0.8637967705726624, 0.9975072145462036, 0.9262380003929138, 0.9993094205856323, 0.3684207499027252, 0.6185897588729858, 0.012754428200423717, 0.9904373288154602, 0.9904782772064209, 0.999804675579071, 0.9981223344802856, 0.340955525636673, 0.6582082509994507, 0.9974521398544312, 0.9963217973709106, 0.6937966346740723, 0.3039109408855438, 0.9999110102653503, 0.992251455783844, 0.9930824041366577, 0.9934313297271729, 0.9968277215957642, 0.997530460357666, 0.1184251680970192, 0.8804299235343933, 0.13596731424331665, 0.36151307821273804, 0.500679612159729, 0.995623767375946, 0.999396800994873, 0.9969887137413025, 0.9931523203849792, 0.15435193479061127, 0.8448116779327393, 0.9987389445304871, 0.9947139620780945, 0.9970171451568604, 0.9545905590057373, 0.9998908042907715, 0.9974978566169739, 0.998967170715332, 0.7520424723625183, 0.15286128222942352, 0.07051766663789749, 0.024089887738227844, 0.9954856038093567, 0.9868402481079102, 0.9988244771957397, 0.9865882396697998, 0.5102922916412354, 0.48891517519950867, 0.06198877841234207, 0.15778961777687073, 0.7776773571968079, 0.30180782079696655, 0.6974793076515198, 0.9477337598800659, 0.9351522326469421, 0.9958877563476562, 0.99835604429245, 0.0008131279610097408, 0.9846979975700378, 0.013823175802826881, 0.9937986731529236, 0.9984613060951233, 0.9966332912445068, 0.9880862832069397, 0.9967706799507141, 0.9877469539642334, 0.9992517232894897, 0.49427804350852966, 0.5051016211509705, 0.9881339073181152, 0.987460196018219, 0.6146652102470398, 0.9771484732627869, 0.5707652568817139, 0.42698466777801514, 0.9990505576133728, 0.9944126009941101, 0.9951529502868652, 0.9946960210800171, 0.9994685053825378, 0.9987595081329346, 0.9966245889663696, 0.9997702240943909, 0.995699942111969, 0.9997568726539612, 0.9947353005409241, 0.9981397986412048, 0.9928392171859741, 0.003263950813561678, 0.9955049753189087, 0.9862197041511536, 0.23561225831508636, 0.3986752927303314, 0.1920827180147171, 0.16306303441524506, 0.010364175774157047, 0.9845118522644043, 0.9233379364013672, 0.07500037550926208, 0.9928832650184631, 0.9940363764762878, 0.9857380986213684, 0.9263666272163391, 0.9956112504005432, 0.9935234189033508, 0.9976345896720886, 0.9991593956947327, 0.9987489581108093, 0.9987930655479431, 0.992824912071228, 0.9940271973609924, 0.9970004558563232, 0.2480587214231491, 0.5596553087234497, 0.19148392975330353, 0.8190916776657104, 0.9936468005180359, 0.9921197295188904, 0.998138964176178, 0.9974785447120667, 0.9967122077941895, 0.9336921572685242, 0.9748785495758057, 0.023174608126282692, 0.9954032301902771, 0.9760291576385498, 0.9929768443107605, 0.006801211275160313, 0.99784916639328, 0.9985169768333435, 0.15283115208148956, 0.8468736410140991, 0.9975950717926025, 0.9995267987251282, 0.9941663146018982, 0.29864171147346497, 0.6992586255073547, 0.9906674027442932, 0.9828757047653198, 0.9761251211166382, 0.0218034815043211, 0.20528782904148102, 0.7900471091270447, 0.9990771412849426, 0.9894707202911377, 0.947780966758728, 0.9927905201911926, 0.9973980784416199, 0.09310838580131531, 0.690097451210022, 0.21594886481761932, 0.943463146686554, 0.05637599900364876, 0.9926884174346924, 0.9857915639877319, 0.9903689622879028, 0.9934931993484497, 0.9986589550971985, 0.9936330914497375, 0.9974030256271362, 0.9970616698265076, 0.9929516911506653, 0.979942798614502, 0.004824141506105661, 0.17125701904296875, 0.822516143321991, 0.8582768440246582, 0.11749816685914993, 0.02295941300690174, 0.9910202622413635, 0.9991093873977661, 0.277156800031662, 0.7215844392776489, 0.477357417345047, 0.5213690996170044, 0.9862507581710815, 0.9973189234733582, 0.997307300567627, 0.27763304114341736, 0.7207781076431274, 0.3613036572933197, 0.4190777540206909, 0.2190241813659668, 0.9942128658294678, 0.9980977177619934, 0.9974362254142761, 0.9825373291969299, 0.9924402832984924, 0.9689857363700867, 0.9989950656890869, 0.9964794516563416, 0.9927670359611511, 0.005347039550542831, 0.9926655292510986, 0.5773441195487976, 0.07665303349494934, 0.3441231846809387, 0.9998940825462341, 0.9977273941040039, 0.8881953954696655, 0.1106666699051857, 0.9956831336021423, 0.994520366191864, 0.9948398470878601, 0.9990472197532654, 0.9960802793502808, 0.9710382223129272, 0.9959583282470703, 0.9989804625511169, 0.9786511659622192, 0.9942491054534912, 0.9933071732521057, 0.999210000038147, 0.9990357160568237, 0.9991654753684998, 0.9968845844268799, 0.998938798904419, 0.9942063093185425, 0.9960444569587708, 0.6120855808258057, 0.38255345821380615, 0.9941104650497437, 0.2748985290527344, 0.4527740478515625, 0.26992300152778625, 0.9995835423469543, 0.998907208442688, 0.04528910294175148, 0.9510711431503296, 0.9855919480323792, 0.9950345754623413, 0.99532151222229, 0.9838020205497742, 0.9953498840332031, 0.9959246516227722, 0.9984672665596008, 0.9988628029823303, 0.9981280565261841, 0.9229614734649658, 0.07524142414331436, 0.9985318779945374, 0.9990144371986389, 0.985101044178009, 0.9817346334457397, 0.9993777871131897, 0.9816068410873413, 0.9405658841133118, 0.4664941728115082, 0.07972809672355652, 0.3579282760620117, 0.09329883754253387, 0.5010208487510681, 0.4987460970878601, 0.9908454418182373, 0.9986000657081604, 0.998579740524292, 0.5430176258087158, 0.3185148537158966, 0.10943592339754105, 0.020320316776633263, 0.008568808436393738, 0.8769524693489075, 0.09566754102706909, 0.9968008399009705, 0.9848797917366028, 0.9987831711769104, 0.9981276392936707, 0.9876519441604614, 0.9988669753074646, 0.9956597089767456, 0.9994111657142639, 0.9969856142997742, 0.9403710961341858, 0.9957390427589417, 0.9952183961868286, 0.9983145594596863, 0.9969727396965027, 0.07128407061100006, 0.9266929030418396, 0.9958447217941284, 0.9998026490211487, 0.05515022575855255, 0.9414931535720825, 0.5578440427780151, 0.43910613656044006, 0.9914021492004395, 0.991645336151123, 0.9999196529388428, 0.9765810966491699, 0.986964225769043, 0.982933521270752, 0.016922056674957275, 0.9984398484230042, 0.9696794748306274, 0.03028690442442894, 0.9962531924247742, 0.03562261536717415, 0.6808435320854187, 0.2829740047454834, 0.9573756456375122, 0.991489052772522, 0.847644031047821, 0.14162024855613708, 0.6682537794113159, 0.19008345901966095, 0.9902853965759277, 0.9896178841590881, 0.9995142817497253, 0.8715345859527588, 0.11550458520650864, 0.9168848395347595, 0.9884878993034363, 0.10785625874996185, 0.8905054926872253, 0.9995847940444946, 0.9991167187690735, 0.9957382082939148, 0.9957491755485535, 0.9933314323425293, 0.9969974160194397, 0.9951961636543274, 0.1058240532875061, 0.6330202221870422, 0.23011921346187592, 0.030785178765654564, 0.9991418123245239, 0.6013108491897583, 0.3981851041316986, 0.998103141784668, 0.9997320771217346, 0.2752302289009094, 0.3779280483722687, 0.34711870551109314, 0.9520538449287415, 0.9991095066070557, 0.9968950748443604, 0.996029257774353, 0.9974037408828735, 0.9920289516448975, 0.9987534880638123, 0.9261214733123779, 0.6573212742805481, 0.3422548770904541, 0.9993682503700256, 0.9911249876022339, 0.9978489875793457, 0.9995622038841248, 0.9965067505836487, 0.4722285568714142, 0.5262788534164429, 0.9984765648841858, 0.9955537915229797, 0.8546121716499329, 0.14480018615722656, 0.9992647171020508, 0.8997806310653687, 0.09944944083690643, 0.9970453381538391, 0.9898419380187988, 0.993448793888092, 0.9730269908905029, 0.985033392906189, 0.9571934938430786, 0.9969534873962402, 0.9500691294670105, 0.9960780739784241, 0.9907787442207336, 0.987568736076355, 0.9801381826400757, 0.9906328320503235, 0.981263279914856, 0.9997594356536865, 0.3522743582725525, 0.2070746272802353, 0.4397242069244385, 0.04710786044597626, 0.8436589241027832, 0.10920458287000656, 0.9693405628204346, 0.9998602867126465, 0.9727822542190552, 0.9983167052268982, 0.9822271466255188, 0.9981059432029724, 0.6801281571388245, 0.6801281571388245, 0.11796689033508301, 0.8775585889816284, 0.9928271770477295, 0.0288535263389349, 0.9703896641731262, 0.9703688621520996, 0.7783499360084534, 0.019353564828634262, 0.20195025205612183, 0.9989729523658752, 0.722902774810791, 0.2765466868877411, 0.5027265548706055, 0.3225184381008148, 0.17402073740959167, 0.9919247627258301, 0.9940110445022583, 0.9967525005340576, 0.994290828704834, 0.997805118560791, 0.8623466491699219, 0.9994862079620361, 0.3271084427833557, 0.6680774092674255, 0.0042758965864777565, 0.9954288005828857, 0.9999577403068542, 0.03798476234078407, 0.9616475105285645, 0.9995766282081604, 0.8846890926361084, 0.015612160786986351, 0.09887702018022537, 0.9972836375236511, 0.002537617227062583, 0.6451940536499023, 0.3542045056819916, 0.9997230768203735, 0.9477337598800659, 0.7661916017532349, 0.23235753178596497, 0.00805885624140501, 0.08425167948007584, 0.6996552348136902, 0.06593609601259232, 0.14139628410339355, 0.9801133871078491, 0.6882485151290894, 0.6801281571388245, 0.9927968978881836, 0.0018985101487487555, 0.9976670742034912, 0.7774479985237122, 0.22247998416423798, 0.8471168279647827, 0.15265822410583496, 0.9569681882858276, 0.9941808581352234, 0.43312275409698486, 0.5667197704315186, 0.9548400044441223, 0.588307797908783, 0.41060781478881836, 0.9982514977455139, 0.990719199180603, 0.9160928130149841, 0.3385229706764221, 0.658159077167511, 0.0032011629082262516, 0.9876307845115662, 0.9987230896949768, 0.9957755208015442, 0.8177028298377991, 0.0527731254696846, 0.8851492404937744, 0.06140872836112976, 0.9929198026657104, 0.9906208515167236, 0.9284863471984863, 0.9977200031280518, 0.9947138428688049, 0.9952935576438904, 0.998332679271698, 0.9989173412322998, 0.9951143264770508, 0.9945671558380127, 0.9986637830734253, 0.988854169845581, 0.9950936436653137, 0.9975058436393738, 0.9901687502861023, 0.9901018142700195, 0.9969451427459717, 0.9980061650276184, 0.9829762578010559, 0.9892581105232239, 0.9922782778739929, 0.9931942820549011, 0.9967940449714661, 0.9378133416175842, 0.045639265328645706, 0.016194578260183334, 0.9929161667823792, 0.19619494676589966, 0.8034937977790833, 0.9942891001701355, 0.9688952565193176, 0.9974400997161865, 0.2478477507829666, 0.7513426542282104, 0.9967229962348938, 0.899706244468689, 0.7891299724578857, 0.006009296979755163, 0.20458924770355225, 0.9988434314727783, 0.9997335076332092, 0.34868159890174866, 0.06068825349211693, 0.4008183181285858, 0.18978871405124664, 0.9986859560012817, 0.9973355531692505, 0.9997917413711548, 0.9985530972480774, 0.9660225510597229, 0.9983014464378357, 0.9999427795410156, 0.993007242679596, 0.9975759983062744, 0.9864042401313782, 0.994437038898468, 0.9978248476982117, 0.9405437111854553, 0.9972344040870667, 0.9954354763031006, 0.9942644238471985, 0.9904450178146362, 0.9919220805168152, 0.997977614402771, 0.9998998045921326, 0.9975438714027405, 0.9964273571968079, 0.9735989570617676, 0.9949865341186523, 0.997100293636322, 0.9066986441612244, 0.09111432731151581, 0.9892853498458862, 0.9946265816688538, 0.9965711832046509, 0.9973853230476379, 0.3806726038455963, 0.617695152759552, 0.008607625029981136, 0.9906966686248779, 0.9915903806686401, 0.44685372710227966, 0.9979196786880493, 0.9864658117294312, 0.9980781674385071, 0.9985144138336182, 0.9806353449821472, 0.9938686490058899, 0.9932848215103149, 0.4860934019088745, 0.49872133135795593, 0.015087919309735298, 0.9963655471801758, 0.39316171407699585, 0.6050022840499878, 0.858375608921051, 0.0052496520802378654, 0.994152843952179, 0.9991351366043091, 0.9846597909927368, 0.9971205592155457, 0.9952911138534546, 0.6265016198158264, 0.3719853460788727, 0.9930378794670105, 0.9888641834259033, 0.9963403940200806, 0.9982197284698486, 0.18690018355846405, 0.8106008172035217, 0.9980573654174805, 0.9922167658805847, 0.9891830682754517, 0.9993411898612976, 0.9995768666267395, 0.9837282299995422, 0.9984128475189209, 0.9941335320472717, 0.9909278750419617, 0.7389692068099976, 0.2605515122413635, 0.9906095862388611, 0.48619359731674194, 0.14257702231407166, 0.3424234688282013, 0.02863471582531929, 0.9932619333267212, 0.9925779700279236, 0.9987297058105469, 0.9954480528831482, 0.9951797127723694, 0.9992254972457886, 0.9978179931640625, 0.9262380003929138, 0.9864671230316162, 0.9970365166664124, 0.9908180832862854, 0.9985735416412354, 0.9952927231788635, 0.4987797439098358, 0.24228137731552124, 0.25886785984039307, 0.3240422010421753, 0.6747702360153198, 0.9897657632827759, 0.14461806416511536, 0.8511806130409241, 0.9963508248329163, 0.3746128976345062, 0.6243548393249512, 0.9965919852256775, 0.4207804799079895, 0.5263067483901978, 0.05210083723068237, 0.9959787130355835, 0.9960589408874512, 0.9993416666984558, 0.9743148684501648, 0.9943909049034119, 0.9969280362129211, 0.9981118440628052, 0.9965968132019043, 0.9989886283874512, 0.9954283833503723, 0.994082510471344, 0.9965510368347168, 0.9996625185012817, 0.9948185682296753, 0.9973082542419434, 0.5536555051803589, 0.4454306960105896, 0.9966046810150146, 0.9926007986068726, 0.9907792210578918, 0.9986369609832764, 0.9932270646095276, 0.9936740398406982, 0.9939946532249451, 0.9995814561843872, 0.8532184362411499, 0.10825368762016296, 0.03779270872473717, 0.99826979637146, 0.9991623759269714, 0.9981001615524292, 0.9749680757522583, 0.9556683897972107, 0.9970747232437134, 0.9986389875411987, 0.9890100359916687, 0.5868387222290039, 0.41289883852005005, 0.9986342787742615, 0.9980058670043945, 0.9967129826545715, 0.9956516027450562, 0.02185656502842903, 0.939832329750061, 0.9785035252571106, 0.8701247572898865, 0.1263752579689026, 0.9918690919876099, 0.9982051849365234, 0.9871454238891602, 0.6694689989089966, 0.15428252518177032, 0.17576490342617035, 0.9998465180397034, 0.4509638845920563, 0.5475990176200867, 0.9967325925827026, 0.9924854040145874, 0.9938191771507263, 0.9989785552024841, 0.8824868202209473, 0.11738438159227371, 0.9864302277565002, 0.9984058141708374, 0.998282790184021, 0.9935774207115173, 0.9946404099464417, 0.9538254737854004, 0.9977278113365173, 0.6233725547790527, 0.10879320651292801, 0.09378724545240402, 0.1731937825679779, 0.9807807207107544, 0.9971609711647034, 0.9758265614509583, 0.9978430271148682, 0.9994868040084839, 0.9998838305473328, 0.28690940141677856, 0.7088350057601929, 0.12164613604545593, 0.8767289519309998, 0.1201716810464859, 0.8393529653549194, 0.0400572270154953, 0.9514970183372498, 0.5640513896942139, 0.4336602985858917, 0.9993952512741089, 0.9975244998931885, 0.9088804721832275, 0.9738224148750305, 0.9972454309463501, 0.9980928897857666, 0.9986985325813293, 0.9960525035858154, 0.5031630992889404, 0.49477705359458923, 0.9967752695083618, 0.9946138262748718, 0.9967116117477417, 0.9811316132545471, 0.9993109703063965, 0.21499361097812653, 0.2272789627313614, 0.5528407096862793, 0.9994898438453674, 0.9923257231712341, 0.998207688331604, 0.9872497916221619, 0.9983192086219788, 0.9741688966751099, 0.9942680597305298, 0.9994797706604004, 0.9966717958450317, 0.9881690144538879, 0.9890205264091492, 0.9992629885673523, 0.9524871110916138, 0.9304531812667847, 0.9973453283309937, 0.9936509132385254, 0.9944553375244141, 0.8198183178901672, 0.17925691604614258, 0.24886073172092438, 0.7499451637268066, 0.9936272501945496, 0.9984186887741089, 0.921959400177002, 0.012526622042059898, 0.06555598974227905, 0.9923829436302185, 0.9991832375526428, 0.10054280608892441, 0.8990355134010315, 0.9927365779876709, 0.998695433139801, 0.9994409680366516, 0.988743007183075, 0.9983900189399719, 0.9966170787811279, 0.992226779460907, 0.994633138179779, 0.4075070917606354, 0.5908852815628052, 0.9955726861953735, 0.9863043427467346, 0.9963822960853577, 0.9985417127609253, 0.9966378808021545, 0.9870144724845886, 0.9935865998268127, 0.9945530295372009, 0.995262861251831, 0.9885374903678894, 0.14524970948696136, 0.8269431591033936, 0.027624178677797318, 0.9939418435096741, 0.9057961702346802, 0.0940602645277977, 0.9934138059616089, 0.9980688095092773, 0.9841738939285278, 0.9911606907844543, 0.9941079616546631, 0.9996938705444336, 0.5285923480987549, 0.46906617283821106, 0.9994611144065857, 0.9221768975257874, 0.998584508895874, 0.9996384978294373, 0.9960887432098389, 0.9965158104896545, 0.9982384443283081, 0.5307668447494507, 0.17268462479114532, 0.2955767512321472, 0.9994795322418213, 0.9860249161720276, 0.9972550272941589, 0.9970449209213257, 0.0027398187667131424, 0.9997751712799072, 0.9962433576583862, 0.9958449602127075, 0.9960768222808838, 0.8047665357589722, 0.19495843350887299, 0.9938434362411499, 0.9927169680595398, 0.9946566820144653, 0.5498382449150085, 0.4476148188114166, 0.9959782958030701, 0.001972809201106429, 0.9331387281417847, 0.0651027038693428, 0.9975905418395996, 0.9854152202606201, 0.9959754943847656, 0.999338686466217, 0.00038869649870321155, 0.9947728514671326, 0.9936210513114929, 0.9976481199264526, 0.9955826997756958, 0.9842999577522278, 0.015520339831709862, 0.017713245004415512, 0.8544152975082397, 0.09792041033506393, 0.029853783547878265, 0.9850335717201233, 0.9993554353713989, 0.9933876991271973, 0.9952285289764404, 0.9863166809082031, 0.9940606951713562, 0.9966919422149658, 0.9966563582420349, 0.6379551291465759, 0.3602173924446106, 0.9836147427558899, 0.9873349666595459, 0.9760652780532837, 0.9935740232467651, 0.9927502870559692, 0.9986124634742737, 0.9972212910652161, 0.9921115636825562, 0.9996529221534729, 0.9923127889633179, 0.6503478288650513, 0.3487838804721832, 0.974113941192627, 0.8972592353820801, 0.10236514359712601, 0.9872519969940186, 0.9989322423934937, 0.9964730739593506, 0.6422879695892334, 0.004561704583466053, 0.3521635830402374, 0.9946466088294983, 0.9621738195419312, 0.9600598812103271, 0.9991716146469116, 0.9973148703575134, 0.6181263327598572, 0.3814563453197479, 0.11925177276134491, 0.8745130300521851, 0.998908519744873, 0.9970138669013977, 0.015792833641171455, 0.9835426211357117, 0.9693059325218201, 0.030673790723085403, 0.9999425411224365, 0.9890205264091492, 0.9948320388793945, 0.5229353308677673, 0.2532002329826355, 0.22313688695430756, 0.000501055910717696, 0.8438414335250854, 0.049238234758377075, 0.1052679494023323, 0.9937052130699158], \"Term\": [\"_\", \"access\", \"accident\", \"account\", \"achkar\", \"act\", \"act\", \"actual\", \"address\", \"agent\", \"albuquerque\", \"algorithm\", \"alink_ksand\", \"allow\", \"also\", \"also\", \"also\", \"anderson\", \"andy\", \"anyone\", \"apply\", \"april\", \"april\", \"argue\", \"arizona\", \"arm\", \"arm\", \"article\", \"assault\", \"atf\", \"atf_burn\", \"attitude\", \"auto\", \"available\", \"available\", \"average\", \"average\", \"average\", \"aware\", \"back\", \"band\", \"bandwidth\", \"base\", \"base\", \"baseball\", \"batf\", \"battery\", \"bbs_winnipeg\", \"be\", \"beat\", \"become\", \"believe\", \"believe\", \"believe\", \"believe\", \"bench\", \"berkeley\", \"bike\", \"biker\", \"bit\", \"bit\", \"block\", \"block\", \"block\", \"blue\", \"blue\", \"blues_saint\", \"bo\", \"bob\", \"body\", \"book\", \"book\", \"book\", \"bos\", \"boston\", \"brake\", \"brand\", \"brave\", \"brian_ceccarelli\", \"bring\", \"brown\", \"brown\", \"buf\", \"bug\", \"burdett_buckeridge\", \"bureau\", \"burn\", \"burn\", \"buy\", \"cal\", \"calgary\", \"camaro\", \"can\", \"canada\", \"cap\", \"car\", \"career\", \"case\", \"cat\", \"catch\", \"catcher\", \"cause\", \"cause\", \"cease\", \"center\", \"center\", \"center\", \"center\", \"center\", \"central\", \"certain\", \"certain\", \"chain\", \"champion\", \"channel\", \"cheers_kent\", \"chemical\", \"chi\", \"chicago\", \"child\", \"chip\", \"christian\", \"christianity\", \"church\", \"circuit\", \"claim\", \"claim\", \"claim\", \"clarification\", \"classify\", \"clemen\", \"clipper\", \"clipper_chip\", \"coach\", \"coast\", \"code\", \"code\", \"cold\", \"colorado_spring\", \"come\", \"come\", \"commercial\", \"communication\", \"company\", \"company\", \"compound\", \"computer\", \"concept\", \"condition\", \"condition\", \"consult\", \"consume\", \"contact\", \"contact\", \"contribute\", \"contribute\", \"control\", \"convex_computer\", \"cookamunga_tourist\", \"cool\", \"copy\", \"cost\", \"cost\", \"cost\", \"could\", \"could\", \"coverage\", \"crack\", \"craft\", \"crap\", \"create\", \"cryptographic\", \"culture\", \"cup\", \"cycle\", \"dare\", \"date\", \"date\", \"date\", \"datum\", \"datum\", \"datum\", \"de\", \"dealer\", \"death\", \"death\", \"defense\", \"defense\", \"defenseman\", \"define\", \"degree\", \"dept\", \"dept\", \"design\", \"design\", \"design\", \"det\", \"detroit\", \"device\", \"dial\", \"dirt\", \"discount\", \"disease\", \"disk\", \"distribution\", \"distribution\", \"dividian_ranch\", \"division\", \"division\", \"division\", \"do\", \"doctor\", \"dod\", \"dod\", \"dog\", \"dozen\", \"draft\", \"drive\", \"driver\", \"dumbest_automotive\", \"ear\", \"earth\", \"ed_green\", \"educational\", \"edward\", \"eff\", \"effect\", \"email\", \"encrypt\", \"engine\", \"eric\", \"espn\", \"establish\", \"establish\", \"eventually\", \"evidence\", \"evidence\", \"evidence\", \"example\", \"exist\", \"expensive\", \"expensive\", \"explode\", \"express\", \"express_access\", \"extent\", \"extra\", \"faith\", \"fall\", \"fan\", \"faq\", \"fast\", \"fast\", \"fax\", \"fbi\", \"feel_free\", \"fi\", \"file\", \"film\", \"fin\", \"final\", \"final\", \"final\", \"final\", \"find\", \"find\", \"finland\", \"fire\", \"firearm\", \"first\", \"first\", \"first\", \"first\", \"first\", \"fischer\", \"fischer\", \"flight\", \"floor\", \"follow\", \"food\", \"fool\", \"force\", \"ford\", \"form\", \"former\", \"framework\", \"frank\", \"frequency\", \"front\", \"fuel\", \"fun\", \"fun\", \"funding\", \"game\", \"gas\", \"gas\", \"generate\", \"generate\", \"german\", \"germany\", \"get\", \"get_rid\", \"gift\", \"go\", \"go\", \"goal\", \"good\", \"good\", \"gordon_bank\", \"government\", \"government\", \"government\", \"greatly_appreciat\", \"greg\", \"gregory_bond\", \"group\", \"group\", \"group\", \"growth\", \"guest\", \"gun\", \"habit\", \"habit\", \"ham\", \"handy\", \"hardware\", \"hardware\", \"have\", \"health\", \"heart\", \"heat\", \"henry\", \"henry_spencer\", \"hewlett_packard\", \"high\", \"high\", \"high\", \"high\", \"history\", \"hit\", \"hit\", \"hockey\", \"host\", \"house\", \"house\", \"house\", \"huh\", \"human\", \"identity\", \"illegal\", \"image\", \"implementation\", \"important\", \"incidence\", \"include\", \"include\", \"increase\", \"index\", \"infection\", \"information\", \"injury\", \"instrument\", \"instrument\", \"insurance\", \"intend\", \"internet\", \"internet\", \"involve\", \"issue\", \"issue\", \"ive_seen\", \"jay\", \"jeff\", \"jeffrey\", \"jesus_christ\", \"joe_ashkar\", \"johnson\", \"joseph_charle\", \"jupiter\", \"justice\", \"keeper\", \"keith\", \"kennedy\", \"kent_sandvik\", \"key\", \"kill\", \"kill\", \"kill\", \"king\", \"king\", \"king\", \"kit\", \"know\", \"korea\", \"koresh\", \"koreshs\", \"laboratory\", \"laissez_faire\", \"laissez_passer\", \"land\", \"land\", \"language\", \"large\", \"large\", \"largely\", \"last\", \"last\", \"last\", \"launch\", \"law\", \"law\", \"lead\", \"lead\", \"lead\", \"lead_acid\", \"leafs\", \"league\", \"legislation\", \"length\", \"lens\", \"let\", \"license\", \"license\", \"light\", \"light\", \"line\", \"list\", \"list\", \"little\", \"live\", \"live\", \"live\", \"look\", \"look\", \"lose\", \"lose\", \"lot\", \"louis_blue\", \"love\", \"love\", \"low\", \"low\", \"low\", \"low\", \"low\", \"ltd\", \"ltd_melbourne\", \"lui_meme\", \"lunar\", \"mail\", \"mail\", \"make\", \"make\", \"man\", \"man\", \"manitoba_canada\", \"manual\", \"many\", \"many\", \"mario_lemieux\", \"market\", \"market\", \"mass\", \"matthew\", \"maxima_chain\", \"may\", \"may\", \"may\", \"mazda\", \"medical\", \"medicine\", \"melbourne_australia\", \"message\", \"message\", \"message\", \"met\", \"meter\", \"miata\", \"michael\", \"mid\", \"miller\", \"minnesota\", \"mission\", \"mit\", \"mod\", \"model\", \"mon\", \"montreal\", \"moon\", \"moral\", \"mormon\", \"morris\", \"motorcycle\", \"motorcyclist\", \"motorola\", \"mount\", \"mouse\", \"mph\", \"much\", \"much\", \"much\", \"murray\", \"must\", \"must\", \"mustang\", \"nail\", \"nasa\", \"national\", \"national\", \"nature\", \"neal_howard\", \"need\", \"need\", \"need\", \"network\", \"never\", \"new\", \"new\", \"new\", \"new\", \"new_york\", \"nhl\", \"nntp_post\", \"non\", \"nonsense\", \"normal\", \"not\", \"nra\", \"nsa\", \"nut\", \"nyi\", \"objective\", \"objective_morality\", \"occur\", \"offense\", \"online_communication\", \"opinions_express\", \"option\", \"orbit\", \"organization\", \"original\", \"otherwise\", \"otto\", \"output\", \"outside\", \"owner\", \"owner\", \"packet\", \"pad\", \"pain\", \"parent\", \"park\", \"park\", \"part\", \"part\", \"particle\", \"partnership\", \"pat\", \"patch\", \"patent\", \"patient\", \"paul_harvey\", \"pen\", \"penalty\", \"people\", \"people\", \"people\", \"perfect\", \"period\", \"period\", \"perry_metzger\", \"person\", \"person\", \"phone\", \"photo\", \"physical\", \"physics\", \"pick\", \"pick\", \"picture\", \"pioneer\", \"pit\", \"pitch\", \"pittsburgh\", \"pittsburgh\", \"planet\", \"plant\", \"plate\", \"play\", \"player\", \"playing\", \"playoff\", \"pool\", \"port\", \"post\", \"post\", \"poster\", \"power\", \"power\", \"power\", \"power\", \"power_play\", \"prediction\", \"price\", \"primarily\", \"print\", \"privacy\", \"private\", \"private_activitie\", \"probability\", \"probe\", \"proceeding\", \"produce\", \"production\", \"program\", \"program\", \"program\", \"project\", \"project\", \"promote\", \"proposal\", \"proposal\", \"protocol\", \"provide\", \"provide\", \"pub\", \"public\", \"public\", \"public\", \"puck\", \"pump\", \"put\", \"que\", \"quickly\", \"radio\", \"random\", \"ranger\", \"rate\", \"rd\", \"reaction\", \"ready\", \"really\", \"rear\", \"recall\", \"record\", \"record\", \"reduce\", \"register\", \"reject\", \"release\", \"religious\", \"repair\", \"replacement\", \"reply\", \"report\", \"report\", \"report\", \"request\", \"require\", \"return\", \"revenge\", \"richardson_tx\", \"rid\", \"ride\", \"rifle\", \"right\", \"right\", \"risk\", \"road\", \"rock\", \"roger\", \"rookie\", \"rookie\", \"rotation\", \"round\", \"round\", \"row\", \"rsa\", \"ruin\", \"run\", \"run\", \"run\", \"s\", \"safety\", \"safety\", \"sale\", \"sample\", \"san_jose\", \"satellite\", \"say\", \"say\", \"schematic\", \"science\", \"score\", \"scoring\", \"scott\", \"scott_roby\", \"season\", \"second\", \"second\", \"second\", \"second\", \"secondary\", \"secret\", \"secretary\", \"secure\", \"security\", \"see\", \"select\", \"select\", \"sell\", \"sell\", \"send\", \"send\", \"send\", \"serial\", \"series\", \"series\", \"service\", \"shark\", \"shawn\", \"shazad_barla\", \"shift\", \"should\", \"shuttle\", \"signal\", \"site\", \"site\", \"size\", \"sky\", \"smoke\", \"smoker\", \"software\", \"somebody\", \"somebody\", \"somebody\", \"something\", \"somewhere\", \"sort\", \"soul\", \"south\", \"sox\", \"sp\", \"space\", \"spacecraft\", \"spec\", \"special_investor\", \"speed\", \"spelling\", \"spencer\", \"sport\", \"spot\", \"staff\", \"stand\", \"stand\", \"standard\", \"standard\", \"stanley_cup\", \"star\", \"start\", \"start\", \"start\", \"starter\", \"stat\", \"state\", \"state\", \"statistical\", \"steve\", \"still\", \"stl\", \"stop\", \"store\", \"stratus_computer\", \"substance\", \"suicide\", \"suicide\", \"suit\", \"sun_microsystem\", \"sunday\", \"support\", \"surface\", \"surprised\", \"survivor\", \"sweden\", \"switch\", \"switzerland\", \"system\", \"system\", \"system\", \"table\", \"take\", \"take\", \"talent\", \"tank\", \"taurus\", \"tavare\", \"tax\", \"team\", \"technical\", \"technical\", \"technology\", \"teemu_selanne\", \"telephone\", \"tell\", \"temperature\", \"tend\", \"term\", \"test\", \"test\", \"test\", \"thank\", \"theoretical\", \"theory\", \"thing\", \"thing\", \"think\", \"thought\", \"thousand\", \"tie\", \"time\", \"time\", \"topic\", \"tor\", \"toronto_zoology\", \"total\", \"total\", \"town\", \"trade\", \"trade\", \"trade\", \"treatment\", \"trivial\", \"truck\", \"try\", \"try\", \"tube\", \"twin\", \"united_state\", \"univ\", \"university\", \"university\", \"use\", \"use\", \"use\", \"use\", \"used\", \"user\", \"utility\", \"utilize\", \"valentine\", \"valuable\", \"van\", \"vancouver\", \"vehicle\", \"vehicle\", \"velocity\", \"victory\", \"viola\", \"violation\", \"visible\", \"voice\", \"waco\", \"walter\", \"want\", \"warm\", \"watch\", \"watch\", \"wax\", \"way\", \"way\", \"wayne\", \"weapon\", \"wear\", \"week\", \"week\", \"week\", \"welcome\", \"westminster\", \"white_sox\", \"win\", \"wing\", \"wire\", \"wire\", \"witness\", \"witness\", \"woman\", \"wood\", \"word\", \"word\", \"would\", \"would\", \"write\", \"write_today\", \"yankee\", \"year\", \"year\", \"year\", \"year\", \"young\", \"young\", \"young\", \"youve_got\"]}, \"R\": 30, \"lambda.step\": 0.01, \"plot.opts\": {\"xlab\": \"PC1\", \"ylab\": \"PC2\"}, \"topic.order\": [2, 10, 18, 14, 7, 17, 4, 19, 11, 15, 13, 6, 5, 8, 20, 3, 16, 12, 9, 1]};\n",
       "\n",
       "function LDAvis_load_lib(url, callback){\n",
       "  var s = document.createElement('script');\n",
       "  s.src = url;\n",
       "  s.async = true;\n",
       "  s.onreadystatechange = s.onload = callback;\n",
       "  s.onerror = function(){console.warn(\"failed to load library \" + url);};\n",
       "  document.getElementsByTagName(\"head\")[0].appendChild(s);\n",
       "}\n",
       "\n",
       "if(typeof(LDAvis) !== \"undefined\"){\n",
       "   // already loaded: just create the visualization\n",
       "   !function(LDAvis){\n",
       "       new LDAvis(\"#\" + \"ldavis_el734016302482803762071540770\", ldavis_el734016302482803762071540770_data);\n",
       "   }(LDAvis);\n",
       "}else if(typeof define === \"function\" && define.amd){\n",
       "   // require.js is available: use it to load d3/LDAvis\n",
       "   require.config({paths: {d3: \"https://cdnjs.cloudflare.com/ajax/libs/d3/3.5.5/d3.min\"}});\n",
       "   require([\"d3\"], function(d3){\n",
       "      window.d3 = d3;\n",
       "      LDAvis_load_lib(\"https://cdn.rawgit.com/bmabey/pyLDAvis/files/ldavis.v1.0.0.js\", function(){\n",
       "        new LDAvis(\"#\" + \"ldavis_el734016302482803762071540770\", ldavis_el734016302482803762071540770_data);\n",
       "      });\n",
       "    });\n",
       "}else{\n",
       "    // require.js not available: dynamically load d3 & LDAvis\n",
       "    LDAvis_load_lib(\"https://cdnjs.cloudflare.com/ajax/libs/d3/3.5.5/d3.min.js\", function(){\n",
       "         LDAvis_load_lib(\"https://cdn.rawgit.com/bmabey/pyLDAvis/files/ldavis.v1.0.0.js\", function(){\n",
       "                 new LDAvis(\"#\" + \"ldavis_el734016302482803762071540770\", ldavis_el734016302482803762071540770_data);\n",
       "            })\n",
       "         });\n",
       "}\n",
       "</script>"
      ],
      "text/plain": [
       "PreparedData(topic_coordinates=              x         y  topics  cluster       Freq\n",
       "topic                                                \n",
       "1     -0.370780  0.225753       1        1  49.246956\n",
       "9     -0.360397  0.116623       2        1  20.200420\n",
       "17    -0.257665 -0.181023       3        1   7.536002\n",
       "13    -0.128050 -0.204301       4        1   3.654622\n",
       "6     -0.099190  0.113366       5        1   3.110790\n",
       "16    -0.033551 -0.147529       6        1   2.208946\n",
       "3     -0.024635 -0.119419       7        1   2.156936\n",
       "18     0.008488 -0.019524       8        1   2.074905\n",
       "10    -0.064212 -0.148370       9        1   1.915426\n",
       "14     0.018827  0.008608      10        1   1.473235\n",
       "12     0.068525  0.053519      11        1   1.282957\n",
       "5      0.057616  0.036806      12        1   1.187146\n",
       "4      0.097167  0.009636      13        1   0.995987\n",
       "7      0.132705  0.032965      14        1   0.866934\n",
       "19     0.137272  0.029569      15        1   0.567179\n",
       "2      0.130109  0.040404      16        1   0.554038\n",
       "15     0.154389  0.037121      17        1   0.449997\n",
       "11     0.163859  0.037470      18        1   0.381272\n",
       "8      0.180088  0.038829      19        1   0.110768\n",
       "0      0.189433  0.039499      20        1   0.025492, topic_info=      Category          Freq                Term         Total  loglift  \\\n",
       "term                                                                      \n",
       "337    Default   4175.000000                game   4175.000000  30.0000   \n",
       "44     Default  19598.000000                 not  19598.000000  29.0000   \n",
       "558    Default   5987.000000                year   5987.000000  28.0000   \n",
       "145    Default   3107.000000                 key   3107.000000  27.0000   \n",
       "33     Default  16164.000000                line  16164.000000  26.0000   \n",
       "1695   Default   2442.000000                 gun   2442.000000  25.0000   \n",
       "287    Default   2774.000000               space   2774.000000  24.0000   \n",
       "1610   Default   3108.000000                 car   3108.000000  23.0000   \n",
       "45     Default  14531.000000        organization  14531.000000  22.0000   \n",
       "186    Default  13183.000000               write  13183.000000  21.0000   \n",
       "1512   Default   2465.000000                team   2465.000000  20.0000   \n",
       "73     Default  11699.000000                  do  11699.000000  19.0000   \n",
       "973    Default   2748.000000            internet   2748.000000  18.0000   \n",
       "210    Default   8023.000000                good   8023.000000  17.0000   \n",
       "906    Default   2061.000000                 law   2061.000000  16.0000   \n",
       "200    Default  10489.000000             article  10489.000000  15.0000   \n",
       "1007   Default   3366.000000              system   3366.000000  14.0000   \n",
       "995    Default   2040.000000                play   2040.000000  13.0000   \n",
       "63     Default  14116.000000               would  14116.000000  12.0000   \n",
       "136    Default  10125.000000                 get  10125.000000  11.0000   \n",
       "47     Default   6097.000000              people   6097.000000  10.0000   \n",
       "6      Default   9793.000000                  be   9793.000000   9.0000   \n",
       "705    Default   2614.000000         information   2614.000000   8.0000   \n",
       "181    Default   5024.000000                 use   5024.000000   7.0000   \n",
       "708    Default   3625.000000                 new   3625.000000   6.0000   \n",
       "1492   Default   1775.000000              player   1775.000000   5.0000   \n",
       "475    Default   1993.000000          government   1993.000000   4.0000   \n",
       "564    Default   1150.000000                bike   1150.000000   3.0000   \n",
       "156    Default   6247.000000                 may   6247.000000   2.0000   \n",
       "23     Default   7564.000000                  go   7564.000000   1.0000   \n",
       "...        ...           ...                 ...           ...      ...   \n",
       "26524  Topic20      0.005587         perry_metzg      1.128570   2.9663   \n",
       "9183   Topic20      0.005587      lehman_brother      1.128570   2.9663   \n",
       "22187  Topic20      0.005587             vocoded      1.128569   2.9663   \n",
       "26726  Topic20      0.005587       authorisation      1.128569   2.9663   \n",
       "26732  Topic20      0.005587           sufficent      1.128569   2.9663   \n",
       "22179  Topic20      0.005587                  bt      1.128571   2.9663   \n",
       "26728  Topic20      0.005587            gurantee      1.128570   2.9663   \n",
       "5036   Topic20      0.005587     germano_caronni      1.128571   2.9663   \n",
       "4611   Topic20      0.005587         graham_toal      1.128576   2.9663   \n",
       "15738  Topic20      0.005587          obligation      1.128571   2.9663   \n",
       "4527   Topic20      0.005587              police      1.128639   2.9663   \n",
       "15283  Topic20      0.005587     fifth_amendment      1.128571   2.9663   \n",
       "16133  Topic20      0.005587            scramble      1.128573   2.9663   \n",
       "4982   Topic20      0.005587               modem      1.128584   2.9663   \n",
       "15206  Topic20      0.005587        paul_crowley      1.128574   2.9663   \n",
       "6950   Topic20      0.005587              oblige      1.128574   2.9663   \n",
       "5291   Topic20      0.005587              attach      1.128580   2.9663   \n",
       "15134  Topic20      0.005587          admissible      1.128569   2.9663   \n",
       "15138  Topic20      0.005587        inadmissible      1.128569   2.9663   \n",
       "15137  Topic20      0.005587  fishing_expedition      1.128569   2.9663   \n",
       "5685   Topic20      0.005587         wh_proposal      1.128569   2.9663   \n",
       "6434   Topic20      0.005587                bind      1.128584   2.9663   \n",
       "4109   Topic20      0.005587            domestic      1.128586   2.9663   \n",
       "5042   Topic20      0.005587                plug      1.128591   2.9663   \n",
       "4362   Topic20      0.005587         restriction      1.128603   2.9663   \n",
       "6043   Topic20      0.005587               silly      1.128596   2.9663   \n",
       "4146   Topic20      0.005587       serial_number      1.128599   2.9662   \n",
       "7999   Topic20      0.005587            provider      1.128601   2.9662   \n",
       "4973   Topic20      0.005587        cryptography      1.128652   2.9662   \n",
       "3913   Topic20      0.005587        transmission      1.128623   2.9662   \n",
       "\n",
       "       logprob  \n",
       "term            \n",
       "337    30.0000  \n",
       "44     29.0000  \n",
       "558    28.0000  \n",
       "145    27.0000  \n",
       "33     26.0000  \n",
       "1695   25.0000  \n",
       "287    24.0000  \n",
       "1610   23.0000  \n",
       "45     22.0000  \n",
       "186    21.0000  \n",
       "1512   20.0000  \n",
       "73     19.0000  \n",
       "973    18.0000  \n",
       "210    17.0000  \n",
       "906    16.0000  \n",
       "200    15.0000  \n",
       "1007   14.0000  \n",
       "995    13.0000  \n",
       "63     12.0000  \n",
       "136    11.0000  \n",
       "47     10.0000  \n",
       "6       9.0000  \n",
       "705     8.0000  \n",
       "181     7.0000  \n",
       "708     6.0000  \n",
       "1492    5.0000  \n",
       "475     4.0000  \n",
       "564     3.0000  \n",
       "156     2.0000  \n",
       "23      1.0000  \n",
       "...        ...  \n",
       "26524 -10.9275  \n",
       "9183  -10.9275  \n",
       "22187 -10.9275  \n",
       "26726 -10.9275  \n",
       "26732 -10.9275  \n",
       "22179 -10.9275  \n",
       "26728 -10.9275  \n",
       "5036  -10.9275  \n",
       "4611  -10.9275  \n",
       "15738 -10.9275  \n",
       "4527  -10.9274  \n",
       "15283 -10.9275  \n",
       "16133 -10.9275  \n",
       "4982  -10.9275  \n",
       "15206 -10.9275  \n",
       "6950  -10.9275  \n",
       "5291  -10.9275  \n",
       "15134 -10.9275  \n",
       "15138 -10.9275  \n",
       "15137 -10.9275  \n",
       "5685  -10.9275  \n",
       "6434  -10.9275  \n",
       "4109  -10.9275  \n",
       "5042  -10.9275  \n",
       "4362  -10.9275  \n",
       "6043  -10.9275  \n",
       "4146  -10.9275  \n",
       "7999  -10.9275  \n",
       "4973  -10.9275  \n",
       "3913  -10.9275  \n",
       "\n",
       "[800 rows x 6 columns], token_table=      Topic      Freq         Term\n",
       "term                              \n",
       "2101      3  0.998957            _\n",
       "64        3  0.997864       access\n",
       "2102      7  0.997021     accident\n",
       "3649     13  0.998075      account\n",
       "2308     18  0.948279       achkar\n",
       "1666      2  0.991002          act\n",
       "1666     12  0.008533          act\n",
       "698      10  0.994749       actual\n",
       "1226      2  0.999384      address\n",
       "2585     10  0.997419        agent\n",
       "1711     19  0.863797  albuquerque\n",
       "1841      9  0.997507    algorithm\n",
       "3339     19  0.926238  alink_ksand\n",
       "1         2  0.999309        allow\n",
       "368       1  0.368421         also\n",
       "368       2  0.618590         also\n",
       "368       3  0.012754         also\n",
       "3650     13  0.990437     anderson\n",
       "3073     12  0.990478         andy\n",
       "198       1  0.999805       anyone\n",
       "2497      2  0.998122        apply\n",
       "320       3  0.340956        april\n",
       "320       8  0.658208        april\n",
       "3184      7  0.997452        argue\n",
       "2147     15  0.996322      arizona\n",
       "1228      1  0.693797          arm\n",
       "1228     10  0.303911          arm\n",
       "200       1  0.999911      article\n",
       "3471     10  0.992251      assault\n",
       "882      10  0.993082          atf\n",
       "...     ...       ...          ...\n",
       "299       4  0.996473         wear\n",
       "2461      2  0.642288         week\n",
       "2461      5  0.004562         week\n",
       "2461      8  0.352164         week\n",
       "2276      8  0.994647      welcome\n",
       "2833     18  0.962174  westminster\n",
       "361      17  0.960060    white_sox\n",
       "362       5  0.999172          win\n",
       "1520     11  0.997315         wing\n",
       "842       3  0.618126         wire\n",
       "842      15  0.381456         wire\n",
       "3575     10  0.119252      witness\n",
       "3575     12  0.874513      witness\n",
       "659       3  0.998909        woman\n",
       "1333      8  0.997014         wood\n",
       "1222      1  0.015793         word\n",
       "1222      2  0.983543         word\n",
       "63        1  0.969306        would\n",
       "63        2  0.030674        would\n",
       "186       1  0.999943        write\n",
       "2100     16  0.989021  write_today\n",
       "1060      5  0.994832       yankee\n",
       "558       1  0.522935         year\n",
       "558       2  0.253200         year\n",
       "558       5  0.223137         year\n",
       "558      11  0.000501         year\n",
       "1020      1  0.843841        young\n",
       "1020     11  0.049238        young\n",
       "1020     17  0.105268        young\n",
       "1710     12  0.993705    youve_got\n",
       "\n",
       "[902 rows x 3 columns], R=30, lambda_step=0.01, plot_opts={'xlab': 'PC1', 'ylab': 'PC2'}, topic_order=[2, 10, 18, 14, 7, 17, 4, 19, 11, 15, 13, 6, 5, 8, 20, 3, 16, 12, 9, 1])"
      ]
     },
     "execution_count": 29,
     "metadata": {},
     "output_type": "execute_result"
    }
   ],
   "source": [
    "# Visualize the topics\n",
    "pyLDAvis.enable_notebook()\n",
    "vis = pyLDAvis.gensim.prepare(lda_model, corpus, id2word)\n",
    "vis"
   ]
  },
  {
   "cell_type": "code",
   "execution_count": 30,
   "metadata": {},
   "outputs": [
    {
     "name": "stdout",
     "output_type": "stream",
     "text": [
      "\n",
      "Perplexity:  -15.334646052543322\n",
      "\n",
      "Coherence Score:  0.452378722696637\n"
     ]
    }
   ],
   "source": [
    "# Compute Perplexity\n",
    "print('\\nPerplexity: ', lda_model.log_perplexity(corpus))  # a measure of how good the model is. lower the better.\n",
    "\n",
    "# Compute Coherence Score\n",
    "coherence_model_lda = CoherenceModel(model=lda_model, texts=data_lemmatized, dictionary=id2word, coherence='c_v')\n",
    "coherence_lda = coherence_model_lda.get_coherence()\n",
    "print('\\nCoherence Score: ', coherence_lda)"
   ]
  }
 ],
 "metadata": {
  "kernelspec": {
   "display_name": "Python 3",
   "language": "python",
   "name": "python3"
  },
  "language_info": {
   "codemirror_mode": {
    "name": "ipython",
    "version": 3
   },
   "file_extension": ".py",
   "mimetype": "text/x-python",
   "name": "python",
   "nbconvert_exporter": "python",
   "pygments_lexer": "ipython3",
   "version": "3.6.5"
  }
 },
 "nbformat": 4,
 "nbformat_minor": 1
}
