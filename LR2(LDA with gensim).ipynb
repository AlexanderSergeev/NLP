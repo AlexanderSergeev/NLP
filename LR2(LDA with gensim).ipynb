{
 "cells": [
  {
   "cell_type": "code",
   "execution_count": 1,
   "metadata": {},
   "outputs": [],
   "source": [
    "import re\n",
    "import numpy as np\n",
    "import pandas as pd\n",
    "from pprint import pprint\n",
    "\n",
    "# Gensim\n",
    "import gensim\n",
    "import gensim.corpora as corpora\n",
    "from gensim.utils import simple_preprocess\n",
    "from gensim.models import CoherenceModel\n",
    "\n",
    "# spacy for lemmatization\n",
    "import spacy\n",
    "\n",
    "# Plotting tools\n",
    "import pyLDAvis\n",
    "import pyLDAvis.gensim\n",
    "import matplotlib.pyplot as plt\n",
    "%matplotlib inline"
   ]
  },
  {
   "cell_type": "code",
   "execution_count": 2,
   "metadata": {},
   "outputs": [
    {
     "name": "stdout",
     "output_type": "stream",
     "text": [
      "['alt.atheism',\n",
      " 'comp.graphics',\n",
      " 'comp.os.ms-windows.misc',\n",
      " 'comp.sys.ibm.pc.hardware',\n",
      " 'comp.sys.mac.hardware',\n",
      " 'comp.windows.x',\n",
      " 'misc.forsale',\n",
      " 'rec.autos',\n",
      " 'rec.motorcycles',\n",
      " 'rec.sport.baseball',\n",
      " 'rec.sport.hockey',\n",
      " 'sci.crypt',\n",
      " 'sci.electronics',\n",
      " 'sci.med',\n",
      " 'sci.space',\n",
      " 'soc.religion.christian',\n",
      " 'talk.politics.guns',\n",
      " 'talk.politics.mideast',\n",
      " 'talk.politics.misc',\n",
      " 'talk.religion.misc']\n"
     ]
    }
   ],
   "source": [
    "from sklearn.datasets import fetch_20newsgroups\n",
    "categories = ['alt.atheism', 'talk.religion.misc','comp.graphics', 'sci.space']\n",
    "categories = None\n",
    "df = fetch_20newsgroups(categories=categories, shuffle=True, random_state=42)\n",
    "\n",
    "from pprint import pprint\n",
    "pprint(list(df.target_names))"
   ]
  },
  {
   "cell_type": "code",
   "execution_count": 3,
   "metadata": {},
   "outputs": [
    {
     "data": {
      "text/plain": [
       "(11314,)"
      ]
     },
     "execution_count": 3,
     "metadata": {},
     "output_type": "execute_result"
    }
   ],
   "source": [
    "df.filenames.shape"
   ]
  },
  {
   "cell_type": "code",
   "execution_count": 4,
   "metadata": {},
   "outputs": [
    {
     "data": {
      "text/plain": [
       "(11314,)"
      ]
     },
     "execution_count": 4,
     "metadata": {},
     "output_type": "execute_result"
    }
   ],
   "source": [
    "df.target.shape"
   ]
  },
  {
   "cell_type": "code",
   "execution_count": 5,
   "metadata": {},
   "outputs": [
    {
     "name": "stderr",
     "output_type": "stream",
     "text": [
      "<input>:5: DeprecationWarning: invalid escape sequence \\S\n",
      "<input>:8: DeprecationWarning: invalid escape sequence \\s\n",
      "<input>:5: DeprecationWarning: invalid escape sequence \\S\n",
      "<input>:8: DeprecationWarning: invalid escape sequence \\s\n",
      "<input>:5: DeprecationWarning: invalid escape sequence \\S\n",
      "<input>:8: DeprecationWarning: invalid escape sequence \\s\n",
      "<ipython-input-5-1eed9f39b362>:5: DeprecationWarning: invalid escape sequence \\S\n",
      "  data = [re.sub('\\S*@\\S*\\s?', '', sent) for sent in data]\n",
      "<ipython-input-5-1eed9f39b362>:8: DeprecationWarning: invalid escape sequence \\s\n",
      "  data = [re.sub('\\s+', ' ', sent) for sent in data]\n"
     ]
    },
    {
     "name": "stdout",
     "output_type": "stream",
     "text": [
      "['From: (wheres my thing) Subject: WHAT car is this!? Nntp-Posting-Host: '\n",
      " 'rac3.wam.umd.edu Organization: University of Maryland, College Park Lines: '\n",
      " '15 I was wondering if anyone out there could enlighten me on this car I saw '\n",
      " 'the other day. It was a 2-door sports car, looked to be from the late 60s/ '\n",
      " 'early 70s. It was called a Bricklin. The doors were really small. In '\n",
      " 'addition, the front bumper was separate from the rest of the body. This is '\n",
      " 'all I know. If anyone can tellme a model name, engine specs, years of '\n",
      " 'production, where this car is made, history, or whatever info you have on '\n",
      " 'this funky looking car, please e-mail. Thanks, - IL ---- brought to you by '\n",
      " 'your neighborhood Lerxst ---- ']\n"
     ]
    }
   ],
   "source": [
    "# Convert to list\n",
    "data = df.data\n",
    "\n",
    "# Remove Emails\n",
    "data = [re.sub('\\S*@\\S*\\s?', '', sent) for sent in data]\n",
    "\n",
    "# Remove new line characters\n",
    "data = [re.sub('\\s+', ' ', sent) for sent in data]\n",
    "\n",
    "# Remove distracting single quotes\n",
    "data = [re.sub(\"\\'\", \"\", sent) for sent in data]\n",
    "\n",
    "pprint(data[:1])"
   ]
  },
  {
   "cell_type": "code",
   "execution_count": 6,
   "metadata": {},
   "outputs": [
    {
     "name": "stdout",
     "output_type": "stream",
     "text": [
      "[['from', 'wheres', 'my', 'thing', 'subject', 'what', 'car', 'is', 'this', 'nntp', 'posting', 'host', 'rac', 'wam', 'umd', 'edu', 'organization', 'university', 'of', 'maryland', 'college', 'park', 'lines', 'was', 'wondering', 'if', 'anyone', 'out', 'there', 'could', 'enlighten', 'me', 'on', 'this', 'car', 'saw', 'the', 'other', 'day', 'it', 'was', 'door', 'sports', 'car', 'looked', 'to', 'be', 'from', 'the', 'late', 'early', 'it', 'was', 'called', 'bricklin', 'the', 'doors', 'were', 'really', 'small', 'in', 'addition', 'the', 'front', 'bumper', 'was', 'separate', 'from', 'the', 'rest', 'of', 'the', 'body', 'this', 'is', 'all', 'know', 'if', 'anyone', 'can', 'tellme', 'model', 'name', 'engine', 'specs', 'years', 'of', 'production', 'where', 'this', 'car', 'is', 'made', 'history', 'or', 'whatever', 'info', 'you', 'have', 'on', 'this', 'funky', 'looking', 'car', 'please', 'mail', 'thanks', 'il', 'brought', 'to', 'you', 'by', 'your', 'neighborhood', 'lerxst']]\n"
     ]
    }
   ],
   "source": [
    "def sent_to_words(sentences):\n",
    "    for sentence in sentences:\n",
    "        yield(gensim.utils.simple_preprocess(str(sentence), deacc=True))  # deacc=True removes punctuations\n",
    "\n",
    "data_words = list(sent_to_words(data))\n",
    "\n",
    "print(data_words[:1])"
   ]
  },
  {
   "cell_type": "code",
   "execution_count": 7,
   "metadata": {},
   "outputs": [
    {
     "name": "stdout",
     "output_type": "stream",
     "text": [
      "['from', 'wheres', 'my', 'thing', 'subject', 'what', 'car', 'is', 'this', 'nntp_posting_host', 'rac_wam_umd_edu', 'organization', 'university', 'of', 'maryland_college_park', 'lines', 'was', 'wondering', 'if', 'anyone', 'out', 'there', 'could', 'enlighten', 'me', 'on', 'this', 'car', 'saw', 'the', 'other', 'day', 'it', 'was', 'door', 'sports', 'car', 'looked', 'to', 'be', 'from', 'the', 'late', 'early', 'it', 'was', 'called', 'bricklin', 'the', 'doors', 'were', 'really', 'small', 'in', 'addition', 'the', 'front_bumper', 'was', 'separate', 'from', 'the', 'rest', 'of', 'the', 'body', 'this', 'is', 'all', 'know', 'if', 'anyone', 'can', 'tellme', 'model', 'name', 'engine', 'specs', 'years', 'of', 'production', 'where', 'this', 'car', 'is', 'made', 'history', 'or', 'whatever', 'info', 'you', 'have', 'on', 'this', 'funky', 'looking', 'car', 'please', 'mail', 'thanks', 'il', 'brought', 'to', 'you', 'by', 'your', 'neighborhood', 'lerxst']\n"
     ]
    }
   ],
   "source": [
    "# Build the bigram and trigram models\n",
    "bigram = gensim.models.Phrases(data_words, min_count=5, threshold=100) # higher threshold fewer phrases.\n",
    "trigram = gensim.models.Phrases(bigram[data_words], threshold=100)  \n",
    "\n",
    "# Faster way to get a sentence clubbed as a trigram/bigram\n",
    "bigram_mod = gensim.models.phrases.Phraser(bigram)\n",
    "trigram_mod = gensim.models.phrases.Phraser(trigram)\n",
    "\n",
    "# See trigram example\n",
    "print(trigram_mod[bigram_mod[data_words[0]]])"
   ]
  },
  {
   "cell_type": "code",
   "execution_count": 8,
   "metadata": {},
   "outputs": [
    {
     "name": "stdout",
     "output_type": "stream",
     "text": [
      "[nltk_data] Downloading package stopwords to\n",
      "[nltk_data]     C:\\Users\\asergeev\\AppData\\Roaming\\nltk_data...\n",
      "[nltk_data]   Package stopwords is already up-to-date!\n"
     ]
    }
   ],
   "source": [
    "# NLTK Stop words\n",
    "import nltk; nltk.download('stopwords')\n",
    "from nltk.corpus import stopwords\n",
    "stop_words = stopwords.words('english')\n",
    "stop_words.extend(['from', 'subject', 're', 'edu', 'use'])\n",
    "\n",
    "# Define functions for stopwords, bigrams, trigrams and lemmatization\n",
    "def remove_stopwords(texts):\n",
    "    return [[word for word in simple_preprocess(str(doc)) if word not in stop_words] for doc in texts]\n",
    "\n",
    "def make_bigrams(texts):\n",
    "    return [bigram_mod[doc] for doc in texts]\n",
    "\n",
    "def make_trigrams(texts):\n",
    "    return [trigram_mod[bigram_mod[doc]] for doc in texts]\n",
    "\n",
    "def lemmatization(texts, allowed_postags=['NOUN', 'ADJ', 'VERB', 'ADV']):\n",
    "    \"\"\"https://spacy.io/api/annotation\"\"\"\n",
    "    texts_out = []\n",
    "    for sent in texts:\n",
    "        doc = nlp(\" \".join(sent)) \n",
    "        texts_out.append([token.lemma_ for token in doc if token.pos_ in allowed_postags])\n",
    "    return texts_out"
   ]
  },
  {
   "cell_type": "code",
   "execution_count": 9,
   "metadata": {},
   "outputs": [
    {
     "name": "stdout",
     "output_type": "stream",
     "text": [
      "[['where', 's', 'thing', 'car', 'nntp_post', 'host', 'rac_wam', 'umd', 'organization', 'university', 'maryland_college', 'park', 'line', 'wonder', 'anyone', 'could', 'enlighten', 'car', 'see', 'day', 'door', 'sport', 'car', 'look', 'late', 'early', 'call', 'bricklin', 'door', 'really', 'small', 'addition', 'front_bumper', 'separate', 'rest', 'body', 'know', 'anyone', 'tellme', 'model', 'name', 'engine', 'spec', 'year', 'production', 'car', 'make', 'history', 'whatev', 'info', 'funky', 'look', 'car', 'mail', 'thank', 'bring', 'neighborhood', 'lerxst']]\n"
     ]
    }
   ],
   "source": [
    "# Remove Stop Words\n",
    "data_words_nostops = remove_stopwords(data_words)\n",
    "\n",
    "# Form Bigrams\n",
    "data_words_bigrams = make_bigrams(data_words_nostops)\n",
    "\n",
    "# Initialize spacy 'en' model, keeping only tagger component (for efficiency)\n",
    "# python3 -m spacy download en\n",
    "nlp = spacy.load('en', disable=['parser', 'ner'])\n",
    "\n",
    "# Do lemmatization keeping only noun, adj, vb, adv\n",
    "data_lemmatized = lemmatization(data_words_bigrams, allowed_postags=['NOUN', 'ADJ', 'VERB', 'ADV'])\n",
    "\n",
    "print(data_lemmatized[:1])"
   ]
  },
  {
   "cell_type": "code",
   "execution_count": 10,
   "metadata": {},
   "outputs": [
    {
     "name": "stdout",
     "output_type": "stream",
     "text": [
      "[[(0, 1), (1, 2), (2, 1), (3, 1), (4, 1), (5, 1), (6, 5), (7, 1), (8, 1), (9, 2), (10, 1), (11, 1), (12, 1), (13, 1), (14, 1), (15, 1), (16, 1), (17, 1), (18, 1), (19, 1), (20, 1), (21, 1), (22, 2), (23, 1), (24, 1), (25, 1), (26, 1), (27, 1), (28, 1), (29, 1), (30, 1), (31, 1), (32, 1), (33, 1), (34, 1), (35, 1), (36, 1), (37, 1), (38, 1), (39, 1), (40, 1), (41, 1), (42, 1), (43, 1), (44, 1), (45, 1), (46, 1), (47, 1), (48, 1), (49, 1), (50, 1)]]\n"
     ]
    }
   ],
   "source": [
    "# Create Dictionary\n",
    "id2word = corpora.Dictionary(data_lemmatized)\n",
    "\n",
    "# Create Corpus\n",
    "texts = data_lemmatized\n",
    "\n",
    "# Term Document Frequency\n",
    "corpus = [id2word.doc2bow(text) for text in texts]\n",
    "\n",
    "# View\n",
    "print(corpus[:1])"
   ]
  },
  {
   "cell_type": "code",
   "execution_count": 11,
   "metadata": {},
   "outputs": [
    {
     "data": {
      "text/plain": [
       "[[('addition', 1),\n",
       "  ('anyone', 2),\n",
       "  ('body', 1),\n",
       "  ('bricklin', 1),\n",
       "  ('bring', 1),\n",
       "  ('call', 1),\n",
       "  ('car', 5),\n",
       "  ('could', 1),\n",
       "  ('day', 1),\n",
       "  ('door', 2),\n",
       "  ('early', 1),\n",
       "  ('engine', 1),\n",
       "  ('enlighten', 1),\n",
       "  ('front_bumper', 1),\n",
       "  ('funky', 1),\n",
       "  ('history', 1),\n",
       "  ('host', 1),\n",
       "  ('info', 1),\n",
       "  ('know', 1),\n",
       "  ('late', 1),\n",
       "  ('lerxst', 1),\n",
       "  ('line', 1),\n",
       "  ('look', 2),\n",
       "  ('mail', 1),\n",
       "  ('make', 1),\n",
       "  ('maryland_college', 1),\n",
       "  ('model', 1),\n",
       "  ('name', 1),\n",
       "  ('neighborhood', 1),\n",
       "  ('nntp_post', 1),\n",
       "  ('organization', 1),\n",
       "  ('park', 1),\n",
       "  ('production', 1),\n",
       "  ('rac_wam', 1),\n",
       "  ('really', 1),\n",
       "  ('rest', 1),\n",
       "  ('s', 1),\n",
       "  ('see', 1),\n",
       "  ('separate', 1),\n",
       "  ('small', 1),\n",
       "  ('spec', 1),\n",
       "  ('sport', 1),\n",
       "  ('tellme', 1),\n",
       "  ('thank', 1),\n",
       "  ('thing', 1),\n",
       "  ('umd', 1),\n",
       "  ('university', 1),\n",
       "  ('whatev', 1),\n",
       "  ('where', 1),\n",
       "  ('wonder', 1),\n",
       "  ('year', 1)]]"
      ]
     },
     "execution_count": 11,
     "metadata": {},
     "output_type": "execute_result"
    }
   ],
   "source": [
    "# Human readable format of corpus (term-frequency)\n",
    "[[(id2word[id], freq) for id, freq in cp] for cp in corpus[:1]]"
   ]
  },
  {
   "cell_type": "code",
   "execution_count": 12,
   "metadata": {},
   "outputs": [],
   "source": [
    "# Build LDA model\n",
    "lda_model = gensim.models.ldamodel.LdaModel(corpus=corpus,\n",
    "                                           id2word=id2word,\n",
    "                                           num_topics=20, \n",
    "                                           random_state=100,\n",
    "                                           update_every=1,\n",
    "                                           chunksize=100,\n",
    "                                           passes=10,\n",
    "                                           alpha='auto',\n",
    "                                           per_word_topics=True)"
   ]
  },
  {
   "cell_type": "code",
   "execution_count": 13,
   "metadata": {},
   "outputs": [
    {
     "name": "stdout",
     "output_type": "stream",
     "text": [
      "[(0,\n",
      "  '0.153*\"window\" + 0.065*\"image\" + 0.045*\"display\" + 0.044*\"server\" + '\n",
      "  '0.037*\"screen\" + 0.020*\"directory\" + 0.020*\"run\" + 0.020*\"font\" + '\n",
      "  '0.017*\"cub\" + 0.016*\"object\"'),\n",
      " (1,\n",
      "  '0.053*\"armenian\" + 0.041*\"greek\" + 0.033*\"turk\" + 0.027*\"turkish\" + '\n",
      "  '0.021*\"turkey\" + 0.018*\"russian\" + 0.015*\"gif\" + 0.014*\"serdar_argic\" + '\n",
      "  '0.013*\"armenia\" + 0.013*\"closed\"'),\n",
      " (2,\n",
      "  '0.042*\"not\" + 0.030*\"would\" + 0.027*\"do\" + 0.021*\"be\" + 0.016*\"get\" + '\n",
      "  '0.015*\"go\" + 0.015*\"think\" + 0.014*\"make\" + 0.014*\"good\" + 0.014*\"know\"'),\n",
      " (3,\n",
      "  '0.095*\"sale\" + 0.043*\"tape\" + 0.042*\"character\" + 0.030*\"price\" + '\n",
      "  '0.029*\"sell\" + 0.023*\"chris\" + 0.023*\"offer\" + 0.021*\"rider\" + '\n",
      "  '0.017*\"jason\" + 0.015*\"decent\"'),\n",
      " (4,\n",
      "  '0.069*\"color\" + 0.059*\"test\" + 0.058*\"video\" + 0.049*\"monitor\" + '\n",
      "  '0.046*\"scan\" + 0.039*\"mouse\" + 0.029*\"mhz\" + 0.020*\"mirror\" + '\n",
      "  '0.020*\"battery\" + 0.018*\"convert\"'),\n",
      " (5,\n",
      "  '0.049*\"bike\" + 0.028*\"eat\" + 0.028*\"kid\" + 0.026*\"air\" + 0.021*\"dod\" + '\n",
      "  '0.021*\"doctor\" + 0.020*\"insurance\" + 0.020*\"hot\" + 0.019*\"gift\" + '\n",
      "  '0.018*\"worry\"'),\n",
      " (6,\n",
      "  '0.090*\"line\" + 0.082*\"organization\" + 0.041*\"write\" + 0.036*\"article\" + '\n",
      "  '0.035*\"university\" + 0.035*\"nntp_post\" + 0.033*\"host\" + 0.021*\"reply\" + '\n",
      "  '0.017*\"thank\" + 0.014*\"anyone\"'),\n",
      " (7,\n",
      "  '0.101*\"space\" + 0.043*\"graphic\" + 0.028*\"format\" + 0.027*\"earth\" + '\n",
      "  '0.026*\"launch\" + 0.023*\"moon\" + 0.022*\"mission\" + 0.022*\"orbit\" + '\n",
      "  '0.021*\"nasa\" + 0.018*\"satellite\"'),\n",
      " (8,\n",
      "  '0.037*\"key\" + 0.024*\"government\" + 0.022*\"public\" + 0.015*\"american\" + '\n",
      "  '0.015*\"issue\" + 0.013*\"internet\" + 0.013*\"group\" + 0.013*\"national\" + '\n",
      "  '0.013*\"news\" + 0.011*\"security\"'),\n",
      " (9,\n",
      "  '0.660*\"ax\" + 0.053*\"max\" + 0.014*\"scott\" + 0.014*\"motif\" + 0.011*\"pen\" + '\n",
      "  '0.006*\"draft\" + 0.006*\"honda\" + 0.006*\"connector\" + 0.005*\"koresh\" + '\n",
      "  '0.005*\"penguin\"'),\n",
      " (10,\n",
      "  '0.019*\"use\" + 0.018*\"system\" + 0.014*\"also\" + 0.012*\"may\" + 0.011*\"program\" '\n",
      "  '+ 0.011*\"include\" + 0.010*\"number\" + 0.010*\"new\" + 0.009*\"work\" + '\n",
      "  '0.008*\"information\"'),\n",
      " (11,\n",
      "  '0.194*\"file\" + 0.084*\"entry\" + 0.037*\"telnet\" + 0.033*\"unix\" + 0.029*\"ftp\" '\n",
      "  '+ 0.018*\"button\" + 0.016*\"widget\" + 0.016*\"nt\" + 0.015*\"utility\" + '\n",
      "  '0.014*\"terminal\"'),\n",
      " (12,\n",
      "  '0.385*\"_\" + 0.027*\"mar\" + 0.020*\"mu\" + 0.017*\"km\" + 0.015*\"mr\" + '\n",
      "  '0.014*\"lunar\" + 0.013*\"sx\" + 0.013*\"radius\" + 0.012*\"mo\" + 0.012*\"fi\"'),\n",
      " (13,\n",
      "  '0.071*\"car\" + 0.039*\"drive\" + 0.025*\"season\" + 0.020*\"model\" + '\n",
      "  '0.020*\"cheap\" + 0.020*\"mount\" + 0.019*\"engine\" + 0.017*\"internal\" + '\n",
      "  '0.016*\"light\" + 0.016*\"road\"'),\n",
      " (14,\n",
      "  '0.077*\"drive\" + 0.049*\"mac\" + 0.046*\"card\" + 0.040*\"driver\" + 0.034*\"cpu\" + '\n",
      "  '0.028*\"memory\" + 0.026*\"disk\" + 0.025*\"scsi\" + 0.024*\"pc\" + 0.023*\"chip\"'),\n",
      " (15,\n",
      "  '0.033*\"state\" + 0.031*\"law\" + 0.019*\"rule\" + 0.019*\"right\" + 0.017*\"speak\" '\n",
      "  '+ 0.015*\"church\" + 0.015*\"sens\" + 0.013*\"body\" + 0.012*\"member\" + '\n",
      "  '0.012*\"field\"'),\n",
      " (16,\n",
      "  '0.045*\"gateway\" + 0.042*\"michigan\" + 0.034*\"session\" + 0.028*\"astronomy\" + '\n",
      "  '0.021*\"implementation\" + 0.021*\"warrant\" + 0.021*\"approve\" + 0.017*\"staff\" '\n",
      "  '+ 0.015*\"extension\" + 0.015*\"planetary\"'),\n",
      " (17,\n",
      "  '0.035*\"year\" + 0.033*\"team\" + 0.033*\"game\" + 0.023*\"win\" + 0.021*\"play\" + '\n",
      "  '0.015*\"player\" + 0.012*\"last\" + 0.011*\"first\" + 0.011*\"run\" + '\n",
      "  '0.010*\"division\"'),\n",
      " (18,\n",
      "  '0.026*\"god\" + 0.020*\"evidence\" + 0.016*\"reason\" + 0.016*\"believe\" + '\n",
      "  '0.016*\"christian\" + 0.015*\"say\" + 0.015*\"people\" + 0.014*\"claim\" + '\n",
      "  '0.012*\"man\" + 0.010*\"may\"'),\n",
      " (19,\n",
      "  '0.067*\"israel\" + 0.042*\"israeli\" + 0.039*\"war\" + 0.028*\"arab\" + '\n",
      "  '0.028*\"soldier\" + 0.028*\"kill\" + 0.026*\"attack\" + 0.022*\"jew\" + '\n",
      "  '0.021*\"village\" + 0.020*\"jewish\"')]\n"
     ]
    }
   ],
   "source": [
    "pprint(lda_model.print_topics())\n",
    "doc_lda = lda_model[corpus]"
   ]
  },
  {
   "cell_type": "code",
   "execution_count": 14,
   "metadata": {},
   "outputs": [],
   "source": [
    "gamma, _ = lda_model.inference(corpus)\n",
    "doc_topic_dists = gamma / gamma.sum(axis=1)[:, None]"
   ]
  },
  {
   "cell_type": "code",
   "execution_count": 15,
   "metadata": {},
   "outputs": [
    {
     "data": {
      "text/plain": [
       "array([[2.2523028e-03, 9.7823690e-04, 2.6331052e-01, ..., 5.1088899e-02,\n",
       "        2.2077983e-02, 1.6128867e-03],\n",
       "       [1.8143454e-03, 7.8801910e-04, 1.4605649e-01, ..., 3.9154660e-02,\n",
       "        2.2608619e-02, 1.2992630e-03],\n",
       "       [2.3491610e-02, 3.9957426e-04, 4.2423522e-01, ..., 4.9117520e-02,\n",
       "        3.2734085e-02, 6.5880601e-04],\n",
       "       ...,\n",
       "       [2.3967884e-03, 1.0409901e-03, 3.3047873e-01, ..., 3.9565694e-02,\n",
       "        1.6842678e-02, 1.7163537e-03],\n",
       "       [1.9569714e-03, 8.4996544e-04, 3.5768721e-01, ..., 2.5382737e-02,\n",
       "        4.8982359e-02, 1.4014564e-03],\n",
       "       [2.3804752e-02, 1.3431321e-03, 2.3406911e-01, ..., 4.0973231e-02,\n",
       "        4.1263252e-02, 2.2145172e-03]], dtype=float32)"
      ]
     },
     "execution_count": 15,
     "metadata": {},
     "output_type": "execute_result"
    }
   ],
   "source": [
    "doc_topic_dists"
   ]
  },
  {
   "cell_type": "code",
   "execution_count": 16,
   "metadata": {
    "scrolled": true
   },
   "outputs": [
    {
     "data": {
      "text/plain": [
       "(11314, 20)"
      ]
     },
     "execution_count": 16,
     "metadata": {},
     "output_type": "execute_result"
    }
   ],
   "source": [
    "doc_topic_dists.shape"
   ]
  },
  {
   "cell_type": "code",
   "execution_count": 42,
   "metadata": {},
   "outputs": [
    {
     "name": "stderr",
     "output_type": "stream",
     "text": [
      "D:\\Anaconda\\lib\\site-packages\\sklearn\\metrics\\pairwise.py:258: RuntimeWarning: invalid value encountered in sqrt\n",
      "  return distances if squared else np.sqrt(distances, out=distances)\n"
     ]
    },
    {
     "data": {
      "text/plain": [
       "array([[       inf, 0.33356097, 0.29926068, ..., 0.2918661 , 0.22259098,\n",
       "        0.16839483],\n",
       "       [0.33356097,        inf, 0.39716285, ..., 0.2937796 , 0.3333894 ,\n",
       "        0.29101664],\n",
       "       [0.29926068, 0.39716285,        inf, ..., 0.22098449, 0.2200688 ,\n",
       "        0.23893002],\n",
       "       ...,\n",
       "       [0.2918661 , 0.2937796 , 0.22098449, ...,        inf, 0.27570096,\n",
       "        0.2575394 ],\n",
       "       [0.22259098, 0.3333894 , 0.2200688 , ..., 0.27570096,        inf,\n",
       "        0.1890872 ],\n",
       "       [0.16839483, 0.29101664, 0.23893002, ..., 0.2575394 , 0.1890872 ,\n",
       "               inf]], dtype=float32)"
      ]
     },
     "execution_count": 42,
     "metadata": {},
     "output_type": "execute_result"
    }
   ],
   "source": [
    "from sklearn.metrics import pairwise_distances\n",
    "dist = pairwise_distances(doc_topic_dists)\n",
    "np.fill_diagonal(dist, float(\"inf\"))\n",
    "dist"
   ]
  },
  {
   "cell_type": "code",
   "execution_count": 43,
   "metadata": {},
   "outputs": [
    {
     "data": {
      "text/plain": [
       "(11314, 11314)"
      ]
     },
     "execution_count": 43,
     "metadata": {},
     "output_type": "execute_result"
    }
   ],
   "source": [
    "dist.shape"
   ]
  },
  {
   "cell_type": "code",
   "execution_count": 44,
   "metadata": {},
   "outputs": [],
   "source": [
    "score = 0\n",
    "\n",
    "for i in range(len(dist)):\n",
    "    indx = np.argsort(dist[i][:101])\n",
    "    score += sum(df.target[indx] == df.target[i]) /100"
   ]
  },
  {
   "cell_type": "code",
   "execution_count": 45,
   "metadata": {},
   "outputs": [
    {
     "data": {
      "text/plain": [
       "0.05149195686759611"
      ]
     },
     "execution_count": 45,
     "metadata": {},
     "output_type": "execute_result"
    }
   ],
   "source": [
    "score / len(dist)"
   ]
  },
  {
   "cell_type": "code",
   "execution_count": 19,
   "metadata": {},
   "outputs": [
    {
     "name": "stderr",
     "output_type": "stream",
     "text": [
      "D:\\Anaconda\\lib\\site-packages\\pyLDAvis\\_prepare.py:257: FutureWarning: Sorting because non-concatenation axis is not aligned. A future version\n",
      "of pandas will change to not sort by default.\n",
      "\n",
      "To accept the future behavior, pass 'sort=True'.\n",
      "\n",
      "To retain the current behavior and silence the warning, pass sort=False\n",
      "\n",
      "  return pd.concat([default_term_info] + list(topic_dfs))\n"
     ]
    },
    {
     "data": {
      "text/html": [
       "\n",
       "<link rel=\"stylesheet\" type=\"text/css\" href=\"https://cdn.rawgit.com/bmabey/pyLDAvis/files/ldavis.v1.0.0.css\">\n",
       "\n",
       "\n",
       "<div id=\"ldavis_el643216989590358729126015213\"></div>\n",
       "<script type=\"text/javascript\">\n",
       "\n",
       "var ldavis_el643216989590358729126015213_data = {\"mdsDat\": {\"x\": [-0.36502826257430515, -0.29048574077147055, -0.25853660750156304, -0.2775146661575857, -0.13555008420819967, -0.1276770437403502, 0.050794172215770615, -0.06291455957312939, 0.051747617085411056, 0.030250791103639853, 0.10660306026919597, 0.12922337034843215, 0.12087937407046684, 0.10693865958621136, 0.09370408092285383, 0.16810623854567522, 0.15413342846506706, 0.16184776489134964, 0.15140115564705345, 0.19207725137547813], \"y\": [-0.042477609434163066, 0.10728447905027301, 0.20993614007253958, -0.17209050867450448, -0.1015725406142992, -0.02070348907379837, 0.016788609988202287, -0.18092566205358812, 0.15998077847467002, 0.2207122287028248, 0.00759838560381023, -0.00793364177261205, 0.03535124864915762, -0.09364986989837737, -0.10767026825266435, -0.00835375465163694, -0.013842961561602975, -0.009030758720418239, 0.01215638844283115, -0.011557194276642974], \"topics\": [1, 2, 3, 4, 5, 6, 7, 8, 9, 10, 11, 12, 13, 14, 15, 16, 17, 18, 19, 20], \"cluster\": [1, 1, 1, 1, 1, 1, 1, 1, 1, 1, 1, 1, 1, 1, 1, 1, 1, 1, 1, 1], \"Freq\": [32.99458312988281, 14.937503814697266, 11.93264389038086, 8.77433967590332, 5.352482318878174, 5.193089485168457, 4.724924087524414, 3.9101572036743164, 1.8420162200927734, 1.7113603353500366, 1.1801652908325195, 1.104177713394165, 1.0715856552124023, 1.0533031225204468, 1.0449098348617554, 0.7721325159072876, 0.7282993197441101, 0.7205274105072021, 0.6848734617233276, 0.2669237554073334]}, \"tinfo\": {\"Category\": [\"Default\", \"Default\", \"Default\", \"Default\", \"Default\", \"Default\", \"Default\", \"Default\", \"Default\", \"Default\", \"Default\", \"Default\", \"Default\", \"Default\", \"Default\", \"Default\", \"Default\", \"Default\", \"Default\", \"Default\", \"Default\", \"Default\", \"Default\", \"Default\", \"Default\", \"Default\", \"Default\", \"Default\", \"Default\", \"Default\", \"Topic1\", \"Topic1\", \"Topic1\", \"Topic1\", \"Topic1\", \"Topic1\", \"Topic1\", \"Topic1\", \"Topic1\", \"Topic1\", \"Topic1\", \"Topic1\", \"Topic1\", \"Topic1\", \"Topic1\", \"Topic1\", \"Topic1\", \"Topic1\", \"Topic1\", \"Topic1\", \"Topic1\", \"Topic1\", \"Topic1\", \"Topic1\", \"Topic1\", \"Topic1\", \"Topic1\", \"Topic1\", \"Topic1\", \"Topic1\", \"Topic1\", \"Topic1\", \"Topic1\", \"Topic1\", \"Topic1\", \"Topic1\", \"Topic1\", \"Topic1\", \"Topic1\", \"Topic1\", \"Topic1\", \"Topic1\", \"Topic1\", \"Topic1\", \"Topic1\", \"Topic1\", \"Topic1\", \"Topic1\", \"Topic1\", \"Topic1\", \"Topic1\", \"Topic1\", \"Topic1\", \"Topic1\", \"Topic1\", \"Topic1\", \"Topic1\", \"Topic1\", \"Topic1\", \"Topic1\", \"Topic1\", \"Topic1\", \"Topic1\", \"Topic1\", \"Topic1\", \"Topic1\", \"Topic2\", \"Topic2\", \"Topic2\", \"Topic2\", \"Topic2\", \"Topic2\", \"Topic2\", \"Topic2\", \"Topic2\", \"Topic2\", \"Topic2\", \"Topic2\", \"Topic2\", \"Topic2\", \"Topic2\", \"Topic2\", \"Topic2\", \"Topic2\", \"Topic2\", \"Topic2\", \"Topic2\", \"Topic2\", \"Topic2\", \"Topic2\", \"Topic2\", \"Topic2\", \"Topic2\", \"Topic2\", \"Topic2\", \"Topic2\", \"Topic2\", \"Topic2\", \"Topic2\", \"Topic2\", \"Topic2\", \"Topic2\", \"Topic2\", \"Topic2\", \"Topic2\", \"Topic2\", \"Topic2\", \"Topic2\", \"Topic2\", \"Topic2\", \"Topic2\", \"Topic2\", \"Topic2\", \"Topic2\", \"Topic2\", \"Topic2\", \"Topic2\", \"Topic2\", \"Topic2\", \"Topic2\", \"Topic2\", \"Topic2\", \"Topic2\", \"Topic2\", \"Topic2\", \"Topic2\", \"Topic2\", \"Topic2\", \"Topic2\", \"Topic2\", \"Topic2\", \"Topic2\", \"Topic3\", \"Topic3\", \"Topic3\", \"Topic3\", \"Topic3\", \"Topic3\", \"Topic3\", \"Topic3\", \"Topic3\", \"Topic3\", \"Topic3\", \"Topic3\", \"Topic3\", \"Topic3\", \"Topic3\", \"Topic3\", \"Topic3\", \"Topic3\", \"Topic3\", \"Topic3\", \"Topic3\", \"Topic3\", \"Topic3\", \"Topic3\", \"Topic3\", \"Topic3\", \"Topic3\", \"Topic3\", \"Topic3\", \"Topic3\", \"Topic3\", \"Topic3\", \"Topic3\", \"Topic3\", \"Topic3\", \"Topic3\", \"Topic3\", \"Topic3\", \"Topic3\", \"Topic3\", \"Topic3\", \"Topic3\", \"Topic3\", \"Topic3\", \"Topic3\", \"Topic3\", \"Topic3\", \"Topic3\", \"Topic3\", \"Topic3\", \"Topic3\", \"Topic3\", \"Topic3\", \"Topic3\", \"Topic3\", \"Topic3\", \"Topic3\", \"Topic3\", \"Topic3\", \"Topic3\", \"Topic4\", \"Topic4\", \"Topic4\", \"Topic4\", \"Topic4\", \"Topic4\", \"Topic4\", \"Topic4\", \"Topic4\", \"Topic4\", \"Topic4\", \"Topic4\", \"Topic4\", \"Topic4\", \"Topic4\", \"Topic4\", \"Topic4\", \"Topic4\", \"Topic4\", \"Topic4\", \"Topic4\", \"Topic4\", \"Topic4\", \"Topic4\", \"Topic4\", \"Topic4\", \"Topic4\", \"Topic4\", \"Topic4\", \"Topic4\", \"Topic4\", \"Topic4\", \"Topic4\", \"Topic4\", \"Topic4\", \"Topic4\", \"Topic4\", \"Topic4\", \"Topic4\", \"Topic4\", \"Topic4\", \"Topic4\", \"Topic4\", \"Topic4\", \"Topic4\", \"Topic4\", \"Topic4\", \"Topic4\", \"Topic4\", \"Topic4\", \"Topic4\", \"Topic4\", \"Topic4\", \"Topic4\", \"Topic5\", \"Topic5\", \"Topic5\", \"Topic5\", \"Topic5\", \"Topic5\", \"Topic5\", \"Topic5\", \"Topic5\", \"Topic5\", \"Topic5\", \"Topic5\", \"Topic5\", \"Topic5\", \"Topic5\", \"Topic5\", \"Topic5\", \"Topic5\", \"Topic5\", \"Topic5\", \"Topic5\", \"Topic5\", \"Topic5\", \"Topic5\", \"Topic5\", \"Topic5\", \"Topic5\", \"Topic5\", \"Topic5\", \"Topic5\", \"Topic5\", \"Topic5\", \"Topic5\", \"Topic5\", \"Topic5\", \"Topic5\", \"Topic5\", \"Topic5\", \"Topic5\", \"Topic5\", \"Topic5\", \"Topic5\", \"Topic5\", \"Topic5\", \"Topic6\", \"Topic6\", \"Topic6\", \"Topic6\", \"Topic6\", \"Topic6\", \"Topic6\", \"Topic6\", \"Topic6\", \"Topic6\", \"Topic6\", \"Topic6\", \"Topic6\", \"Topic6\", \"Topic6\", \"Topic6\", \"Topic6\", \"Topic6\", \"Topic6\", \"Topic6\", \"Topic6\", \"Topic6\", \"Topic6\", \"Topic6\", \"Topic6\", \"Topic6\", \"Topic6\", \"Topic6\", \"Topic6\", \"Topic6\", \"Topic6\", \"Topic6\", \"Topic6\", \"Topic6\", \"Topic6\", \"Topic6\", \"Topic6\", \"Topic6\", \"Topic6\", \"Topic6\", \"Topic6\", \"Topic6\", \"Topic6\", \"Topic7\", \"Topic7\", \"Topic7\", \"Topic7\", \"Topic7\", \"Topic7\", \"Topic7\", \"Topic7\", \"Topic7\", \"Topic7\", \"Topic7\", \"Topic7\", \"Topic7\", \"Topic7\", \"Topic7\", \"Topic7\", \"Topic7\", \"Topic7\", \"Topic7\", \"Topic7\", \"Topic7\", \"Topic7\", \"Topic7\", \"Topic7\", \"Topic7\", \"Topic7\", \"Topic7\", \"Topic7\", \"Topic7\", \"Topic7\", \"Topic8\", \"Topic8\", \"Topic8\", \"Topic8\", \"Topic8\", \"Topic8\", \"Topic8\", \"Topic8\", \"Topic8\", \"Topic8\", \"Topic8\", \"Topic8\", \"Topic8\", \"Topic8\", \"Topic8\", \"Topic8\", \"Topic8\", \"Topic8\", \"Topic8\", \"Topic8\", \"Topic8\", \"Topic8\", \"Topic8\", \"Topic8\", \"Topic8\", \"Topic8\", \"Topic8\", \"Topic8\", \"Topic8\", \"Topic8\", \"Topic8\", \"Topic8\", \"Topic8\", \"Topic8\", \"Topic8\", \"Topic8\", \"Topic8\", \"Topic8\", \"Topic8\", \"Topic8\", \"Topic8\", \"Topic8\", \"Topic8\", \"Topic8\", \"Topic8\", \"Topic8\", \"Topic8\", \"Topic8\", \"Topic8\", \"Topic9\", \"Topic9\", \"Topic9\", \"Topic9\", \"Topic9\", \"Topic9\", \"Topic9\", \"Topic9\", \"Topic9\", \"Topic9\", \"Topic9\", \"Topic9\", \"Topic9\", \"Topic9\", \"Topic9\", \"Topic9\", \"Topic9\", \"Topic9\", \"Topic9\", \"Topic9\", \"Topic9\", \"Topic9\", \"Topic9\", \"Topic9\", \"Topic9\", \"Topic9\", \"Topic9\", \"Topic9\", \"Topic9\", \"Topic9\", \"Topic9\", \"Topic9\", \"Topic9\", \"Topic9\", \"Topic9\", \"Topic9\", \"Topic9\", \"Topic9\", \"Topic9\", \"Topic9\", \"Topic9\", \"Topic9\", \"Topic9\", \"Topic9\", \"Topic9\", \"Topic9\", \"Topic9\", \"Topic10\", \"Topic10\", \"Topic10\", \"Topic10\", \"Topic10\", \"Topic10\", \"Topic10\", \"Topic10\", \"Topic10\", \"Topic10\", \"Topic10\", \"Topic10\", \"Topic10\", \"Topic10\", \"Topic10\", \"Topic10\", \"Topic10\", \"Topic10\", \"Topic10\", \"Topic10\", \"Topic10\", \"Topic10\", \"Topic10\", \"Topic10\", \"Topic10\", \"Topic10\", \"Topic10\", \"Topic10\", \"Topic10\", \"Topic10\", \"Topic10\", \"Topic10\", \"Topic10\", \"Topic10\", \"Topic10\", \"Topic10\", \"Topic10\", \"Topic10\", \"Topic10\", \"Topic10\", \"Topic10\", \"Topic10\", \"Topic10\", \"Topic10\", \"Topic10\", \"Topic10\", \"Topic11\", \"Topic11\", \"Topic11\", \"Topic11\", \"Topic11\", \"Topic11\", \"Topic11\", \"Topic11\", \"Topic11\", \"Topic11\", \"Topic11\", \"Topic11\", \"Topic11\", \"Topic11\", \"Topic11\", \"Topic11\", \"Topic11\", \"Topic11\", \"Topic11\", \"Topic11\", \"Topic11\", \"Topic11\", \"Topic11\", \"Topic11\", \"Topic11\", \"Topic11\", \"Topic11\", \"Topic11\", \"Topic11\", \"Topic11\", \"Topic11\", \"Topic11\", \"Topic11\", \"Topic11\", \"Topic12\", \"Topic12\", \"Topic12\", \"Topic12\", \"Topic12\", \"Topic12\", \"Topic12\", \"Topic12\", \"Topic12\", \"Topic12\", \"Topic12\", \"Topic12\", \"Topic12\", \"Topic12\", \"Topic12\", \"Topic12\", \"Topic12\", \"Topic12\", \"Topic12\", \"Topic12\", \"Topic12\", \"Topic12\", \"Topic12\", \"Topic12\", \"Topic12\", \"Topic12\", \"Topic12\", \"Topic12\", \"Topic12\", \"Topic12\", \"Topic12\", \"Topic12\", \"Topic12\", \"Topic13\", \"Topic13\", \"Topic13\", \"Topic13\", \"Topic13\", \"Topic13\", \"Topic13\", \"Topic13\", \"Topic13\", \"Topic13\", \"Topic13\", \"Topic13\", \"Topic13\", \"Topic13\", \"Topic13\", \"Topic13\", \"Topic13\", \"Topic13\", \"Topic13\", \"Topic13\", \"Topic13\", \"Topic13\", \"Topic13\", \"Topic13\", \"Topic13\", \"Topic13\", \"Topic13\", \"Topic13\", \"Topic13\", \"Topic13\", \"Topic13\", \"Topic13\", \"Topic13\", \"Topic13\", \"Topic13\", \"Topic13\", \"Topic13\", \"Topic13\", \"Topic13\", \"Topic13\", \"Topic13\", \"Topic14\", \"Topic14\", \"Topic14\", \"Topic14\", \"Topic14\", \"Topic14\", \"Topic14\", \"Topic14\", \"Topic14\", \"Topic14\", \"Topic14\", \"Topic14\", \"Topic14\", \"Topic14\", \"Topic14\", \"Topic14\", \"Topic14\", \"Topic14\", \"Topic14\", \"Topic14\", \"Topic14\", \"Topic14\", \"Topic14\", \"Topic14\", \"Topic14\", \"Topic14\", \"Topic14\", \"Topic14\", \"Topic14\", \"Topic14\", \"Topic14\", \"Topic14\", \"Topic14\", \"Topic14\", \"Topic14\", \"Topic14\", \"Topic14\", \"Topic14\", \"Topic14\", \"Topic14\", \"Topic14\", \"Topic14\", \"Topic14\", \"Topic15\", \"Topic15\", \"Topic15\", \"Topic15\", \"Topic15\", \"Topic15\", \"Topic15\", \"Topic15\", \"Topic15\", \"Topic15\", \"Topic15\", \"Topic15\", \"Topic15\", \"Topic15\", \"Topic15\", \"Topic15\", \"Topic15\", \"Topic15\", \"Topic15\", \"Topic15\", \"Topic15\", \"Topic15\", \"Topic15\", \"Topic15\", \"Topic15\", \"Topic15\", \"Topic15\", \"Topic15\", \"Topic15\", \"Topic15\", \"Topic15\", \"Topic15\", \"Topic15\", \"Topic15\", \"Topic15\", \"Topic15\", \"Topic15\", \"Topic15\", \"Topic15\", \"Topic15\", \"Topic15\", \"Topic15\", \"Topic15\", \"Topic15\", \"Topic15\", \"Topic15\", \"Topic15\", \"Topic15\", \"Topic15\", \"Topic15\", \"Topic16\", \"Topic16\", \"Topic16\", \"Topic16\", \"Topic16\", \"Topic16\", \"Topic16\", \"Topic16\", \"Topic16\", \"Topic16\", \"Topic16\", \"Topic16\", \"Topic16\", \"Topic16\", \"Topic16\", \"Topic16\", \"Topic16\", \"Topic16\", \"Topic16\", \"Topic16\", \"Topic16\", \"Topic16\", \"Topic16\", \"Topic16\", \"Topic16\", \"Topic16\", \"Topic16\", \"Topic16\", \"Topic16\", \"Topic16\", \"Topic16\", \"Topic17\", \"Topic17\", \"Topic17\", \"Topic17\", \"Topic17\", \"Topic17\", \"Topic17\", \"Topic17\", \"Topic17\", \"Topic17\", \"Topic17\", \"Topic17\", \"Topic17\", \"Topic17\", \"Topic17\", \"Topic17\", \"Topic17\", \"Topic17\", \"Topic17\", \"Topic17\", \"Topic17\", \"Topic17\", \"Topic17\", \"Topic17\", \"Topic17\", \"Topic17\", \"Topic17\", \"Topic17\", \"Topic17\", \"Topic17\", \"Topic17\", \"Topic17\", \"Topic17\", \"Topic17\", \"Topic17\", \"Topic17\", \"Topic18\", \"Topic18\", \"Topic18\", \"Topic18\", \"Topic18\", \"Topic18\", \"Topic18\", \"Topic18\", \"Topic18\", \"Topic18\", \"Topic18\", \"Topic18\", \"Topic18\", \"Topic18\", \"Topic18\", \"Topic18\", \"Topic18\", \"Topic18\", \"Topic18\", \"Topic18\", \"Topic18\", \"Topic18\", \"Topic18\", \"Topic18\", \"Topic18\", \"Topic18\", \"Topic18\", \"Topic18\", \"Topic18\", \"Topic18\", \"Topic18\", \"Topic18\", \"Topic18\", \"Topic18\", \"Topic18\", \"Topic18\", \"Topic18\", \"Topic18\", \"Topic18\", \"Topic19\", \"Topic19\", \"Topic19\", \"Topic19\", \"Topic19\", \"Topic19\", \"Topic19\", \"Topic19\", \"Topic19\", \"Topic19\", \"Topic19\", \"Topic19\", \"Topic19\", \"Topic19\", \"Topic19\", \"Topic19\", \"Topic19\", \"Topic19\", \"Topic19\", \"Topic19\", \"Topic19\", \"Topic19\", \"Topic19\", \"Topic19\", \"Topic19\", \"Topic19\", \"Topic19\", \"Topic19\", \"Topic19\", \"Topic19\", \"Topic19\", \"Topic19\", \"Topic19\", \"Topic19\", \"Topic19\", \"Topic19\", \"Topic19\", \"Topic20\", \"Topic20\", \"Topic20\", \"Topic20\", \"Topic20\", \"Topic20\", \"Topic20\", \"Topic20\", \"Topic20\", \"Topic20\", \"Topic20\", \"Topic20\", \"Topic20\", \"Topic20\", \"Topic20\", \"Topic20\", \"Topic20\", \"Topic20\", \"Topic20\", \"Topic20\", \"Topic20\", \"Topic20\", \"Topic20\", \"Topic20\", \"Topic20\", \"Topic20\", \"Topic20\", \"Topic20\", \"Topic20\", \"Topic20\", \"Topic20\"], \"Freq\": [50327.0, 18448.0, 16928.0, 22603.0, 4799.0, 14270.0, 10841.0, 14492.0, 6795.0, 6844.0, 17293.0, 6342.0, 4027.0, 5394.0, 2638.0, 8109.0, 11037.0, 3287.0, 2261.0, 9094.0, 5728.0, 3200.0, 10799.0, 3665.0, 1930.0, 2110.0, 3672.0, 4078.0, 4133.0, 2772.0, 22602.3046875, 14491.0439453125, 4940.59423828125, 4600.18505859375, 3191.29296875, 2264.58935546875, 2158.83349609375, 2268.27783203125, 2070.111083984375, 1948.0635986328125, 1905.848388671875, 1872.0157470703125, 1780.4801025390625, 1524.5108642578125, 1351.7371826171875, 1333.9788818359375, 1052.5101318359375, 1030.7027587890625, 1027.5025634765625, 950.6486206054688, 837.6629028320312, 790.46875, 702.0803833007812, 699.3551635742188, 664.8125610351562, 653.1088256835938, 637.4410400390625, 635.4985961914062, 602.817138671875, 594.40478515625, 10991.4697265625, 3481.399658203125, 2781.592041015625, 3189.2119140625, 2681.76025390625, 3823.407958984375, 1057.942138671875, 1590.8123779296875, 7837.81787109375, 7750.93701171875, 3798.56298828125, 2894.831787109375, 6109.59228515625, 15918.8857421875, 2049.6474609375, 5139.35107421875, 3904.138427734375, 2518.07177734375, 7550.51904296875, 7578.7587890625, 4398.20458984375, 6072.9384765625, 3862.537841796875, 4402.0078125, 4154.52490234375, 7396.0224609375, 8380.783203125, 3017.356201171875, 6931.2822265625, 5773.41015625, 3719.623779296875, 3503.644287109375, 6098.314453125, 3463.10302734375, 3950.814453125, 3663.01025390625, 2623.020263671875, 1738.2037353515625, 1142.17822265625, 1139.62890625, 934.985595703125, 833.1441650390625, 828.6039428710938, 775.294921875, 764.6913452148438, 762.4208984375, 753.3763427734375, 730.9213256835938, 716.64404296875, 667.49072265625, 626.2160034179688, 606.6490478515625, 596.6937866210938, 590.1155395507812, 578.9530639648438, 578.9529418945312, 569.8414306640625, 539.7609252929688, 539.6548461914062, 531.8949584960938, 529.5338745117188, 501.6842956542969, 491.4800720214844, 488.0948181152344, 478.44769287109375, 470.1125183105469, 1607.7628173828125, 1562.35546875, 1907.22998046875, 1119.340576171875, 1196.3572998046875, 2654.77978515625, 1506.731689453125, 635.4052734375, 781.8004150390625, 1024.140380859375, 1318.624755859375, 4237.7587890625, 985.9429931640625, 4610.90771484375, 1167.3382568359375, 2029.06396484375, 1758.1778564453125, 2397.8916015625, 1795.037841796875, 1409.1971435546875, 1085.692138671875, 3265.493408203125, 1421.0067138671875, 970.8713989257812, 1116.067138671875, 2360.356201171875, 1453.9720458984375, 2815.22216796875, 2078.52783203125, 1407.5084228515625, 1381.23388671875, 1267.1414794921875, 1176.8193359375, 1574.6513671875, 1292.273681640625, 1144.2359619140625, 6794.2314453125, 6341.16796875, 3310.790283203125, 1619.775146484375, 1467.2030029296875, 1058.8575439453125, 1037.9075927734375, 982.5303955078125, 878.1998901367188, 825.5120849609375, 754.9370727539062, 704.1795654296875, 699.5482177734375, 639.4352416992188, 637.5454711914062, 600.7040405273438, 528.7330932617188, 501.6362609863281, 491.3062438964844, 488.5333251953125, 471.3647155761719, 465.93133544921875, 407.17681884765625, 398.6921081542969, 386.3318786621094, 385.4392395019531, 1344.7833251953125, 6818.373046875, 340.7002258300781, 313.4310302734375, 2732.059814453125, 4031.483154296875, 1117.791259765625, 17353.650390625, 15871.474609375, 1103.65771484375, 1390.8331298828125, 640.6739501953125, 2735.693359375, 1256.42236328125, 981.2185668945312, 6889.23291015625, 1862.2508544921875, 7937.46533203125, 2295.399169921875, 2104.25537109375, 975.53076171875, 2137.431884765625, 1249.9432373046875, 1046.822265625, 2406.644287109375, 1680.641357421875, 1586.9232177734375, 1537.916259765625, 1090.10400390625, 1240.771240234375, 1373.81640625, 1232.027099609375, 1125.5294189453125, 1126.173583984375, 3664.6328125, 2850.3525390625, 2261.55810546875, 1379.891845703125, 1060.52197265625, 1051.4803466796875, 1040.9549560546875, 999.1419677734375, 899.9898071289062, 898.6749267578125, 896.386962890625, 780.0654296875, 639.9217529296875, 605.0770263671875, 589.6713256835938, 562.1445922851562, 545.6927490234375, 506.0550231933594, 501.63800048828125, 479.4433898925781, 471.9852600097656, 468.64862060546875, 434.0820617675781, 431.552978515625, 400.6777038574219, 385.03753662109375, 383.03778076171875, 377.46929931640625, 355.97589111328125, 348.7410888671875, 966.0506591796875, 1926.35693359375, 1399.18359375, 897.5413818359375, 1767.6168212890625, 1030.7926025390625, 2318.0, 2290.195068359375, 1317.036865234375, 863.6680297851562, 1002.3316040039062, 1119.9593505859375, 716.7975463867188, 809.1590576171875, 2112.848388671875, 2162.15380859375, 941.0484008789062, 1046.14453125, 778.3389282226562, 1399.5401611328125, 1057.93896484375, 909.9667358398438, 956.6138305664062, 919.9794311523438, 3199.0869140625, 1866.18310546875, 1273.04248046875, 928.2632446289062, 904.968017578125, 816.3922729492188, 809.812744140625, 715.4795532226562, 711.4171752929688, 660.66259765625, 624.3104858398438, 584.7640991210938, 515.960205078125, 511.2568054199219, 501.9541320800781, 489.2840270996094, 480.7957458496094, 461.4349670410156, 459.4107360839844, 449.7842712402344, 448.94793701171875, 418.3985290527344, 418.34478759765625, 394.53564453125, 384.68017578125, 351.2870788574219, 347.7823181152344, 342.9819641113281, 341.9707946777344, 340.4245910644531, 1160.7445068359375, 1142.564208984375, 2056.09228515625, 488.60797119140625, 662.3465576171875, 1087.97607421875, 1256.9573974609375, 903.8426513671875, 1152.1435546875, 763.85009765625, 497.076904296875, 664.0779418945312, 493.59356689453125, 506.05133056640625, 2771.140869140625, 2743.57080078125, 1931.115966796875, 1783.2022705078125, 1287.0982666015625, 843.7138671875, 829.10107421875, 759.4556884765625, 748.5363159179688, 674.56298828125, 661.8656616210938, 632.820556640625, 594.3444213867188, 552.0247192382812, 547.6123046875, 540.1417236328125, 536.29638671875, 455.45709228515625, 454.2161560058594, 446.068603515625, 441.0897521972656, 440.0965881347656, 416.1241149902344, 413.99334716796875, 412.5192565917969, 403.4525451660156, 403.06097412109375, 388.6956787109375, 385.1769714355469, 380.6705017089844, 707.1156005859375, 725.2890014648438, 2961.16552734375, 746.4003295898438, 974.0270385742188, 588.7648315429688, 895.6112670898438, 942.12353515625, 511.25372314453125, 514.8414916992188, 585.9871215820312, 541.0946044921875, 670.8796997070312, 50325.80859375, 4026.333984375, 1080.15673828125, 1046.3175048828125, 843.1361083984375, 480.08203125, 427.7411193847656, 426.5712585449219, 399.416748046875, 385.65313720703125, 373.762451171875, 332.849609375, 322.3998718261719, 313.95941162109375, 291.2548828125, 285.66259765625, 279.8975830078125, 254.93362426757812, 223.60369873046875, 218.05958557128906, 216.4795684814453, 182.29444885253906, 180.933837890625, 170.3595733642578, 167.5846710205078, 166.53684997558594, 163.54318237304688, 163.10089111328125, 162.6671905517578, 155.20790100097656, 1087.3846435546875, 974.221923828125, 960.2896118164062, 789.42578125, 742.0271606445312, 630.0408325195312, 587.8365478515625, 570.0037841796875, 511.927734375, 497.572265625, 493.9413757324219, 462.43328857421875, 461.8529968261719, 438.6995849609375, 416.94940185546875, 363.0890197753906, 349.2596435546875, 339.10076904296875, 338.9826354980469, 326.4690856933594, 309.2491455078125, 308.2508239746094, 307.3690490722656, 307.1763916015625, 297.9234924316406, 284.3780212402344, 269.874267578125, 266.0406188964844, 265.2396240234375, 245.45181274414062, 1220.8511962890625, 630.4232788085938, 1939.8026123046875, 392.5217590332031, 324.2137756347656, 550.498046875, 766.46435546875, 591.2239379882812, 2051.990478515625, 736.8275146484375, 600.3356323242188, 637.1611328125, 514.9030151367188, 614.2236938476562, 609.8707885742188, 1184.8775634765625, 576.0767822265625, 456.7337646484375, 447.5360412597656, 2109.468994140625, 745.7797241210938, 585.2448120117188, 561.9205322265625, 497.42626953125, 416.2054138183594, 338.4962158203125, 329.0547790527344, 326.1755065917969, 310.8623352050781, 264.0120849609375, 253.294921875, 240.44789123535156, 222.63580322265625, 202.8874969482422, 200.01431274414062, 198.74588012695312, 198.07376098632812, 197.66673278808594, 184.14088439941406, 172.15841674804688, 168.89474487304688, 162.53610229492188, 160.89906311035156, 160.32797241210938, 149.72410583496094, 140.1294708251953, 136.9322967529297, 133.24530029296875, 132.1484375, 345.41217041015625, 593.1430053710938, 461.8127746582031, 608.1009521484375, 232.2369842529297, 1148.6441650390625, 469.431884765625, 258.38543701171875, 295.3952941894531, 405.2916564941406, 279.3043518066406, 255.9145050048828, 243.02589416503906, 258.05224609375, 367.8348388671875, 391.8885803222656, 235.86997985839844, 1357.5823974609375, 949.9952392578125, 717.0924072265625, 690.9390258789062, 668.2674560546875, 512.3507690429688, 502.244140625, 437.42010498046875, 412.9442443847656, 366.7284851074219, 355.5075378417969, 347.74139404296875, 343.1611022949219, 340.86749267578125, 268.7903137207031, 248.55224609375, 248.26812744140625, 211.5939178466797, 206.0562744140625, 173.97789001464844, 159.08399963378906, 145.4557342529297, 132.51681518554688, 132.5053253173828, 111.80554962158203, 104.06816864013672, 98.89832305908203, 96.5292739868164, 95.58773040771484, 87.77294921875, 475.58447265625, 786.12744140625, 1109.3074951171875, 1261.9921875, 2138.0712890625, 559.06982421875, 168.8756866455078, 646.5325927734375, 424.5229797363281, 545.5502319335938, 534.8515625, 333.6814880371094, 333.0169982910156, 419.5242614746094, 292.5234680175781, 260.1933898925781, 1929.5677490234375, 813.6531372070312, 538.9240112304688, 486.017578125, 443.9487609863281, 425.7538757324219, 410.4847412109375, 398.168701171875, 348.5462646484375, 280.1076354980469, 273.9500427246094, 219.45895385742188, 217.3791961669922, 208.46743774414062, 193.1273193359375, 182.23301696777344, 179.1383819580078, 174.58547973632812, 167.19940185546875, 163.85177612304688, 155.06137084960938, 145.76536560058594, 143.06199645996094, 137.57614135742188, 134.5259246826172, 134.12118530273438, 131.62803649902344, 127.16596984863281, 125.6905746459961, 123.12957000732422, 267.1545715332031, 511.8518981933594, 151.62637329101562, 149.0787353515625, 872.4122314453125, 492.1906433105469, 490.5659484863281, 458.9632263183594, 380.81640625, 368.97796630859375, 356.48199462890625, 356.2428894042969, 345.7881774902344, 319.1729736328125, 311.6421813964844, 289.6661376953125, 288.7417907714844, 275.9360046386719, 253.96847534179688, 249.89862060546875, 247.51522827148438, 233.88925170898438, 220.99102783203125, 217.61085510253906, 210.37001037597656, 191.61976623535156, 184.0547637939453, 178.17196655273438, 165.2360382080078, 165.15179443359375, 160.38145446777344, 146.776611328125, 125.36134338378906, 122.47648620605469, 312.61273193359375, 258.38104248046875, 158.6225128173828, 2637.52880859375, 782.6094360351562, 759.6082763671875, 347.4691162109375, 341.5569152832031, 302.24041748046875, 237.16732788085938, 222.3147735595703, 188.14498901367188, 160.18118286132812, 155.71566772460938, 155.0299835205078, 149.0618133544922, 122.53972625732422, 119.8067855834961, 114.05801391601562, 112.4681625366211, 102.25983428955078, 97.24047088623047, 96.55309295654297, 91.48047637939453, 78.40283203125, 65.70919799804688, 55.83463668823242, 52.677181243896484, 50.66512680053711, 36.765045166015625, 34.818180084228516, 28.465866088867188, 21.157649993896484, 267.9136657714844, 1122.59912109375, 637.6190795898438, 276.3201599121094, 140.31199645996094, 246.29183959960938, 247.07012939453125, 343.4820556640625, 199.68003845214844, 131.70016479492188, 124.58876037597656, 906.6948852539062, 565.3294677734375, 461.8621826171875, 359.62017822265625, 253.95703125, 231.48194885253906, 219.00344848632812, 215.886474609375, 185.57627868652344, 179.31544494628906, 179.02708435058594, 163.64002990722656, 124.364013671875, 111.38908386230469, 107.22102355957031, 103.46403503417969, 81.90924072265625, 80.18273162841797, 70.57642364501953, 68.5087890625, 67.14833068847656, 67.07101440429688, 65.68311309814453, 65.63385772705078, 65.58563995361328, 65.51060485839844, 65.51060485839844, 65.51060485839844, 65.51060485839844, 62.66441345214844, 691.8011474609375, 311.2529296875, 144.6242218017578, 154.09866333007812, 192.5419158935547, 98.16638946533203, 103.25665283203125, 125.42575073242188, 111.36595153808594, 109.42891693115234, 94.39710235595703, 156.1443328857422, 104.21560668945312, 1123.66552734375, 714.5070190429688, 479.5452575683594, 313.5611572265625, 289.4299621582031, 272.85107421875, 245.5820770263672, 188.08619689941406, 124.70245361328125, 108.23615264892578, 107.9548110961914, 103.08057403564453, 102.3778305053711, 98.95609283447266, 92.5904312133789, 86.84204864501953, 80.68011474609375, 74.27982330322266, 72.19567108154297, 70.10438537597656, 63.83552551269531, 59.36006546020508, 53.3173713684082, 50.781822204589844, 44.40810012817383, 41.98555374145508, 40.5924186706543, 38.428279876708984, 38.07680892944336, 35.126182556152344, 660.521484375, 352.5345764160156, 468.1705627441406, 258.7592468261719, 151.55581665039062, 371.24444580078125, 340.4268798828125, 446.4233703613281, 286.0450134277344, 114.73983764648438, 465.25732421875, 234.27967834472656, 143.0386505126953, 134.6623077392578, 177.76181030273438, 143.84585571289062, 157.50233459472656, 143.51698303222656, 122.3244857788086, 128.03988647460938, 4797.88720703125, 337.304443359375, 243.342529296875, 214.97813415527344, 180.22315979003906, 165.4727325439453, 160.21673583984375, 146.79067993164062, 143.5475616455078, 99.9842758178711, 92.0979232788086, 72.00511932373047, 64.6375732421875, 61.44430923461914, 59.89994430541992, 57.19350814819336, 45.76002883911133, 41.79288864135742, 33.68037033081055, 30.997989654541016, 29.332380294799805, 21.202072143554688, 9.297775268554688, 2.577420473098755, 184.1230010986328, 0.07144863158464432, 0.07126940041780472, 0.07111948728561401, 0.07106509059667587, 0.07105519622564316, 35.2901725769043, 809.9638671875, 682.153564453125, 575.5818481445312, 540.3740234375, 461.8987121582031, 337.3688049316406, 233.80642700195312, 233.11700439453125, 167.3076171875, 167.19012451171875, 162.58645629882812, 158.63885498046875, 149.17347717285156, 141.22447204589844, 130.0124969482422, 124.26900482177734, 121.17425537109375, 120.09476470947266, 89.2756118774414, 78.66226959228516, 78.4549331665039, 54.984954833984375, 54.01011276245117, 48.08787155151367, 45.94982147216797, 45.38455581665039, 43.9183464050293, 40.33855056762695, 39.629364013671875, 39.47343444824219, 696.681640625, 214.74334716796875, 93.15424346923828, 187.22386169433594, 107.49026489257812, 53.14429473876953, 2259.732666015625, 977.6355590820312, 431.5034484863281, 341.1244201660156, 206.16964721679688, 186.60853576660156, 180.9407196044922, 170.11912536621094, 158.68748474121094, 148.02639770507812, 86.38566589355469, 84.04242706298828, 82.71241760253906, 71.38801574707031, 45.14177322387695, 44.75377655029297, 44.52129364013672, 43.225093841552734, 31.136327743530273, 30.72893714904785, 29.19892120361328, 28.361591339111328, 28.07872772216797, 22.62459945678711, 20.02998924255371, 19.976909637451172, 16.746963500976562, 11.592885971069336, 8.675357818603516, 7.344094753265381, 379.6206359863281, 85.54814910888672, 135.3177490234375, 127.84427642822266, 51.21381759643555, 122.17569732666016, 65.85386657714844, 40.498409271240234, 32.000526428222656, 1053.8416748046875, 471.1380310058594, 462.8979797363281, 258.28179931640625, 230.53526306152344, 185.72308349609375, 169.87057495117188, 168.84335327148438, 167.99871826171875, 167.48851013183594, 141.86260986328125, 132.8704833984375, 123.1356201171875, 122.16317749023438, 115.01082611083984, 106.78471374511719, 104.82587432861328, 103.63099670410156, 99.7667465209961, 95.86798095703125, 86.96871948242188, 79.52778625488281, 77.55950164794922, 65.5733642578125, 63.219173431396484, 62.334007263183594, 60.91035079956055, 58.56040954589844, 54.707950592041016, 52.8088264465332, 323.7908935546875, 329.0640869140625, 251.19837951660156, 92.71952819824219, 109.56181335449219, 68.70387268066406, 66.60110473632812, 191.61627197265625, 178.68165588378906, 148.3717803955078, 122.34010314941406, 90.74047088623047, 89.51885223388672, 88.71222686767578, 75.19424438476562, 66.218017578125, 63.611854553222656, 61.70163345336914, 57.46563720703125, 55.311920166015625, 50.22458267211914, 43.18537902832031, 40.35795593261719, 39.63176727294922, 34.85780715942383, 33.592323303222656, 32.97047805786133, 29.71546745300293, 27.444955825805664, 27.195022583007812, 25.55498695373535, 16.159406661987305, 14.086395263671875, 13.935490608215332, 13.21536922454834, 12.313876152038574, 12.172274589538574, 12.464853286743164], \"Term\": [\"ax\", \"line\", \"organization\", \"not\", \"_\", \"write\", \"article\", \"do\", \"nntp_post\", \"university\", \"would\", \"host\", \"max\", \"year\", \"window\", \"people\", \"be\", \"drive\", \"file\", \"say\", \"system\", \"key\", \"get\", \"god\", \"space\", \"car\", \"state\", \"reply\", \"right\", \"team\", \"not\", \"do\", \"take\", \"s\", \"really\", \"let\", \"little\", \"bad\", \"put\", \"happen\", \"will\", \"gun\", \"enough\", \"maybe\", \"remember\", \"that\", \"everything\", \"there\", \"guess\", \"pretty\", \"anyway\", \"protect\", \"job\", \"newsgroup\", \"what\", \"self\", \"exactly\", \"forget\", \"police\", \"worth\", \"be\", \"tell\", \"still\", \"something\", \"sure\", \"have\", \"face\", \"actually\", \"go\", \"think\", \"much\", \"back\", \"see\", \"would\", \"lot\", \"could\", \"well\", \"never\", \"good\", \"make\", \"thing\", \"time\", \"even\", \"come\", \"way\", \"know\", \"get\", \"seem\", \"say\", \"people\", \"want\", \"give\", \"write\", \"try\", \"article\", \"may\", \"include\", \"available\", \"current\", \"patient\", \"contain\", \"faq\", \"function\", \"input\", \"package\", \"wire\", \"publish\", \"dept\", \"method\", \"option\", \"technical\", \"associate\", \"disease\", \"unit\", \"digital\", \"library\", \"health\", \"scientific\", \"visit\", \"material\", \"serial_number\", \"signal\", \"external\", \"treatment\", \"site\", \"transfer\", \"type\", \"datum\", \"source\", \"advance\", \"sound\", \"program\", \"build\", \"detail\", \"page\", \"add\", \"require\", \"system\", \"design\", \"use\", \"code\", \"information\", \"set\", \"number\", \"high\", \"list\", \"low\", \"also\", \"base\", \"reference\", \"copy\", \"new\", \"support\", \"may\", \"work\", \"send\", \"follow\", \"provide\", \"report\", \"need\", \"call\", \"bit\", \"nntp_post\", \"host\", \"thank\", \"com\", \"email\", \"interested\", \"ca\", \"fax\", \"pin\", \"appreciate\", \"computer_science\", \"steve\", \"distribution\", \"originator\", \"corporation\", \"algorithm\", \"apr\", \"robert\", \"corp\", \"clipper_chip\", \"rsa\", \"illinois\", \"law_enforcement\", \"processor\", \"ms\", \"announcement\", \"usa\", \"university\", \"route\", \"crash\", \"mail\", \"reply\", \"distribution_usa\", \"line\", \"organization\", \"keyword\", \"distribution_world\", \"engineering\", \"anyone\", \"inc\", \"david\", \"article\", \"computer\", \"write\", \"post\", \"help\", \"phone\", \"need\", \"message\", \"address\", \"get\", \"new\", \"look\", \"know\", \"buy\", \"question\", \"would\", \"use\", \"problem\", \"want\", \"god\", \"evidence\", \"christian\", \"faith\", \"physical\", \"bible\", \"religion\", \"argument\", \"truth\", \"belief\", \"atheist\", \"human\", \"conclusion\", \"religious\", \"christianity\", \"reality\", \"christ\", \"shall\", \"logic\", \"revelation\", \"nature\", \"therefore\", \"moral\", \"direct\", \"son\", \"father\", \"atheism\", \"mother\", \"universe\", \"interpretation\", \"accept\", \"claim\", \"child\", \"prove\", \"man\", \"death\", \"reason\", \"believe\", \"exist\", \"love\", \"word\", \"life\", \"sense\", \"act\", \"people\", \"say\", \"true\", \"fact\", \"view\", \"may\", \"many\", \"book\", \"question\", \"mean\", \"key\", \"public\", \"american\", \"security\", \"encryption\", \"president\", \"drug\", \"private\", \"clipper\", \"review\", \"tap\", \"share\", \"tax\", \"license\", \"legal\", \"clinton\", \"agency\", \"america\", \"operate\", \"pgp\", \"tool\", \"freedom\", \"market\", \"usenet\", \"newsreader_tin\", \"should\", \"protection\", \"propose\", \"federal\", \"congress\", \"internet\", \"national\", \"government\", \"steal\", \"interest\", \"news\", \"issue\", \"chip\", \"group\", \"technology\", \"citizen\", \"message\", \"release\", \"access\", \"team\", \"game\", \"win\", \"play\", \"player\", \"division\", \"fan\", \"hit\", \"canada\", \"brain\", \"score\", \"wing\", \"nhl\", \"dave\", \"star\", \"chicago\", \"boston\", \"baseball\", \"texas\", \"michael\", \"blue\", \"boy\", \"richard\", \"night\", \"vote\", \"van\", \"tom\", \"club\", \"smith\", \"rational\", \"goal\", \"new_york\", \"year\", \"lose\", \"last\", \"april\", \"run\", \"first\", \"pick\", \"young\", \"next\", \"home\", \"good\", \"ax\", \"max\", \"scott\", \"motif\", \"pen\", \"draft\", \"honda\", \"connector\", \"koresh\", \"penguin\", \"leafs\", \"dale\", \"cr\", \"packet\", \"film\", \"jet_propulsion\", \"cluster\", \"sgi\", \"batf\", \"plot\", \"meter\", \"lemieux\", \"atf\", \"jone\", \"dirt\", \"out\", \"harry\", \"idaho\", \"tavare\", \"log\", \"speak\", \"church\", \"sens\", \"body\", \"field\", \"community\", \"weapon\", \"firearm\", \"lord\", \"refer\", \"meet\", \"proof\", \"united_state\", \"mass\", \"count\", \"disagree\", \"plane\", \"blank\", \"aware\", \"procedure\", \"dangerous\", \"militia\", \"imply\", \"topic\", \"prior\", \"planet\", \"minority\", \"cross\", \"target\", \"strip\", \"rule\", \"house\", \"law\", \"arm\", \"bother\", \"picture\", \"member\", \"bill\", \"state\", \"city\", \"better\", \"carry\", \"authority\", \"black\", \"appear\", \"right\", \"force\", \"define\", \"apply\", \"car\", \"season\", \"mount\", \"engine\", \"internal\", \"recommend\", \"tim\", \"door\", \"stick\", \"northern\", \"auto\", \"ltd\", \"red\", \"bank\", \"production\", \"spring\", \"noise\", \"imho\", \"floor\", \"uunet\", \"gear\", \"truck\", \"highway\", \"minnesota\", \"rat\", \"japanese\", \"motor\", \"mess\", \"replacement\", \"shop\", \"mile\", \"cheap\", \"road\", \"model\", \"saturn\", \"drive\", \"light\", \"vehicle\", \"radio\", \"speed\", \"front\", \"track\", \"foot\", \"store\", \"price\", \"buy\", \"fast\", \"mac\", \"cpu\", \"disk\", \"scsi\", \"pc\", \"apple\", \"controller\", \"motherboard\", \"port\", \"ibm\", \"printer\", \"upgrade\", \"ram\", \"interface\", \"ide\", \"nec\", \"isa\", \"clock\", \"quadra\", \"floppy\", \"motorola\", \"finland\", \"daniel\", \"depth\", \"ide_vs\", \"simms\", \"suck\", \"installation\", \"adapter\", \"philip\", \"bus\", \"memory\", \"driver\", \"card\", \"drive\", \"mode\", \"mb\", \"chip\", \"speed\", \"machine\", \"bit\", \"hardware\", \"software\", \"system\", \"problem\", \"fast\", \"space\", \"graphic\", \"format\", \"launch\", \"moon\", \"mission\", \"orbit\", \"nasa\", \"satellite\", \"consult\", \"flight\", \"band\", \"shuttle\", \"spec\", \"sky\", \"weekend\", \"please_respond\", \"gov\", \"virginia\", \"panel\", \"dr\", \"related\", \"solar\", \"space_station\", \"space_shuttle\", \"stereo\", \"purdue_university\", \"japan\", \"ozone\", \"tip\", \"rocket\", \"earth\", \"russia\", \"science\", \"bike\", \"eat\", \"kid\", \"air\", \"dod\", \"doctor\", \"insurance\", \"hot\", \"gift\", \"worry\", \"pat\", \"brown\", \"cycle\", \"cap\", \"water\", \"improve\", \"ticket\", \"oil\", \"ok\", \"cold\", \"roger\", \"martin\", \"cylinder\", \"jr\", \"spot\", \"wayne\", \"venus\", \"diet\", \"netcom\", \"tire\", \"ride\", \"cool\", \"girl\", \"window\", \"display\", \"server\", \"directory\", \"font\", \"cub\", \"california_institute\", \"microsoft\", \"spacecraft\", \"menu\", \"enable\", \"caltech\", \"pixel\", \"schneider\", \"exe\", \"jon_livesey\", \"jpeg\", \"keith_allan\", \"thanx\", \"click\", \"vms_vnews\", \"row\", \"ralph\", \"ms_window\", \"mapping\", \"compiler\", \"borland\", \"host_punisher\", \"ann_arbor\", \"console\", \"motto\", \"image\", \"screen\", \"object\", \"map\", \"application\", \"version\", \"run\", \"program\", \"release\", \"user\", \"armenian\", \"turk\", \"turkish\", \"turkey\", \"gif\", \"serdar_argic\", \"armenia\", \"closed\", \"massacre\", \"genocide\", \"moslem\", \"soviet\", \"kurd\", \"vol\", \"jim_frost\", \"republic\", \"soviet_armenia\", \"survivor\", \"square\", \"longer_exist\", \"bmp\", \"remainder\", \"might_serve\", \"mountain_pass\", \"single_turkish\", \"extermination_ohanus\", \"appressian\", \"soul_sahak\", \"melkonian\", \"province\", \"greek\", \"russian\", \"slaughter\", \"escape\", \"government\", \"girl\", \"destroy\", \"today\", \"soldier\", \"road\", \"population\", \"people\", \"history\", \"israel\", \"israeli\", \"arab\", \"bomb\", \"withdraw\", \"occupy\", \"civilian\", \"sea\", \"territory\", \"render\", \"proud\", \"disarm\", \"wwii\", \"jerusalem\", \"holocaust\", \"river\", \"expose\", \"bullet\", \"discount\", \"sue\", \"winter\", \"enemy\", \"columbia\", \"desert\", \"fighter\", \"hp\", \"fighting\", \"farmer\", \"invade\", \"plo\", \"war\", \"village\", \"soldier\", \"terrorism\", \"inhabitant\", \"jew\", \"jewish\", \"attack\", \"land\", \"troop\", \"kill\", \"murder\", \"aim\", \"peace\", \"force\", \"military\", \"area\", \"control\", \"center\", \"state\", \"_\", \"mar\", \"mu\", \"km\", \"lunar\", \"sx\", \"radius\", \"mo\", \"fi\", \"jpl\", \"mg\", \"television\", \"asteroid\", \"retract\", \"theodore_kaldis\", \"explode\", \"soviet_union\", \"col\", \"aug\", \"infinity\", \"atm\", \"lunar_orbit\", \"circumference\", \"gravity_assist\", \"mr\", \"cx\", \"c\", \"rlk\", \"ck\", \"chz\", \"st\", \"color\", \"video\", \"monitor\", \"scan\", \"mouse\", \"mhz\", \"mirror\", \"battery\", \"probe\", \"configuration\", \"power_supply\", \"default\", \"mph\", \"meg\", \"ps\", \"sony\", \"reflect\", \"please\", \"dare\", \"catalog\", \"download\", \"disable\", \"peripheral\", \"adjust\", \"smartdrv\", \"tech_support\", \"cord\", \"cooling_tower\", \"priority\", \"minimal\", \"test\", \"convert\", \"capture\", \"screen\", \"resolution\", \"picture\", \"file\", \"entry\", \"telnet\", \"ftp\", \"button\", \"widget\", \"nt\", \"utility\", \"terminal\", \"trivial\", \"norway\", \"yale\", \"parameter\", \"diameter\", \"xview\", \"ini\", \"australian\", \"der\", \"interactive\", \"submission\", \"node\", \"script\", \"academy\", \"callback\", \"cubic\", \"sydney\", \"ncd\", \"optimize\", \"canberra\", \"simplistic\", \"unix\", \"edit\", \"archive\", \"mit\", \"requirement\", \"program\", \"section\", \"internet\", \"text\", \"sale\", \"tape\", \"character\", \"chris\", \"rider\", \"jason\", \"decent\", \"super\", \"duo\", \"bug\", \"electrical\", \"public_access\", \"speaker\", \"sam\", \"forsale\", \"programmer\", \"cbr\", \"hewlett_packard\", \"new_zealand\", \"recommendation\", \"macintosh\", \"delaware\", \"colorado_boulder\", \"jonathan\", \"admin\", \"cod\", \"brand_new\", \"operator\", \"toyota\", \"harley\", \"sell\", \"price\", \"offer\", \"warn\", \"unix\", \"purchase\", \"condition\", \"gateway\", \"michigan\", \"session\", \"astronomy\", \"implementation\", \"warrant\", \"approve\", \"staff\", \"extension\", \"planetary\", \"telescope\", \"expire\", \"senate\", \"tour\", \"frequently_ask\", \"navy\", \"orbital\", \"login\", \"participation\", \"supersede\", \"centaur\", \"openwindow\", \"press_release\", \"substantially\", \"naval\", \"personnel\", \"jon_leech\", \"cancel\", \"host_mahler\", \"qwk\", \"approval\"], \"Total\": [50327.0, 18448.0, 16928.0, 22603.0, 4799.0, 14270.0, 10841.0, 14492.0, 6795.0, 6844.0, 17293.0, 6342.0, 4027.0, 5394.0, 2638.0, 8109.0, 11037.0, 3287.0, 2261.0, 9094.0, 5728.0, 3200.0, 10799.0, 3665.0, 1930.0, 2110.0, 3672.0, 4078.0, 4133.0, 2772.0, 22603.615234375, 14492.3603515625, 4941.9150390625, 4601.49951171875, 3192.606689453125, 2265.903076171875, 2160.147216796875, 2269.699462890625, 2071.4248046875, 1949.3779296875, 1907.1627197265625, 1873.330078125, 1781.79443359375, 1525.8251953125, 1353.051513671875, 1335.293212890625, 1053.824462890625, 1032.01708984375, 1028.81689453125, 951.962646484375, 838.9769287109375, 791.7827758789062, 703.3944091796875, 700.669189453125, 666.1266479492188, 654.4228515625, 638.7550659179688, 636.8126220703125, 604.1311645507812, 595.7196044921875, 11037.751953125, 3519.710205078125, 2812.2685546875, 3230.384033203125, 2717.174560546875, 3893.009521484375, 1063.7943115234375, 1606.4349365234375, 8085.45654296875, 8042.986328125, 3899.943115234375, 2964.88525390625, 6389.19482421875, 17293.939453125, 2094.4228515625, 5406.70703125, 4116.95458984375, 2617.745849609375, 8552.087890625, 8651.3447265625, 4801.1962890625, 7073.42041015625, 4250.9912109375, 4946.60205078125, 4644.10498046875, 9118.365234375, 10799.8828125, 3221.328369140625, 9094.6904296875, 8109.69921875, 4847.0380859375, 4351.28271484375, 14270.5751953125, 4405.24853515625, 10841.2900390625, 8007.09375, 2624.328857421875, 1739.5128173828125, 1143.4873046875, 1140.93798828125, 936.2943725585938, 834.4529418945312, 829.9127197265625, 776.6036987304688, 766.0001220703125, 763.7296752929688, 754.6851196289062, 732.2301025390625, 717.9532470703125, 668.7994995117188, 627.5247802734375, 607.9578247070312, 598.0025634765625, 591.42431640625, 580.2618408203125, 580.26171875, 571.1502075195312, 541.0697021484375, 540.963623046875, 533.2037353515625, 530.8426513671875, 502.9930725097656, 492.7888488769531, 489.4035949707031, 479.7564697265625, 471.4212951660156, 1623.9791259765625, 1624.989013671875, 2015.154052734375, 1160.3189697265625, 1251.9163818359375, 2977.810791015625, 1637.8865966796875, 645.9854736328125, 817.415771484375, 1110.9375, 1488.282470703125, 5728.4658203125, 1070.398193359375, 6473.32470703125, 1307.43115234375, 2560.220703125, 2257.650146484375, 3369.35009765625, 2379.319091796875, 1792.4603271484375, 1264.5147705078125, 6274.3125, 1883.7781982421875, 1088.7637939453125, 1354.8834228515625, 4512.66455078125, 2084.40673828125, 8007.09375, 5189.1220703125, 2272.9189453125, 2334.032958984375, 2073.860107421875, 1642.794189453125, 4903.099609375, 3338.863037109375, 2180.013916015625, 6795.546875, 6342.4833984375, 3312.105712890625, 1621.091064453125, 1468.5189208984375, 1060.1734619140625, 1039.2235107421875, 983.8460083007812, 879.5155029296875, 826.8276977539062, 756.252685546875, 705.4951782226562, 700.8638305664062, 640.7508544921875, 638.861083984375, 602.0196533203125, 530.0487060546875, 502.951904296875, 492.62188720703125, 489.8489685058594, 472.68035888671875, 467.2469787597656, 408.4924621582031, 400.00775146484375, 387.64752197265625, 386.7548828125, 1349.8394775390625, 6844.0439453125, 342.015869140625, 314.7466735839844, 2743.662353515625, 4078.02490234375, 1125.377197265625, 18448.33203125, 16928.939453125, 1122.138671875, 1456.840087890625, 653.6449584960938, 3116.073974609375, 1411.097412109375, 1089.14697265625, 10841.2900390625, 2362.771728515625, 14270.5751953125, 3291.51123046875, 3016.732666015625, 1166.9161376953125, 4903.099609375, 1915.2608642578125, 1417.9832763671875, 10799.8828125, 4512.66455078125, 4310.35546875, 9118.365234375, 1738.9276123046875, 3598.456298828125, 17293.939453125, 6473.32470703125, 4252.626953125, 4847.0380859375, 3665.958740234375, 2851.678466796875, 2262.884033203125, 1381.21826171875, 1061.848388671875, 1052.8067626953125, 1042.2813720703125, 1000.4681396484375, 901.3159790039062, 900.0010986328125, 897.713134765625, 781.3916015625, 641.2479248046875, 606.4031982421875, 590.9974975585938, 563.4707641601562, 547.0189208984375, 507.3811340332031, 502.964111328125, 480.7695007324219, 473.3113708496094, 469.9747314453125, 435.4081726074219, 432.87908935546875, 402.0038146972656, 386.3636474609375, 384.3638916015625, 378.79541015625, 357.302001953125, 350.06719970703125, 979.11865234375, 1998.1600341796875, 1458.283935546875, 945.7516479492188, 2173.3212890625, 1189.6463623046875, 3413.173583984375, 3431.4931640625, 1739.8150634765625, 1099.0860595703125, 1365.4046630859375, 1618.2503662109375, 907.1666259765625, 1137.3748779296875, 8109.69921875, 9094.6904296875, 1672.6429443359375, 2304.999267578125, 1135.416748046875, 8007.09375, 4115.556640625, 2048.80859375, 3598.456298828125, 3135.447998046875, 3200.399169921875, 1867.4959716796875, 1274.3553466796875, 929.5757446289062, 906.280517578125, 817.7047729492188, 811.125244140625, 716.7920532226562, 712.7296752929688, 661.97509765625, 625.6229858398438, 586.0765991210938, 517.272705078125, 512.5692749023438, 503.2665710449219, 490.5964660644531, 482.1081848144531, 462.7474060058594, 460.7231750488281, 451.0967102050781, 450.2603759765625, 419.7109680175781, 419.6572265625, 395.84808349609375, 385.99261474609375, 352.5995178222656, 349.0947570800781, 344.2944030761719, 343.2832336425781, 341.7370300292969, 1202.491455078125, 1208.1982421875, 2327.994384765625, 525.2239990234375, 758.4869384765625, 1642.1595458984375, 2020.0595703125, 1551.629150390625, 2940.200927734375, 1656.964111328125, 589.6343383789062, 1915.2608642578125, 647.4988403320312, 818.151123046875, 2772.450927734375, 2744.880859375, 1932.4266357421875, 1784.512939453125, 1288.408935546875, 845.0242309570312, 830.4114379882812, 760.7660522460938, 749.8466796875, 675.8733520507812, 663.176025390625, 634.1309204101562, 595.65478515625, 553.3350830078125, 548.9226684570312, 541.4520874023438, 537.6067504882812, 456.7674255371094, 455.5264892578125, 447.3789367675781, 442.40008544921875, 441.40692138671875, 417.4344482421875, 415.3036804199219, 413.82958984375, 404.76287841796875, 404.3713073730469, 390.0060119628906, 386.4873046875, 381.9808349609375, 736.9278564453125, 822.2220458984375, 5394.89404296875, 1393.489013671875, 2418.882568359375, 896.5465698242188, 3328.689453125, 4236.7109375, 757.8842163085938, 819.34912109375, 1703.5064697265625, 1361.5545654296875, 8552.087890625, 50327.05859375, 4027.587158203125, 1081.4102783203125, 1047.571044921875, 844.3895263671875, 481.3353576660156, 428.99444580078125, 427.8245849609375, 400.6700744628906, 386.9064636230469, 375.0157775878906, 334.1029357910156, 323.6531982421875, 315.2127380371094, 292.5082092285156, 286.9159240722656, 281.1509094238281, 256.1869812011719, 224.85704040527344, 219.31292724609375, 217.73291015625, 183.54779052734375, 182.1871795654297, 171.6129150390625, 168.8380126953125, 167.79019165039062, 164.79652404785156, 164.35423278808594, 163.9205322265625, 156.46124267578125, 1088.699462890625, 975.5365600585938, 961.604248046875, 790.7405395507812, 743.341796875, 631.35546875, 589.1511840820312, 571.3184204101562, 513.2423706054688, 498.8868408203125, 495.2559509277344, 463.74786376953125, 463.1675720214844, 440.01416015625, 418.26397705078125, 364.4035949707031, 350.57421875, 340.41534423828125, 340.2972106933594, 327.7836608886719, 310.563720703125, 309.5653991699219, 308.6836242675781, 308.490966796875, 299.2380676269531, 285.6925964355469, 271.1888427734375, 267.3551940917969, 266.55419921875, 246.7664031982422, 1259.8331298828125, 650.7471923828125, 2154.38037109375, 401.2178955078125, 329.4458312988281, 604.9013061523438, 923.4376831054688, 711.2210693359375, 3672.156005859375, 976.3811645507812, 785.6723022460938, 860.7965698242188, 645.43115234375, 868.6099853515625, 1004.272216796875, 4133.86279296875, 1085.895751953125, 607.2708740234375, 821.9852294921875, 2110.790283203125, 747.101318359375, 586.56640625, 563.2421264648438, 498.74786376953125, 417.5270080566406, 339.81781005859375, 330.3763732910156, 327.4971008300781, 312.1839294433594, 265.33367919921875, 254.61648559570312, 241.7694549560547, 223.95736694335938, 204.2090606689453, 201.33587646484375, 200.06744384765625, 199.39532470703125, 198.98829650878906, 185.4624481201172, 173.47998046875, 170.21630859375, 163.857666015625, 162.2206268310547, 161.6495361328125, 151.04566955566406, 141.45103454589844, 138.2538604736328, 134.56686401367188, 133.47000122070312, 378.0819091796875, 809.51953125, 681.3599243164062, 992.6796264648438, 290.235107421875, 3287.978271484375, 899.11865234375, 350.6578063964844, 455.587646484375, 831.0775146484375, 437.5793762207031, 387.7521667480469, 352.61358642578125, 426.0366516113281, 1341.634521484375, 1738.9276123046875, 830.6414794921875, 1358.9124755859375, 951.3251953125, 718.42236328125, 692.2689819335938, 669.597412109375, 513.6807250976562, 503.5741271972656, 438.7500915527344, 414.27423095703125, 368.0584716796875, 356.8375244140625, 349.0713806152344, 344.4910888671875, 342.1974792480469, 270.12030029296875, 249.88221740722656, 249.5980987548828, 212.92388916015625, 207.38624572753906, 175.307861328125, 160.41397094726562, 146.78570556640625, 133.84678649902344, 133.83529663085938, 113.13552856445312, 105.39814758300781, 100.22830200195312, 97.8592529296875, 96.91770935058594, 89.1029281616211, 503.6994323730469, 850.2595825195312, 1327.2249755859375, 1725.7305908203125, 3287.978271484375, 720.7412109375, 182.72679138183594, 1551.629150390625, 831.0775146484375, 1374.5098876953125, 2180.013916015625, 879.7728271484375, 1688.7452392578125, 5728.4658203125, 4252.626953125, 830.6414794921875, 1930.893310546875, 814.9786376953125, 540.24951171875, 487.3430480957031, 445.27423095703125, 427.079345703125, 411.8102111816406, 399.4941711425781, 349.8717346191406, 281.43310546875, 275.2755126953125, 220.784423828125, 218.7046661376953, 209.79290771484375, 194.45278930664062, 183.55848693847656, 180.46385192871094, 175.91094970703125, 168.52487182617188, 165.17724609375, 156.3868408203125, 147.09083557128906, 144.38746643066406, 138.901611328125, 135.8513946533203, 135.4466552734375, 132.95350646972656, 128.49143981933594, 127.01605224609375, 124.45504760742188, 275.44476318359375, 984.7640380859375, 215.37498474121094, 1242.7540283203125, 873.7334594726562, 493.5118408203125, 491.88714599609375, 460.284423828125, 382.1376037597656, 370.2991638183594, 357.8031921386719, 357.5640869140625, 347.109375, 320.4941711425781, 312.96337890625, 290.9873352050781, 290.06298828125, 277.2572021484375, 255.2896728515625, 251.21981811523438, 248.83642578125, 235.21044921875, 222.31222534179688, 218.9320526123047, 211.6912078857422, 192.9409637451172, 185.37596130371094, 179.4931640625, 166.55723571777344, 166.47299194335938, 161.70265197753906, 148.09780883789062, 126.68254852294922, 123.79769134521484, 333.18701171875, 597.8184814453125, 258.03369140625, 2638.848388671875, 783.9290161132812, 760.9278564453125, 348.7886047363281, 342.87640380859375, 303.5599060058594, 238.48681640625, 223.63426208496094, 189.4644775390625, 161.50067138671875, 157.03515625, 156.34947204589844, 150.3813018798828, 123.8592300415039, 121.12628936767578, 115.37751770019531, 113.78766632080078, 103.57933807373047, 98.55997467041016, 97.87259674072266, 92.79998016357422, 79.72233581542969, 67.02870178222656, 57.154136657714844, 53.996681213378906, 51.9846305847168, 38.08454895019531, 36.13768005371094, 29.78537368774414, 22.477157592773438, 289.6156921386719, 1236.1817626953125, 826.1068725585938, 523.7549438476562, 252.0097198486328, 991.5881958007812, 1243.35009765625, 3328.689453125, 2977.810791015625, 647.4988403320312, 1040.4803466796875, 908.0072021484375, 566.6417846679688, 463.1744384765625, 360.93243408203125, 255.26925659179688, 232.79417419433594, 220.315673828125, 217.19869995117188, 186.8885040283203, 180.62767028808594, 180.3393096923828, 164.95225524902344, 125.67625427246094, 112.70132446289062, 108.53326416015625, 104.77627563476562, 83.22148132324219, 81.4949722290039, 71.88866424560547, 69.82102966308594, 68.4605712890625, 68.38325500488281, 66.99535369873047, 66.94609832763672, 66.89788055419922, 66.82284545898438, 66.82284545898438, 66.82284545898438, 66.82284545898438, 63.97665023803711, 766.3140258789062, 348.2536315917969, 156.90621948242188, 205.3654327392578, 2327.994384765625, 258.03369140625, 391.5291748046875, 952.5244750976562, 580.7941284179688, 681.3599243164062, 371.9658508300781, 8109.69921875, 827.8892211914062, 1124.99951171875, 715.841064453125, 480.8792724609375, 314.8951721191406, 290.76397705078125, 274.1850891113281, 246.91607666015625, 189.42019653320312, 126.03646087646484, 109.57015991210938, 109.288818359375, 104.41458129882812, 103.71183776855469, 100.29010009765625, 93.9244384765625, 88.17605590820312, 82.01412200927734, 75.61383056640625, 73.52967834472656, 71.43839263916016, 65.1695327758789, 60.69407272338867, 54.6513786315918, 52.11582946777344, 45.74210739135742, 43.31956100463867, 41.92642593383789, 39.76228713989258, 39.41081619262695, 36.46018981933594, 721.2156372070312, 405.5909423828125, 580.7941284179688, 308.7213439941406, 173.7169952392578, 477.9057922363281, 495.0254821777344, 876.7085571289062, 488.3315734863281, 157.4813690185547, 1369.405029296875, 517.4271240234375, 238.66700744628906, 372.9903259277344, 1085.895751953125, 568.4743041992188, 1314.492431640625, 1293.384033203125, 1426.2493896484375, 3672.156005859375, 4799.205078125, 338.62225341796875, 244.6603546142578, 216.29595947265625, 181.54098510742188, 166.79055786132812, 161.53456115722656, 148.10850524902344, 144.86538696289062, 101.30209350585938, 93.41574096679688, 73.32293701171875, 65.95539093017578, 62.76213073730469, 61.2177619934082, 58.511329650878906, 47.077850341796875, 43.1107063293457, 34.998191833496094, 32.31581115722656, 30.650203704833984, 22.519895553588867, 10.61559772491455, 3.89524245262146, 538.6222534179688, 1.3893213272094727, 1.389121651649475, 1.3889789581298828, 1.388903021812439, 1.3888914585113525, 976.3364868164062, 811.296875, 683.486572265625, 576.9148559570312, 541.70703125, 463.23175048828125, 338.70184326171875, 235.13946533203125, 234.45004272460938, 168.64065551757812, 168.52316284179688, 163.91949462890625, 159.97189331054688, 150.5065155029297, 142.55751037597656, 131.3455352783203, 125.60203552246094, 122.50728607177734, 121.42779541015625, 90.608642578125, 79.99530029296875, 79.7879638671875, 56.31798553466797, 55.343143463134766, 49.420902252197266, 47.28285217285156, 46.717586517333984, 45.25137710571289, 41.67158126831055, 40.96239471435547, 40.80646514892578, 846.6404418945312, 320.32958984375, 165.1836700439453, 826.1068725585938, 281.65240478515625, 604.9013061523438, 2261.05712890625, 978.9599609375, 432.8278503417969, 342.4488220214844, 207.49404907226562, 187.9329376220703, 182.26512145996094, 171.4435272216797, 160.0118865966797, 149.35079956054688, 87.7100601196289, 85.3668212890625, 84.03681182861328, 72.71240997314453, 46.4661750793457, 46.07817840576172, 45.84569549560547, 44.549495697021484, 32.46072769165039, 32.05333709716797, 30.5233211517334, 29.685991287231445, 29.403127670288086, 23.948999404907227, 21.354389190673828, 21.30130958557129, 18.07136344909668, 12.917285919189453, 9.999757766723633, 8.668495178222656, 490.45416259765625, 123.1783676147461, 248.94461059570312, 402.8468933105469, 253.7830047607422, 2977.810791015625, 840.2754516601562, 1202.491455078125, 633.718994140625, 1055.177734375, 472.4740295410156, 464.2339782714844, 259.6177978515625, 231.8712615966797, 187.05908203125, 171.20657348632812, 170.17935180664062, 169.334716796875, 168.8245086669922, 143.1986083984375, 134.20648193359375, 124.47161865234375, 123.49917602539062, 116.3468246459961, 108.12071228027344, 106.16188049316406, 104.96699523925781, 101.10275268554688, 97.2039794921875, 88.30471801757812, 80.86378479003906, 78.89550018310547, 66.90936279296875, 64.55517578125, 63.67000961303711, 62.24635314941406, 59.89641189575195, 56.04395294189453, 54.14482879638672, 1248.109130859375, 1341.634521484375, 863.8403930664062, 149.2288818359375, 490.45416259765625, 427.1072998046875, 656.085205078125, 192.97027587890625, 180.03565979003906, 149.7257843017578, 123.69410705566406, 92.09447479248047, 90.87285614013672, 90.06623077392578, 76.54824829101562, 67.572021484375, 64.96585845947266, 63.055633544921875, 58.81964111328125, 56.665924072265625, 51.578582763671875, 44.53937911987305, 41.71195602416992, 40.98576736450195, 36.21180725097656, 34.946327209472656, 34.32447814941406, 31.069469451904297, 28.79895782470703, 28.54902458190918, 26.90898895263672, 17.513408660888672, 15.440397262573242, 15.2894926071167, 14.569371223449707, 13.667878150939941, 13.526276588439941, 33.11956024169922], \"loglift\": [30.0, 29.0, 28.0, 27.0, 26.0, 25.0, 24.0, 23.0, 22.0, 21.0, 20.0, 19.0, 18.0, 17.0, 16.0, 15.0, 14.0, 13.0, 12.0, 11.0, 10.0, 9.0, 8.0, 7.0, 6.0, 5.0, 4.0, 3.0, 2.0, 1.0, 1.1088000535964966, 1.1087000370025635, 1.1086000204086304, 1.1085000038146973, 1.1083999872207642, 1.108199954032898, 1.108199954032898, 1.108199954032898, 1.108199954032898, 1.108199954032898, 1.1081000566482544, 1.1081000566482544, 1.1081000566482544, 1.1080000400543213, 1.1079000234603882, 1.107800006866455, 1.1075999736785889, 1.1075999736785889, 1.1074999570846558, 1.1073999404907227, 1.107300043106079, 1.107200026512146, 1.1069999933242798, 1.1068999767303467, 1.1068999767303467, 1.1067999601364136, 1.1067999601364136, 1.1067999601364136, 1.106600046157837, 1.106600046157837, 1.104599952697754, 1.0979000329971313, 1.0979000329971313, 1.0959999561309814, 1.0957000255584717, 1.0908000469207764, 1.1032999753952026, 1.0990999937057495, 1.0777000188827515, 1.0717999935150146, 1.0824999809265137, 1.0849000215530396, 1.0641000270843506, 1.0260000228881836, 1.0872000455856323, 1.0580999851226807, 1.055799961090088, 1.0700000524520874, 0.9843000173568726, 0.9764999747276306, 1.0211999416351318, 0.9563000202178955, 1.0130000114440918, 0.9922000169754028, 0.9973999857902527, 0.8995000123977661, 0.8551999926567078, 1.0434000492095947, 0.8371999859809875, 0.7689999938011169, 0.8440999984741211, 0.8921999931335449, 0.25859999656677246, 0.8682000041007996, 0.09939999878406525, 0.32679998874664307, 1.9007999897003174, 1.9005000591278076, 1.9000999927520752, 1.9000999927520752, 1.899899959564209, 1.8997000455856323, 1.8997000455856323, 1.8996000289916992, 1.8996000289916992, 1.8996000289916992, 1.8996000289916992, 1.8995000123977661, 1.8995000123977661, 1.8992999792099, 1.8991999626159668, 1.8990999460220337, 1.8990999460220337, 1.8990999460220337, 1.8990000486373901, 1.8990000486373901, 1.8990000486373901, 1.898900032043457, 1.898900032043457, 1.898800015449524, 1.898800015449524, 1.8986999988555908, 1.8985999822616577, 1.8985999822616577, 1.8985999822616577, 1.8984999656677246, 1.8912999629974365, 1.8619999885559082, 1.8463000059127808, 1.8653000593185425, 1.8559000492095947, 1.7864999771118164, 1.8178000450134277, 1.8847999572753906, 1.8566999435424805, 1.8199000358581543, 1.7803000211715698, 1.5999000072479248, 1.819100022315979, 1.562000036239624, 1.7879999876022339, 1.6687999963760376, 1.6512000560760498, 1.5612000226974487, 1.6195000410079956, 1.6606999635696411, 1.7488000392913818, 1.2482000589370728, 1.6194000244140625, 1.7867000102996826, 1.7073999643325806, 1.2532000541687012, 1.541100025177002, 0.8560000061988831, 0.9864000082015991, 1.4220999479293823, 1.3767000436782837, 1.4085999727249146, 1.5677000284194946, 0.765500009059906, 0.9520999789237976, 1.256700038909912, 2.125699996948242, 2.125699996948242, 2.125499963760376, 2.1250998973846436, 2.125, 2.1247000694274902, 2.1245999336242676, 2.1245999336242676, 2.1243999004364014, 2.124300003051758, 2.1242001056671143, 2.124000072479248, 2.124000072479248, 2.123800039291382, 2.123800039291382, 2.123699903488159, 2.1233999729156494, 2.123300075531006, 2.123199939727783, 2.123199939727783, 2.1231000423431396, 2.1231000423431396, 2.1226999759674072, 2.1226000785827637, 2.122499942779541, 2.122499942779541, 2.1221001148223877, 2.1221001148223877, 2.121999979019165, 2.1217000484466553, 2.1217000484466553, 2.1143999099731445, 2.1191000938415527, 2.06469988822937, 2.0613999366760254, 2.109299898147583, 2.0794999599456787, 2.105799913406372, 1.9957000017166138, 2.0097999572753906, 2.0215001106262207, 1.6725000143051147, 1.8877999782562256, 1.5392999649047852, 1.7654999494552612, 1.7656999826431274, 1.9467999935150146, 1.2956000566482544, 1.6991000175476074, 1.8223999738693237, 0.6245999932289124, 1.138200044631958, 1.1267000436782837, 0.34599998593330383, 1.6589000225067139, 1.0611000061035156, -0.40689998865127563, 0.4668999910354614, 0.7965999841690063, 0.6664000153541565, 2.433000087738037, 2.4328999519348145, 2.432800054550171, 2.4323999881744385, 2.4321000576019287, 2.4321000576019287, 2.4321000576019287, 2.431999921798706, 2.4319000244140625, 2.4319000244140625, 2.4319000244140625, 2.4316000938415527, 2.431299924850464, 2.4310998916625977, 2.4310998916625977, 2.430999994277954, 2.4309000968933105, 2.4307000637054443, 2.4307000637054443, 2.4305999279022217, 2.430500030517578, 2.430500030517578, 2.430299997329712, 2.430299997329712, 2.430000066757202, 2.4298999309539795, 2.4298999309539795, 2.429800033569336, 2.4296000003814697, 2.429500102996826, 2.4198999404907227, 2.396699905395508, 2.3919999599456787, 2.38100004196167, 2.2267000675201416, 2.2899999618530273, 2.0464000701904297, 2.0290000438690186, 2.154900074005127, 2.1923000812530518, 2.1242001056671143, 2.0652999877929688, 2.1977999210357666, 2.092900037765503, 1.0882999897003174, 0.9968000054359436, 1.858199954032898, 1.643399953842163, 2.0557000637054443, 0.6891999840736389, 1.0749000310897827, 1.6217000484466553, 1.1085000038146973, 1.207200050354004, 2.9272000789642334, 2.9268999099731445, 2.9265999794006348, 2.9261999130249023, 2.9261999130249023, 2.9260001182556152, 2.9260001182556152, 2.925800085067749, 2.925800085067749, 2.925600051879883, 2.92549991607666, 2.9254000186920166, 2.925100088119507, 2.924999952316284, 2.924999952316284, 2.9249000549316406, 2.9249000549316406, 2.924799919128418, 2.924799919128418, 2.9247000217437744, 2.9247000217437744, 2.924499988555908, 2.924499988555908, 2.924299955368042, 2.9242000579833984, 2.9238998889923096, 2.923799991607666, 2.923799991607666, 2.923799991607666, 2.923799991607666, 2.8922998905181885, 2.871799945831299, 2.8034000396728516, 2.855299949645996, 2.792099952697754, 2.515899896621704, 2.453200101852417, 2.387200117111206, 1.9908000230789185, 2.1531999111175537, 2.7569000720977783, 1.868399977684021, 2.6561999320983887, 2.447200059890747, 2.95740008354187, 2.95740008354187, 2.957200050354004, 2.9570999145507812, 2.9567999839782715, 2.9563000202178955, 2.9563000202178955, 2.9560999870300293, 2.9560999870300293, 2.955899953842163, 2.955899953842163, 2.9558000564575195, 2.9556000232696533, 2.9554998874664307, 2.9554998874664307, 2.955399990081787, 2.955399990081787, 2.9549999237060547, 2.9549999237060547, 2.954900026321411, 2.954900026321411, 2.954900026321411, 2.954699993133545, 2.954699993133545, 2.954699993133545, 2.9546000957489014, 2.9546000957489014, 2.9544999599456787, 2.954400062561035, 2.954400062561035, 2.9165000915527344, 2.83240008354187, 2.3580000400543213, 2.3334999084472656, 2.0481998920440674, 2.5373001098632812, 1.6449999809265137, 1.4543999433517456, 2.564199924468994, 2.4932000637054443, 1.8906999826431274, 2.035099983215332, 0.4124999940395355, 3.052299976348877, 3.052000045776367, 3.0511999130249023, 3.051100015640259, 3.050800085067749, 3.0497000217437744, 3.0494000911712646, 3.0494000911712646, 3.0492000579833984, 3.049099922180176, 3.0490000247955322, 3.0485999584198, 3.0483999252319336, 3.04830002784729, 3.0480000972747803, 3.0478999614715576, 3.0478999614715576, 3.0473999977111816, 3.0467000007629395, 3.046600103378296, 3.0464999675750732, 3.0455000400543213, 3.0453999042510986, 3.0450000762939453, 3.0448999404907227, 3.044800043106079, 3.0446999073028564, 3.0446999073028564, 3.044600009918213, 3.044300079345703, 3.2404000759124756, 3.2402000427246094, 3.2402000427246094, 3.2399001121520996, 3.239799976348877, 3.239500045776367, 3.2393999099731445, 3.239300012588501, 3.239000082015991, 3.239000082015991, 3.2388999462127686, 3.238800048828125, 3.238800048828125, 3.238600015640259, 3.2383999824523926, 3.23799991607666, 3.237799882888794, 3.2376999855041504, 3.2376999855041504, 3.237600088119507, 3.2374000549316406, 3.237299919128418, 3.237299919128418, 3.237299919128418, 3.2372000217437744, 3.236999988555908, 3.2367000579833984, 3.2367000579833984, 3.236599922180176, 3.236299991607666, 3.210200071334839, 3.20989990234375, 3.136699914932251, 3.2197000980377197, 3.225600004196167, 3.14739990234375, 3.055299997329712, 3.05679988861084, 2.659600019454956, 2.960099935531616, 2.9725000858306885, 2.9407999515533447, 3.015700101852417, 2.8951001167297363, 2.742799997329712, 1.9919999837875366, 2.6077001094818115, 2.956700086593628, 2.6335999965667725, 3.9937000274658203, 3.992500066757202, 3.9921000003814697, 3.992000102996826, 3.9916999340057373, 3.9911000728607178, 3.9904000759124756, 3.990299940109253, 3.990299940109253, 3.9900999069213867, 3.989300012588501, 3.9890999794006348, 3.988800048828125, 3.9883999824523926, 3.987799882888794, 3.9876999855041504, 3.9876999855041504, 3.9876999855041504, 3.987600088119507, 3.9872000217437744, 3.9867000579833984, 3.9865000247955322, 3.9862000942230225, 3.9860999584198, 3.9860999584198, 3.9855000972747803, 3.9848999977111816, 3.9846999645233154, 3.9844000339508057, 3.9844000339508057, 3.903899908065796, 3.683300018310547, 3.6054000854492188, 3.504199981689453, 3.771399974822998, 2.9426000118255615, 3.344399929046631, 3.688999891281128, 3.561000108718872, 3.27620005607605, 3.5453999042510986, 3.5787999629974365, 3.6221001148223877, 3.4928998947143555, 2.7002999782562256, 2.504300117492676, 2.7353999614715576, 4.06689977645874, 4.066500186920166, 4.065999984741211, 4.065999984741211, 4.065899848937988, 4.065299987792969, 4.065199851989746, 4.064799785614014, 4.064700126647949, 4.064300060272217, 4.0640997886657715, 4.0640997886657715, 4.064000129699707, 4.064000129699707, 4.062900066375732, 4.0625, 4.0625, 4.061600208282471, 4.061399936676025, 4.060299873352051, 4.059599876403809, 4.058800220489502, 4.0578999519348145, 4.0578999519348145, 4.056099891662598, 4.055200099945068, 4.054500102996826, 4.054200172424316, 4.054100036621094, 4.052800178527832, 4.01039981842041, 3.989500045776367, 3.8884999752044678, 3.7548999786376953, 3.637500047683716, 3.8138999938964844, 3.9890999794006348, 3.1923999786376953, 3.3961000442504883, 3.1438000202178955, 2.6628000736236572, 3.098400115966797, 2.4442999362945557, 1.4537999629974365, 1.3911000490188599, 2.907099962234497, 4.438799858093262, 4.437900066375732, 4.437099933624268, 4.436800003051758, 4.436500072479248, 4.436399936676025, 4.436299800872803, 4.436200141906738, 4.435699939727783, 4.434800148010254, 4.434700012207031, 4.433499813079834, 4.4334001541137695, 4.433199882507324, 4.432700157165527, 4.432300090789795, 4.43209981918335, 4.432000160217285, 4.431600093841553, 4.43149995803833, 4.431000232696533, 4.430500030517578, 4.430300235748291, 4.429900169372559, 4.429699897766113, 4.429699897766113, 4.429500102996826, 4.429100036621094, 4.428999900817871, 4.428800106048584, 4.408999919891357, 3.785099983215332, 4.088600158691406, 2.3189001083374023, 4.5046000480651855, 4.503399848937988, 4.503399848937988, 4.503200054168701, 4.502600193023682, 4.502500057220459, 4.502399921417236, 4.502399921417236, 4.502299785614014, 4.5019001960754395, 4.501800060272217, 4.501500129699707, 4.501500129699707, 4.501299858093262, 4.500899791717529, 4.500800132751465, 4.500699996948242, 4.500400066375732, 4.500100135803223, 4.5, 4.499800205230713, 4.499199867248535, 4.498899936676025, 4.498700141906738, 4.4980998039245605, 4.4980998039245605, 4.497900009155273, 4.497099876403809, 4.49560022354126, 4.495299816131592, 4.442299842834473, 3.6672000885009766, 4.019499778747559, 4.5355000495910645, 4.534299850463867, 4.534299850463867, 4.532199859619141, 4.532199859619141, 4.531700134277344, 4.5304999351501465, 4.530099868774414, 4.5289998054504395, 4.5278000831604, 4.527599811553955, 4.527599811553955, 4.527200222015381, 4.525300025939941, 4.525100231170654, 4.524499893188477, 4.524400234222412, 4.523200035095215, 4.522600173950195, 4.522500038146973, 4.521699905395508, 4.5192999839782715, 4.51609992980957, 4.512700080871582, 4.511300086975098, 4.510300159454346, 4.500800132751465, 4.498799800872803, 4.490699768066406, 4.475500106811523, 4.458099842071533, 4.439599990844727, 4.2769999504089355, 3.8966000080108643, 3.9504001140594482, 3.143199920654297, 2.920099973678589, 2.2648000717163086, 1.833799958229065, 2.9433999061584473, 2.413599967956543, 4.551799774169922, 4.550899982452393, 4.5503997802734375, 4.549600124359131, 4.548099994659424, 4.547599792480469, 4.547299861907959, 4.5472002029418945, 4.546199798583984, 4.545899868011475, 4.545899868011475, 4.545300006866455, 4.542699813842773, 4.541500091552734, 4.541100025177002, 4.540599822998047, 4.537300109863281, 4.5370001792907715, 4.534800052642822, 4.534299850463867, 4.533899784088135, 4.533899784088135, 4.5335001945495605, 4.533400058746338, 4.533400058746338, 4.533400058746338, 4.533400058746338, 4.533400058746338, 4.533400058746338, 4.53249979019165, 4.450900077819824, 4.440899848937988, 4.471700191497803, 4.265999794006348, 2.060800075531006, 3.5868000984191895, 3.220400094985962, 2.5257999897003174, 2.901700019836426, 2.724400043487549, 3.1819000244140625, 0.6032000184059143, 2.480799913406372, 4.560100078582764, 4.5594000816345215, 4.558499813079834, 4.557000160217285, 4.556600093841553, 4.556399822235107, 4.555799961090088, 4.554200172424316, 4.550600051879883, 4.548999786376953, 4.548999786376953, 4.548399925231934, 4.548299789428711, 4.547800064086914, 4.546899795532227, 4.546000003814697, 4.5447998046875, 4.543399810791016, 4.542900085449219, 4.542399883270264, 4.540599822998047, 4.539000034332275, 4.536499977111816, 4.535299777984619, 4.531599998474121, 4.53000020980835, 4.528900146484375, 4.527100086212158, 4.526800155639648, 4.52400016784668, 4.473299980163574, 4.421000003814697, 4.345699787139893, 4.384699821472168, 4.424799919128418, 4.308700084686279, 4.186800003051758, 3.8863000869750977, 4.026400089263916, 4.24459981918335, 3.4816999435424805, 3.768899917602539, 4.049300193786621, 3.5425000190734863, 2.751499891281128, 3.187000036239624, 2.439500093460083, 2.3626999855041504, 2.10509991645813, 1.2050000429153442, 4.863500118255615, 4.859899997711182, 4.858399868011475, 4.857699871063232, 4.856500148773193, 4.855800151824951, 4.855599880218506, 4.854800224304199, 4.854599952697754, 4.8506999015808105, 4.849599838256836, 4.845600128173828, 4.843599796295166, 4.84250020980835, 4.8420000076293945, 4.841000080108643, 4.835400104522705, 4.832699775695801, 4.825399875640869, 4.8221001625061035, 4.819799900054932, 4.803500175476074, 4.731200218200684, 4.450799942016602, 3.7904000282287598, 1.8961999416351318, 1.8938000202178955, 1.891800045967102, 1.8911000490188599, 1.8910000324249268, 1.5435999631881714, 4.920599937438965, 4.920300006866455, 4.919899940490723, 4.9197001457214355, 4.919300079345703, 4.918300151824951, 4.916500091552734, 4.916500091552734, 4.914299964904785, 4.914299964904785, 4.914000034332275, 4.91379976272583, 4.913300037384033, 4.912799835205078, 4.9120001792907715, 4.911499977111816, 4.911300182342529, 4.911200046539307, 4.907400131225586, 4.905399799346924, 4.905399799346924, 4.8983001708984375, 4.897799968719482, 4.894899845123291, 4.893599987030029, 4.8933000564575195, 4.892300128936768, 4.889699935913086, 4.889100074768066, 4.888999938964844, 4.72730016708374, 4.522299766540527, 4.349400043487549, 3.4377999305725098, 3.958899974822998, 2.4902000427246094, 4.932400226593018, 4.931600093841553, 4.929900169372559, 4.929100036621094, 4.926499843597412, 4.925899982452393, 4.925600051879883, 4.92519998550415, 4.924600124359131, 4.923999786376953, 4.917699813842773, 4.917300224304199, 4.917099952697754, 4.914599895477295, 4.9039998054504395, 4.903800010681152, 4.903600215911865, 4.9028000831604, 4.891300201416016, 4.890699863433838, 4.888599872589111, 4.88730001449585, 4.886899948120117, 4.876100063323975, 4.868899822235107, 4.868800163269043, 4.856800079345703, 4.82480001449585, 4.790900230407715, 4.767099857330322, 4.676799774169922, 4.568399906158447, 4.323299884796143, 3.7852001190185547, 3.3324999809265137, 1.7395000457763672, 2.386699914932251, 1.542099952697754, 1.947100043296814, 4.982399940490723, 4.980899810791016, 4.980800151824951, 4.978499889373779, 4.97790002822876, 4.976500034332275, 4.975900173187256, 4.975800037384033, 4.975800037384033, 4.9756999015808105, 4.974299907684326, 4.973700046539307, 4.972899913787842, 4.972799777984619, 4.972099781036377, 4.97130012512207, 4.9710001945495605, 4.970900058746338, 4.970399856567383, 4.969900131225586, 4.968400001525879, 4.9670000076293945, 4.966599941253662, 4.963500022888184, 4.962800025939941, 4.962500095367432, 4.961999893188477, 4.961100101470947, 4.95959997177124, 4.958700180053711, 3.634399890899658, 3.5782999992370605, 3.748500108718872, 4.507800102233887, 3.484800100326538, 3.1565001010894775, 2.6960999965667725, 5.918900012969971, 5.918399810791016, 5.916900157928467, 5.914999961853027, 5.911200046539307, 5.910999774932861, 5.910799980163574, 5.908100128173828, 5.905700206756592, 5.904900074005127, 5.904300212860107, 5.902699947357178, 5.901800155639648, 5.899400234222412, 5.895100116729736, 5.89300012588501, 5.892399787902832, 5.887899875640869, 5.88640022277832, 5.885700225830078, 5.881400108337402, 5.877799987792969, 5.877399921417236, 5.874300003051758, 5.8454999923706055, 5.834199905395508, 5.833199977874756, 5.828400135040283, 5.821599960327148, 5.820499897003174, 4.948800086975098], \"logprob\": [30.0, 29.0, 28.0, 27.0, 26.0, 25.0, 24.0, 23.0, 22.0, 21.0, 20.0, 19.0, 18.0, 17.0, 16.0, 15.0, 14.0, 13.0, 12.0, 11.0, 10.0, 9.0, 8.0, 7.0, 6.0, 5.0, 4.0, 3.0, 2.0, 1.0, -3.158799886703491, -3.6033999919891357, -4.6793999671936035, -4.750800132751465, -5.116499900817871, -5.459499835968018, -5.507299900054932, -5.457900047302246, -5.549300193786621, -5.610099792480469, -5.631999969482422, -5.649899959564209, -5.699999809265137, -5.855199813842773, -5.975500106811523, -5.988699913024902, -6.2256999015808105, -6.246600151062012, -6.249800205230713, -6.327499866485596, -6.453999996185303, -6.51200008392334, -6.6305999755859375, -6.634500026702881, -6.685100078582764, -6.702899932861328, -6.727200031280518, -6.730199813842773, -6.7829999923706055, -6.797100067138672, -3.8798000812530518, -5.0295000076293945, -5.253900051116943, -5.117099761962891, -5.29040002822876, -4.935699939727783, -6.220600128173828, -5.812600135803223, -4.217899799346924, -4.229100227355957, -4.942299842834473, -5.214000225067139, -4.4670000076293945, -3.509399890899658, -5.559199810028076, -4.639999866485596, -4.914899826049805, -5.353400230407715, -4.255300045013428, -4.251500129699707, -4.7957000732421875, -4.4730000495910645, -4.925600051879883, -4.7947998046875, -4.852700233459473, -4.275899887084961, -4.150899887084961, -5.172500133514404, -4.340799808502197, -4.523600101470947, -4.9633002281188965, -5.023099899291992, -4.468900203704834, -5.0346999168396, -4.9029998779296875, -4.978600025177002, -4.520100116729736, -4.931600093841553, -5.351500034332275, -5.353700160980225, -5.551599979400635, -5.666999816894531, -5.672399997711182, -5.738900184631348, -5.752699851989746, -5.75570011138916, -5.767600059509277, -5.797900199890137, -5.817599773406982, -5.888700008392334, -5.952499866485596, -5.9842000007629395, -6.000800132751465, -6.011899948120117, -6.031000137329102, -6.031000137329102, -6.046800136566162, -6.101099967956543, -6.101200103759766, -6.115699768066406, -6.120200157165527, -6.174200057983398, -6.194799900054932, -6.201700210571289, -6.22160005569458, -6.239200115203857, -5.0096001625061035, -5.0381999015808105, -4.838799953460693, -5.371699810028076, -5.305099964141846, -4.5081000328063965, -5.07450008392334, -5.937900066375732, -5.730599880218506, -5.460599899291992, -5.207799911499023, -4.04040002822876, -5.498600006103516, -3.9560000896453857, -5.329699993133545, -4.776800155639648, -4.920100212097168, -4.609799861907959, -4.899400234222412, -5.14139986038208, -5.402200222015381, -4.301000118255615, -5.1331000328063965, -5.513999938964844, -5.374599933624268, -4.6255998611450195, -5.110099792480469, -4.449399948120117, -4.752799987792969, -5.142600059509277, -5.161399841308594, -5.247700214385986, -5.321599960327148, -5.030399799346924, -5.228000164031982, -5.349699974060059, -3.3438000679016113, -3.4128000736236572, -4.062600135803223, -4.777500152587891, -4.876500129699707, -5.202600002288818, -5.222599983215332, -5.277400016784668, -5.389699935913086, -5.451600074768066, -5.540900230407715, -5.610499858856201, -5.617099761962891, -5.706999778747559, -5.710000038146973, -5.769499778747559, -5.89709997177124, -5.949699878692627, -5.9704999923706055, -5.976200103759766, -6.011899948120117, -6.023499965667725, -6.158299922943115, -6.1793999671936035, -6.210899829864502, -6.213200092315674, -4.963600158691406, -3.3401999473571777, -6.336599826812744, -6.420000076293945, -4.254799842834473, -3.8657000064849854, -5.148499965667725, -2.4059998989105225, -2.495300054550171, -5.161200046539307, -4.929900169372559, -5.705100059509277, -4.253399848937988, -5.031599998474121, -5.278800010681152, -3.329900026321411, -4.638000011444092, -3.188199996948242, -4.428899765014648, -4.515900135040283, -5.284599781036377, -4.500199794769287, -5.0366997718811035, -5.214099884033203, -4.3815999031066895, -4.740600109100342, -4.797999858856201, -4.829400062561035, -5.173600196838379, -5.044099807739258, -4.942200183868408, -5.051199913024902, -5.141600131988525, -5.140999794006348, -3.653599977493286, -3.904900074005127, -4.136300086975098, -4.63040018081665, -4.893599987030029, -4.902200222015381, -4.912199974060059, -4.953199863433838, -5.057700157165527, -5.059199810028076, -5.061800003051758, -5.200799942016602, -5.398799896240234, -5.454800128936768, -5.480599880218506, -5.52839994430542, -5.55810022354126, -5.633500099182129, -5.642300128936768, -5.6875, -5.703199863433838, -5.710299968719482, -5.786900043487549, -5.792699813842773, -5.867000102996826, -5.906799793243408, -5.9120001792907715, -5.926599979400635, -5.985300064086914, -6.005799770355225, -4.9868998527526855, -4.2967000007629395, -4.616499900817871, -5.060500144958496, -4.382699966430664, -4.921999931335449, -4.111700057983398, -4.123700141906738, -4.677000045776367, -5.098899841308594, -4.949999809265137, -4.839099884033203, -5.285299777984619, -5.164100170135498, -4.2042999267578125, -4.181300163269043, -5.0131001472473145, -4.907299995422363, -5.203000068664551, -4.616199970245361, -4.896100044250488, -5.0467000007629395, -4.996699810028076, -5.035799980163574, -3.2952001094818115, -3.834199905395508, -4.216700077056885, -4.53249979019165, -4.558000087738037, -4.660999774932861, -4.669099807739258, -4.792900085449219, -4.798600196838379, -4.872600078582764, -4.929200172424316, -4.994699954986572, -5.119800090789795, -5.129000186920166, -5.14739990234375, -5.172900199890137, -5.190400123596191, -5.231500148773193, -5.235899925231934, -5.2571001052856445, -5.258999824523926, -5.329400062561035, -5.329599857330322, -5.388199806213379, -5.413400173187256, -5.504300117492676, -5.5142998695373535, -5.528200149536133, -5.531099796295166, -5.535699844360352, -4.309000015258789, -4.32480001449585, -3.737299919128418, -5.174300193786621, -4.870100021362305, -4.373799800872803, -4.229400157928467, -4.559199810028076, -4.316500186920166, -4.727499961853027, -5.157100200653076, -4.867499828338623, -5.164100170135498, -5.139200210571289, -3.408600091934204, -3.418600082397461, -3.7697999477386475, -3.8494999408721924, -4.17549991607666, -4.597799777984619, -4.615300178527832, -4.703000068664551, -4.71750020980835, -4.821599960327148, -4.84060001373291, -4.88539981842041, -4.948200225830078, -5.021999835968018, -5.030099868774414, -5.043799877166748, -5.050899982452393, -5.214300155639648, -5.217100143432617, -5.235199928283691, -5.246399879455566, -5.248600006103516, -5.304599761962891, -5.309800148010254, -5.313300132751465, -5.335599899291992, -5.33650016784668, -5.372799873352051, -5.381899833679199, -5.393700122833252, -4.774400234222412, -4.749100208282471, -3.3422999382019043, -4.720399856567383, -4.45419979095459, -4.957600116729736, -4.538099765777588, -4.487500190734863, -5.098800182342529, -5.091800212860107, -4.962299823760986, -5.041999816894531, -4.827000141143799, -0.414900004863739, -2.940500020980835, -4.25629997253418, -4.288099765777588, -4.504000186920166, -5.067200183868408, -5.182600021362305, -5.185400009155273, -5.251100063323975, -5.286200046539307, -5.317500114440918, -5.433499813079834, -5.465400218963623, -5.4918999671936035, -5.566999912261963, -5.586299896240234, -5.6066999435424805, -5.700200080871582, -5.831299781799316, -5.856400012969971, -5.863699913024902, -6.0355000495910645, -6.043000221252441, -6.1031999588012695, -6.119699954986572, -6.125899791717529, -6.144100189208984, -6.1468000411987305, -6.149400234222412, -6.196400165557861, -4.060299873352051, -4.170199871063232, -4.184599876403809, -4.3805999755859375, -4.442500114440918, -4.606100082397461, -4.6753997802734375, -4.706200122833252, -4.813700199127197, -4.842100143432617, -4.8495001792907715, -4.91540002822876, -4.916600227355957, -4.968100070953369, -5.018899917602539, -5.157199859619141, -5.196100234985352, -5.225599765777588, -5.225900173187256, -5.263500213623047, -5.317699909210205, -5.321000099182129, -5.323800086975098, -5.32450008392334, -5.355000019073486, -5.401599884033203, -5.45389986038208, -5.468200206756592, -5.471199989318848, -5.548799991607666, -3.9446001052856445, -4.605500221252441, -3.4814999103546143, -5.0792999267578125, -5.270500183105469, -4.741099834442139, -4.410099983215332, -4.6697001457214355, -3.425299882888794, -4.44950008392334, -4.654399871826172, -4.594900131225586, -4.8078999519348145, -4.631499767303467, -4.638599872589111, -3.9744999408721924, -4.6956000328063965, -4.927800178527832, -4.9481000900268555, -2.6449999809265137, -3.6847000122070312, -3.9270999431610107, -3.9677999019622803, -4.089700222015381, -4.26800012588501, -4.474599838256836, -4.502900123596191, -4.51170015335083, -4.559800148010254, -4.723199844360352, -4.764599800109863, -4.816699981689453, -4.893599987030029, -4.986499786376953, -5.000800132751465, -5.0071001052856445, -5.010499954223633, -5.012599945068359, -5.083499908447266, -5.150700092315674, -5.169899940490723, -5.2083001136779785, -5.218400001525879, -5.22189998626709, -5.29040002822876, -5.356599807739258, -5.379700183868408, -5.4070000648498535, -5.415200233459473, -4.454400062561035, -3.9137001037597656, -4.164000034332275, -3.8887999057769775, -4.851399898529053, -3.2527999877929688, -4.147600173950195, -4.744699954986572, -4.610799789428711, -4.294600009918213, -4.666900157928467, -4.754300117492676, -4.806000232696533, -4.745999813079834, -4.391499996185303, -4.328199863433838, -4.835899829864502, -3.0120999813079834, -3.3691000938415527, -3.650399923324585, -3.6875, -3.720900058746338, -3.986599922180176, -4.006499767303467, -4.144700050354004, -4.202300071716309, -4.321000099182129, -4.3520002365112305, -4.374100208282471, -4.387400150299072, -4.394100189208984, -4.631700038909912, -4.70989990234375, -4.711100101470947, -4.8709001541137695, -4.89739990234375, -5.066699981689453, -5.156199932098389, -5.245699882507324, -5.338900089263916, -5.339000225067139, -5.508800029754639, -5.58050012588501, -5.631499767303467, -5.655700206756592, -5.665500164031982, -5.750800132751465, -4.060999870300293, -3.558500051498413, -3.214099884033203, -3.085099935531616, -2.5578999519348145, -3.8993000984191895, -5.096399784088135, -3.753999948501587, -4.174600124359131, -3.923799991607666, -3.9435999393463135, -4.41540002822876, -4.417399883270264, -4.186500072479248, -4.546999931335449, -4.6641998291015625, -2.2888998985290527, -3.152400016784668, -3.5643999576568604, -3.6677000522613525, -3.75819993019104, -3.800100088119507, -3.8366000652313232, -3.8671000003814697, -4.000199794769287, -4.218800067901611, -4.241000175476074, -4.462800025939941, -4.472300052642822, -4.514200210571289, -4.59060001373291, -4.64870023727417, -4.665800094604492, -4.691500186920166, -4.734799861907959, -4.755000114440918, -4.810100078582764, -4.872000217437744, -4.890699863433838, -4.929800033569336, -4.952199935913086, -4.9552001953125, -4.973999977111816, -5.008500099182129, -5.020100116729736, -5.0406999588012695, -4.26609992980957, -3.6159000396728516, -4.832499980926514, -4.8495001792907715, -3.0160999298095703, -3.5885000228881836, -3.5917999744415283, -3.658400058746338, -3.845099925994873, -3.876699924468994, -3.911099910736084, -3.911799907684326, -3.9416000843048096, -4.021699905395508, -4.045499801635742, -4.11870002746582, -4.1219000816345215, -4.167200088500977, -4.250199794769287, -4.266300201416016, -4.275899887084961, -4.332600116729736, -4.3892998695373535, -4.404699802398682, -4.438499927520752, -4.531899929046631, -4.572199821472168, -4.604700088500977, -4.679999828338623, -4.680500030517578, -4.709799766540527, -4.798500061035156, -4.956200122833252, -4.979499816894531, -4.042399883270264, -4.232999801635742, -4.720900058746338, -1.8797999620437622, -3.0947999954223633, -3.1245999336242676, -3.9068000316619873, -3.9238998889923096, -4.046199798583984, -4.288700103759766, -4.353300094604492, -4.520199775695801, -4.681099891662598, -4.709400177001953, -4.713799953460693, -4.7530999183654785, -4.948999881744385, -4.97160005569458, -5.020699977874756, -5.034800052642822, -5.129899978637695, -5.180300235748291, -5.187300205230713, -5.241300106048584, -5.395599842071533, -5.572199821472168, -5.735000133514404, -5.793300151824951, -5.832200050354004, -6.152900218963623, -6.207300186157227, -6.408699989318848, -6.705399990081787, -4.166800022125244, -2.7339999675750732, -3.2997000217437744, -4.135900020599365, -4.813600063323975, -4.250899791717529, -4.247799873352051, -3.918299913406372, -4.460700035095215, -4.8769001960754395, -4.932400226593018, -2.9303998947143555, -3.4028000831604004, -3.6050000190734863, -3.8552000522613525, -4.203100204467773, -4.2957000732421875, -4.351099967956543, -4.365499973297119, -4.5167999267578125, -4.55109977722168, -4.552700042724609, -4.642600059509277, -4.916999816894531, -5.027200222015381, -5.065299987792969, -5.10099983215332, -5.33459997177124, -5.355899810791016, -5.483500003814697, -5.513299942016602, -5.533299922943115, -5.5345001220703125, -5.5553998947143555, -5.556099891662598, -5.5569000244140625, -5.558000087738037, -5.558000087738037, -5.558000087738037, -5.558000087738037, -5.602399826049805, -3.200900077819824, -3.9995999336242676, -4.76609992980957, -4.702600002288818, -4.479899883270264, -5.153600215911865, -5.103000164031982, -4.9085001945495605, -5.027400016784668, -5.045000076293945, -5.192699909210205, -4.689499855041504, -5.093800067901611, -2.707900047302246, -3.160599946975708, -3.5594000816345215, -3.9842000007629395, -4.064300060272217, -4.123300075531006, -4.228600025177002, -4.495299816131592, -4.906300067901611, -5.047900199890137, -5.05049991607666, -5.096700191497803, -5.103600025177002, -5.137599945068359, -5.203999996185303, -5.268099784851074, -5.341700077056885, -5.4243998527526855, -5.452899932861328, -5.4822001457214355, -5.575900077819824, -5.648600101470947, -5.75600004196167, -5.804699897766113, -5.938799858093262, -5.994900226593018, -6.02869987487793, -6.083399772644043, -6.092599868774414, -6.173299789428711, -3.2392001152038574, -3.8671000003814697, -3.583400011062622, -4.176300048828125, -4.711299896240234, -3.8153998851776123, -3.9019999504089355, -3.63100004196167, -4.076099872589111, -4.98960018157959, -3.589600086212158, -4.275700092315674, -4.769100189208984, -4.829500198364258, -4.551799774169922, -4.763500213623047, -4.672800064086914, -4.7657999992370605, -4.925600051879883, -4.879899978637695, -0.9538000226020813, -3.6087000370025635, -3.9351999759674072, -4.059199810028076, -4.235499858856201, -4.320899963378906, -4.3531999588012695, -4.440700054168701, -4.4629998207092285, -4.824699878692627, -4.906899929046631, -5.1529998779296875, -5.260900020599365, -5.311600208282471, -5.336999893188477, -5.383299827575684, -5.606299877166748, -5.697000026702881, -5.912799835205078, -5.995800018310547, -6.051000118255615, -6.3755998611450195, -7.199900150299072, -8.48289966583252, -4.214099884033203, -12.068499565124512, -12.071000099182129, -12.073100090026855, -12.07390022277832, -12.074000358581543, -5.866099834442139, -2.674299955368042, -2.8459999561309814, -3.015899896621704, -3.0789999961853027, -3.2358999252319336, -3.550100088119507, -3.916800022125244, -3.9196999073028564, -4.251399993896484, -4.252099990844727, -4.28000020980835, -4.304599761962891, -4.366099834442139, -4.420899868011475, -4.503600120544434, -4.548799991607666, -4.573999881744385, -4.583000183105469, -4.879499912261963, -5.006100177764893, -5.008699893951416, -5.364200115203857, -5.3821001052856445, -5.498199939727783, -5.543700218200684, -5.556099891662598, -5.588900089263916, -5.673999786376953, -5.691699981689453, -5.6956000328063965, -2.824899911880493, -4.001800060272217, -4.836999893188477, -4.138999938964844, -4.693900108337402, -5.398200035095215, -1.6375000476837158, -2.475399971008301, -3.293299913406372, -3.5283000469207764, -4.031799793243408, -4.131499767303467, -4.162399768829346, -4.223999977111816, -4.293600082397461, -4.363100051879883, -4.901700019836426, -4.929200172424316, -4.945199966430664, -5.092400074005127, -5.5507001876831055, -5.5594000816345215, -5.564599990844727, -5.594099998474121, -5.9222002029418945, -5.935299873352051, -5.986400127410889, -6.015500068664551, -6.0254998207092285, -6.241499900817871, -6.36329984664917, -6.366000175476074, -6.542300224304199, -6.910099983215332, -7.199999809265137, -7.366600036621094, -3.4214000701904297, -4.911499977111816, -4.452899932861328, -4.509699821472168, -5.424499988555908, -4.555099964141846, -5.173099994659424, -5.659299850463867, -5.894800186157227, -2.349600076675415, -3.154599905014038, -3.172300100326538, -3.75570011138916, -3.8694000244140625, -4.0854997634887695, -4.174699783325195, -4.180799961090088, -4.185800075531006, -4.188899993896484, -4.354899883270264, -4.420400142669678, -4.496500015258789, -4.50439977645874, -4.564799785614014, -4.638999938964844, -4.65749979019165, -4.668900012969971, -4.706900119781494, -4.746799945831299, -4.844200134277344, -4.933700084686279, -4.958700180053711, -5.1265997886657715, -5.1631999015808105, -5.177299976348877, -5.200399875640869, -5.239699840545654, -5.307799816131592, -5.343100070953369, -3.5297000408172607, -3.5134999752044678, -3.7834999561309814, -4.780200004577637, -4.61329984664917, -5.079999923706055, -5.111100196838379, -3.111999988555908, -3.1819000244140625, -3.367799997329712, -3.560699939727783, -3.859499931335449, -3.8731000423431396, -3.8821001052856445, -4.047399997711182, -4.174600124359131, -4.214700222015381, -4.245200157165527, -4.316299915313721, -4.354499816894531, -4.451000213623047, -4.6020002365112305, -4.6697001457214355, -4.687900066375732, -4.816199779510498, -4.8531999588012695, -4.8719000816345215, -4.975800037384033, -5.055300235748291, -5.064499855041504, -5.126699924468994, -5.585000038146973, -5.722300052642822, -5.733099937438965, -5.786099910736084, -5.856800079345703, -5.868299961090088, -5.844600200653076]}, \"token.table\": {\"Topic\": [16, 18, 4, 5, 2, 5, 10, 13, 4, 5, 15, 1, 2, 10, 1, 2, 3, 10, 3, 5, 17, 19, 2, 13, 5, 1, 8, 15, 12, 3, 1, 2, 3, 4, 5, 5, 13, 3, 1, 3, 1, 2, 8, 10, 2, 13, 1, 3, 4, 8, 3, 14, 4, 20, 20, 3, 2, 5, 6, 15, 5, 18, 1, 2, 15, 4, 1, 8, 14, 14, 1, 3, 2, 16, 20, 7, 4, 4, 16, 1, 14, 15, 16, 18, 5, 8, 9, 2, 8, 7, 1, 6, 1, 11, 9, 2, 4, 6, 6, 7, 17, 1, 3, 4, 1, 4, 8, 9, 4, 12, 6, 8, 1, 2, 10, 1, 2, 8, 8, 6, 14, 8, 15, 2, 3, 4, 13, 6, 5, 8, 6, 6, 19, 12, 19, 1, 2, 15, 2, 10, 18, 1, 3, 9, 3, 13, 1, 2, 3, 4, 18, 13, 6, 18, 20, 12, 4, 17, 9, 3, 10, 1, 6, 8, 17, 19, 20, 2, 3, 6, 11, 15, 19, 5, 9, 6, 4, 14, 5, 10, 19, 4, 4, 4, 8, 16, 5, 15, 6, 8, 14, 15, 15, 1, 4, 13, 5, 5, 3, 10, 14, 6, 7, 19, 2, 3, 5, 16, 12, 17, 19, 15, 3, 1, 4, 6, 8, 13, 2, 3, 3, 4, 1, 2, 4, 19, 17, 5, 7, 13, 11, 2, 1, 2, 5, 15, 10, 4, 17, 1, 12, 17, 2, 3, 17, 3, 3, 1, 3, 8, 10, 7, 3, 8, 13, 18, 2, 12, 12, 7, 8, 10, 17, 2, 10, 6, 3, 4, 6, 1, 4, 19, 17, 4, 8, 13, 19, 2, 10, 18, 15, 2, 9, 8, 14, 2, 3, 5, 18, 12, 2, 4, 13, 7, 17, 8, 15, 15, 2, 10, 13, 3, 3, 7, 3, 14, 6, 1, 12, 12, 9, 17, 11, 7, 9, 10, 9, 10, 5, 19, 4, 11, 12, 4, 18, 19, 3, 13, 5, 15, 9, 3, 11, 1, 18, 4, 14, 1, 4, 1, 4, 1, 13, 2, 4, 20, 16, 15, 20, 14, 2, 1, 6, 1, 4, 5, 4, 6, 2, 15, 2, 3, 9, 10, 4, 3, 5, 16, 8, 15, 15, 18, 7, 10, 8, 1, 2, 4, 6, 8, 14, 11, 9, 10, 2, 3, 4, 6, 8, 13, 4, 9, 12, 1, 8, 14, 15, 1, 11, 19, 5, 20, 1, 9, 14, 18, 2, 6, 20, 9, 14, 1, 3, 6, 14, 12, 12, 14, 1, 2, 3, 4, 5, 6, 1, 6, 4, 6, 4, 1, 2, 3, 6, 11, 5, 14, 15, 11, 16, 4, 14, 1, 3, 4, 5, 1, 1, 1, 2, 3, 5, 10, 19, 7, 1, 3, 2, 1, 2, 3, 19, 1, 2, 6, 9, 9, 1, 4, 5, 6, 14, 6, 15, 1, 6, 7, 3, 20, 13, 12, 1, 8, 15, 4, 10, 7, 10, 10, 3, 11, 13, 9, 20, 8, 12, 2, 3, 2, 16, 2, 3, 5, 14, 15, 18, 2, 10, 12, 18, 1, 5, 3, 10, 9, 5, 18, 4, 15, 10, 15, 15, 4, 5, 8, 11, 9, 19, 15, 7, 4, 15, 4, 15, 14, 1, 20, 13, 19, 7, 13, 16, 12, 13, 5, 3, 6, 12, 1, 14, 15, 16, 1, 3, 4, 7, 14, 5, 14, 15, 1, 6, 14, 11, 4, 5, 8, 3, 7, 5, 7, 1, 2, 5, 1, 4, 1, 4, 9, 1, 3, 2, 3, 6, 1, 7, 4, 20, 14, 1, 2, 3, 8, 1, 6, 1, 3, 3, 4, 9, 2, 6, 9, 9, 16, 16, 10, 2, 3, 10, 13, 19, 3, 5, 1, 2, 4, 5, 1, 4, 6, 1, 2, 4, 5, 2, 13, 13, 16, 5, 12, 8, 14, 2, 7, 1, 2, 3, 4, 5, 6, 1, 7, 10, 1, 4, 5, 8, 17, 14, 5, 8, 15, 10, 13, 13, 9, 3, 5, 7, 2, 16, 17, 6, 20, 13, 14, 9, 12, 8, 15, 8, 17, 9, 8, 17, 11, 3, 18, 16, 2, 10, 13, 3, 9, 11, 17, 11, 4, 14, 4, 10, 7, 9, 10, 1, 13, 9, 14, 17, 17, 2, 6, 7, 16, 3, 13, 16, 1, 2, 4, 14, 15, 11, 5, 6, 4, 20, 20, 18, 10, 1, 2, 3, 12, 1, 4, 1, 2, 3, 5, 2, 6, 15, 19, 5, 6, 11, 1, 5, 1, 5, 6, 6, 6, 3, 18, 9, 9, 18, 1, 18, 1, 2, 3, 6, 8, 13, 15, 2, 19, 12, 12, 20, 5, 19, 18, 2, 11, 20, 1, 3, 3, 7, 11, 2, 7, 2, 14, 11, 18, 20, 12, 2, 10, 4, 15, 7, 7, 1, 4, 5, 14, 17, 20, 5, 10, 3, 5, 4, 1, 6, 8, 17, 3, 13, 8, 8, 20, 6, 6, 17, 11, 15, 7, 1, 1, 14, 15, 10, 1, 3, 4, 5, 17, 5, 20, 1, 3, 9, 19, 10, 8, 17, 5, 17, 1, 2, 3, 10, 8, 3, 9, 2, 13, 18, 19, 8, 5, 1, 5, 15, 4, 5, 6, 2, 4, 5, 14, 17, 5, 19, 2, 5, 19, 11, 1, 10, 1, 2, 3, 4, 20, 6, 9, 11, 16, 13, 10, 9, 6, 4, 1, 1, 4, 9, 19, 9, 8, 2, 4, 17, 11, 5, 6, 13, 4, 4, 14, 1, 15, 9, 3, 7, 14, 2, 6, 8, 14, 14, 2, 4, 5, 4, 11, 18, 2, 17, 16, 4, 5, 6, 9, 12, 19, 1, 5, 8, 15, 6, 9, 14, 3, 11, 15, 12, 3, 13, 3, 4, 8, 1, 2, 3, 6, 10, 13, 1, 11, 6, 14, 1, 19, 19, 11, 9, 11, 1, 4, 17, 13, 2, 3, 4, 11, 2, 6, 7, 13, 17, 18, 10, 15, 9, 2, 8, 18, 5, 1, 2, 4, 1, 3, 4, 1, 3, 5, 9, 19, 20, 2, 3, 5, 6, 8, 1, 4, 14, 2, 13, 20, 1, 2, 3, 4, 7, 4, 5, 9, 5, 11, 2, 10, 18, 14, 2, 11, 14, 15, 17, 6, 2, 3, 10, 11, 14, 15, 1, 4, 4, 17, 14, 2, 6, 19, 2, 4, 14, 14, 14, 16, 11, 11, 11, 13, 8, 19, 11, 9, 10, 12, 9, 14, 2, 3, 6, 16, 20, 6, 1, 3, 5, 8, 15, 5, 12, 11, 3, 9, 1, 6, 5, 9, 8, 18, 20, 10, 15, 19, 20, 1, 2, 4, 5, 10, 1, 3, 14, 16, 18, 2, 3, 5, 10, 1, 5, 19, 8, 7, 5, 6, 17, 2, 2, 3, 5, 11, 20, 16, 1, 4, 18, 18, 15, 5, 15, 4, 17, 6, 2, 3, 4, 5, 18, 3, 13, 1, 16, 1, 4, 1, 4, 1, 4, 12, 9, 1, 2, 6, 11, 12, 1, 4, 5, 14, 6, 5, 8, 20, 19, 5, 9, 11, 2, 2, 18, 14, 15, 9, 1, 4, 4, 1, 3, 4, 14, 14, 14, 2, 3, 2, 8, 4, 3, 6, 7, 18, 19, 10, 1, 3, 1, 2, 3, 5, 10, 5, 2, 3, 5, 13, 18, 9, 6, 9, 11, 12, 2, 3, 10, 13, 17, 1, 2, 3, 4, 14, 15, 11, 2, 13, 14, 6, 1, 3, 14, 15, 15, 19, 20, 12, 1, 2, 4, 14, 12, 8, 11, 1, 2, 1, 18, 1, 6, 13, 6, 15, 2, 15, 1, 2, 3, 4, 1, 2, 3, 14, 12, 1, 1, 3, 1, 3, 4, 15, 18, 18, 1, 2, 6, 8, 4, 6], \"Freq\": [0.9997488856315613, 0.9522796273231506, 0.9866015911102295, 0.012255920097231865, 0.14911670982837677, 0.6184676289558411, 0.2090078443288803, 0.02200082503259182, 0.7112870216369629, 0.26376527547836304, 0.02373887412250042, 0.9903917908668518, 0.00871494971215725, 0.9905310273170471, 0.03510548546910286, 0.9217440485954285, 0.03780590742826462, 0.0045007034204900265, 0.7383726239204407, 0.2609339654445648, 0.971248984336853, 0.9759093523025513, 0.964389979839325, 0.03447327762842178, 0.9977014064788818, 0.1927371621131897, 0.20530696213245392, 0.5991611480712891, 0.9972094893455505, 0.9983062744140625, 0.3581268787384033, 0.5203757286071777, 0.038569964468479156, 0.08255884796380997, 0.9962238669395447, 0.9989364743232727, 0.940058708190918, 0.9954625368118286, 0.12162740528583527, 0.8780279159545898, 0.998835563659668, 0.3913281559944153, 0.6074050068855286, 0.9967280626296997, 0.7503114938735962, 0.2480868548154831, 0.19465069472789764, 0.13260579109191895, 0.12773951888084412, 0.5450219511985779, 0.9989989399909973, 0.9876861572265625, 0.5736790895462036, 0.3623236417770386, 0.9881616830825806, 0.9980214834213257, 0.2978093922138214, 0.04461564123630524, 0.6569653153419495, 0.9981715083122253, 0.449899286031723, 0.5422893166542053, 0.3263617157936096, 0.5530651807785034, 0.12019848823547363, 0.9985325336456299, 0.01744687929749489, 0.9795176386833191, 0.9940282106399536, 0.99889075756073, 0.36444002389907837, 0.63544100522995, 0.9984245300292969, 0.9855145812034607, 0.9863040447235107, 0.9934837222099304, 0.9964515566825867, 0.9980916976928711, 0.946160078048706, 0.4665176272392273, 0.022812597453594208, 0.5087209343910217, 0.9714787602424622, 0.9815534353256226, 0.1998663991689682, 0.7979162335395813, 0.9949735999107361, 0.9991303086280823, 0.9961879849433899, 0.9999789595603943, 0.9764290452003479, 0.023272400721907616, 0.9992512464523315, 0.9919177889823914, 0.9957252144813538, 0.7543351054191589, 0.16190865635871887, 0.08334314823150635, 0.9961305856704712, 0.9961885213851929, 0.9938151240348816, 0.9957643747329712, 0.004076917190104723, 0.9988876581192017, 0.33221688866615295, 0.6673479676246643, 0.763677179813385, 0.2341943383216858, 0.998283863067627, 0.9980160593986511, 0.16731788218021393, 0.8309652805328369, 0.2293563336133957, 0.524767279624939, 0.24541127681732178, 0.26248833537101746, 0.028781617060303688, 0.7068765163421631, 0.9958422780036926, 0.9968352317810059, 0.9786655306816101, 0.9977988600730896, 0.9971572160720825, 0.4612436592578888, 0.09420108795166016, 0.4441605806350708, 0.9715226292610168, 0.9970113039016724, 0.01214160118252039, 0.9834697246551514, 0.996812641620636, 0.9987078309059143, 0.9799770712852478, 0.9966069459915161, 0.9891928434371948, 0.07937057316303253, 0.9200881123542786, 0.9786569476127625, 0.053603395819664, 0.9450080394744873, 0.9927995800971985, 0.14721716940402985, 0.6268231272697449, 0.22542628645896912, 0.9988226890563965, 0.993765652179718, 0.39953720569610596, 0.3869580626487732, 0.1329793930053711, 0.08026684075593948, 0.9603741765022278, 0.9913688898086548, 0.998870849609375, 0.9000217914581299, 0.8922828435897827, 0.9954655766487122, 0.429824560880661, 0.5630096197128296, 0.9991518259048462, 0.26771271228790283, 0.731284499168396, 0.25441551208496094, 0.004646858666092157, 0.7400122284889221, 0.9875580072402954, 0.9890555739402771, 0.9655781388282776, 0.3120071589946747, 0.4389134347438812, 0.12830854952335358, 0.03435584157705307, 0.08553903549909592, 0.9973419308662415, 0.2655896246433258, 0.7325332760810852, 0.9973181486129761, 0.9593467712402344, 0.039772775024175644, 0.582613468170166, 0.4169810712337494, 0.9937685132026672, 0.9981372952461243, 0.9996093511581421, 0.9983121752738953, 0.9984248876571655, 0.8478090763092041, 0.8428952693939209, 0.1543329358100891, 0.21610413491725922, 0.754828155040741, 0.020483803004026413, 0.007169331423938274, 0.9962899088859558, 0.035532690584659576, 0.9638867378234863, 0.9910843372344971, 0.9967458844184875, 0.99757319688797, 0.998266875743866, 0.9956609606742859, 0.994481086730957, 0.9974205493927002, 0.995906412601471, 0.9737708568572998, 0.8925900459289551, 0.07725071907043457, 0.028299769386649132, 0.9742359519004822, 0.9957427382469177, 0.9984014630317688, 0.9886495471000671, 0.9697834253311157, 0.9993269443511963, 0.8899037837982178, 0.10310107469558716, 0.006671246141195297, 0.9978531002998352, 0.981059193611145, 0.21119263768196106, 0.7880575060844421, 0.9983435869216919, 0.9980539083480835, 0.48621734976768494, 0.4084835350513458, 0.0015241922810673714, 0.10212088376283646, 0.9909616708755493, 0.9949170351028442, 0.998072624206543, 0.9342818260192871, 0.9949078559875488, 0.9986175298690796, 0.03943144530057907, 0.6873441934585571, 0.16159160435199738, 0.11133584380149841, 0.9968740940093994, 0.3246656060218811, 0.671183705329895, 0.5653890371322632, 0.4315691292285919, 0.9598867893218994, 0.8236870765686035, 0.1756608635187149, 0.9723461270332336, 0.9967076182365417, 0.9986521601676941, 0.9504861235618591, 0.04919815436005592, 0.9969780445098877, 0.9986069798469543, 0.9948920607566833, 0.994450569152832, 0.9949311017990112, 0.9948613047599792, 0.9365755915641785, 0.9986993074417114, 0.9963353276252747, 0.9925774335861206, 0.996698796749115, 0.9949648976325989, 0.9936734437942505, 0.9822462797164917, 0.9612372517585754, 0.037538714706897736, 0.9975872039794922, 0.9007048606872559, 0.025708192959427834, 0.07253383100032806, 0.13281257450580597, 0.8666440844535828, 0.9929525256156921, 0.993924617767334, 0.14655733108520508, 0.7525472044944763, 0.09880269318819046, 0.9893180131912231, 0.9983200430870056, 0.9937587976455688, 0.9652185440063477, 0.9785894155502319, 0.9211525321006775, 0.07754123955965042, 0.7330232858657837, 0.26307106018066406, 0.9829942584037781, 0.012384179048240185, 0.003096044762060046, 0.9764495491981506, 0.9925872683525085, 0.9978253841400146, 0.9979692101478577, 0.994871973991394, 0.9950366020202637, 0.9765974283218384, 0.9961482286453247, 0.9864522814750671, 0.9791964292526245, 0.9983235001564026, 0.9980201721191406, 0.9988149404525757, 0.9987674951553345, 0.9934446811676025, 0.005331545602530241, 0.9548062086105347, 0.04461711272597313, 0.9987879395484924, 0.9999061226844788, 0.9964916110038757, 0.9970230460166931, 0.9958339333534241, 0.9775910377502441, 0.9911319613456726, 0.9972257018089294, 0.3494548499584198, 0.6502476334571838, 0.16349902749061584, 0.8355780243873596, 0.9986127614974976, 0.9921178817749023, 0.47930264472961426, 0.5199214816093445, 0.996936559677124, 0.2922590970993042, 0.6981745362281799, 0.9916297197341919, 0.9989656805992126, 0.9934081435203552, 0.9985870718955994, 0.9720883369445801, 0.9977946877479553, 0.9806547164916992, 0.018358590081334114, 0.998992919921875, 0.9990193843841553, 0.24346843361854553, 0.7498827576637268, 0.9087292551994324, 0.09103759378194809, 0.9992176294326782, 0.999411404132843, 0.997252345085144, 0.9907015562057495, 0.24255451560020447, 0.7569770216941833, 0.9690640568733215, 0.9741703271865845, 0.9876347780227661, 0.9767355918884277, 0.9876861572265625, 0.9963699579238892, 0.9945531487464905, 0.004700156860053539, 0.4668114185333252, 0.45379623770713806, 0.07852496951818466, 0.9991179704666138, 0.998300313949585, 0.9982588291168213, 0.9556794166564941, 0.11075777560472488, 0.2901372015476227, 0.28411775827407837, 0.313011109828949, 0.99647057056427, 0.9991400837898254, 0.9962618947029114, 0.994026243686676, 0.9981949329376221, 0.961914598941803, 0.9779035449028015, 0.9995324611663818, 0.9948439002037048, 0.987834632396698, 0.997692346572876, 0.5093573927879333, 0.2034597098827362, 0.027379728853702545, 0.22234228253364563, 0.020770829170942307, 0.016522251069545746, 0.9953663945198059, 0.9950333833694458, 0.992539644241333, 0.5916797518730164, 0.07154997438192368, 0.3153340220451355, 0.008568859659135342, 0.012424846179783344, 0.9974439740180969, 0.1247824877500534, 0.6891396641731262, 0.1843377649784088, 0.280874103307724, 0.5304376482963562, 0.02394336648285389, 0.16391997039318085, 0.9971535801887512, 0.9976871609687805, 0.9884240627288818, 0.9959234595298767, 0.9654377698898315, 0.34965085983276367, 0.6375986337661743, 0.009141198359429836, 0.995769202709198, 0.9989002346992493, 0.9996790885925293, 0.9949718713760376, 0.9914688467979431, 0.9909887909889221, 0.7760269641876221, 0.222872793674469, 0.001018529525026679, 0.9950277805328369, 0.9968039393424988, 0.6161985993385315, 0.3797953724861145, 0.8052797913551331, 0.09560399502515793, 0.0071243359707295895, 0.08112550526857376, 0.000689451873768121, 0.010111960582435131, 0.969394862651825, 0.030424997210502625, 0.03935256227850914, 0.9593883752822876, 0.9997384548187256, 0.882942259311676, 0.02104749158024788, 0.017422646284103394, 0.07846037298440933, 0.9948215484619141, 0.8831636309623718, 0.08290398120880127, 0.033505234867334366, 0.998799204826355, 0.770170271396637, 0.09526120871305466, 0.9030240774154663, 0.16427448391914368, 0.29011622071266174, 0.15339088439941406, 0.39180997014045715, 0.999206006526947, 0.9992899894714355, 0.9992931485176086, 0.5365021228790283, 0.01591319963335991, 0.06706276535987854, 0.3796434700489044, 0.9788561463356018, 0.9951665997505188, 0.9820166230201721, 0.017467206344008446, 0.9979861378669739, 0.22441497445106506, 0.07756736129522324, 0.6974433064460754, 0.9907876253128052, 0.17147763073444366, 0.7544175386428833, 0.028999892994761467, 0.04455056041479111, 0.9947657585144043, 0.05073142424225807, 0.5665009021759033, 0.06160244345664978, 0.19447046518325806, 0.12562067806720734, 0.9976785778999329, 0.9901576638221741, 0.6015183329582214, 0.39733994007110596, 0.9976819157600403, 0.9997661113739014, 0.8779709339141846, 0.9685181975364685, 0.9956257343292236, 0.0291972067207098, 0.968117892742157, 0.9695389270782471, 0.9982190728187561, 0.997124195098877, 0.99176025390625, 0.9958525896072388, 0.9899631142616272, 0.9973312020301819, 0.09060156345367432, 0.9084424376487732, 0.9930022358894348, 0.9881157279014587, 0.9945458173751831, 0.9951444268226624, 0.10842625051736832, 0.890087366104126, 0.9994936585426331, 0.9592827558517456, 0.7925097942352295, 0.025388436391949654, 0.18162496387958527, 0.12088627368211746, 0.8749863505363464, 0.9766011238098145, 0.9979349970817566, 0.9912195205688477, 0.994960367679596, 0.9550001621246338, 0.12524935603141785, 0.8727902173995972, 0.998893141746521, 0.9965006113052368, 0.9964954853057861, 0.9654954075813293, 0.033264268189668655, 0.9969514608383179, 0.9642022848129272, 0.9935973286628723, 0.999111533164978, 0.9988250732421875, 0.27127912640571594, 0.6222589015960693, 0.10593747347593307, 0.98839271068573, 0.9930771589279175, 0.9943382740020752, 0.9871363043785095, 0.9968076944351196, 0.21970857679843903, 0.7763036489486694, 0.3090749979019165, 0.6868333220481873, 0.9858728647232056, 0.9980176091194153, 0.9156615138053894, 0.9880607724189758, 0.9864090085029602, 0.9906014204025269, 0.9842894673347473, 0.9871464371681213, 0.9916812181472778, 0.984752357006073, 0.9995627999305725, 0.9838356375694275, 0.015149642713367939, 0.9981964230537415, 0.6141353249549866, 0.045275136828422546, 0.3395635187625885, 0.9940084218978882, 0.8111103177070618, 0.16867057979106903, 0.020069386810064316, 0.9958317875862122, 0.9866621494293213, 0.33993297815322876, 0.07167261093854904, 0.585667610168457, 0.5924223065376282, 0.40266525745391846, 0.004547554533928633, 0.997244119644165, 0.08169402182102203, 0.01763848215341568, 0.900490939617157, 0.9963464140892029, 0.9972913861274719, 0.9974833130836487, 0.9915673732757568, 0.999601423740387, 0.9978256225585938, 0.9969384074211121, 0.30712181329727173, 0.6921055316925049, 0.44488009810447693, 0.031141607090830803, 0.5216219425201416, 0.059246547520160675, 0.9406812191009521, 0.7860704064369202, 0.1377994269132614, 0.07587336748838425, 0.9994689226150513, 0.9906606674194336, 0.9980831146240234, 0.9665355682373047, 0.9882409572601318, 0.583478569984436, 0.04825587943196297, 0.36818307638168335, 0.9975793957710266, 0.4635845720767975, 0.5353468656539917, 0.9787899255752563, 0.020530715584754944, 0.20744508504867554, 0.7861076593399048, 0.005459081381559372, 0.8588274717330933, 0.027678601443767548, 0.11308685690164566, 0.993651270866394, 0.9915116429328918, 0.9325087666511536, 0.9993285536766052, 0.4088730216026306, 0.1884308010339737, 0.3972325026988983, 0.005092724226415157, 0.9852248430252075, 0.9957493543624878, 0.003644763259217143, 0.8760488033294678, 0.07709784060716629, 0.04253673925995827, 0.004276791587471962, 0.1380375772714615, 0.8135014176368713, 0.047853026539087296, 0.5518087148666382, 0.19049671292304993, 0.25707337260246277, 0.0004859610053244978, 0.43649110198020935, 0.5555341243743896, 0.9815418124198914, 0.995209276676178, 0.996051013469696, 0.995123028755188, 0.9976951479911804, 0.9952458143234253, 0.9977424740791321, 0.9996059536933899, 0.4574693441390991, 0.3515632748603821, 0.0008742248173803091, 0.17484496533870697, 0.00999114103615284, 0.005120459478348494, 0.9994592070579529, 0.0711444690823555, 0.9248780608177185, 0.6975079774856567, 0.2934190034866333, 0.008611209690570831, 0.9974640607833862, 0.9890745282173157, 0.9876861572265625, 0.15702196955680847, 0.8295091390609741, 0.011912011541426182, 0.9244235754013062, 0.07409501820802689, 0.9907079339027405, 0.9909307360649109, 0.6526526212692261, 0.3466890752315521, 0.9920411109924316, 0.9986722469329834, 0.9848447442054749, 0.9949753880500793, 0.996917724609375, 0.9942474961280823, 0.992692232131958, 0.9851429462432861, 0.9125006794929504, 0.08199281245470047, 0.7440969347953796, 0.25330960750579834, 0.9949432611465454, 0.9557309150695801, 0.9924755096435547, 0.9956161975860596, 0.995154082775116, 0.9974727034568787, 0.6801591515541077, 0.3177385926246643, 0.9925155639648438, 0.14013351500034332, 0.7755904793739319, 0.08186016976833344, 0.32538190484046936, 0.6124836206436157, 0.06044246256351471, 0.9984142184257507, 0.9971383213996887, 0.9967658519744873, 0.9925733804702759, 0.9952602386474609, 0.9960111975669861, 0.9985002875328064, 0.9897418022155762, 0.9911854863166809, 0.06905703246593475, 0.9253641963005066, 0.9973295331001282, 0.9858677387237549, 0.997340977191925, 0.9899903535842896, 0.2840580642223358, 0.315620094537735, 0.057554248720407486, 0.3416123390197754, 0.9957499504089355, 0.9798066020011902, 0.9932136535644531, 0.9741167426109314, 0.02564140036702156, 0.4290459156036377, 0.11595835536718369, 0.452237606048584, 0.996259868144989, 0.9460368156433105, 0.05297143757343292, 0.9972293972969055, 0.9135857224464417, 0.9589576721191406, 0.9407148361206055, 0.9964694380760193, 0.2427036166191101, 0.3212253749370575, 0.435846745967865, 0.9867184162139893, 0.9618963003158569, 0.03743679076433182, 0.05407005175948143, 0.5229726433753967, 0.3725071847438812, 0.0500812754034996, 0.08027029037475586, 0.8817569613456726, 0.03527027741074562, 0.9890927672386169, 0.6625422239303589, 0.3111756145954132, 0.02557607740163803, 0.9976177215576172, 0.9974284172058105, 0.6510101556777954, 0.0041091712191700935, 0.3439963459968567, 0.9972218871116638, 0.996860921382904, 0.9997723698616028, 0.9500932097434998, 0.9946646094322205, 0.996207594871521, 0.980503261089325, 0.9999285340309143, 0.9930589199066162, 0.2573196589946747, 0.7117099761962891, 0.014246070757508278, 0.016323622316122055, 0.46968531608581543, 0.526964008808136, 0.9956777691841125, 0.7073065638542175, 0.2905629277229309, 0.9948537349700928, 0.9940973520278931, 0.9375339150428772, 0.996259868144989, 0.9850339889526367, 0.9289877414703369, 0.9973093867301941, 0.9956042766571045, 0.9759485721588135, 0.06237839162349701, 0.9375070333480835, 0.997267484664917, 0.9952905774116516, 0.9920005798339844, 0.9986943602561951, 0.9961526393890381, 0.9566735029220581, 0.041594497859478, 0.9928728342056274, 0.9876624345779419, 0.9729205369949341, 0.9969217777252197, 0.999177873134613, 0.9976143836975098, 0.6354052424430847, 0.3619396686553955, 0.9983543753623962, 0.9976571798324585, 0.71186363697052, 0.26055219769477844, 0.008138403296470642, 0.01923622563481331, 0.9757305979728699, 0.9067124128341675, 0.9975687861442566, 0.9876218438148499, 0.8363925814628601, 0.16282232105731964, 0.9992009997367859, 0.3232683837413788, 0.6742454767227173, 0.9092392325401306, 0.08761759847402573, 0.9982768893241882, 0.9908146858215332, 0.9955096244812012, 0.9940754771232605, 0.9851328134536743, 0.9991521835327148, 0.9989064335823059, 0.9882416129112244, 0.9918884038925171, 0.9599511027336121, 0.9940134286880493, 0.9981276392936707, 0.5081111788749695, 0.25271138548851013, 0.23389244079589844, 0.9969241619110107, 0.11453705281019211, 0.697248101234436, 0.14886778593063354, 0.038887910544872284, 0.9943905472755432, 0.9979151487350464, 0.945741593837738, 0.9989887475967407, 0.4800114929676056, 0.2742922902107239, 0.245223268866539, 0.9976529479026794, 0.995862603187561, 0.9765053987503052, 0.9974998831748962, 0.990271270275116, 0.48910945653915405, 0.17706702649593353, 0.2647775113582611, 0.06889858841896057, 0.9945583939552307, 0.9974806904792786, 0.9940792918205261, 0.8915945887565613, 0.06716343760490417, 0.04096969589591026, 0.98963463306427, 0.9962310194969177, 0.9962404370307922, 0.9977483749389648, 0.9968640208244324, 0.988207221031189, 0.94950932264328, 0.029606081545352936, 0.02008984051644802, 0.6109380125999451, 0.1673208326101303, 0.22132641077041626, 0.984734296798706, 0.9897557497024536, 0.9991989135742188, 0.9910102486610413, 0.9977671504020691, 0.8358555436134338, 0.16155190765857697, 0.9928282499313354, 0.999312162399292, 0.9933156371116638, 0.2606673240661621, 0.1283883899450302, 0.34487009048461914, 0.2659473717212677, 0.8871620893478394, 0.3051004707813263, 0.6475153565406799, 0.04389934614300728, 0.9905000925064087, 0.9846528172492981, 0.9956716299057007, 0.9897956252098083, 0.9974322319030762, 0.9973897933959961, 0.9994967579841614, 0.32052281498908997, 0.6791333556175232, 0.9963427186012268, 0.9876139163970947, 0.9926812052726746, 0.9982223510742188, 0.8918371796607971, 0.10746132582426071, 0.9876963496208191, 0.9925839304924011, 0.7629357576370239, 0.03243248909711838, 0.20386137068271637, 0.9987705945968628, 0.9976860284805298, 0.9797720313072205, 0.9992228746414185, 0.9856698513031006, 0.9883562326431274, 0.9884687066078186, 0.001226083724759519, 0.009808669798076153, 0.716462254524231, 0.1339181810617447, 0.13452689349651337, 0.014609255827963352, 0.9830469489097595, 0.8862565159797668, 0.07861410826444626, 0.034267690032720566, 0.5871157646179199, 0.20883983373641968, 0.20095908641815186, 0.6142323017120361, 0.37990090250968933, 0.9719236493110657, 0.9963194131851196, 0.9985269904136658, 0.9965636730194092, 0.05702503025531769, 0.9394123554229736, 0.9962424635887146, 0.6514487862586975, 0.06168564781546593, 0.28665682673454285, 0.9866623878479004, 0.15997418761253357, 0.6780557036399841, 0.15997418761253357, 0.998107373714447, 0.9693413376808167, 0.02541344426572323, 0.9920109510421753, 0.9970297813415527, 0.9783958196640015, 0.9964450597763062, 0.03016272559762001, 0.9691759943962097, 0.0721004456281662, 0.30312231183052063, 0.19767539203166962, 0.2691749930381775, 0.05437575280666351, 0.1030435562133789, 0.28787001967430115, 0.7057458162307739, 0.10337293148040771, 0.8930273056030273, 0.9996741414070129, 0.998883843421936, 0.9878608584403992, 0.9975084066390991, 0.7993519306182861, 0.1963925063610077, 0.7620930075645447, 0.23772111535072327, 0.9968488216400146, 0.9930628538131714, 0.05713117495179176, 0.19392412900924683, 0.6284429430961609, 0.11989500373601913, 0.9980229735374451, 0.9982267022132874, 0.9986959099769592, 0.7722971439361572, 0.22636295855045319, 0.9432058334350586, 0.9981669187545776, 0.9925023913383484, 0.998525857925415, 0.5319684147834778, 0.3879680037498474, 0.07854567468166351, 0.9983049035072327, 0.9563020467758179, 0.016433995217084885, 0.02723347768187523, 0.9365701675415039, 0.002793878549709916, 0.06022360175848007, 0.9978258013725281, 0.3549368977546692, 0.2555866241455078, 0.1289951354265213, 0.2595926821231842, 0.970600962638855, 0.6194677352905273, 0.359009712934494, 0.004839591681957245, 0.016278626397252083, 0.9983317255973816, 0.20834100246429443, 0.7903729677200317, 0.9922928810119629, 0.9984126091003418, 0.9987806081771851, 0.9884737133979797, 0.13996854424476624, 0.7786857485771179, 0.0801718533039093, 0.000885876826941967, 0.9953667521476746, 0.9972779154777527, 0.9981630444526672, 0.9889862537384033, 0.9954636693000793, 0.9922056198120117, 0.99802565574646, 0.9867346286773682, 0.8075219392776489, 0.9865783452987671, 0.9963388442993164, 0.9925288558006287, 0.9241188764572144, 0.07010556757450104, 0.9728685617446899, 0.9961517453193665, 0.656700611114502, 0.1450781226158142, 0.19718782603740692, 0.9903906583786011, 0.19111762940883636, 0.805793285369873, 0.9871891140937805, 0.012382429093122482, 0.9975029826164246, 0.9872451424598694, 0.9876861572265625, 0.9553353786468506, 0.033548567444086075, 0.009585305117070675, 0.946329653263092, 0.03672175854444504, 0.016375919803977013, 0.9942271113395691, 0.9853225350379944, 0.9771049618721008, 0.9995373487472534, 0.9937328696250916, 0.9935089945793152, 0.9922704100608826, 0.9984390139579773, 0.9881770610809326, 0.9914539456367493, 0.4873191714286804, 0.5113843083381653, 0.990650475025177, 0.9933649301528931, 0.9876383543014526, 0.6780449151992798, 0.07886625081300735, 0.20587164163589478, 0.03584829717874527, 0.9797742366790771, 0.998319149017334, 0.058548711240291595, 0.2538018524646759, 0.09367793798446655, 0.5587998032569885, 0.03485690802335739, 0.931031346321106, 0.06663823127746582, 0.989319384098053, 0.9978806972503662, 0.9954286813735962, 0.9892369508743286, 0.010311959311366081, 0.39198505878448486, 0.6055817008018494, 0.9928417801856995, 0.9671379923820496, 0.9662199020385742, 0.9877449870109558, 0.9798652529716492, 0.9930699467658997, 0.9614130258560181, 0.19813790917396545, 0.6975606083869934, 0.023028135299682617, 0.026386404410004616, 0.054212067276239395, 0.987054705619812, 0.012512997724115849, 0.9816556572914124, 0.9892646074295044, 0.9389094114303589, 0.7398141622543335, 0.1312742382287979, 0.05551224574446678, 0.07331805676221848, 0.9998148679733276, 0.9974058270454407, 0.9968801736831665, 0.994169294834137, 0.9943842887878418, 0.9975395798683167, 0.9994766712188721, 0.9632346630096436, 0.9975701570510864, 0.029572155326604843, 0.4737580120563507, 0.4610842168331146, 0.035003773868083954, 0.9832587242126465, 0.9819573760032654, 0.9890018701553345, 0.010512229055166245, 0.9980873465538025, 0.9936761856079102, 0.9917765259742737, 0.15871918201446533, 0.8389442563056946, 0.17598970234394073, 0.823253870010376, 0.9966489672660828, 0.4828638732433319, 0.16411058604717255, 0.2146061658859253, 0.08521126955747604, 0.05049556866288185, 0.999666154384613, 0.9841723442077637, 0.9990314841270447, 0.9801077246665955, 0.9990144371986389, 0.9979259967803955, 0.9160217046737671, 0.08372913300991058, 0.9636967778205872, 0.036180589348077774, 0.9966386556625366, 0.994650661945343, 0.8585662245750427, 0.13614347577095032, 0.005089475307613611, 0.9883086681365967, 0.9854788184165955, 0.4493322968482971, 0.1175822839140892, 0.300254762172699, 0.1312302201986313, 0.9966087937355042, 0.9972007870674133, 0.9951668977737427, 0.9693946242332458, 0.981372594833374, 0.25273874402046204, 0.6602154970169067, 0.08510591089725494, 0.9969850778579712, 0.9971320033073425, 0.9909555315971375, 0.26034826040267944, 0.7302451133728027, 0.9928543567657471, 0.4364350438117981, 0.5625827312469482, 0.998539924621582, 0.7861077189445496, 0.213381826877594, 0.00022700194676872343, 0.9971026182174683, 0.997416615486145, 0.9974643588066101, 0.9901605248451233, 0.009236572310328484, 0.9975917339324951, 0.9974791407585144, 0.9963560104370117, 0.9961946606636047, 0.002922249026596546, 0.000584449793677777, 0.7747920751571655, 0.2242819219827652, 0.9969307780265808, 0.0029633152298629284, 0.9964147806167603, 0.07785797864198685, 0.712307870388031, 0.1903195083141327, 0.005715764593333006, 0.013594251126050949, 0.9978575706481934, 0.6939103007316589, 0.0913039818406105, 0.09418726712465286, 0.1201368197798729, 0.9915801882743835, 0.9921146035194397, 0.9956446886062622, 0.7357600331306458, 0.2595122456550598, 0.9894704818725586, 0.6948968172073364, 0.02493263967335224, 0.08123214542865753, 0.1986568421125412, 0.997825026512146, 0.07486238330602646, 0.2369174212217331, 0.0008807338890619576, 0.6852109432220459, 0.1282079964876175, 0.870335042476654, 0.990951657295227, 0.9982187151908875, 0.9806036353111267, 0.9849041104316711, 0.9979953169822693, 0.7674790024757385, 0.2323068231344223, 0.08180632442235947, 0.916508138179779, 0.36856135725975037, 0.6232037544250488, 0.9903947710990906, 0.9949482083320618, 0.8946826457977295, 0.019379407167434692, 0.07644099742174149, 0.009474377147853374, 0.991151750087738, 0.9980460405349731, 0.9915096163749695, 0.948273777961731, 0.051251474767923355, 0.9983086585998535, 0.9950357675552368, 0.9993903636932373, 0.999261736869812, 0.9996784925460815, 0.9982165694236755, 0.9820539951324463, 0.9977352023124695, 0.9939333200454712, 0.16771584749221802, 0.05932307243347168, 0.03808394819498062, 0.7338483929634094, 0.41375014185905457, 0.40064579248428345, 0.18076275289058685, 0.004817770794034004, 0.9953379034996033, 0.9971134066581726, 0.920495867729187, 0.07944979518651962, 0.42731285095214844, 0.556179404258728, 0.016397377476096153, 0.9834942817687988, 0.9684463739395142, 0.9839888215065002, 0.3762817084789276, 0.07099305093288422, 0.5488523244857788, 0.003707209136337042, 0.3698057234287262, 0.6285476684570312], \"Term\": [\"_\", \"academy\", \"accept\", \"accept\", \"access\", \"access\", \"access\", \"access\", \"act\", \"act\", \"act\", \"actually\", \"actually\", \"adapter\", \"add\", \"add\", \"add\", \"add\", \"address\", \"address\", \"adjust\", \"admin\", \"advance\", \"advance\", \"agency\", \"aim\", \"aim\", \"aim\", \"air\", \"algorithm\", \"also\", \"also\", \"also\", \"also\", \"america\", \"american\", \"ann_arbor\", \"announcement\", \"anyone\", \"anyone\", \"anyway\", \"appear\", \"appear\", \"apple\", \"application\", \"application\", \"apply\", \"apply\", \"apply\", \"apply\", \"appreciate\", \"appressian\", \"approval\", \"approval\", \"approve\", \"apr\", \"april\", \"april\", \"april\", \"arab\", \"archive\", \"archive\", \"area\", \"area\", \"area\", \"argument\", \"arm\", \"arm\", \"armenia\", \"armenian\", \"article\", \"article\", \"associate\", \"asteroid\", \"astronomy\", \"atf\", \"atheism\", \"atheist\", \"atm\", \"attack\", \"attack\", \"attack\", \"aug\", \"australian\", \"authority\", \"authority\", \"auto\", \"available\", \"aware\", \"ax\", \"back\", \"back\", \"bad\", \"band\", \"bank\", \"base\", \"base\", \"base\", \"baseball\", \"batf\", \"battery\", \"be\", \"be\", \"belief\", \"believe\", \"believe\", \"better\", \"better\", \"bible\", \"bike\", \"bill\", \"bill\", \"bit\", \"bit\", \"bit\", \"black\", \"black\", \"black\", \"blank\", \"blue\", \"bmp\", \"body\", \"bomb\", \"book\", \"book\", \"book\", \"borland\", \"boston\", \"bother\", \"bother\", \"boy\", \"brain\", \"brand_new\", \"brown\", \"bug\", \"build\", \"build\", \"bullet\", \"bus\", \"bus\", \"button\", \"buy\", \"buy\", \"buy\", \"ca\", \"california_institute\", \"call\", \"call\", \"call\", \"call\", \"callback\", \"caltech\", \"canada\", \"canberra\", \"cancel\", \"cap\", \"capture\", \"capture\", \"car\", \"card\", \"card\", \"carry\", \"carry\", \"carry\", \"catalog\", \"cbr\", \"centaur\", \"center\", \"center\", \"center\", \"center\", \"center\", \"character\", \"cheap\", \"cheap\", \"chicago\", \"child\", \"child\", \"chip\", \"chip\", \"chris\", \"christ\", \"christian\", \"christianity\", \"church\", \"circumference\", \"citizen\", \"citizen\", \"city\", \"city\", \"city\", \"city\", \"civilian\", \"claim\", \"claim\", \"click\", \"clinton\", \"clipper\", \"clipper_chip\", \"clock\", \"closed\", \"club\", \"cluster\", \"cod\", \"code\", \"code\", \"code\", \"col\", \"cold\", \"color\", \"colorado_boulder\", \"columbia\", \"com\", \"come\", \"come\", \"come\", \"community\", \"compiler\", \"computer\", \"computer\", \"computer_science\", \"conclusion\", \"condition\", \"condition\", \"condition\", \"condition\", \"configuration\", \"congress\", \"connector\", \"console\", \"consult\", \"contain\", \"control\", \"control\", \"control\", \"control\", \"controller\", \"convert\", \"convert\", \"cool\", \"cool\", \"cooling_tower\", \"copy\", \"copy\", \"cord\", \"corp\", \"corporation\", \"could\", \"could\", \"count\", \"cpu\", \"cr\", \"crash\", \"cross\", \"cub\", \"cubic\", \"current\", \"cycle\", \"cylinder\", \"dale\", \"dangerous\", \"daniel\", \"dare\", \"datum\", \"datum\", \"dave\", \"david\", \"david\", \"david\", \"death\", \"death\", \"decent\", \"default\", \"define\", \"define\", \"define\", \"delaware\", \"dept\", \"depth\", \"der\", \"desert\", \"design\", \"design\", \"destroy\", \"destroy\", \"detail\", \"detail\", \"detail\", \"diameter\", \"diet\", \"digital\", \"direct\", \"directory\", \"dirt\", \"disable\", \"disagree\", \"disarm\", \"discount\", \"disease\", \"disk\", \"display\", \"distribution\", \"distribution_usa\", \"distribution_usa\", \"distribution_world\", \"distribution_world\", \"division\", \"do\", \"doctor\", \"dod\", \"door\", \"download\", \"dr\", \"draft\", \"drive\", \"drive\", \"driver\", \"driver\", \"drug\", \"duo\", \"earth\", \"earth\", \"eat\", \"edit\", \"edit\", \"electrical\", \"email\", \"enable\", \"encryption\", \"enemy\", \"engine\", \"engineering\", \"engineering\", \"enough\", \"entry\", \"escape\", \"escape\", \"even\", \"even\", \"everything\", \"evidence\", \"exactly\", \"exe\", \"exist\", \"exist\", \"expire\", \"explode\", \"expose\", \"extension\", \"extermination_ohanus\", \"external\", \"face\", \"face\", \"fact\", \"fact\", \"fact\", \"faith\", \"fan\", \"faq\", \"farmer\", \"fast\", \"fast\", \"fast\", \"fast\", \"father\", \"fax\", \"federal\", \"fi\", \"field\", \"fighter\", \"fighting\", \"file\", \"film\", \"finland\", \"firearm\", \"first\", \"first\", \"first\", \"first\", \"first\", \"first\", \"flight\", \"floor\", \"floppy\", \"follow\", \"follow\", \"follow\", \"follow\", \"follow\", \"font\", \"foot\", \"foot\", \"foot\", \"force\", \"force\", \"force\", \"force\", \"forget\", \"format\", \"forsale\", \"freedom\", \"frequently_ask\", \"front\", \"front\", \"front\", \"ftp\", \"function\", \"game\", \"gateway\", \"gear\", \"genocide\", \"get\", \"get\", \"get\", \"gif\", \"gift\", \"girl\", \"girl\", \"give\", \"give\", \"give\", \"give\", \"give\", \"give\", \"go\", \"go\", \"goal\", \"goal\", \"god\", \"good\", \"good\", \"good\", \"good\", \"gov\", \"government\", \"government\", \"government\", \"graphic\", \"gravity_assist\", \"greek\", \"greek\", \"group\", \"group\", \"group\", \"group\", \"guess\", \"gun\", \"happen\", \"hardware\", \"hardware\", \"hardware\", \"hardware\", \"harley\", \"harry\", \"have\", \"have\", \"health\", \"help\", \"help\", \"help\", \"hewlett_packard\", \"high\", \"high\", \"high\", \"high\", \"highway\", \"history\", \"history\", \"history\", \"history\", \"history\", \"hit\", \"holocaust\", \"home\", \"home\", \"honda\", \"host\", \"host_mahler\", \"host_punisher\", \"hot\", \"house\", \"house\", \"hp\", \"human\", \"ibm\", \"idaho\", \"ide\", \"ide_vs\", \"illinois\", \"image\", \"image\", \"imho\", \"implementation\", \"imply\", \"improve\", \"inc\", \"inc\", \"include\", \"infinity\", \"information\", \"information\", \"information\", \"inhabitant\", \"inhabitant\", \"ini\", \"input\", \"installation\", \"insurance\", \"interactive\", \"interest\", \"interest\", \"interested\", \"interface\", \"internal\", \"internet\", \"internet\", \"interpretation\", \"invade\", \"isa\", \"israel\", \"israeli\", \"issue\", \"issue\", \"issue\", \"japan\", \"japanese\", \"jason\", \"jerusalem\", \"jet_propulsion\", \"jew\", \"jew\", \"jewish\", \"jewish\", \"jim_frost\", \"job\", \"jon_leech\", \"jon_livesey\", \"jonathan\", \"jone\", \"jpeg\", \"jpl\", \"jr\", \"keith_allan\", \"key\", \"keyword\", \"keyword\", \"kid\", \"kill\", \"kill\", \"kill\", \"km\", \"know\", \"know\", \"know\", \"koresh\", \"kurd\", \"land\", \"land\", \"land\", \"last\", \"last\", \"last\", \"launch\", \"law\", \"law\", \"law\", \"law_enforcement\", \"leafs\", \"legal\", \"lemieux\", \"let\", \"library\", \"license\", \"life\", \"life\", \"light\", \"light\", \"light\", \"line\", \"line\", \"list\", \"list\", \"list\", \"little\", \"log\", \"logic\", \"login\", \"longer_exist\", \"look\", \"look\", \"look\", \"lord\", \"lose\", \"lose\", \"lot\", \"lot\", \"love\", \"love\", \"love\", \"low\", \"low\", \"low\", \"ltd\", \"lunar\", \"lunar_orbit\", \"mac\", \"machine\", \"machine\", \"machine\", \"machine\", \"macintosh\", \"mail\", \"mail\", \"make\", \"make\", \"make\", \"make\", \"man\", \"man\", \"man\", \"many\", \"many\", \"many\", \"many\", \"map\", \"map\", \"mapping\", \"mar\", \"market\", \"martin\", \"mass\", \"massacre\", \"material\", \"max\", \"may\", \"may\", \"may\", \"may\", \"may\", \"may\", \"maybe\", \"mb\", \"mb\", \"mean\", \"mean\", \"mean\", \"meet\", \"meg\", \"melkonian\", \"member\", \"member\", \"member\", \"memory\", \"memory\", \"menu\", \"mess\", \"message\", \"message\", \"meter\", \"method\", \"mg\", \"mhz\", \"michael\", \"michigan\", \"microsoft\", \"might_serve\", \"mile\", \"mile\", \"military\", \"military\", \"militia\", \"minimal\", \"minnesota\", \"minority\", \"mirror\", \"mission\", \"mit\", \"mit\", \"mo\", \"mode\", \"mode\", \"mode\", \"model\", \"model\", \"model\", \"monitor\", \"moon\", \"moral\", \"moslem\", \"mother\", \"motherboard\", \"motif\", \"motor\", \"motorola\", \"motto\", \"motto\", \"mount\", \"mountain_pass\", \"mouse\", \"mph\", \"mr\", \"mr\", \"mr\", \"mr\", \"ms\", \"ms_window\", \"mu\", \"much\", \"much\", \"murder\", \"murder\", \"murder\", \"nasa\", \"national\", \"national\", \"nature\", \"naval\", \"navy\", \"ncd\", \"nec\", \"need\", \"need\", \"need\", \"netcom\", \"never\", \"never\", \"new\", \"new\", \"new\", \"new\", \"new_york\", \"new_york\", \"new_york\", \"new_zealand\", \"news\", \"news\", \"news\", \"newsgroup\", \"newsreader_tin\", \"next\", \"next\", \"next\", \"nhl\", \"night\", \"nntp_post\", \"node\", \"noise\", \"northern\", \"norway\", \"not\", \"nt\", \"number\", \"number\", \"number\", \"number\", \"object\", \"object\", \"occupy\", \"offer\", \"offer\", \"oil\", \"ok\", \"openwindow\", \"operate\", \"operator\", \"optimize\", \"option\", \"orbit\", \"orbital\", \"organization\", \"organization\", \"originator\", \"out\", \"ozone\", \"package\", \"packet\", \"page\", \"page\", \"panel\", \"parameter\", \"participation\", \"pat\", \"patient\", \"pc\", \"peace\", \"peace\", \"pen\", \"penguin\", \"people\", \"people\", \"people\", \"people\", \"peripheral\", \"personnel\", \"pgp\", \"philip\", \"phone\", \"phone\", \"physical\", \"pick\", \"pick\", \"picture\", \"picture\", \"pin\", \"pixel\", \"plane\", \"planet\", \"planetary\", \"play\", \"player\", \"please\", \"please_respond\", \"plo\", \"plot\", \"police\", \"population\", \"population\", \"population\", \"port\", \"post\", \"post\", \"post\", \"post\", \"power_supply\", \"president\", \"press_release\", \"pretty\", \"price\", \"price\", \"price\", \"printer\", \"prior\", \"priority\", \"private\", \"probe\", \"problem\", \"problem\", \"problem\", \"problem\", \"procedure\", \"processor\", \"production\", \"program\", \"program\", \"program\", \"programmer\", \"proof\", \"propose\", \"protect\", \"protection\", \"proud\", \"prove\", \"prove\", \"prove\", \"provide\", \"provide\", \"provide\", \"province\", \"ps\", \"public\", \"public_access\", \"publish\", \"purchase\", \"purchase\", \"purdue_university\", \"put\", \"quadra\", \"question\", \"question\", \"question\", \"question\", \"qwk\", \"radio\", \"radio\", \"radio\", \"radius\", \"ralph\", \"ram\", \"rat\", \"rational\", \"reality\", \"really\", \"reason\", \"reason\", \"recommend\", \"recommendation\", \"red\", \"refer\", \"reference\", \"reference\", \"reflect\", \"related\", \"release\", \"release\", \"release\", \"religion\", \"religious\", \"remainder\", \"remember\", \"render\", \"replacement\", \"reply\", \"reply\", \"reply\", \"report\", \"report\", \"report\", \"report\", \"republic\", \"require\", \"require\", \"require\", \"requirement\", \"requirement\", \"requirement\", \"resolution\", \"resolution\", \"retract\", \"revelation\", \"review\", \"richard\", \"ride\", \"ride\", \"rider\", \"right\", \"right\", \"right\", \"river\", \"road\", \"road\", \"road\", \"robert\", \"rocket\", \"rocket\", \"roger\", \"route\", \"row\", \"rsa\", \"rule\", \"rule\", \"run\", \"run\", \"run\", \"run\", \"run\", \"run\", \"russia\", \"russia\", \"russian\", \"russian\", \"s\", \"sale\", \"sam\", \"satellite\", \"saturn\", \"saturn\", \"say\", \"say\", \"scan\", \"schneider\", \"science\", \"science\", \"science\", \"science\", \"scientific\", \"score\", \"scott\", \"screen\", \"screen\", \"script\", \"scsi\", \"sea\", \"season\", \"section\", \"section\", \"section\", \"security\", \"see\", \"see\", \"see\", \"seem\", \"seem\", \"seem\", \"self\", \"sell\", \"sell\", \"sell\", \"sell\", \"senate\", \"send\", \"send\", \"send\", \"send\", \"sens\", \"sense\", \"sense\", \"serdar_argic\", \"serial_number\", \"server\", \"session\", \"set\", \"set\", \"set\", \"set\", \"sgi\", \"shall\", \"share\", \"shop\", \"should\", \"shuttle\", \"signal\", \"simms\", \"simplistic\", \"single_turkish\", \"site\", \"sky\", \"slaughter\", \"slaughter\", \"smartdrv\", \"smith\", \"software\", \"software\", \"software\", \"solar\", \"soldier\", \"soldier\", \"something\", \"something\", \"son\", \"sony\", \"soul_sahak\", \"sound\", \"sound\", \"sound\", \"source\", \"source\", \"source\", \"soviet\", \"soviet_armenia\", \"soviet_union\", \"space\", \"space_shuttle\", \"space_station\", \"spacecraft\", \"speak\", \"speaker\", \"spec\", \"speed\", \"speed\", \"spot\", \"spring\", \"square\", \"st\", \"st\", \"st\", \"st\", \"staff\", \"star\", \"state\", \"state\", \"state\", \"state\", \"state\", \"steal\", \"steal\", \"stereo\", \"steve\", \"stick\", \"still\", \"still\", \"store\", \"store\", \"strip\", \"submission\", \"substantially\", \"suck\", \"sue\", \"super\", \"supersede\", \"support\", \"support\", \"support\", \"support\", \"support\", \"sure\", \"sure\", \"survivor\", \"sx\", \"sydney\", \"system\", \"system\", \"system\", \"system\", \"take\", \"tap\", \"tape\", \"target\", \"tavare\", \"tax\", \"team\", \"tech_support\", \"technical\", \"technology\", \"technology\", \"technology\", \"technology\", \"telescope\", \"television\", \"tell\", \"tell\", \"telnet\", \"terminal\", \"territory\", \"terrorism\", \"terrorism\", \"test\", \"test\", \"texas\", \"text\", \"text\", \"text\", \"text\", \"text\", \"thank\", \"thanx\", \"that\", \"theodore_kaldis\", \"there\", \"therefore\", \"thing\", \"thing\", \"think\", \"think\", \"ticket\", \"tim\", \"time\", \"time\", \"time\", \"tip\", \"tire\", \"today\", \"today\", \"today\", \"today\", \"tom\", \"tool\", \"topic\", \"tour\", \"toyota\", \"track\", \"track\", \"track\", \"transfer\", \"treatment\", \"trivial\", \"troop\", \"troop\", \"truck\", \"true\", \"true\", \"truth\", \"try\", \"try\", \"try\", \"turk\", \"turkey\", \"turkish\", \"type\", \"type\", \"unit\", \"united_state\", \"universe\", \"university\", \"university\", \"university\", \"unix\", \"unix\", \"upgrade\", \"usa\", \"usa\", \"use\", \"use\", \"use\", \"use\", \"use\", \"usenet\", \"user\", \"user\", \"user\", \"user\", \"utility\", \"uunet\", \"van\", \"vehicle\", \"vehicle\", \"venus\", \"version\", \"version\", \"version\", \"version\", \"video\", \"view\", \"view\", \"view\", \"view\", \"village\", \"village\", \"virginia\", \"visit\", \"vms_vnews\", \"vol\", \"vote\", \"want\", \"want\", \"war\", \"war\", \"warn\", \"warn\", \"warrant\", \"water\", \"way\", \"way\", \"way\", \"way\", \"wayne\", \"weapon\", \"weekend\", \"well\", \"well\", \"what\", \"widget\", \"will\", \"win\", \"window\", \"wing\", \"winter\", \"wire\", \"withdraw\", \"word\", \"word\", \"word\", \"word\", \"work\", \"work\", \"work\", \"work\", \"worry\", \"worth\", \"would\", \"would\", \"write\", \"write\", \"write\", \"wwii\", \"xview\", \"yale\", \"year\", \"year\", \"year\", \"year\", \"young\", \"young\"]}, \"R\": 30, \"lambda.step\": 0.01, \"plot.opts\": {\"xlab\": \"PC1\", \"ylab\": \"PC2\"}, \"topic.order\": [3, 11, 7, 19, 9, 18, 10, 16, 14, 15, 8, 6, 1, 2, 20, 13, 5, 12, 4, 17]};\n",
       "\n",
       "function LDAvis_load_lib(url, callback){\n",
       "  var s = document.createElement('script');\n",
       "  s.src = url;\n",
       "  s.async = true;\n",
       "  s.onreadystatechange = s.onload = callback;\n",
       "  s.onerror = function(){console.warn(\"failed to load library \" + url);};\n",
       "  document.getElementsByTagName(\"head\")[0].appendChild(s);\n",
       "}\n",
       "\n",
       "if(typeof(LDAvis) !== \"undefined\"){\n",
       "   // already loaded: just create the visualization\n",
       "   !function(LDAvis){\n",
       "       new LDAvis(\"#\" + \"ldavis_el643216989590358729126015213\", ldavis_el643216989590358729126015213_data);\n",
       "   }(LDAvis);\n",
       "}else if(typeof define === \"function\" && define.amd){\n",
       "   // require.js is available: use it to load d3/LDAvis\n",
       "   require.config({paths: {d3: \"https://cdnjs.cloudflare.com/ajax/libs/d3/3.5.5/d3.min\"}});\n",
       "   require([\"d3\"], function(d3){\n",
       "      window.d3 = d3;\n",
       "      LDAvis_load_lib(\"https://cdn.rawgit.com/bmabey/pyLDAvis/files/ldavis.v1.0.0.js\", function(){\n",
       "        new LDAvis(\"#\" + \"ldavis_el643216989590358729126015213\", ldavis_el643216989590358729126015213_data);\n",
       "      });\n",
       "    });\n",
       "}else{\n",
       "    // require.js not available: dynamically load d3 & LDAvis\n",
       "    LDAvis_load_lib(\"https://cdnjs.cloudflare.com/ajax/libs/d3/3.5.5/d3.min.js\", function(){\n",
       "         LDAvis_load_lib(\"https://cdn.rawgit.com/bmabey/pyLDAvis/files/ldavis.v1.0.0.js\", function(){\n",
       "                 new LDAvis(\"#\" + \"ldavis_el643216989590358729126015213\", ldavis_el643216989590358729126015213_data);\n",
       "            })\n",
       "         });\n",
       "}\n",
       "</script>"
      ],
      "text/plain": [
       "PreparedData(topic_coordinates=              x         y  topics  cluster       Freq\n",
       "topic                                                \n",
       "2     -0.365028 -0.042478       1        1  32.994583\n",
       "10    -0.290486  0.107284       2        1  14.937504\n",
       "6     -0.258537  0.209936       3        1  11.932644\n",
       "18    -0.277515 -0.172091       4        1   8.774340\n",
       "8     -0.135550 -0.101573       5        1   5.352482\n",
       "17    -0.127677 -0.020703       6        1   5.193089\n",
       "9      0.050794  0.016789       7        1   4.724924\n",
       "15    -0.062915 -0.180926       8        1   3.910157\n",
       "13     0.051748  0.159981       9        1   1.842016\n",
       "14     0.030251  0.220712      10        1   1.711360\n",
       "7      0.106603  0.007598      11        1   1.180165\n",
       "5      0.129223 -0.007934      12        1   1.104178\n",
       "0      0.120879  0.035351      13        1   1.071586\n",
       "1      0.106939 -0.093650      14        1   1.053303\n",
       "19     0.093704 -0.107670      15        1   1.044910\n",
       "12     0.168106 -0.008354      16        1   0.772133\n",
       "4      0.154133 -0.013843      17        1   0.728299\n",
       "11     0.161848 -0.009031      18        1   0.720527\n",
       "3      0.151401  0.012156      19        1   0.684873\n",
       "16     0.192077 -0.011557      20        1   0.266924, topic_info=     Category          Freq            Term         Total  loglift  logprob\n",
       "term                                                                       \n",
       "5615  Default  50327.000000              ax  50327.000000  30.0000  30.0000\n",
       "21    Default  18448.000000            line  18448.000000  29.0000  29.0000\n",
       "30    Default  16928.000000    organization  16928.000000  28.0000  28.0000\n",
       "82    Default  22603.000000             not  22603.000000  27.0000  27.0000\n",
       "1120  Default   4799.000000               _   4799.000000  26.0000  26.0000\n",
       "245   Default  14270.000000           write  14270.000000  25.0000  25.0000\n",
       "55    Default  10841.000000         article  10841.000000  24.0000  24.0000\n",
       "65    Default  14492.000000              do  14492.000000  23.0000  23.0000\n",
       "29    Default   6795.000000       nntp_post   6795.000000  22.0000  22.0000\n",
       "46    Default   6844.000000      university   6844.000000  21.0000  21.0000\n",
       "210   Default  17293.000000           would  17293.000000  20.0000  20.0000\n",
       "16    Default   6342.000000            host   6342.000000  19.0000  19.0000\n",
       "2450  Default   4027.000000             max   4027.000000  18.0000  18.0000\n",
       "50    Default   5394.000000            year   5394.000000  17.0000  17.0000\n",
       "1394  Default   2638.000000          window   2638.000000  16.0000  16.0000\n",
       "166   Default   8109.000000          people   8109.000000  15.0000  15.0000\n",
       "111   Default  11037.000000              be  11037.000000  14.0000  14.0000\n",
       "435   Default   3287.000000           drive   3287.000000  13.0000  13.0000\n",
       "401   Default   2261.000000            file   2261.000000  12.0000  12.0000\n",
       "368   Default   9094.000000             say   9094.000000  11.0000  11.0000\n",
       "241   Default   5728.000000          system   5728.000000  10.0000  10.0000\n",
       "835   Default   3200.000000             key   3200.000000   9.0000   9.0000\n",
       "134   Default  10799.000000             get  10799.000000   8.0000   8.0000\n",
       "651   Default   3665.000000             god   3665.000000   7.0000   7.0000\n",
       "916   Default   1930.000000           space   1930.000000   6.0000   6.0000\n",
       "6     Default   2110.000000             car   2110.000000   5.0000   5.0000\n",
       "377   Default   3672.000000           state   3672.000000   4.0000   4.0000\n",
       "409   Default   4078.000000           reply   4078.000000   3.0000   3.0000\n",
       "274   Default   4133.000000           right   4133.000000   2.0000   2.0000\n",
       "930   Default   2772.000000            team   2772.000000   1.0000   1.0000\n",
       "...       ...           ...             ...           ...      ...      ...\n",
       "3860  Topic20    178.681656        michigan    180.035660   5.9184  -3.1819\n",
       "1385  Topic20    148.371780         session    149.725784   5.9169  -3.3678\n",
       "2828  Topic20    122.340103       astronomy    123.694107   5.9150  -3.5607\n",
       "1375  Topic20     90.740471  implementation     92.094475   5.9112  -3.8595\n",
       "4536  Topic20     89.518852         warrant     90.872856   5.9110  -3.8731\n",
       "4477  Topic20     88.712227         approve     90.066231   5.9108  -3.8821\n",
       "2359  Topic20     75.194244           staff     76.548248   5.9081  -4.0474\n",
       "2517  Topic20     66.218018       extension     67.572021   5.9057  -4.1746\n",
       "3024  Topic20     63.611855       planetary     64.965858   5.9049  -4.2147\n",
       "3083  Topic20     61.701633       telescope     63.055634   5.9043  -4.2452\n",
       "2904  Topic20     57.465637          expire     58.819641   5.9027  -4.3163\n",
       "4529  Topic20     55.311920          senate     56.665924   5.9018  -4.3545\n",
       "3092  Topic20     50.224583            tour     51.578583   5.8994  -4.4510\n",
       "2916  Topic20     43.185379  frequently_ask     44.539379   5.8951  -4.6020\n",
       "4509  Topic20     40.357956            navy     41.711956   5.8930  -4.6697\n",
       "3006  Topic20     39.631767         orbital     40.985767   5.8924  -4.6879\n",
       "1377  Topic20     34.857807           login     36.211807   5.8879  -4.8162\n",
       "3630  Topic20     33.592323   participation     34.946327   5.8864  -4.8532\n",
       "3078  Topic20     32.970478       supersede     34.324478   5.8857  -4.8719\n",
       "2848  Topic20     29.715467         centaur     31.069469   5.8814  -4.9758\n",
       "2527  Topic20     27.444956      openwindow     28.798958   5.8778  -5.0553\n",
       "4518  Topic20     27.195023   press_release     28.549025   5.8774  -5.0645\n",
       "3077  Topic20     25.554987   substantially     26.908989   5.8743  -5.1267\n",
       "4508  Topic20     16.159407           naval     17.513409   5.8455  -5.5850\n",
       "4516  Topic20     14.086395       personnel     15.440397   5.8342  -5.7223\n",
       "2952  Topic20     13.935491       jon_leech     15.289493   5.8332  -5.7331\n",
       "1148  Topic20     13.215369          cancel     14.569371   5.8284  -5.7861\n",
       "2931  Topic20     12.313876     host_mahler     13.667878   5.8216  -5.8568\n",
       "3867  Topic20     12.172275             qwk     13.526277   5.8205  -5.8683\n",
       "4476  Topic20     12.464853        approval     33.119560   4.9488  -5.8446\n",
       "\n",
       "[910 rows x 6 columns], token_table=      Topic      Freq       Term\n",
       "term                            \n",
       "1120     16  0.999749          _\n",
       "4095     18  0.952280    academy\n",
       "1640      4  0.986602     accept\n",
       "1640      5  0.012256     accept\n",
       "103       2  0.149117     access\n",
       "103       5  0.618468     access\n",
       "103      10  0.209008     access\n",
       "103      13  0.022001     access\n",
       "1835      4  0.711287        act\n",
       "1835      5  0.263765        act\n",
       "1835     15  0.023739        act\n",
       "105       1  0.990392   actually\n",
       "105       2  0.008715   actually\n",
       "52       10  0.990531    adapter\n",
       "53        1  0.035105        add\n",
       "53        2  0.921744        add\n",
       "53        3  0.037806        add\n",
       "53       10  0.004501        add\n",
       "212       3  0.738373    address\n",
       "212       5  0.260934    address\n",
       "3954     17  0.971249     adjust\n",
       "2295     19  0.975909      admin\n",
       "106       2  0.964390    advance\n",
       "106      13  0.034473    advance\n",
       "2019      5  0.997701     agency\n",
       "3371      1  0.192737        aim\n",
       "3371      8  0.205307        aim\n",
       "3371     15  0.599161        aim\n",
       "1564     12  0.997209        air\n",
       "2707      3  0.998306  algorithm\n",
       "...     ...       ...        ...\n",
       "512       6  0.999262        win\n",
       "1394     13  0.999678     window\n",
       "945       6  0.998217       wing\n",
       "244      15  0.982054     winter\n",
       "3761      2  0.997735       wire\n",
       "2702     15  0.993933   withdraw\n",
       "1118      1  0.167716       word\n",
       "1118      2  0.059323       word\n",
       "1118      3  0.038084       word\n",
       "1118      4  0.733848       word\n",
       "560       1  0.413750       work\n",
       "560       2  0.400646       work\n",
       "560       3  0.180763       work\n",
       "560      14  0.004818       work\n",
       "1729     12  0.995338      worry\n",
       "209       1  0.997113      worth\n",
       "210       1  0.920496      would\n",
       "210       3  0.079450      would\n",
       "245       1  0.427313      write\n",
       "245       3  0.556179      write\n",
       "245       4  0.016397      write\n",
       "3766     15  0.983494       wwii\n",
       "4560     18  0.968446      xview\n",
       "2294     18  0.983989       yale\n",
       "50        1  0.376282       year\n",
       "50        2  0.070993       year\n",
       "50        6  0.548852       year\n",
       "50        8  0.003707       year\n",
       "737       4  0.369806      young\n",
       "737       6  0.628548      young\n",
       "\n",
       "[1262 rows x 3 columns], R=30, lambda_step=0.01, plot_opts={'xlab': 'PC1', 'ylab': 'PC2'}, topic_order=[3, 11, 7, 19, 9, 18, 10, 16, 14, 15, 8, 6, 1, 2, 20, 13, 5, 12, 4, 17])"
      ]
     },
     "execution_count": 19,
     "metadata": {},
     "output_type": "execute_result"
    }
   ],
   "source": [
    "# Visualize the topics\n",
    "pyLDAvis.enable_notebook()\n",
    "vis = pyLDAvis.gensim.prepare(lda_model, corpus, id2word)\n",
    "vis"
   ]
  },
  {
   "cell_type": "code",
   "execution_count": 21,
   "metadata": {},
   "outputs": [
    {
     "name": "stdout",
     "output_type": "stream",
     "text": [
      "\n",
      "Perplexity:  -14.222266569674229\n",
      "\n",
      "Coherence Score:  0.5262293975319933\n"
     ]
    }
   ],
   "source": [
    "# Compute Perplexity\n",
    "print('\\nPerplexity: ', lda_model.log_perplexity(corpus))  # a measure of how good the model is. lower the better.\n",
    "\n",
    "# Compute Coherence Score\n",
    "coherence_model_lda = CoherenceModel(model=lda_model, texts=data_lemmatized, dictionary=id2word, coherence='c_v')\n",
    "coherence_lda = coherence_model_lda.get_coherence()\n",
    "print('\\nCoherence Score: ', coherence_lda)"
   ]
  }
 ],
 "metadata": {
  "kernelspec": {
   "display_name": "Python 3",
   "language": "python",
   "name": "python3"
  },
  "language_info": {
   "codemirror_mode": {
    "name": "ipython",
    "version": 3
   },
   "file_extension": ".py",
   "mimetype": "text/x-python",
   "name": "python",
   "nbconvert_exporter": "python",
   "pygments_lexer": "ipython3",
   "version": "3.6.5"
  }
 },
 "nbformat": 4,
 "nbformat_minor": 1
}
