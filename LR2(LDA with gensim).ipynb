{
 "cells": [
  {
   "cell_type": "code",
   "execution_count": 5,
   "metadata": {},
   "outputs": [],
   "source": [
    "import re\n",
    "import numpy as np\n",
    "import pandas as pd\n",
    "from pprint import pprint\n",
    "\n",
    "# Gensim\n",
    "import gensim\n",
    "import gensim.corpora as corpora\n",
    "from gensim.utils import simple_preprocess\n",
    "from gensim.models import CoherenceModel\n",
    "\n",
    "# spacy for lemmatization\n",
    "import spacy\n",
    "\n",
    "# Plotting tools\n",
    "import pyLDAvis\n",
    "import pyLDAvis.gensim\n",
    "import matplotlib.pyplot as plt\n",
    "%matplotlib inline"
   ]
  },
  {
   "cell_type": "code",
   "execution_count": 6,
   "metadata": {},
   "outputs": [
    {
     "name": "stdout",
     "output_type": "stream",
     "text": [
      "['alt.atheism',\n",
      " 'comp.graphics',\n",
      " 'comp.os.ms-windows.misc',\n",
      " 'comp.sys.ibm.pc.hardware',\n",
      " 'comp.sys.mac.hardware',\n",
      " 'comp.windows.x',\n",
      " 'misc.forsale',\n",
      " 'rec.autos',\n",
      " 'rec.motorcycles',\n",
      " 'rec.sport.baseball',\n",
      " 'rec.sport.hockey',\n",
      " 'sci.crypt',\n",
      " 'sci.electronics',\n",
      " 'sci.med',\n",
      " 'sci.space',\n",
      " 'soc.religion.christian',\n",
      " 'talk.politics.guns',\n",
      " 'talk.politics.mideast',\n",
      " 'talk.politics.misc',\n",
      " 'talk.religion.misc']\n"
     ]
    }
   ],
   "source": [
    "from sklearn.datasets import fetch_20newsgroups\n",
    "categories = ['alt.atheism', 'talk.religion.misc','comp.graphics', 'sci.space']\n",
    "categories = None\n",
    "df = fetch_20newsgroups(categories=categories, shuffle=True, random_state=42)\n",
    "\n",
    "from pprint import pprint\n",
    "pprint(list(df.target_names))"
   ]
  },
  {
   "cell_type": "code",
   "execution_count": 7,
   "metadata": {},
   "outputs": [
    {
     "data": {
      "text/plain": [
       "(11314,)"
      ]
     },
     "execution_count": 7,
     "metadata": {},
     "output_type": "execute_result"
    }
   ],
   "source": [
    "df.filenames.shape"
   ]
  },
  {
   "cell_type": "code",
   "execution_count": 8,
   "metadata": {},
   "outputs": [
    {
     "data": {
      "text/plain": [
       "(11314,)"
      ]
     },
     "execution_count": 8,
     "metadata": {},
     "output_type": "execute_result"
    }
   ],
   "source": [
    "df.target.shape"
   ]
  },
  {
   "cell_type": "code",
   "execution_count": 9,
   "metadata": {},
   "outputs": [
    {
     "name": "stderr",
     "output_type": "stream",
     "text": [
      "<input>:5: DeprecationWarning: invalid escape sequence \\S\n",
      "<input>:8: DeprecationWarning: invalid escape sequence \\s\n",
      "<input>:5: DeprecationWarning: invalid escape sequence \\S\n",
      "<input>:8: DeprecationWarning: invalid escape sequence \\s\n",
      "<input>:5: DeprecationWarning: invalid escape sequence \\S\n",
      "<input>:8: DeprecationWarning: invalid escape sequence \\s\n",
      "<ipython-input-9-1eed9f39b362>:5: DeprecationWarning: invalid escape sequence \\S\n",
      "  data = [re.sub('\\S*@\\S*\\s?', '', sent) for sent in data]\n",
      "<ipython-input-9-1eed9f39b362>:8: DeprecationWarning: invalid escape sequence \\s\n",
      "  data = [re.sub('\\s+', ' ', sent) for sent in data]\n"
     ]
    },
    {
     "name": "stdout",
     "output_type": "stream",
     "text": [
      "['From: (wheres my thing) Subject: WHAT car is this!? Nntp-Posting-Host: '\n",
      " 'rac3.wam.umd.edu Organization: University of Maryland, College Park Lines: '\n",
      " '15 I was wondering if anyone out there could enlighten me on this car I saw '\n",
      " 'the other day. It was a 2-door sports car, looked to be from the late 60s/ '\n",
      " 'early 70s. It was called a Bricklin. The doors were really small. In '\n",
      " 'addition, the front bumper was separate from the rest of the body. This is '\n",
      " 'all I know. If anyone can tellme a model name, engine specs, years of '\n",
      " 'production, where this car is made, history, or whatever info you have on '\n",
      " 'this funky looking car, please e-mail. Thanks, - IL ---- brought to you by '\n",
      " 'your neighborhood Lerxst ---- ']\n"
     ]
    }
   ],
   "source": [
    "# Convert to list\n",
    "data = df.data\n",
    "\n",
    "# Remove Emails\n",
    "data = [re.sub('\\S*@\\S*\\s?', '', sent) for sent in data]\n",
    "\n",
    "# Remove new line characters\n",
    "data = [re.sub('\\s+', ' ', sent) for sent in data]\n",
    "\n",
    "# Remove distracting single quotes\n",
    "data = [re.sub(\"\\'\", \"\", sent) for sent in data]\n",
    "\n",
    "pprint(data[:1])"
   ]
  },
  {
   "cell_type": "code",
   "execution_count": 10,
   "metadata": {},
   "outputs": [
    {
     "name": "stdout",
     "output_type": "stream",
     "text": [
      "[['from', 'wheres', 'my', 'thing', 'subject', 'what', 'car', 'is', 'this', 'nntp', 'posting', 'host', 'rac', 'wam', 'umd', 'edu', 'organization', 'university', 'of', 'maryland', 'college', 'park', 'lines', 'was', 'wondering', 'if', 'anyone', 'out', 'there', 'could', 'enlighten', 'me', 'on', 'this', 'car', 'saw', 'the', 'other', 'day', 'it', 'was', 'door', 'sports', 'car', 'looked', 'to', 'be', 'from', 'the', 'late', 'early', 'it', 'was', 'called', 'bricklin', 'the', 'doors', 'were', 'really', 'small', 'in', 'addition', 'the', 'front', 'bumper', 'was', 'separate', 'from', 'the', 'rest', 'of', 'the', 'body', 'this', 'is', 'all', 'know', 'if', 'anyone', 'can', 'tellme', 'model', 'name', 'engine', 'specs', 'years', 'of', 'production', 'where', 'this', 'car', 'is', 'made', 'history', 'or', 'whatever', 'info', 'you', 'have', 'on', 'this', 'funky', 'looking', 'car', 'please', 'mail', 'thanks', 'il', 'brought', 'to', 'you', 'by', 'your', 'neighborhood', 'lerxst']]\n"
     ]
    }
   ],
   "source": [
    "def sent_to_words(sentences):\n",
    "    for sentence in sentences:\n",
    "        yield(gensim.utils.simple_preprocess(str(sentence), deacc=True))  # deacc=True removes punctuations\n",
    "\n",
    "data_words = list(sent_to_words(data))\n",
    "\n",
    "print(data_words[:1])"
   ]
  },
  {
   "cell_type": "code",
   "execution_count": 11,
   "metadata": {},
   "outputs": [
    {
     "name": "stdout",
     "output_type": "stream",
     "text": [
      "['from', 'wheres', 'my', 'thing', 'subject', 'what', 'car', 'is', 'this', 'nntp_posting_host', 'rac_wam_umd_edu', 'organization', 'university', 'of', 'maryland_college_park', 'lines', 'was', 'wondering', 'if', 'anyone', 'out', 'there', 'could', 'enlighten', 'me', 'on', 'this', 'car', 'saw', 'the', 'other', 'day', 'it', 'was', 'door', 'sports', 'car', 'looked', 'to', 'be', 'from', 'the', 'late', 'early', 'it', 'was', 'called', 'bricklin', 'the', 'doors', 'were', 'really', 'small', 'in', 'addition', 'the', 'front_bumper', 'was', 'separate', 'from', 'the', 'rest', 'of', 'the', 'body', 'this', 'is', 'all', 'know', 'if', 'anyone', 'can', 'tellme', 'model', 'name', 'engine', 'specs', 'years', 'of', 'production', 'where', 'this', 'car', 'is', 'made', 'history', 'or', 'whatever', 'info', 'you', 'have', 'on', 'this', 'funky', 'looking', 'car', 'please', 'mail', 'thanks', 'il', 'brought', 'to', 'you', 'by', 'your', 'neighborhood', 'lerxst']\n"
     ]
    }
   ],
   "source": [
    "# Build the bigram and trigram models\n",
    "bigram = gensim.models.Phrases(data_words, min_count=5, threshold=100) # higher threshold fewer phrases.\n",
    "trigram = gensim.models.Phrases(bigram[data_words], threshold=100)  \n",
    "\n",
    "# Faster way to get a sentence clubbed as a trigram/bigram\n",
    "bigram_mod = gensim.models.phrases.Phraser(bigram)\n",
    "trigram_mod = gensim.models.phrases.Phraser(trigram)\n",
    "\n",
    "# See trigram example\n",
    "print(trigram_mod[bigram_mod[data_words[0]]])"
   ]
  },
  {
   "cell_type": "code",
   "execution_count": 12,
   "metadata": {},
   "outputs": [
    {
     "name": "stdout",
     "output_type": "stream",
     "text": [
      "[nltk_data] Downloading package stopwords to\n",
      "[nltk_data]     C:\\Users\\aserg\\AppData\\Roaming\\nltk_data...\n",
      "[nltk_data]   Package stopwords is already up-to-date!\n"
     ]
    }
   ],
   "source": [
    "# NLTK Stop words\n",
    "import nltk; nltk.download('stopwords')\n",
    "from nltk.corpus import stopwords\n",
    "stop_words = stopwords.words('english')\n",
    "stop_words.extend(['from', 'subject', 're', 'edu', 'use'])\n",
    "\n",
    "# Define functions for stopwords, bigrams, trigrams and lemmatization\n",
    "def remove_stopwords(texts):\n",
    "    return [[word for word in simple_preprocess(str(doc)) if word not in stop_words] for doc in texts]\n",
    "\n",
    "def make_bigrams(texts):\n",
    "    return [bigram_mod[doc] for doc in texts]\n",
    "\n",
    "def make_trigrams(texts):\n",
    "    return [trigram_mod[bigram_mod[doc]] for doc in texts]\n",
    "\n",
    "def lemmatization(texts, allowed_postags=['NOUN', 'ADJ', 'VERB', 'ADV']):\n",
    "    \"\"\"https://spacy.io/api/annotation\"\"\"\n",
    "    texts_out = []\n",
    "    for sent in texts:\n",
    "        doc = nlp(\" \".join(sent)) \n",
    "        texts_out.append([token.lemma_ for token in doc if token.pos_ in allowed_postags])\n",
    "    return texts_out"
   ]
  },
  {
   "cell_type": "code",
   "execution_count": 15,
   "metadata": {},
   "outputs": [
    {
     "name": "stdout",
     "output_type": "stream",
     "text": [
      "[['where', 's', 'thing', 'car', 'nntp_post', 'host', 'rac_wam', 'umd', 'organization', 'university', 'maryland_college', 'park', 'line', 'wonder', 'anyone', 'could', 'enlighten', 'car', 'see', 'day', 'door', 'sport', 'car', 'look', 'late', 'early', 'call', 'bricklin', 'door', 'really', 'small', 'addition', 'front_bumper', 'separate', 'rest', 'body', 'know', 'anyone', 'tellme', 'model', 'name', 'engine', 'spec', 'year', 'production', 'car', 'make', 'history', 'whatev', 'info', 'funky', 'look', 'car', 'mail', 'thank', 'bring', 'neighborhood', 'lerxst']]\n"
     ]
    }
   ],
   "source": [
    "# Remove Stop Words\n",
    "data_words_nostops = remove_stopwords(data_words)\n",
    "\n",
    "# Form Bigrams\n",
    "data_words_bigrams = make_bigrams(data_words_nostops)\n",
    "\n",
    "# Initialize spacy 'en' model, keeping only tagger component (for efficiency)\n",
    "# !python -m spacy download en\n",
    "nlp = spacy.load('en', disable=['parser', 'ner'])\n",
    "\n",
    "# Do lemmatization keeping only noun, adj, vb, adv\n",
    "data_lemmatized = lemmatization(data_words_bigrams, allowed_postags=['NOUN', 'ADJ', 'VERB', 'ADV'])\n",
    "\n",
    "print(data_lemmatized[:1])"
   ]
  },
  {
   "cell_type": "code",
   "execution_count": 16,
   "metadata": {},
   "outputs": [
    {
     "name": "stdout",
     "output_type": "stream",
     "text": [
      "[[(0, 1), (1, 2), (2, 1), (3, 1), (4, 1), (5, 1), (6, 5), (7, 1), (8, 1), (9, 2), (10, 1), (11, 1), (12, 1), (13, 1), (14, 1), (15, 1), (16, 1), (17, 1), (18, 1), (19, 1), (20, 1), (21, 1), (22, 2), (23, 1), (24, 1), (25, 1), (26, 1), (27, 1), (28, 1), (29, 1), (30, 1), (31, 1), (32, 1), (33, 1), (34, 1), (35, 1), (36, 1), (37, 1), (38, 1), (39, 1), (40, 1), (41, 1), (42, 1), (43, 1), (44, 1), (45, 1), (46, 1), (47, 1), (48, 1), (49, 1), (50, 1)]]\n"
     ]
    }
   ],
   "source": [
    "# Create Dictionary\n",
    "id2word = corpora.Dictionary(data_lemmatized)\n",
    "\n",
    "# Create Corpus\n",
    "texts = data_lemmatized\n",
    "\n",
    "# Term Document Frequency\n",
    "corpus = [id2word.doc2bow(text) for text in texts]\n",
    "\n",
    "# View\n",
    "print(corpus[:1])"
   ]
  },
  {
   "cell_type": "code",
   "execution_count": 17,
   "metadata": {},
   "outputs": [
    {
     "data": {
      "text/plain": [
       "[[('addition', 1),\n",
       "  ('anyone', 2),\n",
       "  ('body', 1),\n",
       "  ('bricklin', 1),\n",
       "  ('bring', 1),\n",
       "  ('call', 1),\n",
       "  ('car', 5),\n",
       "  ('could', 1),\n",
       "  ('day', 1),\n",
       "  ('door', 2),\n",
       "  ('early', 1),\n",
       "  ('engine', 1),\n",
       "  ('enlighten', 1),\n",
       "  ('front_bumper', 1),\n",
       "  ('funky', 1),\n",
       "  ('history', 1),\n",
       "  ('host', 1),\n",
       "  ('info', 1),\n",
       "  ('know', 1),\n",
       "  ('late', 1),\n",
       "  ('lerxst', 1),\n",
       "  ('line', 1),\n",
       "  ('look', 2),\n",
       "  ('mail', 1),\n",
       "  ('make', 1),\n",
       "  ('maryland_college', 1),\n",
       "  ('model', 1),\n",
       "  ('name', 1),\n",
       "  ('neighborhood', 1),\n",
       "  ('nntp_post', 1),\n",
       "  ('organization', 1),\n",
       "  ('park', 1),\n",
       "  ('production', 1),\n",
       "  ('rac_wam', 1),\n",
       "  ('really', 1),\n",
       "  ('rest', 1),\n",
       "  ('s', 1),\n",
       "  ('see', 1),\n",
       "  ('separate', 1),\n",
       "  ('small', 1),\n",
       "  ('spec', 1),\n",
       "  ('sport', 1),\n",
       "  ('tellme', 1),\n",
       "  ('thank', 1),\n",
       "  ('thing', 1),\n",
       "  ('umd', 1),\n",
       "  ('university', 1),\n",
       "  ('whatev', 1),\n",
       "  ('where', 1),\n",
       "  ('wonder', 1),\n",
       "  ('year', 1)]]"
      ]
     },
     "execution_count": 17,
     "metadata": {},
     "output_type": "execute_result"
    }
   ],
   "source": [
    "# Human readable format of corpus (term-frequency)\n",
    "[[(id2word[id], freq) for id, freq in cp] for cp in corpus[:1]]"
   ]
  },
  {
   "cell_type": "code",
   "execution_count": 18,
   "metadata": {},
   "outputs": [],
   "source": [
    "# Build LDA model\n",
    "lda_model = gensim.models.ldamodel.LdaModel(corpus=corpus,\n",
    "                                           id2word=id2word,\n",
    "                                           num_topics=50, \n",
    "                                           random_state=100,\n",
    "                                           update_every=1,\n",
    "                                           chunksize=100,\n",
    "                                           passes=10,\n",
    "                                           alpha='auto',\n",
    "                                           per_word_topics=True)"
   ]
  },
  {
   "cell_type": "code",
   "execution_count": 19,
   "metadata": {},
   "outputs": [
    {
     "name": "stdout",
     "output_type": "stream",
     "text": [
      "[(0,\n",
      "  '0.153*\"window\" + 0.065*\"image\" + 0.045*\"display\" + 0.044*\"server\" + '\n",
      "  '0.037*\"screen\" + 0.020*\"directory\" + 0.020*\"run\" + 0.020*\"font\" + '\n",
      "  '0.017*\"cub\" + 0.016*\"object\"'),\n",
      " (1,\n",
      "  '0.053*\"armenian\" + 0.041*\"greek\" + 0.033*\"turk\" + 0.027*\"turkish\" + '\n",
      "  '0.021*\"turkey\" + 0.018*\"russian\" + 0.015*\"gif\" + 0.014*\"serdar_argic\" + '\n",
      "  '0.013*\"armenia\" + 0.013*\"closed\"'),\n",
      " (2,\n",
      "  '0.042*\"not\" + 0.030*\"would\" + 0.027*\"do\" + 0.021*\"be\" + 0.016*\"get\" + '\n",
      "  '0.015*\"go\" + 0.015*\"think\" + 0.014*\"make\" + 0.014*\"good\" + 0.014*\"know\"'),\n",
      " (3,\n",
      "  '0.095*\"sale\" + 0.043*\"tape\" + 0.042*\"character\" + 0.030*\"price\" + '\n",
      "  '0.029*\"sell\" + 0.023*\"chris\" + 0.023*\"offer\" + 0.021*\"rider\" + '\n",
      "  '0.017*\"jason\" + 0.015*\"decent\"'),\n",
      " (4,\n",
      "  '0.069*\"color\" + 0.059*\"test\" + 0.058*\"video\" + 0.049*\"monitor\" + '\n",
      "  '0.046*\"scan\" + 0.039*\"mouse\" + 0.029*\"mhz\" + 0.020*\"mirror\" + '\n",
      "  '0.020*\"battery\" + 0.018*\"convert\"'),\n",
      " (5,\n",
      "  '0.049*\"bike\" + 0.028*\"eat\" + 0.028*\"kid\" + 0.026*\"air\" + 0.021*\"dod\" + '\n",
      "  '0.021*\"doctor\" + 0.020*\"insurance\" + 0.020*\"hot\" + 0.019*\"gift\" + '\n",
      "  '0.018*\"worry\"'),\n",
      " (6,\n",
      "  '0.090*\"line\" + 0.082*\"organization\" + 0.041*\"write\" + 0.036*\"article\" + '\n",
      "  '0.035*\"university\" + 0.035*\"nntp_post\" + 0.033*\"host\" + 0.021*\"reply\" + '\n",
      "  '0.017*\"thank\" + 0.014*\"anyone\"'),\n",
      " (7,\n",
      "  '0.101*\"space\" + 0.043*\"graphic\" + 0.028*\"format\" + 0.027*\"earth\" + '\n",
      "  '0.026*\"launch\" + 0.023*\"moon\" + 0.022*\"mission\" + 0.022*\"orbit\" + '\n",
      "  '0.021*\"nasa\" + 0.018*\"satellite\"'),\n",
      " (8,\n",
      "  '0.037*\"key\" + 0.024*\"government\" + 0.022*\"public\" + 0.015*\"american\" + '\n",
      "  '0.015*\"issue\" + 0.013*\"internet\" + 0.013*\"group\" + 0.013*\"national\" + '\n",
      "  '0.013*\"news\" + 0.011*\"security\"'),\n",
      " (9,\n",
      "  '0.660*\"ax\" + 0.053*\"max\" + 0.014*\"scott\" + 0.014*\"motif\" + 0.011*\"pen\" + '\n",
      "  '0.006*\"draft\" + 0.006*\"honda\" + 0.006*\"connector\" + 0.005*\"koresh\" + '\n",
      "  '0.005*\"penguin\"'),\n",
      " (10,\n",
      "  '0.019*\"use\" + 0.018*\"system\" + 0.014*\"also\" + 0.012*\"may\" + 0.011*\"program\" '\n",
      "  '+ 0.011*\"include\" + 0.010*\"number\" + 0.010*\"new\" + 0.009*\"work\" + '\n",
      "  '0.008*\"information\"'),\n",
      " (11,\n",
      "  '0.194*\"file\" + 0.084*\"entry\" + 0.037*\"telnet\" + 0.033*\"unix\" + 0.029*\"ftp\" '\n",
      "  '+ 0.018*\"button\" + 0.016*\"widget\" + 0.016*\"nt\" + 0.015*\"utility\" + '\n",
      "  '0.014*\"terminal\"'),\n",
      " (12,\n",
      "  '0.385*\"_\" + 0.027*\"mar\" + 0.020*\"mu\" + 0.017*\"km\" + 0.015*\"mr\" + '\n",
      "  '0.014*\"lunar\" + 0.013*\"sx\" + 0.013*\"radius\" + 0.012*\"mo\" + 0.012*\"fi\"'),\n",
      " (13,\n",
      "  '0.071*\"car\" + 0.039*\"drive\" + 0.025*\"season\" + 0.020*\"model\" + '\n",
      "  '0.020*\"cheap\" + 0.020*\"mount\" + 0.019*\"engine\" + 0.017*\"internal\" + '\n",
      "  '0.016*\"light\" + 0.016*\"road\"'),\n",
      " (14,\n",
      "  '0.077*\"drive\" + 0.049*\"mac\" + 0.046*\"card\" + 0.040*\"driver\" + 0.034*\"cpu\" + '\n",
      "  '0.028*\"memory\" + 0.026*\"disk\" + 0.025*\"scsi\" + 0.024*\"pc\" + 0.023*\"chip\"'),\n",
      " (15,\n",
      "  '0.033*\"state\" + 0.031*\"law\" + 0.019*\"rule\" + 0.019*\"right\" + 0.017*\"speak\" '\n",
      "  '+ 0.015*\"church\" + 0.015*\"sens\" + 0.013*\"body\" + 0.012*\"member\" + '\n",
      "  '0.012*\"field\"'),\n",
      " (16,\n",
      "  '0.045*\"gateway\" + 0.042*\"michigan\" + 0.034*\"session\" + 0.028*\"astronomy\" + '\n",
      "  '0.021*\"implementation\" + 0.021*\"warrant\" + 0.021*\"approve\" + 0.017*\"staff\" '\n",
      "  '+ 0.015*\"extension\" + 0.015*\"planetary\"'),\n",
      " (17,\n",
      "  '0.035*\"year\" + 0.033*\"team\" + 0.033*\"game\" + 0.023*\"win\" + 0.021*\"play\" + '\n",
      "  '0.015*\"player\" + 0.012*\"last\" + 0.011*\"first\" + 0.011*\"run\" + '\n",
      "  '0.010*\"division\"'),\n",
      " (18,\n",
      "  '0.026*\"god\" + 0.020*\"evidence\" + 0.016*\"reason\" + 0.016*\"believe\" + '\n",
      "  '0.016*\"christian\" + 0.015*\"say\" + 0.015*\"people\" + 0.014*\"claim\" + '\n",
      "  '0.012*\"man\" + 0.010*\"may\"'),\n",
      " (19,\n",
      "  '0.067*\"israel\" + 0.042*\"israeli\" + 0.039*\"war\" + 0.028*\"arab\" + '\n",
      "  '0.028*\"soldier\" + 0.028*\"kill\" + 0.026*\"attack\" + 0.022*\"jew\" + '\n",
      "  '0.021*\"village\" + 0.020*\"jewish\"')]\n"
     ]
    }
   ],
   "source": [
    "pprint(lda_model.print_topics())\n",
    "doc_lda = lda_model[corpus]"
   ]
  },
  {
   "cell_type": "code",
   "execution_count": 25,
   "metadata": {},
   "outputs": [],
   "source": [
    "def average_precision_at_k(theta, labels, k, dist_fn):\n",
    "    dist = dist_fn(theta)\n",
    "    np.fill_diagonal(dist, np.inf)\n",
    "    idx = np.argpartition(dist, k-1)[:k,:]\n",
    "    return np.mean(labels[idx] == labels[None,:])"
   ]
  },
  {
   "cell_type": "code",
   "execution_count": 56,
   "metadata": {},
   "outputs": [],
   "source": [
    "from sklearn.metrics.pairwise import cosine_distances, euclidean_distances\n",
    "\n",
    "def hellinger(theta):\n",
    "    return euclidean_distances(np.sqrt(theta))\n",
    "\n",
    "def dot(theta):\n",
    "    return 1 - np.dot(theta, theta.transpose())"
   ]
  },
  {
   "cell_type": "code",
   "execution_count": 112,
   "metadata": {},
   "outputs": [],
   "source": [
    "from numba import jit, prange, autojit\n",
    "@jit(nopython = True, parallel = True)\n",
    "def outer(X, fn):\n",
    "    dist = np.empty((X.shape[0], X.shape[0]), dtype = np.float32)\n",
    "    for i in prange(X.shape[0]):\n",
    "        for j in prange(i):\n",
    "            dist[j,i] = dist[i,j] = fn(X[i,:], X[j,:])           \n",
    "    return dist"
   ]
  },
  {
   "cell_type": "code",
   "execution_count": 59,
   "metadata": {},
   "outputs": [],
   "source": [
    "@jit(nopython = True)\n",
    "def _dot(x,y):\n",
    "    return np.dot(x,y)"
   ]
  },
  {
   "cell_type": "code",
   "execution_count": 60,
   "metadata": {},
   "outputs": [],
   "source": [
    "@jit(nopython = True)\n",
    "def kl(p, q):\n",
    "    return np.dot(p, np.log(q / p))"
   ]
  },
  {
   "cell_type": "code",
   "execution_count": 61,
   "metadata": {},
   "outputs": [],
   "source": [
    "@jit(nopython = True)\n",
    "def sym_kl(p, q):\n",
    "    return kl(p, q) + kl(q, p)"
   ]
  },
  {
   "cell_type": "code",
   "execution_count": 62,
   "metadata": {},
   "outputs": [],
   "source": [
    "@jit(nopython = True)\n",
    "def js(p, q):\n",
    "    m = (p + q) / 2\n",
    "    return kl(p, m) / 2 + kl(q, m) / 2"
   ]
  },
  {
   "cell_type": "code",
   "execution_count": 63,
   "metadata": {},
   "outputs": [],
   "source": [
    "@jit(nopython = True)\n",
    "def overlap(p, q):\n",
    "    return 1 - np.sum(np.minimum(p,q))"
   ]
  },
  {
   "cell_type": "code",
   "execution_count": 64,
   "metadata": {},
   "outputs": [],
   "source": [
    "@jit(nopython = True)\n",
    "def l1_norm(p, q):\n",
    "    return np.sum(np.abs(p - q))"
   ]
  },
  {
   "cell_type": "code",
   "execution_count": 65,
   "metadata": {},
   "outputs": [],
   "source": [
    "@jit(nopython = True)\n",
    "def bc(p, q):\n",
    "    return -np.log(np.sum(np.sqrt(p * q)))"
   ]
  },
  {
   "cell_type": "code",
   "execution_count": 144,
   "metadata": {},
   "outputs": [],
   "source": [
    "dist_fns = {'cosine' : cosine_distances,\n",
    "            #'sym_kl' : lambda x: outer(x, sym_kl),\n",
    "            'eucl' : euclidean_distances,\n",
    "            'hellinger' : hellinger,\n",
    "            'dot' : dot,\n",
    "            #'js' : lambda x: outer(x, js),\n",
    "            #'overlap': lambda x: outer(x, overlap),\n",
    "            #'l1' : lambda x: outer(x, l1_norm),\n",
    "            #'bc' : lambda x: outer(x, bc)\n",
    "           }"
   ]
  },
  {
   "cell_type": "code",
   "execution_count": 145,
   "metadata": {},
   "outputs": [],
   "source": [
    "def eval_topic_model(theta, labels, k = 100, dist_fns = dist_fns):\n",
    "    theta = np.asarray(theta, dtype = np.float32)\n",
    "    theta = theta.transpose()\n",
    "    best_score = 0\n",
    "    best_dist = None\n",
    "    for (dist, f) in dist_fns.items():\n",
    "        score = average_precision_at_k(theta, labels, 100, f)\n",
    "        if score > best_score:\n",
    "            best_score, best_dist = score, dist\n",
    "    return best_score, best_dist"
   ]
  },
  {
   "cell_type": "code",
   "execution_count": 136,
   "metadata": {},
   "outputs": [],
   "source": [
    "from gensim import matutils\n",
    "doc_lda = lda_model[corpus]\n",
    "matrix = matutils.corpus2dense(doc_lda, num_docs=len(corpus), num_terms=lda_model.num_topics, dtype = np.float32)"
   ]
  },
  {
   "cell_type": "code",
   "execution_count": 146,
   "metadata": {},
   "outputs": [
    {
     "name": "stderr",
     "output_type": "stream",
     "text": [
      "D:\\Anaconda\\lib\\site-packages\\sklearn\\metrics\\pairwise.py:258: RuntimeWarning: invalid value encountered in sqrt\n",
      "  return distances if squared else np.sqrt(distances, out=distances)\n",
      "D:\\Anaconda\\lib\\site-packages\\sklearn\\metrics\\pairwise.py:258: RuntimeWarning: invalid value encountered in sqrt\n",
      "  return distances if squared else np.sqrt(distances, out=distances)\n"
     ]
    },
    {
     "name": "stdout",
     "output_type": "stream",
     "text": [
      "0.45234488244652643\n",
      "eucl\n"
     ]
    }
   ],
   "source": [
    "score, dist = eval_topic_model(matrix, df.target)\n",
    "print(score)\n",
    "print(dist)"
   ]
  },
  {
   "cell_type": "code",
   "execution_count": 30,
   "metadata": {},
   "outputs": [
    {
     "name": "stderr",
     "output_type": "stream",
     "text": [
      "D:\\Anaconda\\lib\\site-packages\\pyLDAvis\\_prepare.py:257: FutureWarning: Sorting because non-concatenation axis is not aligned. A future version\n",
      "of pandas will change to not sort by default.\n",
      "\n",
      "To accept the future behavior, pass 'sort=True'.\n",
      "\n",
      "To retain the current behavior and silence the warning, pass sort=False\n",
      "\n",
      "  return pd.concat([default_term_info] + list(topic_dfs))\n"
     ]
    },
    {
     "data": {
      "text/html": [
       "\n",
       "<link rel=\"stylesheet\" type=\"text/css\" href=\"https://cdn.rawgit.com/bmabey/pyLDAvis/files/ldavis.v1.0.0.css\">\n",
       "\n",
       "\n",
       "<div id=\"ldavis_el422416240863788007909464758\"></div>\n",
       "<script type=\"text/javascript\">\n",
       "\n",
       "var ldavis_el422416240863788007909464758_data = {\"mdsDat\": {\"x\": [-0.3650276364316692, -0.2904863921786152, -0.2585357276026787, -0.27751472565157564, -0.13555824597072993, -0.12767558406407356, 0.05079440681801729, -0.06291048914736065, 0.0517483726887279, 0.030250583811643868, 0.1066030955383668, 0.1292235132606042, 0.12087929131947872, 0.10693886275323003, 0.09370409442020267, 0.16810630634935458, 0.15413360235793291, 0.16184794676571443, 0.15140160926170865, 0.19207711570172073], \"y\": [-0.04248074689080646, 0.10727896284747848, 0.20993970783307914, -0.17209300296466581, -0.10156894561156804, -0.020703778891645316, 0.01679180314474437, -0.180915627271248, 0.15998387040423873, 0.22071414592738847, 0.007599084084020138, -0.007934111727704333, 0.03534939849052573, -0.09365396956702056, -0.10767002875475094, -0.00835542399704058, -0.01384464889910298, -0.009032350439359788, 0.01215470458489412, -0.011559042301454096], \"topics\": [1, 2, 3, 4, 5, 6, 7, 8, 9, 10, 11, 12, 13, 14, 15, 16, 17, 18, 19, 20], \"cluster\": [1, 1, 1, 1, 1, 1, 1, 1, 1, 1, 1, 1, 1, 1, 1, 1, 1, 1, 1, 1], \"Freq\": [32.99464797973633, 14.937459945678711, 11.932612419128418, 8.774367332458496, 5.352661609649658, 5.193077564239502, 4.7249226570129395, 3.9099819660186768, 1.842009425163269, 1.7113631963729858, 1.180165410041809, 1.1041771173477173, 1.0715861320495605, 1.053299069404602, 1.0449073314666748, 0.7721319198608398, 0.7282994985580444, 0.7205253839492798, 0.6848722696304321, 0.2669236361980438]}, \"tinfo\": {\"Category\": [\"Default\", \"Default\", \"Default\", \"Default\", \"Default\", \"Default\", \"Default\", \"Default\", \"Default\", \"Default\", \"Default\", \"Default\", \"Default\", \"Default\", \"Default\", \"Default\", \"Default\", \"Default\", \"Default\", \"Default\", \"Default\", \"Default\", \"Default\", \"Default\", \"Default\", \"Default\", \"Default\", \"Default\", \"Default\", \"Default\", \"Topic1\", \"Topic1\", \"Topic1\", \"Topic1\", \"Topic1\", \"Topic1\", \"Topic1\", \"Topic1\", \"Topic1\", \"Topic1\", \"Topic1\", \"Topic1\", \"Topic1\", \"Topic1\", \"Topic1\", \"Topic1\", \"Topic1\", \"Topic1\", \"Topic1\", \"Topic1\", \"Topic1\", \"Topic1\", \"Topic1\", \"Topic1\", \"Topic1\", \"Topic1\", \"Topic1\", \"Topic1\", \"Topic1\", \"Topic1\", \"Topic1\", \"Topic1\", \"Topic1\", \"Topic1\", \"Topic1\", \"Topic1\", \"Topic1\", \"Topic1\", \"Topic1\", \"Topic1\", \"Topic1\", \"Topic1\", \"Topic1\", \"Topic1\", \"Topic1\", \"Topic1\", \"Topic1\", \"Topic1\", \"Topic1\", \"Topic1\", \"Topic1\", \"Topic1\", \"Topic1\", \"Topic1\", \"Topic1\", \"Topic1\", \"Topic1\", \"Topic1\", \"Topic1\", \"Topic1\", \"Topic1\", \"Topic1\", \"Topic1\", \"Topic1\", \"Topic1\", \"Topic1\", \"Topic2\", \"Topic2\", \"Topic2\", \"Topic2\", \"Topic2\", \"Topic2\", \"Topic2\", \"Topic2\", \"Topic2\", \"Topic2\", \"Topic2\", \"Topic2\", \"Topic2\", \"Topic2\", \"Topic2\", \"Topic2\", \"Topic2\", \"Topic2\", \"Topic2\", \"Topic2\", \"Topic2\", \"Topic2\", \"Topic2\", \"Topic2\", \"Topic2\", \"Topic2\", \"Topic2\", \"Topic2\", \"Topic2\", \"Topic2\", \"Topic2\", \"Topic2\", \"Topic2\", \"Topic2\", \"Topic2\", \"Topic2\", \"Topic2\", \"Topic2\", \"Topic2\", \"Topic2\", \"Topic2\", \"Topic2\", \"Topic2\", \"Topic2\", \"Topic2\", \"Topic2\", \"Topic2\", \"Topic2\", \"Topic2\", \"Topic2\", \"Topic2\", \"Topic2\", \"Topic2\", \"Topic2\", \"Topic2\", \"Topic2\", \"Topic2\", \"Topic2\", \"Topic2\", \"Topic2\", \"Topic2\", \"Topic2\", \"Topic2\", \"Topic2\", \"Topic2\", \"Topic2\", \"Topic3\", \"Topic3\", \"Topic3\", \"Topic3\", \"Topic3\", \"Topic3\", \"Topic3\", \"Topic3\", \"Topic3\", \"Topic3\", \"Topic3\", \"Topic3\", \"Topic3\", \"Topic3\", \"Topic3\", \"Topic3\", \"Topic3\", \"Topic3\", \"Topic3\", \"Topic3\", \"Topic3\", \"Topic3\", \"Topic3\", \"Topic3\", \"Topic3\", \"Topic3\", \"Topic3\", \"Topic3\", \"Topic3\", \"Topic3\", \"Topic3\", \"Topic3\", \"Topic3\", \"Topic3\", \"Topic3\", \"Topic3\", \"Topic3\", \"Topic3\", \"Topic3\", \"Topic3\", \"Topic3\", \"Topic3\", \"Topic3\", \"Topic3\", \"Topic3\", \"Topic3\", \"Topic3\", \"Topic3\", \"Topic3\", \"Topic3\", \"Topic3\", \"Topic3\", \"Topic3\", \"Topic3\", \"Topic3\", \"Topic3\", \"Topic3\", \"Topic3\", \"Topic3\", \"Topic3\", \"Topic4\", \"Topic4\", \"Topic4\", \"Topic4\", \"Topic4\", \"Topic4\", \"Topic4\", \"Topic4\", \"Topic4\", \"Topic4\", \"Topic4\", \"Topic4\", \"Topic4\", \"Topic4\", \"Topic4\", \"Topic4\", \"Topic4\", \"Topic4\", \"Topic4\", \"Topic4\", \"Topic4\", \"Topic4\", \"Topic4\", \"Topic4\", \"Topic4\", \"Topic4\", \"Topic4\", \"Topic4\", \"Topic4\", \"Topic4\", \"Topic4\", \"Topic4\", \"Topic4\", \"Topic4\", \"Topic4\", \"Topic4\", \"Topic4\", \"Topic4\", \"Topic4\", \"Topic4\", \"Topic4\", \"Topic4\", \"Topic4\", \"Topic4\", \"Topic4\", \"Topic4\", \"Topic4\", \"Topic4\", \"Topic4\", \"Topic4\", \"Topic4\", \"Topic4\", \"Topic4\", \"Topic4\", \"Topic5\", \"Topic5\", \"Topic5\", \"Topic5\", \"Topic5\", \"Topic5\", \"Topic5\", \"Topic5\", \"Topic5\", \"Topic5\", \"Topic5\", \"Topic5\", \"Topic5\", \"Topic5\", \"Topic5\", \"Topic5\", \"Topic5\", \"Topic5\", \"Topic5\", \"Topic5\", \"Topic5\", \"Topic5\", \"Topic5\", \"Topic5\", \"Topic5\", \"Topic5\", \"Topic5\", \"Topic5\", \"Topic5\", \"Topic5\", \"Topic5\", \"Topic5\", \"Topic5\", \"Topic5\", \"Topic5\", \"Topic5\", \"Topic5\", \"Topic5\", \"Topic5\", \"Topic5\", \"Topic5\", \"Topic5\", \"Topic5\", \"Topic5\", \"Topic6\", \"Topic6\", \"Topic6\", \"Topic6\", \"Topic6\", \"Topic6\", \"Topic6\", \"Topic6\", \"Topic6\", \"Topic6\", \"Topic6\", \"Topic6\", \"Topic6\", \"Topic6\", \"Topic6\", \"Topic6\", \"Topic6\", \"Topic6\", \"Topic6\", \"Topic6\", \"Topic6\", \"Topic6\", \"Topic6\", \"Topic6\", \"Topic6\", \"Topic6\", \"Topic6\", \"Topic6\", \"Topic6\", \"Topic6\", \"Topic6\", \"Topic6\", \"Topic6\", \"Topic6\", \"Topic6\", \"Topic6\", \"Topic6\", \"Topic6\", \"Topic6\", \"Topic6\", \"Topic6\", \"Topic6\", \"Topic6\", \"Topic7\", \"Topic7\", \"Topic7\", \"Topic7\", \"Topic7\", \"Topic7\", \"Topic7\", \"Topic7\", \"Topic7\", \"Topic7\", \"Topic7\", \"Topic7\", \"Topic7\", \"Topic7\", \"Topic7\", \"Topic7\", \"Topic7\", \"Topic7\", \"Topic7\", \"Topic7\", \"Topic7\", \"Topic7\", \"Topic7\", \"Topic7\", \"Topic7\", \"Topic7\", \"Topic7\", \"Topic7\", \"Topic7\", \"Topic7\", \"Topic8\", \"Topic8\", \"Topic8\", \"Topic8\", \"Topic8\", \"Topic8\", \"Topic8\", \"Topic8\", \"Topic8\", \"Topic8\", \"Topic8\", \"Topic8\", \"Topic8\", \"Topic8\", \"Topic8\", \"Topic8\", \"Topic8\", \"Topic8\", \"Topic8\", \"Topic8\", \"Topic8\", \"Topic8\", \"Topic8\", \"Topic8\", \"Topic8\", \"Topic8\", \"Topic8\", \"Topic8\", \"Topic8\", \"Topic8\", \"Topic8\", \"Topic8\", \"Topic8\", \"Topic8\", \"Topic8\", \"Topic8\", \"Topic8\", \"Topic8\", \"Topic8\", \"Topic8\", \"Topic8\", \"Topic8\", \"Topic8\", \"Topic8\", \"Topic8\", \"Topic8\", \"Topic8\", \"Topic8\", \"Topic8\", \"Topic9\", \"Topic9\", \"Topic9\", \"Topic9\", \"Topic9\", \"Topic9\", \"Topic9\", \"Topic9\", \"Topic9\", \"Topic9\", \"Topic9\", \"Topic9\", \"Topic9\", \"Topic9\", \"Topic9\", \"Topic9\", \"Topic9\", \"Topic9\", \"Topic9\", \"Topic9\", \"Topic9\", \"Topic9\", \"Topic9\", \"Topic9\", \"Topic9\", \"Topic9\", \"Topic9\", \"Topic9\", \"Topic9\", \"Topic9\", \"Topic9\", \"Topic9\", \"Topic9\", \"Topic9\", \"Topic9\", \"Topic9\", \"Topic9\", \"Topic9\", \"Topic9\", \"Topic9\", \"Topic9\", \"Topic9\", \"Topic9\", \"Topic9\", \"Topic9\", \"Topic9\", \"Topic9\", \"Topic10\", \"Topic10\", \"Topic10\", \"Topic10\", \"Topic10\", \"Topic10\", \"Topic10\", \"Topic10\", \"Topic10\", \"Topic10\", \"Topic10\", \"Topic10\", \"Topic10\", \"Topic10\", \"Topic10\", \"Topic10\", \"Topic10\", \"Topic10\", \"Topic10\", \"Topic10\", \"Topic10\", \"Topic10\", \"Topic10\", \"Topic10\", \"Topic10\", \"Topic10\", \"Topic10\", \"Topic10\", \"Topic10\", \"Topic10\", \"Topic10\", \"Topic10\", \"Topic10\", \"Topic10\", \"Topic10\", \"Topic10\", \"Topic10\", \"Topic10\", \"Topic10\", \"Topic10\", \"Topic10\", \"Topic10\", \"Topic10\", \"Topic10\", \"Topic10\", \"Topic10\", \"Topic11\", \"Topic11\", \"Topic11\", \"Topic11\", \"Topic11\", \"Topic11\", \"Topic11\", \"Topic11\", \"Topic11\", \"Topic11\", \"Topic11\", \"Topic11\", \"Topic11\", \"Topic11\", \"Topic11\", \"Topic11\", \"Topic11\", \"Topic11\", \"Topic11\", \"Topic11\", \"Topic11\", \"Topic11\", \"Topic11\", \"Topic11\", \"Topic11\", \"Topic11\", \"Topic11\", \"Topic11\", \"Topic11\", \"Topic11\", \"Topic11\", \"Topic11\", \"Topic11\", \"Topic11\", \"Topic12\", \"Topic12\", \"Topic12\", \"Topic12\", \"Topic12\", \"Topic12\", \"Topic12\", \"Topic12\", \"Topic12\", \"Topic12\", \"Topic12\", \"Topic12\", \"Topic12\", \"Topic12\", \"Topic12\", \"Topic12\", \"Topic12\", \"Topic12\", \"Topic12\", \"Topic12\", \"Topic12\", \"Topic12\", \"Topic12\", \"Topic12\", \"Topic12\", \"Topic12\", \"Topic12\", \"Topic12\", \"Topic12\", \"Topic12\", \"Topic12\", \"Topic12\", \"Topic12\", \"Topic13\", \"Topic13\", \"Topic13\", \"Topic13\", \"Topic13\", \"Topic13\", \"Topic13\", \"Topic13\", \"Topic13\", \"Topic13\", \"Topic13\", \"Topic13\", \"Topic13\", \"Topic13\", \"Topic13\", \"Topic13\", \"Topic13\", \"Topic13\", \"Topic13\", \"Topic13\", \"Topic13\", \"Topic13\", \"Topic13\", \"Topic13\", \"Topic13\", \"Topic13\", \"Topic13\", \"Topic13\", \"Topic13\", \"Topic13\", \"Topic13\", \"Topic13\", \"Topic13\", \"Topic13\", \"Topic13\", \"Topic13\", \"Topic13\", \"Topic13\", \"Topic13\", \"Topic13\", \"Topic13\", \"Topic14\", \"Topic14\", \"Topic14\", \"Topic14\", \"Topic14\", \"Topic14\", \"Topic14\", \"Topic14\", \"Topic14\", \"Topic14\", \"Topic14\", \"Topic14\", \"Topic14\", \"Topic14\", \"Topic14\", \"Topic14\", \"Topic14\", \"Topic14\", \"Topic14\", \"Topic14\", \"Topic14\", \"Topic14\", \"Topic14\", \"Topic14\", \"Topic14\", \"Topic14\", \"Topic14\", \"Topic14\", \"Topic14\", \"Topic14\", \"Topic14\", \"Topic14\", \"Topic14\", \"Topic14\", \"Topic14\", \"Topic14\", \"Topic14\", \"Topic14\", \"Topic14\", \"Topic14\", \"Topic14\", \"Topic14\", \"Topic14\", \"Topic15\", \"Topic15\", \"Topic15\", \"Topic15\", \"Topic15\", \"Topic15\", \"Topic15\", \"Topic15\", \"Topic15\", \"Topic15\", \"Topic15\", \"Topic15\", \"Topic15\", \"Topic15\", \"Topic15\", \"Topic15\", \"Topic15\", \"Topic15\", \"Topic15\", \"Topic15\", \"Topic15\", \"Topic15\", \"Topic15\", \"Topic15\", \"Topic15\", \"Topic15\", \"Topic15\", \"Topic15\", \"Topic15\", \"Topic15\", \"Topic15\", \"Topic15\", \"Topic15\", \"Topic15\", \"Topic15\", \"Topic15\", \"Topic15\", \"Topic15\", \"Topic15\", \"Topic15\", \"Topic15\", \"Topic15\", \"Topic15\", \"Topic15\", \"Topic15\", \"Topic15\", \"Topic15\", \"Topic15\", \"Topic15\", \"Topic15\", \"Topic16\", \"Topic16\", \"Topic16\", \"Topic16\", \"Topic16\", \"Topic16\", \"Topic16\", \"Topic16\", \"Topic16\", \"Topic16\", \"Topic16\", \"Topic16\", \"Topic16\", \"Topic16\", \"Topic16\", \"Topic16\", \"Topic16\", \"Topic16\", \"Topic16\", \"Topic16\", \"Topic16\", \"Topic16\", \"Topic16\", \"Topic16\", \"Topic16\", \"Topic16\", \"Topic16\", \"Topic16\", \"Topic16\", \"Topic16\", \"Topic16\", \"Topic17\", \"Topic17\", \"Topic17\", \"Topic17\", \"Topic17\", \"Topic17\", \"Topic17\", \"Topic17\", \"Topic17\", \"Topic17\", \"Topic17\", \"Topic17\", \"Topic17\", \"Topic17\", \"Topic17\", \"Topic17\", \"Topic17\", \"Topic17\", \"Topic17\", \"Topic17\", \"Topic17\", \"Topic17\", \"Topic17\", \"Topic17\", \"Topic17\", \"Topic17\", \"Topic17\", \"Topic17\", \"Topic17\", \"Topic17\", \"Topic17\", \"Topic17\", \"Topic17\", \"Topic17\", \"Topic17\", \"Topic17\", \"Topic18\", \"Topic18\", \"Topic18\", \"Topic18\", \"Topic18\", \"Topic18\", \"Topic18\", \"Topic18\", \"Topic18\", \"Topic18\", \"Topic18\", \"Topic18\", \"Topic18\", \"Topic18\", \"Topic18\", \"Topic18\", \"Topic18\", \"Topic18\", \"Topic18\", \"Topic18\", \"Topic18\", \"Topic18\", \"Topic18\", \"Topic18\", \"Topic18\", \"Topic18\", \"Topic18\", \"Topic18\", \"Topic18\", \"Topic18\", \"Topic18\", \"Topic18\", \"Topic18\", \"Topic18\", \"Topic18\", \"Topic18\", \"Topic18\", \"Topic18\", \"Topic18\", \"Topic19\", \"Topic19\", \"Topic19\", \"Topic19\", \"Topic19\", \"Topic19\", \"Topic19\", \"Topic19\", \"Topic19\", \"Topic19\", \"Topic19\", \"Topic19\", \"Topic19\", \"Topic19\", \"Topic19\", \"Topic19\", \"Topic19\", \"Topic19\", \"Topic19\", \"Topic19\", \"Topic19\", \"Topic19\", \"Topic19\", \"Topic19\", \"Topic19\", \"Topic19\", \"Topic19\", \"Topic19\", \"Topic19\", \"Topic19\", \"Topic19\", \"Topic19\", \"Topic19\", \"Topic19\", \"Topic19\", \"Topic19\", \"Topic19\", \"Topic20\", \"Topic20\", \"Topic20\", \"Topic20\", \"Topic20\", \"Topic20\", \"Topic20\", \"Topic20\", \"Topic20\", \"Topic20\", \"Topic20\", \"Topic20\", \"Topic20\", \"Topic20\", \"Topic20\", \"Topic20\", \"Topic20\", \"Topic20\", \"Topic20\", \"Topic20\", \"Topic20\", \"Topic20\", \"Topic20\", \"Topic20\", \"Topic20\", \"Topic20\", \"Topic20\", \"Topic20\", \"Topic20\", \"Topic20\", \"Topic20\"], \"Freq\": [50327.0, 18448.0, 16928.0, 22603.0, 4799.0, 14270.0, 10841.0, 14492.0, 6795.0, 6844.0, 17293.0, 6342.0, 4027.0, 5394.0, 2638.0, 8109.0, 11037.0, 3287.0, 2261.0, 9094.0, 5728.0, 3200.0, 10799.0, 3665.0, 1930.0, 2110.0, 3672.0, 4078.0, 4133.0, 2772.0, 22602.30859375, 14491.044921875, 4940.5947265625, 4600.185546875, 3191.292724609375, 2264.589599609375, 2158.833251953125, 2268.277587890625, 2070.11083984375, 1948.0635986328125, 1905.84814453125, 1872.015869140625, 1780.4801025390625, 1524.5108642578125, 1351.7369384765625, 1333.9788818359375, 1052.5101318359375, 1030.70263671875, 1027.5025634765625, 950.6486206054688, 837.6627197265625, 790.4686889648438, 702.080322265625, 699.3551025390625, 664.8125610351562, 653.10888671875, 637.4409790039062, 635.49853515625, 602.817138671875, 594.40478515625, 10991.4677734375, 3481.398193359375, 2781.59375, 3189.215576171875, 2681.75927734375, 3823.404541015625, 1057.945556640625, 1590.81494140625, 7837.8203125, 7750.93994140625, 3798.56591796875, 2894.833251953125, 6109.6015625, 15918.8642578125, 2049.64453125, 5139.34130859375, 3904.140869140625, 2518.069091796875, 7550.50146484375, 7578.76025390625, 4398.208984375, 6072.94091796875, 3862.538330078125, 4402.00537109375, 4154.5283203125, 7396.02734375, 8380.7783203125, 3017.361083984375, 6931.28125, 5773.40283203125, 3719.620849609375, 3503.640625, 6098.2734375, 3463.111083984375, 3950.796630859375, 3663.005126953125, 2623.01904296875, 1738.202880859375, 1142.1776123046875, 1139.62841796875, 934.985107421875, 833.143798828125, 828.603515625, 775.2945556640625, 764.6910400390625, 762.4205322265625, 753.3759765625, 730.9209594726562, 716.6436157226562, 667.4903564453125, 626.2156982421875, 606.6486206054688, 596.6934204101562, 590.115234375, 578.9526977539062, 578.9527587890625, 569.8411865234375, 539.7606811523438, 539.6546630859375, 531.8947143554688, 529.5335693359375, 501.68402099609375, 491.47979736328125, 488.0946350097656, 478.44744873046875, 470.11236572265625, 1607.7901611328125, 1562.3536376953125, 1907.2286376953125, 1119.340576171875, 1196.3707275390625, 2654.78759765625, 1506.730712890625, 635.3948364257812, 781.8001098632812, 1024.1416015625, 1318.6163330078125, 4237.7353515625, 985.9442749023438, 4610.92138671875, 1167.341064453125, 2029.0345458984375, 1758.1903076171875, 2397.87744140625, 1795.0299072265625, 1409.2049560546875, 1085.6925048828125, 3265.50341796875, 1421.006591796875, 970.8687133789062, 1116.0770263671875, 2360.35205078125, 1453.9527587890625, 2815.203857421875, 2078.5439453125, 1407.5064697265625, 1381.2525634765625, 1267.12451171875, 1176.8155517578125, 1574.6585693359375, 1292.276123046875, 1144.2379150390625, 6794.232421875, 6341.169921875, 3310.791015625, 1619.7755126953125, 1467.203369140625, 1058.85791015625, 1037.907958984375, 982.5305786132812, 878.2001342773438, 825.5122680664062, 754.9373168945312, 704.1797485351562, 699.54833984375, 639.4353637695312, 637.5455932617188, 600.7041015625, 528.7332763671875, 501.6363830566406, 491.30633544921875, 488.5334167480469, 471.36480712890625, 465.93133544921875, 407.1768798828125, 398.69219970703125, 386.3319396972656, 385.4393310546875, 1344.78369140625, 6818.37548828125, 340.7003173828125, 313.4311218261719, 2732.0498046875, 4031.484130859375, 1117.79150390625, 17353.6484375, 15871.4794921875, 1103.657958984375, 1390.83349609375, 640.674072265625, 2735.694091796875, 1256.4189453125, 981.2182006835938, 6889.251953125, 1862.2432861328125, 7937.498046875, 2295.385009765625, 2104.244873046875, 975.5322875976562, 2137.426513671875, 1249.9349365234375, 1046.8037109375, 2406.650390625, 1680.635009765625, 1586.9190673828125, 1537.9168701171875, 1090.10791015625, 1240.769287109375, 1373.83837890625, 1231.99951171875, 1125.5054931640625, 1126.17626953125, 3664.634765625, 2850.3544921875, 2261.559814453125, 1379.8927001953125, 1060.5225830078125, 1051.4810791015625, 1040.9556884765625, 999.1427612304688, 899.9903564453125, 898.675537109375, 896.3875732421875, 780.06591796875, 639.922119140625, 605.077392578125, 589.6718139648438, 562.1449584960938, 545.693115234375, 506.0553283691406, 501.6383361816406, 479.4436950683594, 471.98553466796875, 468.6489562988281, 434.0823059082031, 431.55322265625, 400.6780090332031, 385.03778076171875, 383.0380554199219, 377.46954345703125, 355.9761047363281, 348.7413024902344, 966.0437622070312, 1926.360107421875, 1399.184814453125, 897.540283203125, 1767.6090087890625, 1030.7935791015625, 2317.999755859375, 2290.19775390625, 1317.036865234375, 863.6672973632812, 1002.3338012695312, 1119.958251953125, 716.7982177734375, 809.1617431640625, 2112.84619140625, 2162.155029296875, 941.0502319335938, 1046.1456298828125, 778.3372192382812, 1399.5386962890625, 1057.933837890625, 909.9652709960938, 956.6107788085938, 919.9829711914062, 3199.10595703125, 1866.1942138671875, 1273.050048828125, 928.2687377929688, 904.9732666015625, 816.3970947265625, 809.8175659179688, 715.4837646484375, 711.42138671875, 660.6664428710938, 624.3141479492188, 584.767578125, 515.9633178710938, 511.2598571777344, 501.9571533203125, 489.28692626953125, 480.798583984375, 461.4377746582031, 459.4134216308594, 449.7869567871094, 448.9505615234375, 418.4009094238281, 418.3472595214844, 394.5379333496094, 384.6823425292969, 351.2892150878906, 347.78436279296875, 342.9840393066406, 341.9727783203125, 340.4265441894531, 1160.7530517578125, 1142.5743408203125, 2056.11083984375, 488.61041259765625, 662.3695678710938, 1088.0123291015625, 1257.057373046875, 903.8458251953125, 1152.194580078125, 763.8516235351562, 497.0808410644531, 664.0910034179688, 493.6025695800781, 506.0813903808594, 2771.1435546875, 2743.5732421875, 1931.1177978515625, 1783.2041015625, 1287.0994873046875, 843.7147216796875, 829.1018676757812, 759.4563598632812, 748.5370483398438, 674.5635986328125, 661.8661499023438, 632.8211669921875, 594.344970703125, 552.0252075195312, 547.61279296875, 540.1422119140625, 536.296875, 455.4575500488281, 454.216552734375, 446.06903076171875, 441.0901184082031, 440.0970153808594, 416.12445068359375, 413.9937744140625, 412.5197448730469, 403.45294189453125, 403.0613708496094, 388.696044921875, 385.1773376464844, 380.6708679199219, 707.1163940429688, 725.2882080078125, 2961.16259765625, 746.3992919921875, 974.0245361328125, 588.7650146484375, 895.6098022460938, 942.1229248046875, 511.2527160644531, 514.83984375, 585.9856567382812, 541.0926513671875, 670.882080078125, 50325.80859375, 4026.333984375, 1080.15673828125, 1046.3175048828125, 843.1361083984375, 480.0820007324219, 427.7411193847656, 426.5712585449219, 399.416748046875, 385.6531677246094, 373.762451171875, 332.849609375, 322.3998718261719, 313.95941162109375, 291.25482177734375, 285.66259765625, 279.8975830078125, 254.93362426757812, 223.60369873046875, 218.05958557128906, 216.4795684814453, 182.29444885253906, 180.933837890625, 170.3595733642578, 167.5846710205078, 166.53684997558594, 163.54318237304688, 163.10089111328125, 162.6671905517578, 155.20790100097656, 1087.3831787109375, 974.2206420898438, 960.2885131835938, 789.4247436523438, 742.026123046875, 630.0399780273438, 587.8358154296875, 570.0030517578125, 511.9270935058594, 497.5716552734375, 493.94073486328125, 462.43267822265625, 461.85235595703125, 438.698974609375, 416.9488830566406, 363.08856201171875, 349.2591857910156, 339.1003723144531, 338.982177734375, 326.4687194824219, 309.24871826171875, 308.2503967285156, 307.3686828613281, 307.17596435546875, 297.9231262207031, 284.377685546875, 269.8739318847656, 266.0402526855469, 265.2392883300781, 245.4514923095703, 1220.8341064453125, 630.3991088867188, 1939.6375732421875, 392.5235290527344, 324.20635986328125, 550.4932861328125, 766.385986328125, 591.21484375, 2051.914794921875, 736.8359985351562, 600.3333740234375, 637.1461181640625, 514.9029541015625, 613.5003051757812, 609.822021484375, 1184.8150634765625, 576.0721435546875, 456.7442626953125, 447.50872802734375, 2109.468017578125, 745.7793579101562, 585.2445678710938, 561.9202270507812, 497.42608642578125, 416.2052307128906, 338.49609375, 329.05462646484375, 326.17535400390625, 310.8622131347656, 264.011962890625, 253.29481506347656, 240.44776916503906, 222.6356964111328, 202.88742065429688, 200.01422119140625, 198.74578857421875, 198.07366943359375, 197.66664123535156, 184.14080810546875, 172.1583251953125, 168.89462280273438, 162.53602600097656, 160.8990020751953, 160.32791137695312, 149.72402954101562, 140.12942504882812, 136.93223571777344, 133.2452392578125, 132.14834594726562, 345.4114074707031, 593.1359252929688, 461.8128356933594, 608.0960693359375, 232.23692321777344, 1148.6414794921875, 469.4256896972656, 258.38507080078125, 295.3955993652344, 405.2908630371094, 279.302734375, 255.9134521484375, 243.02528381347656, 258.0491943359375, 367.8334045410156, 391.8853454589844, 235.8682098388672, 1357.5836181640625, 949.99609375, 717.093017578125, 690.9397583007812, 668.26806640625, 512.351318359375, 502.24468994140625, 437.4205322265625, 412.9445495605469, 366.7288513183594, 355.50787353515625, 347.7417297363281, 343.161376953125, 340.8678283691406, 268.79058837890625, 248.552490234375, 248.26834106445312, 211.5941162109375, 206.05645751953125, 173.9780731201172, 159.08413696289062, 145.4558563232422, 132.51695251464844, 132.50546264648438, 111.80565643310547, 104.06826782226562, 98.89840698242188, 96.52935028076172, 95.58781433105469, 87.77302551269531, 475.58489990234375, 786.128173828125, 1109.30908203125, 1261.9945068359375, 2138.075439453125, 559.0701904296875, 168.87579345703125, 646.53466796875, 424.52386474609375, 545.5520629882812, 534.851806640625, 333.6817321777344, 333.0166320800781, 419.5292053222656, 292.52459716796875, 260.1937255859375, 1929.5682373046875, 813.6533813476562, 538.9241943359375, 486.01776123046875, 443.94891357421875, 425.75408935546875, 410.48486328125, 398.1688537597656, 348.54638671875, 280.10772705078125, 273.9501037597656, 219.45901489257812, 217.3792724609375, 208.46751403808594, 193.1273651123047, 182.23304748535156, 179.1384735107422, 174.58558654785156, 167.199462890625, 163.85182189941406, 155.06141662597656, 145.76541137695312, 143.06204223632812, 137.57618713378906, 134.5259552001953, 134.1212158203125, 131.62808227539062, 127.16600799560547, 125.69061279296875, 123.12960815429688, 267.15478515625, 511.85296630859375, 151.62689208984375, 149.07444763183594, 872.4120483398438, 492.1905517578125, 490.5657958984375, 458.963134765625, 380.8163146972656, 368.9779052734375, 356.48187255859375, 356.2428283691406, 345.7881164550781, 319.1729736328125, 311.6421203613281, 289.66607666015625, 288.7417297363281, 275.9359436035156, 253.9684295654297, 249.8986053466797, 247.5151824951172, 233.8892059326172, 220.99098205566406, 217.61080932617188, 210.3699951171875, 191.61972045898438, 184.05471801757812, 178.1719207763672, 165.2360076904297, 165.15174865722656, 160.3814239501953, 146.7765655517578, 125.36132049560547, 122.47645568847656, 312.6128845214844, 258.3826904296875, 158.6224822998047, 2637.52978515625, 782.6097412109375, 759.6085205078125, 347.4692687988281, 341.5570373535156, 302.2405700683594, 237.16741943359375, 222.31488037109375, 188.1450653076172, 160.18124389648438, 155.71572875976562, 155.03005981445312, 149.0618438720703, 122.53976440429688, 119.80682373046875, 114.05804443359375, 112.46819305419922, 102.2598648071289, 97.24049377441406, 96.55313873291016, 91.48051452636719, 78.40286254882812, 65.70921325683594, 55.83465576171875, 52.67719650268555, 50.66514587402344, 36.76505661010742, 34.81818771362305, 28.465877532958984, 21.157657623291016, 267.9141540527344, 1122.6002197265625, 637.6182250976562, 276.3222351074219, 140.31187438964844, 246.2913360595703, 247.06866455078125, 343.483154296875, 199.6781768798828, 131.70008850097656, 124.59302520751953, 906.6926879882812, 565.328125, 461.8611145019531, 359.61932373046875, 253.95643615722656, 231.48138427734375, 219.00296020507812, 215.88597106933594, 185.57586669921875, 179.3150177001953, 179.0266571044922, 163.63963317871094, 124.36370849609375, 111.38880157470703, 107.22076416015625, 103.46378326416016, 81.90904235839844, 80.18254089355469, 70.57624816894531, 68.50862121582031, 67.1481704711914, 67.07083892822266, 65.68295288085938, 65.63370513916016, 65.58548736572266, 65.51044464111328, 65.51044464111328, 65.51044464111328, 65.51044464111328, 62.66426467895508, 691.7996826171875, 311.2522888183594, 144.6239013671875, 154.09849548339844, 192.53895568847656, 98.1661376953125, 103.25555419921875, 125.4254150390625, 111.36567687988281, 109.42868041992188, 94.39586639404297, 156.14321899414062, 104.21516418457031, 1123.6650390625, 714.5066528320312, 479.54498291015625, 313.5610046386719, 289.4297790527344, 272.8509216308594, 245.58197021484375, 188.08612060546875, 124.702392578125, 108.23609924316406, 107.95477294921875, 103.08052062988281, 102.37777709960938, 98.95604705810547, 92.59037780761719, 86.84201049804688, 80.68008422851562, 74.27978515625, 72.19563293457031, 70.10435485839844, 63.83549499511719, 59.36003875732422, 53.31734848022461, 50.78179931640625, 44.4080810546875, 41.985538482666016, 40.59239959716797, 38.42826461791992, 38.0767936706543, 35.12616729736328, 660.521240234375, 352.53436279296875, 468.1703796386719, 258.75799560546875, 151.55575561523438, 371.24334716796875, 340.4251403808594, 446.42303466796875, 286.0440673828125, 114.73979187011719, 465.2569885253906, 234.2794952392578, 143.0372314453125, 134.6621856689453, 177.75892639160156, 143.84498596191406, 157.50245666503906, 143.51577758789062, 122.3248062133789, 128.04261779785156, 4797.88525390625, 337.3042907714844, 243.34242248535156, 214.97802734375, 180.2230682373047, 165.47265625, 160.21665954589844, 146.79061889648438, 143.5474853515625, 99.9842300415039, 92.09785461425781, 72.00508880615234, 64.63754272460938, 61.44428253173828, 59.89991760253906, 57.1934814453125, 45.760005950927734, 41.792869567871094, 33.680355072021484, 30.997974395751953, 29.332366943359375, 21.202062606811523, 9.297770500183105, 2.5774192810058594, 184.12298583984375, 0.07144859433174133, 0.07126936316490173, 0.07111945748329163, 0.07106505334377289, 0.07105515897274017, 35.2900276184082, 809.964111328125, 682.1538696289062, 575.5819702148438, 540.3741455078125, 461.8988037109375, 337.3688049316406, 233.8064727783203, 233.11705017089844, 167.30767822265625, 167.19015502929688, 162.5865020751953, 158.63888549804688, 149.17352294921875, 141.22450256347656, 130.01254272460938, 124.26902770996094, 121.17428588867188, 120.09478759765625, 89.275634765625, 78.66229248046875, 78.45494079589844, 54.98497009277344, 54.01012420654297, 48.08788299560547, 45.9498291015625, 45.38456726074219, 43.91835403442383, 40.338558197021484, 39.62937545776367, 39.47344207763672, 696.68212890625, 214.7435302734375, 93.15416717529297, 187.2247314453125, 107.4898681640625, 53.147422790527344, 2259.731201171875, 977.6349487304688, 431.5031433105469, 341.1241760253906, 206.1695098876953, 186.60842895507812, 180.9405975341797, 170.11900329589844, 158.68736267089844, 148.02630615234375, 86.38560485839844, 84.04236602783203, 82.71237182617188, 71.3879623413086, 45.14173889160156, 44.75374221801758, 44.52125930786133, 43.22506332397461, 31.136306762695312, 30.728914260864258, 29.198898315429688, 28.361570358276367, 28.078706741333008, 22.624591827392578, 20.029972076416016, 19.976896286010742, 16.7469539642334, 11.592878341674805, 8.6753511428833, 7.344088077545166, 379.6201477050781, 85.54763793945312, 135.31724548339844, 127.84441375732422, 51.213722229003906, 122.17044067382812, 65.85231018066406, 40.49692153930664, 31.992525100708008, 1053.84130859375, 471.1378479003906, 462.8978271484375, 258.28173828125, 230.53521728515625, 185.7230224609375, 169.8705291748047, 168.84332275390625, 167.9986572265625, 167.48846435546875, 141.86256408691406, 132.8704376220703, 123.13555145263672, 122.16313934326172, 115.01081085205078, 106.7846908569336, 104.8258285522461, 103.63095092773438, 99.76670837402344, 95.86795806884766, 86.96867370605469, 79.52777099609375, 77.55947875976562, 65.57335662841797, 63.219154357910156, 62.333984375, 60.91033172607422, 58.560386657714844, 54.70792770385742, 52.808807373046875, 323.78936767578125, 329.064208984375, 251.19691467285156, 92.7195053100586, 109.56199645996094, 68.70263671875, 66.60112762451172, 191.6162567138672, 178.681640625, 148.37176513671875, 122.34007263183594, 90.74046325683594, 89.51884460449219, 88.71221923828125, 75.1942367553711, 66.21800994873047, 63.611846923828125, 61.70162582397461, 57.46562957763672, 55.311912536621094, 50.224578857421875, 43.18537521362305, 40.357948303222656, 39.63176727294922, 34.85780334472656, 33.59231948852539, 32.97047424316406, 29.715465545654297, 27.44495391845703, 27.195018768310547, 25.55498504638672, 16.159404754638672, 14.086393356323242, 13.935489654541016, 13.215367317199707, 12.313872337341309, 12.172273635864258, 12.46483039855957], \"Term\": [\"ax\", \"line\", \"organization\", \"not\", \"_\", \"write\", \"article\", \"do\", \"nntp_post\", \"university\", \"would\", \"host\", \"max\", \"year\", \"window\", \"people\", \"be\", \"drive\", \"file\", \"say\", \"system\", \"key\", \"get\", \"god\", \"space\", \"car\", \"state\", \"reply\", \"right\", \"team\", \"not\", \"do\", \"take\", \"s\", \"really\", \"let\", \"little\", \"bad\", \"put\", \"happen\", \"will\", \"gun\", \"enough\", \"maybe\", \"remember\", \"that\", \"everything\", \"there\", \"guess\", \"pretty\", \"anyway\", \"protect\", \"job\", \"newsgroup\", \"what\", \"self\", \"exactly\", \"forget\", \"police\", \"worth\", \"be\", \"tell\", \"still\", \"something\", \"sure\", \"have\", \"face\", \"actually\", \"go\", \"think\", \"much\", \"back\", \"see\", \"would\", \"lot\", \"could\", \"well\", \"never\", \"good\", \"make\", \"thing\", \"time\", \"even\", \"come\", \"way\", \"know\", \"get\", \"seem\", \"say\", \"people\", \"want\", \"give\", \"write\", \"try\", \"article\", \"may\", \"include\", \"available\", \"current\", \"patient\", \"contain\", \"faq\", \"function\", \"input\", \"package\", \"wire\", \"publish\", \"dept\", \"method\", \"option\", \"technical\", \"associate\", \"disease\", \"unit\", \"library\", \"digital\", \"health\", \"scientific\", \"visit\", \"material\", \"serial_number\", \"signal\", \"external\", \"treatment\", \"site\", \"transfer\", \"type\", \"datum\", \"source\", \"advance\", \"sound\", \"program\", \"build\", \"detail\", \"page\", \"add\", \"require\", \"system\", \"design\", \"use\", \"code\", \"information\", \"set\", \"number\", \"high\", \"list\", \"low\", \"also\", \"base\", \"reference\", \"copy\", \"new\", \"support\", \"may\", \"work\", \"send\", \"follow\", \"provide\", \"report\", \"need\", \"call\", \"bit\", \"nntp_post\", \"host\", \"thank\", \"com\", \"email\", \"interested\", \"ca\", \"fax\", \"pin\", \"appreciate\", \"computer_science\", \"steve\", \"distribution\", \"originator\", \"corporation\", \"algorithm\", \"apr\", \"robert\", \"corp\", \"clipper_chip\", \"rsa\", \"illinois\", \"law_enforcement\", \"processor\", \"ms\", \"announcement\", \"usa\", \"university\", \"route\", \"crash\", \"mail\", \"reply\", \"distribution_usa\", \"line\", \"organization\", \"keyword\", \"distribution_world\", \"engineering\", \"anyone\", \"inc\", \"david\", \"article\", \"computer\", \"write\", \"post\", \"help\", \"phone\", \"need\", \"message\", \"address\", \"get\", \"new\", \"look\", \"know\", \"buy\", \"question\", \"would\", \"use\", \"problem\", \"want\", \"god\", \"evidence\", \"christian\", \"faith\", \"physical\", \"bible\", \"religion\", \"argument\", \"truth\", \"belief\", \"atheist\", \"human\", \"conclusion\", \"religious\", \"christianity\", \"reality\", \"christ\", \"shall\", \"logic\", \"revelation\", \"nature\", \"therefore\", \"moral\", \"direct\", \"son\", \"father\", \"atheism\", \"mother\", \"universe\", \"interpretation\", \"accept\", \"claim\", \"child\", \"prove\", \"man\", \"death\", \"reason\", \"believe\", \"exist\", \"love\", \"word\", \"life\", \"sense\", \"act\", \"people\", \"say\", \"true\", \"fact\", \"view\", \"may\", \"many\", \"book\", \"question\", \"mean\", \"key\", \"public\", \"american\", \"security\", \"encryption\", \"president\", \"drug\", \"private\", \"clipper\", \"review\", \"tap\", \"share\", \"tax\", \"license\", \"legal\", \"clinton\", \"agency\", \"america\", \"operate\", \"pgp\", \"tool\", \"freedom\", \"market\", \"usenet\", \"newsreader_tin\", \"should\", \"protection\", \"propose\", \"federal\", \"congress\", \"internet\", \"national\", \"government\", \"steal\", \"interest\", \"news\", \"issue\", \"chip\", \"group\", \"technology\", \"citizen\", \"message\", \"release\", \"access\", \"team\", \"game\", \"win\", \"play\", \"player\", \"division\", \"fan\", \"hit\", \"canada\", \"brain\", \"score\", \"wing\", \"nhl\", \"dave\", \"star\", \"chicago\", \"boston\", \"baseball\", \"texas\", \"michael\", \"blue\", \"boy\", \"richard\", \"night\", \"vote\", \"van\", \"tom\", \"club\", \"smith\", \"rational\", \"goal\", \"new_york\", \"year\", \"lose\", \"last\", \"april\", \"run\", \"first\", \"pick\", \"young\", \"next\", \"home\", \"good\", \"ax\", \"max\", \"scott\", \"motif\", \"pen\", \"draft\", \"honda\", \"connector\", \"koresh\", \"penguin\", \"leafs\", \"dale\", \"cr\", \"packet\", \"film\", \"jet_propulsion\", \"cluster\", \"sgi\", \"batf\", \"plot\", \"meter\", \"lemieux\", \"atf\", \"jone\", \"dirt\", \"out\", \"harry\", \"idaho\", \"tavare\", \"log\", \"speak\", \"church\", \"sens\", \"body\", \"field\", \"community\", \"weapon\", \"firearm\", \"lord\", \"refer\", \"meet\", \"proof\", \"united_state\", \"mass\", \"count\", \"disagree\", \"plane\", \"blank\", \"aware\", \"procedure\", \"dangerous\", \"militia\", \"imply\", \"topic\", \"prior\", \"planet\", \"minority\", \"cross\", \"target\", \"strip\", \"rule\", \"house\", \"law\", \"arm\", \"bother\", \"picture\", \"member\", \"bill\", \"state\", \"city\", \"better\", \"carry\", \"authority\", \"black\", \"appear\", \"right\", \"force\", \"define\", \"apply\", \"car\", \"season\", \"mount\", \"engine\", \"internal\", \"recommend\", \"tim\", \"door\", \"stick\", \"northern\", \"auto\", \"ltd\", \"red\", \"bank\", \"production\", \"spring\", \"noise\", \"imho\", \"floor\", \"uunet\", \"gear\", \"truck\", \"highway\", \"minnesota\", \"rat\", \"japanese\", \"motor\", \"mess\", \"replacement\", \"shop\", \"mile\", \"cheap\", \"road\", \"model\", \"saturn\", \"drive\", \"light\", \"vehicle\", \"radio\", \"speed\", \"front\", \"track\", \"foot\", \"store\", \"price\", \"buy\", \"fast\", \"mac\", \"cpu\", \"disk\", \"scsi\", \"pc\", \"apple\", \"controller\", \"motherboard\", \"port\", \"ibm\", \"printer\", \"upgrade\", \"ram\", \"interface\", \"ide\", \"nec\", \"isa\", \"clock\", \"quadra\", \"floppy\", \"motorola\", \"finland\", \"daniel\", \"depth\", \"ide_vs\", \"simms\", \"suck\", \"installation\", \"adapter\", \"philip\", \"bus\", \"memory\", \"driver\", \"card\", \"drive\", \"mode\", \"mb\", \"chip\", \"speed\", \"machine\", \"bit\", \"hardware\", \"software\", \"system\", \"problem\", \"fast\", \"space\", \"graphic\", \"format\", \"launch\", \"moon\", \"mission\", \"orbit\", \"nasa\", \"satellite\", \"consult\", \"flight\", \"band\", \"shuttle\", \"spec\", \"sky\", \"weekend\", \"please_respond\", \"gov\", \"virginia\", \"panel\", \"dr\", \"related\", \"solar\", \"space_station\", \"space_shuttle\", \"stereo\", \"purdue_university\", \"japan\", \"ozone\", \"tip\", \"rocket\", \"earth\", \"russia\", \"science\", \"bike\", \"eat\", \"kid\", \"air\", \"dod\", \"doctor\", \"insurance\", \"hot\", \"gift\", \"worry\", \"pat\", \"brown\", \"cycle\", \"cap\", \"water\", \"improve\", \"ticket\", \"oil\", \"ok\", \"cold\", \"roger\", \"martin\", \"cylinder\", \"jr\", \"spot\", \"wayne\", \"venus\", \"diet\", \"netcom\", \"tire\", \"ride\", \"cool\", \"girl\", \"window\", \"display\", \"server\", \"directory\", \"font\", \"cub\", \"california_institute\", \"microsoft\", \"spacecraft\", \"menu\", \"enable\", \"caltech\", \"pixel\", \"schneider\", \"exe\", \"jon_livesey\", \"jpeg\", \"keith_allan\", \"thanx\", \"click\", \"vms_vnews\", \"row\", \"ralph\", \"ms_window\", \"mapping\", \"compiler\", \"borland\", \"host_punisher\", \"ann_arbor\", \"console\", \"motto\", \"image\", \"screen\", \"object\", \"map\", \"application\", \"version\", \"run\", \"program\", \"release\", \"user\", \"armenian\", \"turk\", \"turkish\", \"turkey\", \"gif\", \"serdar_argic\", \"armenia\", \"closed\", \"massacre\", \"genocide\", \"moslem\", \"soviet\", \"kurd\", \"vol\", \"jim_frost\", \"republic\", \"soviet_armenia\", \"survivor\", \"square\", \"longer_exist\", \"bmp\", \"remainder\", \"might_serve\", \"mountain_pass\", \"single_turkish\", \"appressian\", \"soul_sahak\", \"melkonian\", \"extermination_ohanus\", \"province\", \"greek\", \"russian\", \"slaughter\", \"escape\", \"government\", \"girl\", \"destroy\", \"today\", \"soldier\", \"road\", \"population\", \"people\", \"history\", \"israel\", \"israeli\", \"arab\", \"bomb\", \"withdraw\", \"occupy\", \"civilian\", \"sea\", \"territory\", \"render\", \"proud\", \"disarm\", \"wwii\", \"jerusalem\", \"holocaust\", \"river\", \"expose\", \"bullet\", \"discount\", \"sue\", \"winter\", \"enemy\", \"columbia\", \"desert\", \"fighter\", \"hp\", \"fighting\", \"farmer\", \"invade\", \"plo\", \"war\", \"village\", \"soldier\", \"terrorism\", \"inhabitant\", \"jew\", \"jewish\", \"attack\", \"land\", \"troop\", \"kill\", \"murder\", \"aim\", \"peace\", \"force\", \"military\", \"area\", \"control\", \"center\", \"state\", \"_\", \"mar\", \"mu\", \"km\", \"lunar\", \"sx\", \"radius\", \"mo\", \"fi\", \"jpl\", \"mg\", \"television\", \"asteroid\", \"retract\", \"theodore_kaldis\", \"explode\", \"soviet_union\", \"col\", \"aug\", \"infinity\", \"atm\", \"lunar_orbit\", \"circumference\", \"gravity_assist\", \"mr\", \"cx\", \"c\", \"rlk\", \"ck\", \"chz\", \"st\", \"color\", \"video\", \"monitor\", \"scan\", \"mouse\", \"mhz\", \"mirror\", \"battery\", \"probe\", \"configuration\", \"power_supply\", \"default\", \"mph\", \"meg\", \"ps\", \"sony\", \"reflect\", \"please\", \"dare\", \"catalog\", \"download\", \"disable\", \"peripheral\", \"adjust\", \"smartdrv\", \"tech_support\", \"cord\", \"cooling_tower\", \"priority\", \"minimal\", \"test\", \"convert\", \"capture\", \"screen\", \"resolution\", \"picture\", \"file\", \"entry\", \"telnet\", \"ftp\", \"button\", \"widget\", \"nt\", \"utility\", \"terminal\", \"trivial\", \"norway\", \"yale\", \"parameter\", \"diameter\", \"xview\", \"ini\", \"australian\", \"der\", \"interactive\", \"submission\", \"node\", \"script\", \"academy\", \"callback\", \"cubic\", \"sydney\", \"ncd\", \"optimize\", \"canberra\", \"simplistic\", \"unix\", \"edit\", \"archive\", \"mit\", \"requirement\", \"program\", \"section\", \"internet\", \"text\", \"sale\", \"tape\", \"character\", \"chris\", \"rider\", \"jason\", \"decent\", \"super\", \"duo\", \"bug\", \"electrical\", \"public_access\", \"speaker\", \"sam\", \"forsale\", \"programmer\", \"cbr\", \"hewlett_packard\", \"new_zealand\", \"recommendation\", \"macintosh\", \"delaware\", \"colorado_boulder\", \"jonathan\", \"admin\", \"cod\", \"brand_new\", \"operator\", \"toyota\", \"harley\", \"sell\", \"price\", \"offer\", \"warn\", \"unix\", \"purchase\", \"condition\", \"gateway\", \"michigan\", \"session\", \"astronomy\", \"implementation\", \"warrant\", \"approve\", \"staff\", \"extension\", \"planetary\", \"telescope\", \"expire\", \"senate\", \"tour\", \"frequently_ask\", \"navy\", \"orbital\", \"login\", \"participation\", \"supersede\", \"centaur\", \"openwindow\", \"press_release\", \"substantially\", \"naval\", \"personnel\", \"jon_leech\", \"cancel\", \"host_mahler\", \"qwk\", \"approval\"], \"Total\": [50327.0, 18448.0, 16928.0, 22603.0, 4799.0, 14270.0, 10841.0, 14492.0, 6795.0, 6844.0, 17293.0, 6342.0, 4027.0, 5394.0, 2638.0, 8109.0, 11037.0, 3287.0, 2261.0, 9094.0, 5728.0, 3200.0, 10799.0, 3665.0, 1930.0, 2110.0, 3672.0, 4078.0, 4133.0, 2772.0, 22603.619140625, 14492.361328125, 4941.91552734375, 4601.5, 3192.6064453125, 2265.9033203125, 2160.14697265625, 2269.699462890625, 2071.424560546875, 1949.3779296875, 1907.1624755859375, 1873.3302001953125, 1781.79443359375, 1525.8251953125, 1353.05126953125, 1335.293212890625, 1053.824462890625, 1032.0169677734375, 1028.81689453125, 951.962646484375, 838.9767456054688, 791.78271484375, 703.3943481445312, 700.6691284179688, 666.1266479492188, 654.4229125976562, 638.7550048828125, 636.8125610351562, 604.1311645507812, 595.7196044921875, 11037.751953125, 3519.7099609375, 2812.2685546875, 3230.384765625, 2717.17431640625, 3893.00927734375, 1063.794189453125, 1606.4346923828125, 8085.45654296875, 8042.98828125, 3899.9423828125, 2964.884521484375, 6389.1943359375, 17293.94140625, 2094.4228515625, 5406.7060546875, 4116.95361328125, 2617.74560546875, 8552.087890625, 8651.3447265625, 4801.19775390625, 7073.41943359375, 4250.9912109375, 4946.6015625, 4644.10498046875, 9118.3671875, 10799.8837890625, 3221.329345703125, 9094.6904296875, 8109.70068359375, 4847.0380859375, 4351.28173828125, 14270.576171875, 4405.24951171875, 10841.2919921875, 8007.09228515625, 2624.32763671875, 1739.511962890625, 1143.4866943359375, 1140.9375, 936.2938842773438, 834.4525756835938, 829.9122924804688, 776.6033325195312, 765.9998168945312, 763.7293090820312, 754.6847534179688, 732.229736328125, 717.9528198242188, 668.7991333007812, 627.5244750976562, 607.9573974609375, 598.002197265625, 591.4240112304688, 580.261474609375, 580.2615356445312, 571.1499633789062, 541.0694580078125, 540.9634399414062, 533.2034912109375, 530.8423461914062, 502.9927978515625, 492.78857421875, 489.4034118652344, 479.7562255859375, 471.421142578125, 1623.980712890625, 1624.988037109375, 2015.15283203125, 1160.318603515625, 1251.9195556640625, 2977.8115234375, 1637.8856201171875, 645.984619140625, 817.415283203125, 1110.9365234375, 1488.2818603515625, 5728.4658203125, 1070.3978271484375, 6473.3232421875, 1307.4312744140625, 2560.220947265625, 2257.650390625, 3369.347412109375, 2379.3173828125, 1792.4605712890625, 1264.514404296875, 6274.31103515625, 1883.7779541015625, 1088.762939453125, 1354.8837890625, 4512.66552734375, 2084.40380859375, 8007.09228515625, 5189.1220703125, 2272.9189453125, 2334.031982421875, 2073.861572265625, 1642.79345703125, 4903.099609375, 3338.863525390625, 2180.01416015625, 6795.5478515625, 6342.4853515625, 3312.1064453125, 1621.0914306640625, 1468.519287109375, 1060.173828125, 1039.223876953125, 983.84619140625, 879.5157470703125, 826.827880859375, 756.2529296875, 705.495361328125, 700.8639526367188, 640.7509765625, 638.8612060546875, 602.0197143554688, 530.0488891601562, 502.9520263671875, 492.6219787597656, 489.84906005859375, 472.6804504394531, 467.2469787597656, 408.4925231933594, 400.0078430175781, 387.6475830078125, 386.7549743652344, 1349.839599609375, 6844.044921875, 342.0159606933594, 314.74676513671875, 2743.66357421875, 4078.02587890625, 1125.37744140625, 18448.337890625, 16928.943359375, 1122.1390380859375, 1456.84033203125, 653.6451416015625, 3116.07470703125, 1411.0980224609375, 1089.1470947265625, 10841.2919921875, 2362.7724609375, 14270.576171875, 3291.5146484375, 3016.734130859375, 1166.91748046875, 4903.099609375, 1915.2657470703125, 1417.9866943359375, 10799.8837890625, 4512.66552734375, 4310.35595703125, 9118.3671875, 1738.9281005859375, 3598.457275390625, 17293.94140625, 6473.3232421875, 4252.62841796875, 4847.0380859375, 3665.960693359375, 2851.680419921875, 2262.8857421875, 1381.2191162109375, 1061.8489990234375, 1052.8074951171875, 1042.2821044921875, 1000.4689331054688, 901.3165283203125, 900.001708984375, 897.7137451171875, 781.39208984375, 641.248291015625, 606.403564453125, 590.9979858398438, 563.4711303710938, 547.019287109375, 507.3814392089844, 502.9644470214844, 480.7698059082031, 473.3116455078125, 469.9750671386719, 435.4084167480469, 432.87933349609375, 402.0041198730469, 386.3638916015625, 384.3641662597656, 378.795654296875, 357.3022155761719, 350.0674133300781, 979.1209106445312, 1998.1610107421875, 1458.2845458984375, 945.7528686523438, 2173.32373046875, 1189.6468505859375, 3413.175537109375, 3431.494384765625, 1739.8162841796875, 1099.0870361328125, 1365.4051513671875, 1618.25146484375, 907.1671142578125, 1137.37744140625, 8109.70068359375, 9094.6904296875, 1672.6434326171875, 2305.001220703125, 1135.4176025390625, 8007.09228515625, 4115.55859375, 2048.810302734375, 3598.457275390625, 3135.44873046875, 3200.418212890625, 1867.507080078125, 1274.3629150390625, 929.5812377929688, 906.2857666015625, 817.7095947265625, 811.1300659179688, 716.7962646484375, 712.73388671875, 661.9789428710938, 625.6266479492188, 586.080078125, 517.2758178710938, 512.5723266601562, 503.26959228515625, 490.599365234375, 482.11102294921875, 462.7502136230469, 460.7258605957031, 451.0993957519531, 450.26300048828125, 419.7133483886719, 419.6596984863281, 395.8503723144531, 385.9947814941406, 352.6016540527344, 349.0968017578125, 344.2964782714844, 343.28521728515625, 341.7389831542969, 1202.49853515625, 1208.204833984375, 2328.007080078125, 525.2268676757812, 758.4913330078125, 1642.1663818359375, 2020.062255859375, 1551.6343994140625, 2940.212646484375, 1656.970458984375, 589.6375122070312, 1915.2657470703125, 647.501708984375, 818.1500854492188, 2772.45361328125, 2744.88330078125, 1932.428466796875, 1784.5147705078125, 1288.41015625, 845.0250854492188, 830.4122314453125, 760.7667236328125, 749.847412109375, 675.8739624023438, 663.176513671875, 634.1315307617188, 595.6553344726562, 553.3355712890625, 548.9231567382812, 541.4525756835938, 537.6072387695312, 456.76788330078125, 455.5268859863281, 447.3793640136719, 442.40045166015625, 441.4073486328125, 417.4347839355469, 415.3041076660156, 413.830078125, 404.7632751464844, 404.3717041015625, 390.0063781738281, 386.4876708984375, 381.981201171875, 736.928466796875, 822.222412109375, 5394.89453125, 1393.48974609375, 2418.88330078125, 896.545654296875, 3328.689453125, 4236.71044921875, 757.884521484375, 819.349365234375, 1703.5072021484375, 1361.5550537109375, 8552.087890625, 50327.05859375, 4027.587158203125, 1081.4102783203125, 1047.571044921875, 844.3895263671875, 481.3353271484375, 428.99444580078125, 427.8245849609375, 400.6700744628906, 386.906494140625, 375.0157775878906, 334.1029357910156, 323.6531982421875, 315.2127380371094, 292.5081481933594, 286.9159240722656, 281.1509094238281, 256.1869812011719, 224.85704040527344, 219.31292724609375, 217.73291015625, 183.54779052734375, 182.1871795654297, 171.6129150390625, 168.8380126953125, 167.79019165039062, 164.79652404785156, 164.35423278808594, 163.9205322265625, 156.46124267578125, 1088.697998046875, 975.5352783203125, 961.6031494140625, 790.739501953125, 743.3407592773438, 631.3546142578125, 589.1504516601562, 571.3176879882812, 513.24169921875, 498.88623046875, 495.25531005859375, 463.74725341796875, 463.16693115234375, 440.0135498046875, 418.2634582519531, 364.40313720703125, 350.5737609863281, 340.4149475097656, 340.2967529296875, 327.7832946777344, 310.56329345703125, 309.5649719238281, 308.6832580566406, 308.49053955078125, 299.2377014160156, 285.6922607421875, 271.1885070800781, 267.3548278808594, 266.5538635253906, 246.76608276367188, 1259.8292236328125, 650.7465209960938, 2154.357177734375, 401.21734619140625, 329.4455871582031, 604.899658203125, 923.4387817382812, 711.2207641601562, 3672.15576171875, 976.3807983398438, 785.67138671875, 860.7960815429688, 645.4312744140625, 868.6227416992188, 1004.2747802734375, 4133.86328125, 1085.8958740234375, 607.2720947265625, 821.9827270507812, 2110.789306640625, 747.1009521484375, 586.566162109375, 563.2418212890625, 498.7476806640625, 417.5268249511719, 339.81768798828125, 330.376220703125, 327.4969482421875, 312.1838073730469, 265.33355712890625, 254.6163787841797, 241.7693328857422, 223.95726013183594, 204.208984375, 201.33578491210938, 200.06735229492188, 199.39523315429688, 198.9882049560547, 185.46237182617188, 173.47988891601562, 170.2161865234375, 163.8575897216797, 162.22056579589844, 161.64947509765625, 151.04559326171875, 141.45098876953125, 138.25379943847656, 134.56680297851562, 133.46990966796875, 378.0816955566406, 809.5213012695312, 681.3596801757812, 992.6796875, 290.23504638671875, 3287.979736328125, 899.1197509765625, 350.65765380859375, 455.5875549316406, 831.07763671875, 437.57940673828125, 387.7520446777344, 352.61346435546875, 426.0379943847656, 1341.634521484375, 1738.9281005859375, 830.6419677734375, 1358.9136962890625, 951.3260498046875, 718.4229736328125, 692.2697143554688, 669.5980224609375, 513.6812744140625, 503.5746765136719, 438.7505187988281, 414.2745361328125, 368.058837890625, 356.8378601074219, 349.07171630859375, 344.4913635253906, 342.19781494140625, 270.1205749511719, 249.88246154785156, 249.5983123779297, 212.92408752441406, 207.3864288330078, 175.30804443359375, 160.4141082763672, 146.78582763671875, 133.846923828125, 133.83543395996094, 113.13563537597656, 105.39824676513672, 100.22838592529297, 97.85932922363281, 96.91779327392578, 89.1030044555664, 503.6998596191406, 850.2603149414062, 1327.2257080078125, 1725.731689453125, 3287.979736328125, 720.7418823242188, 182.72689819335938, 1551.6343994140625, 831.07763671875, 1374.510986328125, 2180.01416015625, 879.773193359375, 1688.7459716796875, 5728.4658203125, 4252.62841796875, 830.6419677734375, 1930.893798828125, 814.9788818359375, 540.2496948242188, 487.3432312011719, 445.2743835449219, 427.0795593261719, 411.8103332519531, 399.49432373046875, 349.8718566894531, 281.4331970214844, 275.27557373046875, 220.78448486328125, 218.70474243164062, 209.79298400878906, 194.4528350830078, 183.5585174560547, 180.4639434814453, 175.9110565185547, 168.52493286132812, 165.1772918701172, 156.3868865966797, 147.09088134765625, 144.38751220703125, 138.9016571044922, 135.85142517089844, 135.44668579101562, 132.95355224609375, 128.49148559570312, 127.0160903930664, 124.45508575439453, 275.4449157714844, 984.7645874023438, 215.3749542236328, 1242.7572021484375, 873.7332763671875, 493.5117492675781, 491.8869934082031, 460.2843322753906, 382.13751220703125, 370.2991027832031, 357.8030700683594, 357.56402587890625, 347.10931396484375, 320.4941711425781, 312.96331787109375, 290.9872741699219, 290.06292724609375, 277.25714111328125, 255.2896270751953, 251.2198028564453, 248.8363800048828, 235.2104034423828, 222.3121795654297, 218.9320068359375, 211.69119262695312, 192.94091796875, 185.37591552734375, 179.4931182861328, 166.5572052001953, 166.4729461669922, 161.70262145996094, 148.09776306152344, 126.68252563476562, 123.79766082763672, 333.18695068359375, 597.8182373046875, 258.03338623046875, 2638.849365234375, 783.9293212890625, 760.9281005859375, 348.78875732421875, 342.87652587890625, 303.56005859375, 238.48690795898438, 223.63436889648438, 189.4645538330078, 161.500732421875, 157.03521728515625, 156.34954833984375, 150.38133239746094, 123.85926818847656, 121.12632751464844, 115.37754821777344, 113.7876968383789, 103.5793685913086, 98.55999755859375, 97.87264251708984, 92.80001831054688, 79.72236633300781, 67.02871704101562, 57.15415954589844, 53.99669647216797, 51.984649658203125, 38.084556579589844, 36.13768768310547, 29.785385131835938, 22.47716522216797, 289.61578369140625, 1236.182373046875, 826.1068725585938, 523.7545166015625, 252.00973510742188, 991.5880126953125, 1243.3504638671875, 3328.689453125, 2977.8115234375, 647.501708984375, 1040.4786376953125, 908.0050048828125, 566.6404418945312, 463.1733703613281, 360.93157958984375, 255.26866149902344, 232.79360961914062, 220.315185546875, 217.1981964111328, 186.88809204101562, 180.6272430419922, 180.33888244628906, 164.9518585205078, 125.67594909667969, 112.70104217529297, 108.53300476074219, 104.7760238647461, 83.22128295898438, 81.49478149414062, 71.88848876953125, 69.82086181640625, 68.46041107177734, 68.3830795288086, 66.99519348144531, 66.9459457397461, 66.8977279663086, 66.82268524169922, 66.82268524169922, 66.82268524169922, 66.82268524169922, 63.97650146484375, 766.3124389648438, 348.2528991699219, 156.90586853027344, 205.36514282226562, 2328.007080078125, 258.03338623046875, 391.5285339355469, 952.5263671875, 580.793701171875, 681.3596801757812, 371.9657287597656, 8109.70068359375, 827.8904418945312, 1124.9990234375, 715.8406982421875, 480.8789978027344, 314.89501953125, 290.7637939453125, 274.1849365234375, 246.9159698486328, 189.4201202392578, 126.0363998413086, 109.57010650634766, 109.28878021240234, 104.4145278930664, 103.71178436279297, 100.29005432128906, 93.92438507080078, 88.17601776123047, 82.01409149169922, 75.6137924194336, 73.5296401977539, 71.43836212158203, 65.16950225830078, 60.69404602050781, 54.65135192871094, 52.115806579589844, 45.742088317871094, 43.319541931152344, 41.92640686035156, 39.76226806640625, 39.410797119140625, 36.460174560546875, 721.215087890625, 405.5906066894531, 580.793701171875, 308.7220153808594, 173.7168731689453, 477.9059143066406, 495.0257568359375, 876.7081909179688, 488.3326721191406, 157.481201171875, 1369.4046630859375, 517.427001953125, 238.66737365722656, 372.9904479980469, 1085.8958740234375, 568.4739379882812, 1314.4915771484375, 1293.3843994140625, 1426.2493896484375, 3672.15576171875, 4799.203125, 338.6221008300781, 244.66024780273438, 216.2958526611328, 181.5408935546875, 166.7904815673828, 161.53448486328125, 148.1084442138672, 144.8653106689453, 101.30204772949219, 93.4156723022461, 73.32290649414062, 65.95536041259766, 62.76210403442383, 61.217735290527344, 58.51130294799805, 47.07782745361328, 43.110687255859375, 34.99817657470703, 32.3157958984375, 30.650190353393555, 22.519886016845703, 10.615592002868652, 3.8952417373657227, 538.6221923828125, 1.3893214464187622, 1.3891217708587646, 1.388979196548462, 1.388903260231018, 1.3888916969299316, 976.3366088867188, 811.297119140625, 683.4868774414062, 576.9149780273438, 541.7071533203125, 463.2318420410156, 338.70184326171875, 235.13951110839844, 234.45008850097656, 168.64071655273438, 168.523193359375, 163.91954040527344, 159.971923828125, 150.50656127929688, 142.5575408935547, 131.3455810546875, 125.60205841064453, 122.50731658935547, 121.42781829833984, 90.6086654663086, 79.99532318115234, 79.78797149658203, 56.31800079345703, 55.34315490722656, 49.42091369628906, 47.282859802246094, 46.71759796142578, 45.25138473510742, 41.67158508300781, 40.96240234375, 40.80647277832031, 846.6405639648438, 320.32965087890625, 165.1837615966797, 826.1068725585938, 281.65252685546875, 604.899658203125, 2261.0556640625, 978.9593505859375, 432.8275451660156, 342.4485778808594, 207.49391174316406, 187.93283081054688, 182.26499938964844, 171.4434051513672, 160.0117645263672, 149.3507080078125, 87.70999908447266, 85.36676025390625, 84.0367660522461, 72.71235656738281, 46.46614074707031, 46.07814025878906, 45.84565734863281, 44.54946517944336, 32.46070861816406, 32.053314208984375, 30.523298263549805, 29.685970306396484, 29.403106689453125, 23.948991775512695, 21.354372024536133, 21.30129623413086, 18.071353912353516, 12.917279243469238, 9.999752044677734, 8.668488502502441, 490.453857421875, 123.1783218383789, 248.94528198242188, 402.8468933105469, 253.7830810546875, 2977.8115234375, 840.275390625, 1202.49853515625, 633.724365234375, 1055.1773681640625, 472.4738464355469, 464.23382568359375, 259.61773681640625, 231.8712158203125, 187.05902099609375, 171.20652770996094, 170.1793212890625, 169.33465576171875, 168.824462890625, 143.1985626220703, 134.20643615722656, 124.4715576171875, 123.4991455078125, 116.34681701660156, 108.12069702148438, 106.16183471679688, 104.96695709228516, 101.10271453857422, 97.20396423339844, 88.30467987060547, 80.86377716064453, 78.8954849243164, 66.90936279296875, 64.55516052246094, 63.669986724853516, 62.246334075927734, 59.89638900756836, 56.04393005371094, 54.14480972290039, 1248.1119384765625, 1341.634521484375, 863.8408813476562, 149.22882080078125, 490.453857421875, 427.10992431640625, 656.0833129882812, 192.9702606201172, 180.03564453125, 149.72576904296875, 123.69407653808594, 92.09446716308594, 90.87284851074219, 90.06622314453125, 76.5482406616211, 67.57201385498047, 64.96585083007812, 63.05562973022461, 58.81963348388672, 56.665916442871094, 51.578582763671875, 44.53937911987305, 41.711952209472656, 40.98577117919922, 36.21180725097656, 34.94632339477539, 34.32447814941406, 31.069467544555664, 28.7989559173584, 28.549020767211914, 26.908987045288086, 17.51340675354004, 15.44039535522461, 15.289491653442383, 14.569369316101074, 13.667874336242676, 13.526275634765625, 33.11958312988281], \"loglift\": [30.0, 29.0, 28.0, 27.0, 26.0, 25.0, 24.0, 23.0, 22.0, 21.0, 20.0, 19.0, 18.0, 17.0, 16.0, 15.0, 14.0, 13.0, 12.0, 11.0, 10.0, 9.0, 8.0, 7.0, 6.0, 5.0, 4.0, 3.0, 2.0, 1.0, 1.1088000535964966, 1.1087000370025635, 1.1086000204086304, 1.1085000038146973, 1.1083999872207642, 1.108199954032898, 1.108199954032898, 1.108199954032898, 1.108199954032898, 1.108199954032898, 1.1081000566482544, 1.1081000566482544, 1.1081000566482544, 1.1080000400543213, 1.1079000234603882, 1.107800006866455, 1.1075999736785889, 1.1075999736785889, 1.1074999570846558, 1.1073999404907227, 1.107300043106079, 1.107200026512146, 1.1069999933242798, 1.1068999767303467, 1.1068999767303467, 1.1067999601364136, 1.1067999601364136, 1.1067999601364136, 1.106600046157837, 1.106600046157837, 1.104599952697754, 1.0979000329971313, 1.0979000329971313, 1.0959999561309814, 1.0957000255584717, 1.0908000469207764, 1.1032999753952026, 1.0990999937057495, 1.0777000188827515, 1.0717999935150146, 1.0824999809265137, 1.0849000215530396, 1.0641000270843506, 1.0260000228881836, 1.0872000455856323, 1.0580999851226807, 1.0556999444961548, 1.0700000524520874, 0.9843000173568726, 0.9764999747276306, 1.0211999416351318, 0.9563000202178955, 1.0130000114440918, 0.9922000169754028, 0.9973999857902527, 0.8995000123977661, 0.8551999926567078, 1.0434000492095947, 0.8371999859809875, 0.7689999938011169, 0.8440999984741211, 0.8921999931335449, 0.25859999656677246, 0.8682000041007996, 0.09939999878406525, 0.32679998874664307, 1.9007999897003174, 1.9005000591278076, 1.9002000093460083, 1.9002000093460083, 1.899899959564209, 1.8997000455856323, 1.8997000455856323, 1.8996000289916992, 1.8996000289916992, 1.8996000289916992, 1.8996000289916992, 1.8995000123977661, 1.8995000123977661, 1.8992999792099, 1.8991999626159668, 1.8990999460220337, 1.8990999460220337, 1.8990999460220337, 1.8990000486373901, 1.8990000486373901, 1.8990000486373901, 1.898900032043457, 1.898900032043457, 1.898800015449524, 1.898800015449524, 1.8986999988555908, 1.8985999822616577, 1.8985999822616577, 1.8985999822616577, 1.8984999656677246, 1.8912999629974365, 1.8619999885559082, 1.8463000059127808, 1.8653000593185425, 1.8559000492095947, 1.7864999771118164, 1.8178000450134277, 1.8847999572753906, 1.8566999435424805, 1.8199000358581543, 1.7803000211715698, 1.5999000072479248, 1.819100022315979, 1.562000036239624, 1.7879999876022339, 1.6687999963760376, 1.6512999534606934, 1.5612000226974487, 1.6195000410079956, 1.6606999635696411, 1.7488000392913818, 1.2482000589370728, 1.6194000244140625, 1.7867000102996826, 1.7073999643325806, 1.2532000541687012, 1.541100025177002, 0.8560000061988831, 0.9864000082015991, 1.4220999479293823, 1.3767000436782837, 1.4085999727249146, 1.5677000284194946, 0.765500009059906, 0.9520999789237976, 1.256700038909912, 2.125699996948242, 2.125699996948242, 2.125499963760376, 2.1250998973846436, 2.125, 2.1247000694274902, 2.1245999336242676, 2.1245999336242676, 2.1243999004364014, 2.124300003051758, 2.1242001056671143, 2.124000072479248, 2.124000072479248, 2.123800039291382, 2.123800039291382, 2.123699903488159, 2.1233999729156494, 2.123300075531006, 2.123199939727783, 2.123199939727783, 2.1231000423431396, 2.1231000423431396, 2.1226999759674072, 2.1226000785827637, 2.122499942779541, 2.122499942779541, 2.1221001148223877, 2.1221001148223877, 2.121999979019165, 2.1217000484466553, 2.1217000484466553, 2.1143999099731445, 2.1191000938415527, 2.06469988822937, 2.0613999366760254, 2.109299898147583, 2.0794999599456787, 2.1059000492095947, 1.9957000017166138, 2.0097999572753906, 2.0215001106262207, 1.6725000143051147, 1.8877999782562256, 1.5392999649047852, 1.7654000520706177, 1.7656999826431274, 1.9467999935150146, 1.2956000566482544, 1.6991000175476074, 1.8223999738693237, 0.6245999932289124, 1.138200044631958, 1.1267000436782837, 0.34599998593330383, 1.6589000225067139, 1.0611000061035156, -0.40689998865127563, 0.4668000042438507, 0.7965999841690063, 0.6664000153541565, 2.433000087738037, 2.4328999519348145, 2.4326999187469482, 2.4323999881744385, 2.4321000576019287, 2.4321000576019287, 2.4321000576019287, 2.431999921798706, 2.4319000244140625, 2.4319000244140625, 2.4319000244140625, 2.4316000938415527, 2.431299924850464, 2.4310998916625977, 2.4310998916625977, 2.430999994277954, 2.4309000968933105, 2.4307000637054443, 2.4307000637054443, 2.4305999279022217, 2.430500030517578, 2.430500030517578, 2.430299997329712, 2.430299997329712, 2.430000066757202, 2.4298999309539795, 2.4298999309539795, 2.429800033569336, 2.4296000003814697, 2.429500102996826, 2.4198999404907227, 2.396699905395508, 2.3919999599456787, 2.38100004196167, 2.2267000675201416, 2.2899999618530273, 2.0464000701904297, 2.0290000438690186, 2.154900074005127, 2.1923000812530518, 2.1242001056671143, 2.0652999877929688, 2.1977999210357666, 2.092900037765503, 1.0882999897003174, 0.9968000054359436, 1.858199954032898, 1.643399953842163, 2.0557000637054443, 0.6891999840736389, 1.0749000310897827, 1.6217000484466553, 1.1085000038146973, 1.207200050354004, 2.9272000789642334, 2.9268999099731445, 2.926500082015991, 2.9261999130249023, 2.926100015640259, 2.9260001182556152, 2.9260001182556152, 2.9256999492645264, 2.9256999492645264, 2.925600051879883, 2.92549991607666, 2.925299882888794, 2.924999952316284, 2.924999952316284, 2.924999952316284, 2.9249000549316406, 2.9249000549316406, 2.9247000217437744, 2.9247000217437744, 2.9247000217437744, 2.9247000217437744, 2.9244000911712646, 2.9244000911712646, 2.924299955368042, 2.9242000579833984, 2.923799991607666, 2.923799991607666, 2.923799991607666, 2.9237000942230225, 2.9237000942230225, 2.892199993133545, 2.8717000484466553, 2.8034000396728516, 2.855299949645996, 2.792099952697754, 2.515899896621704, 2.453200101852417, 2.387200117111206, 1.9908000230789185, 2.1531999111175537, 2.7567999362945557, 1.868399977684021, 2.6561999320983887, 2.447200059890747, 2.95740008354187, 2.95740008354187, 2.957200050354004, 2.9570999145507812, 2.9567999839782715, 2.9563000202178955, 2.9563000202178955, 2.9560999870300293, 2.9560999870300293, 2.955899953842163, 2.955899953842163, 2.9558000564575195, 2.9556000232696533, 2.9554998874664307, 2.9554998874664307, 2.955399990081787, 2.955399990081787, 2.9549999237060547, 2.9549999237060547, 2.954900026321411, 2.954900026321411, 2.954900026321411, 2.954699993133545, 2.954699993133545, 2.954699993133545, 2.9546000957489014, 2.9546000957489014, 2.9544999599456787, 2.954400062561035, 2.954400062561035, 2.9165000915527344, 2.83240008354187, 2.3580000400543213, 2.3334999084472656, 2.0481998920440674, 2.5373001098632812, 1.6449999809265137, 1.4543999433517456, 2.564199924468994, 2.4932000637054443, 1.8906999826431274, 2.035099983215332, 0.4124999940395355, 3.052299976348877, 3.052000045776367, 3.0511999130249023, 3.051100015640259, 3.050800085067749, 3.0497000217437744, 3.0494000911712646, 3.0494000911712646, 3.0492000579833984, 3.049099922180176, 3.0490000247955322, 3.0485999584198, 3.0483999252319336, 3.04830002784729, 3.0480000972747803, 3.0478999614715576, 3.0478999614715576, 3.0473999977111816, 3.0467000007629395, 3.046600103378296, 3.0464999675750732, 3.0455000400543213, 3.0453999042510986, 3.0450000762939453, 3.0448999404907227, 3.044800043106079, 3.0446999073028564, 3.0446999073028564, 3.044600009918213, 3.044300079345703, 3.2404000759124756, 3.240299940109253, 3.240299940109253, 3.240000009536743, 3.2399001121520996, 3.2395999431610107, 3.2393999099731445, 3.239300012588501, 3.2390999794006348, 3.239000082015991, 3.239000082015991, 3.238800048828125, 3.238800048828125, 3.238600015640259, 3.2385001182556152, 3.23799991607666, 3.2379000186920166, 3.237799882888794, 3.237799882888794, 3.237600088119507, 3.2374000549316406, 3.2374000549316406, 3.2374000549316406, 3.2374000549316406, 3.2372000217437744, 3.236999988555908, 3.236799955368042, 3.2367000579833984, 3.2367000579833984, 3.236299991607666, 3.210200071334839, 3.20989990234375, 3.1366000175476074, 3.2197000980377197, 3.225600004196167, 3.14739990234375, 3.0552000999450684, 3.05679988861084, 2.659600019454956, 2.960200071334839, 2.972599983215332, 2.9407999515533447, 3.015700101852417, 2.893899917602539, 2.742799997329712, 1.9919999837875366, 2.6077001094818115, 2.9567999839782715, 2.6335999965667725, 3.9937000274658203, 3.992500066757202, 3.9921000003814697, 3.992000102996826, 3.9916999340057373, 3.9911000728607178, 3.9904000759124756, 3.990299940109253, 3.990299940109253, 3.9900999069213867, 3.989300012588501, 3.9890999794006348, 3.988800048828125, 3.9883999824523926, 3.987799882888794, 3.9876999855041504, 3.9876999855041504, 3.9876999855041504, 3.987600088119507, 3.9872000217437744, 3.9867000579833984, 3.9865000247955322, 3.9862000942230225, 3.9860999584198, 3.9860999584198, 3.9855000972747803, 3.9848999977111816, 3.9846999645233154, 3.9844000339508057, 3.9844000339508057, 3.903899908065796, 3.683300018310547, 3.6054000854492188, 3.504199981689453, 3.771399974822998, 2.9426000118255615, 3.344399929046631, 3.688999891281128, 3.561000108718872, 3.27620005607605, 3.5453999042510986, 3.5787999629974365, 3.6221001148223877, 3.4928998947143555, 2.7002999782562256, 2.504300117492676, 2.7353999614715576, 4.06689977645874, 4.066500186920166, 4.065999984741211, 4.065999984741211, 4.065899848937988, 4.065299987792969, 4.065199851989746, 4.064799785614014, 4.064700126647949, 4.064300060272217, 4.0640997886657715, 4.0640997886657715, 4.064000129699707, 4.064000129699707, 4.062900066375732, 4.0625, 4.0625, 4.061600208282471, 4.061399936676025, 4.060299873352051, 4.059599876403809, 4.058800220489502, 4.0578999519348145, 4.0578999519348145, 4.056099891662598, 4.055200099945068, 4.054500102996826, 4.054200172424316, 4.054100036621094, 4.052800178527832, 4.01039981842041, 3.989500045776367, 3.8884999752044678, 3.7548999786376953, 3.637500047683716, 3.8138999938964844, 3.9890999794006348, 3.1923999786376953, 3.3961000442504883, 3.1438000202178955, 2.6628000736236572, 3.098400115966797, 2.4442999362945557, 1.4537999629974365, 1.3911000490188599, 2.907099962234497, 4.438799858093262, 4.437900066375732, 4.437099933624268, 4.436800003051758, 4.436500072479248, 4.436399936676025, 4.436299800872803, 4.436200141906738, 4.435699939727783, 4.434800148010254, 4.434700012207031, 4.433499813079834, 4.4334001541137695, 4.433199882507324, 4.432700157165527, 4.432300090789795, 4.43209981918335, 4.432000160217285, 4.431600093841553, 4.43149995803833, 4.431000232696533, 4.430500030517578, 4.430300235748291, 4.429900169372559, 4.429699897766113, 4.429699897766113, 4.429500102996826, 4.429100036621094, 4.428999900817871, 4.428800106048584, 4.408999919891357, 3.7852001190185547, 4.088600158691406, 2.3189001083374023, 4.5046000480651855, 4.503399848937988, 4.503399848937988, 4.503200054168701, 4.502600193023682, 4.502500057220459, 4.502399921417236, 4.502399921417236, 4.502299785614014, 4.5019001960754395, 4.501800060272217, 4.501500129699707, 4.501500129699707, 4.501299858093262, 4.500899791717529, 4.500800132751465, 4.500699996948242, 4.500400066375732, 4.500100135803223, 4.5, 4.499800205230713, 4.499199867248535, 4.498899936676025, 4.498700141906738, 4.4980998039245605, 4.4980998039245605, 4.497900009155273, 4.497099876403809, 4.49560022354126, 4.495299816131592, 4.442299842834473, 3.6672000885009766, 4.019499778747559, 4.5355000495910645, 4.534299850463867, 4.534299850463867, 4.532199859619141, 4.532199859619141, 4.531700134277344, 4.5304999351501465, 4.530099868774414, 4.5289998054504395, 4.5278000831604, 4.527599811553955, 4.527599811553955, 4.527200222015381, 4.525300025939941, 4.525100231170654, 4.524499893188477, 4.524400234222412, 4.523200035095215, 4.522600173950195, 4.522500038146973, 4.521699905395508, 4.5192999839782715, 4.51609992980957, 4.512700080871582, 4.511300086975098, 4.510300159454346, 4.500800132751465, 4.498799800872803, 4.490699768066406, 4.475500106811523, 4.458099842071533, 4.439599990844727, 4.2769999504089355, 3.8966000080108643, 3.9504001140594482, 3.143199920654297, 2.920099973678589, 2.2648000717163086, 1.833799958229065, 2.9433999061584473, 2.413599967956543, 4.551799774169922, 4.550899982452393, 4.5503997802734375, 4.549600124359131, 4.548099994659424, 4.547599792480469, 4.547299861907959, 4.5472002029418945, 4.546199798583984, 4.546000003814697, 4.545899868011475, 4.545300006866455, 4.542699813842773, 4.541500091552734, 4.541100025177002, 4.540599822998047, 4.537300109863281, 4.5370001792907715, 4.534800052642822, 4.534299850463867, 4.533899784088135, 4.533899784088135, 4.5335001945495605, 4.533400058746338, 4.533400058746338, 4.533400058746338, 4.533400058746338, 4.533400058746338, 4.533400058746338, 4.53249979019165, 4.450900077819824, 4.440899848937988, 4.471700191497803, 4.265999794006348, 2.060800075531006, 3.5868000984191895, 3.220400094985962, 2.5257999897003174, 2.901700019836426, 2.724400043487549, 3.1819000244140625, 0.6032000184059143, 2.480799913406372, 4.560100078582764, 4.5594000816345215, 4.558499813079834, 4.557000160217285, 4.556600093841553, 4.556399822235107, 4.555799961090088, 4.554200172424316, 4.550600051879883, 4.548999786376953, 4.548999786376953, 4.548399925231934, 4.548299789428711, 4.547900199890137, 4.546899795532227, 4.546000003814697, 4.5447998046875, 4.543399810791016, 4.542900085449219, 4.542399883270264, 4.540599822998047, 4.539000034332275, 4.536499977111816, 4.535299777984619, 4.531599998474121, 4.53000020980835, 4.528900146484375, 4.527100086212158, 4.526800155639648, 4.52400016784668, 4.473299980163574, 4.421000003814697, 4.345699787139893, 4.384699821472168, 4.424799919128418, 4.308700084686279, 4.186800003051758, 3.8863000869750977, 4.026400089263916, 4.24459981918335, 3.4816999435424805, 3.768899917602539, 4.049300193786621, 3.5425000190734863, 2.751499891281128, 3.187000036239624, 2.439500093460083, 2.3626999855041504, 2.10509991645813, 1.2051000595092773, 4.863500118255615, 4.859899997711182, 4.858399868011475, 4.857699871063232, 4.856500148773193, 4.855800151824951, 4.855599880218506, 4.854800224304199, 4.854599952697754, 4.8506999015808105, 4.849599838256836, 4.845600128173828, 4.843599796295166, 4.84250020980835, 4.8420000076293945, 4.841000080108643, 4.835400104522705, 4.832699775695801, 4.825399875640869, 4.8221001625061035, 4.819799900054932, 4.803500175476074, 4.731200218200684, 4.450799942016602, 3.7904000282287598, 1.8961999416351318, 1.8938000202178955, 1.891800045967102, 1.8911000490188599, 1.8910000324249268, 1.5435999631881714, 4.920599937438965, 4.920300006866455, 4.919899940490723, 4.9197001457214355, 4.919300079345703, 4.918300151824951, 4.916500091552734, 4.916500091552734, 4.914299964904785, 4.914299964904785, 4.914000034332275, 4.91379976272583, 4.913300037384033, 4.912799835205078, 4.9120001792907715, 4.911499977111816, 4.911300182342529, 4.911200046539307, 4.907400131225586, 4.905399799346924, 4.905399799346924, 4.8983001708984375, 4.897799968719482, 4.894899845123291, 4.893599987030029, 4.8933000564575195, 4.892300128936768, 4.889699935913086, 4.889100074768066, 4.888999938964844, 4.72730016708374, 4.522299766540527, 4.349400043487549, 3.4377999305725098, 3.958899974822998, 2.4902000427246094, 4.932400226593018, 4.931600093841553, 4.929900169372559, 4.929100036621094, 4.926499843597412, 4.925899982452393, 4.9257001876831055, 4.92519998550415, 4.924600124359131, 4.923999786376953, 4.917699813842773, 4.917300224304199, 4.917099952697754, 4.914599895477295, 4.9039998054504395, 4.903800010681152, 4.903600215911865, 4.9028000831604, 4.891300201416016, 4.890699863433838, 4.888599872589111, 4.88730001449585, 4.886899948120117, 4.876100063323975, 4.868899822235107, 4.868800163269043, 4.856800079345703, 4.82480001449585, 4.790900230407715, 4.767099857330322, 4.676799774169922, 4.568399906158447, 4.323299884796143, 3.7852001190185547, 3.3324999809265137, 1.739400029182434, 2.3866000175476074, 1.5420000553131104, 1.9467999935150146, 4.982399940490723, 4.980899810791016, 4.980800151824951, 4.978499889373779, 4.97790002822876, 4.976500034332275, 4.975900173187256, 4.975800037384033, 4.975800037384033, 4.9756999015808105, 4.974299907684326, 4.973700046539307, 4.972899913787842, 4.972799777984619, 4.972099781036377, 4.97130012512207, 4.9710001945495605, 4.970900058746338, 4.970399856567383, 4.969900131225586, 4.968400001525879, 4.9670000076293945, 4.966599941253662, 4.963500022888184, 4.962800025939941, 4.962500095367432, 4.961999893188477, 4.961100101470947, 4.95959997177124, 4.958700180053711, 3.634399890899658, 3.5782999992370605, 3.748500108718872, 4.507800102233887, 3.4848999977111816, 3.156399965286255, 2.6960999965667725, 5.918900012969971, 5.918399810791016, 5.916900157928467, 5.914999961853027, 5.911200046539307, 5.910999774932861, 5.910799980163574, 5.908100128173828, 5.905700206756592, 5.904900074005127, 5.904300212860107, 5.902699947357178, 5.901800155639648, 5.899400234222412, 5.895100116729736, 5.89300012588501, 5.892399787902832, 5.887899875640869, 5.88640022277832, 5.885700225830078, 5.881400108337402, 5.877799987792969, 5.877399921417236, 5.874300003051758, 5.8454999923706055, 5.834199905395508, 5.833199977874756, 5.828400135040283, 5.821599960327148, 5.820499897003174, 4.948699951171875], \"logprob\": [30.0, 29.0, 28.0, 27.0, 26.0, 25.0, 24.0, 23.0, 22.0, 21.0, 20.0, 19.0, 18.0, 17.0, 16.0, 15.0, 14.0, 13.0, 12.0, 11.0, 10.0, 9.0, 8.0, 7.0, 6.0, 5.0, 4.0, 3.0, 2.0, 1.0, -3.158799886703491, -3.6033999919891357, -4.6793999671936035, -4.750800132751465, -5.116499900817871, -5.459499835968018, -5.507299900054932, -5.457900047302246, -5.549300193786621, -5.610099792480469, -5.631999969482422, -5.649899959564209, -5.699999809265137, -5.855199813842773, -5.975500106811523, -5.988699913024902, -6.2256999015808105, -6.246699810028076, -6.249800205230713, -6.327499866485596, -6.453999996185303, -6.51200008392334, -6.6305999755859375, -6.634500026702881, -6.685100078582764, -6.702899932861328, -6.727200031280518, -6.730199813842773, -6.7829999923706055, -6.797100067138672, -3.8798000812530518, -5.0295000076293945, -5.253900051116943, -5.117099761962891, -5.29040002822876, -4.935800075531006, -6.220600128173828, -5.812600135803223, -4.217899799346924, -4.229100227355957, -4.942299842834473, -5.214000225067139, -4.4670000076293945, -3.509399890899658, -5.559199810028076, -4.639999866485596, -4.914899826049805, -5.353400230407715, -4.255300045013428, -4.251500129699707, -4.7957000732421875, -4.4730000495910645, -4.925600051879883, -4.7947998046875, -4.852700233459473, -4.275899887084961, -4.151000022888184, -5.172500133514404, -4.340799808502197, -4.523600101470947, -4.9633002281188965, -5.023099899291992, -4.468900203704834, -5.0346999168396, -4.9029998779296875, -4.978600025177002, -4.520100116729736, -4.931600093841553, -5.351500034332275, -5.353700160980225, -5.551599979400635, -5.666999816894531, -5.672399997711182, -5.738900184631348, -5.752699851989746, -5.75570011138916, -5.767600059509277, -5.797900199890137, -5.817599773406982, -5.888599872589111, -5.952499866485596, -5.9842000007629395, -6.000800132751465, -6.011899948120117, -6.031000137329102, -6.031000137329102, -6.046800136566162, -6.10099983215332, -6.101200103759766, -6.115699768066406, -6.120200157165527, -6.174200057983398, -6.194799900054932, -6.201700210571289, -6.22160005569458, -6.239200115203857, -5.0096001625061035, -5.0381999015808105, -4.838799953460693, -5.371699810028076, -5.305099964141846, -4.5081000328063965, -5.07450008392334, -5.937900066375732, -5.730599880218506, -5.460599899291992, -5.207799911499023, -4.04040002822876, -5.498600006103516, -3.9560000896453857, -5.329699993133545, -4.776899814605713, -4.920100212097168, -4.609799861907959, -4.899400234222412, -5.14139986038208, -5.402200222015381, -4.301000118255615, -5.1331000328063965, -5.513999938964844, -5.374599933624268, -4.6255998611450195, -5.110099792480469, -4.449399948120117, -4.752799987792969, -5.142600059509277, -5.161399841308594, -5.247700214385986, -5.321599960327148, -5.030399799346924, -5.228000164031982, -5.349699974060059, -3.3436999320983887, -3.4128000736236572, -4.062600135803223, -4.777500152587891, -4.876500129699707, -5.202600002288818, -5.222599983215332, -5.277400016784668, -5.389699935913086, -5.451600074768066, -5.540900230407715, -5.610499858856201, -5.617099761962891, -5.706999778747559, -5.710000038146973, -5.769499778747559, -5.89709997177124, -5.949699878692627, -5.9704999923706055, -5.976200103759766, -6.011899948120117, -6.023499965667725, -6.158299922943115, -6.1793999671936035, -6.210899829864502, -6.213200092315674, -4.963600158691406, -3.3401999473571777, -6.336599826812744, -6.420000076293945, -4.254799842834473, -3.8657000064849854, -5.148499965667725, -2.4059998989105225, -2.495300054550171, -5.161200046539307, -4.929900169372559, -5.705100059509277, -4.253399848937988, -5.031599998474121, -5.278800010681152, -3.329900026321411, -4.638000011444092, -3.188199996948242, -4.428899765014648, -4.515900135040283, -5.284599781036377, -4.500199794769287, -5.0366997718811035, -5.214099884033203, -4.3815999031066895, -4.740600109100342, -4.797999858856201, -4.829400062561035, -5.173500061035156, -5.044099807739258, -4.942200183868408, -5.051199913024902, -5.141600131988525, -5.140999794006348, -3.653700113296509, -3.904900074005127, -4.136300086975098, -4.63040018081665, -4.893599987030029, -4.902200222015381, -4.912199974060059, -4.953199863433838, -5.057799816131592, -5.059199810028076, -5.061800003051758, -5.200799942016602, -5.398799896240234, -5.454800128936768, -5.480599880218506, -5.52839994430542, -5.55810022354126, -5.633500099182129, -5.642300128936768, -5.6875, -5.703199863433838, -5.710299968719482, -5.786900043487549, -5.792699813842773, -5.867000102996826, -5.906799793243408, -5.9120001792907715, -5.926599979400635, -5.985300064086914, -6.005799770355225, -4.9868998527526855, -4.2967000007629395, -4.616499900817871, -5.060500144958496, -4.382800102233887, -4.922100067138672, -4.111700057983398, -4.123700141906738, -4.677000045776367, -5.098899841308594, -4.950099945068359, -4.839099884033203, -5.285299777984619, -5.164100170135498, -4.2042999267578125, -4.181300163269043, -5.0131001472473145, -4.907299995422363, -5.203000068664551, -4.616199970245361, -4.896100044250488, -5.0467000007629395, -4.996699810028076, -5.035799980163574, -3.295300006866455, -3.834199905395508, -4.216700077056885, -4.532599925994873, -4.558000087738037, -4.660999774932861, -4.669099807739258, -4.792900085449219, -4.798600196838379, -4.872600078582764, -4.929200172424316, -4.994699954986572, -5.119900226593018, -5.129000186920166, -5.14739990234375, -5.172900199890137, -5.190400123596191, -5.231500148773193, -5.235899925231934, -5.2571001052856445, -5.258999824523926, -5.329500198364258, -5.329599857330322, -5.388199806213379, -5.41349983215332, -5.504300117492676, -5.5142998695373535, -5.528200149536133, -5.531199932098389, -5.535699844360352, -4.309100151062012, -4.324900150299072, -3.737299919128418, -5.174300193786621, -4.870100021362305, -4.373799800872803, -4.229400157928467, -4.559199810028076, -4.316500186920166, -4.727499961853027, -5.157100200653076, -4.867499828338623, -5.1641998291015625, -5.139200210571289, -3.408600091934204, -3.418600082397461, -3.7697999477386475, -3.8494999408721924, -4.17549991607666, -4.597799777984619, -4.615300178527832, -4.703000068664551, -4.71750020980835, -4.821599960327148, -4.84060001373291, -4.88539981842041, -4.948200225830078, -5.021999835968018, -5.030099868774414, -5.043799877166748, -5.050899982452393, -5.214300155639648, -5.217100143432617, -5.235199928283691, -5.246399879455566, -5.248600006103516, -5.304599761962891, -5.309800148010254, -5.313300132751465, -5.335599899291992, -5.33650016784668, -5.372799873352051, -5.381899833679199, -5.393700122833252, -4.774400234222412, -4.749100208282471, -3.3422999382019043, -4.720399856567383, -4.45419979095459, -4.957600116729736, -4.538099765777588, -4.487500190734863, -5.098800182342529, -5.091800212860107, -4.962299823760986, -5.041999816894531, -4.827000141143799, -0.414900004863739, -2.940500020980835, -4.25629997253418, -4.288099765777588, -4.504000186920166, -5.067200183868408, -5.182600021362305, -5.185400009155273, -5.251100063323975, -5.286200046539307, -5.317500114440918, -5.433499813079834, -5.465400218963623, -5.4918999671936035, -5.566999912261963, -5.586299896240234, -5.6066999435424805, -5.700200080871582, -5.831299781799316, -5.856400012969971, -5.863699913024902, -6.0355000495910645, -6.043000221252441, -6.1031999588012695, -6.119699954986572, -6.125899791717529, -6.144100189208984, -6.1468000411987305, -6.149400234222412, -6.196400165557861, -4.060299873352051, -4.170199871063232, -4.184599876403809, -4.380499839782715, -4.442500114440918, -4.606100082397461, -4.6753997802734375, -4.706200122833252, -4.813700199127197, -4.842100143432617, -4.849400043487549, -4.915299892425537, -4.916600227355957, -4.9679999351501465, -5.018899917602539, -5.157199859619141, -5.196000099182129, -5.225500106811523, -5.225900173187256, -5.263500213623047, -5.317699909210205, -5.320899963378906, -5.323800086975098, -5.324399948120117, -5.355000019073486, -5.401500225067139, -5.45389986038208, -5.468200206756592, -5.471199989318848, -5.548699855804443, -3.944499969482422, -4.605500221252441, -3.481600046157837, -5.07919979095459, -5.270500183105469, -4.741000175476074, -4.410099983215332, -4.6697001457214355, -3.425299882888794, -4.44950008392334, -4.654300212860107, -4.594799995422363, -4.8078999519348145, -4.632699966430664, -4.638700008392334, -3.9744999408721924, -4.6956000328063965, -4.927700042724609, -4.9481000900268555, -2.6449999809265137, -3.6847000122070312, -3.9270999431610107, -3.9677999019622803, -4.089700222015381, -4.26800012588501, -4.474599838256836, -4.502900123596191, -4.51170015335083, -4.559800148010254, -4.723199844360352, -4.764599800109863, -4.816699981689453, -4.893599987030029, -4.986499786376953, -5.000800132751465, -5.0071001052856445, -5.010499954223633, -5.012599945068359, -5.083499908447266, -5.150700092315674, -5.169899940490723, -5.2083001136779785, -5.218400001525879, -5.22189998626709, -5.29040002822876, -5.356599807739258, -5.379700183868408, -5.4070000648498535, -5.415200233459473, -4.454400062561035, -3.9137001037597656, -4.164000034332275, -3.8887999057769775, -4.851399898529053, -3.2527999877929688, -4.147600173950195, -4.744699954986572, -4.610799789428711, -4.294600009918213, -4.666900157928467, -4.754300117492676, -4.806000232696533, -4.745999813079834, -4.391499996185303, -4.328199863433838, -4.835899829864502, -3.0120999813079834, -3.3691000938415527, -3.650399923324585, -3.6875, -3.720900058746338, -3.986599922180176, -4.006499767303467, -4.144700050354004, -4.202300071716309, -4.321000099182129, -4.3520002365112305, -4.374100208282471, -4.387400150299072, -4.394100189208984, -4.631700038909912, -4.70989990234375, -4.711100101470947, -4.8709001541137695, -4.89739990234375, -5.066699981689453, -5.156199932098389, -5.245699882507324, -5.338900089263916, -5.339000225067139, -5.508800029754639, -5.58050012588501, -5.631499767303467, -5.655700206756592, -5.665500164031982, -5.750800132751465, -4.060999870300293, -3.558500051498413, -3.214099884033203, -3.085099935531616, -2.5578999519348145, -3.8993000984191895, -5.096399784088135, -3.753999948501587, -4.174600124359131, -3.923799991607666, -3.9435999393463135, -4.41540002822876, -4.417399883270264, -4.186500072479248, -4.546999931335449, -4.6641998291015625, -2.2888998985290527, -3.152400016784668, -3.5643999576568604, -3.6677000522613525, -3.75819993019104, -3.800100088119507, -3.8366000652313232, -3.8671000003814697, -4.000199794769287, -4.218800067901611, -4.241000175476074, -4.462800025939941, -4.472300052642822, -4.514200210571289, -4.59060001373291, -4.64870023727417, -4.665800094604492, -4.691500186920166, -4.734799861907959, -4.755000114440918, -4.810100078582764, -4.872000217437744, -4.890699863433838, -4.929800033569336, -4.952199935913086, -4.9552001953125, -4.973999977111816, -5.008500099182129, -5.020100116729736, -5.0406999588012695, -4.26609992980957, -3.6159000396728516, -4.832499980926514, -4.8495001792907715, -3.0160999298095703, -3.5885000228881836, -3.5917999744415283, -3.658400058746338, -3.845099925994873, -3.876699924468994, -3.911099910736084, -3.911799907684326, -3.9416000843048096, -4.021699905395508, -4.045499801635742, -4.11870002746582, -4.1219000816345215, -4.167200088500977, -4.250199794769287, -4.266300201416016, -4.275899887084961, -4.332600116729736, -4.3892998695373535, -4.404699802398682, -4.438499927520752, -4.531899929046631, -4.572199821472168, -4.604700088500977, -4.679999828338623, -4.680500030517578, -4.709799766540527, -4.798500061035156, -4.956200122833252, -4.979499816894531, -4.042399883270264, -4.232999801635742, -4.720900058746338, -1.8797999620437622, -3.0947999954223633, -3.1245999336242676, -3.9068000316619873, -3.9238998889923096, -4.046199798583984, -4.288700103759766, -4.353300094604492, -4.520199775695801, -4.681099891662598, -4.709400177001953, -4.713799953460693, -4.7530999183654785, -4.948999881744385, -4.97160005569458, -5.020699977874756, -5.034800052642822, -5.129899978637695, -5.180300235748291, -5.187300205230713, -5.241300106048584, -5.395599842071533, -5.572199821472168, -5.735000133514404, -5.793300151824951, -5.832200050354004, -6.152900218963623, -6.207300186157227, -6.408699989318848, -6.705399990081787, -4.166800022125244, -2.7339999675750732, -3.2997000217437744, -4.135900020599365, -4.813600063323975, -4.250899791717529, -4.247799873352051, -3.918299913406372, -4.460700035095215, -4.8769001960754395, -4.932400226593018, -2.9303998947143555, -3.4028000831604004, -3.6050000190734863, -3.8552000522613525, -4.203100204467773, -4.2957000732421875, -4.351099967956543, -4.365499973297119, -4.5167999267578125, -4.55109977722168, -4.552700042724609, -4.642600059509277, -4.916999816894531, -5.027200222015381, -5.065299987792969, -5.10099983215332, -5.33459997177124, -5.355899810791016, -5.483500003814697, -5.513299942016602, -5.533299922943115, -5.5345001220703125, -5.5553998947143555, -5.556099891662598, -5.5569000244140625, -5.558000087738037, -5.558000087738037, -5.558000087738037, -5.558000087738037, -5.602399826049805, -3.200900077819824, -3.9995999336242676, -4.76609992980957, -4.702600002288818, -4.479899883270264, -5.153600215911865, -5.103000164031982, -4.9085001945495605, -5.027400016784668, -5.045000076293945, -5.192699909210205, -4.689499855041504, -5.093800067901611, -2.707900047302246, -3.160599946975708, -3.5594000816345215, -3.9842000007629395, -4.064300060272217, -4.123300075531006, -4.228600025177002, -4.495299816131592, -4.906300067901611, -5.047900199890137, -5.05049991607666, -5.096700191497803, -5.103600025177002, -5.137599945068359, -5.203999996185303, -5.268099784851074, -5.341700077056885, -5.4243998527526855, -5.452899932861328, -5.4822001457214355, -5.575900077819824, -5.648600101470947, -5.75600004196167, -5.804699897766113, -5.938799858093262, -5.994900226593018, -6.028600215911865, -6.083399772644043, -6.092599868774414, -6.173299789428711, -3.2392001152038574, -3.8671000003814697, -3.583400011062622, -4.176300048828125, -4.711299896240234, -3.8153998851776123, -3.9019999504089355, -3.63100004196167, -4.076099872589111, -4.98960018157959, -3.589600086212158, -4.275700092315674, -4.769100189208984, -4.829500198364258, -4.551799774169922, -4.763500213623047, -4.672800064086914, -4.7657999992370605, -4.925600051879883, -4.879899978637695, -0.9538000226020813, -3.6087000370025635, -3.9351999759674072, -4.059199810028076, -4.235499858856201, -4.320899963378906, -4.3531999588012695, -4.440700054168701, -4.4629998207092285, -4.824699878692627, -4.906899929046631, -5.1529998779296875, -5.260900020599365, -5.311600208282471, -5.336999893188477, -5.383299827575684, -5.606299877166748, -5.697000026702881, -5.912799835205078, -5.995800018310547, -6.051000118255615, -6.3755998611450195, -7.199900150299072, -8.48289966583252, -4.214099884033203, -12.068499565124512, -12.071000099182129, -12.073100090026855, -12.07390022277832, -12.074000358581543, -5.866099834442139, -2.674299955368042, -2.8459999561309814, -3.015899896621704, -3.0789999961853027, -3.2358999252319336, -3.550100088119507, -3.916800022125244, -3.9196999073028564, -4.251399993896484, -4.252099990844727, -4.28000020980835, -4.304599761962891, -4.366099834442139, -4.420899868011475, -4.503600120544434, -4.548799991607666, -4.573999881744385, -4.583000183105469, -4.879499912261963, -5.006100177764893, -5.008699893951416, -5.364200115203857, -5.3821001052856445, -5.498199939727783, -5.543700218200684, -5.556099891662598, -5.588900089263916, -5.673999786376953, -5.691699981689453, -5.6956000328063965, -2.824899911880493, -4.001800060272217, -4.836999893188477, -4.138899803161621, -4.693900108337402, -5.398200035095215, -1.6375000476837158, -2.475399971008301, -3.293299913406372, -3.5283000469207764, -4.031799793243408, -4.131499767303467, -4.162399768829346, -4.223999977111816, -4.293600082397461, -4.363100051879883, -4.901700019836426, -4.929200172424316, -4.945199966430664, -5.092400074005127, -5.5507001876831055, -5.5594000816345215, -5.564599990844727, -5.594099998474121, -5.9222002029418945, -5.935299873352051, -5.986400127410889, -6.015500068664551, -6.0254998207092285, -6.241499900817871, -6.36329984664917, -6.366000175476074, -6.542300224304199, -6.910099983215332, -7.199999809265137, -7.366600036621094, -3.4214000701904297, -4.911499977111816, -4.452899932861328, -4.509699821472168, -5.424499988555908, -4.555099964141846, -5.173099994659424, -5.659299850463867, -5.894999980926514, -2.349600076675415, -3.154599905014038, -3.172300100326538, -3.75570011138916, -3.8694000244140625, -4.0854997634887695, -4.174699783325195, -4.180799961090088, -4.185800075531006, -4.188899993896484, -4.354899883270264, -4.420400142669678, -4.496500015258789, -4.50439977645874, -4.564799785614014, -4.638999938964844, -4.65749979019165, -4.668900012969971, -4.706900119781494, -4.746799945831299, -4.844200134277344, -4.933700084686279, -4.958700180053711, -5.1265997886657715, -5.1631999015808105, -5.177299976348877, -5.200399875640869, -5.239699840545654, -5.307799816131592, -5.343100070953369, -3.5297000408172607, -3.5134999752044678, -3.7834999561309814, -4.780200004577637, -4.61329984664917, -5.079999923706055, -5.111100196838379, -3.111999988555908, -3.1819000244140625, -3.367799997329712, -3.560699939727783, -3.859499931335449, -3.8731000423431396, -3.8821001052856445, -4.047399997711182, -4.174600124359131, -4.214700222015381, -4.245200157165527, -4.316299915313721, -4.354499816894531, -4.451000213623047, -4.6020002365112305, -4.6697001457214355, -4.687900066375732, -4.816199779510498, -4.8531999588012695, -4.8719000816345215, -4.975800037384033, -5.055300235748291, -5.064499855041504, -5.126699924468994, -5.585000038146973, -5.722300052642822, -5.733099937438965, -5.786099910736084, -5.856800079345703, -5.868299961090088, -5.844600200653076]}, \"token.table\": {\"Topic\": [16, 18, 4, 5, 2, 5, 10, 13, 4, 5, 15, 1, 2, 10, 1, 2, 3, 10, 3, 5, 17, 19, 2, 13, 5, 1, 8, 15, 12, 3, 1, 2, 3, 4, 5, 5, 13, 3, 1, 3, 1, 2, 8, 10, 2, 13, 1, 3, 4, 8, 3, 14, 4, 20, 20, 3, 2, 5, 6, 15, 5, 18, 1, 2, 15, 4, 1, 8, 14, 14, 1, 3, 2, 16, 20, 7, 4, 4, 16, 1, 14, 15, 16, 18, 5, 8, 9, 2, 8, 7, 1, 6, 1, 11, 9, 2, 4, 6, 6, 7, 17, 1, 3, 4, 1, 4, 8, 9, 4, 12, 6, 8, 1, 2, 10, 1, 2, 8, 8, 6, 14, 8, 15, 2, 3, 4, 13, 6, 5, 8, 6, 6, 19, 12, 19, 1, 2, 15, 2, 10, 18, 1, 3, 9, 3, 13, 1, 2, 3, 4, 18, 13, 6, 18, 20, 12, 4, 17, 9, 3, 10, 1, 6, 8, 17, 19, 20, 2, 3, 6, 11, 15, 19, 5, 9, 6, 4, 14, 5, 10, 19, 4, 4, 4, 8, 16, 5, 15, 6, 8, 14, 15, 15, 1, 4, 13, 5, 5, 3, 10, 14, 6, 7, 19, 2, 3, 5, 16, 12, 17, 19, 15, 3, 1, 4, 6, 8, 13, 2, 3, 3, 4, 1, 2, 4, 19, 17, 5, 7, 13, 11, 2, 1, 2, 5, 15, 10, 4, 17, 1, 12, 17, 2, 3, 17, 3, 3, 1, 3, 8, 10, 7, 3, 8, 13, 18, 2, 12, 12, 7, 8, 10, 17, 2, 10, 6, 3, 4, 6, 1, 4, 19, 17, 4, 8, 13, 19, 2, 10, 18, 15, 2, 9, 8, 14, 2, 3, 5, 18, 12, 2, 4, 13, 7, 17, 8, 15, 15, 2, 10, 13, 3, 3, 7, 3, 14, 6, 1, 12, 12, 9, 17, 11, 7, 9, 10, 9, 10, 5, 19, 4, 11, 12, 4, 18, 19, 3, 13, 5, 15, 9, 3, 11, 1, 18, 4, 14, 1, 4, 1, 4, 1, 13, 2, 4, 20, 16, 15, 20, 14, 2, 1, 6, 1, 4, 5, 4, 6, 2, 15, 2, 3, 9, 10, 4, 3, 5, 16, 8, 15, 15, 18, 7, 10, 8, 1, 2, 4, 6, 8, 14, 11, 9, 10, 2, 3, 4, 6, 8, 13, 4, 9, 12, 1, 8, 14, 15, 1, 11, 19, 5, 20, 1, 9, 14, 18, 2, 6, 20, 9, 14, 1, 3, 6, 14, 12, 12, 14, 1, 2, 3, 4, 5, 6, 1, 6, 4, 6, 4, 1, 2, 3, 6, 11, 5, 14, 15, 11, 16, 4, 14, 1, 3, 4, 5, 1, 1, 1, 2, 3, 5, 10, 19, 7, 1, 3, 2, 1, 2, 3, 19, 1, 2, 6, 9, 9, 1, 4, 5, 6, 14, 6, 15, 1, 6, 7, 3, 20, 13, 12, 1, 8, 15, 4, 10, 7, 10, 10, 3, 11, 13, 9, 20, 8, 12, 2, 3, 2, 16, 2, 3, 5, 14, 15, 18, 2, 10, 12, 18, 1, 5, 3, 10, 9, 5, 18, 4, 15, 10, 15, 15, 4, 5, 8, 11, 9, 19, 15, 7, 4, 15, 4, 15, 14, 1, 20, 13, 19, 7, 13, 16, 12, 13, 5, 3, 6, 12, 1, 14, 15, 16, 1, 3, 4, 7, 14, 5, 14, 15, 1, 6, 14, 11, 4, 5, 8, 3, 7, 5, 7, 1, 2, 5, 1, 4, 1, 4, 9, 1, 3, 2, 3, 6, 1, 7, 4, 20, 14, 1, 2, 3, 8, 1, 6, 1, 3, 3, 4, 9, 2, 6, 9, 9, 16, 16, 10, 2, 3, 10, 13, 19, 3, 5, 1, 2, 4, 5, 1, 4, 6, 1, 2, 4, 5, 2, 13, 13, 16, 5, 12, 8, 14, 2, 7, 1, 2, 3, 4, 5, 6, 1, 7, 10, 1, 4, 5, 8, 17, 14, 5, 8, 15, 10, 13, 13, 9, 3, 5, 7, 2, 16, 17, 6, 20, 13, 14, 9, 12, 8, 15, 8, 17, 9, 8, 17, 11, 3, 18, 16, 2, 10, 13, 3, 9, 11, 17, 11, 4, 14, 4, 10, 7, 9, 10, 1, 13, 9, 14, 17, 17, 2, 6, 7, 16, 3, 13, 16, 1, 2, 4, 14, 15, 11, 5, 6, 4, 20, 20, 18, 10, 1, 2, 3, 12, 1, 4, 1, 2, 3, 5, 2, 6, 15, 19, 5, 6, 11, 1, 5, 1, 5, 6, 6, 6, 3, 18, 9, 9, 18, 1, 18, 1, 2, 3, 6, 8, 13, 15, 2, 19, 12, 12, 20, 5, 19, 18, 2, 11, 20, 1, 3, 3, 7, 11, 2, 7, 2, 14, 11, 18, 20, 12, 2, 10, 4, 15, 7, 7, 1, 4, 5, 14, 17, 20, 5, 10, 3, 5, 4, 1, 6, 8, 17, 3, 13, 8, 8, 20, 6, 6, 17, 11, 15, 7, 1, 1, 14, 15, 10, 1, 3, 4, 5, 17, 5, 20, 1, 3, 9, 19, 10, 8, 17, 5, 17, 1, 2, 3, 10, 8, 3, 9, 2, 13, 18, 19, 8, 5, 1, 5, 15, 4, 5, 6, 2, 4, 5, 14, 17, 5, 19, 2, 5, 19, 11, 1, 10, 1, 2, 3, 4, 20, 6, 9, 11, 16, 13, 10, 9, 6, 4, 1, 1, 4, 9, 19, 9, 8, 2, 4, 17, 11, 5, 6, 13, 4, 4, 14, 1, 15, 9, 3, 7, 14, 2, 6, 8, 14, 14, 2, 4, 5, 4, 11, 18, 2, 17, 16, 4, 5, 6, 9, 12, 19, 1, 5, 8, 15, 6, 9, 14, 3, 11, 15, 12, 3, 13, 3, 4, 8, 1, 2, 3, 6, 10, 13, 1, 11, 6, 14, 1, 19, 19, 11, 9, 11, 1, 4, 17, 13, 2, 3, 4, 11, 2, 6, 7, 13, 17, 18, 10, 15, 9, 2, 8, 18, 5, 1, 2, 4, 1, 3, 4, 1, 3, 5, 9, 19, 20, 2, 3, 5, 6, 8, 1, 4, 14, 2, 13, 20, 1, 2, 3, 4, 7, 4, 5, 9, 5, 11, 2, 10, 18, 14, 2, 11, 14, 15, 17, 6, 2, 3, 10, 11, 14, 15, 1, 4, 4, 17, 14, 2, 6, 19, 2, 4, 14, 14, 14, 16, 11, 11, 11, 13, 8, 19, 11, 9, 10, 12, 9, 14, 2, 3, 6, 16, 20, 6, 1, 3, 5, 8, 15, 5, 12, 11, 3, 9, 1, 6, 5, 9, 8, 18, 20, 10, 15, 19, 20, 1, 2, 4, 5, 10, 1, 3, 14, 16, 18, 2, 3, 5, 10, 1, 5, 19, 8, 7, 5, 6, 17, 2, 2, 3, 5, 11, 20, 16, 1, 4, 18, 18, 15, 5, 15, 4, 17, 6, 2, 3, 4, 5, 18, 3, 13, 1, 16, 1, 4, 1, 4, 1, 4, 12, 9, 1, 2, 6, 11, 12, 1, 4, 5, 14, 6, 5, 8, 20, 19, 5, 9, 11, 2, 2, 18, 14, 15, 9, 1, 4, 4, 1, 3, 4, 14, 14, 14, 2, 3, 2, 8, 4, 3, 6, 7, 18, 19, 10, 1, 3, 1, 2, 3, 5, 10, 5, 2, 3, 5, 13, 18, 9, 6, 9, 11, 12, 2, 3, 10, 13, 17, 1, 2, 3, 4, 14, 15, 11, 2, 13, 14, 6, 1, 3, 14, 15, 15, 19, 20, 12, 1, 2, 4, 14, 12, 8, 11, 1, 2, 1, 18, 1, 6, 13, 6, 15, 2, 15, 1, 2, 3, 4, 1, 2, 3, 14, 12, 1, 1, 3, 1, 3, 4, 15, 18, 18, 1, 2, 6, 8, 4, 6], \"Freq\": [0.9997493028640747, 0.9522803425788879, 0.9865992665290833, 0.012255892157554626, 0.1491168886423111, 0.6184684038162231, 0.2090081125497818, 0.022000852972269058, 0.711285412311554, 0.2637646794319153, 0.02373882196843624, 0.9903919696807861, 0.008714951574802399, 0.9905301928520203, 0.03510551527142525, 0.9217448234558105, 0.037805940955877304, 0.004500707145780325, 0.7383708357810974, 0.2609333395957947, 0.9712487459182739, 0.9759095907211304, 0.9643902778625488, 0.03447328880429268, 0.9976955056190491, 0.19273686408996582, 0.20530664920806885, 0.5991602540016174, 0.9972097277641296, 0.998306155204773, 0.3581269681453705, 0.5205352306365967, 0.03856997191905975, 0.08255886286497116, 0.9962177872657776, 0.9989305138587952, 0.9400583505630493, 0.9954622983932495, 0.12162737548351288, 0.8780277371406555, 0.9988358020782471, 0.3913271725177765, 0.6074034571647644, 0.9967269897460938, 0.7503116130828857, 0.24808689951896667, 0.1946512907743454, 0.13260619342327118, 0.12773990631103516, 0.5450236201286316, 0.9989987015724182, 0.9876885414123535, 0.573678731918335, 0.3623234033584595, 0.9881618022918701, 0.998021125793457, 0.2978097200393677, 0.04461568593978882, 0.656965970993042, 0.9981721043586731, 0.4498980641365051, 0.5422878265380859, 0.32636192440986633, 0.5530655384063721, 0.1201985627412796, 0.9985317587852478, 0.01744690351188183, 0.9795189499855042, 0.9940304160118103, 0.9988932013511658, 0.3644399642944336, 0.6354408860206604, 0.9984252452850342, 0.9855150580406189, 0.9863042831420898, 0.9934837222099304, 0.9964508414268494, 0.9980909824371338, 0.9461604952812195, 0.466517835855484, 0.022812606766819954, 0.5087211728096008, 0.9714791774749756, 0.9815542697906494, 0.19986635446548462, 0.7979161143302917, 0.9949740171432495, 0.9991307854652405, 0.9961893558502197, 0.9999789595603943, 0.976429283618927, 0.023272406309843063, 0.9992512464523315, 0.9919175505638123, 0.995725691318512, 0.7543351650238037, 0.16190868616104126, 0.08334315568208694, 0.99612957239151, 0.9961885213851929, 0.9938149452209473, 0.9957643747329712, 0.004076917190104723, 0.9988870024681091, 0.3322167694568634, 0.6673477292060852, 0.7636780738830566, 0.23419460654258728, 0.9982831478118896, 0.9980162382125854, 0.1673179566860199, 0.8309656381607056, 0.2293563038110733, 0.5247672200202942, 0.2454112470149994, 0.2636357545852661, 0.028781194239854813, 0.7068661451339722, 0.9958434700965881, 0.996834397315979, 0.9786677956581116, 0.9978001713752747, 0.9971576929092407, 0.46124330163002014, 0.09420101344585419, 0.44416019320487976, 0.9715223908424377, 0.9970104098320007, 0.012141610495746136, 0.9834704399108887, 0.9968116879463196, 0.9987069368362427, 0.9799773693084717, 0.9966071844100952, 0.9891931414604187, 0.07937062531709671, 0.9200886487960815, 0.9786574244499207, 0.05360335111618042, 0.9450072050094604, 0.992800235748291, 0.14721712470054626, 0.6268229484558105, 0.22542622685432434, 0.9988223314285278, 0.9937652349472046, 0.3995371460914612, 0.3869580030441284, 0.1329793781042099, 0.08026683330535889, 0.9603744745254517, 0.9913684129714966, 0.9988698959350586, 0.9000223278999329, 0.8922829627990723, 0.9954658150672913, 0.4298243224620819, 0.5630093216896057, 0.9991523027420044, 0.2677125334739685, 0.7312840223312378, 0.2544156610965729, 0.004646861460059881, 0.7400126457214355, 0.9875577092170715, 0.9890559911727905, 0.9655781984329224, 0.3120071589946747, 0.4389134347438812, 0.12830854952335358, 0.03435584157705307, 0.08553903549909592, 0.9973422288894653, 0.26558905839920044, 0.7325316667556763, 0.9973172545433044, 0.959346354007721, 0.03977276012301445, 0.5826114416122437, 0.41697967052459717, 0.9937687516212463, 0.9981366395950317, 0.99960857629776, 0.9983113408088684, 0.9984261989593506, 0.8478095531463623, 0.842890739440918, 0.15433210134506226, 0.21610420942306519, 0.7548284530639648, 0.02048381045460701, 0.007169333752244711, 0.996290385723114, 0.035532671958208084, 0.9638862609863281, 0.9910839200019836, 0.9967399835586548, 0.9975672960281372, 0.9982666969299316, 0.9956600069999695, 0.9944834113121033, 0.9974195957183838, 0.995906412601471, 0.9737712144851685, 0.8925899267196655, 0.07725071161985397, 0.028299767524003983, 0.9742363691329956, 0.995742917060852, 0.9984011650085449, 0.9886497259140015, 0.9697839021682739, 0.9993267059326172, 0.8899039030075073, 0.10310108959674835, 0.0066712466068565845, 0.9978544116020203, 0.9810588359832764, 0.21119257807731628, 0.788057267665863, 0.9983432292938232, 0.9980533719062805, 0.48621875047683716, 0.40848469734191895, 0.0015241967048496008, 0.10212117433547974, 0.990961492061615, 0.9949113726615906, 0.998072624206543, 0.9342815279960632, 0.9949074983596802, 0.9986180663108826, 0.039431434124708176, 0.6873440146446228, 0.1615915596485138, 0.11133580654859543, 0.9968730211257935, 0.32466554641723633, 0.6711835861206055, 0.5653892159461975, 0.43156930804252625, 0.9598866701126099, 0.8236868977546692, 0.17566081881523132, 0.9723459482192993, 0.9967074394226074, 0.9986519813537598, 0.9504863023757935, 0.04919816181063652, 0.996979296207428, 0.9986060857772827, 0.9948920607566833, 0.9944502711296082, 0.9949324727058411, 0.9948607683181763, 0.9365763664245605, 0.9986998438835144, 0.996335506439209, 0.9925776720046997, 0.996698796749115, 0.9949662685394287, 0.9936724305152893, 0.9822459816932678, 0.9612378478050232, 0.037538737058639526, 0.9975863099098206, 0.9007048010826111, 0.025708189234137535, 0.07253382354974747, 0.1328125298023224, 0.8666437268257141, 0.9929527640342712, 0.9939244389533997, 0.1465570330619812, 0.7525457143783569, 0.09880249947309494, 0.9893181324005127, 0.9983205795288086, 0.9937577247619629, 0.9652191996574402, 0.9785898923873901, 0.9211528301239014, 0.07754126191139221, 0.7330244779586792, 0.2630715072154999, 0.9829955697059631, 0.012384195812046528, 0.003096048953011632, 0.9764502644538879, 0.9925875663757324, 0.9978259205818176, 0.9979686141014099, 0.9948714971542358, 0.9950366020202637, 0.9765971899032593, 0.996149480342865, 0.9864527583122253, 0.9791969656944275, 0.9983240962028503, 0.9980193376541138, 0.9988145232200623, 0.9987673163414001, 0.9934445023536682, 0.005331544671207666, 0.9548060894012451, 0.04461710527539253, 0.9987869262695312, 0.999906063079834, 0.9964917302131653, 0.9970232844352722, 0.9958344101905823, 0.9775909781455994, 0.9911317229270935, 0.9972257614135742, 0.34945470094680786, 0.65024733543396, 0.16349893808364868, 0.8355775475502014, 0.99860680103302, 0.992118239402771, 0.47930237650871277, 0.5199212431907654, 0.9969367384910583, 0.29225921630859375, 0.698174774646759, 0.9916300773620605, 0.9989654421806335, 0.9934077262878418, 0.9985812902450562, 0.9720887541770935, 0.9977952241897583, 0.9806544184684753, 0.018358584493398666, 0.998992919921875, 0.9990200400352478, 0.243468776345253, 0.7498838305473328, 0.9087292551994324, 0.09103759378194809, 0.9992176294326782, 0.9994107484817505, 0.9972524642944336, 0.9907011985778809, 0.24255435168743134, 0.7569764852523804, 0.9690641760826111, 0.9741707444190979, 0.9876351356506348, 0.9767357110977173, 0.9876885414123535, 0.9963704943656921, 0.99455326795578, 0.004700157325714827, 0.46681103110313416, 0.453795850276947, 0.07852490246295929, 0.999117374420166, 0.9982993602752686, 0.9982592463493347, 0.9556798934936523, 0.11075770854949951, 0.29013705253601074, 0.28411760926246643, 0.31301090121269226, 0.9964699149131775, 0.9991399049758911, 0.9962561130523682, 0.994026780128479, 0.9981963038444519, 0.9619149565696716, 0.9779039621353149, 0.9995331168174744, 0.9948440790176392, 0.9878337979316711, 0.9976935982704163, 0.5093574523925781, 0.2034597396850586, 0.027379732578992844, 0.22234231233596802, 0.020770831033587456, 0.016522252932190895, 0.9953662157058716, 0.995033860206604, 0.992538571357727, 0.5916799902915955, 0.07155000418424606, 0.31533414125442505, 0.008568862453103065, 0.012424850836396217, 0.9974436163902283, 0.12478253245353699, 0.6891399025917053, 0.1843378245830536, 0.2808740735054016, 0.5304375886917114, 0.02394336462020874, 0.16391995549201965, 0.9971536993980408, 0.9976868033409119, 0.9884241223335266, 0.995917797088623, 0.9654377698898315, 0.3496508300304413, 0.6375985741615295, 0.009141198359429836, 0.9957699179649353, 0.9989007115364075, 0.9996781945228577, 0.9949719905853271, 0.9914693832397461, 0.9909911751747131, 0.7760268449783325, 0.2228727638721466, 0.001018529525026679, 0.9950301051139832, 0.9968041181564331, 0.6161993145942688, 0.3797958195209503, 0.8052799701690674, 0.09560401737689972, 0.007124337367713451, 0.08112552016973495, 0.0006894520483911037, 0.010111963376402855, 0.969394862651825, 0.030424997210502625, 0.039352528750896454, 0.9593875408172607, 0.9997379183769226, 0.882942259311676, 0.02104749158024788, 0.017422646284103394, 0.07846037298440933, 0.9948209524154663, 0.883158802986145, 0.08290352672338486, 0.03350505232810974, 0.9987989068031311, 0.7701704502105713, 0.09526140242815018, 0.9030259251594543, 0.16427382826805115, 0.2901150584220886, 0.15339027345180511, 0.3918083906173706, 0.999206006526947, 0.9992899298667908, 0.9992931485176086, 0.5365018844604492, 0.015913192182779312, 0.06706273555755615, 0.3796432912349701, 0.9788565039634705, 0.9951665997505188, 0.9820166826248169, 0.017467208206653595, 0.9979865550994873, 0.2244148701429367, 0.07756732404232025, 0.6974429488182068, 0.9907879829406738, 0.17147774994373322, 0.7544180750846863, 0.02899991348385811, 0.04455059394240379, 0.9947662353515625, 0.0507313497364521, 0.5665000677108765, 0.06160235404968262, 0.19447018206119537, 0.12562048435211182, 0.9976776838302612, 0.990158200263977, 0.6015180945396423, 0.397339791059494, 0.9976819157600403, 0.9997658133506775, 0.8779711723327637, 0.9685179591178894, 0.995625913143158, 0.02919723652303219, 0.9681189060211182, 0.9695393443107605, 0.9982184767723083, 0.9971231818199158, 0.99176025390625, 0.9958515763282776, 0.9899621605873108, 0.9973312020301819, 0.09060151875019073, 0.9084420204162598, 0.9930026531219482, 0.9881158471107483, 0.9945469498634338, 0.9951444864273071, 0.10842620581388474, 0.8900870084762573, 0.9994940757751465, 0.959283173084259, 0.7925097346305847, 0.025388434529304504, 0.18162494897842407, 0.12088635563850403, 0.8749869465827942, 0.9766018986701965, 0.9979354739189148, 0.9912187457084656, 0.9949607253074646, 0.9550006985664368, 0.12524862587451935, 0.872785210609436, 0.9988927841186523, 0.9964996576309204, 0.9964958429336548, 0.9654897451400757, 0.033264074474573135, 0.9969508051872253, 0.9642027616500854, 0.9935964345932007, 0.9991119503974915, 0.9988255500793457, 0.2712787687778473, 0.6222580671310425, 0.10593733191490173, 0.9883923530578613, 0.9930776357650757, 0.9943385720252991, 0.9871367812156677, 0.9968076944351196, 0.21970851719379425, 0.7763034105300903, 0.3090748190879822, 0.6868329644203186, 0.9858752489089966, 0.9980176687240601, 0.9156615734100342, 0.9880605340003967, 0.9864090085029602, 0.9906014204025269, 0.9842891693115234, 0.9871468544006348, 0.9916814565658569, 0.9847521185874939, 0.999556839466095, 0.9838352799415588, 0.015149638056755066, 0.9981967806816101, 0.6141355037689209, 0.04527514800429344, 0.33956360816955566, 0.9940088987350464, 0.8111101388931274, 0.16867054998874664, 0.020069383084774017, 0.9958317875862122, 0.9866645336151123, 0.3399322032928467, 0.0716724544763565, 0.585666298866272, 0.5924221277236938, 0.4026651382446289, 0.004547553136944771, 0.9972437620162964, 0.08169490098953247, 0.0176386721432209, 0.9005006551742554, 0.9963462948799133, 0.9972913861274719, 0.9974772930145264, 0.9915673732757568, 0.9996013641357422, 0.9978260397911072, 0.9969325065612793, 0.307121604681015, 0.6921050548553467, 0.44487956166267395, 0.03114156983792782, 0.5216212868690491, 0.05924652889370918, 0.9406809210777283, 0.7860702872276306, 0.13779941201210022, 0.07587336003780365, 0.9994690418243408, 0.9906606674194336, 0.9980824589729309, 0.9665355682373047, 0.9882433414459229, 0.5834785103797913, 0.04825587570667267, 0.36818304657936096, 0.9975806474685669, 0.4635843336582184, 0.5353466272354126, 0.9787899255752563, 0.020530715584754944, 0.2074449062347412, 0.7861070036888123, 0.0054590762592852116, 0.8588277101516724, 0.027678608894348145, 0.11308688670396805, 0.9936516880989075, 0.99151211977005, 0.932509183883667, 0.9993276000022888, 0.40887269377708435, 0.18843065202236176, 0.39723217487335205, 0.005092720501124859, 0.985225260257721, 0.9957488775253296, 0.0036447616294026375, 0.8760488033294678, 0.07709784060716629, 0.04253673925995827, 0.004276791587471962, 0.13803741335868835, 0.8135005235671997, 0.04785297065973282, 0.5518084764480591, 0.19049662351608276, 0.2570732533931732, 0.00048596077249385417, 0.43649107217788696, 0.5555340647697449, 0.9815415143966675, 0.9952096939086914, 0.9960451126098633, 0.9951232671737671, 0.9976965188980103, 0.995248019695282, 0.9977428913116455, 0.9996059536933899, 0.4574694335460663, 0.35156333446502686, 0.0008742249920032918, 0.17484499514102936, 0.009991142898797989, 0.005120460409671068, 0.9994592070579529, 0.07114442437887192, 0.9248775243759155, 0.6975077986717224, 0.29341891407966614, 0.008611207827925682, 0.9974653124809265, 0.9890742897987366, 0.9876885414123535, 0.15702177584171295, 0.8295081257820129, 0.011911996640264988, 0.9244228005409241, 0.07409495860338211, 0.9907075762748718, 0.9909311532974243, 0.6526509523391724, 0.3466881811618805, 0.9920411109924316, 0.9986728429794312, 0.9848454594612122, 0.9949753880500793, 0.9969167709350586, 0.994247555732727, 0.9926917552947998, 0.9851452708244324, 0.9125012159347534, 0.08199286460876465, 0.7440974116325378, 0.2533097565174103, 0.9949446320533752, 0.9557307362556458, 0.9924758672714233, 0.9956173896789551, 0.9951539039611816, 0.9974722266197205, 0.6801591515541077, 0.3177385926246643, 0.9925159811973572, 0.14013338088989258, 0.7755897045135498, 0.08186009526252747, 0.32538190484046936, 0.612483561038971, 0.06044245883822441, 0.9984140396118164, 0.9971379637718201, 0.9967653155326843, 0.9925757646560669, 0.9952595829963684, 0.9960102438926697, 0.9985002875328064, 0.9897421002388, 0.991184651851654, 0.06905701011419296, 0.9253639578819275, 0.9973299503326416, 0.9858700037002563, 0.997340738773346, 0.9899900555610657, 0.2840580940246582, 0.3156201243400574, 0.05755425617098808, 0.3416123688220978, 0.9957497715950012, 0.9798061847686768, 0.9932140707969666, 0.9741169810295105, 0.02564140409231186, 0.42904603481292725, 0.11595838516950607, 0.45223769545555115, 0.9962594509124756, 0.9460316300392151, 0.05297115072607994, 0.9972288012504578, 0.9135858416557312, 0.9589577317237854, 0.9407153725624084, 0.9964684844017029, 0.2427036166191101, 0.3212253749370575, 0.435846745967865, 0.9867185950279236, 0.9618963599205017, 0.037436794489622116, 0.054070040583610535, 0.5229725241661072, 0.37250712513923645, 0.05008126422762871, 0.08027025312185287, 0.8817565441131592, 0.03527026250958443, 0.9890931248664856, 0.6625394225120544, 0.31117430329322815, 0.025575971230864525, 0.997617781162262, 0.9974228143692017, 0.6510098576545715, 0.004109169822186232, 0.34399619698524475, 0.9972209930419922, 0.9968598484992981, 0.9997722506523132, 0.9500939249992371, 0.9946650266647339, 0.9962079524993896, 0.9805039167404175, 0.99992835521698, 0.9930595755577087, 0.2573198676109314, 0.711710512638092, 0.014246081933379173, 0.0163236353546381, 0.4696856737136841, 0.5269644260406494, 0.9956783056259155, 0.7073062062263489, 0.29056277871131897, 0.9948539733886719, 0.9940975904464722, 0.937533974647522, 0.996254026889801, 0.9850343465805054, 0.9289882183074951, 0.9973099231719971, 0.9956039786338806, 0.9759484529495239, 0.062378376722335815, 0.9375068545341492, 0.9972673058509827, 0.9952905774116516, 0.9920002818107605, 0.9986947774887085, 0.9961526393890381, 0.9566740393638611, 0.041594523936510086, 0.9928725361824036, 0.9876629710197449, 0.9729206562042236, 0.996921956539154, 0.9991782903671265, 0.9976134896278381, 0.6354050040245056, 0.36193954944610596, 0.9983543753623962, 0.997657060623169, 0.7118635177612305, 0.26055216789245605, 0.008138401433825493, 0.01923622190952301, 0.9757304191589355, 0.906712532043457, 0.997562825679779, 0.987621009349823, 0.8363916277885437, 0.16282214224338531, 0.9992004632949829, 0.32326823472976685, 0.6742451786994934, 0.9092417359352112, 0.08761783689260483, 0.9982765913009644, 0.9908144474029541, 0.9955108761787415, 0.9940766096115112, 0.9851329326629639, 0.9991511702537537, 0.9989054799079895, 0.98824143409729, 0.9918878674507141, 0.9599515199661255, 0.9940134286880493, 0.9981276392936707, 0.508111298084259, 0.2527114450931549, 0.2338925153017044, 0.9969234466552734, 0.11453693360090256, 0.6972473859786987, 0.1488676369190216, 0.0388878732919693, 0.9943903088569641, 0.9979093074798584, 0.9457417130470276, 0.9989887475967407, 0.4800114929676056, 0.2742922902107239, 0.245223268866539, 0.997651994228363, 0.9958637952804565, 0.9765052199363708, 0.9974940419197083, 0.9902709126472473, 0.4891092777252197, 0.17706696689128876, 0.26477742195129395, 0.06889856606721878, 0.9945595264434814, 0.9974804520606995, 0.9940796494483948, 0.8915943503379822, 0.06716341525316238, 0.04096968472003937, 0.9896347522735596, 0.9962323307991028, 0.9962344169616699, 0.9977484941482544, 0.9968581795692444, 0.9882075786590576, 0.9495080709457397, 0.029606042429804802, 0.02008981443941593, 0.6109375953674316, 0.16732071340084076, 0.22132624685764313, 0.9847365617752075, 0.989755392074585, 0.999193012714386, 0.9910106062889099, 0.9977676272392273, 0.8358504176139832, 0.16155092418193817, 0.9928279519081116, 0.9993122816085815, 0.9933147430419922, 0.26066726446151733, 0.12838834524154663, 0.344870001077652, 0.2659473121166229, 0.8871621489524841, 0.30510053038597107, 0.6475154757499695, 0.043899353593587875, 0.9905005693435669, 0.984652578830719, 0.9956707954406738, 0.989795982837677, 0.9974312782287598, 0.9973891377449036, 0.9994968175888062, 0.32052263617515564, 0.6791329383850098, 0.996343195438385, 0.9876140356063843, 0.9926817417144775, 0.998223602771759, 0.8918378353118896, 0.10746140778064728, 0.98769611120224, 0.9925836324691772, 0.7629323601722717, 0.032432347536087036, 0.20386046171188354, 0.9987698793411255, 0.997685432434082, 0.979774534702301, 0.9992230534553528, 0.9856703281402588, 0.9883567094802856, 0.9884684681892395, 0.0012260834919288754, 0.009808667935431004, 0.7164625525474548, 0.13391824066638947, 0.13452695310115814, 0.014609262347221375, 0.9830493330955505, 0.8862568736076355, 0.07861413806676865, 0.03426770120859146, 0.5871155858039856, 0.2088397741317749, 0.20095902681350708, 0.6142320036888123, 0.379900723695755, 0.9719240665435791, 0.9963188171386719, 0.9985212087631226, 0.9965628385543823, 0.05702504143118858, 0.939412534236908, 0.9962427020072937, 0.6514487266540527, 0.06168564036488533, 0.28665679693222046, 0.9866628646850586, 0.15997424721717834, 0.6780559420585632, 0.15997424721717834, 0.9981071352958679, 0.9693408012390137, 0.025413429364562035, 0.9920110106468201, 0.9970294833183289, 0.9783954620361328, 0.996444821357727, 0.030162818729877472, 0.9691789746284485, 0.0721004456281662, 0.30312231183052063, 0.19767539203166962, 0.2691749930381775, 0.05437575280666351, 0.1030435562133789, 0.28787004947662354, 0.7057459354400635, 0.10337315499782562, 0.8930291533470154, 0.9996740221977234, 0.9988842010498047, 0.9878610968589783, 0.9975080490112305, 0.7993521094322205, 0.19639255106449127, 0.7620930075645447, 0.23772111535072327, 0.9968485832214355, 0.9930625557899475, 0.05713102966547012, 0.19392363727092743, 0.628441333770752, 0.11989469826221466, 0.9980234503746033, 0.9982259273529053, 0.9986959099769592, 0.7722971439361572, 0.22636295855045319, 0.9432064890861511, 0.9981658458709717, 0.9925028085708618, 0.998526394367218, 0.5319684743881226, 0.3879680335521698, 0.07854567468166351, 0.9982990026473999, 0.9563021063804626, 0.016433997079730034, 0.027233481407165527, 0.93656986951828, 0.0027938776183873415, 0.06022358313202858, 0.9978256821632385, 0.3549361228942871, 0.25558605790138245, 0.12899483740329742, 0.25959208607673645, 0.9706010818481445, 0.6194677352905273, 0.359009712934494, 0.004839591681957245, 0.016278626397252083, 0.9983328580856323, 0.20834088325500488, 0.7903725504875183, 0.9922952651977539, 0.9984132051467896, 0.9987803101539612, 0.9884737730026245, 0.13996852934360504, 0.7786856889724731, 0.0801718458533287, 0.0008858767687343061, 0.9953667521476746, 0.9972773194313049, 0.9981571435928345, 0.9889869689941406, 0.9954575896263123, 0.9922052621841431, 0.9980261921882629, 0.9867336750030518, 0.8075225353240967, 0.9865806102752686, 0.9963393211364746, 0.9925286173820496, 0.9241209626197815, 0.07010572403669357, 0.9728683829307556, 0.99615079164505, 0.6567003130912781, 0.14507806301116943, 0.19718773663043976, 0.9903903603553772, 0.1911177784204483, 0.8057938814163208, 0.9871888756752014, 0.012382426299154758, 0.9975022077560425, 0.9872449636459351, 0.9876885414123535, 0.9553329348564148, 0.03354848176240921, 0.00958527997136116, 0.946330189704895, 0.03672178089618683, 0.01637592911720276, 0.9942294955253601, 0.9853248596191406, 0.977105438709259, 0.9995371103286743, 0.9937326908111572, 0.9935086369514465, 0.9922700524330139, 0.9984403252601624, 0.9881775379180908, 0.9914535284042358, 0.48731908202171326, 0.5113842487335205, 0.9906506538391113, 0.9933654069900513, 0.9876407384872437, 0.678044855594635, 0.07886624336242676, 0.20587162673473358, 0.03584829345345497, 0.9797742962837219, 0.9983182549476624, 0.058548714965581894, 0.2538018822669983, 0.09367794543504715, 0.5587998032569885, 0.03485690802335739, 0.9310262203216553, 0.06663787364959717, 0.9893191456794739, 0.9978803992271423, 0.9954290986061096, 0.9892369508743286, 0.010311959311366081, 0.3919838070869446, 0.6055797934532166, 0.9928430914878845, 0.9671387076377869, 0.966219961643219, 0.987744152545929, 0.9798656702041626, 0.993070125579834, 0.9614130258560181, 0.19813819229602814, 0.6975615620613098, 0.023028166964650154, 0.0263864416629076, 0.05421214550733566, 0.9870548248291016, 0.012512999586760998, 0.9816579222679138, 0.9892650842666626, 0.9389100074768066, 0.7398141622543335, 0.1312742382287979, 0.05551224574446678, 0.07331805676221848, 0.9998147487640381, 0.9973999857902527, 0.9968805909156799, 0.9941705465316772, 0.9943842887878418, 0.9975335597991943, 0.9994757175445557, 0.9632344841957092, 0.9975706338882446, 0.02957204170525074, 0.47375619411468506, 0.46108245849609375, 0.03500363975763321, 0.9832587838172913, 0.9819577932357788, 0.9890019297599792, 0.010512229986488819, 0.9980880618095398, 0.9936769604682922, 0.9917770028114319, 0.15871883928775787, 0.8389424085617065, 0.17598967254161835, 0.8232537508010864, 0.9966480731964111, 0.4828597605228424, 0.16410920023918152, 0.21460434794425964, 0.08521054685115814, 0.05049514025449753, 0.9996659159660339, 0.9841721057891846, 0.9990314841270447, 0.9801081418991089, 0.9990145564079285, 0.9979252815246582, 0.9160214066505432, 0.0837291032075882, 0.9636965394020081, 0.03618058189749718, 0.996638834476471, 0.9946510195732117, 0.8585663437843323, 0.1361434906721115, 0.005089476238936186, 0.9883083701133728, 0.9854790568351746, 0.4493314027786255, 0.1175820454955101, 0.3002541661262512, 0.131229966878891, 0.9966078400611877, 0.9971949458122253, 0.9951682686805725, 0.9693946242332458, 0.9813730120658875, 0.2527388334274292, 0.6602157354354858, 0.08510593324899673, 0.9969854354858398, 0.997132420539856, 0.9909561276435852, 0.26034852862358093, 0.7302458882331848, 0.9928550720214844, 0.43643492460250854, 0.5625825524330139, 0.9985393285751343, 0.78610759973526, 0.2133817821741104, 0.00022700190311297774, 0.9971049427986145, 0.9974189400672913, 0.9974666833877563, 0.9901595711708069, 0.009236562997102737, 0.9975922107696533, 0.9974805116653442, 0.996355414390564, 0.9961945414543152, 0.002922248560935259, 0.0005844496772624552, 0.7747925519943237, 0.22428205609321594, 0.9969298243522644, 0.0029633149970322847, 0.9964146614074707, 0.07785800099372864, 0.7123079895973206, 0.19031955301761627, 0.005715765990316868, 0.013594253920018673, 0.9978517889976501, 0.6939114332199097, 0.09130413085222244, 0.0941874235868454, 0.12013701349496841, 0.9915808439254761, 0.9921150207519531, 0.995643675327301, 0.7357603311538696, 0.25951236486434937, 0.9894706606864929, 0.6948965787887573, 0.024932632222771645, 0.08123212307691574, 0.19865678250789642, 0.9978245496749878, 0.07486232370138168, 0.23691724240779877, 0.0008807331905700266, 0.6852104663848877, 0.12820810079574585, 0.8703357577323914, 0.9909512996673584, 0.9982190132141113, 0.9806032776832581, 0.9849066138267517, 0.9979941844940186, 0.7674790024757385, 0.2323068231344223, 0.08180638402700424, 0.9165088534355164, 0.3685615062713623, 0.6232039928436279, 0.9903948307037354, 0.9949483871459961, 0.8946826457977295, 0.019379407167434692, 0.07644099742174149, 0.009474377147853374, 0.9911520481109619, 0.9980472922325134, 0.9915094375610352, 0.9482739567756653, 0.05125148966908455, 0.9983086585998535, 0.9950363636016846, 0.9993904829025269, 0.9992607831954956, 0.9996781349182129, 0.9982156157493591, 0.9820544719696045, 0.9977356791496277, 0.993933916091919, 0.16771578788757324, 0.05932305008172989, 0.03808393329381943, 0.7338480949401855, 0.41375014185905457, 0.40064579248428345, 0.18076275289058685, 0.004817770794034004, 0.9953379034996033, 0.9971134066581726, 0.9204957485198975, 0.07944978773593903, 0.42731282114982605, 0.5561793446540833, 0.016397375613451004, 0.9834948182106018, 0.9684470891952515, 0.9839895367622375, 0.3762816786766052, 0.07099304348230362, 0.548852264881134, 0.0037072086706757545, 0.36980563402175903, 0.6285474896430969], \"Term\": [\"_\", \"academy\", \"accept\", \"accept\", \"access\", \"access\", \"access\", \"access\", \"act\", \"act\", \"act\", \"actually\", \"actually\", \"adapter\", \"add\", \"add\", \"add\", \"add\", \"address\", \"address\", \"adjust\", \"admin\", \"advance\", \"advance\", \"agency\", \"aim\", \"aim\", \"aim\", \"air\", \"algorithm\", \"also\", \"also\", \"also\", \"also\", \"america\", \"american\", \"ann_arbor\", \"announcement\", \"anyone\", \"anyone\", \"anyway\", \"appear\", \"appear\", \"apple\", \"application\", \"application\", \"apply\", \"apply\", \"apply\", \"apply\", \"appreciate\", \"appressian\", \"approval\", \"approval\", \"approve\", \"apr\", \"april\", \"april\", \"april\", \"arab\", \"archive\", \"archive\", \"area\", \"area\", \"area\", \"argument\", \"arm\", \"arm\", \"armenia\", \"armenian\", \"article\", \"article\", \"associate\", \"asteroid\", \"astronomy\", \"atf\", \"atheism\", \"atheist\", \"atm\", \"attack\", \"attack\", \"attack\", \"aug\", \"australian\", \"authority\", \"authority\", \"auto\", \"available\", \"aware\", \"ax\", \"back\", \"back\", \"bad\", \"band\", \"bank\", \"base\", \"base\", \"base\", \"baseball\", \"batf\", \"battery\", \"be\", \"be\", \"belief\", \"believe\", \"believe\", \"better\", \"better\", \"bible\", \"bike\", \"bill\", \"bill\", \"bit\", \"bit\", \"bit\", \"black\", \"black\", \"black\", \"blank\", \"blue\", \"bmp\", \"body\", \"bomb\", \"book\", \"book\", \"book\", \"borland\", \"boston\", \"bother\", \"bother\", \"boy\", \"brain\", \"brand_new\", \"brown\", \"bug\", \"build\", \"build\", \"bullet\", \"bus\", \"bus\", \"button\", \"buy\", \"buy\", \"buy\", \"ca\", \"california_institute\", \"call\", \"call\", \"call\", \"call\", \"callback\", \"caltech\", \"canada\", \"canberra\", \"cancel\", \"cap\", \"capture\", \"capture\", \"car\", \"card\", \"card\", \"carry\", \"carry\", \"carry\", \"catalog\", \"cbr\", \"centaur\", \"center\", \"center\", \"center\", \"center\", \"center\", \"character\", \"cheap\", \"cheap\", \"chicago\", \"child\", \"child\", \"chip\", \"chip\", \"chris\", \"christ\", \"christian\", \"christianity\", \"church\", \"circumference\", \"citizen\", \"citizen\", \"city\", \"city\", \"city\", \"city\", \"civilian\", \"claim\", \"claim\", \"click\", \"clinton\", \"clipper\", \"clipper_chip\", \"clock\", \"closed\", \"club\", \"cluster\", \"cod\", \"code\", \"code\", \"code\", \"col\", \"cold\", \"color\", \"colorado_boulder\", \"columbia\", \"com\", \"come\", \"come\", \"come\", \"community\", \"compiler\", \"computer\", \"computer\", \"computer_science\", \"conclusion\", \"condition\", \"condition\", \"condition\", \"condition\", \"configuration\", \"congress\", \"connector\", \"console\", \"consult\", \"contain\", \"control\", \"control\", \"control\", \"control\", \"controller\", \"convert\", \"convert\", \"cool\", \"cool\", \"cooling_tower\", \"copy\", \"copy\", \"cord\", \"corp\", \"corporation\", \"could\", \"could\", \"count\", \"cpu\", \"cr\", \"crash\", \"cross\", \"cub\", \"cubic\", \"current\", \"cycle\", \"cylinder\", \"dale\", \"dangerous\", \"daniel\", \"dare\", \"datum\", \"datum\", \"dave\", \"david\", \"david\", \"david\", \"death\", \"death\", \"decent\", \"default\", \"define\", \"define\", \"define\", \"delaware\", \"dept\", \"depth\", \"der\", \"desert\", \"design\", \"design\", \"destroy\", \"destroy\", \"detail\", \"detail\", \"detail\", \"diameter\", \"diet\", \"digital\", \"direct\", \"directory\", \"dirt\", \"disable\", \"disagree\", \"disarm\", \"discount\", \"disease\", \"disk\", \"display\", \"distribution\", \"distribution_usa\", \"distribution_usa\", \"distribution_world\", \"distribution_world\", \"division\", \"do\", \"doctor\", \"dod\", \"door\", \"download\", \"dr\", \"draft\", \"drive\", \"drive\", \"driver\", \"driver\", \"drug\", \"duo\", \"earth\", \"earth\", \"eat\", \"edit\", \"edit\", \"electrical\", \"email\", \"enable\", \"encryption\", \"enemy\", \"engine\", \"engineering\", \"engineering\", \"enough\", \"entry\", \"escape\", \"escape\", \"even\", \"even\", \"everything\", \"evidence\", \"exactly\", \"exe\", \"exist\", \"exist\", \"expire\", \"explode\", \"expose\", \"extension\", \"extermination_ohanus\", \"external\", \"face\", \"face\", \"fact\", \"fact\", \"fact\", \"faith\", \"fan\", \"faq\", \"farmer\", \"fast\", \"fast\", \"fast\", \"fast\", \"father\", \"fax\", \"federal\", \"fi\", \"field\", \"fighter\", \"fighting\", \"file\", \"film\", \"finland\", \"firearm\", \"first\", \"first\", \"first\", \"first\", \"first\", \"first\", \"flight\", \"floor\", \"floppy\", \"follow\", \"follow\", \"follow\", \"follow\", \"follow\", \"font\", \"foot\", \"foot\", \"foot\", \"force\", \"force\", \"force\", \"force\", \"forget\", \"format\", \"forsale\", \"freedom\", \"frequently_ask\", \"front\", \"front\", \"front\", \"ftp\", \"function\", \"game\", \"gateway\", \"gear\", \"genocide\", \"get\", \"get\", \"get\", \"gif\", \"gift\", \"girl\", \"girl\", \"give\", \"give\", \"give\", \"give\", \"give\", \"give\", \"go\", \"go\", \"goal\", \"goal\", \"god\", \"good\", \"good\", \"good\", \"good\", \"gov\", \"government\", \"government\", \"government\", \"graphic\", \"gravity_assist\", \"greek\", \"greek\", \"group\", \"group\", \"group\", \"group\", \"guess\", \"gun\", \"happen\", \"hardware\", \"hardware\", \"hardware\", \"hardware\", \"harley\", \"harry\", \"have\", \"have\", \"health\", \"help\", \"help\", \"help\", \"hewlett_packard\", \"high\", \"high\", \"high\", \"high\", \"highway\", \"history\", \"history\", \"history\", \"history\", \"history\", \"hit\", \"holocaust\", \"home\", \"home\", \"honda\", \"host\", \"host_mahler\", \"host_punisher\", \"hot\", \"house\", \"house\", \"hp\", \"human\", \"ibm\", \"idaho\", \"ide\", \"ide_vs\", \"illinois\", \"image\", \"image\", \"imho\", \"implementation\", \"imply\", \"improve\", \"inc\", \"inc\", \"include\", \"infinity\", \"information\", \"information\", \"information\", \"inhabitant\", \"inhabitant\", \"ini\", \"input\", \"installation\", \"insurance\", \"interactive\", \"interest\", \"interest\", \"interested\", \"interface\", \"internal\", \"internet\", \"internet\", \"interpretation\", \"invade\", \"isa\", \"israel\", \"israeli\", \"issue\", \"issue\", \"issue\", \"japan\", \"japanese\", \"jason\", \"jerusalem\", \"jet_propulsion\", \"jew\", \"jew\", \"jewish\", \"jewish\", \"jim_frost\", \"job\", \"jon_leech\", \"jon_livesey\", \"jonathan\", \"jone\", \"jpeg\", \"jpl\", \"jr\", \"keith_allan\", \"key\", \"keyword\", \"keyword\", \"kid\", \"kill\", \"kill\", \"kill\", \"km\", \"know\", \"know\", \"know\", \"koresh\", \"kurd\", \"land\", \"land\", \"land\", \"last\", \"last\", \"last\", \"launch\", \"law\", \"law\", \"law\", \"law_enforcement\", \"leafs\", \"legal\", \"lemieux\", \"let\", \"library\", \"license\", \"life\", \"life\", \"light\", \"light\", \"light\", \"line\", \"line\", \"list\", \"list\", \"list\", \"little\", \"log\", \"logic\", \"login\", \"longer_exist\", \"look\", \"look\", \"look\", \"lord\", \"lose\", \"lose\", \"lot\", \"lot\", \"love\", \"love\", \"love\", \"low\", \"low\", \"low\", \"ltd\", \"lunar\", \"lunar_orbit\", \"mac\", \"machine\", \"machine\", \"machine\", \"machine\", \"macintosh\", \"mail\", \"mail\", \"make\", \"make\", \"make\", \"make\", \"man\", \"man\", \"man\", \"many\", \"many\", \"many\", \"many\", \"map\", \"map\", \"mapping\", \"mar\", \"market\", \"martin\", \"mass\", \"massacre\", \"material\", \"max\", \"may\", \"may\", \"may\", \"may\", \"may\", \"may\", \"maybe\", \"mb\", \"mb\", \"mean\", \"mean\", \"mean\", \"meet\", \"meg\", \"melkonian\", \"member\", \"member\", \"member\", \"memory\", \"memory\", \"menu\", \"mess\", \"message\", \"message\", \"meter\", \"method\", \"mg\", \"mhz\", \"michael\", \"michigan\", \"microsoft\", \"might_serve\", \"mile\", \"mile\", \"military\", \"military\", \"militia\", \"minimal\", \"minnesota\", \"minority\", \"mirror\", \"mission\", \"mit\", \"mit\", \"mo\", \"mode\", \"mode\", \"mode\", \"model\", \"model\", \"model\", \"monitor\", \"moon\", \"moral\", \"moslem\", \"mother\", \"motherboard\", \"motif\", \"motor\", \"motorola\", \"motto\", \"motto\", \"mount\", \"mountain_pass\", \"mouse\", \"mph\", \"mr\", \"mr\", \"mr\", \"mr\", \"ms\", \"ms_window\", \"mu\", \"much\", \"much\", \"murder\", \"murder\", \"murder\", \"nasa\", \"national\", \"national\", \"nature\", \"naval\", \"navy\", \"ncd\", \"nec\", \"need\", \"need\", \"need\", \"netcom\", \"never\", \"never\", \"new\", \"new\", \"new\", \"new\", \"new_york\", \"new_york\", \"new_york\", \"new_zealand\", \"news\", \"news\", \"news\", \"newsgroup\", \"newsreader_tin\", \"next\", \"next\", \"next\", \"nhl\", \"night\", \"nntp_post\", \"node\", \"noise\", \"northern\", \"norway\", \"not\", \"nt\", \"number\", \"number\", \"number\", \"number\", \"object\", \"object\", \"occupy\", \"offer\", \"offer\", \"oil\", \"ok\", \"openwindow\", \"operate\", \"operator\", \"optimize\", \"option\", \"orbit\", \"orbital\", \"organization\", \"organization\", \"originator\", \"out\", \"ozone\", \"package\", \"packet\", \"page\", \"page\", \"panel\", \"parameter\", \"participation\", \"pat\", \"patient\", \"pc\", \"peace\", \"peace\", \"pen\", \"penguin\", \"people\", \"people\", \"people\", \"people\", \"peripheral\", \"personnel\", \"pgp\", \"philip\", \"phone\", \"phone\", \"physical\", \"pick\", \"pick\", \"picture\", \"picture\", \"pin\", \"pixel\", \"plane\", \"planet\", \"planetary\", \"play\", \"player\", \"please\", \"please_respond\", \"plo\", \"plot\", \"police\", \"population\", \"population\", \"population\", \"port\", \"post\", \"post\", \"post\", \"post\", \"power_supply\", \"president\", \"press_release\", \"pretty\", \"price\", \"price\", \"price\", \"printer\", \"prior\", \"priority\", \"private\", \"probe\", \"problem\", \"problem\", \"problem\", \"problem\", \"procedure\", \"processor\", \"production\", \"program\", \"program\", \"program\", \"programmer\", \"proof\", \"propose\", \"protect\", \"protection\", \"proud\", \"prove\", \"prove\", \"prove\", \"provide\", \"provide\", \"provide\", \"province\", \"ps\", \"public\", \"public_access\", \"publish\", \"purchase\", \"purchase\", \"purdue_university\", \"put\", \"quadra\", \"question\", \"question\", \"question\", \"question\", \"qwk\", \"radio\", \"radio\", \"radio\", \"radius\", \"ralph\", \"ram\", \"rat\", \"rational\", \"reality\", \"really\", \"reason\", \"reason\", \"recommend\", \"recommendation\", \"red\", \"refer\", \"reference\", \"reference\", \"reflect\", \"related\", \"release\", \"release\", \"release\", \"religion\", \"religious\", \"remainder\", \"remember\", \"render\", \"replacement\", \"reply\", \"reply\", \"reply\", \"report\", \"report\", \"report\", \"report\", \"republic\", \"require\", \"require\", \"require\", \"requirement\", \"requirement\", \"requirement\", \"resolution\", \"resolution\", \"retract\", \"revelation\", \"review\", \"richard\", \"ride\", \"ride\", \"rider\", \"right\", \"right\", \"right\", \"river\", \"road\", \"road\", \"road\", \"robert\", \"rocket\", \"rocket\", \"roger\", \"route\", \"row\", \"rsa\", \"rule\", \"rule\", \"run\", \"run\", \"run\", \"run\", \"run\", \"run\", \"russia\", \"russia\", \"russian\", \"russian\", \"s\", \"sale\", \"sam\", \"satellite\", \"saturn\", \"saturn\", \"say\", \"say\", \"scan\", \"schneider\", \"science\", \"science\", \"science\", \"science\", \"scientific\", \"score\", \"scott\", \"screen\", \"screen\", \"script\", \"scsi\", \"sea\", \"season\", \"section\", \"section\", \"section\", \"security\", \"see\", \"see\", \"see\", \"seem\", \"seem\", \"seem\", \"self\", \"sell\", \"sell\", \"sell\", \"sell\", \"senate\", \"send\", \"send\", \"send\", \"send\", \"sens\", \"sense\", \"sense\", \"serdar_argic\", \"serial_number\", \"server\", \"session\", \"set\", \"set\", \"set\", \"set\", \"sgi\", \"shall\", \"share\", \"shop\", \"should\", \"shuttle\", \"signal\", \"simms\", \"simplistic\", \"single_turkish\", \"site\", \"sky\", \"slaughter\", \"slaughter\", \"smartdrv\", \"smith\", \"software\", \"software\", \"software\", \"solar\", \"soldier\", \"soldier\", \"something\", \"something\", \"son\", \"sony\", \"soul_sahak\", \"sound\", \"sound\", \"sound\", \"source\", \"source\", \"source\", \"soviet\", \"soviet_armenia\", \"soviet_union\", \"space\", \"space_shuttle\", \"space_station\", \"spacecraft\", \"speak\", \"speaker\", \"spec\", \"speed\", \"speed\", \"spot\", \"spring\", \"square\", \"st\", \"st\", \"st\", \"st\", \"staff\", \"star\", \"state\", \"state\", \"state\", \"state\", \"state\", \"steal\", \"steal\", \"stereo\", \"steve\", \"stick\", \"still\", \"still\", \"store\", \"store\", \"strip\", \"submission\", \"substantially\", \"suck\", \"sue\", \"super\", \"supersede\", \"support\", \"support\", \"support\", \"support\", \"support\", \"sure\", \"sure\", \"survivor\", \"sx\", \"sydney\", \"system\", \"system\", \"system\", \"system\", \"take\", \"tap\", \"tape\", \"target\", \"tavare\", \"tax\", \"team\", \"tech_support\", \"technical\", \"technology\", \"technology\", \"technology\", \"technology\", \"telescope\", \"television\", \"tell\", \"tell\", \"telnet\", \"terminal\", \"territory\", \"terrorism\", \"terrorism\", \"test\", \"test\", \"texas\", \"text\", \"text\", \"text\", \"text\", \"text\", \"thank\", \"thanx\", \"that\", \"theodore_kaldis\", \"there\", \"therefore\", \"thing\", \"thing\", \"think\", \"think\", \"ticket\", \"tim\", \"time\", \"time\", \"time\", \"tip\", \"tire\", \"today\", \"today\", \"today\", \"today\", \"tom\", \"tool\", \"topic\", \"tour\", \"toyota\", \"track\", \"track\", \"track\", \"transfer\", \"treatment\", \"trivial\", \"troop\", \"troop\", \"truck\", \"true\", \"true\", \"truth\", \"try\", \"try\", \"try\", \"turk\", \"turkey\", \"turkish\", \"type\", \"type\", \"unit\", \"united_state\", \"universe\", \"university\", \"university\", \"university\", \"unix\", \"unix\", \"upgrade\", \"usa\", \"usa\", \"use\", \"use\", \"use\", \"use\", \"use\", \"usenet\", \"user\", \"user\", \"user\", \"user\", \"utility\", \"uunet\", \"van\", \"vehicle\", \"vehicle\", \"venus\", \"version\", \"version\", \"version\", \"version\", \"video\", \"view\", \"view\", \"view\", \"view\", \"village\", \"village\", \"virginia\", \"visit\", \"vms_vnews\", \"vol\", \"vote\", \"want\", \"want\", \"war\", \"war\", \"warn\", \"warn\", \"warrant\", \"water\", \"way\", \"way\", \"way\", \"way\", \"wayne\", \"weapon\", \"weekend\", \"well\", \"well\", \"what\", \"widget\", \"will\", \"win\", \"window\", \"wing\", \"winter\", \"wire\", \"withdraw\", \"word\", \"word\", \"word\", \"word\", \"work\", \"work\", \"work\", \"work\", \"worry\", \"worth\", \"would\", \"would\", \"write\", \"write\", \"write\", \"wwii\", \"xview\", \"yale\", \"year\", \"year\", \"year\", \"year\", \"young\", \"young\"]}, \"R\": 30, \"lambda.step\": 0.01, \"plot.opts\": {\"xlab\": \"PC1\", \"ylab\": \"PC2\"}, \"topic.order\": [3, 11, 7, 19, 9, 18, 10, 16, 14, 15, 8, 6, 1, 2, 20, 13, 5, 12, 4, 17]};\n",
       "\n",
       "function LDAvis_load_lib(url, callback){\n",
       "  var s = document.createElement('script');\n",
       "  s.src = url;\n",
       "  s.async = true;\n",
       "  s.onreadystatechange = s.onload = callback;\n",
       "  s.onerror = function(){console.warn(\"failed to load library \" + url);};\n",
       "  document.getElementsByTagName(\"head\")[0].appendChild(s);\n",
       "}\n",
       "\n",
       "if(typeof(LDAvis) !== \"undefined\"){\n",
       "   // already loaded: just create the visualization\n",
       "   !function(LDAvis){\n",
       "       new LDAvis(\"#\" + \"ldavis_el422416240863788007909464758\", ldavis_el422416240863788007909464758_data);\n",
       "   }(LDAvis);\n",
       "}else if(typeof define === \"function\" && define.amd){\n",
       "   // require.js is available: use it to load d3/LDAvis\n",
       "   require.config({paths: {d3: \"https://cdnjs.cloudflare.com/ajax/libs/d3/3.5.5/d3.min\"}});\n",
       "   require([\"d3\"], function(d3){\n",
       "      window.d3 = d3;\n",
       "      LDAvis_load_lib(\"https://cdn.rawgit.com/bmabey/pyLDAvis/files/ldavis.v1.0.0.js\", function(){\n",
       "        new LDAvis(\"#\" + \"ldavis_el422416240863788007909464758\", ldavis_el422416240863788007909464758_data);\n",
       "      });\n",
       "    });\n",
       "}else{\n",
       "    // require.js not available: dynamically load d3 & LDAvis\n",
       "    LDAvis_load_lib(\"https://cdnjs.cloudflare.com/ajax/libs/d3/3.5.5/d3.min.js\", function(){\n",
       "         LDAvis_load_lib(\"https://cdn.rawgit.com/bmabey/pyLDAvis/files/ldavis.v1.0.0.js\", function(){\n",
       "                 new LDAvis(\"#\" + \"ldavis_el422416240863788007909464758\", ldavis_el422416240863788007909464758_data);\n",
       "            })\n",
       "         });\n",
       "}\n",
       "</script>"
      ],
      "text/plain": [
       "PreparedData(topic_coordinates=              x         y  topics  cluster       Freq\n",
       "topic                                                \n",
       "2     -0.365028 -0.042481       1        1  32.994648\n",
       "10    -0.290486  0.107279       2        1  14.937460\n",
       "6     -0.258536  0.209940       3        1  11.932612\n",
       "18    -0.277515 -0.172093       4        1   8.774367\n",
       "8     -0.135558 -0.101569       5        1   5.352662\n",
       "17    -0.127676 -0.020704       6        1   5.193078\n",
       "9      0.050794  0.016792       7        1   4.724923\n",
       "15    -0.062910 -0.180916       8        1   3.909982\n",
       "13     0.051748  0.159984       9        1   1.842009\n",
       "14     0.030251  0.220714      10        1   1.711363\n",
       "7      0.106603  0.007599      11        1   1.180165\n",
       "5      0.129224 -0.007934      12        1   1.104177\n",
       "0      0.120879  0.035349      13        1   1.071586\n",
       "1      0.106939 -0.093654      14        1   1.053299\n",
       "19     0.093704 -0.107670      15        1   1.044907\n",
       "12     0.168106 -0.008355      16        1   0.772132\n",
       "4      0.154134 -0.013845      17        1   0.728299\n",
       "11     0.161848 -0.009032      18        1   0.720525\n",
       "3      0.151402  0.012155      19        1   0.684872\n",
       "16     0.192077 -0.011559      20        1   0.266924, topic_info=     Category          Freq            Term         Total  loglift  logprob\n",
       "term                                                                       \n",
       "5615  Default  50327.000000              ax  50327.000000  30.0000  30.0000\n",
       "21    Default  18448.000000            line  18448.000000  29.0000  29.0000\n",
       "30    Default  16928.000000    organization  16928.000000  28.0000  28.0000\n",
       "82    Default  22603.000000             not  22603.000000  27.0000  27.0000\n",
       "1120  Default   4799.000000               _   4799.000000  26.0000  26.0000\n",
       "245   Default  14270.000000           write  14270.000000  25.0000  25.0000\n",
       "55    Default  10841.000000         article  10841.000000  24.0000  24.0000\n",
       "65    Default  14492.000000              do  14492.000000  23.0000  23.0000\n",
       "29    Default   6795.000000       nntp_post   6795.000000  22.0000  22.0000\n",
       "46    Default   6844.000000      university   6844.000000  21.0000  21.0000\n",
       "210   Default  17293.000000           would  17293.000000  20.0000  20.0000\n",
       "16    Default   6342.000000            host   6342.000000  19.0000  19.0000\n",
       "2450  Default   4027.000000             max   4027.000000  18.0000  18.0000\n",
       "50    Default   5394.000000            year   5394.000000  17.0000  17.0000\n",
       "1394  Default   2638.000000          window   2638.000000  16.0000  16.0000\n",
       "166   Default   8109.000000          people   8109.000000  15.0000  15.0000\n",
       "111   Default  11037.000000              be  11037.000000  14.0000  14.0000\n",
       "435   Default   3287.000000           drive   3287.000000  13.0000  13.0000\n",
       "401   Default   2261.000000            file   2261.000000  12.0000  12.0000\n",
       "368   Default   9094.000000             say   9094.000000  11.0000  11.0000\n",
       "241   Default   5728.000000          system   5728.000000  10.0000  10.0000\n",
       "835   Default   3200.000000             key   3200.000000   9.0000   9.0000\n",
       "134   Default  10799.000000             get  10799.000000   8.0000   8.0000\n",
       "651   Default   3665.000000             god   3665.000000   7.0000   7.0000\n",
       "916   Default   1930.000000           space   1930.000000   6.0000   6.0000\n",
       "6     Default   2110.000000             car   2110.000000   5.0000   5.0000\n",
       "377   Default   3672.000000           state   3672.000000   4.0000   4.0000\n",
       "409   Default   4078.000000           reply   4078.000000   3.0000   3.0000\n",
       "274   Default   4133.000000           right   4133.000000   2.0000   2.0000\n",
       "930   Default   2772.000000            team   2772.000000   1.0000   1.0000\n",
       "...       ...           ...             ...           ...      ...      ...\n",
       "3860  Topic20    178.681641        michigan    180.035645   5.9184  -3.1819\n",
       "1385  Topic20    148.371765         session    149.725769   5.9169  -3.3678\n",
       "2828  Topic20    122.340073       astronomy    123.694077   5.9150  -3.5607\n",
       "1375  Topic20     90.740463  implementation     92.094467   5.9112  -3.8595\n",
       "4536  Topic20     89.518845         warrant     90.872849   5.9110  -3.8731\n",
       "4477  Topic20     88.712219         approve     90.066223   5.9108  -3.8821\n",
       "2359  Topic20     75.194237           staff     76.548241   5.9081  -4.0474\n",
       "2517  Topic20     66.218010       extension     67.572014   5.9057  -4.1746\n",
       "3024  Topic20     63.611847       planetary     64.965851   5.9049  -4.2147\n",
       "3083  Topic20     61.701626       telescope     63.055630   5.9043  -4.2452\n",
       "2904  Topic20     57.465630          expire     58.819633   5.9027  -4.3163\n",
       "4529  Topic20     55.311913          senate     56.665916   5.9018  -4.3545\n",
       "3092  Topic20     50.224579            tour     51.578583   5.8994  -4.4510\n",
       "2916  Topic20     43.185375  frequently_ask     44.539379   5.8951  -4.6020\n",
       "4509  Topic20     40.357948            navy     41.711952   5.8930  -4.6697\n",
       "3006  Topic20     39.631767         orbital     40.985771   5.8924  -4.6879\n",
       "1377  Topic20     34.857803           login     36.211807   5.8879  -4.8162\n",
       "3630  Topic20     33.592319   participation     34.946323   5.8864  -4.8532\n",
       "3078  Topic20     32.970474       supersede     34.324478   5.8857  -4.8719\n",
       "2848  Topic20     29.715466         centaur     31.069468   5.8814  -4.9758\n",
       "2527  Topic20     27.444954      openwindow     28.798956   5.8778  -5.0553\n",
       "4518  Topic20     27.195019   press_release     28.549021   5.8774  -5.0645\n",
       "3077  Topic20     25.554985   substantially     26.908987   5.8743  -5.1267\n",
       "4508  Topic20     16.159405           naval     17.513407   5.8455  -5.5850\n",
       "4516  Topic20     14.086393       personnel     15.440395   5.8342  -5.7223\n",
       "2952  Topic20     13.935490       jon_leech     15.289492   5.8332  -5.7331\n",
       "1148  Topic20     13.215367          cancel     14.569369   5.8284  -5.7861\n",
       "2931  Topic20     12.313872     host_mahler     13.667874   5.8216  -5.8568\n",
       "3867  Topic20     12.172274             qwk     13.526276   5.8205  -5.8683\n",
       "4476  Topic20     12.464830        approval     33.119583   4.9487  -5.8446\n",
       "\n",
       "[910 rows x 6 columns], token_table=      Topic      Freq       Term\n",
       "term                            \n",
       "1120     16  0.999749          _\n",
       "4095     18  0.952280    academy\n",
       "1640      4  0.986599     accept\n",
       "1640      5  0.012256     accept\n",
       "103       2  0.149117     access\n",
       "103       5  0.618468     access\n",
       "103      10  0.209008     access\n",
       "103      13  0.022001     access\n",
       "1835      4  0.711285        act\n",
       "1835      5  0.263765        act\n",
       "1835     15  0.023739        act\n",
       "105       1  0.990392   actually\n",
       "105       2  0.008715   actually\n",
       "52       10  0.990530    adapter\n",
       "53        1  0.035106        add\n",
       "53        2  0.921745        add\n",
       "53        3  0.037806        add\n",
       "53       10  0.004501        add\n",
       "212       3  0.738371    address\n",
       "212       5  0.260933    address\n",
       "3954     17  0.971249     adjust\n",
       "2295     19  0.975910      admin\n",
       "106       2  0.964390    advance\n",
       "106      13  0.034473    advance\n",
       "2019      5  0.997696     agency\n",
       "3371      1  0.192737        aim\n",
       "3371      8  0.205307        aim\n",
       "3371     15  0.599160        aim\n",
       "1564     12  0.997210        air\n",
       "2707      3  0.998306  algorithm\n",
       "...     ...       ...        ...\n",
       "512       6  0.999261        win\n",
       "1394     13  0.999678     window\n",
       "945       6  0.998216       wing\n",
       "244      15  0.982054     winter\n",
       "3761      2  0.997736       wire\n",
       "2702     15  0.993934   withdraw\n",
       "1118      1  0.167716       word\n",
       "1118      2  0.059323       word\n",
       "1118      3  0.038084       word\n",
       "1118      4  0.733848       word\n",
       "560       1  0.413750       work\n",
       "560       2  0.400646       work\n",
       "560       3  0.180763       work\n",
       "560      14  0.004818       work\n",
       "1729     12  0.995338      worry\n",
       "209       1  0.997113      worth\n",
       "210       1  0.920496      would\n",
       "210       3  0.079450      would\n",
       "245       1  0.427313      write\n",
       "245       3  0.556179      write\n",
       "245       4  0.016397      write\n",
       "3766     15  0.983495       wwii\n",
       "4560     18  0.968447      xview\n",
       "2294     18  0.983990       yale\n",
       "50        1  0.376282       year\n",
       "50        2  0.070993       year\n",
       "50        6  0.548852       year\n",
       "50        8  0.003707       year\n",
       "737       4  0.369806      young\n",
       "737       6  0.628547      young\n",
       "\n",
       "[1262 rows x 3 columns], R=30, lambda_step=0.01, plot_opts={'xlab': 'PC1', 'ylab': 'PC2'}, topic_order=[3, 11, 7, 19, 9, 18, 10, 16, 14, 15, 8, 6, 1, 2, 20, 13, 5, 12, 4, 17])"
      ]
     },
     "execution_count": 30,
     "metadata": {},
     "output_type": "execute_result"
    }
   ],
   "source": [
    "# Visualize the topics\n",
    "pyLDAvis.enable_notebook()\n",
    "vis = pyLDAvis.gensim.prepare(lda_model, corpus, id2word)\n",
    "vis"
   ]
  },
  {
   "cell_type": "code",
   "execution_count": 31,
   "metadata": {},
   "outputs": [
    {
     "name": "stdout",
     "output_type": "stream",
     "text": [
      "\n",
      "Perplexity:  -14.222272845099868\n",
      "\n",
      "Coherence Score:  0.5262293975319933\n"
     ]
    }
   ],
   "source": [
    "# Compute Perplexity\n",
    "print('\\nPerplexity: ', lda_model.log_perplexity(corpus))  # a measure of how good the model is. lower the better.\n",
    "\n",
    "# Compute Coherence Score\n",
    "coherence_model_lda = CoherenceModel(model=lda_model, texts=data_lemmatized, dictionary=id2word, coherence='c_v')\n",
    "coherence_lda = coherence_model_lda.get_coherence()\n",
    "print('\\nCoherence Score: ', coherence_lda)"
   ]
  }
 ],
 "metadata": {
  "kernelspec": {
   "display_name": "Python 3",
   "language": "python",
   "name": "python3"
  },
  "language_info": {
   "codemirror_mode": {
    "name": "ipython",
    "version": 3
   },
   "file_extension": ".py",
   "mimetype": "text/x-python",
   "name": "python",
   "nbconvert_exporter": "python",
   "pygments_lexer": "ipython3",
   "version": "3.6.5"
  }
 },
 "nbformat": 4,
 "nbformat_minor": 1
}
